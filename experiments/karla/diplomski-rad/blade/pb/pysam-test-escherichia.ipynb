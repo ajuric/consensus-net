{
 "cells": [
  {
   "cell_type": "code",
   "execution_count": 21,
   "metadata": {},
   "outputs": [],
   "source": [
    "import pysam"
   ]
  },
  {
   "cell_type": "code",
   "execution_count": 22,
   "metadata": {},
   "outputs": [],
   "source": [
    "samfile = pysam.AlignmentFile('NCTC86-ref-sorted.bam', 'rb')\n",
    "contig = 'NC_000913.3'"
   ]
  },
  {
   "cell_type": "code",
   "execution_count": 23,
   "metadata": {},
   "outputs": [
    {
     "name": "stdout",
     "output_type": "stream",
     "text": [
      "41\n",
      "<pysam.libcalignedsegment.PileupColumn object at 0x7fce1c187d08>\n",
      "<class 'pysam.libcalignedsegment.PileupColumn'>\n",
      "0\n",
      "NC_000913.3\n",
      "71\n",
      "0\n",
      "[<pysam.libcalignedsegment.PileupRead object at 0x7fce1c125728>, <pysam.libcalignedsegment.PileupRead object at 0x7fce1c125638>, <pysam.libcalignedsegment.PileupRead object at 0x7fce1c1251d8>, <pysam.libcalignedsegment.PileupRead object at 0x7fce1c1257c8>, <pysam.libcalignedsegment.PileupRead object at 0x7fce1c125818>, <pysam.libcalignedsegment.PileupRead object at 0x7fce1c125868>, <pysam.libcalignedsegment.PileupRead object at 0x7fce1c1258b8>, <pysam.libcalignedsegment.PileupRead object at 0x7fce1c125908>, <pysam.libcalignedsegment.PileupRead object at 0x7fce1c125958>, <pysam.libcalignedsegment.PileupRead object at 0x7fce1c1259a8>, <pysam.libcalignedsegment.PileupRead object at 0x7fce1c1259f8>, <pysam.libcalignedsegment.PileupRead object at 0x7fce1c125a48>, <pysam.libcalignedsegment.PileupRead object at 0x7fce1c125a98>, <pysam.libcalignedsegment.PileupRead object at 0x7fce1c125ae8>, <pysam.libcalignedsegment.PileupRead object at 0x7fce1c125b38>, <pysam.libcalignedsegment.PileupRead object at 0x7fce1c125b88>, <pysam.libcalignedsegment.PileupRead object at 0x7fce1c125bd8>, <pysam.libcalignedsegment.PileupRead object at 0x7fce1c125c28>, <pysam.libcalignedsegment.PileupRead object at 0x7fce1c125c78>, <pysam.libcalignedsegment.PileupRead object at 0x7fce1c125cc8>, <pysam.libcalignedsegment.PileupRead object at 0x7fce1c125d18>, <pysam.libcalignedsegment.PileupRead object at 0x7fce1c125d68>, <pysam.libcalignedsegment.PileupRead object at 0x7fce1c125db8>, <pysam.libcalignedsegment.PileupRead object at 0x7fce1c125e08>, <pysam.libcalignedsegment.PileupRead object at 0x7fce1c125e58>, <pysam.libcalignedsegment.PileupRead object at 0x7fce1c125ea8>, <pysam.libcalignedsegment.PileupRead object at 0x7fce1c125ef8>, <pysam.libcalignedsegment.PileupRead object at 0x7fce1c125f48>, <pysam.libcalignedsegment.PileupRead object at 0x7fce1c125f98>, <pysam.libcalignedsegment.PileupRead object at 0x7fce1c129868>, <pysam.libcalignedsegment.PileupRead object at 0x7fce1c129048>, <pysam.libcalignedsegment.PileupRead object at 0x7fce1c129098>, <pysam.libcalignedsegment.PileupRead object at 0x7fce1c1290e8>, <pysam.libcalignedsegment.PileupRead object at 0x7fce1c129138>, <pysam.libcalignedsegment.PileupRead object at 0x7fce1c129188>, <pysam.libcalignedsegment.PileupRead object at 0x7fce1c1291d8>, <pysam.libcalignedsegment.PileupRead object at 0x7fce1c129228>, <pysam.libcalignedsegment.PileupRead object at 0x7fce1c129278>, <pysam.libcalignedsegment.PileupRead object at 0x7fce1c1292c8>, <pysam.libcalignedsegment.PileupRead object at 0x7fce1c129318>, <pysam.libcalignedsegment.PileupRead object at 0x7fce1c129368>, <pysam.libcalignedsegment.PileupRead object at 0x7fce1c1293b8>, <pysam.libcalignedsegment.PileupRead object at 0x7fce1c129408>, <pysam.libcalignedsegment.PileupRead object at 0x7fce1c129458>, <pysam.libcalignedsegment.PileupRead object at 0x7fce1c1294a8>, <pysam.libcalignedsegment.PileupRead object at 0x7fce1c1294f8>, <pysam.libcalignedsegment.PileupRead object at 0x7fce1c129548>, <pysam.libcalignedsegment.PileupRead object at 0x7fce1c129598>, <pysam.libcalignedsegment.PileupRead object at 0x7fce1c1295e8>, <pysam.libcalignedsegment.PileupRead object at 0x7fce1c129638>, <pysam.libcalignedsegment.PileupRead object at 0x7fce1c129688>, <pysam.libcalignedsegment.PileupRead object at 0x7fce1c1296d8>, <pysam.libcalignedsegment.PileupRead object at 0x7fce1c129728>, <pysam.libcalignedsegment.PileupRead object at 0x7fce1c129778>, <pysam.libcalignedsegment.PileupRead object at 0x7fce1c129818>, <pysam.libcalignedsegment.PileupRead object at 0x7fce1c1298b8>, <pysam.libcalignedsegment.PileupRead object at 0x7fce1c129908>, <pysam.libcalignedsegment.PileupRead object at 0x7fce1c129958>, <pysam.libcalignedsegment.PileupRead object at 0x7fce1c1299a8>, <pysam.libcalignedsegment.PileupRead object at 0x7fce1c1299f8>, <pysam.libcalignedsegment.PileupRead object at 0x7fce1c129a48>, <pysam.libcalignedsegment.PileupRead object at 0x7fce1c129a98>, <pysam.libcalignedsegment.PileupRead object at 0x7fce1c129ae8>, <pysam.libcalignedsegment.PileupRead object at 0x7fce1c129b38>, <pysam.libcalignedsegment.PileupRead object at 0x7fce1c129b88>, <pysam.libcalignedsegment.PileupRead object at 0x7fce1c129bd8>, <pysam.libcalignedsegment.PileupRead object at 0x7fce1c129c28>, <pysam.libcalignedsegment.PileupRead object at 0x7fce1c129c78>, <pysam.libcalignedsegment.PileupRead object at 0x7fce1c129cc8>, <pysam.libcalignedsegment.PileupRead object at 0x7fce1c129d18>, <pysam.libcalignedsegment.PileupRead object at 0x7fce1c129d68>]\n",
      "71\n"
     ]
    }
   ],
   "source": [
    "for pileupcolumn in samfile.pileup(contig=contig, start=100, stop=105):\n",
    "    print(len(pileupcolumn))\n",
    "    print(repr(pileupcolumn))\n",
    "    print(type(pileupcolumn))\n",
    "    pileupcolumn.set_min_base_quality(0)\n",
    "    print(pileupcolumn.reference_id)\n",
    "    print(pileupcolumn.reference_name)\n",
    "    print(pileupcolumn.nsegments)\n",
    "    print(pileupcolumn.reference_pos)\n",
    "    print(pileupcolumn.pileups)\n",
    "    print(len(pileupcolumn.pileups))\n",
    "    break"
   ]
  },
  {
   "cell_type": "code",
   "execution_count": 24,
   "metadata": {},
   "outputs": [
    {
     "name": "stdout",
     "output_type": "stream",
     "text": [
      "\n",
      "coverage at base 0 = 71\n",
      "\tbase in read m150627_070736_00127_c100802122550000001823174910081514_s1_p0/806/5918_7597 = A\n",
      "\tbase in read m150627_070736_00127_c100802122550000001823174910081514_s1_p0/3133/7170_13165 = A\n",
      "\tbase in read m150627_070736_00127_c100802122550000001823174910081514_s1_p0/7970/0_19138 = A\n",
      "\tbase in read m150627_070736_00127_c100802122550000001823174910081514_s1_p0/16022/0_16886 = A\n",
      "\tbase in read m150627_070736_00127_c100802122550000001823174910081514_s1_p0/16255/1192_16369 = A\n",
      "\tbase in read m150627_070736_00127_c100802122550000001823174910081514_s1_p0/31455/0_9905 = A\n",
      "\tbase in read m150627_070736_00127_c100802122550000001823174910081514_s1_p0/32253/673_10066 = A\n",
      "\tbase in read m150627_070736_00127_c100802122550000001823174910081514_s1_p0/37974/2384_4717 = A\n",
      "\tbase in read m150627_070736_00127_c100802122550000001823174910081514_s1_p0/37974/7130_9481 = A\n",
      "\tbase in read m150627_070736_00127_c100802122550000001823174910081514_s1_p0/37974/11886_14215 = A\n",
      "\tbase in read m150627_070736_00127_c100802122550000001823174910081514_s1_p0/37974/21225_23571 = A\n",
      "\tbase in read m150627_070736_00127_c100802122550000001823174910081514_s1_p0/41310/0_14145 = A\n",
      "\tbase in read m150627_070736_00127_c100802122550000001823174910081514_s1_p0/42706/0_20711 = A\n",
      "\tbase in read m150627_070736_00127_c100802122550000001823174910081514_s1_p0/44575/3910_7697 = A\n",
      "\tbase in read m150627_070736_00127_c100802122550000001823174910081514_s1_p0/46517/0_5828 = A\n",
      "\tbase in read m150627_070736_00127_c100802122550000001823174910081514_s1_p0/47212/5174_6031 = A\n",
      "\tbase in read m150627_070736_00127_c100802122550000001823174910081514_s1_p0/59901/1539_21333 = A\n",
      "\tbase in read m150627_070736_00127_c100802122550000001823174910081514_s1_p0/66662/5022_8947 = A\n",
      "\tbase in read m150627_070736_00127_c100802122550000001823174910081514_s1_p0/68462/430_21094 = A\n",
      "\tbase in read m150627_070736_00127_c100802122550000001823174910081514_s1_p0/77099/4343_11613 = A\n",
      "\tbase in read m150627_070736_00127_c100802122550000001823174910081514_s1_p0/92940/0_17458 = A\n",
      "\tbase in read m150627_070736_00127_c100802122550000001823174910081514_s1_p0/95483/21527_26098 = A\n",
      "\tbase in read m150627_070736_00127_c100802122550000001823174910081514_s1_p0/95483/30920_35031 = A\n",
      "\tbase in read m150627_070736_00127_c100802122550000001823174910081514_s1_p0/107234/19136_27122 = A\n",
      "\tbase in read m150627_070736_00127_c100802122550000001823174910081514_s1_p0/108306/0_13353 = A\n",
      "\tbase in read m150627_070736_00127_c100802122550000001823174910081514_s1_p0/109591/24728_29172 = A\n",
      "\tbase in read m150627_070736_00127_c100802122550000001823174910081514_s1_p0/118270/0_14803 = A\n",
      "\tbase in read m150627_070736_00127_c100802122550000001823174910081514_s1_p0/126782/8536_12706 = A\n",
      "\tbase in read m150627_070736_00127_c100802122550000001823174910081514_s1_p0/138272/7874_10711 = A\n",
      "\tbase in read m150627_070736_00127_c100802122550000001823174910081514_s1_p0/138413/0_14416 = A\n",
      "\tbase in read m150627_070736_00127_c100802122550000001823174910081514_s1_p0/153515/16617_18650 = A\n",
      "\tbase in read m150627_070736_00127_c100802122550000001823174910081514_s1_p0/154359/20591_35387 = A\n",
      "\tbase in read m150627_070736_00127_c100802122550000001823174910081514_s1_p0/1096/0_4591 = A\n",
      "\tbase in read m150627_070736_00127_c100802122550000001823174910081514_s1_p0/7825/0_10079 = A\n",
      "\tbase in read m150627_070736_00127_c100802122550000001823174910081514_s1_p0/9130/0_4938 = A\n",
      "\tbase in read m150627_070736_00127_c100802122550000001823174910081514_s1_p0/12520/0_16136 = A\n",
      "\tbase in read m150627_070736_00127_c100802122550000001823174910081514_s1_p0/14030/2450_16459 = A\n",
      "\tbase in read m150627_070736_00127_c100802122550000001823174910081514_s1_p0/25288/29394_32573 = A\n",
      "\tbase in read m150627_070736_00127_c100802122550000001823174910081514_s1_p0/34384/0_9483 = A\n",
      "\tbase in read m150627_070736_00127_c100802122550000001823174910081514_s1_p0/37974/0_2338 = A\n",
      "\tbase in read m150627_070736_00127_c100802122550000001823174910081514_s1_p0/37974/14304_16584 = A\n",
      "\tbase in read m150627_070736_00127_c100802122550000001823174910081514_s1_p0/37974/18891_21179 = A\n",
      "\tbase in read m150627_070736_00127_c100802122550000001823174910081514_s1_p0/38213/7474_14693 = A\n",
      "\tbase in read m150627_070736_00127_c100802122550000001823174910081514_s1_p0/42706/20758_24824 = A\n",
      "\tbase in read m150627_070736_00127_c100802122550000001823174910081514_s1_p0/44575/0_3866 = A\n",
      "\tbase in read m150627_070736_00127_c100802122550000001823174910081514_s1_p0/44575/7741_11493 = A\n",
      "\tbase in read m150627_070736_00127_c100802122550000001823174910081514_s1_p0/47212/3112_5125 = A\n",
      "\tbase in read m150627_070736_00127_c100802122550000001823174910081514_s1_p0/51559/16871_23351 = A\n",
      "\tbase in read m150627_070736_00127_c100802122550000001823174910081514_s1_p0/52103/23354_26576 = A\n",
      "\tbase in read m150627_070736_00127_c100802122550000001823174910081514_s1_p0/66662/2913_4964 = A\n",
      "\tbase in read m150627_070736_00127_c100802122550000001823174910081514_s1_p0/72483/0_7489 = A\n",
      "\tbase in read m150627_070736_00127_c100802122550000001823174910081514_s1_p0/75648/1808_16909 = A\n",
      "\tbase in read m150627_070736_00127_c100802122550000001823174910081514_s1_p0/83299/22592_34411 = A\n",
      "\tbase in read m150627_070736_00127_c100802122550000001823174910081514_s1_p0/83977/0_10157 = A\n",
      "\tbase in read m150627_070736_00127_c100802122550000001823174910081514_s1_p0/86658/899_16668 = A\n",
      "\tbase in read m150627_070736_00127_c100802122550000001823174910081514_s1_p0/90217/4147_21346 = A\n",
      "\tbase in read m150627_070736_00127_c100802122550000001823174910081514_s1_p0/92940/17505_26138 = A\n",
      "\tbase in read m150627_070736_00127_c100802122550000001823174910081514_s1_p0/95483/16892_21479 = A\n",
      "\tbase in read m150627_070736_00127_c100802122550000001823174910081514_s1_p0/104251/0_4856 = A\n",
      "\tbase in read m150627_070736_00127_c100802122550000001823174910081514_s1_p0/109591/17610_24682 = A\n",
      "\tbase in read m150627_070736_00127_c100802122550000001823174910081514_s1_p0/109591/29217_32020 = A\n",
      "\tbase in read m150627_070736_00127_c100802122550000001823174910081514_s1_p0/114954/168_7280 = A\n",
      "\tbase in read m150627_070736_00127_c100802122550000001823174910081514_s1_p0/120818/0_5541 = A\n",
      "\tbase in read m150627_070736_00127_c100802122550000001823174910081514_s1_p0/126782/4283_8490 = A\n",
      "\tbase in read m150627_070736_00127_c100802122550000001823174910081514_s1_p0/129382/0_12233 = A\n",
      "\tbase in read m150627_070736_00127_c100802122550000001823174910081514_s1_p0/142060/0_24123 = A\n",
      "\tbase in read m150627_070736_00127_c100802122550000001823174910081514_s1_p0/145810/0_10387 = A\n",
      "\tbase in read m150627_070736_00127_c100802122550000001823174910081514_s1_p0/151162/0_8434 = A\n",
      "\tbase in read m150627_070736_00127_c100802122550000001823174910081514_s1_p0/152883/0_7975 = A\n",
      "\tbase in read m150627_070736_00127_c100802122550000001823174910081514_s1_p0/153111/7375_28192 = A\n",
      "\tbase in read m150627_070736_00127_c100802122550000001823174910081514_s1_p0/158419/0_14769 = A\n"
     ]
    }
   ],
   "source": [
    "for pileupcolumn in samfile.pileup(contig=contig, start=100, stop=105):\n",
    "    pileupcolumn.set_min_base_quality(0)\n",
    "    print (\"\\ncoverage at base %s = %s\" % (pileupcolumn.pos, pileupcolumn.n))\n",
    "    for pileupread in pileupcolumn.pileups:\n",
    "        if not pileupread.is_del and not pileupread.is_refskip:\n",
    "            # query position is None if is_del or is_refskip is set.\n",
    "            print ('\\tbase in read %s = %s' %\n",
    "                  (pileupread.alignment.query_name,\n",
    "                   pileupread.alignment.query_sequence[pileupread.query_position]))\n",
    "    break"
   ]
  },
  {
   "cell_type": "code",
   "execution_count": 25,
   "metadata": {},
   "outputs": [
    {
     "name": "stdout",
     "output_type": "stream",
     "text": [
      "4641652\n"
     ]
    }
   ],
   "source": [
    "print(samfile.get_reference_length(contig))"
   ]
  },
  {
   "cell_type": "code",
   "execution_count": 20,
   "metadata": {},
   "outputs": [
    {
     "name": "stdout",
     "output_type": "stream",
     "text": [
      "4495563\n"
     ]
    }
   ],
   "source": [
    "bases_parsed = sum([1 for pileupcolumn in samfile.pileup(contig)])\n",
    "print(bases_parsed)"
   ]
  },
  {
   "cell_type": "code",
   "execution_count": 7,
   "metadata": {},
   "outputs": [
    {
     "name": "stdout",
     "output_type": "stream",
     "text": [
      "19256\n"
     ]
    }
   ],
   "source": [
    "bases_parsed = sum([1 for pileupcolumn in samfile.pileup(contig, start=100, stop=120)])\n",
    "print(bases_parsed)"
   ]
  },
  {
   "cell_type": "code",
   "execution_count": 8,
   "metadata": {},
   "outputs": [
    {
     "name": "stdout",
     "output_type": "stream",
     "text": [
      "4495563\n"
     ]
    }
   ],
   "source": [
    "bases_parsed = sum([1 for pileupcolumn in samfile.pileup(contig, min_base_quality=0)])\n",
    "print(bases_parsed)"
   ]
  },
  {
   "cell_type": "code",
   "execution_count": 9,
   "metadata": {},
   "outputs": [
    {
     "name": "stdout",
     "output_type": "stream",
     "text": [
      "4495563\n"
     ]
    }
   ],
   "source": [
    "bases_parsed = sum([1 for pileupcolumn in samfile.pileup(contig, min_mapping_quality=0, min_base_quality=0)])\n",
    "print(bases_parsed)"
   ]
  },
  {
   "cell_type": "code",
   "execution_count": 10,
   "metadata": {},
   "outputs": [
    {
     "name": "stdout",
     "output_type": "stream",
     "text": [
      "4495563\n"
     ]
    }
   ],
   "source": [
    "bases_parsed = sum([1 for pileupcolumn in samfile.pileup(contig, fasta_file='/home/data/pacific_biosciences/bacteria/klebsiela/pneumoniae/klebsiella_pneumoniae_reference.fasta')])\n",
    "print(bases_parsed)"
   ]
  },
  {
   "cell_type": "code",
   "execution_count": 11,
   "metadata": {},
   "outputs": [
    {
     "name": "stdout",
     "output_type": "stream",
     "text": [
      "4497316\n"
     ]
    }
   ],
   "source": [
    "bases_parsed = sum([1 for pileupcolumn in samfile.pileup(contig, stepper='nofilter')])\n",
    "print(bases_parsed)"
   ]
  },
  {
   "cell_type": "code",
   "execution_count": 12,
   "metadata": {},
   "outputs": [
    {
     "name": "stdout",
     "output_type": "stream",
     "text": [
      "diffs 146089\n",
      "gaps 38\n"
     ]
    }
   ],
   "source": [
    "i, diffs, gaps = 0, 0, 0\n",
    "for pileupcolumn in samfile.pileup(contig):\n",
    "    pileupcolumn.set_min_base_quality(0)\n",
    "#     print(i, pileupcolumn.pos)\n",
    "    if i != pileupcolumn.pos:\n",
    "        #print(i, pileupcolumn.pos)\n",
    "        gaps += 1\n",
    "        diffs += pileupcolumn.pos - i\n",
    "        i = pileupcolumn.pos + 1\n",
    "    else:\n",
    "        i += 1\n",
    "#         break\n",
    "print('diffs', diffs)\n",
    "print('gaps', gaps)"
   ]
  },
  {
   "cell_type": "code",
   "execution_count": 13,
   "metadata": {},
   "outputs": [
    {
     "name": "stdout",
     "output_type": "stream",
     "text": [
      "133\n",
      "\n",
      "coverage at base 7 = 133\n",
      "1\n",
      "0\n",
      "0\n",
      "133\n",
      "\n",
      "coverage at base 7 = 133\n",
      "1\n",
      "0\n",
      "0\n",
      "133\n",
      "\n",
      "coverage at base 7 = 133\n",
      "1\n",
      "0\n",
      "0\n"
     ]
    }
   ],
   "source": [
    "import random\n",
    "\n",
    "for pileupcolumn in samfile.pileup(contig):\n",
    "    pileupcolumn.set_min_base_quality(0)\n",
    "    #print(len(pileupcolumn.pileups))\n",
    "    #print (\"\\ncoverage at base %s = %s\" % (pileupcolumn.pos, pileupcolumn.n))\n",
    "    done = False\n",
    "    for pileupread in pileupcolumn.pileups:\n",
    "#         print(pileupread.indel)\n",
    "#         print(pileupread.is_del)\n",
    "#         print(pileupread.is_refskip)\n",
    "        if pileupread.is_del:\n",
    "            if random.randint(0, 100) % 100 == 0: continue\n",
    "            print(len(pileupcolumn.pileups))\n",
    "            print (\"\\ncoverage at base %s = %s\" % (pileupcolumn.pos, pileupcolumn.n))\n",
    "            print(pileupread.is_del)\n",
    "            print(pileupread.is_refskip)\n",
    "            print(pileupread.indel)\n",
    "            done = True\n",
    "#             break\n",
    "            if not pileupread.is_del and not pileupread.is_refskip:\n",
    "                # query position is None if is_del or is_refskip is set.\n",
    "                print ('\\tbase in read %s = %s' %\n",
    "                      (pileupread.alignment.query_name,\n",
    "                       pileupread.alignment.query_sequence[pileupread.query_position]))\n",
    "    if done: break"
   ]
  },
  {
   "cell_type": "code",
   "execution_count": 15,
   "metadata": {},
   "outputs": [
    {
     "name": "stdout",
     "output_type": "stream",
     "text": [
      "9905\n",
      "NC_000913.3\n",
      "(array('I', [2924, 135, 81, 0, 0, 6846, 0, 0, 0, 0, 341]), array('I', [195, 120, 74, 0, 0, 2, 0, 0, 0, 0, 0])) \n",
      "\n",
      "\n",
      "m150627_070736_00127_c100802122550000001823174910081514_s1_p0/31455/0_9905\t2048\t0\t0\t60\t6837H9M1I17M1D9M1I1M1I3M2I14M2I11M1D15M2I15M1D24M1D12M2I16M1I2M1I30M1D4M1D4M1D38M1I21M1I8M1I13M1D14M1D7M1D14M2I10M1I35M1D6M1I34M1D2M1D30M1D2M1D16M1D16M1D12M1D14M1D5M2D11M1I9M2I26M1I4M2D5M1I10M1D21M1I7M1I6M1D8M1I12M1I20M1I9M1D22M2D21M2D3M2I8M1I12M2I1M2I11M1D6M1I44M1I12M1D7M1I4M1I2M1I2M1I63M1I22M1I14M1I30M1D14M1I6M1I14M1D3M2I22M1D7M1I20M1D31M2I6M1D37M1D15M1D4M1D19M1I8M1I28M1D7M1D8M1D25M1I32M1D13M1I33M1I15M1I2M1I16M1I26M1I1M1I6M1D12M1I3M1I4M1I11M1I4M2I10M1D5M1I18M1D25M1I24M1I8M1I14M1D6M1D19M1I6M1I4M1I4M1I12M1I13M1D18M1D16M1I11M1D17M1D4M1D57M1I15M1I77M1D72M1I14M1D22M1I6M1D15M1D6M1D15M1I9M1D2M1I16M1I6M1I12M1I7M1D2M1I44M1I3M1I19M1I20M1D16M1I26M1D30M1D9M1I4M2D44M1I4M1I5M1I35M1D40M2D5M2I8M1D2M2I34M1I3M1I14M1I30M1I23M1D11M1I2M1I10M1I26M1I12M1D8M1D9M1I4M1I6M1D26M1I12M1I4M2I1M1I3M1I4M1I35M1D45M1D7M1I16M1I34M1I30M1I5M1I11M1D12M1I21M1I7M1I6M1D6M1I10M1I12M1I37M1I32M2D23M1I19M1I14M1I9M1D11M1I7M1I5M9H\t-1\t-1\t3059\tAGCTTTTCATTTCTGACTGCAACGGGCATATGTCTCATAGAGACTAGAGTATAAAGAGATAGAATCTGATACACTTTCTGAACTGGTTTTACCTGCCGTGAGTAATTAAAATTTTATTGACTTAGGTACTAAATACTTTAAAACCAATATAGGCATAGGCGGCACAGACAGATAAAAATTACAGAGTAAACACATCATGAACGCATTAGCACCACCATTACGACCACCATCACCATTAACCACAGGTAACGGTGCGGGCTTGACGCGTAACAGGAAACACAGAAAAAGCCCGCACCGACAGTGGGGCTTTTTTTTTCTGGACCAAAGGTCAACGAGGTAACAACCATGCGAGTGTTGAAGTTCGGGGTACATTCAAGGGCAAATGCAGAACGTTTTCTGCGTGTTGCGTATTCTGGAAAGCAATGCCAGGCAGGTGGAGTGCGACCGTCCTCTCTGCCCCGCCAAAATCACCACCACTTGGTGGGATGATTGAAAAAACATTAGGCCAGGATGCTTTTACCCAAACTATCAGCGATGCGAAACGTATTTTTGCCCGATTTTGAACGGGACTCGCGCCGCCCAGCCGGGGTTCCCAGCTGGCGCCAATTGAAACTTTCGGTCGATCAGGAATTTTGCCCAAATAAAACATGTCCCTGCATGGATTAGTTTGTTGGGGCAGTGCCGATAGCATCAACGCTGCGCTGTTGACCCGTGGCGAAGAAAATGTCGACTTGGCGCCATTATGGCGGCGTGTTTAGAAGCGCGTGGTCACAACGTTACAGTTATCGATCCGGTCGAAAAAACTGCTGGTGTGGGGCCATTAACGCTGCGAATCTACCGTCGATATTGCTGAGTCCACCCGCCGTATTGCGGCAAGCCGCATTCCGGCTGATTCACATGGTGTTGATGGCAGGTCTTCACCGCCCGTAATTGAAAAAGGCGAACTGGTGGGCCTTGGACGTACGGTTTCGACTATCTCCCCGTGCGGTGCTGGCTGCTGTTTTTACGCGCCGATTGTTGCGAGTTTGGACGGGACGTTGACGGGGTCTATACTGCGACCCGCGTCAGGTGCCCGATGCGAGGGTTTGTTGAGTCGATGTCCTTACAGGAAGCGATGGAGCTTTCCTATTCGGCGCTAAAGTTTTCACCCCGCACCATTACGCCCATTCGCCCAGTTTCCAGATCCCTTGGCTGATTAAAAATACGGAAATCTCAAGCACAGGTACGCTCATTGGCGCCAGCCGTTGATGAAGACGAATTACCAGTCAAGGGCATTTCAATCTGAATATCAATGGCAATGTTTAGCGTTTCCGGTCCGGGAATGAAAAGGGAGGGTCGGCAATGGGCGGCGCGGGTCTTTGGCAGCGATGTCACGCGCTCGCATTTCACAGTGGTGTGATTACGCAATCCGTCCTTCTTGAATACAGTATTCAGTTTTTCTGCGTTCACAACAGCGACTGTGTGCGAGCTAACGGGCGATGCAGGAAGAGTTCTATCTTGAAACTGAAGGAAGGCTTGCTCGGAGCCGCTTGGCGGTGACGGAAGGCTAGCATTATCTCGGTGGTAGGTGGATGGTAATGCGGCACACTTGCGTGGGATGCTCGGCGAAATTCTTGCCGCGCTGGCCCGCGCAATATCAACATTGTCAGCCATTGCTCAGGATCTTCTGAACTCTCATCTTGTCGTGGTAAATAACGATGCTGCGACCACTGGTGTGCGCGTTACTCATCAGATGCTGGTTCAATACCGATCATGGTTATCGAAGTGTTTGTAATTGGTGTCGGTGGCGTTGGGGTTGCGCTGCTGGAGCAACTGAAGCGTCAGCAAAGCTGTTGAAGAATAAACATATCGCCTTACGTGTCTGCGGCGTTGCCAACTCAAAGGCTCTGCTCACCAATGTGCATTGGCCTTAATCTGGAGACTGGCAGGAAGAACTGTCGCCAAGCCACGAGCCGTTAACTCCGGGCGTTAATTCGCCTGGTGAAAAGAATATATGTTGCTGAATCCGGTGATTTGTCGCACTGTACCTCCACGCCAGGCGTGGGCGGATCAGTATGCTGACTTCCTGCGCGAAGGTTTCCACGTGGTTTAGTGCCAAACAAAAAGGCCAAGCACCTCGTCGATGGATTACTCCATCAGTTGCGTTATGGCGCGGGAAAAATCGCGGCGTACCTTCTCTATGACACTAACGTTGGGGCTGGATTACGGTTATTGAAGAATGCAAAATCTGCTCAACGCAGGTGATGAATTAATGCGTTTCTCCGGGCATTTCTTGTCCGGTTCGCTTTCTTATATCTTCGGCAAGTTAGAGAAGGCATGAGTTTCTCCGAGGCGACCACGCTGGCGCGGGATGGGGTTTATAACGACGGCGGACCCGCGAGATGATCTTTCTGGTATGATTGTGGGCGGCGTAAGCTATTGATTTCTCGCCCGTGAAACGGGACGTGAACTGGAAACTGGCGGATATTGAAATTGAACTGTGCTGCCCGGCAAGAGTTTAACGGCAGAGGGTGATGTTGCAGCTTTTATGGGCGAATCTGTCCAGCTCGAGATCTCTTTGGCCGACGCGTGGGCGAAAGCTCGTGATGAGGGCAAAGTTTTTGCGCTATGTTTGGTTCAAATAATTGAATGAAGATGGCATCTTGCGCGTGAAGATTGCCGAATGGATGGCAATGATCCGCTGTTCAAAGTGAAAAATGGCGAAAACGCCTGGCCTTTCTATAGCCACTATTAATCAGCCGCTGCCGTTGGTTCTGCGCGGATATGGCGGCGGGCAATGACGTTACAGCTGCTGGTGTCCTTTGCCCGATCTGCTAGTACCCTCTCATGGGAAGTTAGGAGTCTGACATGTGTTAAAGTTTTATGGCCGGCTTTCCAGTGCCAAATATGAGCGTCGGGGTTGGATGTGCTCGGGGCGGCGGTGACACCTGTTGCATGGTGCATTGCTCGGAGATGTAGTAACGGTTGGCGGCAGAGACATTCAGTCTCAGACACTCTCGGACGCTTTGCGCGATAAGCTGCCATGCAGAACCACGGAAAATATCGTTTTATCAGGTGCT\tarray('B', [9, 13, 13, 5, 10, 7, 13, 11, 12, 11, 2, 8, 13, 13, 13, 8, 14, 14, 13, 13, 8, 13, 14, 8, 9, 7, 14, 9, 12, 14, 14, 12, 13, 3, 10, 2, 1, 3, 5, 4, 3, 3, 5, 3, 7, 2, 4, 3, 6, 3, 2, 2, 2, 1, 2, 4, 3, 7, 7, 8, 7, 6, 2, 4, 13, 13, 12, 14, 11, 14, 11, 13, 8, 4, 5, 8, 5, 11, 13, 13, 5, 11, 8, 8, 5, 13, 12, 10, 5, 13, 13, 7, 7, 9, 13, 10, 14, 8, 14, 6, 14, 14, 14, 8, 10, 11, 14, 12, 11, 8, 13, 14, 11, 9, 13, 13, 13, 13, 8, 13, 13, 11, 14, 12, 13, 13, 13, 13, 13, 8, 10, 8, 12, 14, 13, 10, 7, 9, 13, 5, 10, 7, 10, 11, 13, 3, 12, 12, 11, 10, 13, 9, 10, 13, 13, 13, 10, 10, 4, 11, 12, 2, 11, 13, 13, 13, 14, 13, 13, 12, 14, 14, 9, 11, 8, 6, 7, 12, 9, 13, 12, 5, 13, 7, 12, 13, 13, 2, 10, 6, 14, 5, 12, 13, 13, 12, 7, 8, 3, 5, 6, 13, 12, 13, 14, 13, 6, 12, 13, 14, 11, 8, 13, 13, 9, 14, 12, 13, 13, 11, 10, 2, 2, 5, 8, 9, 6, 11, 13, 13, 1, 13, 13, 2, 12, 7, 14, 9, 13, 12, 5, 7, 9, 13, 14, 12, 12, 8, 1, 14, 13, 14, 14, 13, 14, 12, 10, 5, 13, 7, 7, 11, 14, 14, 13, 14, 14, 12, 8, 14, 10, 14, 14, 13, 11, 8, 14, 14, 9, 8, 14, 14, 11, 11, 5, 8, 13, 13, 7, 10, 13, 12, 1, 13, 7, 12, 4, 11, 12, 12, 13, 12, 8, 9, 12, 10, 13, 12, 10, 6, 5, 4, 8, 9, 8, 12, 12, 7, 11, 10, 9, 5, 14, 13, 7, 8, 13, 13, 13, 1, 9, 14, 14, 13, 13, 8, 14, 14, 3, 14, 14, 6, 14, 5, 13, 14, 4, 9, 14, 13, 8, 14, 14, 13, 11, 13, 13, 6, 14, 14, 9, 12, 3, 10, 11, 7, 10, 12, 10, 12, 6, 7, 9, 9, 3, 11, 7, 6, 9, 14, 4, 9, 14, 13, 10, 12, 13, 13, 10, 14, 3, 14, 13, 11, 8, 14, 14, 13, 9, 11, 8, 13, 7, 12, 11, 12, 14, 7, 10, 13, 3, 13, 8, 5, 12, 6, 5, 8, 13, 13, 13, 8, 14, 14, 13, 2, 12, 14, 13, 8, 13, 13, 13, 12, 2, 11, 8, 9, 12, 14, 13, 13, 5, 13, 11, 13, 12, 14, 6, 12, 14, 8, 14, 11, 14, 10, 7, 8, 10, 7, 6, 9, 13, 9, 11, 8, 13, 14, 12, 13, 11, 5, 7, 12, 9, 12, 10, 5, 12, 12, 13, 14, 10, 11, 7, 14, 14, 14, 13, 13, 11, 14, 12, 7, 7, 11, 2, 14, 11, 5, 13, 14, 13, 13, 8, 6, 13, 13, 14, 12, 14, 14, 14, 13, 1, 8, 5, 13, 6, 7, 9, 9, 7, 4, 2, 6, 12, 9, 14, 14, 13, 13, 13, 6, 12, 14, 13, 12, 6, 10, 2, 13, 13, 13, 12, 10, 7, 8, 13, 8, 11, 7, 2, 6, 6, 7, 5, 4, 5, 5, 11, 9, 2, 9, 12, 6, 11, 8, 2, 5, 8, 6, 10, 12, 3, 6, 11, 6, 3, 11, 8, 13, 13, 10, 13, 6, 7, 6, 11, 10, 14, 5, 11, 13, 14, 14, 13, 13, 13, 13, 5, 13, 12, 2, 8, 13, 13, 13, 12, 6, 2, 8, 3, 4, 6, 14, 12, 11, 12, 14, 13, 14, 14, 6, 12, 13, 6, 9, 9, 13, 14, 12, 4, 13, 13, 8, 12, 8, 11, 9, 5, 13, 9, 11, 6, 14, 8, 14, 14, 14, 14, 4, 10, 13, 14, 14, 13, 14, 14, 13, 13, 14, 13, 4, 12, 13, 11, 10, 8, 14, 12, 12, 9, 10, 11, 10, 12, 10, 5, 9, 4, 10, 7, 14, 14, 14, 12, 8, 14, 13, 5, 13, 7, 14, 8, 14, 8, 14, 14, 12, 14, 13, 7, 13, 5, 10, 12, 3, 5, 6, 11, 5, 14, 13, 10, 7, 13, 3, 12, 14, 11, 14, 5, 12, 13, 12, 14, 6, 12, 5, 2, 3, 10, 7, 10, 12, 13, 6, 11, 12, 7, 11, 5, 14, 12, 8, 8, 13, 11, 14, 13, 12, 12, 8, 9, 12, 7, 14, 8, 13, 11, 12, 13, 13, 12, 14, 12, 14, 14, 14, 12, 11, 12, 6, 14, 13, 12, 14, 13, 10, 5, 14, 12, 14, 14, 14, 14, 12, 8, 6, 10, 11, 11, 13, 14, 13, 12, 3, 11, 7, 11, 8, 14, 13, 11, 14, 14, 14, 10, 13, 13, 9, 12, 10, 9, 11, 10, 5, 8, 9, 5, 11, 2, 10, 6, 2, 2, 4, 2, 12, 6, 8, 12, 12, 10, 13, 12, 5, 13, 13, 14, 14, 7, 4, 14, 14, 9, 8, 13, 10, 14, 13, 13, 8, 14, 6, 13, 8, 5, 11, 13, 13, 10, 13, 13, 13, 11, 6, 12, 10, 13, 14, 11, 12, 9, 13, 14, 11, 12, 13, 13, 13, 10, 13, 9, 13, 12, 12, 14, 13, 12, 11, 5, 14, 12, 12, 14, 12, 8, 12, 13, 11, 14, 13, 13, 14, 14, 13, 12, 11, 14, 14, 13, 14, 14, 2, 12, 14, 14, 12, 11, 13, 10, 5, 2, 14, 8, 13, 8, 12, 12, 5, 9, 3, 6, 9, 4, 9, 11, 8, 13, 11, 9, 14, 12, 9, 11, 10, 10, 9, 9, 7, 2, 4, 13, 12, 12, 13, 13, 4, 13, 14, 5, 5, 13, 12, 14, 4, 11, 13, 14, 11, 11, 13, 10, 2, 0, 2, 0, 0, 0, 10, 12, 13, 12, 13, 13, 11, 14, 13, 10, 11, 13, 12, 11, 10, 14, 6, 14, 14, 13, 10, 10, 9, 13, 12, 8, 8, 13, 13, 9, 12, 13, 13, 4, 13, 13, 7, 12, 12, 8, 12, 11, 12, 7, 12, 9, 9, 13, 11, 14, 11, 10, 12, 12, 14, 14, 7, 11, 14, 14, 12, 11, 10, 6, 11, 12, 2, 13, 12, 9, 11, 5, 9, 8, 14, 14, 13, 6, 11, 12, 13, 2, 13, 13, 14, 14, 13, 14, 8, 9, 7, 1, 10, 14, 14, 14, 13, 8, 13, 13, 11, 6, 12, 9, 2, 12, 13, 12, 9, 13, 2, 8, 3, 12, 11, 13, 13, 12, 11, 3, 9, 11, 9, 10, 8, 13, 13, 13, 9, 14, 14, 11, 13, 14, 13, 12, 12, 13, 14, 13, 12, 2, 12, 8, 11, 13, 12, 13, 14, 1, 14, 11, 14, 13, 14, 14, 11, 9, 12, 9, 13, 9, 2, 13, 4, 13, 6, 7, 8, 12, 13, 12, 5, 11, 13, 8, 12, 14, 12, 12, 3, 6, 6, 10, 5, 9, 12, 13, 7, 9, 2, 12, 13, 14, 13, 5, 13, 10, 13, 10, 14, 8, 14, 9, 5, 12, 13, 12, 11, 8, 8, 13, 14, 11, 12, 14, 12, 12, 6, 8, 7, 14, 11, 7, 4, 10, 11, 8, 12, 14, 13, 11, 14, 9, 10, 13, 13, 12, 7, 7, 13, 13, 13, 12, 12, 13, 12, 14, 14, 14, 10, 13, 13, 11, 12, 10, 3, 2, 12, 14, 7, 13, 13, 3, 13, 14, 14, 11, 14, 9, 13, 7, 9, 12, 11, 8, 12, 13, 13, 13, 10, 14, 10, 14, 13, 14, 7, 7, 11, 8, 10, 14, 14, 13, 9, 14, 9, 6, 7, 13, 6, 13, 14, 2, 13, 11, 8, 6, 13, 7, 13, 14, 13, 4, 13, 3, 13, 14, 13, 12, 8, 4, 13, 13, 8, 13, 13, 7, 12, 10, 14, 12, 12, 13, 11, 6, 10, 11, 12, 9, 12, 14, 13, 9, 9, 8, 13, 2, 9, 7, 10, 6, 6, 13, 14, 13, 13, 11, 11, 11, 8, 13, 6, 12, 10, 13, 8, 11, 14, 9, 12, 12, 4, 12, 13, 13, 13, 10, 10, 12, 7, 14, 13, 13, 3, 12, 12, 14, 8, 14, 9, 11, 13, 11, 11, 13, 13, 7, 13, 7, 14, 14, 13, 10, 14, 13, 12, 6, 13, 13, 10, 12, 8, 14, 14, 14, 12, 13, 13, 14, 6, 12, 13, 14, 9, 14, 12, 3, 2, 13, 14, 8, 13, 12, 13, 7, 13, 9, 12, 9, 14, 13, 14, 14, 14, 14, 13, 8, 4, 13, 6, 13, 13, 6, 2, 7, 8, 14, 13, 14, 14, 13, 14, 12, 14, 14, 13, 13, 11, 11, 1, 14, 14, 9, 12, 13, 6, 13, 8, 13, 8, 14, 13, 14, 13, 13, 14, 12, 14, 9, 13, 14, 11, 12, 10, 12, 13, 8, 14, 13, 12, 13, 12, 12, 6, 14, 13, 14, 13, 8, 14, 13, 10, 13, 5, 12, 13, 13, 14, 10, 4, 13, 13, 14, 14, 9, 14, 13, 12, 9, 10, 10, 10, 14, 13, 13, 9, 11, 14, 1, 12, 11, 10, 13, 11, 6, 13, 13, 12, 12, 9, 11, 13, 12, 14, 14, 14, 14, 8, 11, 13, 10, 11, 7, 12, 12, 13, 12, 12, 14, 5, 7, 8, 13, 13, 11, 14, 10, 8, 13, 14, 12, 14, 8, 12, 3, 13, 14, 12, 10, 14, 12, 9, 12, 13, 2, 8, 14, 13, 13, 14, 2, 10, 14, 12, 12, 10, 5, 6, 13, 14, 13, 13, 10, 11, 13, 11, 8, 2, 6, 13, 14, 12, 11, 14, 14, 8, 4, 14, 9, 14, 13, 13, 12, 13, 10, 14, 11, 3, 13, 12, 12, 13, 11, 7, 7, 8, 13, 9, 12, 14, 8, 14, 13, 14, 14, 14, 8, 14, 10, 11, 11, 10, 12, 13, 9, 13, 13, 11, 14, 12, 13, 13, 13, 9, 10, 13, 13, 13, 9, 12, 7, 10, 11, 14, 8, 10, 14, 9, 14, 7, 1, 7, 14, 14, 8, 12, 13, 13, 13, 13, 13, 11, 14, 14, 13, 12, 14, 4, 4, 5, 11, 4, 14, 12, 14, 13, 11, 13, 3, 8, 10, 1, 13, 3, 10, 6, 11, 7, 14, 13, 7, 14, 14, 14, 12, 10, 13, 14, 14, 12, 13, 14, 12, 14, 13, 14, 7, 1, 13, 14, 11, 14, 14, 13, 10, 4, 13, 10, 9, 10, 8, 13, 13, 13, 8, 11, 11, 11, 12, 14, 13, 3, 7, 13, 12, 14, 8, 14, 13, 14, 8, 10, 11, 14, 14, 13, 12, 6, 13, 14, 9, 14, 14, 13, 13, 14, 9, 14, 14, 14, 11, 14, 13, 13, 10, 12, 12, 12, 7, 10, 9, 10, 13, 7, 13, 10, 12, 14, 14, 14, 11, 12, 14, 6, 7, 10, 13, 13, 4, 13, 14, 8, 10, 9, 12, 13, 13, 13, 14, 5, 14, 14, 14, 9, 9, 13, 11, 13, 12, 14, 13, 12, 14, 9, 13, 10, 8, 14, 14, 12, 5, 12, 6, 14, 14, 13, 14, 12, 9, 12, 1, 13, 13, 12, 14, 14, 13, 12, 13, 12, 10, 9, 14, 12, 5, 6, 13, 7, 12, 13, 10, 14, 8, 5, 13, 14, 12, 5, 7, 6, 13, 8, 12, 14, 14, 7, 12, 12, 13, 13, 8, 4, 14, 7, 14, 14, 14, 14, 13, 14, 10, 13, 8, 13, 11, 9, 14, 13, 13, 10, 14, 14, 13, 14, 13, 12, 12, 12, 12, 7, 14, 12, 6, 13, 8, 13, 13, 10, 12, 14, 9, 11, 13, 14, 12, 14, 13, 13, 6, 13, 9, 13, 13, 10, 13, 6, 2, 10, 9, 12, 11, 2, 12, 12, 10, 8, 14, 12, 14, 12, 1, 11, 7, 10, 12, 14, 12, 13, 11, 7, 12, 13, 12, 13, 11, 7, 8, 12, 9, 8, 14, 11, 9, 4, 13, 14, 5, 13, 12, 14, 14, 3, 14, 2, 8, 12, 12, 13, 14, 14, 9, 14, 7, 6, 10, 10, 14, 14, 14, 14, 14, 4, 9, 11, 13, 13, 13, 2, 6, 8, 14, 14, 14, 10, 8, 13, 8, 8, 13, 11, 7, 13, 11, 14, 11, 5, 10, 13, 13, 13, 2, 12, 5, 14, 8, 13, 12, 13, 13, 12, 14, 14, 14, 14, 14, 13, 13, 14, 13, 8, 12, 13, 6, 12, 14, 13, 13, 13, 13, 12, 4, 13, 10, 14, 13, 8, 14, 9, 10, 13, 3, 14, 14, 7, 14, 7, 10, 13, 13, 13, 5, 11, 5, 6, 9, 8, 8, 12, 10, 11, 10, 8, 13, 14, 11, 9, 8, 8, 9, 2, 14, 8, 10, 7, 13, 10, 13, 11, 14, 9, 13, 9, 13, 13, 10, 12, 6, 8, 7, 13, 6, 13, 12, 12, 5, 9, 14, 12, 13, 13, 14, 14, 11, 13, 12, 7, 13, 11, 14, 11, 14, 4, 7, 13, 9, 13, 7, 8, 12, 14, 10, 12, 14, 14, 8, 10, 13, 14, 12, 2, 5, 11, 13, 10, 14, 11, 14, 12, 14, 14, 14, 13, 11, 10, 14, 9, 13, 14, 14, 13, 12, 10, 9, 11, 10, 13, 14, 13, 13, 14, 13, 11, 14, 13, 13, 14, 12, 14, 13, 14, 7, 14, 8, 12, 8, 8, 11, 8, 12, 9, 3, 11, 8, 13, 12, 14, 11, 12, 5, 13, 9, 9, 8, 14, 13, 13, 14, 13, 14, 13, 8, 14, 14, 14, 8, 11, 13, 14, 9, 12, 9, 13, 11, 14, 6, 7, 10, 10, 14, 4, 8, 7, 9, 9, 13, 12, 14, 4, 14, 12, 13, 10, 4, 14, 11, 8, 12, 13, 7, 14, 9, 14, 13, 14, 6, 14, 13, 12, 13, 8, 11, 13, 14, 3, 7, 14, 13, 12, 10, 14, 9, 14, 5, 11, 7, 14, 13, 14, 14, 6, 14, 6, 12, 10, 14, 10, 14, 13, 11, 13, 7, 9, 12, 13, 6, 13, 7, 12, 13, 11, 8, 13, 13, 11, 12, 7, 13, 13, 13, 10, 13, 11, 14, 12, 12, 11, 11, 10, 4, 13, 10, 10, 5, 3, 12, 10, 14, 13, 14, 10, 7, 10, 14, 11, 5, 2, 2, 13, 11, 12, 13, 7, 7, 12, 8, 12, 13, 2, 14, 13, 6, 14, 14, 11, 7, 13, 9, 13, 12, 10, 11, 12, 13, 5, 13, 8, 11, 5, 7, 13, 14, 11, 12, 10, 14, 14, 2, 14, 14, 11, 10, 13, 13, 7, 13, 14, 13, 13, 12, 7, 13, 4, 10, 12, 10, 13, 12, 7, 2, 10, 12, 13, 7, 11, 6, 13, 14, 12, 7, 12, 13, 12, 14, 13, 12, 9, 14, 14, 14, 13, 12, 11, 9, 12, 7, 14, 13, 11, 13, 13, 13, 14, 14, 8, 13, 13, 14, 10, 8, 14, 13, 11, 13, 9, 14, 5, 14, 13, 14, 10, 14, 14, 10, 8, 11, 9, 6, 11, 7, 2, 14, 14, 10, 14, 12, 10, 14, 9, 12, 12, 13, 7, 5, 14, 14, 13, 11, 12, 13, 14, 14, 14, 14, 14, 13, 13, 12, 12, 9, 5, 5, 13, 11, 9, 13, 7, 14, 10, 9, 5, 8, 10, 7, 7, 11, 14, 14, 13, 13, 8, 7, 14, 14, 13, 14, 9, 14, 13, 12, 12, 6, 12, 13, 13, 13, 10, 12, 12, 7, 9, 13, 13, 13, 13, 12, 14, 14, 14, 10, 9, 4, 12, 14, 3, 7, 11, 7, 5, 11, 2, 9, 14, 14, 14, 14, 14, 13, 11, 12, 7, 13, 11, 9, 13, 13, 12, 3, 8, 9, 13, 13, 12, 12, 14, 14, 14, 14, 14, 13, 9, 12, 12, 8, 3, 12, 13, 7, 8, 13, 14, 6, 14, 13, 13, 14, 9, 13, 14, 14, 8, 13, 14, 13, 14, 9, 11, 14, 13, 13, 7, 10, 10, 13, 9, 12, 13, 14, 13, 13, 3, 12, 14, 14, 8, 13, 12, 8, 2, 9, 9, 12, 6, 11, 12, 13, 14, 2, 11, 4, 8, 14, 14, 12, 11, 14, 7, 9, 14, 14, 14, 13, 11, 14, 12, 8, 12, 6, 13, 13, 13, 4, 9, 11, 5, 13, 13, 8, 10, 14, 13, 6, 3, 6, 13, 8, 5, 9, 11, 14, 13, 7, 10, 1, 11, 3, 13, 10, 13, 8, 14, 12, 13, 10, 8, 13, 11, 14, 13, 13, 12, 9, 5, 12, 7, 8, 10, 6, 8, 13, 14, 13, 13, 10, 14, 14, 13, 12, 13, 14, 12, 14, 14, 14, 13, 14, 7, 14, 13, 13, 12, 2, 5, 14, 13, 11, 14, 14, 3, 14, 10, 11, 6, 6, 4, 13, 14, 13, 14, 2, 14, 13, 14, 13, 13, 12, 7, 14, 14, 13, 13, 14, 13, 14, 11, 13, 14, 11, 8, 13, 10, 8, 11, 8, 1, 5, 13, 14, 14, 14, 14, 13, 13, 12, 14, 14, 13, 14, 10, 6, 12, 13, 12, 14, 13, 14, 13, 4, 2, 13, 9, 14, 13, 11, 13, 14, 13, 12, 13, 12, 14, 13, 7, 14, 14, 14, 14, 13, 14, 3, 13, 5, 14, 12, 10, 10, 14, 12, 2, 3, 5, 14, 14, 14, 4, 11, 14, 14, 7, 4, 9, 8, 13, 9, 14, 13, 13, 14, 13, 11, 13, 4, 8, 14, 14, 14, 14, 14, 14, 13, 14, 13, 11, 10, 11, 10, 9, 12, 9, 6, 12, 11, 14, 12, 13, 13, 14, 13, 11, 12, 9, 7, 7, 9, 13, 13, 11, 14, 13, 12, 14, 14, 12, 2, 14, 11, 10, 14, 14, 12, 13, 14, 1, 13, 8, 11, 13, 7, 12, 13, 12, 10, 3, 1, 7, 12, 13, 12, 12, 10, 14, 14, 14, 14, 9, 13, 14, 13, 2, 12, 14, 13, 12, 12, 11, 13, 4, 11, 13, 8, 13, 13, 13, 13, 14, 13, 14, 14, 13, 12, 13, 14, 14, 14, 10, 14, 5, 13, 10, 13, 13, 13, 8, 12, 6, 13, 14, 12, 13, 12, 13, 13, 13, 13, 10, 13, 13, 12, 7, 11, 13, 14, 9, 10, 14, 14, 14, 14, 13, 9, 13, 13, 14, 2, 14, 14, 14, 8, 14, 11, 14, 14, 13, 13, 12, 12, 12, 6, 11, 14, 14, 14, 7, 13, 12, 3, 5, 13, 12, 14, 13, 13, 7, 13, 11, 12, 13, 5])\t[('NM', 341), ('ms', 3890), ('AS', 3890), ('nn', 0), ('tp', 'P'), ('cm', 82), ('s1', 1106), ('s2', 0), ('dv', 0.0625), ('SA', 'NC_000913.3,4635071,+,19S6582M236I3068S,60,735;')]\n"
     ]
    }
   ],
   "source": [
    "reads = pysam.AlignmentFile('NCTC86-asm-sorted.bam', 'rb')\n",
    "for i, read in enumerate(reads.fetch(contig)):\n",
    "    if i == 5:\n",
    "        print(read.infer_read_length())\n",
    "        print(read.reference_name)\n",
    "        print(read.get_cigar_stats(), '\\n\\n')\n",
    "        print(read)    \n",
    "        break"
   ]
  },
  {
   "cell_type": "code",
   "execution_count": null,
   "metadata": {},
   "outputs": [],
   "source": [
    "CATGGCGACCGCCATCTGCGGCGCCAACACGGCATTGACAGT"
   ]
  }
 ],
 "metadata": {
  "kernelspec": {
   "display_name": "Python 3",
   "language": "python",
   "name": "python3"
  },
  "language_info": {
   "codemirror_mode": {
    "name": "ipython",
    "version": 3
   },
   "file_extension": ".py",
   "mimetype": "text/x-python",
   "name": "python",
   "nbconvert_exporter": "python",
   "pygments_lexer": "ipython3",
   "version": "3.5.2"
  }
 },
 "nbformat": 4,
 "nbformat_minor": 2
}

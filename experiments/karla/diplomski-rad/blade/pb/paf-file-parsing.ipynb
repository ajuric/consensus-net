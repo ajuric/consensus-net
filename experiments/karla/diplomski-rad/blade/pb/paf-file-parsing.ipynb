{
 "cells": [
  {
   "cell_type": "code",
   "execution_count": 1,
   "metadata": {},
   "outputs": [],
   "source": [
    "covered_positions = {'+': set(), '-': set()}\n",
    "\n",
    "with open('ultimate-test.paf', 'r') as f:\n",
    "    for line in f.readlines():\n",
    "        line_args = line.split()\n",
    "        strand, start_on_target, end_on_target = line_args[4], int(line_args[7]), int(line_args[8])\n",
    "        assert start_on_target < end_on_target\n",
    "        for pos in range(start_on_target, end_on_target+1):\n",
    "            covered_positions[strand].add(pos)"
   ]
  },
  {
   "cell_type": "code",
   "execution_count": 2,
   "metadata": {},
   "outputs": [
    {
     "name": "stdout",
     "output_type": "stream",
     "text": [
      "4936096\n",
      "4913700\n"
     ]
    }
   ],
   "source": [
    "print(len(covered_positions['+']))\n",
    "print(len(covered_positions['-']))"
   ]
  },
  {
   "cell_type": "code",
   "execution_count": 3,
   "metadata": {},
   "outputs": [],
   "source": [
    "s1 = covered_positions['+']\n",
    "s2 = covered_positions['-']"
   ]
  },
  {
   "cell_type": "code",
   "execution_count": 4,
   "metadata": {},
   "outputs": [
    {
     "name": "stdout",
     "output_type": "stream",
     "text": [
      "4937602\n"
     ]
    }
   ],
   "source": [
    "s = s1.union(s2)\n",
    "print(len(s))"
   ]
  },
  {
   "cell_type": "code",
   "execution_count": 5,
   "metadata": {},
   "outputs": [],
   "source": [
    "covered_positions = {'+': set(), '-': set()}\n",
    "\n",
    "with open('ultimate-test-mm1.paf', 'r') as f:\n",
    "    for line in f.readlines():\n",
    "        line_args = line.split()\n",
    "        strand, start_on_target, end_on_target = line_args[4], int(line_args[7]), int(line_args[8])\n",
    "        assert start_on_target < end_on_target\n",
    "        for pos in range(start_on_target, end_on_target+1):\n",
    "            covered_positions[strand].add(pos)"
   ]
  },
  {
   "cell_type": "code",
   "execution_count": 6,
   "metadata": {},
   "outputs": [
    {
     "name": "stdout",
     "output_type": "stream",
     "text": [
      "4851858\n",
      "4863875\n"
     ]
    }
   ],
   "source": [
    "print(len(covered_positions['+']))\n",
    "print(len(covered_positions['-']))"
   ]
  },
  {
   "cell_type": "code",
   "execution_count": 7,
   "metadata": {},
   "outputs": [],
   "source": [
    "s1 = covered_positions['+']\n",
    "s2 = covered_positions['-']"
   ]
  },
  {
   "cell_type": "code",
   "execution_count": 8,
   "metadata": {},
   "outputs": [
    {
     "name": "stdout",
     "output_type": "stream",
     "text": [
      "4868548\n"
     ]
    }
   ],
   "source": [
    "s = s1.union(s2)\n",
    "print(len(s))"
   ]
  },
  {
   "cell_type": "code",
   "execution_count": null,
   "metadata": {},
   "outputs": [],
   "source": []
  }
 ],
 "metadata": {
  "kernelspec": {
   "display_name": "Python 3",
   "language": "python",
   "name": "python3"
  },
  "language_info": {
   "codemirror_mode": {
    "name": "ipython",
    "version": 3
   },
   "file_extension": ".py",
   "mimetype": "text/x-python",
   "name": "python",
   "nbconvert_exporter": "python",
   "pygments_lexer": "ipython3",
   "version": "3.5.2"
  }
 },
 "nbformat": 4,
 "nbformat_minor": 2
}

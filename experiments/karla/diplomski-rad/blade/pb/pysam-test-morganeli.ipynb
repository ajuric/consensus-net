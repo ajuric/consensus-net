{
 "cells": [
  {
   "cell_type": "code",
   "execution_count": 1,
   "metadata": {},
   "outputs": [],
   "source": [
    "import pysam"
   ]
  },
  {
   "cell_type": "code",
   "execution_count": 2,
   "metadata": {},
   "outputs": [],
   "source": [
    "samfile = pysam.AlignmentFile('minimap2-sorted.bam', 'rb')"
   ]
  },
  {
   "cell_type": "code",
   "execution_count": 11,
   "metadata": {},
   "outputs": [
    {
     "name": "stdout",
     "output_type": "stream",
     "text": [
      "18\n",
      "<pysam.libcalignedsegment.PileupColumn object at 0x7f0dfc121ca8>\n",
      "<class 'pysam.libcalignedsegment.PileupColumn'>\n",
      "0\n",
      "NC_020418.1\n",
      "45\n",
      "0\n",
      "[<pysam.libcalignedsegment.PileupRead object at 0x7f0dfc0615e8>, <pysam.libcalignedsegment.PileupRead object at 0x7f0dfc061638>, <pysam.libcalignedsegment.PileupRead object at 0x7f0dfc061688>, <pysam.libcalignedsegment.PileupRead object at 0x7f0dfc0616d8>, <pysam.libcalignedsegment.PileupRead object at 0x7f0dfc061728>, <pysam.libcalignedsegment.PileupRead object at 0x7f0dfc061778>, <pysam.libcalignedsegment.PileupRead object at 0x7f0dfc0617c8>, <pysam.libcalignedsegment.PileupRead object at 0x7f0dfc061818>, <pysam.libcalignedsegment.PileupRead object at 0x7f0dfc061868>, <pysam.libcalignedsegment.PileupRead object at 0x7f0dfc0618b8>, <pysam.libcalignedsegment.PileupRead object at 0x7f0dfc061908>, <pysam.libcalignedsegment.PileupRead object at 0x7f0dfc061958>, <pysam.libcalignedsegment.PileupRead object at 0x7f0dfc0619a8>, <pysam.libcalignedsegment.PileupRead object at 0x7f0dfc0619f8>, <pysam.libcalignedsegment.PileupRead object at 0x7f0dfc061a48>, <pysam.libcalignedsegment.PileupRead object at 0x7f0dfc061a98>, <pysam.libcalignedsegment.PileupRead object at 0x7f0dfc061ae8>, <pysam.libcalignedsegment.PileupRead object at 0x7f0dfc061b38>, <pysam.libcalignedsegment.PileupRead object at 0x7f0dfc061b88>, <pysam.libcalignedsegment.PileupRead object at 0x7f0dfc061bd8>, <pysam.libcalignedsegment.PileupRead object at 0x7f0dfc061c28>, <pysam.libcalignedsegment.PileupRead object at 0x7f0dfc061c78>, <pysam.libcalignedsegment.PileupRead object at 0x7f0dfc061cc8>, <pysam.libcalignedsegment.PileupRead object at 0x7f0dfc061d18>, <pysam.libcalignedsegment.PileupRead object at 0x7f0dfc061d68>, <pysam.libcalignedsegment.PileupRead object at 0x7f0dfc061db8>, <pysam.libcalignedsegment.PileupRead object at 0x7f0dfc061e08>, <pysam.libcalignedsegment.PileupRead object at 0x7f0dfc061e58>, <pysam.libcalignedsegment.PileupRead object at 0x7f0dfc061ea8>, <pysam.libcalignedsegment.PileupRead object at 0x7f0dfc061ef8>, <pysam.libcalignedsegment.PileupRead object at 0x7f0dfc061f48>, <pysam.libcalignedsegment.PileupRead object at 0x7f0dfc061f98>, <pysam.libcalignedsegment.PileupRead object at 0x7f0dfc06a048>, <pysam.libcalignedsegment.PileupRead object at 0x7f0dfc06a098>, <pysam.libcalignedsegment.PileupRead object at 0x7f0dfc06a0e8>, <pysam.libcalignedsegment.PileupRead object at 0x7f0dfc06a138>, <pysam.libcalignedsegment.PileupRead object at 0x7f0dfc06a188>, <pysam.libcalignedsegment.PileupRead object at 0x7f0dfc06a1d8>, <pysam.libcalignedsegment.PileupRead object at 0x7f0dfc06a228>, <pysam.libcalignedsegment.PileupRead object at 0x7f0dfc06a278>, <pysam.libcalignedsegment.PileupRead object at 0x7f0dfc06a2c8>, <pysam.libcalignedsegment.PileupRead object at 0x7f0dfc06a318>, <pysam.libcalignedsegment.PileupRead object at 0x7f0dfc06a368>, <pysam.libcalignedsegment.PileupRead object at 0x7f0dfc06a3b8>, <pysam.libcalignedsegment.PileupRead object at 0x7f0dfc06a408>]\n",
      "45\n"
     ]
    }
   ],
   "source": [
    "for pileupcolumn in samfile.pileup('NC_020418.1', start=100, stop=105):\n",
    "    print(len(pileupcolumn))\n",
    "    print(repr(pileupcolumn))\n",
    "    print(type(pileupcolumn))\n",
    "    pileupcolumn.set_min_base_quality(0)\n",
    "    print(pileupcolumn.reference_id)\n",
    "    print(pileupcolumn.reference_name)\n",
    "    print(pileupcolumn.nsegments)\n",
    "    print(pileupcolumn.reference_pos)\n",
    "    print(pileupcolumn.pileups)\n",
    "    print(len(pileupcolumn.pileups))\n",
    "    break"
   ]
  },
  {
   "cell_type": "code",
   "execution_count": 15,
   "metadata": {},
   "outputs": [
    {
     "name": "stdout",
     "output_type": "stream",
     "text": [
      "\n",
      "coverage at base 0 = 45\n",
      "45\n",
      "\tbase in read m140823_025048_00127_c100658602550000001823129311271453_s1_p0/43584/3208_4549 = C\n",
      "\tbase in read m140823_025048_00127_c100658602550000001823129311271453_s1_p0/46268/2692_5556 = C\n",
      "\tbase in read m140823_025048_00127_c100658602550000001823129311271453_s1_p0/46268/8604_11605 = C\n",
      "\tbase in read m140823_025048_00127_c100658602550000001823129311271453_s1_p0/62547/0_1665 = C\n",
      "\tbase in read m140823_025048_00127_c100658602550000001823129311271453_s1_p0/101593/0_17028 = C\n",
      "\tbase in read m140823_025048_00127_c100658602550000001823129311271453_s1_p0/121673/0_13233 = C\n",
      "\tbase in read m140823_025048_00127_c100658602550000001823129311271453_s1_p0/124191/2697_6671 = C\n",
      "\tbase in read m140823_025048_00127_c100658602550000001823129311271453_s1_p0/129893/5401_9577 = C\n",
      "\tbase in read m140823_025048_00127_c100658602550000001823129311271453_s1_p0/146904/3961_4927 = C\n",
      "\tbase in read m140915_151438_00127_c100668232550000001823128512201440_s1_p0/10736/256_3126 = C\n",
      "\tbase in read m140915_151438_00127_c100668232550000001823128512201440_s1_p0/80514/0_13883 = C\n",
      "\tbase in read m140915_151438_00127_c100668232550000001823128512201440_s1_p0/87918/0_7360 = C\n",
      "\tbase in read m140915_151438_00127_c100668232550000001823128512201440_s1_p0/89233/1672_7176 = C\n",
      "\tbase in read m140915_151438_00127_c100668232550000001823128512201440_s1_p0/93559/0_897 = C\n",
      "\tbase in read m140915_151438_00127_c100668232550000001823128512201440_s1_p0/98625/0_2804 = C\n",
      "\tbase in read m140915_151438_00127_c100668232550000001823128512201440_s1_p0/107956/0_16033 = C\n",
      "\tbase in read m140915_151438_00127_c100668232550000001823128512201440_s1_p0/115018/0_10128 = C\n",
      "\tbase in read m140915_151438_00127_c100668232550000001823128512201440_s1_p0/123520/0_12940 = C\n",
      "\tbase in read m140915_151438_00127_c100668232550000001823128512201440_s1_p0/135951/0_950 = C\n",
      "\tbase in read m140915_151438_00127_c100668232550000001823128512201440_s1_p0/141830/494_4581 = C\n",
      "\tbase in read m140915_151438_00127_c100668232550000001823128512201440_s1_p0/150566/3460_7333 = C\n",
      "\tbase in read m140915_151438_00127_c100668232550000001823128512201440_s1_p0/152150/436_3763 = C\n",
      "\tbase in read m140915_151438_00127_c100668232550000001823128512201440_s1_p0/154902/1361_10533 = C\n",
      "\tbase in read m140915_151438_00127_c100668232550000001823128512201440_s1_p0/162616/3379_15061 = C\n",
      "\tbase in read m140823_025048_00127_c100658602550000001823129311271453_s1_p0/7557/0_4400 = C\n",
      "\tbase in read m140823_025048_00127_c100658602550000001823129311271453_s1_p0/12720/0_13341 = C\n",
      "\tbase in read m140823_025048_00127_c100658602550000001823129311271453_s1_p0/23744/0_3348 = C\n",
      "\tbase in read m140823_025048_00127_c100658602550000001823129311271453_s1_p0/37390/9025_12491 = C\n",
      "\tbase in read m140823_025048_00127_c100658602550000001823129311271453_s1_p0/46268/5605_8552 = C\n",
      "\tbase in read m140823_025048_00127_c100658602550000001823129311271453_s1_p0/59098/1001_3080 = C\n",
      "\tbase in read m140823_025048_00127_c100658602550000001823129311271453_s1_p0/85462/0_2898 = C\n",
      "\tbase in read m140823_025048_00127_c100658602550000001823129311271453_s1_p0/92685/0_2799 = C\n",
      "\tbase in read m140823_025048_00127_c100658602550000001823129311271453_s1_p0/130510/6246_10461 = C\n",
      "\tbase in read m140823_025048_00127_c100658602550000001823129311271453_s1_p0/136029/0_15132 = C\n",
      "\tbase in read m140915_151438_00127_c100668232550000001823128512201440_s1_p0/59834/9516_19361 = C\n",
      "\tbase in read m140915_151438_00127_c100668232550000001823128512201440_s1_p0/81312/11451_20490 = C\n",
      "\tbase in read m140915_151438_00127_c100668232550000001823128512201440_s1_p0/114746/1960_3322 = C\n",
      "\tbase in read m140915_151438_00127_c100668232550000001823128512201440_s1_p0/124187/0_9165 = C\n",
      "\tbase in read m140915_151438_00127_c100668232550000001823128512201440_s1_p0/125895/1680_8166 = C\n",
      "\tbase in read m140915_151438_00127_c100668232550000001823128512201440_s1_p0/135109/0_1450 = C\n",
      "\tbase in read m140915_151438_00127_c100668232550000001823128512201440_s1_p0/144497/645_3797 = C\n",
      "\tbase in read m140915_151438_00127_c100668232550000001823128512201440_s1_p0/152151/0_3883 = C\n",
      "\tbase in read m140915_151438_00127_c100668232550000001823128512201440_s1_p0/154004/0_1446 = C\n",
      "\tbase in read m140915_151438_00127_c100668232550000001823128512201440_s1_p0/154996/0_3619 = C\n",
      "\tbase in read m140915_151438_00127_c100668232550000001823128512201440_s1_p0/158351/0_3443 = C\n"
     ]
    }
   ],
   "source": [
    "for pileupcolumn in samfile.pileup('NC_020418.1', start=100, stop=105):\n",
    "    pileupcolumn.set_min_base_quality(0)\n",
    "    print (\"\\ncoverage at base %s = %s\" % (pileupcolumn.pos, pileupcolumn.n))\n",
    "    for pileupread in pileupcolumn.pileups:\n",
    "        if not pileupread.is_del and not pileupread.is_refskip:\n",
    "            # query position is None if is_del or is_refskip is set.\n",
    "            print ('\\tbase in read %s = %s' %\n",
    "                  (pileupread.alignment.query_name,\n",
    "                   pileupread.alignment.query_sequence[pileupread.query_position]))\n",
    "    break"
   ]
  },
  {
   "cell_type": "code",
   "execution_count": 21,
   "metadata": {},
   "outputs": [
    {
     "name": "stdout",
     "output_type": "stream",
     "text": [
      "3799539\n"
     ]
    }
   ],
   "source": [
    "print(samfile.get_reference_length('NC_020418.1'))"
   ]
  },
  {
   "cell_type": "code",
   "execution_count": 25,
   "metadata": {},
   "outputs": [
    {
     "name": "stdout",
     "output_type": "stream",
     "text": [
      "3591729\n"
     ]
    }
   ],
   "source": [
    "bases_parsed = sum([1 for pileupcolumn in samfile.pileup('NC_020418.1')])\n",
    "print(bases_parsed)"
   ]
  },
  {
   "cell_type": "code",
   "execution_count": 26,
   "metadata": {},
   "outputs": [
    {
     "name": "stdout",
     "output_type": "stream",
     "text": [
      "13511\n"
     ]
    }
   ],
   "source": [
    "bases_parsed = sum([1 for pileupcolumn in samfile.pileup('NC_020418.1', start=100, stop=120)])\n",
    "print(bases_parsed)"
   ]
  },
  {
   "cell_type": "code",
   "execution_count": 30,
   "metadata": {},
   "outputs": [
    {
     "name": "stdout",
     "output_type": "stream",
     "text": [
      "3591729\n"
     ]
    }
   ],
   "source": [
    "bases_parsed = sum([1 for pileupcolumn in samfile.pileup('NC_020418.1', min_base_quality=0)])\n",
    "print(bases_parsed)"
   ]
  },
  {
   "cell_type": "code",
   "execution_count": 31,
   "metadata": {},
   "outputs": [
    {
     "name": "stdout",
     "output_type": "stream",
     "text": [
      "3591729\n"
     ]
    }
   ],
   "source": [
    "bases_parsed = sum([1 for pileupcolumn in samfile.pileup('NC_020418.1', min_mapping_quality=0)])\n",
    "print(bases_parsed)"
   ]
  },
  {
   "cell_type": "code",
   "execution_count": 32,
   "metadata": {},
   "outputs": [
    {
     "name": "stdout",
     "output_type": "stream",
     "text": [
      "3591729\n"
     ]
    }
   ],
   "source": [
    "bases_parsed = sum([1 for pileupcolumn in samfile.pileup('NC_020418.1', fasta_file='/home/data/pacific_biosciences/bacteria/morganella/morgani/morganella_morganii_reference.fasta')])\n",
    "print(bases_parsed)"
   ]
  },
  {
   "cell_type": "code",
   "execution_count": 34,
   "metadata": {},
   "outputs": [
    {
     "name": "stdout",
     "output_type": "stream",
     "text": [
      "3592963\n"
     ]
    }
   ],
   "source": [
    "bases_parsed = sum([1 for pileupcolumn in samfile.pileup('NC_020418.1', stepper='nofilter')])\n",
    "print(bases_parsed)"
   ]
  },
  {
   "cell_type": "code",
   "execution_count": 5,
   "metadata": {},
   "outputs": [
    {
     "name": "stdout",
     "output_type": "stream",
     "text": [
      "diffs 207810\n",
      "gaps 35\n"
     ]
    }
   ],
   "source": [
    "i, diffs, gaps = 0, 0, 0\n",
    "for pileupcolumn in samfile.pileup('NC_020418.1'):\n",
    "    pileupcolumn.set_min_base_quality(0)\n",
    "#     print(i, pileupcolumn.pos)\n",
    "    if i != pileupcolumn.pos:\n",
    "        #print(i, pileupcolumn.pos)\n",
    "        gaps += 1\n",
    "        diffs += pileupcolumn.pos - i\n",
    "        i = pileupcolumn.pos + 1\n",
    "    else:\n",
    "        i += 1\n",
    "#         break\n",
    "print('diffs', diffs)\n",
    "print('gaps', gaps)"
   ]
  },
  {
   "cell_type": "code",
   "execution_count": 3,
   "metadata": {},
   "outputs": [
    {
     "name": "stdout",
     "output_type": "stream",
     "text": [
      "66\n",
      "\n",
      "coverage at base 7 = 66\n",
      "1\n",
      "0\n",
      "0\n",
      "66\n",
      "\n",
      "coverage at base 7 = 66\n",
      "1\n",
      "0\n",
      "0\n"
     ]
    }
   ],
   "source": [
    "import random\n",
    "\n",
    "for pileupcolumn in samfile.pileup('NC_020418.1'):\n",
    "    pileupcolumn.set_min_base_quality(0)\n",
    "    #print(len(pileupcolumn.pileups))\n",
    "    #print (\"\\ncoverage at base %s = %s\" % (pileupcolumn.pos, pileupcolumn.n))\n",
    "    done = False\n",
    "    for pileupread in pileupcolumn.pileups:\n",
    "#         print(pileupread.indel)\n",
    "#         print(pileupread.is_del)\n",
    "#         print(pileupread.is_refskip)\n",
    "        if pileupread.is_del:\n",
    "            if random.randint(0, 100) % 100 == 0: continue\n",
    "            print(len(pileupcolumn.pileups))\n",
    "            print (\"\\ncoverage at base %s = %s\" % (pileupcolumn.pos, pileupcolumn.n))\n",
    "            print(pileupread.is_del)\n",
    "            print(pileupread.is_refskip)\n",
    "            print(pileupread.indel)\n",
    "            done = True\n",
    "#             break\n",
    "            if not pileupread.is_del and not pileupread.is_refskip:\n",
    "                # query position is None if is_del or is_refskip is set.\n",
    "                print ('\\tbase in read %s = %s' %\n",
    "                      (pileupread.alignment.query_name,\n",
    "                       pileupread.alignment.query_sequence[pileupread.query_position]))\n",
    "    if done: break"
   ]
  },
  {
   "cell_type": "code",
   "execution_count": 95,
   "metadata": {},
   "outputs": [
    {
     "name": "stdout",
     "output_type": "stream",
     "text": [
      "13233\n",
      "NC_020418.1\n",
      "(array('I', [5681, 182, 434, 0, 0, 7370, 0, 0, 0, 0, 784]), array('I', [542, 161, 380, 0, 0, 2, 0, 0, 0, 0, 0])) \n",
      "\n",
      "\n",
      "m140823_025048_00127_c100658602550000001823129311271453_s1_p0/121673/0_13233\t2048\t0\t0\t60\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\t-1\t-1\t5863\tCATGGCGACCGCCATCTGCGGCGCCAACACGGCATTGACAGTTTGATGCTGACAGTATCGCATTGATAAATCATACAAATAAATCGATTTTTACGCCCCGTATGCCCGCCGCTGGCACAGTTCAGACAGGAGTATGGCCGCGACGAACAGGATGATGTCATGAGTCAGCAACTGTACCTTCCAGCTTGAACAAAACGATCCGAACCATCGAAGAACCTGGGGAATCGGCCTGATCCGCCTCTCCCGCAGACCAAAAAAACCGCCGAACTGTCTTTGTCTGTGGTGCCGCTAATATCGCATCTCGGCGGTCTACGGCGCGATATTGTGTCGTTCGGCGTCCTTCTTTTCAGCGTTTTACGGCAGTGTTGGGTCGCCTCATTTATTTGTAGGGGGATCACCAGTATCGCCGTAAACGGCCGGACCACCAACCCTCCCACCTTTCCCGCGCCAGCTTCGCCAAAAAGCGGTAATATCGCGCCGCGGCTTTCTGCGTTTAACCTGAGGCCTGGGAAGCGGTGAATATCATCACCGGCACCCTACCCTGGCGCCCGGTCACCGCCATCGGGCGGCCCAGCGGACACCGAGACCGCTATCGCGCTGATCTGTTCGGCGACCTGACGTGCTGGTCAGTATTCCTCGGGCAAACACCGTTTTGCTGATGCAGAAAGGATCACGCAGTATGTTCGGGGCGAGACCCGTTTGTCGCCTCCGGCTCTTGCGACCGCAGACTGGCAGGCCGCTGAGCAGCCGTCCTTCCGGTAACTGGATCACCGGTTCCTGCCGCGGTTCCCATACGTGCCGCCGGAACCGGGAGTCAGCCTGGCCGATTGCCGGGCAGATTACAGCCGTGACCAAGCCCGTCCCATCCCGACCAGCCGTATTTTCGCTCAGTGGTCCCCGGCGGCCGCACGCCGCTGTACTCTGATCCTGCCGTATTCTGCTGAACGCCGGCAACGCCGATCTGGCAGCGGAAGAGAACCCCCATTGCCGCAATCGGCGCTGCTGCCGTCCCTGGATGGCGGGCCGTATCTGGCCGCCGGTGGCAGGATGTCACTATCGCCGTCTCAAGCCTCCTTATTCCGCCATCTCACCTGCTGAGCATGGGCCCATGTCAAACTCCAAACCAGCGCACCGCCGTTGCTCTTGATGGCTATGTGCTGGCGATCGCTATTTATGTTCATGTTTGTTCCGGTATCCCTCGGCCGTGTATTTCATCCTGGTGTTCTGCGGATTGTTCCTCCGCATCCTGGCGGCCGATTTTATCACCGGATTACTAACTGCAAACACAAAACCGCCGGGTTCAGACGAAGTTTCCTCTACGGGCGACACCGGGTATCGGCCGAGCCTCCTGTGCTGGCTCCGGCGGCTCTGCCGGCTGCGGCACCAACACCGGCTTTATTAACGACCGTGTTGCCACCCCGGGGTTGAGAATCCAGTCGGGCTGGTGTCTCCTTCACTGTGACATGGCGGCGACCCGCAGACACTGATGATAAAAACCGGCACGGAGTAAACGGAACCTGGATGATTACATACTGACACCCACAGCGCCGGTCGTGTTACGGCGCGGCTTGCGGCGGATGGATGCTGAAGTGAATGGCACTGCCGCACAGCCGGGTGATATCAGCGGCCCTGCCCGCTCGGGCAGCAGAGTCGCGCTGCCCTTTAATGTCGCCGCGCGCTGAGCCGTCTCGGTATTACACCGTCCAATGGCATTCCCGCCGGAAACGCATGGGAAACAGTCCACCGCCGCGATGAAAAGGAAATCTGCCGGTTCTGCCTGCGCCATCCCCGACGCACGATAACGCTGGGCGTGCGCTGGTGGAGAAAGCCAACGAACGCACATTCATCACCAATCGAAGGCTGTGAGCAGCACTGAGTGACGCGCTGCTCGCACAAAATTCCCGTACCGGACAAATGCCTGATTATGTCTCCGTTACGAACGGTCAGTCCGGAAAGCCGCCGCTGCGCAATCGTGCGCTGCACAGAGTGCGGATAAACCCTTTTGCGGATTTCGTCCGCGTCTGCGGGAGCATTGATCCGACTTTATTGAAAAGCGCTGGGAAAAAACCGCTGTGACCGCCAACCGTGATGAGCTGGCACAGCCGCAATCCGCAAGGGCGGAAAAGCAGTCTGAATTACAAGACAGACAGCACAGGCGTTGCCGACAGCTACGGCCTGCCGCTGATCGCCCCGCTTGATAAAAGAAGGCGCTGTGGTGTGCCAGCCGACAACAGCCGGTCAAATCCCGGTCGGGTAACAAAGTGCCGGTACCGATACCATTGCGCCGGAGACCCATGTGCCCCGGTGTTCTCGCCGGACTGGCCTGCGGACAACCGCTCACGAGCCGTACGACCGGTAATGCGGTGGCGGCCCATTGTGGCAGCCGCCCGGCTCTGAACGCGCCCCCACCCGCTCTGACATGAAGTGAGTTTTTACATCACCACCTCTGAAACACCGCCCGTTCCCGACAGCGATGTTTCACTAGCCCCGGGATTTCCGGGGGGTTTCTTTCAGGTAACTGATCGATACCAGCAGATCATCGATTTTTTCAATCACTTCCGCGGCGGCATCTTCCATGTGCCGACAAATGCAGTTCTTCATCCATGAAGTGAGCCCCTTCGCCGGGCGTCCAAGCCGCAGCGCCCGGAAAATTACCAAGCCCCGGTGCGCCTTTCCAGTTTCCGTAAGGCACATGGCCGTAAACCGCCTGCCTTCGTCCGCGTAATACCATTGCCCCGAGACGGCACTGTTGTGGTATAACCGAAAATCAACGTTCCGTCCAGCGGCGGCGGTAAGATACCCCTTTCCAGATAACATGAATCCAGTTGCGTATTGAAAATTGCTTGCACCGCACAAACCGAGAGTCGCCTCCATTCCGCGAAGAAATGGGACATACTCTGGAAGCGTTCGTCCTCTGAACCGCAATATTCGGATACAGCTCAACCAGCTCGTATCTTCCCGCATCCGTATAAATCGAGTTGGCATGTGATTTATTTTGCCGTAAACGTGATATGAGTGGCCTCGTCTGAATTGTCCCGGATAATGTTTTTTTCCCGGAAGAGACCGAAAACCCGCCCAAACCGGCGCCGACATGAACTCAACGCGTGAGTCTAACCCGCCAGCAGGTTCGTCTGGTTGGCCAGTCGTCGATATTATTAATGTCTGATAATCTTGCCCAGACGAGATCAGCTTTTGTGTGTAATCAGCCCTTTATCCGCGGCCACTGATACATCCAGCACACTGCACAACGCCTGCATGTAGCGGCGTGTTCACTGTTATCAGCGCGATTTCAGTCCCAAGTGCCCTGCCTCCCCGGGCAACCGGTGCCGGATCCAGCAGAGAATTGCGATAATTCTATCACCGCCATACCCTCCAGCAAATCCGGCCACAGAATTCACCGTGAACGCACGCTGTTCATCACTGTCGCCATCACCGGCTCGCCGTTGCCGGTTCCGGAAAAACCGCCGCACTTCCGGGGATGCGGACTGTTCTTTGCAGAAAAAACCATTTTTTCAATTAGATTCAGCATGTTAATCCGTAAGAACAGATAACACAACTCAGGAAATAGCGCAGATTGCCGCCGGGGACACATTAAACGTCGGCGGAGAAAAGGAGCTTTAATGCAGACGGCGATGATAAAACGGCAGCGATTTAAAACCCGGTGCCGAGAAGTGAAAACAGAATGTTACAGGAAGCCGAGGAACAGCATACCGACAAGCGCCCCGGTGGTTCCCAGGATGGTTTCCATCAGTGTCCAGGTCTTCAGGGTCTGTGCTTCGGTGCACCGTAAATTTACCGAACAGCAGAAACCGGATCGTTACGTGGCTCAGCACAAATAGAGCCGCCCGCGATACAAACAGACAGAGCCGCCAGCCTGTGCGCCGGAAAGCCCAGTTAACCGATAACCGCAGTACCAGACGGAACGTGGTCGACAGGCAACGGTTGCAAGCCCTGGATCACACGGACGGCCGGCCAGAGAGGACAAAACAGGCAGCCAGCAACGCACCCGCACCAATCAGTGGATTCACCCCAGTGCCGGACCTACGCCGAATCCACCAGCCACCTGTTGAAACACACGCCGGCACCGGTCCACCAGCAGGAATAATCCCCGGCTGCTAATACGCCAGCCAGAACAGATTTCCATGACTTTATTGCGGCTCATGCCACGGCGGATTGCGCAGGCCGTAAATCGACACCAGACAGGCCAATCAGGAGTCGCCAGGAGACGGGGGTCCGATAAACACCACCAGGCGTCAGTTTGATCCGGATCCACCATCGGCGCGAGCATGTTTCAGAACCGAACCCAGCACCAGCGGAACAGTACCAGCCCGGCTAGGCCAACGATGGCATCTTGGTTGTTCCGAGAGCCGGTTCAGTCAGGTCTTCCGCCAGCCCAGGGTGACAAACTTACTGATAATTATCCGAACAGGGTCCGCCAGGATCCCATACCCGGGATCTGCCGACACAGCCCGATCAGGATCAATCCAGCCGAATCTGCATTCATCTGTCGCCAGCAGCATCGGTCGGTCCGGCAGCAGAAGCAGGCAGCCCCGCCACACCGCAAACAGCGGATAGCCAGGCGCCCACGTAGCGGCCGGTACGACGGCAACCGAGCGAAACCACACCGATCCACAGGACAATCGCCACTCAAAGAACCAGCGCAAGCGCAGATAACCCGCGATCCCCCAGCGCGTAATGCCCCGTTTTTGCACCGAAGGAATCATAGTTTCACAGCTATCTGGCGAAGGCCCGGTTTCATGCAGGATTTGCCGAACATCGCCGAGCGCGACACTATCGCAGGAAACCGACCGTGCCGCCCATGCCGTTCTGCAGGTCTGGTGATCGCTCCAGCGGCCATGCGGAAAACAGCCCCGCGCCGAAGCCACAATCATCAGTGCCAGACGACGCATCAGCCGCGCCACCATCACCGGGCAACAGCAGCAGTAAACCGGCCCGCGGCGGTAACACCAGGTTTAATGTTTCTGACTGACCTCCGGAAACCCTGTCGAAACTGACCGCGCCCGCGATCACATCCCAAGCGGCCGGCTGAAGTCCAGCACCTGACATCCTGCTCTGCGGCAGGTGTCCGGTGCCTTCTAAGTGCAAACGTGGATCCAGCATTCCGTAAAATCCCTTGGCGGCTTTCAGCGCTTCGATCAAGCCAAAAACCCCTTTTAAGCCAGAAATGACAGGTTTTTATCCGGCGCAGATATCGCGTAGCTTTTTTTTCACGCGAACAGACATCACCGAAAGCTCATGCCGCTGCAGTAGCAAAAAAATCGCGATCGTTGAATGCTTTCAGGCCACGTTCACGATCGGCATTTCATCCGGTGCCCGCCCATTTTCGATATTGCACGATCAGGTAACCCCGGTCCAGAAAGGCCGCATTCAAGCCGGTAGCAACACCCGTTGCCCACAGCGAGTTCCCCACCCGAAACCCCATTCAAAACAAAGGCTATTGGTTTTTTGGGCTATCACCATAACAATTCCCTCTATGCGGTCATTATACCGATATTACCGGAACTATTCGGTAACATACCAAGCGATATGTAGCAATGCAACAAACACTGTTTCGGATAACAAATTGGACATTATCCAAATGAAACCTTCACCAGGAAGGCCGAGCCCGTGAAATACCTCCCCGTAATAATTCGAAGCCGACATCCACTACAGCGAGCGGCAGTTTTCCCGCGCAGAACTGCCAGCAGCACTCTTGCAGCACGCGGGGCCATCCAGACACGGTGGAGACACTCGCCAAAGGTCGGGGCATCACGAACCCGACATTCAGGCCGTGAAACCCGCAACCAGCCAATCCTGCGGAAACGGACCCGAGCCGACCACTCAAAAACAGCACCGAAGCAAG\tarray('B', [13, 15, 12, 11, 9, 14, 14, 14, 7, 14, 11, 11, 12, 13, 10, 13, 6, 14, 14, 14, 10, 13, 12, 6, 12, 11, 14, 14, 14, 13, 3, 9, 14, 13, 12, 13, 13, 13, 14, 5, 13, 14, 8, 8, 13, 15, 15, 13, 13, 13, 14, 9, 12, 14, 10, 11, 15, 14, 14, 14, 14, 14, 14, 13, 13, 9, 10, 13, 10, 12, 14, 14, 14, 13, 13, 11, 13, 10, 14, 15, 13, 4, 14, 10, 14, 14, 15, 2, 11, 12, 11, 11, 11, 14, 12, 2, 6, 10, 14, 12, 14, 13, 11, 14, 7, 7, 14, 13, 10, 14, 11, 14, 5, 5, 11, 14, 14, 12, 14, 15, 11, 13, 15, 13, 14, 14, 12, 13, 13, 11, 14, 14, 9, 14, 13, 2, 2, 10, 13, 13, 14, 12, 14, 12, 14, 11, 14, 13, 13, 14, 8, 13, 10, 14, 15, 12, 14, 12, 12, 14, 13, 14, 15, 13, 8, 12, 3, 9, 14, 11, 15, 13, 11, 13, 14, 15, 11, 14, 12, 14, 9, 12, 13, 13, 14, 13, 11, 10, 11, 14, 13, 2, 7, 7, 14, 6, 14, 13, 12, 8, 5, 8, 9, 3, 2, 7, 14, 14, 13, 13, 12, 14, 13, 11, 14, 6, 10, 9, 11, 10, 9, 12, 10, 13, 14, 11, 13, 9, 8, 15, 14, 13, 11, 11, 7, 5, 12, 7, 13, 14, 4, 11, 5, 6, 13, 12, 8, 15, 14, 14, 10, 13, 7, 10, 11, 11, 11, 10, 14, 8, 15, 10, 4, 13, 13, 10, 15, 11, 3, 14, 12, 9, 13, 10, 12, 13, 14, 9, 12, 14, 12, 4, 9, 8, 9, 7, 14, 13, 14, 15, 8, 15, 14, 14, 7, 14, 14, 14, 15, 14, 3, 14, 12, 14, 11, 14, 14, 11, 13, 8, 10, 14, 11, 14, 8, 14, 8, 13, 11, 5, 12, 13, 14, 13, 14, 13, 11, 12, 12, 15, 13, 11, 13, 9, 11, 12, 5, 3, 7, 4, 8, 13, 12, 13, 10, 1, 13, 13, 15, 14, 4, 9, 13, 11, 8, 14, 8, 14, 14, 11, 12, 12, 14, 12, 11, 11, 11, 9, 12, 13, 13, 12, 8, 7, 4, 5, 10, 13, 6, 11, 11, 14, 14, 11, 7, 4, 14, 14, 10, 7, 8, 8, 7, 13, 14, 14, 4, 10, 14, 13, 6, 12, 14, 13, 12, 13, 11, 3, 14, 6, 13, 10, 14, 14, 13, 9, 9, 14, 14, 14, 14, 7, 11, 12, 11, 11, 10, 13, 4, 6, 10, 13, 2, 4, 9, 12, 3, 12, 10, 8, 12, 7, 10, 3, 8, 13, 11, 8, 15, 13, 13, 12, 13, 6, 13, 10, 8, 14, 13, 12, 10, 4, 10, 13, 11, 2, 14, 11, 12, 7, 12, 13, 14, 9, 12, 7, 5, 6, 12, 3, 6, 13, 10, 13, 10, 11, 7, 10, 8, 9, 11, 13, 11, 6, 2, 10, 7, 10, 14, 14, 14, 14, 12, 11, 4, 11, 8, 12, 12, 9, 12, 15, 13, 13, 12, 12, 11, 14, 12, 15, 14, 15, 14, 14, 15, 12, 13, 6, 10, 14, 3, 6, 13, 14, 6, 11, 11, 13, 14, 8, 11, 15, 13, 11, 11, 6, 13, 6, 12, 7, 1, 14, 12, 13, 14, 11, 15, 12, 10, 15, 14, 12, 14, 12, 12, 9, 14, 12, 11, 2, 3, 12, 14, 5, 13, 13, 7, 4, 13, 15, 11, 13, 10, 14, 11, 15, 11, 6, 12, 12, 11, 14, 13, 14, 13, 7, 13, 15, 13, 12, 14, 12, 5, 11, 14, 11, 14, 13, 14, 11, 13, 11, 14, 6, 14, 12, 14, 15, 10, 9, 6, 14, 14, 13, 13, 12, 12, 13, 14, 10, 11, 8, 2, 13, 4, 3, 13, 7, 13, 11, 8, 11, 12, 9, 13, 12, 12, 11, 15, 13, 13, 11, 10, 12, 14, 14, 12, 14, 14, 14, 12, 9, 14, 5, 13, 10, 14, 14, 12, 14, 9, 14, 14, 14, 12, 14, 3, 14, 14, 14, 14, 2, 12, 11, 11, 12, 1, 9, 9, 12, 13, 14, 9, 13, 7, 12, 15, 14, 10, 10, 12, 10, 13, 10, 10, 6, 13, 11, 3, 13, 6, 8, 12, 13, 12, 11, 9, 12, 12, 13, 12, 9, 14, 12, 14, 14, 12, 8, 13, 11, 11, 10, 14, 14, 13, 2, 3, 6, 13, 14, 15, 14, 14, 3, 12, 14, 6, 10, 14, 9, 12, 6, 13, 12, 11, 10, 14, 9, 7, 13, 11, 14, 12, 15, 12, 14, 15, 13, 14, 9, 8, 14, 12, 14, 13, 14, 9, 9, 11, 14, 5, 14, 11, 12, 10, 14, 12, 11, 5, 10, 12, 14, 13, 15, 6, 4, 8, 2, 8, 14, 11, 9, 15, 12, 13, 12, 14, 10, 2, 9, 10, 11, 13, 1, 8, 13, 15, 13, 9, 15, 14, 13, 11, 4, 10, 14, 15, 12, 14, 14, 11, 14, 10, 8, 11, 9, 13, 13, 14, 11, 11, 14, 14, 14, 12, 9, 10, 14, 12, 8, 15, 8, 12, 10, 14, 13, 5, 7, 14, 14, 13, 5, 10, 13, 11, 7, 4, 7, 14, 3, 14, 7, 14, 13, 13, 4, 8, 13, 13, 13, 11, 4, 11, 14, 13, 13, 14, 14, 14, 15, 12, 6, 8, 4, 5, 2, 3, 4, 12, 14, 10, 14, 12, 10, 10, 14, 12, 5, 14, 13, 13, 7, 15, 11, 13, 3, 10, 9, 15, 13, 12, 13, 14, 14, 10, 9, 5, 14, 10, 14, 5, 13, 13, 13, 13, 13, 13, 11, 13, 8, 15, 2, 14, 6, 13, 14, 13, 2, 6, 12, 9, 12, 9, 14, 14, 13, 7, 6, 13, 14, 12, 5, 14, 9, 10, 14, 15, 12, 14, 13, 12, 12, 14, 6, 14, 14, 11, 14, 4, 5, 2, 2, 12, 13, 10, 10, 13, 10, 14, 10, 14, 10, 14, 11, 14, 13, 4, 14, 11, 15, 8, 13, 13, 5, 9, 10, 10, 14, 14, 2, 12, 4, 14, 13, 13, 14, 7, 11, 10, 14, 8, 5, 5, 8, 11, 14, 12, 14, 4, 13, 11, 13, 3, 8, 12, 8, 11, 2, 12, 13, 13, 12, 10, 14, 14, 14, 10, 14, 14, 11, 12, 10, 3, 13, 13, 13, 3, 13, 12, 8, 14, 14, 10, 10, 14, 13, 6, 10, 13, 7, 4, 13, 4, 12, 13, 6, 14, 14, 14, 9, 15, 13, 5, 13, 15, 14, 10, 15, 14, 12, 8, 14, 13, 12, 12, 12, 13, 14, 13, 12, 14, 12, 12, 8, 9, 2, 5, 12, 11, 12, 1, 3, 7, 5, 6, 12, 8, 3, 2, 12, 10, 9, 14, 2, 11, 12, 8, 13, 13, 13, 14, 10, 15, 13, 10, 15, 11, 11, 11, 13, 14, 15, 13, 13, 10, 11, 15, 14, 12, 7, 12, 10, 14, 9, 8, 9, 9, 14, 13, 14, 8, 12, 6, 13, 5, 12, 9, 9, 14, 14, 11, 11, 11, 15, 13, 14, 11, 11, 11, 12, 12, 12, 14, 11, 12, 11, 8, 4, 4, 7, 11, 13, 14, 14, 10, 4, 3, 8, 13, 9, 13, 7, 9, 14, 12, 13, 3, 11, 14, 14, 11, 12, 14, 13, 13, 9, 14, 8, 14, 14, 11, 4, 9, 8, 13, 4, 11, 11, 1, 13, 14, 12, 13, 14, 11, 8, 9, 12, 13, 4, 10, 11, 12, 15, 14, 9, 14, 13, 13, 10, 14, 13, 8, 5, 14, 14, 15, 13, 13, 10, 11, 15, 13, 11, 15, 9, 14, 14, 4, 15, 4, 12, 10, 11, 4, 3, 7, 12, 6, 5, 14, 11, 9, 13, 12, 10, 6, 7, 7, 8, 13, 5, 14, 12, 9, 14, 11, 3, 13, 11, 11, 7, 1, 2, 13, 10, 14, 12, 14, 15, 13, 11, 13, 7, 11, 9, 10, 14, 12, 14, 13, 3, 10, 11, 13, 14, 13, 12, 11, 15, 10, 11, 14, 3, 14, 12, 14, 10, 11, 4, 12, 10, 13, 1, 8, 13, 7, 8, 14, 12, 12, 9, 12, 13, 14, 10, 9, 12, 12, 3, 13, 8, 11, 13, 13, 11, 9, 12, 13, 9, 10, 9, 15, 8, 8, 12, 6, 3, 13, 10, 10, 12, 14, 11, 14, 9, 10, 11, 13, 9, 15, 13, 11, 13, 2, 6, 12, 14, 12, 13, 6, 15, 9, 9, 15, 6, 12, 14, 14, 1, 13, 12, 13, 10, 13, 11, 3, 3, 9, 13, 10, 9, 7, 13, 6, 10, 13, 14, 13, 12, 14, 15, 10, 14, 14, 14, 13, 12, 12, 11, 7, 12, 7, 4, 13, 14, 13, 15, 10, 14, 6, 13, 12, 10, 13, 14, 12, 10, 14, 9, 14, 14, 12, 15, 14, 13, 10, 14, 14, 7, 12, 14, 15, 3, 10, 14, 11, 14, 12, 14, 14, 14, 14, 9, 14, 13, 15, 5, 12, 15, 12, 13, 12, 8, 8, 14, 10, 13, 10, 5, 3, 13, 12, 2, 13, 8, 14, 14, 11, 9, 13, 14, 13, 13, 3, 14, 6, 14, 7, 14, 10, 15, 7, 14, 15, 12, 7, 8, 14, 15, 11, 14, 9, 14, 13, 14, 13, 14, 6, 7, 13, 12, 13, 12, 7, 11, 12, 10, 9, 12, 13, 13, 11, 14, 14, 12, 10, 14, 14, 7, 6, 10, 13, 8, 14, 12, 10, 14, 14, 11, 9, 12, 14, 10, 13, 12, 10, 14, 12, 13, 13, 15, 11, 14, 14, 11, 8, 12, 15, 13, 8, 14, 12, 15, 14, 12, 11, 14, 13, 10, 5, 10, 6, 8, 5, 13, 4, 11, 14, 10, 4, 13, 10, 1, 12, 13, 13, 2, 4, 13, 10, 15, 15, 12, 14, 1, 11, 8, 10, 8, 13, 14, 9, 2, 6, 12, 11, 12, 11, 12, 12, 6, 14, 9, 5, 5, 3, 9, 13, 4, 11, 12, 11, 14, 14, 14, 14, 13, 2, 5, 12, 12, 8, 13, 5, 13, 14, 10, 13, 5, 12, 5, 14, 12, 13, 14, 14, 14, 14, 9, 14, 13, 13, 4, 14, 14, 15, 7, 4, 11, 13, 11, 13, 14, 10, 6, 13, 9, 13, 3, 8, 6, 14, 4, 13, 10, 14, 14, 13, 1, 10, 12, 11, 9, 2, 5, 7, 5, 6, 14, 11, 12, 13, 11, 14, 14, 7, 14, 12, 13, 12, 9, 11, 13, 10, 5, 11, 13, 10, 12, 3, 15, 13, 10, 12, 6, 8, 14, 13, 13, 14, 14, 15, 14, 13, 12, 7, 14, 14, 13, 13, 10, 11, 11, 13, 11, 13, 9, 9, 13, 14, 11, 13, 13, 14, 14, 6, 13, 11, 13, 2, 9, 4, 13, 14, 13, 3, 6, 7, 14, 12, 4, 11, 13, 8, 15, 9, 9, 14, 13, 12, 15, 6, 11, 13, 13, 12, 11, 9, 15, 11, 14, 13, 13, 13, 13, 14, 12, 14, 13, 8, 13, 2, 4, 12, 5, 9, 13, 4, 7, 6, 15, 4, 11, 12, 14, 14, 12, 14, 12, 8, 14, 12, 14, 12, 13, 14, 14, 13, 7, 15, 5, 10, 10, 13, 14, 11, 9, 12, 8, 13, 13, 13, 13, 10, 14, 12, 14, 5, 13, 14, 14, 11, 12, 11, 15, 14, 13, 10, 14, 10, 13, 7, 14, 14, 6, 13, 14, 6, 11, 14, 12, 14, 13, 13, 10, 10, 14, 11, 12, 2, 7, 4, 13, 14, 11, 8, 14, 13, 14, 15, 11, 3, 7, 14, 13, 5, 9, 15, 14, 13, 15, 13, 6, 15, 9, 4, 11, 11, 6, 7, 14, 10, 13, 13, 7, 15, 10, 12, 15, 13, 13, 14, 12, 14, 14, 13, 13, 5, 14, 13, 13, 10, 8, 12, 5, 2, 14, 10, 6, 14, 9, 14, 15, 13, 13, 12, 14, 4, 12, 2, 2, 3, 9, 10, 14, 13, 14, 11, 14, 13, 5, 14, 15, 14, 14, 13, 14, 13, 12, 13, 13, 12, 13, 10, 11, 14, 8, 11, 13, 14, 5, 9, 11, 14, 14, 13, 13, 14, 13, 11, 13, 14, 14, 9, 7, 13, 12, 14, 14, 12, 13, 11, 3, 12, 12, 10, 12, 10, 5, 14, 15, 14, 8, 14, 14, 6, 9, 15, 14, 13, 12, 9, 11, 11, 13, 6, 10, 11, 14, 12, 10, 15, 12, 13, 13, 15, 13, 10, 10, 6, 11, 11, 11, 8, 10, 15, 11, 14, 12, 14, 15, 11, 6, 14, 15, 11, 12, 10, 3, 13, 4, 12, 7, 13, 10, 11, 10, 6, 4, 14, 13, 14, 14, 10, 13, 9, 12, 14, 4, 13, 2, 3, 8, 11, 10, 11, 11, 14, 8, 8, 13, 15, 4, 12, 9, 11, 9, 12, 13, 11, 13, 12, 11, 12, 5, 11, 14, 10, 14, 10, 5, 12, 12, 15, 4, 14, 12, 14, 5, 13, 13, 14, 13, 15, 14, 14, 12, 14, 12, 10, 2, 14, 14, 12, 7, 13, 14, 13, 8, 14, 10, 14, 11, 14, 13, 13, 12, 11, 9, 13, 8, 11, 11, 8, 15, 13, 14, 8, 14, 12, 15, 15, 14, 14, 6, 13, 13, 6, 8, 11, 9, 14, 15, 14, 10, 13, 13, 9, 8, 10, 2, 8, 4, 11, 14, 13, 9, 11, 14, 15, 15, 15, 13, 9, 14, 14, 14, 10, 12, 9, 14, 15, 14, 5, 14, 9, 12, 13, 11, 14, 13, 14, 9, 7, 10, 12, 10, 7, 12, 12, 10, 12, 14, 7, 8, 12, 2, 1, 2, 1, 1, 1, 7, 4, 4, 12, 12, 13, 6, 14, 14, 14, 14, 10, 14, 12, 14, 13, 7, 9, 11, 14, 14, 11, 13, 10, 15, 11, 3, 8, 12, 3, 7, 8, 13, 11, 11, 12, 14, 9, 8, 10, 13, 14, 6, 13, 12, 11, 3, 3, 7, 13, 13, 12, 11, 14, 7, 11, 11, 4, 11, 12, 10, 14, 11, 4, 7, 12, 14, 12, 9, 9, 8, 14, 13, 14, 14, 12, 15, 4, 9, 15, 6, 13, 12, 9, 5, 7, 14, 14, 14, 15, 7, 9, 14, 12, 15, 13, 14, 12, 14, 11, 15, 13, 13, 14, 11, 15, 5, 13, 14, 8, 13, 13, 12, 9, 15, 12, 11, 3, 5, 8, 15, 13, 14, 14, 14, 11, 11, 15, 15, 14, 9, 10, 12, 7, 2, 14, 13, 7, 9, 14, 13, 5, 10, 10, 15, 12, 9, 13, 12, 7, 2, 3, 9, 8, 11, 4, 6, 9, 13, 14, 9, 13, 14, 14, 13, 9, 1, 15, 10, 3, 14, 7, 13, 4, 14, 9, 14, 11, 11, 10, 13, 12, 14, 15, 9, 12, 12, 9, 11, 7, 3, 2, 7, 8, 13, 13, 12, 10, 14, 13, 14, 8, 14, 12, 3, 8, 12, 13, 11, 9, 2, 5, 12, 14, 14, 12, 14, 13, 13, 5, 15, 13, 14, 14, 10, 13, 10, 13, 2, 3, 4, 10, 2, 4, 10, 13, 11, 12, 12, 13, 12, 4, 11, 6, 13, 7, 9, 7, 4, 4, 5, 12, 9, 13, 13, 10, 10, 11, 12, 14, 14, 4, 10, 11, 14, 13, 14, 15, 15, 13, 12, 14, 15, 14, 14, 8, 12, 7, 13, 10, 13, 13, 11, 5, 13, 14, 5, 11, 13, 14, 14, 3, 11, 10, 10, 13, 9, 11, 14, 13, 14, 13, 14, 10, 13, 4, 13, 14, 14, 14, 7, 13, 9, 7, 13, 14, 8, 13, 12, 14, 10, 14, 10, 11, 6, 10, 12, 11, 13, 13, 14, 14, 13, 11, 15, 13, 12, 13, 15, 11, 12, 14, 11, 13, 13, 13, 11, 10, 11, 15, 12, 12, 14, 6, 13, 14, 7, 2, 13, 9, 2, 5, 5, 10, 13, 13, 13, 10, 7, 14, 9, 8, 7, 14, 7, 13, 8, 14, 5, 8, 12, 3, 14, 12, 9, 14, 10, 13, 14, 8, 5, 13, 8, 2, 11, 10, 6, 14, 4, 14, 15, 11, 8, 4, 13, 11, 3, 3, 9, 13, 14, 12, 14, 10, 13, 4, 9, 13, 10, 10, 14, 7, 8, 15, 15, 12, 9, 14, 9, 14, 10, 12, 9, 14, 13, 10, 13, 11, 14, 14, 12, 13, 3, 9, 7, 10, 9, 12, 8, 14, 9, 11, 11, 5, 9, 13, 13, 10, 14, 3, 9, 14, 14, 11, 8, 14, 11, 14, 15, 13, 10, 15, 9, 13, 12, 14, 13, 13, 6, 13, 7, 9, 7, 12, 11, 15, 13, 14, 14, 6, 7, 13, 15, 13, 4, 13, 8, 6, 4, 9, 12, 13, 13, 6, 12, 11, 14, 11, 15, 13, 13, 12, 10, 7, 14, 14, 6, 10, 14, 13, 11, 12, 9, 15, 12, 12, 7, 13, 13, 14, 13, 13, 9, 13, 5, 9, 2, 10, 12, 11, 3, 13, 12, 14, 14, 13, 4, 6, 9, 7, 5, 9, 7, 5, 8, 14, 14, 13, 13, 6, 7, 14, 14, 14, 11, 3, 15, 13, 6, 8, 14, 15, 14, 12, 12, 14, 14, 14, 11, 14, 14, 13, 12, 12, 3, 13, 13, 13, 12, 14, 3, 13, 3, 13, 14, 9, 6, 13, 13, 6, 11, 10, 10, 14, 11, 9, 11, 14, 8, 10, 2, 14, 8, 13, 4, 5, 5, 4, 13, 14, 10, 10, 8, 15, 6, 13, 14, 11, 14, 12, 12, 7, 13, 14, 2, 12, 13, 13, 5, 13, 12, 15, 8, 2, 12, 13, 11, 9, 11, 15, 12, 15, 6, 12, 13, 11, 14, 12, 4, 12, 12, 13, 14, 12, 12, 11, 10, 15, 8, 14, 8, 14, 14, 14, 12, 8, 12, 12, 14, 14, 11, 14, 13, 15, 12, 11, 14, 13, 2, 14, 11, 15, 14, 13, 13, 14, 12, 14, 11, 13, 13, 11, 11, 10, 8, 6, 13, 12, 12, 14, 11, 11, 14, 15, 13, 13, 14, 11, 11, 15, 14, 13, 12, 8, 14, 10, 12, 12, 8, 14, 9, 14, 14, 14, 4, 14, 5, 10, 12, 14, 13, 13, 9, 13, 14, 10, 13, 11, 14, 12, 11, 12, 14, 11, 13, 12, 14, 13, 14, 14, 13, 13, 6, 7, 10, 8, 5, 12, 14, 11, 12, 8, 11, 14, 11, 11, 14, 13, 11, 1, 13, 7, 8, 14, 12, 3, 13, 10, 11, 13, 12, 14, 14, 11, 7, 11, 10, 11, 9, 7, 10, 14, 11, 8, 8, 5, 13, 14, 11, 13, 9, 8, 13, 13, 10, 10, 10, 6, 9, 13, 10, 7, 7, 14, 6, 2, 12, 8, 12, 13, 11, 13, 13, 10, 14, 13, 15, 5, 14, 13, 8, 12, 11, 10, 8, 14, 10, 14, 14, 12, 14, 5, 13, 11, 14, 2, 12, 8, 13, 11, 12, 9, 6, 14, 14, 5, 11, 8, 13, 15, 10, 14, 12, 13, 14, 9, 13, 9, 13, 13, 10, 14, 8, 13, 12, 11, 6, 14, 14, 13, 13, 3, 13, 11, 11, 14, 14, 10, 14, 11, 14, 14, 13, 14, 10, 13, 12, 13, 13, 10, 13, 13, 13, 13, 11, 14, 15, 13, 4, 13, 13, 4, 3, 11, 14, 14, 8, 14, 13, 13, 15, 15, 14, 15, 14, 14, 13, 11, 9, 2, 7, 14, 14, 14, 6, 14, 7, 11, 15, 13, 15, 14, 11, 6, 10, 14, 14, 9, 14, 14, 5, 8, 13, 13, 14, 14, 8, 8, 15, 15, 12, 14, 13, 13, 14, 15, 7, 1, 6, 8, 14, 13, 11, 13, 7, 12, 13, 9, 5, 12, 13, 13, 11, 11, 10, 11, 3, 8, 14, 12, 14, 14, 14, 14, 15, 13, 14, 10, 12, 13, 9, 14, 13, 10, 13, 13, 13, 14, 13, 11, 6, 12, 12, 12, 15, 14, 8, 15, 10, 14, 12, 7, 13, 13, 14, 11, 12, 13, 9, 8, 12, 5, 2, 12, 9, 13, 10, 8, 13, 7, 9, 14, 13, 13, 4, 10, 10, 7, 6, 11, 13, 10, 11, 5, 14, 10, 7, 6, 13, 14, 11, 5, 9, 11, 15, 14, 13, 15, 9, 7, 8, 13, 12, 14, 14, 7, 13, 14, 4, 15, 11, 5, 11, 15, 13, 14, 12, 8, 15, 13, 14, 10, 11, 5, 13, 13, 14, 12, 15, 12, 4, 14, 15, 10, 14, 8, 2, 12, 14, 9, 14, 9, 12, 14, 10, 11, 14, 12, 10, 14, 12, 9, 12, 2, 12, 11, 11, 3, 11, 6, 13, 2, 14, 14, 7, 14, 13, 12, 14, 12, 15, 14, 14, 12, 15, 14, 14, 14, 13, 14, 13, 8, 15, 12, 5, 10, 14, 11, 14, 11, 11, 14, 10, 5, 14, 13, 13, 13, 13, 7, 13, 5, 8, 9, 10, 12, 14, 6, 4, 11, 13, 10, 13, 4, 12, 12, 4, 13, 14, 4, 14, 12, 13, 9, 12, 11, 8, 8, 2, 13, 9, 9, 15, 9, 14, 10, 10, 13, 12, 5, 12, 12, 11, 10, 12, 14, 13, 13, 14, 13, 10, 14, 12, 11, 13, 5, 10, 13, 9, 7, 14, 13, 14, 12, 12, 12, 12, 12, 11, 10, 13, 6, 10, 15, 13, 12, 11, 12, 8, 12, 12, 6, 12, 13, 12, 7, 1, 14, 10, 13, 14, 15, 11, 14, 13, 9, 13, 14, 12, 14, 6, 14, 9, 14, 13, 13, 11, 14, 7, 10, 14, 12, 11, 9, 4, 10, 11, 14, 14, 12, 9, 10, 14, 8, 14, 11, 13, 14, 4, 12, 5, 13, 10, 12, 2, 12, 8, 12, 13, 6, 12, 8, 9, 13, 1, 12, 12, 10, 13, 11, 8, 9, 13, 9, 12, 14, 13, 14, 13, 13, 13, 6, 13, 14, 2, 14, 11, 14, 10, 11, 14, 13, 13, 14, 13, 9, 9, 1, 11, 13, 13, 13, 7, 13, 10, 9, 2, 14, 5, 11, 13, 15, 12, 14, 4, 14, 10, 12, 11, 10, 10, 14, 14, 15, 12, 10, 2, 14, 14, 13, 10, 10, 14, 11, 8, 14, 15, 12, 11, 13, 12, 12, 5, 11, 9, 10, 11, 13, 1, 14, 14, 11, 6, 12, 14, 14, 12, 14, 12, 3, 13, 13, 8, 7, 14, 13, 5, 3, 1, 7, 5, 13, 13, 14, 15, 13, 14, 14, 7, 11, 14, 9, 7, 13, 13, 8, 2, 12, 11, 14, 14, 13, 11, 14, 14, 2, 14, 9, 14, 15, 12, 11, 11, 14, 12, 14, 14, 8, 7, 9, 11, 9, 12, 14, 8, 13, 13, 5, 8, 11, 15, 14, 13, 14, 15, 15, 1, 14, 3, 9, 13, 7, 14, 15, 13, 14, 14, 14, 11, 14, 14, 5, 14, 15, 12, 13, 13, 13, 12, 10, 14, 14, 12, 11, 12, 14, 10, 14, 9, 11, 12, 6, 12, 7, 12, 11, 13, 10, 12, 14, 6, 7, 14, 10, 12, 11, 10, 14, 12, 11, 14, 15, 6, 12, 11, 7, 8, 9, 12, 13, 11, 6, 6, 5, 9, 13, 7, 14, 12, 13, 14, 11, 11, 12, 9, 12, 7, 11, 4, 12, 9, 9, 12, 7, 14, 14, 13, 14, 13, 12, 13, 5, 8, 7, 13, 13, 14, 13, 10, 10, 9, 7, 6, 13, 12, 11, 11, 13, 14, 15, 14, 10, 3, 12, 12, 14, 14, 14, 14, 14, 14, 14, 13, 4, 14, 13, 7, 15, 7, 9, 3, 13, 14, 6, 12, 13, 11, 14, 9, 15, 13, 12, 13, 9, 12, 13, 9, 12, 6, 10, 14, 11, 14, 8, 15, 7, 14, 14, 14, 15, 11, 6, 8, 15, 14, 15, 14, 13, 15, 13, 9, 14, 15, 13, 13, 13, 1, 11, 4, 15, 13, 14, 9, 10, 13, 8, 12, 14, 12, 13, 14, 15, 10, 14, 11, 14, 6, 9, 8, 7, 11, 11, 11, 11, 14, 13, 5, 11, 14, 13, 13, 14, 14, 5, 12, 13, 6, 13, 14, 13, 12, 15, 14, 14, 9, 5, 12, 8, 9, 4, 12, 13, 12, 15, 13, 14, 12, 3, 13, 13, 12, 10, 5, 10, 12, 15, 14, 9, 14, 14, 14, 5, 12, 14, 9, 4, 10, 14, 2, 10, 13, 14, 7, 7, 13, 11, 13, 14, 10, 13, 9, 14, 13, 14, 15, 4, 8, 13, 13, 14, 13, 13, 10, 14, 4, 9, 8, 8, 13, 14, 8, 10, 10, 8, 11, 13, 14, 10, 14, 15, 14, 7, 12, 3, 14, 10, 9, 15, 13, 10, 14, 9, 10, 15, 14, 14, 3, 10, 14, 13, 5, 4, 12, 14, 7, 13, 4, 6, 11, 10, 13, 9, 14, 12, 9, 9, 13, 14, 6, 12, 14, 11, 14, 12, 4, 14, 5, 14, 13, 11, 15, 14, 13, 15, 15, 5, 10, 4, 14, 13, 11, 15, 10, 7, 9, 2, 13, 13, 9, 10, 14, 14, 14, 12, 10, 14, 13, 14, 2, 11, 6, 15, 13, 13, 10, 15, 13, 13, 12, 14, 11, 13, 14, 13, 11, 6, 8, 3, 13, 15, 10, 15, 13, 13, 14, 11, 12, 14, 11, 13, 3, 14, 7, 11, 10, 13, 12, 14, 13, 8, 7, 14, 14, 14, 14, 8, 12, 14, 8, 6, 9, 14, 14, 12, 3, 14, 12, 12, 11, 5, 13, 12, 13, 12, 10, 14, 14, 12, 14, 14, 10, 14, 11, 13, 14, 14, 13, 11, 14, 14, 10, 2, 2, 6, 4, 3, 4, 14, 13, 13, 13, 5, 14, 11, 11, 9, 14, 14, 13, 12, 14, 1, 13, 13, 11, 8, 8, 10, 7, 13, 6, 15, 14, 13, 13, 13, 11, 15, 12, 15, 11, 15, 15, 11, 14, 13, 11, 9, 14, 14, 13, 14, 11, 13, 12, 9, 11, 15, 7, 13, 7, 12, 13, 14, 14, 13, 10, 13, 15, 11, 15, 9, 13, 14, 13, 4, 14, 13, 10, 4, 14, 13, 14, 15, 12, 11, 11, 5, 14, 6, 13, 13, 6, 12, 6, 12, 12, 3, 9, 8, 2, 11, 14, 11, 13, 10, 2, 12, 14, 10, 14, 11, 8, 12, 15, 6, 15, 14, 14, 15, 10, 15, 13, 14, 7, 11, 14, 13, 10, 14, 14, 5, 14, 7, 6, 13, 6, 15, 14, 15, 15, 6, 9, 7, 6, 13, 15, 12, 14, 10, 13, 5, 8, 10, 14, 5, 14, 10, 14, 14, 14, 14, 13, 11, 8, 14, 11, 13, 10, 10, 13, 15, 12, 12, 13, 14, 14, 13, 14, 12, 12, 13, 6, 11, 8, 2, 7, 13, 12, 6, 7, 14, 14, 10, 13, 14, 14, 10, 3, 14, 13, 8, 14, 14, 14, 9, 14, 12, 15, 13, 15, 11, 10, 14, 8, 11, 7, 4, 3, 11, 8, 10, 13, 2, 8, 9, 12, 10, 14, 9, 15, 10, 11, 14, 12, 12, 8, 10, 9, 5, 5, 8, 14, 13, 14, 7, 5, 12, 13, 12, 13, 15, 9, 11, 2, 10, 8, 9, 11, 7, 8, 8, 11, 12, 13, 5, 2, 14, 13, 10, 12, 14, 14, 4, 13, 15, 13, 14, 11, 11, 11, 10, 13, 14, 12, 8, 12, 5, 11, 13, 14, 6, 14, 8, 13, 13, 12, 14, 14, 4, 7, 8, 12, 9, 13, 13, 14, 6, 13, 14, 12, 13, 14, 14, 14, 14, 14, 12, 14, 9, 11, 13, 2, 13, 13, 4, 11, 8, 4, 13, 10, 2, 14, 12, 9, 11, 9, 8, 13, 14, 2, 10, 14, 15, 9, 4, 7, 9, 14, 8, 10, 14, 13, 11, 13, 3, 14, 12, 14, 12, 10, 15, 10, 14, 13, 9, 8, 14, 14, 12, 14, 13, 9, 13, 13, 13, 9, 14, 14, 4, 11, 14, 13, 10, 10, 12, 13, 8, 11, 10, 7, 9, 14, 14, 14, 13, 13, 9, 13, 13, 7, 13, 11, 6, 8, 14, 7, 12, 2, 14, 13, 14, 8, 14, 11, 5, 11, 15, 13, 14, 15, 7, 12, 14, 14, 14, 6, 8, 7, 13, 15, 14, 14, 13, 13, 10, 14, 13, 12, 14, 5, 14, 14, 12, 13, 13, 11, 10, 14, 10, 11, 15, 12, 7, 11, 13, 14, 9, 13, 11, 14, 12, 13, 11, 13, 2, 11, 11, 13, 11, 9, 9, 10, 12, 9, 12, 12, 13, 10, 2, 3, 3, 6, 14, 13, 13, 14, 12, 14, 14, 11, 9, 15, 12, 14, 5, 7, 10, 14, 14, 14, 11, 11, 11, 12, 2, 14, 14, 10, 11, 7, 12, 14, 7, 11, 10, 15, 11, 14, 14, 7, 13, 12, 12, 10, 9, 1, 14, 14, 15, 11, 13, 10, 15, 9, 6, 14, 13, 9, 8, 14, 7, 14, 13, 10, 8, 11, 14, 12, 14, 12, 10, 13, 7, 15, 11, 13, 15, 13, 7, 10, 14, 14, 8, 11, 11, 10, 14, 10, 9, 15, 11, 14, 12, 10, 3, 6, 10, 13, 13, 12, 10, 12, 14, 14, 12, 10, 6, 10, 11, 12, 14, 13, 12, 6, 14, 11, 13, 13, 9, 15, 12, 14, 8, 15, 9, 13, 13, 12, 13, 11, 15, 14, 6, 11, 14, 10, 14, 13, 6, 15, 13, 14, 8, 4, 12, 12, 14, 6, 14, 14, 7, 12, 13, 10, 14, 12, 14, 13, 7, 10, 13, 11, 10, 9, 14, 11, 13, 14, 14, 11, 2, 14, 8, 12, 11, 11, 13, 14, 12, 5, 4, 12, 8, 11, 2, 4, 5, 9, 4, 12, 6, 13, 10, 12, 13, 11, 13, 11, 10, 12, 12, 11, 11, 14, 10, 9, 10, 8, 14, 14, 12, 6, 13, 8, 14, 12, 2, 13, 9, 14, 12, 4, 12, 7, 14, 4, 11, 7, 13, 8, 10, 10, 13, 12, 2, 13, 6, 8, 11, 11, 13, 11, 7, 8, 13, 4, 11, 9, 4, 6, 11, 13, 15, 5, 14, 15, 6, 14, 11, 10, 15, 13, 11, 9, 11, 14, 13, 2, 6, 7, 13, 8, 13, 12, 11, 14, 13, 11, 10, 10, 14, 14, 13, 11, 7, 14, 9, 14, 14, 9, 15, 11, 14, 12, 13, 12, 10, 11, 14, 11, 14, 14, 10, 12, 12, 15, 8, 13, 9, 9, 14, 14, 12, 14, 11, 15, 10, 3, 13, 12, 12, 14, 13, 13, 13, 7, 14, 13, 8, 14, 15, 7, 12, 12, 11, 14, 9, 11, 13, 13, 14, 14, 15, 12, 14, 13, 9, 15, 13, 6, 11, 14, 2, 11, 12, 13, 9, 11, 5, 14, 12, 9, 13, 4, 11, 5, 13, 13, 8, 5, 10, 14, 13, 13, 4, 10, 14, 8, 6, 8, 11, 15, 9, 7, 13, 6, 9, 14, 4, 12, 12, 11, 11, 13, 4, 9, 12, 5, 7, 13, 5, 8, 4, 12, 12, 6, 10, 10, 2, 12, 4, 9, 8, 6, 10, 12, 3, 14, 1, 13, 12, 10, 12, 12, 12, 3, 10, 3, 14, 13, 4, 13, 13, 12, 15, 15, 13, 11, 9, 12, 9, 10, 4, 8, 8, 13, 5, 6, 10, 14, 8, 3, 3, 6, 13, 14, 9, 11, 12, 7, 9, 14, 15, 12, 14, 7, 14, 9, 10, 10, 14, 14, 5, 11, 5, 13, 14, 9, 15, 9, 8, 8, 9, 14, 2, 6, 4, 12, 2, 3, 3, 12, 9, 3, 11, 5, 12, 13, 11, 13, 9, 12, 6, 14, 15, 12, 10, 8, 10, 6, 9, 12, 8, 12, 13, 8, 8, 6, 8, 7, 13, 9, 11, 15, 13, 14, 12, 14, 6, 14, 13, 12, 12, 11, 13, 6, 12, 3, 8, 5, 6, 4, 2, 5, 8, 14, 14, 14, 7, 11, 13, 10, 14, 12, 13, 9, 13, 11, 7, 5, 14, 14, 9, 12, 12, 13, 9, 12, 3, 13, 10, 11, 14, 14, 10, 7, 13, 12, 14, 9, 14, 14, 15, 2, 13, 14, 11, 14, 11, 8, 11, 10, 12, 10, 9, 12, 14, 12, 9, 13, 1, 13, 12, 12, 5, 2, 13, 7, 11, 6, 10, 5, 14, 9, 9, 8, 13, 12, 6, 9, 14, 13, 13, 4, 13, 6, 13, 13, 9, 12, 4, 10, 11, 11, 9, 14, 14, 8, 3, 5, 13, 14, 9, 4, 13, 11, 9, 12, 8, 6, 7, 9, 7, 6, 6, 11, 13, 4, 7, 9, 5, 12, 12, 4, 13, 13, 6, 8, 8, 13, 14, 7, 11, 15, 13, 13, 14, 13, 12, 11, 8, 14, 9, 9, 11, 14, 13, 3, 2, 7, 14, 14, 13, 12, 9, 9, 14, 5, 8, 14, 10, 10, 15, 10, 9, 2, 2, 10, 5, 9, 14, 2, 13, 12, 14, 10, 14, 11, 15, 11, 12, 6, 7, 13, 12, 5, 11, 1, 2, 8, 12, 13, 12, 14, 8, 11, 3, 10, 2, 8, 11, 2, 5, 5, 11, 12, 3, 9, 14, 13, 12, 3, 14, 8, 6, 6, 10, 10, 11, 8, 8, 9, 12, 10, 12, 10, 13, 11, 15, 12, 6, 12, 9, 13, 9, 9, 2, 14, 5, 7, 2, 9, 6, 8, 7, 3, 7, 11, 6, 14, 6, 12, 12, 7, 7, 13, 8, 10, 14, 14, 11, 14, 6, 9, 4, 5, 10, 9, 9, 10, 14, 11, 10, 7, 11, 4, 2, 12, 1, 9, 7, 11, 7, 5, 5, 13, 8, 13, 12, 11, 6, 5, 12, 7, 11, 6, 8, 6, 13, 10, 11, 8, 9, 7, 6, 10, 10, 5, 8, 14, 12, 14, 9, 14, 7, 13, 4, 8, 1, 12, 11, 14, 8, 14, 7, 11, 8, 9, 3, 14, 10, 14, 13, 6, 13, 4, 14, 13, 11, 11, 13, 10, 11, 13, 9, 11, 5, 6, 5, 9, 9, 8, 9, 12, 7, 14, 13, 6, 7, 15, 8, 7, 10, 8, 15, 14, 15, 6, 8, 14, 6, 10, 15, 12, 11, 14, 8, 4, 14, 11, 15, 10, 14, 14, 4, 14, 4, 9, 14, 14, 13, 12, 12, 14, 11, 4, 4, 13, 12, 14, 8, 5, 11, 13, 5, 12, 3, 13, 9, 10, 12, 14, 11, 12, 6, 6, 8, 5, 13, 8, 10, 10, 15, 12, 10, 7, 12, 6, 12, 9, 11, 9, 12, 6, 14, 11, 14, 12, 14, 8, 10, 14, 14, 13, 12, 11, 14, 2, 11, 12, 5, 13, 8, 13, 12, 5, 13, 14, 6, 4, 1, 2, 8, 4, 10, 14, 3, 9, 2, 10, 12, 12, 6, 13, 11, 8, 5, 4, 13, 14, 8, 10, 14, 10, 14, 14, 12, 8, 11, 5, 5, 1, 8, 1, 6, 12, 14, 11, 7, 2, 5, 4, 5, 3, 5, 10, 8, 6, 4, 11, 12, 8, 11, 13, 13, 8, 8, 8, 8, 5, 9, 14, 13, 1, 13, 14, 12, 10, 8, 9, 6, 4, 4, 1, 4, 4, 4, 3, 12, 4, 3, 2, 2, 14, 15, 10, 14, 10, 14, 9, 6, 13, 7, 9, 12, 7, 11, 12, 14, 4, 3, 13, 13, 7, 4, 7, 14, 10, 9, 7, 7, 6, 14, 7, 10, 11, 12, 5, 8, 14, 11, 2, 5, 8, 6, 13, 10, 15, 5, 6, 14, 11, 12, 13, 8, 7, 4, 5, 14, 14, 7, 10, 8, 7, 8, 10, 8, 13, 4, 8, 14, 11, 14, 5, 14, 15, 9, 14, 14, 13, 12, 11, 11, 15, 13, 15, 2, 14, 14, 8, 15, 11, 12, 14, 12, 13, 9, 14, 9])\t[('NM', 784), ('ms', 6958), ('AS', 6958), ('nn', 0), ('tp', 'P'), ('cm', 171), ('s1', 2168), ('s2', 0), ('dv', 0.055799998342990875), ('SA', 'NC_020418.1,3792100,+,15S7271M169D5947S,60,1041;')]\n"
     ]
    }
   ],
   "source": [
    "reads = pysam.AlignmentFile('minimap2-sorted.bam', 'rb')\n",
    "for i, read in enumerate(reads.fetch('NC_020418.1')):\n",
    "    if i == 5:\n",
    "        print(read.infer_read_length())\n",
    "        print(read.reference_name)\n",
    "        print(read.get_cigar_stats(), '\\n\\n')\n",
    "        print(read)    \n",
    "        break"
   ]
  },
  {
   "cell_type": "code",
   "execution_count": null,
   "metadata": {},
   "outputs": [],
   "source": [
    "CATGGCGACCGCCATCTGCGGCGCCAACACGGCATTGACAGT"
   ]
  }
 ],
 "metadata": {
  "kernelspec": {
   "display_name": "Python 3",
   "language": "python",
   "name": "python3"
  },
  "language_info": {
   "codemirror_mode": {
    "name": "ipython",
    "version": 3
   },
   "file_extension": ".py",
   "mimetype": "text/x-python",
   "name": "python",
   "nbconvert_exporter": "python",
   "pygments_lexer": "ipython3",
   "version": "3.5.2"
  }
 },
 "nbformat": 4,
 "nbformat_minor": 2
}

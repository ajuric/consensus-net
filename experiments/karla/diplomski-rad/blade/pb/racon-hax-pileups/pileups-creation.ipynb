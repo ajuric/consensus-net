{
 "cells": [
  {
   "cell_type": "code",
   "execution_count": 1,
   "metadata": {},
   "outputs": [
    {
     "name": "stdout",
     "output_type": "stream",
     "text": [
      "Adding dataset module.\n"
     ]
    }
   ],
   "source": [
    "import numpy as np\n",
    "\n",
    "import sys\n",
    "module_path = '/home/diplomski-rad/consensus-net/src/python/dataset/'\n",
    "if module_path not in sys.path:\n",
    "    print('Adding dataset module.')\n",
    "    sys.path.append(module_path)\n",
    "\n",
    "import pileups"
   ]
  },
  {
   "cell_type": "markdown",
   "metadata": {},
   "source": [
    "## Generate pilups with RaconMSAGenerator"
   ]
  },
  {
   "cell_type": "code",
   "execution_count": 2,
   "metadata": {},
   "outputs": [
    {
     "name": "stderr",
     "output_type": "stream",
     "text": [
      "100% (8429809 of 8429809) |##############| Elapsed Time: 0:03:17 Time:  0:03:17\n",
      "100% (8444939 of 8444939) |##############| Elapsed Time: 0:03:26 Time:  0:03:26\n",
      "100% (7884499 of 7884499) |##############| Elapsed Time: 0:03:15 Time:  0:03:15\n",
      "100% (6501572 of 6501572) |##############| Elapsed Time: 0:02:47 Time:  0:02:47\n",
      "100% (7572388 of 7572388) |##############| Elapsed Time: 0:03:16 Time:  0:03:16\n"
     ]
    }
   ],
   "source": [
    "reads_paths = [\n",
    "    '/home/data/pacific_biosciences/bacteria/escherichia/coli/NCTC86.fastq',\n",
    "    '/home/data/pacific_biosciences/bacteria/salmonella/enterica/NCTC92.fastq',\n",
    "    '/home/data/pacific_biosciences/bacteria/salmonella/enterica/NCTC129.fastq',\n",
    "    '/home/data/pacific_biosciences/bacteria/morganella/morgani/NCTC235.fastq',\n",
    "    '/home/data/pacific_biosciences/bacteria/klebsiela/pneumoniae/NCTC204.fastq'\n",
    "]\n",
    "sam_pile_paths = [\n",
    "    '/home/diplomski-rad/blade/pb/escherichia-coli-NCTC86/reads-to-ref.sam',\n",
    "    '/home/diplomski-rad/blade/pb/salmonella-enterica-NCTC92/reads-to-ref.sam',\n",
    "    '/home/diplomski-rad/blade/pb/salmonella-enterica-NCTC129/reads-to-ref.sam',\n",
    "    '/home/diplomski-rad/blade/pb/morganela-morgani-NCTC235/reads-to-ref.sam',\n",
    "    '/home/diplomski-rad/blade/pb/klebsiela-pneumoniae-NCTC204-BROKEN/reads-to-ref.sam'\n",
    "]\n",
    "reference_fasta_paths = [\n",
    "    '/home/data/pacific_biosciences/bacteria/escherichia/coli/escherichia_coli_reference.fasta',\n",
    "    '/home/data/pacific_biosciences/bacteria/salmonella/enterica/salmonella_enterica_reference.fasta',\n",
    "    '/home/data/pacific_biosciences/bacteria/salmonella/enterica/salmonella_enterica_reference.fasta',\n",
    "    '/home/data/pacific_biosciences/bacteria/morganella/morgani/morganella_morganii_reference.fasta',\n",
    "    '/home/data/pacific_biosciences/bacteria/klebsiela/pneumoniae/klebsiella_pneumoniae_reference.fasta'\n",
    "]\n",
    "mode = 'training'\n",
    "tools_dir = '/home/diplomski-rad/'\n",
    "racon_hax_output_dir = './racon-hax-tmp'\n",
    "save_directory_paths = [\n",
    "    './e-coli-NCTC86-racon-MSA/',\n",
    "    './s-enterica-NCTC92-racon-MSA',\n",
    "    './s-enterica-NCTC129-racon-MSA',\n",
    "    './m-morgani-NCTC235-racon-MSA',\n",
    "    './k-pneumoniae-NCTC204-racon-MSA'\n",
    "]\n",
    "num_threads = 12\n",
    "\n",
    "for reads_path, sam_file_path, reference_fasta_path, save_directory_path in zip(\n",
    "    reads_paths, sam_pile_paths, reference_fasta_paths, save_directory_paths):\n",
    "    pileup_generator = pileups.RaconMSAGenerator(\n",
    "        reads_path,\n",
    "        sam_file_path,\n",
    "        reference_fasta_path,\n",
    "        mode,\n",
    "        tools_dir,\n",
    "        racon_hax_output_dir,\n",
    "        save_directory_path=save_directory_path,\n",
    "        num_threads=num_threads\n",
    "    )\n",
    "    pileup_generator.generate_pileups()"
   ]
  },
  {
   "cell_type": "code",
   "execution_count": null,
   "metadata": {},
   "outputs": [],
   "source": []
  }
 ],
 "metadata": {
  "kernelspec": {
   "display_name": "Python 3",
   "language": "python",
   "name": "python3"
  },
  "language_info": {
   "codemirror_mode": {
    "name": "ipython",
    "version": 3
   },
   "file_extension": ".py",
   "mimetype": "text/x-python",
   "name": "python",
   "nbconvert_exporter": "python",
   "pygments_lexer": "ipython3",
   "version": "3.5.2"
  }
 },
 "nbformat": 4,
 "nbformat_minor": 2
}

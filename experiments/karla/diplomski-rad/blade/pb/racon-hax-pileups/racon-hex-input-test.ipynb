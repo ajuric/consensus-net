{
 "cells": [
  {
   "cell_type": "code",
   "execution_count": 1,
   "metadata": {},
   "outputs": [],
   "source": [
    "import numpy as np\n",
    "import time\n",
    "from multiprocessing import Pool"
   ]
  },
  {
   "cell_type": "markdown",
   "metadata": {},
   "source": [
    "## with open"
   ]
  },
  {
   "cell_type": "code",
   "execution_count": 2,
   "metadata": {},
   "outputs": [
    {
     "name": "stdout",
     "output_type": "stream",
     "text": [
      "elapsed-time: 13.536487817764282\n"
     ]
    }
   ],
   "source": [
    "with open('./e-coli.txt') as f:\n",
    "    start_time = time.time()\n",
    "    reference = f.readline().strip()\n",
    "    num_A = [int(v) for v in f.readline().strip().split()]\n",
    "    num_C = [int(v) for v in f.readline().strip().split()]\n",
    "    num_G = [int(v) for v in f.readline().strip().split()]\n",
    "    num_T = [int(v) for v in f.readline().strip().split()]\n",
    "    num_D = [int(v) for v in f.readline().strip().split()]\n",
    "    end_time = time.time()\n",
    "    \n",
    "    print('elapsed-time:', end_time - start_time)"
   ]
  },
  {
   "cell_type": "code",
   "execution_count": 14,
   "metadata": {},
   "outputs": [
    {
     "name": "stdout",
     "output_type": "stream",
     "text": [
      "[37, 0, 0, 0, 0, 0, 0, 0, 0, 0]\n"
     ]
    }
   ],
   "source": [
    "print(num_A[:10])"
   ]
  },
  {
   "cell_type": "code",
   "execution_count": 24,
   "metadata": {},
   "outputs": [
    {
     "name": "stdout",
     "output_type": "stream",
     "text": [
      "8429809\n",
      "8429809\n",
      "8429809\n",
      "8429809\n",
      "8429809\n"
     ]
    }
   ],
   "source": [
    "print(len(num_A))\n",
    "print(len(num_C))\n",
    "print(len(num_G))\n",
    "print(len(num_T))\n",
    "print(len(num_D))"
   ]
  },
  {
   "cell_type": "code",
   "execution_count": 16,
   "metadata": {},
   "outputs": [
    {
     "name": "stdout",
     "output_type": "stream",
     "text": [
      "8429809\n"
     ]
    }
   ],
   "source": [
    "print(len(reference))"
   ]
  },
  {
   "cell_type": "code",
   "execution_count": 28,
   "metadata": {},
   "outputs": [],
   "source": [
    "np_num_A = np.array([num_A])\n",
    "np_num_C = np.array([num_C])\n",
    "np_num_G = np.array([num_G])\n",
    "np_num_T = np.array([num_T])\n",
    "np_num_D = np.array([num_D])"
   ]
  },
  {
   "cell_type": "code",
   "execution_count": 29,
   "metadata": {},
   "outputs": [],
   "source": [
    "nums = np.concatenate((np_num_A, np_num_C, np_num_G, np_num_T, np_num_D), axis=0)"
   ]
  },
  {
   "cell_type": "code",
   "execution_count": 30,
   "metadata": {},
   "outputs": [
    {
     "name": "stdout",
     "output_type": "stream",
     "text": [
      "(5, 8429809)\n"
     ]
    }
   ],
   "source": [
    "print(nums.shape)"
   ]
  },
  {
   "cell_type": "markdown",
   "metadata": {},
   "source": [
    "## investigate speed of processing"
   ]
  },
  {
   "cell_type": "code",
   "execution_count": 38,
   "metadata": {},
   "outputs": [
    {
     "name": "stdout",
     "output_type": "stream",
     "text": [
      "8429810\n",
      "19241092\n",
      "19186609\n",
      "19184375\n",
      "19236501\n",
      "24158043\n"
     ]
    }
   ],
   "source": [
    "with open('./e-coli.txt') as f:\n",
    "    for line in f.readlines():\n",
    "        print(len(line))"
   ]
  },
  {
   "cell_type": "markdown",
   "metadata": {},
   "source": [
    "This printing line length is very fast. So, most of the time is done spent in processing lines, not in I/O operations."
   ]
  },
  {
   "cell_type": "markdown",
   "metadata": {},
   "source": [
    "## use multiprocessing"
   ]
  },
  {
   "cell_type": "code",
   "execution_count": 2,
   "metadata": {},
   "outputs": [
    {
     "name": "stdout",
     "output_type": "stream",
     "text": [
      "elapsed-time: 4.771244525909424\n",
      "5\n"
     ]
    }
   ],
   "source": [
    "def parse_line(line):\n",
    "    return [int(v) for v in line.strip().split()]\n",
    "\n",
    "parsed_lines = None\n",
    "with Pool(5) as pool:\n",
    "    with open('./e-coli.txt') as f:\n",
    "        start_time = time.time()\n",
    "        reference = f.readline().strip()\n",
    "        \n",
    "        lines = f.readlines()\n",
    "        parsed_lines = pool.map(parse_line, lines)\n",
    "        end_time = time.time()\n",
    "    \n",
    "        print('elapsed-time:', end_time - start_time)\n",
    "print(len(parsed_lines))"
   ]
  },
  {
   "cell_type": "code",
   "execution_count": 4,
   "metadata": {},
   "outputs": [
    {
     "name": "stdout",
     "output_type": "stream",
     "text": [
      "(5, 8429809)\n"
     ]
    }
   ],
   "source": [
    "parsed_lines_np = np.array(parsed_lines)\n",
    "print(parsed_lines_np.shape)"
   ]
  },
  {
   "cell_type": "markdown",
   "metadata": {},
   "source": [
    "# investigate numpy array contents"
   ]
  },
  {
   "cell_type": "code",
   "execution_count": 9,
   "metadata": {},
   "outputs": [
    {
     "name": "stdout",
     "output_type": "stream",
     "text": [
      "[['a' 'b' 'c']\n",
      " ['1' '2' '3']]\n",
      "<class 'numpy.ndarray'>\n",
      "(2, 3)\n"
     ]
    }
   ],
   "source": [
    "a = np.array([['a', 'b', 'c'], [1, 2, 3]])\n",
    "print(a)\n",
    "print(type(a))\n",
    "print(a.shape)"
   ]
  },
  {
   "cell_type": "markdown",
   "metadata": {},
   "source": [
    "# investigate numpy I/O speed separate string"
   ]
  },
  {
   "cell_type": "code",
   "execution_count": 5,
   "metadata": {},
   "outputs": [
    {
     "name": "stdout",
     "output_type": "stream",
     "text": [
      "5\n",
      "(5, 8429809)\n"
     ]
    }
   ],
   "source": [
    "print(len(parsed_lines))\n",
    "parsed_lines_np = np.concatenate([[line] for line in parsed_lines], axis=0)\n",
    "print(parsed_lines_np.shape)"
   ]
  },
  {
   "cell_type": "code",
   "execution_count": 17,
   "metadata": {},
   "outputs": [],
   "source": [
    "np.save('./parsed_lines.npy', parsed_lines_np)\n",
    "with open('./ref.txt', 'w') as f:\n",
    "    f.write('{}'.format(reference))"
   ]
  },
  {
   "cell_type": "code",
   "execution_count": 18,
   "metadata": {},
   "outputs": [],
   "source": [
    "read_array = np.load('./parsed_lines.npy')\n",
    "with open('./ref.txt') as f:\n",
    "    read_ref = f.readline()"
   ]
  },
  {
   "cell_type": "markdown",
   "metadata": {},
   "source": [
    "This turns out to be ok fast."
   ]
  },
  {
   "cell_type": "markdown",
   "metadata": {},
   "source": [
    "## investigate numpy I/O speed connected string"
   ]
  },
  {
   "cell_type": "code",
   "execution_count": 27,
   "metadata": {},
   "outputs": [
    {
     "name": "stdout",
     "output_type": "stream",
     "text": [
      "8429809\n",
      "8429809\n",
      "(1, 8429809)\n"
     ]
    }
   ],
   "source": [
    "print(len(reference))\n",
    "print(len([c for c in reference]))\n",
    "\n",
    "ref_np = np.array([[c for c in reference.strip()]])\n",
    "print(ref_np.shape)\n",
    "\n",
    "merged_np = np.concatenate([ref_np, parsed_lines_np], axis=0)"
   ]
  },
  {
   "cell_type": "markdown",
   "metadata": {},
   "source": [
    "This merging of ints and strings is no fast."
   ]
  },
  {
   "cell_type": "markdown",
   "metadata": {},
   "source": [
    "## convert reference to str"
   ]
  },
  {
   "cell_type": "code",
   "execution_count": 28,
   "metadata": {},
   "outputs": [],
   "source": [
    "mapping = {\n",
    "    'A': 0,\n",
    "    'C': 1,\n",
    "    'G': 2,\n",
    "    'T': 3,\n",
    "    '-': 4\n",
    "}\n",
    "\n",
    "ref_converted = [mapping[c] for c in reference]"
   ]
  },
  {
   "cell_type": "code",
   "execution_count": 29,
   "metadata": {},
   "outputs": [],
   "source": [
    "merged_converted_np = np.concatenate([np.array([ref_converted]), parsed_lines_np], axis=0)"
   ]
  },
  {
   "cell_type": "code",
   "execution_count": 30,
   "metadata": {},
   "outputs": [],
   "source": [
    "np.save('merged_converted.npy', merged_converted_np)"
   ]
  },
  {
   "cell_type": "code",
   "execution_count": 31,
   "metadata": {},
   "outputs": [],
   "source": [
    "read_merged_converted_np = np.load('./merged_converted.npy')"
   ]
  },
  {
   "cell_type": "code",
   "execution_count": null,
   "metadata": {},
   "outputs": [],
   "source": []
  }
 ],
 "metadata": {
  "kernelspec": {
   "display_name": "Python 3",
   "language": "python",
   "name": "python3"
  },
  "language_info": {
   "codemirror_mode": {
    "name": "ipython",
    "version": 3
   },
   "file_extension": ".py",
   "mimetype": "text/x-python",
   "name": "python",
   "nbconvert_exporter": "python",
   "pygments_lexer": "ipython3",
   "version": "3.5.2"
  }
 },
 "nbformat": 4,
 "nbformat_minor": 2
}

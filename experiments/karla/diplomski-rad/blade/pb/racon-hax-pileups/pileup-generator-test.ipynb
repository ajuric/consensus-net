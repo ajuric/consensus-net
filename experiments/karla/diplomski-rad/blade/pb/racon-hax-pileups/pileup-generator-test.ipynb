{
 "cells": [
  {
   "cell_type": "code",
   "execution_count": 38,
   "metadata": {},
   "outputs": [],
   "source": [
    "from abc import ABC, abstractmethod\n",
    "from multiprocessing import Pool\n",
    "from shutil import rmtree\n",
    "from time import time\n",
    "\n",
    "import numpy as np\n",
    "import os\n",
    "import progressbar\n",
    "import pysam\n",
    "import pysamstats\n",
    "\n",
    "\n",
    "class PileupGenerator(ABC):\n",
    "\n",
    "    def __init__(self, reference_fasta_path, mode, save_directory_path=None):\n",
    "        self.reference_fasta_path = reference_fasta_path\n",
    "        self.mode = mode\n",
    "        self.save_directory_path = save_directory_path\n",
    "\n",
    "        self._check_mode()\n",
    "\n",
    "    def _check_mode(self):\n",
    "        \"\"\"\n",
    "        Checks if given mode is supported: 'training' or 'inference'.\n",
    "\n",
    "        :raise ValueError: if selected mode is not supported\n",
    "        \"\"\"\n",
    "        modes = ['training', 'inference']\n",
    "        if self.mode not in modes:\n",
    "            raise ValueError(\n",
    "                'You must provide either \\'training\\' or \\'inference\\' mode, '\n",
    "                'but \\'{}\\' given.'.format(self.mode))\n",
    "\n",
    "    def _check_save_directory_path(self):\n",
    "        if self.save_directory_path is not None:\n",
    "            if os.path.exists(self.save_directory_path):\n",
    "                raise ValueError(\n",
    "                    'You must provide non-existing save output directory, '\n",
    "                    '{} given.'.format(self.save_directory_path))\n",
    "            else:\n",
    "                os.makedirs(self.save_directory_path)\n",
    "\n",
    "    def generate_pileups(self):\n",
    "        self._check_mode()\n",
    "        self._check_save_directory_path()\n",
    "\n",
    "        X, y_oh, contig_names = self._generate_pileups()\n",
    "\n",
    "        total_pileups = len(X)\n",
    "        if self.mode == 'training':  # training mode\n",
    "            X, y_oh = [np.concatenate(X, axis=0)], [\n",
    "                np.concatenate(y_oh, axis=0)]\n",
    "            total_pileups = 1\n",
    "        else:  # inference mode\n",
    "            pass  # nothing to do\n",
    "\n",
    "        if self.save_directory_path is not None:\n",
    "            return self._save_data(X, y_oh, contig_names, total_pileups)\n",
    "        else:\n",
    "            return X, y_oh, contig_names\n",
    "\n",
    "    def _save_data(self, X, y_oh, contig_names, total_pileups):\n",
    "        X_save_paths = [\n",
    "            os.path.join(\n",
    "                self.save_directory_path,\n",
    "                'pileups-X-{}.npy'.format(i))\n",
    "            for i in range(total_pileups)]\n",
    "        y_save_paths = [os.path.join(self.save_directory_path,\n",
    "                                     'pileups-y-{}.npy'.format(i))\n",
    "                        for i in range(total_pileups)]\n",
    "        for X_save_path, y_save_path, Xi, yi in zip(\n",
    "                X_save_paths, y_save_paths, X, y_oh):\n",
    "            np.save(X_save_path, Xi)\n",
    "            np.save(y_save_path, yi)\n",
    "        return X, y_oh, X_save_paths, y_save_paths, contig_names\n",
    "\n",
    "    @abstractmethod\n",
    "    def _generate_pileups(self):\n",
    "        pass\n",
    "\n",
    "\n",
    "class PysamstatsNoIndelGenerator(PileupGenerator):\n",
    "\n",
    "    def __init__(self, bam_file_path, reference_fasta_path, mode,\n",
    "                 save_directory_path=None):\n",
    "        PileupGenerator.__init__(self, reference_fasta_path, mode,\n",
    "                                 save_directory_path=save_directory_path)\n",
    "        self.bam_file_path = bam_file_path\n",
    "\n",
    "    def _generate_pileups(self):\n",
    "        bam_file = pysam.AlignmentFile(self.bam_file_path)\n",
    "\n",
    "        info_of_interest = ['A', 'C', 'G', 'T']\n",
    "\n",
    "        # Last number in shape - 5 - is for letters other than A, C, G and T.\n",
    "        mapping = {'A': 0, 'a': 0, 'C': 1, 'c': 1, 'G': 2, 'g': 2, 'T': 3,\n",
    "                   't': 3}\n",
    "        total_options = len(info_of_interest) + 1\n",
    "\n",
    "        pileups = [np.zeros(\n",
    "            (bam_file.get_reference_length(contig_name),\n",
    "             len(info_of_interest)\n",
    "             )) for contig_name in bam_file.references]\n",
    "\n",
    "        y_oh = [np.zeros(\n",
    "            (bam_file.get_reference_length(contig_name),\n",
    "             total_options\n",
    "             )) for contig_name in bam_file.references]\n",
    "\n",
    "        total_length = np.sum(\n",
    "            [bam_file.get_reference_length(contig_name) for contig_name in\n",
    "             bam_file.references])\n",
    "        progress_counter = 0\n",
    "        contig_names = bam_file.references\n",
    "        with progressbar.ProgressBar(max_value=total_length) as progress_bar:\n",
    "            for contig_id, contig_name in enumerate(contig_names):\n",
    "                for record in pysamstats.stat_variation(\n",
    "                        bam_file, chrom=contig_name,\n",
    "                        fafile=self.reference_fasta_path):\n",
    "                    progress_bar.update(progress_counter)\n",
    "                    progress_counter += 1\n",
    "\n",
    "                    curr_position = record['pos']\n",
    "\n",
    "                    for i, info in enumerate(info_of_interest):\n",
    "                        pileups[contig_id][curr_position][i] += record[info]\n",
    "\n",
    "                    y_oh[contig_id][curr_position][\n",
    "                        mapping.get(record['ref'], -1)] = 1\n",
    "\n",
    "        return pileups, y_oh, contig_names\n",
    "\n",
    "\n",
    "class PysamstatsIndelGenerator(PileupGenerator):\n",
    "\n",
    "    def __init__(self, bam_file_path, reference_fasta_path, mode,\n",
    "                 save_directory_path=None):\n",
    "        PileupGenerator.__init__(self, reference_fasta_path, mode,\n",
    "                                 save_directory_path=save_directory_path)\n",
    "        self.bam_file_path = bam_file_path\n",
    "\n",
    "    def _generate_pileups(self):\n",
    "        bam_file = pysam.AlignmentFile(self.bam_file_path)\n",
    "\n",
    "        info_of_interest = ['A', 'C', 'G', 'T', 'insertions', 'deletions']\n",
    "        indel_positions = [4, 5]\n",
    "\n",
    "        # Last number in shape - 5 - is for letters other than A, C, G and T.\n",
    "        mapping = {'A': 0, 'a': 0, 'C': 1, 'c': 1, 'G': 2, 'g': 2, 'T': 3,\n",
    "                   't': 3}\n",
    "        total_options = len(info_of_interest) + 1\n",
    "\n",
    "        pileups = [np.zeros(\n",
    "            (bam_file.get_reference_length(contig_name),\n",
    "             len(info_of_interest)\n",
    "             )) for contig_name in bam_file.references]\n",
    "\n",
    "        y_oh = [np.zeros(\n",
    "            (bam_file.get_reference_length(contig_name),\n",
    "             total_options\n",
    "             )) for contig_name in bam_file.references]\n",
    "\n",
    "        total_length = np.sum(\n",
    "            [bam_file.get_reference_length(contig_name) for contig_name in\n",
    "             bam_file.references])\n",
    "        progress_counter = 0\n",
    "        contig_names = bam_file.references\n",
    "        with progressbar.ProgressBar(max_value=total_length) as progress_bar:\n",
    "            for contig_id, contig_name in enumerate(contig_names):\n",
    "                for record in pysamstats.stat_variation(\n",
    "                        bam_file, chrom=contig_name,\n",
    "                        fafile=self.reference_fasta_path):\n",
    "                    progress_bar.update(progress_counter)\n",
    "                    progress_counter += 1\n",
    "\n",
    "                    curr_position = record['pos']\n",
    "\n",
    "                    for i, info in enumerate(info_of_interest):\n",
    "                        pileups[contig_id][curr_position][i] += record[info]\n",
    "\n",
    "                    pileup_argmax = np.argmax(\n",
    "                        pileups[contig_id][curr_position])\n",
    "                    if pileup_argmax in indel_positions:\n",
    "                        y_oh[contig_id][curr_position][pileup_argmax] = 1\n",
    "                    else:\n",
    "                        y_oh[contig_id][curr_position][\n",
    "                            mapping.get(record['ref'], -1)] = 1\n",
    "\n",
    "        return pileups, y_oh, contig_names\n",
    "\n",
    "\n",
    "class RaconMSAGenerator(PileupGenerator):\n",
    "\n",
    "    _RACON_CMD = '{}/racon-hax/racon_hax -t {} {} {} {} > {}'\n",
    "\n",
    "    def __init__(self, reads_path, sam_file_path, reference_fasta_path, mode,\n",
    "                 tools_dir, racon_hax_output_dir, save_directory_path=None, num_threads=1):\n",
    "        PileupGenerator.__init__(self, reference_fasta_path, mode,\n",
    "                                 save_directory_path=save_directory_path)\n",
    "        self.reads_path = reads_path\n",
    "        self.sam_file_path = sam_file_path\n",
    "        self.num_threads = num_threads\n",
    "        self.tools_dir = tools_dir\n",
    "        self.racon_hax_output_dir = racon_hax_output_dir\n",
    "        \n",
    "    @staticmethod\n",
    "    def parse_line(line):\n",
    "        return [int(v) for v in line.strip().split()]\n",
    "\n",
    "    def _parse_racon_hax_output(self, racon_hax_output_path):\n",
    "        \"\"\"\n",
    "        Every pileup has 5 rows A, C, G, T and D. At some column i, number of\n",
    "        As, Cs, Gs, Ts and Ds correspond to number of those letters at\n",
    "        position i on reference in pileup.\n",
    "\n",
    "        :param racon_hax_output_path:\n",
    "        :return:\n",
    "        \"\"\"\n",
    "\n",
    "        references, pileups = list(), list()\n",
    "        with Pool(self.num_threads) as pool:\n",
    "            with open(racon_hax_output_path) as f:\n",
    "                while True:  # loop for multiple contigs\n",
    "                    reference = f.readline().strip()\n",
    "                    if len(reference) == 0: # EOF\n",
    "                        break\n",
    "\n",
    "                    lines = [f.readline() for _ in range(5)]\n",
    "                    pileup = np.array(pool.map(self.parse_line, lines))\n",
    "\n",
    "                    references.append(reference)\n",
    "                    pileups.append(pileup)\n",
    "\n",
    "        return references, pileups\n",
    "\n",
    "    @staticmethod\n",
    "    def _generate_contig_names(num_contigs):\n",
    "        return ['contig_'.format(i) for i in range(num_contigs)]\n",
    "\n",
    "    def _generate_pileups(self):\n",
    "        timestamp = str(int(time()))\n",
    "        racon_hax_output_path = os.path.join(self.racon_hax_output_dir,\n",
    "                                             'racon-hex-{}.txt'.format(timestamp))\n",
    "        os.makedirs(self.racon_hax_output_dir)\n",
    "        \n",
    "        # Generate racon_hax output (MSA algorithm).\n",
    "        os.system(\n",
    "            RaconMSAGenerator._RACON_CMD.format(\n",
    "                self.tools_dir,\n",
    "                self.num_threads,\n",
    "                self.reads_path,\n",
    "                self.sam_file_path,\n",
    "                self.reference_fasta_path,\n",
    "                racon_hax_output_path\n",
    "            ))\n",
    "\n",
    "        # Parse the racon_hax output.\n",
    "        references, pileups = self._parse_racon_hax_output(\n",
    "            racon_hax_output_path)\n",
    "\n",
    "        # Remove racon_hax output.\n",
    "        rmtree(self.racon_hax_output_dir)\n",
    "\n",
    "        num_contigs = len(references)\n",
    "        contig_names = self._generate_contig_names(num_contigs)\n",
    "\n",
    "        # D - deletions; I - insertions.\n",
    "        y_classes = ['A', 'C', 'G', 'T', 'I', 'D']\n",
    "        mapping = {'A': 0, 'a': 0, 'C': 1, 'c': 1, 'G': 2, 'g': 2, 'T': 3,\n",
    "                   't': 3}\n",
    "\n",
    "        # Parse all contigs.\n",
    "        total_options = len(y_classes) + 1\n",
    "        y_oh = [np.zeros(\n",
    "            (len(reference), total_options)) for reference in references]\n",
    "\n",
    "        total_length = np.sum([len(reference) for reference in references])\n",
    "        progress_counter = 0\n",
    "        with progressbar.ProgressBar(max_value=total_length) as progress_bar:\n",
    "            for contig_id, contig in enumerate(references):\n",
    "                for position in range(len(references)):\n",
    "                    progress_bar.update(progress_counter)\n",
    "                    progress_counter += 1\n",
    "\n",
    "                    contig_base = contig[position]\n",
    "                    num_Ds = pileups[contig_id][position][4]\n",
    "                    num_bases = np.max(pileups[contig_id][position][:4])\n",
    "\n",
    "                    if contig_base == '-':  # insertion\n",
    "                        y_oh[contig_id][position][4] = 1  # 4 is insertion id\n",
    "                    elif num_Ds > num_bases:  # deletion\n",
    "                        y_oh[contig_id][position][5] = 1  # 5 is insertion id\n",
    "                    else:\n",
    "                        y_oh[contig_id][position][\n",
    "                            mapping.get(contig[position], -1)] = 1\n",
    "        \n",
    "        pileups = [pileup.T for pileup in pileups]\n",
    "        \n",
    "        return pileups, y_oh, contig_names"
   ]
  },
  {
   "cell_type": "code",
   "execution_count": 14,
   "metadata": {},
   "outputs": [
    {
     "name": "stdout",
     "output_type": "stream",
     "text": [
      "1529139732.2531197\n",
      "1529139732\n",
      "1529139732\n"
     ]
    }
   ],
   "source": [
    "a = time()\n",
    "print(a)\n",
    "print(int(a))\n",
    "print(str(int(a)))"
   ]
  },
  {
   "cell_type": "markdown",
   "metadata": {},
   "source": [
    "## PysamstatsNoIndelGenerator"
   ]
  },
  {
   "cell_type": "code",
   "execution_count": 5,
   "metadata": {},
   "outputs": [
    {
     "name": "stderr",
     "output_type": "stream",
     "text": [
      "100% (4641652 of 4641652) |##############| Elapsed Time: 0:06:35 Time:  0:06:35\n"
     ]
    }
   ],
   "source": [
    "bam_file_path = '/home/diplomski-rad/blade/pb/escherichia-coli-NCTC86/reads-to-ref-sorted.bam'\n",
    "reference_fasta_path = '/home/data/pacific_biosciences/bacteria/escherichia/coli/escherichia_coli_reference.fasta'\n",
    "mode = 'training'\n",
    "pileup_generator = PysamstatsNoIndelGenerator(bam_file_path, reference_fasta_path, mode)\n",
    "X, y, contig_names = pileup_generator.generate_pileups()"
   ]
  },
  {
   "cell_type": "code",
   "execution_count": 6,
   "metadata": {},
   "outputs": [
    {
     "name": "stdout",
     "output_type": "stream",
     "text": [
      "1\n",
      "1\n",
      "1\n"
     ]
    }
   ],
   "source": [
    "print(len(X))\n",
    "print(len(y))\n",
    "print(len(contig_names))"
   ]
  },
  {
   "cell_type": "code",
   "execution_count": 7,
   "metadata": {},
   "outputs": [
    {
     "name": "stdout",
     "output_type": "stream",
     "text": [
      "(4641652, 4)\n",
      "(4641652, 5)\n"
     ]
    }
   ],
   "source": [
    "print(X[0].shape)\n",
    "print(y[0].shape)"
   ]
  },
  {
   "cell_type": "markdown",
   "metadata": {},
   "source": [
    "## PysamstatsIndelGenerator"
   ]
  },
  {
   "cell_type": "code",
   "execution_count": 8,
   "metadata": {},
   "outputs": [
    {
     "name": "stderr",
     "output_type": "stream",
     "text": [
      "100% (4641652 of 4641652) |##############| Elapsed Time: 0:07:34 Time:  0:07:34\n"
     ]
    }
   ],
   "source": [
    "bam_file_path = '/home/diplomski-rad/blade/pb/escherichia-coli-NCTC86/reads-to-ref-sorted.bam'\n",
    "reference_fasta_path = '/home/data/pacific_biosciences/bacteria/escherichia/coli/escherichia_coli_reference.fasta'\n",
    "mode = 'training'\n",
    "pileup_generator = PysamstatsIndelGenerator(bam_file_path, reference_fasta_path, mode)\n",
    "X, y, contig_names = pileup_generator.generate_pileups()"
   ]
  },
  {
   "cell_type": "code",
   "execution_count": 9,
   "metadata": {},
   "outputs": [
    {
     "name": "stdout",
     "output_type": "stream",
     "text": [
      "1\n",
      "1\n",
      "1\n"
     ]
    }
   ],
   "source": [
    "print(len(X))\n",
    "print(len(y))\n",
    "print(len(contig_names))"
   ]
  },
  {
   "cell_type": "code",
   "execution_count": 10,
   "metadata": {},
   "outputs": [
    {
     "name": "stdout",
     "output_type": "stream",
     "text": [
      "(4641652, 6)\n",
      "(4641652, 7)\n"
     ]
    }
   ],
   "source": [
    "print(X[0].shape)\n",
    "print(y[0].shape)"
   ]
  },
  {
   "cell_type": "markdown",
   "metadata": {},
   "source": [
    "## RaconMSAGenerator"
   ]
  },
  {
   "cell_type": "code",
   "execution_count": 39,
   "metadata": {
    "scrolled": false
   },
   "outputs": [
    {
     "name": "stderr",
     "output_type": "stream",
     "text": [
      "100% (8429809 of 8429809) |##############| Elapsed Time: 0:00:00 Time:  0:00:00\n"
     ]
    }
   ],
   "source": [
    "reads_path = '/home/data/pacific_biosciences/bacteria/escherichia/coli/NCTC86.fastq'\n",
    "sam_file_path = '/home/diplomski-rad/blade/pb/escherichia-coli-NCTC86/reads-to-ref.sam'\n",
    "reference_fasta_path = '/home/data/pacific_biosciences/bacteria/escherichia/coli/escherichia_coli_reference.fasta'\n",
    "tools_dir = '/home/diplomski-rad/'\n",
    "mode = 'training'\n",
    "racon_hax_output_dir = './gen-test'\n",
    "num_threads = 12\n",
    "pileup_generator = RaconMSAGenerator(\n",
    "    reads_path, sam_file_path, reference_fasta_path, mode, tools_dir, racon_hax_output_dir, num_threads=num_threads)\n",
    "X, y, contig_names = pileup_generator.generate_pileups()"
   ]
  },
  {
   "cell_type": "code",
   "execution_count": 40,
   "metadata": {},
   "outputs": [
    {
     "name": "stdout",
     "output_type": "stream",
     "text": [
      "1\n",
      "1\n",
      "1\n"
     ]
    }
   ],
   "source": [
    "print(len(X))\n",
    "print(len(y))\n",
    "print(len(contig_names))"
   ]
  },
  {
   "cell_type": "code",
   "execution_count": 41,
   "metadata": {},
   "outputs": [
    {
     "name": "stdout",
     "output_type": "stream",
     "text": [
      "(8429809, 5)\n",
      "(8429809, 7)\n"
     ]
    }
   ],
   "source": [
    "print(X[0].shape)\n",
    "print(y[0].shape)"
   ]
  },
  {
   "cell_type": "code",
   "execution_count": null,
   "metadata": {},
   "outputs": [],
   "source": []
  }
 ],
 "metadata": {
  "kernelspec": {
   "display_name": "Python 3",
   "language": "python",
   "name": "python3"
  },
  "language_info": {
   "codemirror_mode": {
    "name": "ipython",
    "version": 3
   },
   "file_extension": ".py",
   "mimetype": "text/x-python",
   "name": "python",
   "nbconvert_exporter": "python",
   "pygments_lexer": "ipython3",
   "version": "3.5.2"
  }
 },
 "nbformat": 4,
 "nbformat_minor": 2
}

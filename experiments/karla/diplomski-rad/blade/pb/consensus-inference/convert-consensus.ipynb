{
 "cells": [
  {
   "cell_type": "markdown",
   "metadata": {},
   "source": [
    "## Helper functions"
   ]
  },
  {
   "cell_type": "code",
   "execution_count": 31,
   "metadata": {},
   "outputs": [],
   "source": [
    "from math import ceil\n",
    "\n",
    "def read_consensus(filename):\n",
    "    with open(filename) as f:\n",
    "        lines = f.readlines()\n",
    "        contig_names, contigs = list(), list()\n",
    "        for i in range(0, len(lines), 2):\n",
    "            contig_name =  lines[i].strip()\n",
    "            contig = lines[i + 1].strip()\n",
    "            \n",
    "            contig_names.append(contig_name), contigs.append(contig)\n",
    "    return contig_names, contigs\n",
    "\n",
    "CHUNK_LEN = 80\n",
    "\n",
    "def read_consensus_chunks(filename):\n",
    "    with open(filename) as f:\n",
    "        contig_names, contigs = list(), list()\n",
    "        contig = ''\n",
    "        for line in f:\n",
    "            line = line.strip()\n",
    "            if line.startswith('>'):\n",
    "                contig_names.append(line)\n",
    "                if len(contig) > 0:\n",
    "                    contigs.append(contig)\n",
    "                contig = ''\n",
    "            else:\n",
    "                contig += line\n",
    "        contigs.append(contig)\n",
    "    return contig_names, contigs\n",
    "\n",
    "def write_consensus_one(filename, contig_names, contigs):\n",
    "    with open(filename, 'w') as f:\n",
    "        for i, (contig_name, contig) in enumerate(zip(contig_names, contigs)):\n",
    "            f.write('>{}{} LN:{}\\n'.format(i, contig_name, len(contig)))\n",
    "            f.write('{}\\n'.format(contig))\n",
    "\n",
    "def write_consensus(filename, contig_names, contigs):\n",
    "    with open(filename, 'w') as f:\n",
    "        for i, (contig_name, contig) in enumerate(zip(contig_names, contigs)):\n",
    "            f.write('>{}{} LN:{}\\n'.format(i, contig_name, len(contig)))\n",
    "            num_chunks = ceil(len(contig) / CHUNK_LEN)\n",
    "            for chunk_id in range(num_chunks):\n",
    "                contig_chunk = contig[chunk_id*CHUNK_LEN:(chunk_id+1)*CHUNK_LEN]\n",
    "                f.write('{}\\n'.format(contig_chunk))"
   ]
  },
  {
   "cell_type": "markdown",
   "metadata": {},
   "source": [
    "## Convert k. pneumoniae model 11"
   ]
  },
  {
   "cell_type": "code",
   "execution_count": 22,
   "metadata": {},
   "outputs": [
    {
     "name": "stdout",
     "output_type": "stream",
     "text": [
      "alooooo 8\n",
      "alooooooooooooooooo 65720\n",
      "alooooooooooooooooo 1625\n",
      "alooooooooooooooooo 1321\n",
      "alooooooooooooooooo 155\n"
     ]
    }
   ],
   "source": [
    "input_filename = '/home/diplomski-rad/blade/pb/consensus-inference/k-pneumoniae-NCTC204-all-contigs-n20-model-11-racon-hax/consensus.fasta'\n",
    "contig_names, contigs = read_consensus(input_filename)\n",
    "\n",
    "output_filename = '/home/diplomski-rad/blade/pb/consensus-inference/k-pneumoniae-NCTC204-all-contigs-n20-model-11-racon-hax/wrapped-consensus.fasta'\n",
    "write_consensus(output_filename, contig_names, contigs)"
   ]
  },
  {
   "cell_type": "markdown",
   "metadata": {},
   "source": [
    "## Convert k. pneumoniae model 7"
   ]
  },
  {
   "cell_type": "code",
   "execution_count": 30,
   "metadata": {},
   "outputs": [],
   "source": [
    "# input_filename = '/home/diplomski-rad/blade/pb/consensus-inference/k-pneumoniae-NCTC204-all-contigs-n20-model-7-racon-hax/consensus.fasta'\n",
    "# contig_names, contigs = read_consensus(input_filename)\n",
    "\n",
    "# output_filename = '/home/diplomski-rad/blade/pb/consensus-inference/k-pneumoniae-NCTC204-all-contigs-n20-model-7-racon-hax/wrapped-consensus.fasta'\n",
    "# write_consensus(output_filename, contig_names, contigs)\n",
    "\n",
    "input_filename = '/home/diplomski-rad/blade/pb/consensus-inference/k-pneumoniae-NCTC204-all-contigs-n20-model-7-racon-hax/consensus.fasta'\n",
    "contig_names, contigs = read_consensus_chunks(input_filename)\n",
    "\n",
    "output_filename = '/home/diplomski-rad/blade/pb/consensus-inference/k-pneumoniae-NCTC204-all-contigs-n20-model-7-racon-hax/good-consensus.fasta'\n",
    "write_consensus_one(output_filename, contig_names, contigs)"
   ]
  },
  {
   "cell_type": "markdown",
   "metadata": {},
   "source": [
    "## Convert m. morgani model 11"
   ]
  },
  {
   "cell_type": "code",
   "execution_count": 32,
   "metadata": {},
   "outputs": [],
   "source": [
    "input_filename = '/home/diplomski-rad/blade/pb/consensus-inference/m-morgani-NCTC235-all-contigs-n20-model-11-racon-hax/consensus.fasta'\n",
    "contig_names, contigs = read_consensus(input_filename)\n",
    "\n",
    "output_filename = '/home/diplomski-rad/blade/pb/consensus-inference/m-morgani-NCTC235-all-contigs-n20-model-11-racon-hax/good-consensus.fasta'\n",
    "write_consensus_one(output_filename, contig_names, contigs)"
   ]
  },
  {
   "cell_type": "markdown",
   "metadata": {},
   "source": [
    "## Convert m. morgani model 7"
   ]
  },
  {
   "cell_type": "code",
   "execution_count": 33,
   "metadata": {},
   "outputs": [],
   "source": [
    "input_filename = '/home/diplomski-rad/blade/pb/consensus-inference/m-morgani-NCTC235-all-contigs-n20-model-7-racon-hax/consensus.fasta'\n",
    "contig_names, contigs = read_consensus(input_filename)\n",
    "\n",
    "output_filename = '/home/diplomski-rad/blade/pb/consensus-inference/m-morgani-NCTC235-all-contigs-n20-model-7-racon-hax/good-consensus.fasta'\n",
    "write_consensus_one(output_filename, contig_names, contigs)"
   ]
  },
  {
   "cell_type": "markdown",
   "metadata": {},
   "source": [
    "## Convert s. enterica 92 model 11"
   ]
  },
  {
   "cell_type": "code",
   "execution_count": 34,
   "metadata": {},
   "outputs": [],
   "source": [
    "input_filename = '/home/diplomski-rad/blade/pb/consensus-inference/s-enterica-NCTC129-all-contigs-n20-model-11-racon-hax/consensus.fasta'\n",
    "contig_names, contigs = read_consensus(input_filename)\n",
    "\n",
    "output_filename = '/home/diplomski-rad/blade/pb/consensus-inference/s-enterica-NCTC129-all-contigs-n20-model-11-racon-hax/good-consensus.fasta'\n",
    "write_consensus_one(output_filename, contig_names, contigs)"
   ]
  },
  {
   "cell_type": "markdown",
   "metadata": {},
   "source": [
    "## Convert s. enterica 129 model 7"
   ]
  },
  {
   "cell_type": "code",
   "execution_count": 35,
   "metadata": {},
   "outputs": [],
   "source": [
    "input_filename = '/home/diplomski-rad/blade/pb/consensus-inference/s-enterica-NCTC129-all-contigs-n20-model-7-racon-hax/consensus.fasta'\n",
    "contig_names, contigs = read_consensus(input_filename)\n",
    "\n",
    "output_filename = '/home/diplomski-rad/blade/pb/consensus-inference/s-enterica-NCTC129-all-contigs-n20-model-7-racon-hax/good-consensus.fasta'\n",
    "write_consensus_one(output_filename, contig_names, contigs)"
   ]
  },
  {
   "cell_type": "markdown",
   "metadata": {},
   "source": [
    "## Convert s. enterica 92 model 11"
   ]
  },
  {
   "cell_type": "code",
   "execution_count": 37,
   "metadata": {},
   "outputs": [],
   "source": [
    "input_filename = '/home/diplomski-rad/blade/pb/consensus-inference/s-enterica-NCTC92-all-contigs-n20-model-11-racon-hax/consensus.fasta'\n",
    "contig_names, contigs = read_consensus(input_filename)\n",
    "\n",
    "output_filename = '/home/diplomski-rad/blade/pb/consensus-inference/s-enterica-NCTC92-all-contigs-n20-model-11-racon-hax/good-consensus.fasta'\n",
    "write_consensus_one(output_filename, contig_names, contigs)"
   ]
  },
  {
   "cell_type": "markdown",
   "metadata": {},
   "source": [
    "## Convert s. enterica 92 model 7"
   ]
  },
  {
   "cell_type": "code",
   "execution_count": 39,
   "metadata": {},
   "outputs": [],
   "source": [
    "input_filename = '/home/diplomski-rad/blade/pb/consensus-inference/s-enterica-NCTC92-all-contigs-n20-model-7-racon-hax/consensus.fasta'\n",
    "contig_names, contigs = read_consensus(input_filename)\n",
    "\n",
    "output_filename = '/home/diplomski-rad/blade/pb/consensus-inference/s-enterica-NCTC92-all-contigs-n20-model-7-racon-hax/good-consensus.fasta'\n",
    "write_consensus_one(output_filename, contig_names, contigs)"
   ]
  },
  {
   "cell_type": "code",
   "execution_count": null,
   "metadata": {},
   "outputs": [],
   "source": []
  }
 ],
 "metadata": {
  "kernelspec": {
   "display_name": "Python 3",
   "language": "python",
   "name": "python3"
  },
  "language_info": {
   "codemirror_mode": {
    "name": "ipython",
    "version": 3
   },
   "file_extension": ".py",
   "mimetype": "text/x-python",
   "name": "python",
   "nbconvert_exporter": "python",
   "pygments_lexer": "ipython3",
   "version": "3.5.2"
  }
 },
 "nbformat": 4,
 "nbformat_minor": 2
}

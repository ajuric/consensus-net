{
 "cells": [
  {
   "cell_type": "code",
   "execution_count": 1,
   "metadata": {},
   "outputs": [
    {
     "name": "stdout",
     "output_type": "stream",
     "text": [
      "Adding src module.\n",
      "Adding inference module.\n"
     ]
    },
    {
     "name": "stderr",
     "output_type": "stream",
     "text": [
      "/usr/local/lib/python3.5/dist-packages/h5py/__init__.py:36: FutureWarning: Conversion of the second argument of issubdtype from `float` to `np.floating` is deprecated. In future, it will be treated as `np.float64 == np.dtype(float).type`.\n",
      "  from ._conv import register_converters as _register_converters\n",
      "Using TensorFlow backend.\n"
     ]
    },
    {
     "name": "stdout",
     "output_type": "stream",
     "text": [
      "Adding dataset module.\n"
     ]
    }
   ],
   "source": [
    "import numpy as np\n",
    "\n",
    "import sys\n",
    "\n",
    "module_path = '/home/diplomski-rad/consensus-net/'\n",
    "if module_path not in sys.path:\n",
    "    print('Adding src module.')\n",
    "    sys.path.append(module_path)\n",
    "    \n",
    "import src\n",
    "\n",
    "module_path = '/home/diplomski-rad/consensus-net/src/python/inference/'\n",
    "if module_path not in sys.path:\n",
    "    print('Adding inference module.')\n",
    "    sys.path.append(module_path)\n",
    "\n",
    "import inference\n",
    "\n",
    "module_path = '/home/diplomski-rad/consensus-net/src/python/dataset/'\n",
    "if module_path not in sys.path:\n",
    "    print('Adding dataset module.')\n",
    "    sys.path.append(module_path)\n",
    "\n",
    "import pileups"
   ]
  },
  {
   "cell_type": "code",
   "execution_count": 4,
   "metadata": {},
   "outputs": [
    {
     "name": "stderr",
     "output_type": "stream",
     "text": [
      "  0% (1623 of 2183309) |                 | Elapsed Time: 0:00:00 ETA:   0:02:15"
     ]
    },
    {
     "name": "stdout",
     "output_type": "stream",
     "text": [
      "----> Create pileups from assembly. <----\n",
      "##### Generate pileups from read alignments to reference. #####\n",
      "-----> 1. Generate pileups. <-----\n"
     ]
    },
    {
     "name": "stderr",
     "output_type": "stream",
     "text": [
      "100% (2183309 of 2183309) |##############| Elapsed Time: 0:02:44 Time:  0:02:44\n",
      "  0% (14216 of 2183309) |                | Elapsed Time: 0:00:00 ETA:   0:00:15"
     ]
    },
    {
     "name": "stdout",
     "output_type": "stream",
     "text": [
      "-----> 2. Generate ground truth. <-----\n"
     ]
    },
    {
     "name": "stderr",
     "output_type": "stream",
     "text": [
      "100% (2183309 of 2183309) |##############| Elapsed Time: 0:00:12 Time:  0:00:12\n"
     ]
    },
    {
     "name": "stdout",
     "output_type": "stream",
     "text": [
      "----> Create dataset with neighbourhood from pileups. <----\n",
      "Parsing  ./m-morgani-NCTC235-n3-model-7/X-pileups.npy  and  ./m-morgani-NCTC235-n3-model-7/y-pileups.npy\n"
     ]
    },
    {
     "name": "stderr",
     "output_type": "stream",
     "text": [
      "  0% (3595 of 2183309) |                 | Elapsed Time: 0:00:00 ETA:   0:02:01"
     ]
    },
    {
     "name": "stdout",
     "output_type": "stream",
     "text": [
      "Creating dataset with neighbourhood ...\n"
     ]
    },
    {
     "name": "stderr",
     "output_type": "stream",
     "text": [
      "100% (2183309 of 2183309) |##############| Elapsed Time: 0:01:59 Time:  0:01:59\n"
     ]
    },
    {
     "name": "stdout",
     "output_type": "stream",
     "text": [
      "----> Reshape dataset for convolutional network. <----\n"
     ]
    },
    {
     "name": "stderr",
     "output_type": "stream",
     "text": [
      "  0% (5197 of 2183241) |                 | Elapsed Time: 0:00:00 ETA:   0:01:24"
     ]
    },
    {
     "name": "stdout",
     "output_type": "stream",
     "text": [
      "X shape before reshaping: (2183241, 7, 4)\n",
      "y shape before reshaping: (2183241, 4)\n"
     ]
    },
    {
     "name": "stderr",
     "output_type": "stream",
     "text": [
      "100% (2183241 of 2183241) |##############| Elapsed Time: 0:01:23 Time:  0:01:23\n"
     ]
    },
    {
     "name": "stdout",
     "output_type": "stream",
     "text": [
      "X shape after reshaping: (2183241, 7, 1, 4)\n",
      "y shape after reshaping: (2183241, 4)\n",
      "----> Load model and make predictions (consensus). <----\n",
      "----> Create consensus summary. <----\n"
     ]
    },
    {
     "name": "stderr",
     "output_type": "stream",
     "text": [
      "\r",
      "                                                                               \r",
      "\r",
      "N/A% (0 of 4777060) |                    | Elapsed Time: 0:00:00 ETA:  --:--:--"
     ]
    },
    {
     "name": "stdout",
     "output_type": "stream",
     "text": [
      "----> Create pileups from assembly. <----\n",
      "##### Generate pileups from read alignments to reference. #####\n",
      "-----> 1. Generate pileups. <-----\n"
     ]
    },
    {
     "name": "stderr",
     "output_type": "stream",
     "text": [
      "100% (4777060 of 4777060) |##############| Elapsed Time: 0:07:05 Time:  0:07:05\n",
      "  0% (18331 of 4777060) |                | Elapsed Time: 0:00:00 ETA:   0:00:26"
     ]
    },
    {
     "name": "stdout",
     "output_type": "stream",
     "text": [
      "-----> 2. Generate ground truth. <-----\n"
     ]
    },
    {
     "name": "stderr",
     "output_type": "stream",
     "text": [
      "100% (4777060 of 4777060) |##############| Elapsed Time: 0:00:29 Time:  0:00:29\n"
     ]
    },
    {
     "name": "stdout",
     "output_type": "stream",
     "text": [
      "----> Create dataset with neighbourhood from pileups. <----\n",
      "Parsing  ./s-enterica-NCTC92-n3-model-7/X-pileups.npy  and  ./s-enterica-NCTC92-n3-model-7/y-pileups.npy\n"
     ]
    },
    {
     "name": "stderr",
     "output_type": "stream",
     "text": [
      "  0% (3954 of 4777060) |                 | Elapsed Time: 0:00:00 ETA:   0:04:01"
     ]
    },
    {
     "name": "stdout",
     "output_type": "stream",
     "text": [
      "Creating dataset with neighbourhood ...\n"
     ]
    },
    {
     "name": "stderr",
     "output_type": "stream",
     "text": [
      "100% (4777060 of 4777060) |##############| Elapsed Time: 0:04:42 Time:  0:04:42\n"
     ]
    },
    {
     "name": "stdout",
     "output_type": "stream",
     "text": [
      "----> Reshape dataset for convolutional network. <----\n"
     ]
    },
    {
     "name": "stderr",
     "output_type": "stream",
     "text": [
      "  0% (4483 of 4777054) |                 | Elapsed Time: 0:00:00 ETA:   0:03:33"
     ]
    },
    {
     "name": "stdout",
     "output_type": "stream",
     "text": [
      "X shape before reshaping: (4777054, 7, 4)\n",
      "y shape before reshaping: (4777054, 4)\n"
     ]
    },
    {
     "name": "stderr",
     "output_type": "stream",
     "text": [
      "100% (4777054 of 4777054) |##############| Elapsed Time: 0:03:08 Time:  0:03:08\n"
     ]
    },
    {
     "name": "stdout",
     "output_type": "stream",
     "text": [
      "X shape after reshaping: (4777054, 7, 1, 4)\n",
      "y shape after reshaping: (4777054, 4)\n",
      "----> Load model and make predictions (consensus). <----\n",
      "----> Create consensus summary. <----\n"
     ]
    },
    {
     "name": "stderr",
     "output_type": "stream",
     "text": [
      "\r",
      "                                                                               \r",
      "\r",
      "N/A% (0 of 4823619) |                    | Elapsed Time: 0:00:00 ETA:  --:--:--"
     ]
    },
    {
     "name": "stdout",
     "output_type": "stream",
     "text": [
      "----> Create pileups from assembly. <----\n",
      "##### Generate pileups from read alignments to reference. #####\n",
      "-----> 1. Generate pileups. <-----\n"
     ]
    },
    {
     "name": "stderr",
     "output_type": "stream",
     "text": [
      "100% (4823619 of 4823619) |##############| Elapsed Time: 0:06:22 Time:  0:06:22\n",
      "N/A% (0 of 4823619) |                    | Elapsed Time: 0:00:00 ETA:  --:--:--"
     ]
    },
    {
     "name": "stdout",
     "output_type": "stream",
     "text": [
      "-----> 2. Generate ground truth. <-----\n"
     ]
    },
    {
     "name": "stderr",
     "output_type": "stream",
     "text": [
      "100% (4823619 of 4823619) |##############| Elapsed Time: 0:00:33 Time:  0:00:33\n"
     ]
    },
    {
     "name": "stdout",
     "output_type": "stream",
     "text": [
      "----> Create dataset with neighbourhood from pileups. <----\n",
      "Parsing  ./s-enterica-NCTC129-n3-model-7/X-pileups.npy  and  ./s-enterica-NCTC129-n3-model-7/y-pileups.npy\n"
     ]
    },
    {
     "name": "stderr",
     "output_type": "stream",
     "text": [
      "  0% (3571 of 4823619) |                 | Elapsed Time: 0:00:00 ETA:   0:04:30"
     ]
    },
    {
     "name": "stdout",
     "output_type": "stream",
     "text": [
      "Creating dataset with neighbourhood ...\n"
     ]
    },
    {
     "name": "stderr",
     "output_type": "stream",
     "text": [
      "100% (4823619 of 4823619) |##############| Elapsed Time: 0:04:52 Time:  0:04:52\n"
     ]
    },
    {
     "name": "stdout",
     "output_type": "stream",
     "text": [
      "----> Reshape dataset for convolutional network. <----\n"
     ]
    },
    {
     "name": "stderr",
     "output_type": "stream",
     "text": [
      "  0% (4857 of 4823605) |                 | Elapsed Time: 0:00:00 ETA:   0:03:18"
     ]
    },
    {
     "name": "stdout",
     "output_type": "stream",
     "text": [
      "X shape before reshaping: (4823605, 7, 4)\n",
      "y shape before reshaping: (4823605, 4)\n"
     ]
    },
    {
     "name": "stderr",
     "output_type": "stream",
     "text": [
      "100% (4823605 of 4823605) |##############| Elapsed Time: 0:03:12 Time:  0:03:12\n"
     ]
    },
    {
     "name": "stdout",
     "output_type": "stream",
     "text": [
      "X shape after reshaping: (4823605, 7, 1, 4)\n",
      "y shape after reshaping: (4823605, 4)\n",
      "----> Load model and make predictions (consensus). <----\n",
      "----> Create consensus summary. <----\n"
     ]
    }
   ],
   "source": [
    "model_path = '/home/diplomski-rad/blade/pb/datasets/n3-all/generated-model-7.h5'\n",
    "assembly_pahts = ['/home/diplomski-rad/blade/pb/morganela-morgani-NCTC235/iter2.fasta',\n",
    "                  '/home/diplomski-rad/blade/pb/salmonella-enterica-NCTC92/iter2.fasta',\n",
    "                  '/home/diplomski-rad/blade/pb/salmonella-enterica-NCTC129/iter2.fasta']\n",
    "reference_pahts = ['/home/data/pacific_biosciences/bacteria/morganella/morgani/morganella_morganii_reference.fasta',\n",
    "                   '/home/data/pacific_biosciences/bacteria/salmonella/enterica/salmonella_enterica_reference.fasta',\n",
    "                   '/home/data/pacific_biosciences/bacteria/salmonella/enterica/salmonella_enterica_reference.fasta']\n",
    "bam_file_paths = ['/home/diplomski-rad/blade/pb/morganela-morgani-NCTC235/reads-to-asm-sorted.bam',\n",
    "                  '/home/diplomski-rad/blade/pb/salmonella-enterica-NCTC92/reads-to-asm-sorted.bam',\n",
    "                  '/home/diplomski-rad/blade/pb/salmonella-enterica-NCTC129/reads-to-asm-sorted.bam']\n",
    "contigs = ['utg000001l', 'utg000001c', 'utg000001l']\n",
    "neighbourhood_size = 3\n",
    "output_dirs = ['./m-morgani-NCTC235-n3-model-7',\n",
    "               './s-enterica-NCTC92-n3-model-7',\n",
    "               './s-enterica-NCTC129-n3-model-7']\n",
    "tools_dir = '/home/diplomski-rad/'\n",
    "include_indels = False\n",
    "\n",
    "for assembly_path, reference_path, bam_file_path, contig, output_dir in zip(assembly_pahts, reference_pahts, bam_file_paths, contigs, output_dirs):\n",
    "    inference.make_consensus(\n",
    "        model_path, \n",
    "        assembly_path,\n",
    "        reference_path,\n",
    "        bam_file_path,\n",
    "        contig,\n",
    "        neighbourhood_size,\n",
    "        output_dir,\n",
    "        tools_dir,\n",
    "        include_indels=include_indels)"
   ]
  },
  {
   "cell_type": "code",
   "execution_count": 8,
   "metadata": {},
   "outputs": [
    {
     "name": "stdout",
     "output_type": "stream",
     "text": [
      "----> Create pileups from assembly. <----\n",
      "##### Generate pileups from read alignments to reference. #####\n",
      "-----> 1. Generate pileups. <-----\n"
     ]
    },
    {
     "name": "stderr",
     "output_type": "stream",
     "text": [
      "100% (5273089 of 5273089) |##############| Elapsed Time: 0:05:42 Time:  0:05:42\n",
      "N/A% (0 of 5273089) |                    | Elapsed Time: 0:00:00 ETA:  --:--:--"
     ]
    },
    {
     "name": "stdout",
     "output_type": "stream",
     "text": [
      "-----> 2. Generate ground truth. <-----\n"
     ]
    },
    {
     "name": "stderr",
     "output_type": "stream",
     "text": [
      "100% (5273089 of 5273089) |##############| Elapsed Time: 0:00:32 Time:  0:00:32\n"
     ]
    },
    {
     "name": "stdout",
     "output_type": "stream",
     "text": [
      "----> Create dataset with neighbourhood from pileups. <----\n",
      "Parsing  ./k-pneumoniae-NCTC204-n3-model-7/X-pileups.npy  and  ./k-pneumoniae-NCTC204-n3-model-7/y-pileups.npy\n"
     ]
    },
    {
     "name": "stderr",
     "output_type": "stream",
     "text": [
      "  0% (3829 of 5273089) |                 | Elapsed Time: 0:00:00 ETA:   0:04:35"
     ]
    },
    {
     "name": "stdout",
     "output_type": "stream",
     "text": [
      "Creating dataset with neighbourhood ...\n"
     ]
    },
    {
     "name": "stderr",
     "output_type": "stream",
     "text": [
      "100% (5273089 of 5273089) |##############| Elapsed Time: 0:04:57 Time:  0:04:57\n"
     ]
    },
    {
     "name": "stdout",
     "output_type": "stream",
     "text": [
      "----> Reshape dataset for convolutional network. <----\n"
     ]
    },
    {
     "name": "stderr",
     "output_type": "stream",
     "text": [
      "  0% (2805 of 5273051) |                 | Elapsed Time: 0:00:00 ETA:   0:03:08"
     ]
    },
    {
     "name": "stdout",
     "output_type": "stream",
     "text": [
      "X shape before reshaping: (5273051, 7, 4)\n",
      "y shape before reshaping: (5273051, 4)\n"
     ]
    },
    {
     "name": "stderr",
     "output_type": "stream",
     "text": [
      "100% (5273051 of 5273051) |##############| Elapsed Time: 0:03:08 Time:  0:03:08\n"
     ]
    },
    {
     "name": "stdout",
     "output_type": "stream",
     "text": [
      "X shape after reshaping: (5273051, 7, 1, 4)\n",
      "y shape after reshaping: (5273051, 4)\n",
      "----> Load model and make predictions (consensus). <----\n",
      "----> Create consensus summary. <----\n"
     ]
    }
   ],
   "source": [
    "model_path = '/home/diplomski-rad/blade/pb/datasets/n3-all/generated-model-7.h5'\n",
    "assembly_pahts = ['/home/diplomski-rad/blade/pb/klebsiela-pneumoniae-NCTC204-BROKEN/iter2.fasta']\n",
    "reference_pahts = ['/home/data/pacific_biosciences/bacteria/klebsiela/pneumoniae/klebsiella_pneumoniae_reference.fasta']\n",
    "bam_file_paths = ['/home/diplomski-rad/blade/pb/klebsiela-pneumoniae-NCTC204-BROKEN/reads-to-asm-sorted.bam']\n",
    "contigs = ['utg000001l']\n",
    "neighbourhood_size = 3\n",
    "output_dirs = ['./k-pneumoniae-NCTC204-n3-model-7']\n",
    "tools_dir = '/home/diplomski-rad/'\n",
    "include_indels = False\n",
    "\n",
    "for assembly_path, reference_path, bam_file_path, contig, output_dir in zip(assembly_pahts, reference_pahts, bam_file_paths, contigs, output_dirs):\n",
    "    inference.make_consensus(\n",
    "        model_path, \n",
    "        assembly_path,\n",
    "        reference_path,\n",
    "        bam_file_path,\n",
    "        contig,\n",
    "        neighbourhood_size,\n",
    "        output_dir,\n",
    "        tools_dir,\n",
    "        include_indels=include_indels)"
   ]
  },
  {
   "cell_type": "code",
   "execution_count": 4,
   "metadata": {},
   "outputs": [
    {
     "name": "stdout",
     "output_type": "stream",
     "text": [
      "----> Reshape dataset for convolutional network. <----\n"
     ]
    },
    {
     "name": "stderr",
     "output_type": "stream",
     "text": [
      "  0% (5215 of 5104761) |                 | Elapsed Time: 0:00:00 ETA:   0:03:15"
     ]
    },
    {
     "name": "stdout",
     "output_type": "stream",
     "text": [
      "X shape before reshaping: (5104761, 7, 4)\n",
      "y shape before reshaping: (5104761, 4)\n"
     ]
    },
    {
     "name": "stderr",
     "output_type": "stream",
     "text": [
      "100% (5104761 of 5104761) |##############| Elapsed Time: 0:02:43 Time:  0:02:43\n"
     ]
    },
    {
     "name": "stdout",
     "output_type": "stream",
     "text": [
      "X shape after reshaping: (5104761, 7, 1, 4)\n",
      "y shape after reshaping: (5104761, 4)\n",
      "----> Load model and make predictions (consensus). <----\n",
      "----> Create consensus summary. <----\n"
     ]
    }
   ],
   "source": [
    "model_path = '/home/diplomski-rad/blade/pb/datasets/n3-all/generated-model-7.h5'\n",
    "assembly_pahts = ['/home/diplomski-rad/blade/pb/escherichia-coli-NCTC86/iter2.fasta']\n",
    "bam_file_paths = ['/home/diplomski-rad/blade/pb/escherichia-coli-NCTC86/reads-to-asm-sorted.bam']\n",
    "contigs = ['utg000001c']\n",
    "neighbourhood_size = 3\n",
    "output_dirs = ['./e-coli-NCTC86-n3-model-7']\n",
    "tools_dir = '/home/diplomski-rad/'\n",
    "include_indels = False\n",
    "\n",
    "for assembly_path, bam_file_path, contig, output_dir in zip(assembly_pahts, bam_file_paths, contigs, output_dirs):\n",
    "    inference.make_consensus_before_shapeing_tmp(\n",
    "        './e-coli-NCTC86-n3-model-7/X-pileups-n3.npy',\n",
    "        './e-coli-NCTC86-n3-model-7/y-pileups-n3.npy',\n",
    "        model_path,\n",
    "        output_dir,\n",
    "        tools_dir,\n",
    "        assembly_path,\n",
    "        contig)"
   ]
  },
  {
   "cell_type": "markdown",
   "metadata": {},
   "source": [
    "## n-15 model-7"
   ]
  },
  {
   "cell_type": "code",
   "execution_count": 2,
   "metadata": {},
   "outputs": [
    {
     "name": "stderr",
     "output_type": "stream",
     "text": [
      "  0% (1114 of 5104767) |                 | Elapsed Time: 0:00:00 ETA:   0:07:38"
     ]
    },
    {
     "name": "stdout",
     "output_type": "stream",
     "text": [
      "----> Create pileups from assembly. <----\n",
      "##### Generate pileups from read alignments to reference. #####\n",
      "-----> 1. Generate pileups. <-----\n"
     ]
    },
    {
     "name": "stderr",
     "output_type": "stream",
     "text": [
      "100% (5104767 of 5104767) |##############| Elapsed Time: 0:06:44 Time:  0:06:44\n",
      "  0% (18729 of 5104767) |                | Elapsed Time: 0:00:00 ETA:   0:00:27"
     ]
    },
    {
     "name": "stdout",
     "output_type": "stream",
     "text": [
      "-----> 2. Generate ground truth. <-----\n"
     ]
    },
    {
     "name": "stderr",
     "output_type": "stream",
     "text": [
      "100% (5104767 of 5104767) |##############| Elapsed Time: 0:00:27 Time:  0:00:27\n"
     ]
    },
    {
     "name": "stdout",
     "output_type": "stream",
     "text": [
      "----> Create dataset with neighbourhood from pileups. <----\n",
      "Parsing  ./e-coli-NCTC86-n15-model-7/X-pileupsindels.npy  and  ./e-coli-NCTC86-n15-model-7/y-pileups.npy\n"
     ]
    },
    {
     "name": "stderr",
     "output_type": "stream",
     "text": [
      "  0% (4315 of 5104767) |                 | Elapsed Time: 0:00:00 ETA:   0:03:56"
     ]
    },
    {
     "name": "stdout",
     "output_type": "stream",
     "text": [
      "Creating dataset with neighbourhood ...\n"
     ]
    },
    {
     "name": "stderr",
     "output_type": "stream",
     "text": [
      "100% (5104767 of 5104767) |##############| Elapsed Time: 0:04:01 Time:  0:04:01\n"
     ]
    },
    {
     "name": "stdout",
     "output_type": "stream",
     "text": [
      "----> Reshape dataset for convolutional network. <----\n"
     ]
    },
    {
     "name": "stderr",
     "output_type": "stream",
     "text": [
      "  0% (4030 of 5104737) |                 | Elapsed Time: 0:00:00 ETA:   0:04:13"
     ]
    },
    {
     "name": "stdout",
     "output_type": "stream",
     "text": [
      "X shape before reshaping: (5104737, 31, 6)\n",
      "y shape before reshaping: (5104737, 4)\n"
     ]
    },
    {
     "name": "stderr",
     "output_type": "stream",
     "text": [
      "100% (5104737 of 5104737) |##############| Elapsed Time: 0:03:45 Time:  0:03:45\n"
     ]
    },
    {
     "name": "stdout",
     "output_type": "stream",
     "text": [
      "X shape after reshaping: (5104737, 31, 1, 6)\n",
      "y shape after reshaping: (5104737, 4)\n",
      "----> Load model and make predictions (consensus). <----\n",
      "----> Create consensus summary. <----\n"
     ]
    },
    {
     "name": "stderr",
     "output_type": "stream",
     "text": [
      "  0% (1560 of 2183309) |                 | Elapsed Time: 0:00:00 ETA:   0:02:19"
     ]
    },
    {
     "name": "stdout",
     "output_type": "stream",
     "text": [
      "----> Create pileups from assembly. <----\n",
      "##### Generate pileups from read alignments to reference. #####\n",
      "-----> 1. Generate pileups. <-----\n"
     ]
    },
    {
     "name": "stderr",
     "output_type": "stream",
     "text": [
      "100% (2183309 of 2183309) |##############| Elapsed Time: 0:02:46 Time:  0:02:46\n",
      "  0% (17671 of 2183309) |                | Elapsed Time: 0:00:00 ETA:   0:00:12"
     ]
    },
    {
     "name": "stdout",
     "output_type": "stream",
     "text": [
      "-----> 2. Generate ground truth. <-----\n"
     ]
    },
    {
     "name": "stderr",
     "output_type": "stream",
     "text": [
      "100% (2183309 of 2183309) |##############| Elapsed Time: 0:00:12 Time:  0:00:12\n"
     ]
    },
    {
     "name": "stdout",
     "output_type": "stream",
     "text": [
      "----> Create dataset with neighbourhood from pileups. <----\n",
      "Parsing  ./m-morgani-NCTC235-n15-model-7/X-pileupsindels.npy  and  ./m-morgani-NCTC235-n15-model-7/y-pileups.npy\n"
     ]
    },
    {
     "name": "stderr",
     "output_type": "stream",
     "text": [
      "  0% (3932 of 2183309) |                 | Elapsed Time: 0:00:00 ETA:   0:01:50"
     ]
    },
    {
     "name": "stdout",
     "output_type": "stream",
     "text": [
      "Creating dataset with neighbourhood ...\n"
     ]
    },
    {
     "name": "stderr",
     "output_type": "stream",
     "text": [
      "100% (2183309 of 2183309) |##############| Elapsed Time: 0:01:50 Time:  0:01:50\n"
     ]
    },
    {
     "name": "stdout",
     "output_type": "stream",
     "text": [
      "----> Reshape dataset for convolutional network. <----\n"
     ]
    },
    {
     "name": "stderr",
     "output_type": "stream",
     "text": [
      "  0% (1994 of 2183277) |                 | Elapsed Time: 0:00:00 ETA:   0:01:49"
     ]
    },
    {
     "name": "stdout",
     "output_type": "stream",
     "text": [
      "X shape before reshaping: (2183277, 31, 6)\n",
      "y shape before reshaping: (2183277, 4)\n"
     ]
    },
    {
     "name": "stderr",
     "output_type": "stream",
     "text": [
      "100% (2183277 of 2183277) |##############| Elapsed Time: 0:01:51 Time:  0:01:51\n"
     ]
    },
    {
     "name": "stdout",
     "output_type": "stream",
     "text": [
      "X shape after reshaping: (2183277, 31, 1, 6)\n",
      "y shape after reshaping: (2183277, 4)\n",
      "----> Load model and make predictions (consensus). <----\n",
      "----> Create consensus summary. <----\n"
     ]
    },
    {
     "name": "stderr",
     "output_type": "stream",
     "text": [
      "\r",
      "                                                                               \r",
      "\r",
      "N/A% (0 of 4777060) |                    | Elapsed Time: 0:00:00 ETA:  --:--:--"
     ]
    },
    {
     "name": "stdout",
     "output_type": "stream",
     "text": [
      "----> Create pileups from assembly. <----\n",
      "##### Generate pileups from read alignments to reference. #####\n",
      "-----> 1. Generate pileups. <-----\n"
     ]
    },
    {
     "name": "stderr",
     "output_type": "stream",
     "text": [
      "100% (4777060 of 4777060) |##############| Elapsed Time: 0:06:51 Time:  0:06:51\n",
      "N/A% (0 of 4777060) |                    | Elapsed Time: 0:00:00 ETA:  --:--:--"
     ]
    },
    {
     "name": "stdout",
     "output_type": "stream",
     "text": [
      "-----> 2. Generate ground truth. <-----\n"
     ]
    },
    {
     "name": "stderr",
     "output_type": "stream",
     "text": [
      "100% (4777060 of 4777060) |##############| Elapsed Time: 0:00:26 Time:  0:00:26\n"
     ]
    },
    {
     "name": "stdout",
     "output_type": "stream",
     "text": [
      "----> Create dataset with neighbourhood from pileups. <----\n",
      "Parsing  ./s-enterica-NCTC92-n15-model-7/X-pileupsindels.npy  and  ./s-enterica-NCTC92-n15-model-7/y-pileups.npy\n"
     ]
    },
    {
     "name": "stderr",
     "output_type": "stream",
     "text": [
      "  0% (4079 of 4777060) |                 | Elapsed Time: 0:00:00 ETA:   0:03:54"
     ]
    },
    {
     "name": "stdout",
     "output_type": "stream",
     "text": [
      "Creating dataset with neighbourhood ...\n"
     ]
    },
    {
     "name": "stderr",
     "output_type": "stream",
     "text": [
      "100% (4777060 of 4777060) |##############| Elapsed Time: 0:03:59 Time:  0:03:59\n"
     ]
    },
    {
     "name": "stdout",
     "output_type": "stream",
     "text": [
      "----> Reshape dataset for convolutional network. <----\n"
     ]
    },
    {
     "name": "stderr",
     "output_type": "stream",
     "text": [
      "  0% (1996 of 4777030) |                 | Elapsed Time: 0:00:00 ETA:   0:03:59"
     ]
    },
    {
     "name": "stdout",
     "output_type": "stream",
     "text": [
      "X shape before reshaping: (4777030, 31, 6)\n",
      "y shape before reshaping: (4777030, 4)\n"
     ]
    },
    {
     "name": "stderr",
     "output_type": "stream",
     "text": [
      "100% (4777030 of 4777030) |##############| Elapsed Time: 0:04:08 Time:  0:04:08\n"
     ]
    },
    {
     "name": "stdout",
     "output_type": "stream",
     "text": [
      "X shape after reshaping: (4777030, 31, 1, 6)\n",
      "y shape after reshaping: (4777030, 4)\n",
      "----> Load model and make predictions (consensus). <----\n",
      "----> Create consensus summary. <----\n"
     ]
    },
    {
     "name": "stderr",
     "output_type": "stream",
     "text": [
      "\r",
      "                                                                               \r",
      "\r",
      "N/A% (0 of 4823619) |                    | Elapsed Time: 0:00:00 ETA:  --:--:--"
     ]
    },
    {
     "name": "stdout",
     "output_type": "stream",
     "text": [
      "----> Create pileups from assembly. <----\n",
      "##### Generate pileups from read alignments to reference. #####\n",
      "-----> 1. Generate pileups. <-----\n"
     ]
    },
    {
     "name": "stderr",
     "output_type": "stream",
     "text": [
      "100% (4823619 of 4823619) |##############| Elapsed Time: 0:06:09 Time:  0:06:09\n",
      "N/A% (0 of 4823619) |                    | Elapsed Time: 0:00:00 ETA:  --:--:--"
     ]
    },
    {
     "name": "stdout",
     "output_type": "stream",
     "text": [
      "-----> 2. Generate ground truth. <-----\n"
     ]
    },
    {
     "name": "stderr",
     "output_type": "stream",
     "text": [
      "100% (4823619 of 4823619) |##############| Elapsed Time: 0:00:28 Time:  0:00:28\n"
     ]
    },
    {
     "name": "stdout",
     "output_type": "stream",
     "text": [
      "----> Create dataset with neighbourhood from pileups. <----\n",
      "Parsing  ./s-enterica-NCTC129-n15-model-7/X-pileupsindels.npy  and  ./s-enterica-NCTC129-n15-model-7/y-pileups.npy\n"
     ]
    },
    {
     "name": "stderr",
     "output_type": "stream",
     "text": [
      "  0% (3983 of 4823619) |                 | Elapsed Time: 0:00:00 ETA:   0:04:02"
     ]
    },
    {
     "name": "stdout",
     "output_type": "stream",
     "text": [
      "Creating dataset with neighbourhood ...\n"
     ]
    },
    {
     "name": "stderr",
     "output_type": "stream",
     "text": [
      "100% (4823619 of 4823619) |##############| Elapsed Time: 0:04:06 Time:  0:04:06\n"
     ]
    },
    {
     "name": "stdout",
     "output_type": "stream",
     "text": [
      "----> Reshape dataset for convolutional network. <----\n"
     ]
    },
    {
     "name": "stderr",
     "output_type": "stream",
     "text": [
      "  0% (2203 of 4823589) |                 | Elapsed Time: 0:00:00 ETA:   0:03:39"
     ]
    },
    {
     "name": "stdout",
     "output_type": "stream",
     "text": [
      "X shape before reshaping: (4823589, 31, 6)\n",
      "y shape before reshaping: (4823589, 4)\n"
     ]
    },
    {
     "name": "stderr",
     "output_type": "stream",
     "text": [
      "100% (4823589 of 4823589) |##############| Elapsed Time: 0:04:09 Time:  0:04:09\n"
     ]
    },
    {
     "name": "stdout",
     "output_type": "stream",
     "text": [
      "X shape after reshaping: (4823589, 31, 1, 6)\n",
      "y shape after reshaping: (4823589, 4)\n",
      "----> Load model and make predictions (consensus). <----\n",
      "----> Create consensus summary. <----\n",
      "----> Create pileups from assembly. <----\n",
      "##### Generate pileups from read alignments to reference. #####\n",
      "-----> 1. Generate pileups. <-----\n"
     ]
    },
    {
     "name": "stderr",
     "output_type": "stream",
     "text": [
      "100% (5273089 of 5273089) |##############| Elapsed Time: 0:05:33 Time:  0:05:33\n",
      "N/A% (0 of 5273089) |                    | Elapsed Time: 0:00:00 ETA:  --:--:--"
     ]
    },
    {
     "name": "stdout",
     "output_type": "stream",
     "text": [
      "-----> 2. Generate ground truth. <-----\n"
     ]
    },
    {
     "name": "stderr",
     "output_type": "stream",
     "text": [
      "100% (5273089 of 5273089) |##############| Elapsed Time: 0:00:29 Time:  0:00:29\n"
     ]
    },
    {
     "name": "stdout",
     "output_type": "stream",
     "text": [
      "----> Create dataset with neighbourhood from pileups. <----\n",
      "Parsing  ./k-pneumoniae-NCTC204-n15-model-7/X-pileupsindels.npy  and  ./k-pneumoniae-NCTC204-n15-model-7/y-pileups.npy\n"
     ]
    },
    {
     "name": "stderr",
     "output_type": "stream",
     "text": [
      "  0% (3946 of 5273089) |                 | Elapsed Time: 0:00:00 ETA:   0:04:27"
     ]
    },
    {
     "name": "stdout",
     "output_type": "stream",
     "text": [
      "Creating dataset with neighbourhood ...\n"
     ]
    },
    {
     "name": "stderr",
     "output_type": "stream",
     "text": [
      "100% (5273089 of 5273089) |##############| Elapsed Time: 0:04:29 Time:  0:04:29\n"
     ]
    },
    {
     "name": "stdout",
     "output_type": "stream",
     "text": [
      "----> Reshape dataset for convolutional network. <----\n"
     ]
    },
    {
     "name": "stderr",
     "output_type": "stream",
     "text": [
      "  0% (4193 of 5273059) |                 | Elapsed Time: 0:00:00 ETA:   0:04:11"
     ]
    },
    {
     "name": "stdout",
     "output_type": "stream",
     "text": [
      "X shape before reshaping: (5273059, 31, 6)\n",
      "y shape before reshaping: (5273059, 4)\n"
     ]
    },
    {
     "name": "stderr",
     "output_type": "stream",
     "text": [
      "100% (5273059 of 5273059) |##############| Elapsed Time: 0:04:29 Time:  0:04:29\n"
     ]
    },
    {
     "name": "stdout",
     "output_type": "stream",
     "text": [
      "X shape after reshaping: (5273059, 31, 1, 6)\n",
      "y shape after reshaping: (5273059, 4)\n",
      "----> Load model and make predictions (consensus). <----\n",
      "----> Create consensus summary. <----\n"
     ]
    }
   ],
   "source": [
    "model_path = '/home/diplomski-rad/blade/pb/datasets/n15-all-indels/model-7.h5'\n",
    "assembly_paths = ['/home/diplomski-rad/blade/pb/escherichia-coli-NCTC86/iter2.fasta',\n",
    "                  '/home/diplomski-rad/blade/pb/morganela-morgani-NCTC235/iter2.fasta',\n",
    "                  '/home/diplomski-rad/blade/pb/salmonella-enterica-NCTC92/iter2.fasta',\n",
    "                  '/home/diplomski-rad/blade/pb/salmonella-enterica-NCTC129/iter2.fasta',\n",
    "                  '/home/diplomski-rad/blade/pb/klebsiela-pneumoniae-NCTC204-BROKEN/iter2.fasta']\n",
    "reference_paths = ['/home/data/pacific_biosciences/bacteria/escherichia/coli/escherichia_coli_reference.fasta',\n",
    "                   '/home/data/pacific_biosciences/bacteria/morganella/morgani/morganella_morganii_reference.fasta',\n",
    "                   '/home/data/pacific_biosciences/bacteria/salmonella/enterica/salmonella_enterica_reference.fasta',\n",
    "                   '/home/data/pacific_biosciences/bacteria/salmonella/enterica/salmonella_enterica_reference.fasta',\n",
    "                   '/home/data/pacific_biosciences/bacteria/klebsiela/pneumoniae/klebsiella_pneumoniae_reference.fasta']\n",
    "bam_file_paths = ['/home/diplomski-rad/blade/pb/escherichia-coli-NCTC86/reads-to-asm-sorted.bam',\n",
    "                  '/home/diplomski-rad/blade/pb/morganela-morgani-NCTC235/reads-to-asm-sorted.bam',\n",
    "                  '/home/diplomski-rad/blade/pb/salmonella-enterica-NCTC92/reads-to-asm-sorted.bam',\n",
    "                  '/home/diplomski-rad/blade/pb/salmonella-enterica-NCTC129/reads-to-asm-sorted.bam',\n",
    "                  '/home/diplomski-rad/blade/pb/klebsiela-pneumoniae-NCTC204-BROKEN/reads-to-asm-sorted.bam']\n",
    "contigs = ['utg000001c', 'utg000001l', 'utg000001c', 'utg000001l', 'utg000001l']\n",
    "neighbourhood_size = 15\n",
    "output_dirs = ['./e-coli-NCTC86-n15-model-7',\n",
    "               './m-morgani-NCTC235-n15-model-7',\n",
    "               './s-enterica-NCTC92-n15-model-7',\n",
    "               './s-enterica-NCTC129-n15-model-7',\n",
    "               './k-pneumoniae-NCTC204-n15-model-7']\n",
    "tools_dir = '/home/diplomski-rad/'\n",
    "include_indels = True\n",
    "\n",
    "for assembly_path, reference_path, bam_file_path, contig, output_dir in zip(assembly_paths, reference_paths, bam_file_paths, contigs, output_dirs):\n",
    "    inference.make_consensus(\n",
    "        model_path, \n",
    "        assembly_path,\n",
    "        reference_path,\n",
    "        bam_file_path,\n",
    "        contig,\n",
    "        neighbourhood_size,\n",
    "        output_dir,\n",
    "        tools_dir,\n",
    "        include_indels=include_indels)"
   ]
  },
  {
   "cell_type": "markdown",
   "metadata": {},
   "source": [
    "## n-15 model-11"
   ]
  },
  {
   "cell_type": "code",
   "execution_count": 3,
   "metadata": {},
   "outputs": [
    {
     "name": "stderr",
     "output_type": "stream",
     "text": [
      "\r",
      "                                                                               \r",
      "\r",
      "N/A% (0 of 5104767) |                    | Elapsed Time: 0:00:00 ETA:  --:--:--"
     ]
    },
    {
     "name": "stdout",
     "output_type": "stream",
     "text": [
      "----> Create pileups from assembly. <----\n",
      "##### Generate pileups from read alignments to reference. #####\n",
      "-----> 1. Generate pileups. <-----\n"
     ]
    },
    {
     "name": "stderr",
     "output_type": "stream",
     "text": [
      "100% (5104767 of 5104767) |##############| Elapsed Time: 0:07:16 Time:  0:07:16\n",
      "N/A% (0 of 5104767) |                    | Elapsed Time: 0:00:00 ETA:  --:--:--"
     ]
    },
    {
     "name": "stdout",
     "output_type": "stream",
     "text": [
      "-----> 2. Generate ground truth. <-----\n"
     ]
    },
    {
     "name": "stderr",
     "output_type": "stream",
     "text": [
      "100% (5104767 of 5104767) |##############| Elapsed Time: 0:00:28 Time:  0:00:28\n"
     ]
    },
    {
     "name": "stdout",
     "output_type": "stream",
     "text": [
      "----> Create dataset with neighbourhood from pileups. <----\n",
      "Parsing  ./e-coli-NCTC86-n15-model-11/X-pileupsindels.npy  and  ./e-coli-NCTC86-n15-model-11/y-pileups.npy\n"
     ]
    },
    {
     "name": "stderr",
     "output_type": "stream",
     "text": [
      "  0% (4032 of 5104767) |                 | Elapsed Time: 0:00:00 ETA:   0:04:13"
     ]
    },
    {
     "name": "stdout",
     "output_type": "stream",
     "text": [
      "Creating dataset with neighbourhood ...\n"
     ]
    },
    {
     "name": "stderr",
     "output_type": "stream",
     "text": [
      "100% (5104767 of 5104767) |##############| Elapsed Time: 0:04:18 Time:  0:04:18\n"
     ]
    },
    {
     "name": "stdout",
     "output_type": "stream",
     "text": [
      "----> Reshape dataset for convolutional network. <----\n"
     ]
    },
    {
     "name": "stderr",
     "output_type": "stream",
     "text": [
      "  0% (2093 of 5104737) |                 | Elapsed Time: 0:00:00 ETA:   0:04:04"
     ]
    },
    {
     "name": "stdout",
     "output_type": "stream",
     "text": [
      "X shape before reshaping: (5104737, 31, 6)\n",
      "y shape before reshaping: (5104737, 4)\n"
     ]
    },
    {
     "name": "stderr",
     "output_type": "stream",
     "text": [
      "100% (5104737 of 5104737) |##############| Elapsed Time: 0:04:26 Time:  0:04:26\n"
     ]
    },
    {
     "name": "stdout",
     "output_type": "stream",
     "text": [
      "X shape after reshaping: (5104737, 31, 1, 6)\n",
      "y shape after reshaping: (5104737, 4)\n",
      "----> Load model and make predictions (consensus). <----\n",
      "----> Create consensus summary. <----\n"
     ]
    },
    {
     "name": "stderr",
     "output_type": "stream",
     "text": [
      "  0% (1556 of 2183309) |                 | Elapsed Time: 0:00:00 ETA:   0:02:20"
     ]
    },
    {
     "name": "stdout",
     "output_type": "stream",
     "text": [
      "----> Create pileups from assembly. <----\n",
      "##### Generate pileups from read alignments to reference. #####\n",
      "-----> 1. Generate pileups. <-----\n"
     ]
    },
    {
     "name": "stderr",
     "output_type": "stream",
     "text": [
      "100% (2183309 of 2183309) |##############| Elapsed Time: 0:02:49 Time:  0:02:49\n",
      "  0% (17306 of 2183309) |                | Elapsed Time: 0:00:00 ETA:   0:00:12"
     ]
    },
    {
     "name": "stdout",
     "output_type": "stream",
     "text": [
      "-----> 2. Generate ground truth. <-----\n"
     ]
    },
    {
     "name": "stderr",
     "output_type": "stream",
     "text": [
      "100% (2183309 of 2183309) |##############| Elapsed Time: 0:00:12 Time:  0:00:12\n"
     ]
    },
    {
     "name": "stdout",
     "output_type": "stream",
     "text": [
      "----> Create dataset with neighbourhood from pileups. <----\n",
      "Parsing  ./m-morgani-NCTC235-n15-model-11/X-pileupsindels.npy  and  ./m-morgani-NCTC235-n15-model-11/y-pileups.npy\n"
     ]
    },
    {
     "name": "stderr",
     "output_type": "stream",
     "text": [
      "  0% (4073 of 2183309) |                 | Elapsed Time: 0:00:00 ETA:   0:01:47"
     ]
    },
    {
     "name": "stdout",
     "output_type": "stream",
     "text": [
      "Creating dataset with neighbourhood ...\n"
     ]
    },
    {
     "name": "stderr",
     "output_type": "stream",
     "text": [
      "100% (2183309 of 2183309) |##############| Elapsed Time: 0:01:51 Time:  0:01:51\n"
     ]
    },
    {
     "name": "stdout",
     "output_type": "stream",
     "text": [
      "----> Reshape dataset for convolutional network. <----\n"
     ]
    },
    {
     "name": "stderr",
     "output_type": "stream",
     "text": [
      "  0% (2164 of 2183277) |                 | Elapsed Time: 0:00:00 ETA:   0:01:40"
     ]
    },
    {
     "name": "stdout",
     "output_type": "stream",
     "text": [
      "X shape before reshaping: (2183277, 31, 6)\n",
      "y shape before reshaping: (2183277, 4)\n"
     ]
    },
    {
     "name": "stderr",
     "output_type": "stream",
     "text": [
      "100% (2183277 of 2183277) |##############| Elapsed Time: 0:01:50 Time:  0:01:50\n"
     ]
    },
    {
     "name": "stdout",
     "output_type": "stream",
     "text": [
      "X shape after reshaping: (2183277, 31, 1, 6)\n",
      "y shape after reshaping: (2183277, 4)\n",
      "----> Load model and make predictions (consensus). <----\n",
      "----> Create consensus summary. <----\n"
     ]
    },
    {
     "name": "stderr",
     "output_type": "stream",
     "text": [
      "\r",
      "                                                                               \r",
      "\r",
      "N/A% (0 of 4777060) |                    | Elapsed Time: 0:00:00 ETA:  --:--:--"
     ]
    },
    {
     "name": "stdout",
     "output_type": "stream",
     "text": [
      "----> Create pileups from assembly. <----\n",
      "##### Generate pileups from read alignments to reference. #####\n",
      "-----> 1. Generate pileups. <-----\n"
     ]
    },
    {
     "name": "stderr",
     "output_type": "stream",
     "text": [
      "100% (4777060 of 4777060) |##############| Elapsed Time: 0:07:00 Time:  0:07:00\n",
      "N/A% (0 of 4777060) |                    | Elapsed Time: 0:00:00 ETA:  --:--:--"
     ]
    },
    {
     "name": "stdout",
     "output_type": "stream",
     "text": [
      "-----> 2. Generate ground truth. <-----\n"
     ]
    },
    {
     "name": "stderr",
     "output_type": "stream",
     "text": [
      "100% (4777060 of 4777060) |##############| Elapsed Time: 0:00:27 Time:  0:00:27\n"
     ]
    },
    {
     "name": "stdout",
     "output_type": "stream",
     "text": [
      "----> Create dataset with neighbourhood from pileups. <----\n",
      "Parsing  ./s-enterica-NCTC92-n15-model-11/X-pileupsindels.npy  and  ./s-enterica-NCTC92-n15-model-11/y-pileups.npy\n"
     ]
    },
    {
     "name": "stderr",
     "output_type": "stream",
     "text": [
      "  0% (3886 of 4777060) |                 | Elapsed Time: 0:00:00 ETA:   0:04:05"
     ]
    },
    {
     "name": "stdout",
     "output_type": "stream",
     "text": [
      "Creating dataset with neighbourhood ...\n"
     ]
    },
    {
     "name": "stderr",
     "output_type": "stream",
     "text": [
      "100% (4777060 of 4777060) |##############| Elapsed Time: 0:04:01 Time:  0:04:01\n"
     ]
    },
    {
     "name": "stdout",
     "output_type": "stream",
     "text": [
      "----> Reshape dataset for convolutional network. <----\n"
     ]
    },
    {
     "name": "stderr",
     "output_type": "stream",
     "text": [
      "  0% (2184 of 4777030) |                 | Elapsed Time: 0:00:00 ETA:   0:03:38"
     ]
    },
    {
     "name": "stdout",
     "output_type": "stream",
     "text": [
      "X shape before reshaping: (4777030, 31, 6)\n",
      "y shape before reshaping: (4777030, 4)\n"
     ]
    },
    {
     "name": "stderr",
     "output_type": "stream",
     "text": [
      "100% (4777030 of 4777030) |##############| Elapsed Time: 0:04:04 Time:  0:04:04\n"
     ]
    },
    {
     "name": "stdout",
     "output_type": "stream",
     "text": [
      "X shape after reshaping: (4777030, 31, 1, 6)\n",
      "y shape after reshaping: (4777030, 4)\n",
      "----> Load model and make predictions (consensus). <----\n",
      "----> Create consensus summary. <----\n"
     ]
    },
    {
     "name": "stderr",
     "output_type": "stream",
     "text": [
      "\r",
      "                                                                               \r",
      "\r",
      "N/A% (0 of 4823619) |                    | Elapsed Time: 0:00:00 ETA:  --:--:--"
     ]
    },
    {
     "name": "stdout",
     "output_type": "stream",
     "text": [
      "----> Create pileups from assembly. <----\n",
      "##### Generate pileups from read alignments to reference. #####\n",
      "-----> 1. Generate pileups. <-----\n"
     ]
    },
    {
     "name": "stderr",
     "output_type": "stream",
     "text": [
      "100% (4823619 of 4823619) |##############| Elapsed Time: 0:06:13 Time:  0:06:13\n",
      "N/A% (0 of 4823619) |                    | Elapsed Time: 0:00:00 ETA:  --:--:--"
     ]
    },
    {
     "name": "stdout",
     "output_type": "stream",
     "text": [
      "-----> 2. Generate ground truth. <-----\n"
     ]
    },
    {
     "name": "stderr",
     "output_type": "stream",
     "text": [
      "100% (4823619 of 4823619) |##############| Elapsed Time: 0:00:27 Time:  0:00:27\n"
     ]
    },
    {
     "name": "stdout",
     "output_type": "stream",
     "text": [
      "----> Create dataset with neighbourhood from pileups. <----\n",
      "Parsing  ./s-enterica-NCTC129-n15-model-11/X-pileupsindels.npy  and  ./s-enterica-NCTC129-n15-model-11/y-pileups.npy\n"
     ]
    },
    {
     "name": "stderr",
     "output_type": "stream",
     "text": [
      "  0% (4071 of 4823619) |                 | Elapsed Time: 0:00:00 ETA:   0:03:56"
     ]
    },
    {
     "name": "stdout",
     "output_type": "stream",
     "text": [
      "Creating dataset with neighbourhood ...\n"
     ]
    },
    {
     "name": "stderr",
     "output_type": "stream",
     "text": [
      "100% (4823619 of 4823619) |##############| Elapsed Time: 0:04:00 Time:  0:04:00\n"
     ]
    },
    {
     "name": "stdout",
     "output_type": "stream",
     "text": [
      "----> Reshape dataset for convolutional network. <----\n"
     ]
    },
    {
     "name": "stderr",
     "output_type": "stream",
     "text": [
      "  0% (2195 of 4823589) |                 | Elapsed Time: 0:00:00 ETA:   0:03:39"
     ]
    },
    {
     "name": "stdout",
     "output_type": "stream",
     "text": [
      "X shape before reshaping: (4823589, 31, 6)\n",
      "y shape before reshaping: (4823589, 4)\n"
     ]
    },
    {
     "name": "stderr",
     "output_type": "stream",
     "text": [
      "100% (4823589 of 4823589) |##############| Elapsed Time: 0:04:08 Time:  0:04:08\n"
     ]
    },
    {
     "name": "stdout",
     "output_type": "stream",
     "text": [
      "X shape after reshaping: (4823589, 31, 1, 6)\n",
      "y shape after reshaping: (4823589, 4)\n",
      "----> Load model and make predictions (consensus). <----\n",
      "----> Create consensus summary. <----\n"
     ]
    },
    {
     "name": "stderr",
     "output_type": "stream",
     "text": [
      "\r",
      "                                                                               \r",
      "\r",
      "N/A% (0 of 5273089) |                    | Elapsed Time: 0:00:00 ETA:  --:--:--"
     ]
    },
    {
     "name": "stdout",
     "output_type": "stream",
     "text": [
      "----> Create pileups from assembly. <----\n",
      "##### Generate pileups from read alignments to reference. #####\n",
      "-----> 1. Generate pileups. <-----\n"
     ]
    },
    {
     "name": "stderr",
     "output_type": "stream",
     "text": [
      "100% (5273089 of 5273089) |##############| Elapsed Time: 0:05:39 Time:  0:05:39\n",
      "N/A% (0 of 5273089) |                    | Elapsed Time: 0:00:00 ETA:  --:--:--"
     ]
    },
    {
     "name": "stdout",
     "output_type": "stream",
     "text": [
      "-----> 2. Generate ground truth. <-----\n"
     ]
    },
    {
     "name": "stderr",
     "output_type": "stream",
     "text": [
      "100% (5273089 of 5273089) |##############| Elapsed Time: 0:00:29 Time:  0:00:29\n"
     ]
    },
    {
     "name": "stdout",
     "output_type": "stream",
     "text": [
      "----> Create dataset with neighbourhood from pileups. <----\n",
      "Parsing  ./k-pneumoniae-NCTC204-n15-model-11/X-pileupsindels.npy  and  ./k-pneumoniae-NCTC204-n15-model-11/y-pileups.npy\n"
     ]
    },
    {
     "name": "stderr",
     "output_type": "stream",
     "text": [
      "  0% (3972 of 5273089) |                 | Elapsed Time: 0:00:00 ETA:   0:04:25"
     ]
    },
    {
     "name": "stdout",
     "output_type": "stream",
     "text": [
      "Creating dataset with neighbourhood ...\n"
     ]
    },
    {
     "name": "stderr",
     "output_type": "stream",
     "text": [
      "100% (5273089 of 5273089) |##############| Elapsed Time: 0:04:26 Time:  0:04:26\n"
     ]
    },
    {
     "name": "stdout",
     "output_type": "stream",
     "text": [
      "----> Reshape dataset for convolutional network. <----\n"
     ]
    },
    {
     "name": "stderr",
     "output_type": "stream",
     "text": [
      "  0% (3405 of 5273059) |                 | Elapsed Time: 0:00:00 ETA:   0:05:09"
     ]
    },
    {
     "name": "stdout",
     "output_type": "stream",
     "text": [
      "X shape before reshaping: (5273059, 31, 6)\n",
      "y shape before reshaping: (5273059, 4)\n"
     ]
    },
    {
     "name": "stderr",
     "output_type": "stream",
     "text": [
      "100% (5273059 of 5273059) |##############| Elapsed Time: 0:04:59 Time:  0:04:59\n"
     ]
    },
    {
     "name": "stdout",
     "output_type": "stream",
     "text": [
      "X shape after reshaping: (5273059, 31, 1, 6)\n",
      "y shape after reshaping: (5273059, 4)\n",
      "----> Load model and make predictions (consensus). <----\n",
      "----> Create consensus summary. <----\n"
     ]
    }
   ],
   "source": [
    "model_path = '/home/diplomski-rad/blade/pb/datasets/n15-all-indels/model-11.h5'\n",
    "assembly_paths = ['/home/diplomski-rad/blade/pb/escherichia-coli-NCTC86/iter2.fasta',\n",
    "                  '/home/diplomski-rad/blade/pb/morganela-morgani-NCTC235/iter2.fasta',\n",
    "                  '/home/diplomski-rad/blade/pb/salmonella-enterica-NCTC92/iter2.fasta',\n",
    "                  '/home/diplomski-rad/blade/pb/salmonella-enterica-NCTC129/iter2.fasta',\n",
    "                  '/home/diplomski-rad/blade/pb/klebsiela-pneumoniae-NCTC204-BROKEN/iter2.fasta']\n",
    "reference_paths = ['/home/data/pacific_biosciences/bacteria/escherichia/coli/escherichia_coli_reference.fasta',\n",
    "                   '/home/data/pacific_biosciences/bacteria/morganella/morgani/morganella_morganii_reference.fasta',\n",
    "                   '/home/data/pacific_biosciences/bacteria/salmonella/enterica/salmonella_enterica_reference.fasta',\n",
    "                   '/home/data/pacific_biosciences/bacteria/salmonella/enterica/salmonella_enterica_reference.fasta',\n",
    "                   '/home/data/pacific_biosciences/bacteria/klebsiela/pneumoniae/klebsiella_pneumoniae_reference.fasta']\n",
    "bam_file_paths = ['/home/diplomski-rad/blade/pb/escherichia-coli-NCTC86/reads-to-asm-sorted.bam',\n",
    "                  '/home/diplomski-rad/blade/pb/morganela-morgani-NCTC235/reads-to-asm-sorted.bam',\n",
    "                  '/home/diplomski-rad/blade/pb/salmonella-enterica-NCTC92/reads-to-asm-sorted.bam',\n",
    "                  '/home/diplomski-rad/blade/pb/salmonella-enterica-NCTC129/reads-to-asm-sorted.bam',\n",
    "                  '/home/diplomski-rad/blade/pb/klebsiela-pneumoniae-NCTC204-BROKEN/reads-to-asm-sorted.bam']\n",
    "contigs = ['utg000001c', 'utg000001l', 'utg000001c', 'utg000001l', 'utg000001l']\n",
    "neighbourhood_size = 15\n",
    "output_dirs = ['./e-coli-NCTC86-n15-model-11',\n",
    "               './m-morgani-NCTC235-n15-model-11',\n",
    "               './s-enterica-NCTC92-n15-model-11',\n",
    "               './s-enterica-NCTC129-n15-model-11',\n",
    "               './k-pneumoniae-NCTC204-n15-model-11']\n",
    "tools_dir = '/home/diplomski-rad/'\n",
    "include_indels = True\n",
    "\n",
    "for assembly_path, reference_path, bam_file_path, contig, output_dir in zip(assembly_paths, reference_paths, bam_file_paths, contigs, output_dirs):\n",
    "    inference.make_consensus(\n",
    "        model_path, \n",
    "        assembly_path,\n",
    "        reference_path,\n",
    "        bam_file_path,\n",
    "        contig,\n",
    "        neighbourhood_size,\n",
    "        output_dir,\n",
    "        tools_dir,\n",
    "        include_indels=include_indels)"
   ]
  },
  {
   "cell_type": "markdown",
   "metadata": {},
   "source": [
    "## n-20 model-11"
   ]
  },
  {
   "cell_type": "code",
   "execution_count": 4,
   "metadata": {},
   "outputs": [
    {
     "name": "stderr",
     "output_type": "stream",
     "text": [
      "\r",
      "                                                                               \r",
      "\r",
      "N/A% (0 of 5104767) |                    | Elapsed Time: 0:00:00 ETA:  --:--:--"
     ]
    },
    {
     "name": "stdout",
     "output_type": "stream",
     "text": [
      "----> Create pileups from assembly. <----\n",
      "##### Generate pileups from read alignments to reference. #####\n",
      "-----> 1. Generate pileups. <-----\n"
     ]
    },
    {
     "name": "stderr",
     "output_type": "stream",
     "text": [
      "100% (5104767 of 5104767) |##############| Elapsed Time: 0:07:25 Time:  0:07:25\n",
      "N/A% (0 of 5104767) |                    | Elapsed Time: 0:00:00 ETA:  --:--:--"
     ]
    },
    {
     "name": "stdout",
     "output_type": "stream",
     "text": [
      "-----> 2. Generate ground truth. <-----\n"
     ]
    },
    {
     "name": "stderr",
     "output_type": "stream",
     "text": [
      "100% (5104767 of 5104767) |##############| Elapsed Time: 0:00:28 Time:  0:00:28\n"
     ]
    },
    {
     "name": "stdout",
     "output_type": "stream",
     "text": [
      "----> Create dataset with neighbourhood from pileups. <----\n",
      "Parsing  ./e-coli-NCTC86-n20-model-11/X-pileupsindels.npy  and  ./e-coli-NCTC86-n20-model-11/y-pileups.npy\n"
     ]
    },
    {
     "name": "stderr",
     "output_type": "stream",
     "text": [
      "  0% (3983 of 5104767) |                 | Elapsed Time: 0:00:00 ETA:   0:04:16"
     ]
    },
    {
     "name": "stdout",
     "output_type": "stream",
     "text": [
      "Creating dataset with neighbourhood ...\n"
     ]
    },
    {
     "name": "stderr",
     "output_type": "stream",
     "text": [
      "100% (5104767 of 5104767) |##############| Elapsed Time: 0:04:20 Time:  0:04:20\n"
     ]
    },
    {
     "name": "stdout",
     "output_type": "stream",
     "text": [
      "----> Reshape dataset for convolutional network. <----\n"
     ]
    },
    {
     "name": "stderr",
     "output_type": "stream",
     "text": [
      "  0% (2098 of 5104727) |                 | Elapsed Time: 0:00:00 ETA:   0:04:03"
     ]
    },
    {
     "name": "stdout",
     "output_type": "stream",
     "text": [
      "X shape before reshaping: (5104727, 41, 6)\n",
      "y shape before reshaping: (5104727, 4)\n"
     ]
    },
    {
     "name": "stderr",
     "output_type": "stream",
     "text": [
      "100% (5104727 of 5104727) |##############| Elapsed Time: 0:04:28 Time:  0:04:28\n"
     ]
    },
    {
     "name": "stdout",
     "output_type": "stream",
     "text": [
      "X shape after reshaping: (5104727, 41, 1, 6)\n",
      "y shape after reshaping: (5104727, 4)\n",
      "----> Load model and make predictions (consensus). <----\n",
      "----> Create consensus summary. <----\n"
     ]
    },
    {
     "name": "stderr",
     "output_type": "stream",
     "text": [
      "  0% (1522 of 2183309) |                 | Elapsed Time: 0:00:00 ETA:   0:02:23"
     ]
    },
    {
     "name": "stdout",
     "output_type": "stream",
     "text": [
      "----> Create pileups from assembly. <----\n",
      "##### Generate pileups from read alignments to reference. #####\n",
      "-----> 1. Generate pileups. <-----\n"
     ]
    },
    {
     "name": "stderr",
     "output_type": "stream",
     "text": [
      "100% (2183309 of 2183309) |##############| Elapsed Time: 0:02:50 Time:  0:02:50\n",
      "  0% (17951 of 2183309) |                | Elapsed Time: 0:00:00 ETA:   0:00:12"
     ]
    },
    {
     "name": "stdout",
     "output_type": "stream",
     "text": [
      "-----> 2. Generate ground truth. <-----\n"
     ]
    },
    {
     "name": "stderr",
     "output_type": "stream",
     "text": [
      "100% (2183309 of 2183309) |##############| Elapsed Time: 0:00:12 Time:  0:00:12\n"
     ]
    },
    {
     "name": "stdout",
     "output_type": "stream",
     "text": [
      "----> Create dataset with neighbourhood from pileups. <----\n",
      "Parsing  ./m-morgani-NCTC235-n20-model-11/X-pileupsindels.npy  and  ./m-morgani-NCTC235-n20-model-11/y-pileups.npy\n"
     ]
    },
    {
     "name": "stderr",
     "output_type": "stream",
     "text": [
      "  0% (3823 of 2183309) |                 | Elapsed Time: 0:00:00 ETA:   0:01:54"
     ]
    },
    {
     "name": "stdout",
     "output_type": "stream",
     "text": [
      "Creating dataset with neighbourhood ...\n"
     ]
    },
    {
     "name": "stderr",
     "output_type": "stream",
     "text": [
      "100% (2183309 of 2183309) |##############| Elapsed Time: 0:01:54 Time:  0:01:54\n"
     ]
    },
    {
     "name": "stdout",
     "output_type": "stream",
     "text": [
      "----> Reshape dataset for convolutional network. <----\n"
     ]
    },
    {
     "name": "stderr",
     "output_type": "stream",
     "text": [
      "  0% (4193 of 2183267) |                 | Elapsed Time: 0:00:00 ETA:   0:01:44"
     ]
    },
    {
     "name": "stdout",
     "output_type": "stream",
     "text": [
      "X shape before reshaping: (2183267, 41, 6)\n",
      "y shape before reshaping: (2183267, 4)\n"
     ]
    },
    {
     "name": "stderr",
     "output_type": "stream",
     "text": [
      "100% (2183267 of 2183267) |##############| Elapsed Time: 0:01:55 Time:  0:01:55\n"
     ]
    },
    {
     "name": "stdout",
     "output_type": "stream",
     "text": [
      "X shape after reshaping: (2183267, 41, 1, 6)\n",
      "y shape after reshaping: (2183267, 4)\n",
      "----> Load model and make predictions (consensus). <----\n",
      "----> Create consensus summary. <----\n"
     ]
    },
    {
     "name": "stderr",
     "output_type": "stream",
     "text": [
      "\r",
      "                                                                               \r",
      "\r",
      "N/A% (0 of 4777060) |                    | Elapsed Time: 0:00:00 ETA:  --:--:--"
     ]
    },
    {
     "name": "stdout",
     "output_type": "stream",
     "text": [
      "----> Create pileups from assembly. <----\n",
      "##### Generate pileups from read alignments to reference. #####\n",
      "-----> 1. Generate pileups. <-----\n"
     ]
    },
    {
     "name": "stderr",
     "output_type": "stream",
     "text": [
      "100% (4777060 of 4777060) |##############| Elapsed Time: 0:06:58 Time:  0:06:58\n",
      "N/A% (0 of 4777060) |                    | Elapsed Time: 0:00:00 ETA:  --:--:--"
     ]
    },
    {
     "name": "stdout",
     "output_type": "stream",
     "text": [
      "-----> 2. Generate ground truth. <-----\n"
     ]
    },
    {
     "name": "stderr",
     "output_type": "stream",
     "text": [
      "100% (4777060 of 4777060) |##############| Elapsed Time: 0:00:26 Time:  0:00:26\n"
     ]
    },
    {
     "name": "stdout",
     "output_type": "stream",
     "text": [
      "----> Create dataset with neighbourhood from pileups. <----\n",
      "Parsing  ./s-enterica-NCTC92-n20-model-11/X-pileupsindels.npy  and  ./s-enterica-NCTC92-n20-model-11/y-pileups.npy\n"
     ]
    },
    {
     "name": "stderr",
     "output_type": "stream",
     "text": [
      "  0% (3963 of 4777060) |                 | Elapsed Time: 0:00:00 ETA:   0:04:01"
     ]
    },
    {
     "name": "stdout",
     "output_type": "stream",
     "text": [
      "Creating dataset with neighbourhood ...\n"
     ]
    },
    {
     "name": "stderr",
     "output_type": "stream",
     "text": [
      "100% (4777060 of 4777060) |##############| Elapsed Time: 0:04:06 Time:  0:04:06\n"
     ]
    },
    {
     "name": "stdout",
     "output_type": "stream",
     "text": [
      "----> Reshape dataset for convolutional network. <----\n"
     ]
    },
    {
     "name": "stderr",
     "output_type": "stream",
     "text": [
      "  0% (3997 of 4777020) |                 | Elapsed Time: 0:00:00 ETA:   0:03:59"
     ]
    },
    {
     "name": "stdout",
     "output_type": "stream",
     "text": [
      "X shape before reshaping: (4777020, 41, 6)\n",
      "y shape before reshaping: (4777020, 4)\n"
     ]
    },
    {
     "name": "stderr",
     "output_type": "stream",
     "text": [
      "100% (4777020 of 4777020) |##############| Elapsed Time: 0:04:17 Time:  0:04:17\n"
     ]
    },
    {
     "name": "stdout",
     "output_type": "stream",
     "text": [
      "X shape after reshaping: (4777020, 41, 1, 6)\n",
      "y shape after reshaping: (4777020, 4)\n",
      "----> Load model and make predictions (consensus). <----\n",
      "----> Create consensus summary. <----\n"
     ]
    },
    {
     "name": "stderr",
     "output_type": "stream",
     "text": [
      "\r",
      "                                                                               \r",
      "\r",
      "N/A% (0 of 4823619) |                    | Elapsed Time: 0:00:00 ETA:  --:--:--"
     ]
    },
    {
     "name": "stdout",
     "output_type": "stream",
     "text": [
      "----> Create pileups from assembly. <----\n",
      "##### Generate pileups from read alignments to reference. #####\n",
      "-----> 1. Generate pileups. <-----\n"
     ]
    },
    {
     "name": "stderr",
     "output_type": "stream",
     "text": [
      "100% (4823619 of 4823619) |##############| Elapsed Time: 0:06:14 Time:  0:06:14\n",
      "N/A% (0 of 4823619) |                    | Elapsed Time: 0:00:00 ETA:  --:--:--"
     ]
    },
    {
     "name": "stdout",
     "output_type": "stream",
     "text": [
      "-----> 2. Generate ground truth. <-----\n"
     ]
    },
    {
     "name": "stderr",
     "output_type": "stream",
     "text": [
      "100% (4823619 of 4823619) |##############| Elapsed Time: 0:00:27 Time:  0:00:27\n"
     ]
    },
    {
     "name": "stdout",
     "output_type": "stream",
     "text": [
      "----> Create dataset with neighbourhood from pileups. <----\n",
      "Parsing  ./s-enterica-NCTC129-n20-model-11/X-pileupsindels.npy  and  ./s-enterica-NCTC129-n20-model-11/y-pileups.npy\n"
     ]
    },
    {
     "name": "stderr",
     "output_type": "stream",
     "text": [
      "  0% (3967 of 4823619) |                 | Elapsed Time: 0:00:00 ETA:   0:04:03"
     ]
    },
    {
     "name": "stdout",
     "output_type": "stream",
     "text": [
      "Creating dataset with neighbourhood ...\n"
     ]
    },
    {
     "name": "stderr",
     "output_type": "stream",
     "text": [
      "100% (4823619 of 4823619) |##############| Elapsed Time: 0:04:09 Time:  0:04:09\n"
     ]
    },
    {
     "name": "stdout",
     "output_type": "stream",
     "text": [
      "----> Reshape dataset for convolutional network. <----\n"
     ]
    },
    {
     "name": "stderr",
     "output_type": "stream",
     "text": [
      "  0% (2088 of 4823579) |                 | Elapsed Time: 0:00:00 ETA:   0:03:51"
     ]
    },
    {
     "name": "stdout",
     "output_type": "stream",
     "text": [
      "X shape before reshaping: (4823579, 41, 6)\n",
      "y shape before reshaping: (4823579, 4)\n"
     ]
    },
    {
     "name": "stderr",
     "output_type": "stream",
     "text": [
      "100% (4823579 of 4823579) |##############| Elapsed Time: 0:04:18 Time:  0:04:18\n"
     ]
    },
    {
     "name": "stdout",
     "output_type": "stream",
     "text": [
      "X shape after reshaping: (4823579, 41, 1, 6)\n",
      "y shape after reshaping: (4823579, 4)\n",
      "----> Load model and make predictions (consensus). <----\n",
      "----> Create consensus summary. <----\n"
     ]
    },
    {
     "name": "stderr",
     "output_type": "stream",
     "text": [
      "\r",
      "                                                                               \r",
      "\r",
      "N/A% (0 of 5273089) |                    | Elapsed Time: 0:00:00 ETA:  --:--:--"
     ]
    },
    {
     "name": "stdout",
     "output_type": "stream",
     "text": [
      "----> Create pileups from assembly. <----\n",
      "##### Generate pileups from read alignments to reference. #####\n",
      "-----> 1. Generate pileups. <-----\n"
     ]
    },
    {
     "name": "stderr",
     "output_type": "stream",
     "text": [
      "100% (5273089 of 5273089) |##############| Elapsed Time: 0:05:41 Time:  0:05:41\n",
      "N/A% (0 of 5273089) |                    | Elapsed Time: 0:00:00 ETA:  --:--:--"
     ]
    },
    {
     "name": "stdout",
     "output_type": "stream",
     "text": [
      "-----> 2. Generate ground truth. <-----\n"
     ]
    },
    {
     "name": "stderr",
     "output_type": "stream",
     "text": [
      "100% (5273089 of 5273089) |##############| Elapsed Time: 0:00:29 Time:  0:00:29\n"
     ]
    },
    {
     "name": "stdout",
     "output_type": "stream",
     "text": [
      "----> Create dataset with neighbourhood from pileups. <----\n",
      "Parsing  ./k-pneumoniae-NCTC204-n20-model-11/X-pileupsindels.npy  and  ./k-pneumoniae-NCTC204-n20-model-11/y-pileups.npy\n"
     ]
    },
    {
     "name": "stderr",
     "output_type": "stream",
     "text": [
      "  0% (3817 of 5273089) |                 | Elapsed Time: 0:00:00 ETA:   0:04:36"
     ]
    },
    {
     "name": "stdout",
     "output_type": "stream",
     "text": [
      "Creating dataset with neighbourhood ...\n"
     ]
    },
    {
     "name": "stderr",
     "output_type": "stream",
     "text": [
      "100% (5273089 of 5273089) |##############| Elapsed Time: 0:04:30 Time:  0:04:30\n"
     ]
    },
    {
     "name": "stdout",
     "output_type": "stream",
     "text": [
      "----> Reshape dataset for convolutional network. <----\n"
     ]
    },
    {
     "name": "stderr",
     "output_type": "stream",
     "text": [
      "  0% (4176 of 5273049) |                 | Elapsed Time: 0:00:00 ETA:   0:04:12"
     ]
    },
    {
     "name": "stdout",
     "output_type": "stream",
     "text": [
      "X shape before reshaping: (5273049, 41, 6)\n",
      "y shape before reshaping: (5273049, 4)\n"
     ]
    },
    {
     "name": "stderr",
     "output_type": "stream",
     "text": [
      "100% (5273049 of 5273049) |##############| Elapsed Time: 0:04:39 Time:  0:04:39\n"
     ]
    },
    {
     "name": "stdout",
     "output_type": "stream",
     "text": [
      "X shape after reshaping: (5273049, 41, 1, 6)\n",
      "y shape after reshaping: (5273049, 4)\n",
      "----> Load model and make predictions (consensus). <----\n",
      "----> Create consensus summary. <----\n"
     ]
    }
   ],
   "source": [
    "model_path = '/home/diplomski-rad/blade/pb/datasets/n20-all-indels/model-11.h5'\n",
    "assembly_paths = ['/home/diplomski-rad/blade/pb/escherichia-coli-NCTC86/iter2.fasta',\n",
    "                  '/home/diplomski-rad/blade/pb/morganela-morgani-NCTC235/iter2.fasta',\n",
    "                  '/home/diplomski-rad/blade/pb/salmonella-enterica-NCTC92/iter2.fasta',\n",
    "                  '/home/diplomski-rad/blade/pb/salmonella-enterica-NCTC129/iter2.fasta',\n",
    "                  '/home/diplomski-rad/blade/pb/klebsiela-pneumoniae-NCTC204-BROKEN/iter2.fasta']\n",
    "reference_paths = ['/home/data/pacific_biosciences/bacteria/escherichia/coli/escherichia_coli_reference.fasta',\n",
    "                   '/home/data/pacific_biosciences/bacteria/morganella/morgani/morganella_morganii_reference.fasta',\n",
    "                   '/home/data/pacific_biosciences/bacteria/salmonella/enterica/salmonella_enterica_reference.fasta',\n",
    "                   '/home/data/pacific_biosciences/bacteria/salmonella/enterica/salmonella_enterica_reference.fasta',\n",
    "                   '/home/data/pacific_biosciences/bacteria/klebsiela/pneumoniae/klebsiella_pneumoniae_reference.fasta']\n",
    "bam_file_paths = ['/home/diplomski-rad/blade/pb/escherichia-coli-NCTC86/reads-to-asm-sorted.bam',\n",
    "                  '/home/diplomski-rad/blade/pb/morganela-morgani-NCTC235/reads-to-asm-sorted.bam',\n",
    "                  '/home/diplomski-rad/blade/pb/salmonella-enterica-NCTC92/reads-to-asm-sorted.bam',\n",
    "                  '/home/diplomski-rad/blade/pb/salmonella-enterica-NCTC129/reads-to-asm-sorted.bam',\n",
    "                  '/home/diplomski-rad/blade/pb/klebsiela-pneumoniae-NCTC204-BROKEN/reads-to-asm-sorted.bam']\n",
    "contigs = ['utg000001c', 'utg000001l', 'utg000001c', 'utg000001l', 'utg000001l']\n",
    "neighbourhood_size = 20\n",
    "output_dirs = ['./e-coli-NCTC86-n20-model-11',\n",
    "               './m-morgani-NCTC235-n20-model-11',\n",
    "               './s-enterica-NCTC92-n20-model-11',\n",
    "               './s-enterica-NCTC129-n20-model-11',\n",
    "               './k-pneumoniae-NCTC204-n20-model-11']\n",
    "tools_dir = '/home/diplomski-rad/'\n",
    "include_indels = True\n",
    "\n",
    "for assembly_path, reference_path, bam_file_path, contig, output_dir in zip(assembly_paths, reference_paths, bam_file_paths, contigs, output_dirs):\n",
    "    inference.make_consensus(\n",
    "        model_path, \n",
    "        assembly_path,\n",
    "        reference_path,\n",
    "        bam_file_path,\n",
    "        contig,\n",
    "        neighbourhood_size,\n",
    "        output_dir,\n",
    "        tools_dir,\n",
    "        include_indels=include_indels)"
   ]
  },
  {
   "cell_type": "markdown",
   "metadata": {},
   "source": [
    "## n-20 model-7"
   ]
  },
  {
   "cell_type": "code",
   "execution_count": 5,
   "metadata": {},
   "outputs": [
    {
     "name": "stderr",
     "output_type": "stream",
     "text": [
      "\r",
      "                                                                               \r",
      "\r",
      "N/A% (0 of 5104767) |                    | Elapsed Time: 0:00:00 ETA:  --:--:--"
     ]
    },
    {
     "name": "stdout",
     "output_type": "stream",
     "text": [
      "----> Create pileups from assembly. <----\n",
      "##### Generate pileups from read alignments to reference. #####\n",
      "-----> 1. Generate pileups. <-----\n"
     ]
    },
    {
     "name": "stderr",
     "output_type": "stream",
     "text": [
      "100% (5104767 of 5104767) |##############| Elapsed Time: 0:07:34 Time:  0:07:34\n",
      "N/A% (0 of 5104767) |                    | Elapsed Time: 0:00:00 ETA:  --:--:--"
     ]
    },
    {
     "name": "stdout",
     "output_type": "stream",
     "text": [
      "-----> 2. Generate ground truth. <-----\n"
     ]
    },
    {
     "name": "stderr",
     "output_type": "stream",
     "text": [
      "100% (5104767 of 5104767) |##############| Elapsed Time: 0:00:28 Time:  0:00:28\n"
     ]
    },
    {
     "name": "stdout",
     "output_type": "stream",
     "text": [
      "----> Create dataset with neighbourhood from pileups. <----\n",
      "Parsing  ./e-coli-NCTC86-n20-model-7/X-pileupsindels.npy  and  ./e-coli-NCTC86-n20-model-7/y-pileups.npy\n"
     ]
    },
    {
     "name": "stderr",
     "output_type": "stream",
     "text": [
      "  0% (3810 of 5104767) |                 | Elapsed Time: 0:00:00 ETA:   0:04:28"
     ]
    },
    {
     "name": "stdout",
     "output_type": "stream",
     "text": [
      "Creating dataset with neighbourhood ...\n"
     ]
    },
    {
     "name": "stderr",
     "output_type": "stream",
     "text": [
      "100% (5104767 of 5104767) |##############| Elapsed Time: 0:04:26 Time:  0:04:26\n"
     ]
    },
    {
     "name": "stdout",
     "output_type": "stream",
     "text": [
      "----> Reshape dataset for convolutional network. <----\n"
     ]
    },
    {
     "name": "stderr",
     "output_type": "stream",
     "text": [
      "  0% (4180 of 5104727) |                 | Elapsed Time: 0:00:00 ETA:   0:04:04"
     ]
    },
    {
     "name": "stdout",
     "output_type": "stream",
     "text": [
      "X shape before reshaping: (5104727, 41, 6)\n",
      "y shape before reshaping: (5104727, 4)\n"
     ]
    },
    {
     "name": "stderr",
     "output_type": "stream",
     "text": [
      "100% (5104727 of 5104727) |##############| Elapsed Time: 0:04:31 Time:  0:04:31\n"
     ]
    },
    {
     "name": "stdout",
     "output_type": "stream",
     "text": [
      "X shape after reshaping: (5104727, 41, 1, 6)\n",
      "y shape after reshaping: (5104727, 4)\n",
      "----> Load model and make predictions (consensus). <----\n",
      "----> Create consensus summary. <----\n"
     ]
    },
    {
     "name": "stderr",
     "output_type": "stream",
     "text": [
      "  0% (1489 of 2183309) |                 | Elapsed Time: 0:00:00 ETA:   0:02:26"
     ]
    },
    {
     "name": "stdout",
     "output_type": "stream",
     "text": [
      "----> Create pileups from assembly. <----\n",
      "##### Generate pileups from read alignments to reference. #####\n",
      "-----> 1. Generate pileups. <-----\n"
     ]
    },
    {
     "name": "stderr",
     "output_type": "stream",
     "text": [
      "100% (2183309 of 2183309) |##############| Elapsed Time: 0:02:52 Time:  0:02:52\n",
      "  0% (17771 of 2183309) |                | Elapsed Time: 0:00:00 ETA:   0:00:12"
     ]
    },
    {
     "name": "stdout",
     "output_type": "stream",
     "text": [
      "-----> 2. Generate ground truth. <-----\n"
     ]
    },
    {
     "name": "stderr",
     "output_type": "stream",
     "text": [
      "100% (2183309 of 2183309) |##############| Elapsed Time: 0:00:12 Time:  0:00:12\n"
     ]
    },
    {
     "name": "stdout",
     "output_type": "stream",
     "text": [
      "----> Create dataset with neighbourhood from pileups. <----\n",
      "Parsing  ./m-morgani-NCTC235-n20-model-7/X-pileupsindels.npy  and  ./m-morgani-NCTC235-n20-model-7/y-pileups.npy\n"
     ]
    },
    {
     "name": "stderr",
     "output_type": "stream",
     "text": [
      "  0% (3795 of 2183309) |                 | Elapsed Time: 0:00:00 ETA:   0:01:54"
     ]
    },
    {
     "name": "stdout",
     "output_type": "stream",
     "text": [
      "Creating dataset with neighbourhood ...\n"
     ]
    },
    {
     "name": "stderr",
     "output_type": "stream",
     "text": [
      "100% (2183309 of 2183309) |##############| Elapsed Time: 0:01:53 Time:  0:01:53\n"
     ]
    },
    {
     "name": "stdout",
     "output_type": "stream",
     "text": [
      "----> Reshape dataset for convolutional network. <----\n"
     ]
    },
    {
     "name": "stderr",
     "output_type": "stream",
     "text": [
      "  0% (2092 of 2183267) |                 | Elapsed Time: 0:00:00 ETA:   0:01:44"
     ]
    },
    {
     "name": "stdout",
     "output_type": "stream",
     "text": [
      "X shape before reshaping: (2183267, 41, 6)\n",
      "y shape before reshaping: (2183267, 4)\n"
     ]
    },
    {
     "name": "stderr",
     "output_type": "stream",
     "text": [
      "100% (2183267 of 2183267) |##############| Elapsed Time: 0:01:56 Time:  0:01:56\n"
     ]
    },
    {
     "name": "stdout",
     "output_type": "stream",
     "text": [
      "X shape after reshaping: (2183267, 41, 1, 6)\n",
      "y shape after reshaping: (2183267, 4)\n",
      "----> Load model and make predictions (consensus). <----\n",
      "----> Create consensus summary. <----\n",
      "----> Create pileups from assembly. <----\n",
      "##### Generate pileups from read alignments to reference. #####\n",
      "-----> 1. Generate pileups. <-----\n"
     ]
    },
    {
     "name": "stderr",
     "output_type": "stream",
     "text": [
      "100% (4777060 of 4777060) |##############| Elapsed Time: 0:07:04 Time:  0:07:04\n",
      "N/A% (0 of 4777060) |                    | Elapsed Time: 0:00:00 ETA:  --:--:--"
     ]
    },
    {
     "name": "stdout",
     "output_type": "stream",
     "text": [
      "-----> 2. Generate ground truth. <-----\n"
     ]
    },
    {
     "name": "stderr",
     "output_type": "stream",
     "text": [
      "100% (4777060 of 4777060) |##############| Elapsed Time: 0:00:27 Time:  0:00:27\n"
     ]
    },
    {
     "name": "stdout",
     "output_type": "stream",
     "text": [
      "----> Create dataset with neighbourhood from pileups. <----\n",
      "Parsing  ./s-enterica-NCTC92-n20-model-7/X-pileupsindels.npy  and  ./s-enterica-NCTC92-n20-model-7/y-pileups.npy\n"
     ]
    },
    {
     "name": "stderr",
     "output_type": "stream",
     "text": [
      "  0% (3878 of 4777060) |                 | Elapsed Time: 0:00:00 ETA:   0:04:06"
     ]
    },
    {
     "name": "stdout",
     "output_type": "stream",
     "text": [
      "Creating dataset with neighbourhood ...\n"
     ]
    },
    {
     "name": "stderr",
     "output_type": "stream",
     "text": [
      "100% (4777060 of 4777060) |##############| Elapsed Time: 0:04:06 Time:  0:04:06\n"
     ]
    },
    {
     "name": "stdout",
     "output_type": "stream",
     "text": [
      "----> Reshape dataset for convolutional network. <----\n"
     ]
    },
    {
     "name": "stderr",
     "output_type": "stream",
     "text": [
      "  0% (2187 of 4777020) |                 | Elapsed Time: 0:00:00 ETA:   0:03:38"
     ]
    },
    {
     "name": "stdout",
     "output_type": "stream",
     "text": [
      "X shape before reshaping: (4777020, 41, 6)\n",
      "y shape before reshaping: (4777020, 4)\n"
     ]
    },
    {
     "name": "stderr",
     "output_type": "stream",
     "text": [
      "100% (4777020 of 4777020) |##############| Elapsed Time: 0:04:19 Time:  0:04:19\n"
     ]
    },
    {
     "name": "stdout",
     "output_type": "stream",
     "text": [
      "X shape after reshaping: (4777020, 41, 1, 6)\n",
      "y shape after reshaping: (4777020, 4)\n",
      "----> Load model and make predictions (consensus). <----\n",
      "----> Create consensus summary. <----\n"
     ]
    },
    {
     "name": "stderr",
     "output_type": "stream",
     "text": [
      "\r",
      "                                                                               \r",
      "\r",
      "N/A% (0 of 4823619) |                    | Elapsed Time: 0:00:00 ETA:  --:--:--"
     ]
    },
    {
     "name": "stdout",
     "output_type": "stream",
     "text": [
      "----> Create pileups from assembly. <----\n",
      "##### Generate pileups from read alignments to reference. #####\n",
      "-----> 1. Generate pileups. <-----\n"
     ]
    },
    {
     "name": "stderr",
     "output_type": "stream",
     "text": [
      "100% (4823619 of 4823619) |##############| Elapsed Time: 0:06:20 Time:  0:06:20\n",
      "N/A% (0 of 4823619) |                    | Elapsed Time: 0:00:00 ETA:  --:--:--"
     ]
    },
    {
     "name": "stdout",
     "output_type": "stream",
     "text": [
      "-----> 2. Generate ground truth. <-----\n"
     ]
    },
    {
     "name": "stderr",
     "output_type": "stream",
     "text": [
      "100% (4823619 of 4823619) |##############| Elapsed Time: 0:00:27 Time:  0:00:27\n"
     ]
    },
    {
     "name": "stdout",
     "output_type": "stream",
     "text": [
      "----> Create dataset with neighbourhood from pileups. <----\n",
      "Parsing  ./s-enterica-NCTC129-n20-model-7/X-pileupsindels.npy  and  ./s-enterica-NCTC129-n20-model-7/y-pileups.npy\n"
     ]
    },
    {
     "name": "stderr",
     "output_type": "stream",
     "text": [
      "  0% (3822 of 4823619) |                 | Elapsed Time: 0:00:00 ETA:   0:04:12"
     ]
    },
    {
     "name": "stdout",
     "output_type": "stream",
     "text": [
      "Creating dataset with neighbourhood ...\n"
     ]
    },
    {
     "name": "stderr",
     "output_type": "stream",
     "text": [
      "100% (4823619 of 4823619) |##############| Elapsed Time: 0:04:10 Time:  0:04:10\n"
     ]
    },
    {
     "name": "stdout",
     "output_type": "stream",
     "text": [
      "----> Reshape dataset for convolutional network. <----\n"
     ]
    },
    {
     "name": "stderr",
     "output_type": "stream",
     "text": [
      "  0% (4181 of 4823579) |                 | Elapsed Time: 0:00:00 ETA:   0:03:50"
     ]
    },
    {
     "name": "stdout",
     "output_type": "stream",
     "text": [
      "X shape before reshaping: (4823579, 41, 6)\n",
      "y shape before reshaping: (4823579, 4)\n"
     ]
    },
    {
     "name": "stderr",
     "output_type": "stream",
     "text": [
      "100% (4823579 of 4823579) |##############| Elapsed Time: 0:04:21 Time:  0:04:21\n"
     ]
    },
    {
     "name": "stdout",
     "output_type": "stream",
     "text": [
      "X shape after reshaping: (4823579, 41, 1, 6)\n",
      "y shape after reshaping: (4823579, 4)\n",
      "----> Load model and make predictions (consensus). <----\n",
      "----> Create consensus summary. <----\n"
     ]
    },
    {
     "name": "stderr",
     "output_type": "stream",
     "text": [
      "\r",
      "                                                                               \r",
      "\r",
      "N/A% (0 of 5273089) |                    | Elapsed Time: 0:00:00 ETA:  --:--:--"
     ]
    },
    {
     "name": "stdout",
     "output_type": "stream",
     "text": [
      "----> Create pileups from assembly. <----\n",
      "##### Generate pileups from read alignments to reference. #####\n",
      "-----> 1. Generate pileups. <-----\n"
     ]
    },
    {
     "name": "stderr",
     "output_type": "stream",
     "text": [
      "100% (5273089 of 5273089) |##############| Elapsed Time: 0:05:40 Time:  0:05:40\n",
      "N/A% (0 of 5273089) |                    | Elapsed Time: 0:00:00 ETA:  --:--:--"
     ]
    },
    {
     "name": "stdout",
     "output_type": "stream",
     "text": [
      "-----> 2. Generate ground truth. <-----\n"
     ]
    },
    {
     "name": "stderr",
     "output_type": "stream",
     "text": [
      "100% (5273089 of 5273089) |##############| Elapsed Time: 0:00:28 Time:  0:00:28\n"
     ]
    },
    {
     "name": "stdout",
     "output_type": "stream",
     "text": [
      "----> Create dataset with neighbourhood from pileups. <----\n",
      "Parsing  ./k-pneumoniae-NCTC204-n20-model-7/X-pileupsindels.npy  and  ./k-pneumoniae-NCTC204-n20-model-7/y-pileups.npy\n"
     ]
    },
    {
     "name": "stderr",
     "output_type": "stream",
     "text": [
      "  0% (3912 of 5273089) |                 | Elapsed Time: 0:00:00 ETA:   0:04:29"
     ]
    },
    {
     "name": "stdout",
     "output_type": "stream",
     "text": [
      "Creating dataset with neighbourhood ...\n"
     ]
    },
    {
     "name": "stderr",
     "output_type": "stream",
     "text": [
      "100% (5273089 of 5273089) |##############| Elapsed Time: 0:04:33 Time:  0:04:33\n"
     ]
    },
    {
     "name": "stdout",
     "output_type": "stream",
     "text": [
      "----> Reshape dataset for convolutional network. <----\n"
     ]
    },
    {
     "name": "stderr",
     "output_type": "stream",
     "text": [
      "  0% (2113 of 5273049) |                 | Elapsed Time: 0:00:00 ETA:   0:04:10"
     ]
    },
    {
     "name": "stdout",
     "output_type": "stream",
     "text": [
      "X shape before reshaping: (5273049, 41, 6)\n",
      "y shape before reshaping: (5273049, 4)\n"
     ]
    },
    {
     "name": "stderr",
     "output_type": "stream",
     "text": [
      "100% (5273049 of 5273049) |##############| Elapsed Time: 0:04:40 Time:  0:04:40\n"
     ]
    },
    {
     "name": "stdout",
     "output_type": "stream",
     "text": [
      "X shape after reshaping: (5273049, 41, 1, 6)\n",
      "y shape after reshaping: (5273049, 4)\n",
      "----> Load model and make predictions (consensus). <----\n",
      "----> Create consensus summary. <----\n"
     ]
    }
   ],
   "source": [
    "model_path = '/home/diplomski-rad/blade/pb/datasets/n20-all-indels/model-7.h5'\n",
    "assembly_paths = ['/home/diplomski-rad/blade/pb/escherichia-coli-NCTC86/iter2.fasta',\n",
    "                  '/home/diplomski-rad/blade/pb/morganela-morgani-NCTC235/iter2.fasta',\n",
    "                  '/home/diplomski-rad/blade/pb/salmonella-enterica-NCTC92/iter2.fasta',\n",
    "                  '/home/diplomski-rad/blade/pb/salmonella-enterica-NCTC129/iter2.fasta',\n",
    "                  '/home/diplomski-rad/blade/pb/klebsiela-pneumoniae-NCTC204-BROKEN/iter2.fasta']\n",
    "reference_paths = ['/home/data/pacific_biosciences/bacteria/escherichia/coli/escherichia_coli_reference.fasta',\n",
    "                   '/home/data/pacific_biosciences/bacteria/morganella/morgani/morganella_morganii_reference.fasta',\n",
    "                   '/home/data/pacific_biosciences/bacteria/salmonella/enterica/salmonella_enterica_reference.fasta',\n",
    "                   '/home/data/pacific_biosciences/bacteria/salmonella/enterica/salmonella_enterica_reference.fasta',\n",
    "                   '/home/data/pacific_biosciences/bacteria/klebsiela/pneumoniae/klebsiella_pneumoniae_reference.fasta']\n",
    "bam_file_paths = ['/home/diplomski-rad/blade/pb/escherichia-coli-NCTC86/reads-to-asm-sorted.bam',\n",
    "                  '/home/diplomski-rad/blade/pb/morganela-morgani-NCTC235/reads-to-asm-sorted.bam',\n",
    "                  '/home/diplomski-rad/blade/pb/salmonella-enterica-NCTC92/reads-to-asm-sorted.bam',\n",
    "                  '/home/diplomski-rad/blade/pb/salmonella-enterica-NCTC129/reads-to-asm-sorted.bam',\n",
    "                  '/home/diplomski-rad/blade/pb/klebsiela-pneumoniae-NCTC204-BROKEN/reads-to-asm-sorted.bam']\n",
    "contigs = ['utg000001c', 'utg000001l', 'utg000001c', 'utg000001l', 'utg000001l']\n",
    "neighbourhood_size = 20\n",
    "output_dirs = ['./e-coli-NCTC86-n20-model-7',\n",
    "               './m-morgani-NCTC235-n20-model-7',\n",
    "               './s-enterica-NCTC92-n20-model-7',\n",
    "               './s-enterica-NCTC129-n20-model-7',\n",
    "               './k-pneumoniae-NCTC204-n20-model-7']\n",
    "tools_dir = '/home/diplomski-rad/'\n",
    "include_indels = True\n",
    "\n",
    "for assembly_path, reference_path, bam_file_path, contig, output_dir in zip(assembly_paths, reference_paths, bam_file_paths, contigs, output_dirs):\n",
    "    inference.make_consensus(\n",
    "        model_path, \n",
    "        assembly_path,\n",
    "        reference_path,\n",
    "        bam_file_path,\n",
    "        contig,\n",
    "        neighbourhood_size,\n",
    "        output_dir,\n",
    "        tools_dir,\n",
    "        include_indels=include_indels)"
   ]
  },
  {
   "cell_type": "markdown",
   "metadata": {},
   "source": [
    "## n-15 model-7 all contigs"
   ]
  },
  {
   "cell_type": "code",
   "execution_count": 5,
   "metadata": {},
   "outputs": [
    {
     "name": "stderr",
     "output_type": "stream",
     "text": [
      "  0% (1248 of 5104767) |                 | Elapsed Time: 0:00:00 ETA:   0:06:49"
     ]
    },
    {
     "name": "stdout",
     "output_type": "stream",
     "text": [
      "----> Create pileups from assembly. <----\n",
      "##### Generate pileups from read alignments to reference. #####\n",
      "-----> 1. Generate pileups. <-----\n"
     ]
    },
    {
     "name": "stderr",
     "output_type": "stream",
     "text": [
      "100% (5104767 of 5104767) |##############| Elapsed Time: 0:06:50 Time:  0:06:50\n",
      "  0% (18890 of 5104767) |                | Elapsed Time: 0:00:00 ETA:   0:00:26"
     ]
    },
    {
     "name": "stdout",
     "output_type": "stream",
     "text": [
      "-----> 2. Generate ground truth. <-----\n",
      "Parsing contig utg000001c, len: 5104767\n"
     ]
    },
    {
     "name": "stderr",
     "output_type": "stream",
     "text": [
      "100% (5104767 of 5104767) |##############| Elapsed Time: 0:00:27 Time:  0:00:27\n"
     ]
    },
    {
     "name": "stdout",
     "output_type": "stream",
     "text": [
      "----> Create dataset with neighbourhood from pileups. <----\n",
      "Parsing  ./e-coli-NCTC86-all-contigs-n15-model-7/pileups-X-0-indels.npy  and  ./e-coli-NCTC86-all-contigs-n15-model-7/pileups-y-0.npy\n"
     ]
    },
    {
     "name": "stderr",
     "output_type": "stream",
     "text": [
      "  0% (4341 of 5104767) |                 | Elapsed Time: 0:00:00 ETA:   0:03:55"
     ]
    },
    {
     "name": "stdout",
     "output_type": "stream",
     "text": [
      "Creating dataset with neighbourhood ...\n"
     ]
    },
    {
     "name": "stderr",
     "output_type": "stream",
     "text": [
      "100% (5104767 of 5104767) |##############| Elapsed Time: 0:03:59 Time:  0:03:59\n"
     ]
    },
    {
     "name": "stdout",
     "output_type": "stream",
     "text": [
      "----> Reshape dataset for convolutional network. <----\n"
     ]
    },
    {
     "name": "stderr",
     "output_type": "stream",
     "text": [
      "  0% (4582 of 5104737) |                 | Elapsed Time: 0:00:00 ETA:   0:03:42"
     ]
    },
    {
     "name": "stdout",
     "output_type": "stream",
     "text": [
      "X shape before reshaping: (5104737, 31, 6)\n",
      "y shape before reshaping: (5104737, 4)\n"
     ]
    },
    {
     "name": "stderr",
     "output_type": "stream",
     "text": [
      "100% (5104737 of 5104737) |##############| Elapsed Time: 0:03:39 Time:  0:03:39\n"
     ]
    },
    {
     "name": "stdout",
     "output_type": "stream",
     "text": [
      "X shape after reshaping: (5104737, 31, 1, 6)\n",
      "y shape after reshaping: (5104737, 4)\n",
      "----> Load model and make predictions (consensus). <----\n",
      "----> Create consensus summary. <----\n"
     ]
    },
    {
     "name": "stderr",
     "output_type": "stream",
     "text": [
      "\r",
      "                                                                               \r",
      "\r",
      "N/A% (0 of 3820508) |                    | Elapsed Time: 0:00:00 ETA:  --:--:--"
     ]
    },
    {
     "name": "stdout",
     "output_type": "stream",
     "text": [
      "----> Create pileups from assembly. <----\n",
      "##### Generate pileups from read alignments to reference. #####\n",
      "-----> 1. Generate pileups. <-----\n"
     ]
    },
    {
     "name": "stderr",
     "output_type": "stream",
     "text": [
      "100% (3820508 of 3820508) |##############| Elapsed Time: 0:04:52 Time:  0:04:52\n",
      "N/A% (0 of 3820508) |                    | Elapsed Time: 0:00:00 ETA:  --:--:--"
     ]
    },
    {
     "name": "stdout",
     "output_type": "stream",
     "text": [
      "-----> 2. Generate ground truth. <-----\n",
      "Parsing contig utg000001l, len: 2183309\n"
     ]
    },
    {
     "name": "stderr",
     "output_type": "stream",
     "text": [
      " 58% (2224600 of 3820508) |########      | Elapsed Time: 0:00:12 ETA:   0:00:08"
     ]
    },
    {
     "name": "stdout",
     "output_type": "stream",
     "text": [
      "Parsing contig utg000002l, len: 1637199\n"
     ]
    },
    {
     "name": "stderr",
     "output_type": "stream",
     "text": [
      "100% (3820508 of 3820508) |##############| Elapsed Time: 0:00:21 Time:  0:00:21\n"
     ]
    },
    {
     "name": "stdout",
     "output_type": "stream",
     "text": [
      "----> Create dataset with neighbourhood from pileups. <----\n",
      "Parsing  ./m-morgani-all-contigs-NCTC235-n15-model-7/pileups-X-0-indels.npy  and  ./m-morgani-all-contigs-NCTC235-n15-model-7/pileups-y-0.npy\n"
     ]
    },
    {
     "name": "stderr",
     "output_type": "stream",
     "text": [
      "  0% (4020 of 2183309) |                 | Elapsed Time: 0:00:00 ETA:   0:01:48"
     ]
    },
    {
     "name": "stdout",
     "output_type": "stream",
     "text": [
      "Creating dataset with neighbourhood ...\n"
     ]
    },
    {
     "name": "stderr",
     "output_type": "stream",
     "text": [
      "100% (2183309 of 2183309) |##############| Elapsed Time: 0:01:50 Time:  0:01:50\n"
     ]
    },
    {
     "name": "stdout",
     "output_type": "stream",
     "text": [
      "Parsing  ./m-morgani-all-contigs-NCTC235-n15-model-7/pileups-X-1-indels.npy  and  ./m-morgani-all-contigs-NCTC235-n15-model-7/pileups-y-1.npy\n"
     ]
    },
    {
     "name": "stderr",
     "output_type": "stream",
     "text": [
      "  0% (4026 of 1637199) |                 | Elapsed Time: 0:00:00 ETA:   0:01:21"
     ]
    },
    {
     "name": "stdout",
     "output_type": "stream",
     "text": [
      "Creating dataset with neighbourhood ...\n"
     ]
    },
    {
     "name": "stderr",
     "output_type": "stream",
     "text": [
      "100% (1637199 of 1637199) |##############| Elapsed Time: 0:01:22 Time:  0:01:22\n"
     ]
    },
    {
     "name": "stdout",
     "output_type": "stream",
     "text": [
      "----> Reshape dataset for convolutional network. <----\n"
     ]
    },
    {
     "name": "stderr",
     "output_type": "stream",
     "text": [
      "  0% (4265 of 2183277) |                 | Elapsed Time: 0:00:00 ETA:   0:01:42"
     ]
    },
    {
     "name": "stdout",
     "output_type": "stream",
     "text": [
      "X shape before reshaping: (2183277, 31, 6)\n",
      "y shape before reshaping: (2183277, 4)\n"
     ]
    },
    {
     "name": "stderr",
     "output_type": "stream",
     "text": [
      "100% (2183277 of 2183277) |##############| Elapsed Time: 0:01:46 Time:  0:01:46\n"
     ]
    },
    {
     "name": "stdout",
     "output_type": "stream",
     "text": [
      "X shape after reshaping: (2183277, 31, 1, 6)\n",
      "y shape after reshaping: (2183277, 4)\n"
     ]
    },
    {
     "name": "stderr",
     "output_type": "stream",
     "text": [
      "\r",
      "                                                                               \r",
      "\r",
      "N/A% (0 of 1637169) |                    | Elapsed Time: 0:00:00 ETA:  --:--:--"
     ]
    },
    {
     "name": "stdout",
     "output_type": "stream",
     "text": [
      "X shape before reshaping: (1637169, 31, 6)\n",
      "y shape before reshaping: (1637169, 4)\n"
     ]
    },
    {
     "name": "stderr",
     "output_type": "stream",
     "text": [
      "100% (1637169 of 1637169) |##############| Elapsed Time: 0:01:20 Time:  0:01:20\n"
     ]
    },
    {
     "name": "stdout",
     "output_type": "stream",
     "text": [
      "X shape after reshaping: (1637169, 31, 1, 6)\n",
      "y shape after reshaping: (1637169, 4)\n",
      "----> Load model and make predictions (consensus). <----\n",
      "----> Create consensus summary. <----\n"
     ]
    },
    {
     "name": "stderr",
     "output_type": "stream",
     "text": [
      "\r",
      "                                                                               \r",
      "\r",
      "N/A% (0 of 4789678) |                    | Elapsed Time: 0:00:00 ETA:  --:--:--"
     ]
    },
    {
     "name": "stdout",
     "output_type": "stream",
     "text": [
      "----> Create pileups from assembly. <----\n",
      "##### Generate pileups from read alignments to reference. #####\n",
      "-----> 1. Generate pileups. <-----\n"
     ]
    },
    {
     "name": "stderr",
     "output_type": "stream",
     "text": [
      "100% (4789678 of 4789678) |##############| Elapsed Time: 0:06:57 Time:  0:06:57\n",
      "N/A% (0 of 4789678) |                    | Elapsed Time: 0:00:00 ETA:  --:--:--"
     ]
    },
    {
     "name": "stdout",
     "output_type": "stream",
     "text": [
      "-----> 2. Generate ground truth. <-----\n",
      "Parsing contig utg000001c, len: 4777060\n"
     ]
    },
    {
     "name": "stderr",
     "output_type": "stream",
     "text": [
      "100% (4789678 of 4789678) |##############| Elapsed Time: 0:00:27 Time:  0:00:27\n"
     ]
    },
    {
     "name": "stdout",
     "output_type": "stream",
     "text": [
      "Parsing contig utg000002c, len: 12618\n",
      "----> Create dataset with neighbourhood from pileups. <----\n",
      "Parsing  ./s-enterica-all-contigs-NCTC92-n15-model-7/pileups-X-0-indels.npy  and  ./s-enterica-all-contigs-NCTC92-n15-model-7/pileups-y-0.npy\n"
     ]
    },
    {
     "name": "stderr",
     "output_type": "stream",
     "text": [
      "  0% (3957 of 4777060) |                 | Elapsed Time: 0:00:00 ETA:   0:04:01"
     ]
    },
    {
     "name": "stdout",
     "output_type": "stream",
     "text": [
      "Creating dataset with neighbourhood ...\n"
     ]
    },
    {
     "name": "stderr",
     "output_type": "stream",
     "text": [
      "100% (4777060 of 4777060) |##############| Elapsed Time: 0:03:58 Time:  0:03:58\n"
     ]
    },
    {
     "name": "stdout",
     "output_type": "stream",
     "text": [
      "Parsing  ./s-enterica-all-contigs-NCTC92-n15-model-7/pileups-X-1-indels.npy  and  ./s-enterica-all-contigs-NCTC92-n15-model-7/pileups-y-1.npy\n"
     ]
    },
    {
     "name": "stderr",
     "output_type": "stream",
     "text": [
      " 35% (4473 of 12618) |######             | Elapsed Time: 0:00:00 ETA:   0:00:00"
     ]
    },
    {
     "name": "stdout",
     "output_type": "stream",
     "text": [
      "Creating dataset with neighbourhood ...\n"
     ]
    },
    {
     "name": "stderr",
     "output_type": "stream",
     "text": [
      "100% (12618 of 12618) |##################| Elapsed Time: 0:00:00 Time:  0:00:00\n"
     ]
    },
    {
     "name": "stdout",
     "output_type": "stream",
     "text": [
      "----> Reshape dataset for convolutional network. <----\n"
     ]
    },
    {
     "name": "stderr",
     "output_type": "stream",
     "text": [
      "  0% (2097 of 4777030) |                 | Elapsed Time: 0:00:00 ETA:   0:03:48"
     ]
    },
    {
     "name": "stdout",
     "output_type": "stream",
     "text": [
      "X shape before reshaping: (4777030, 31, 6)\n",
      "y shape before reshaping: (4777030, 4)\n"
     ]
    },
    {
     "name": "stderr",
     "output_type": "stream",
     "text": [
      "100% (4777030 of 4777030) |##############| Elapsed Time: 0:04:05 Time:  0:04:05\n"
     ]
    },
    {
     "name": "stdout",
     "output_type": "stream",
     "text": [
      "X shape after reshaping: (4777030, 31, 1, 6)\n",
      "y shape after reshaping: (4777030, 4)\n",
      "X shape before reshaping: (12588, 31, 6)\n",
      "y shape before reshaping: (12588, 4)\n"
     ]
    },
    {
     "name": "stderr",
     "output_type": "stream",
     "text": [
      "100% (12588 of 12588) |##################| Elapsed Time: 0:00:00 Time:  0:00:00\n"
     ]
    },
    {
     "name": "stdout",
     "output_type": "stream",
     "text": [
      "X shape after reshaping: (12588, 31, 1, 6)\n",
      "y shape after reshaping: (12588, 4)\n",
      "----> Load model and make predictions (consensus). <----\n",
      "----> Create consensus summary. <----\n"
     ]
    },
    {
     "name": "stderr",
     "output_type": "stream",
     "text": [
      "\r",
      "                                                                               \r",
      "\r",
      "N/A% (0 of 4882164) |                    | Elapsed Time: 0:00:00 ETA:  --:--:--"
     ]
    },
    {
     "name": "stdout",
     "output_type": "stream",
     "text": [
      "----> Create pileups from assembly. <----\n",
      "##### Generate pileups from read alignments to reference. #####\n",
      "-----> 1. Generate pileups. <-----\n"
     ]
    },
    {
     "name": "stderr",
     "output_type": "stream",
     "text": [
      "100% (4882164 of 4882164) |##############| Elapsed Time: 0:06:17 Time:  0:06:17\n",
      "N/A% (0 of 4882164) |                    | Elapsed Time: 0:00:00 ETA:  --:--:--"
     ]
    },
    {
     "name": "stdout",
     "output_type": "stream",
     "text": [
      "-----> 2. Generate ground truth. <-----\n",
      "Parsing contig utg000001l, len: 4823619\n"
     ]
    },
    {
     "name": "stderr",
     "output_type": "stream",
     "text": [
      " 99% (4852446 of 4882164) |############# | Elapsed Time: 0:00:27 ETA:   0:00:00"
     ]
    },
    {
     "name": "stdout",
     "output_type": "stream",
     "text": [
      "Parsing contig utg000002l, len: 36013\n",
      "Parsing contig utg000003l, len: 22532\n"
     ]
    },
    {
     "name": "stderr",
     "output_type": "stream",
     "text": [
      "100% (4882164 of 4882164) |##############| Elapsed Time: 0:00:27 Time:  0:00:27\n"
     ]
    },
    {
     "name": "stdout",
     "output_type": "stream",
     "text": [
      "----> Create dataset with neighbourhood from pileups. <----\n",
      "Parsing  ./s-enterica-all-contigs-NCTC129-n15-model-7/pileups-X-0-indels.npy  and  ./s-enterica-all-contigs-NCTC129-n15-model-7/pileups-y-0.npy\n"
     ]
    },
    {
     "name": "stderr",
     "output_type": "stream",
     "text": [
      "  0% (3953 of 4823619) |                 | Elapsed Time: 0:00:00 ETA:   0:04:04"
     ]
    },
    {
     "name": "stdout",
     "output_type": "stream",
     "text": [
      "Creating dataset with neighbourhood ...\n"
     ]
    },
    {
     "name": "stderr",
     "output_type": "stream",
     "text": [
      "100% (4823619 of 4823619) |##############| Elapsed Time: 0:04:02 Time:  0:04:02\n"
     ]
    },
    {
     "name": "stdout",
     "output_type": "stream",
     "text": [
      "Parsing  ./s-enterica-all-contigs-NCTC129-n15-model-7/pileups-X-1-indels.npy  and  ./s-enterica-all-contigs-NCTC129-n15-model-7/pileups-y-1.npy\n"
     ]
    },
    {
     "name": "stderr",
     "output_type": "stream",
     "text": [
      " 11% (4103 of 36013) |##                 | Elapsed Time: 0:00:00 ETA:   0:00:01"
     ]
    },
    {
     "name": "stdout",
     "output_type": "stream",
     "text": [
      "Creating dataset with neighbourhood ...\n"
     ]
    },
    {
     "name": "stderr",
     "output_type": "stream",
     "text": [
      "100% (36013 of 36013) |##################| Elapsed Time: 0:00:01 Time:  0:00:01\n",
      " 20% (4564 of 22532) |###                | Elapsed Time: 0:00:00 ETA:   0:00:00"
     ]
    },
    {
     "name": "stdout",
     "output_type": "stream",
     "text": [
      "Parsing  ./s-enterica-all-contigs-NCTC129-n15-model-7/pileups-X-2-indels.npy  and  ./s-enterica-all-contigs-NCTC129-n15-model-7/pileups-y-2.npy\n",
      "Creating dataset with neighbourhood ...\n"
     ]
    },
    {
     "name": "stderr",
     "output_type": "stream",
     "text": [
      "100% (22532 of 22532) |##################| Elapsed Time: 0:00:01 Time:  0:00:01\n"
     ]
    },
    {
     "name": "stdout",
     "output_type": "stream",
     "text": [
      "----> Reshape dataset for convolutional network. <----\n"
     ]
    },
    {
     "name": "stderr",
     "output_type": "stream",
     "text": [
      "  0% (2210 of 4823589) |                 | Elapsed Time: 0:00:00 ETA:   0:03:38"
     ]
    },
    {
     "name": "stdout",
     "output_type": "stream",
     "text": [
      "X shape before reshaping: (4823589, 31, 6)\n",
      "y shape before reshaping: (4823589, 4)\n"
     ]
    },
    {
     "name": "stderr",
     "output_type": "stream",
     "text": [
      "100% (4823589 of 4823589) |##############| Elapsed Time: 0:04:07 Time:  0:04:07\n"
     ]
    },
    {
     "name": "stdout",
     "output_type": "stream",
     "text": [
      "X shape after reshaping: (4823589, 31, 1, 6)\n",
      "y shape after reshaping: (4823589, 4)\n",
      "X shape before reshaping: (35983, 31, 6)\n",
      "y shape before reshaping: (35983, 4)\n"
     ]
    },
    {
     "name": "stderr",
     "output_type": "stream",
     "text": [
      "100% (35983 of 35983) |##################| Elapsed Time: 0:00:01 Time:  0:00:01\n",
      " 16% (3639 of 22112) |###                | Elapsed Time: 0:00:00 ETA:   0:00:00"
     ]
    },
    {
     "name": "stdout",
     "output_type": "stream",
     "text": [
      "X shape after reshaping: (35983, 31, 1, 6)\n",
      "y shape after reshaping: (35983, 4)\n",
      "X shape before reshaping: (22112, 31, 6)\n",
      "y shape before reshaping: (22112, 4)\n"
     ]
    },
    {
     "name": "stderr",
     "output_type": "stream",
     "text": [
      "100% (22112 of 22112) |##################| Elapsed Time: 0:00:01 Time:  0:00:01\n"
     ]
    },
    {
     "name": "stdout",
     "output_type": "stream",
     "text": [
      "X shape after reshaping: (22112, 31, 1, 6)\n",
      "y shape after reshaping: (22112, 4)\n",
      "----> Load model and make predictions (consensus). <----\n",
      "----> Create consensus summary. <----\n"
     ]
    },
    {
     "name": "stderr",
     "output_type": "stream",
     "text": [
      "\r",
      "                                                                               \r",
      "\r",
      "N/A% (0 of 5521245) |                    | Elapsed Time: 0:00:00 ETA:  --:--:--"
     ]
    },
    {
     "name": "stdout",
     "output_type": "stream",
     "text": [
      "----> Create pileups from assembly. <----\n",
      "##### Generate pileups from read alignments to reference. #####\n",
      "-----> 1. Generate pileups. <-----\n"
     ]
    },
    {
     "name": "stderr",
     "output_type": "stream",
     "text": [
      "100% (5521245 of 5521245) |##############| Elapsed Time: 0:05:59 Time:  0:05:59\n",
      "N/A% (0 of 5521245) |                    | Elapsed Time: 0:00:00 ETA:  --:--:--"
     ]
    },
    {
     "name": "stdout",
     "output_type": "stream",
     "text": [
      "-----> 2. Generate ground truth. <-----\n",
      "Parsing contig utg000001l, len: 5273089\n"
     ]
    },
    {
     "name": "stderr",
     "output_type": "stream",
     "text": [
      " 95% (5295303 of 5521245) |############# | Elapsed Time: 0:00:30 ETA:   0:00:01"
     ]
    },
    {
     "name": "stdout",
     "output_type": "stream",
     "text": [
      "Parsing contig utg000002c, len: 130014\n"
     ]
    },
    {
     "name": "stderr",
     "output_type": "stream",
     "text": [
      " 98% (5432739 of 5521245) |############# | Elapsed Time: 0:00:31 ETA:   0:00:00"
     ]
    },
    {
     "name": "stdout",
     "output_type": "stream",
     "text": [
      "Parsing contig utg000003c, len: 105751\n"
     ]
    },
    {
     "name": "stderr",
     "output_type": "stream",
     "text": [
      "100% (5521245 of 5521245) |##############| Elapsed Time: 0:00:31 Time:  0:00:31\n"
     ]
    },
    {
     "name": "stdout",
     "output_type": "stream",
     "text": [
      "Parsing contig utg000004c, len: 12391\n",
      "----> Create dataset with neighbourhood from pileups. <----\n",
      "Parsing  ./k-pneumoniae-all-contigs-NCTC204-n15-model-7/pileups-X-0-indels.npy  and  ./k-pneumoniae-all-contigs-NCTC204-n15-model-7/pileups-y-0.npy\n"
     ]
    },
    {
     "name": "stderr",
     "output_type": "stream",
     "text": [
      "  0% (3982 of 5273089) |                 | Elapsed Time: 0:00:00 ETA:   0:04:24"
     ]
    },
    {
     "name": "stdout",
     "output_type": "stream",
     "text": [
      "Creating dataset with neighbourhood ...\n"
     ]
    },
    {
     "name": "stderr",
     "output_type": "stream",
     "text": [
      "100% (5273089 of 5273089) |##############| Elapsed Time: 0:04:25 Time:  0:04:25\n"
     ]
    },
    {
     "name": "stdout",
     "output_type": "stream",
     "text": [
      "Parsing  ./k-pneumoniae-all-contigs-NCTC204-n15-model-7/pileups-X-1-indels.npy  and  ./k-pneumoniae-all-contigs-NCTC204-n15-model-7/pileups-y-1.npy\n"
     ]
    },
    {
     "name": "stderr",
     "output_type": "stream",
     "text": [
      "  2% (3292 of 130014) |                  | Elapsed Time: 0:00:00 ETA:   0:00:06"
     ]
    },
    {
     "name": "stdout",
     "output_type": "stream",
     "text": [
      "Creating dataset with neighbourhood ...\n"
     ]
    },
    {
     "name": "stderr",
     "output_type": "stream",
     "text": [
      "100% (130014 of 130014) |################| Elapsed Time: 0:00:06 Time:  0:00:06\n",
      "  2% (2678 of 105751) |                  | Elapsed Time: 0:00:00 ETA:   0:00:04"
     ]
    },
    {
     "name": "stdout",
     "output_type": "stream",
     "text": [
      "Parsing  ./k-pneumoniae-all-contigs-NCTC204-n15-model-7/pileups-X-2-indels.npy  and  ./k-pneumoniae-all-contigs-NCTC204-n15-model-7/pileups-y-2.npy\n",
      "Creating dataset with neighbourhood ...\n"
     ]
    },
    {
     "name": "stderr",
     "output_type": "stream",
     "text": [
      "100% (105751 of 105751) |################| Elapsed Time: 0:00:05 Time:  0:00:05\n",
      " 26% (3294 of 12391) |#####              | Elapsed Time: 0:00:00 ETA:   0:00:00"
     ]
    },
    {
     "name": "stdout",
     "output_type": "stream",
     "text": [
      "Parsing  ./k-pneumoniae-all-contigs-NCTC204-n15-model-7/pileups-X-3-indels.npy  and  ./k-pneumoniae-all-contigs-NCTC204-n15-model-7/pileups-y-3.npy\n",
      "Creating dataset with neighbourhood ...\n"
     ]
    },
    {
     "name": "stderr",
     "output_type": "stream",
     "text": [
      "100% (12391 of 12391) |##################| Elapsed Time: 0:00:00 Time:  0:00:00\n"
     ]
    },
    {
     "name": "stdout",
     "output_type": "stream",
     "text": [
      "----> Reshape dataset for convolutional network. <----\n"
     ]
    },
    {
     "name": "stderr",
     "output_type": "stream",
     "text": [
      "  0% (4289 of 5273059) |                 | Elapsed Time: 0:00:00 ETA:   0:04:05"
     ]
    },
    {
     "name": "stdout",
     "output_type": "stream",
     "text": [
      "X shape before reshaping: (5273059, 31, 6)\n",
      "y shape before reshaping: (5273059, 4)\n"
     ]
    },
    {
     "name": "stderr",
     "output_type": "stream",
     "text": [
      "100% (5273059 of 5273059) |##############| Elapsed Time: 0:04:30 Time:  0:04:30\n"
     ]
    },
    {
     "name": "stdout",
     "output_type": "stream",
     "text": [
      "X shape after reshaping: (5273059, 31, 1, 6)\n",
      "y shape after reshaping: (5273059, 4)\n",
      "X shape before reshaping: (129984, 31, 6)\n",
      "y shape before reshaping: (129984, 4)\n"
     ]
    },
    {
     "name": "stderr",
     "output_type": "stream",
     "text": [
      "100% (129984 of 129984) |################| Elapsed Time: 0:00:06 Time:  0:00:06\n",
      "  2% (2677 of 105721) |                  | Elapsed Time: 0:00:00 ETA:   0:00:04"
     ]
    },
    {
     "name": "stdout",
     "output_type": "stream",
     "text": [
      "X shape after reshaping: (129984, 31, 1, 6)\n",
      "y shape after reshaping: (129984, 4)\n",
      "X shape before reshaping: (105721, 31, 6)\n",
      "y shape before reshaping: (105721, 4)\n"
     ]
    },
    {
     "name": "stderr",
     "output_type": "stream",
     "text": [
      "100% (105721 of 105721) |################| Elapsed Time: 0:00:05 Time:  0:00:05\n",
      " 30% (3756 of 12361) |#####              | Elapsed Time: 0:00:00 ETA:   0:00:00"
     ]
    },
    {
     "name": "stdout",
     "output_type": "stream",
     "text": [
      "X shape after reshaping: (105721, 31, 1, 6)\n",
      "y shape after reshaping: (105721, 4)\n",
      "X shape before reshaping: (12361, 31, 6)\n",
      "y shape before reshaping: (12361, 4)\n"
     ]
    },
    {
     "name": "stderr",
     "output_type": "stream",
     "text": [
      "100% (12361 of 12361) |##################| Elapsed Time: 0:00:00 Time:  0:00:00\n"
     ]
    },
    {
     "name": "stdout",
     "output_type": "stream",
     "text": [
      "X shape after reshaping: (12361, 31, 1, 6)\n",
      "y shape after reshaping: (12361, 4)\n",
      "----> Load model and make predictions (consensus). <----\n",
      "----> Create consensus summary. <----\n"
     ]
    }
   ],
   "source": [
    "model_path = '/home/diplomski-rad/blade/pb/datasets/n15-all-indels/model-7.h5'\n",
    "assembly_paths = ['/home/diplomski-rad/blade/pb/escherichia-coli-NCTC86/iter2.fasta',\n",
    "                  '/home/diplomski-rad/blade/pb/morganela-morgani-NCTC235/iter2.fasta',\n",
    "                  '/home/diplomski-rad/blade/pb/salmonella-enterica-NCTC92/iter2.fasta',\n",
    "                  '/home/diplomski-rad/blade/pb/salmonella-enterica-NCTC129/iter2.fasta',\n",
    "                  '/home/diplomski-rad/blade/pb/klebsiela-pneumoniae-NCTC204-BROKEN/iter2.fasta']\n",
    "reference_paths = ['/home/data/pacific_biosciences/bacteria/escherichia/coli/escherichia_coli_reference.fasta',\n",
    "                   '/home/data/pacific_biosciences/bacteria/morganella/morgani/morganella_morganii_reference.fasta',\n",
    "                   '/home/data/pacific_biosciences/bacteria/salmonella/enterica/salmonella_enterica_reference.fasta',\n",
    "                   '/home/data/pacific_biosciences/bacteria/salmonella/enterica/salmonella_enterica_reference.fasta',\n",
    "                   '/home/data/pacific_biosciences/bacteria/klebsiela/pneumoniae/klebsiella_pneumoniae_reference.fasta']\n",
    "bam_file_paths = ['/home/diplomski-rad/blade/pb/escherichia-coli-NCTC86/reads-to-asm-sorted.bam',\n",
    "                  '/home/diplomski-rad/blade/pb/morganela-morgani-NCTC235/reads-to-asm-sorted.bam',\n",
    "                  '/home/diplomski-rad/blade/pb/salmonella-enterica-NCTC92/reads-to-asm-sorted.bam',\n",
    "                  '/home/diplomski-rad/blade/pb/salmonella-enterica-NCTC129/reads-to-asm-sorted.bam',\n",
    "                  '/home/diplomski-rad/blade/pb/klebsiela-pneumoniae-NCTC204-BROKEN/reads-to-asm-sorted.bam']\n",
    "neighbourhood_size = 15\n",
    "output_dirs = ['./e-coli-NCTC86-all-contigs-n15-model-7',\n",
    "               './m-morgani-all-contigs-NCTC235-n15-model-7',\n",
    "               './s-enterica-all-contigs-NCTC92-n15-model-7',\n",
    "               './s-enterica-all-contigs-NCTC129-n15-model-7',\n",
    "               './k-pneumoniae-all-contigs-NCTC204-n15-model-7']\n",
    "tools_dir = '/home/diplomski-rad/'\n",
    "include_indels = True\n",
    "\n",
    "for assembly_path, reference_path, bam_file_path, output_dir in zip(assembly_paths, reference_paths, bam_file_paths, output_dirs):\n",
    "    inference.make_consensus(\n",
    "        model_path, \n",
    "        assembly_path,\n",
    "        reference_path,\n",
    "        bam_file_path,\n",
    "        neighbourhood_size,\n",
    "        output_dir,\n",
    "        tools_dir,\n",
    "        include_indels=include_indels)"
   ]
  },
  {
   "cell_type": "markdown",
   "metadata": {},
   "source": [
    "## n-15 model-11 all contigs"
   ]
  },
  {
   "cell_type": "code",
   "execution_count": 6,
   "metadata": {},
   "outputs": [
    {
     "name": "stderr",
     "output_type": "stream",
     "text": [
      "\r",
      "                                                                               \r",
      "\r",
      "N/A% (0 of 5104767) |                    | Elapsed Time: 0:00:00 ETA:  --:--:--"
     ]
    },
    {
     "name": "stdout",
     "output_type": "stream",
     "text": [
      "----> Create pileups from assembly. <----\n",
      "##### Generate pileups from read alignments to reference. #####\n",
      "-----> 1. Generate pileups. <-----\n"
     ]
    },
    {
     "name": "stderr",
     "output_type": "stream",
     "text": [
      "100% (5104767 of 5104767) |##############| Elapsed Time: 0:07:24 Time:  0:07:24\n",
      "N/A% (0 of 5104767) |                    | Elapsed Time: 0:00:00 ETA:  --:--:--"
     ]
    },
    {
     "name": "stdout",
     "output_type": "stream",
     "text": [
      "-----> 2. Generate ground truth. <-----\n",
      "Parsing contig utg000001c, len: 5104767\n"
     ]
    },
    {
     "name": "stderr",
     "output_type": "stream",
     "text": [
      "100% (5104767 of 5104767) |##############| Elapsed Time: 0:00:28 Time:  0:00:28\n"
     ]
    },
    {
     "name": "stdout",
     "output_type": "stream",
     "text": [
      "----> Create dataset with neighbourhood from pileups. <----\n",
      "Parsing  ./e-coli-NCTC86-all-contigs-n15-model-11/pileups-X-0-indels.npy  and  ./e-coli-NCTC86-all-contigs-n15-model-11/pileups-y-0.npy\n"
     ]
    },
    {
     "name": "stderr",
     "output_type": "stream",
     "text": [
      "  0% (3975 of 5104767) |                 | Elapsed Time: 0:00:00 ETA:   0:04:17"
     ]
    },
    {
     "name": "stdout",
     "output_type": "stream",
     "text": [
      "Creating dataset with neighbourhood ...\n"
     ]
    },
    {
     "name": "stderr",
     "output_type": "stream",
     "text": [
      "100% (5104767 of 5104767) |##############| Elapsed Time: 0:04:17 Time:  0:04:17\n"
     ]
    },
    {
     "name": "stdout",
     "output_type": "stream",
     "text": [
      "----> Reshape dataset for convolutional network. <----\n"
     ]
    },
    {
     "name": "stderr",
     "output_type": "stream",
     "text": [
      "  0% (2169 of 5104737) |                 | Elapsed Time: 0:00:00 ETA:   0:03:55"
     ]
    },
    {
     "name": "stdout",
     "output_type": "stream",
     "text": [
      "X shape before reshaping: (5104737, 31, 6)\n",
      "y shape before reshaping: (5104737, 4)\n"
     ]
    },
    {
     "name": "stderr",
     "output_type": "stream",
     "text": [
      "100% (5104737 of 5104737) |##############| Elapsed Time: 0:04:20 Time:  0:04:20\n"
     ]
    },
    {
     "name": "stdout",
     "output_type": "stream",
     "text": [
      "X shape after reshaping: (5104737, 31, 1, 6)\n",
      "y shape after reshaping: (5104737, 4)\n",
      "----> Load model and make predictions (consensus). <----\n",
      "----> Create consensus summary. <----\n"
     ]
    },
    {
     "name": "stderr",
     "output_type": "stream",
     "text": [
      "\r",
      "                                                                               \r",
      "\r",
      "N/A% (0 of 3820508) |                    | Elapsed Time: 0:00:00 ETA:  --:--:--"
     ]
    },
    {
     "name": "stdout",
     "output_type": "stream",
     "text": [
      "----> Create pileups from assembly. <----\n",
      "##### Generate pileups from read alignments to reference. #####\n",
      "-----> 1. Generate pileups. <-----\n"
     ]
    },
    {
     "name": "stderr",
     "output_type": "stream",
     "text": [
      "100% (3820508 of 3820508) |##############| Elapsed Time: 0:04:58 Time:  0:04:58\n",
      "N/A% (0 of 3820508) |                    | Elapsed Time: 0:00:00 ETA:  --:--:--"
     ]
    },
    {
     "name": "stdout",
     "output_type": "stream",
     "text": [
      "-----> 2. Generate ground truth. <-----\n",
      "Parsing contig utg000001l, len: 2183309\n"
     ]
    },
    {
     "name": "stderr",
     "output_type": "stream",
     "text": [
      " 58% (2224600 of 3820508) |########      | Elapsed Time: 0:00:12 ETA:   0:00:08"
     ]
    },
    {
     "name": "stdout",
     "output_type": "stream",
     "text": [
      "Parsing contig utg000002l, len: 1637199\n"
     ]
    },
    {
     "name": "stderr",
     "output_type": "stream",
     "text": [
      "100% (3820508 of 3820508) |##############| Elapsed Time: 0:00:21 Time:  0:00:21\n"
     ]
    },
    {
     "name": "stdout",
     "output_type": "stream",
     "text": [
      "----> Create dataset with neighbourhood from pileups. <----\n",
      "Parsing  ./m-morgani-NCTC235-all-contigs-n15-model-11/pileups-X-0-indels.npy  and  ./m-morgani-NCTC235-all-contigs-n15-model-11/pileups-y-0.npy\n"
     ]
    },
    {
     "name": "stderr",
     "output_type": "stream",
     "text": [
      "  0% (4050 of 2183309) |                 | Elapsed Time: 0:00:00 ETA:   0:01:47"
     ]
    },
    {
     "name": "stdout",
     "output_type": "stream",
     "text": [
      "Creating dataset with neighbourhood ...\n"
     ]
    },
    {
     "name": "stderr",
     "output_type": "stream",
     "text": [
      "100% (2183309 of 2183309) |##############| Elapsed Time: 0:01:50 Time:  0:01:50\n"
     ]
    },
    {
     "name": "stdout",
     "output_type": "stream",
     "text": [
      "Parsing  ./m-morgani-NCTC235-all-contigs-n15-model-11/pileups-X-1-indels.npy  and  ./m-morgani-NCTC235-all-contigs-n15-model-11/pileups-y-1.npy\n"
     ]
    },
    {
     "name": "stderr",
     "output_type": "stream",
     "text": [
      "  0% (4006 of 1637199) |                 | Elapsed Time: 0:00:00 ETA:   0:01:21"
     ]
    },
    {
     "name": "stdout",
     "output_type": "stream",
     "text": [
      "Creating dataset with neighbourhood ...\n"
     ]
    },
    {
     "name": "stderr",
     "output_type": "stream",
     "text": [
      "100% (1637199 of 1637199) |##############| Elapsed Time: 0:01:22 Time:  0:01:22\n"
     ]
    },
    {
     "name": "stdout",
     "output_type": "stream",
     "text": [
      "----> Reshape dataset for convolutional network. <----\n"
     ]
    },
    {
     "name": "stderr",
     "output_type": "stream",
     "text": [
      "  0% (2206 of 2183277) |                 | Elapsed Time: 0:00:00 ETA:   0:01:38"
     ]
    },
    {
     "name": "stdout",
     "output_type": "stream",
     "text": [
      "X shape before reshaping: (2183277, 31, 6)\n",
      "y shape before reshaping: (2183277, 4)\n"
     ]
    },
    {
     "name": "stderr",
     "output_type": "stream",
     "text": [
      "100% (2183277 of 2183277) |##############| Elapsed Time: 0:01:50 Time:  0:01:50\n"
     ]
    },
    {
     "name": "stdout",
     "output_type": "stream",
     "text": [
      "X shape after reshaping: (2183277, 31, 1, 6)\n",
      "y shape after reshaping: (2183277, 4)\n"
     ]
    },
    {
     "name": "stderr",
     "output_type": "stream",
     "text": [
      "\r",
      "                                                                               \r",
      "\r",
      "N/A% (0 of 1637169) |                    | Elapsed Time: 0:00:00 ETA:  --:--:--"
     ]
    },
    {
     "name": "stdout",
     "output_type": "stream",
     "text": [
      "X shape before reshaping: (1637169, 31, 6)\n",
      "y shape before reshaping: (1637169, 4)\n"
     ]
    },
    {
     "name": "stderr",
     "output_type": "stream",
     "text": [
      "100% (1637169 of 1637169) |##############| Elapsed Time: 0:01:21 Time:  0:01:21\n"
     ]
    },
    {
     "name": "stdout",
     "output_type": "stream",
     "text": [
      "X shape after reshaping: (1637169, 31, 1, 6)\n",
      "y shape after reshaping: (1637169, 4)\n",
      "----> Load model and make predictions (consensus). <----\n",
      "----> Create consensus summary. <----\n"
     ]
    },
    {
     "name": "stderr",
     "output_type": "stream",
     "text": [
      "\r",
      "                                                                               \r",
      "\r",
      "N/A% (0 of 4789678) |                    | Elapsed Time: 0:00:00 ETA:  --:--:--"
     ]
    },
    {
     "name": "stdout",
     "output_type": "stream",
     "text": [
      "----> Create pileups from assembly. <----\n",
      "##### Generate pileups from read alignments to reference. #####\n",
      "-----> 1. Generate pileups. <-----\n"
     ]
    },
    {
     "name": "stderr",
     "output_type": "stream",
     "text": [
      "100% (4789678 of 4789678) |##############| Elapsed Time: 0:07:00 Time:  0:07:00\n",
      "N/A% (0 of 4789678) |                    | Elapsed Time: 0:00:00 ETA:  --:--:--"
     ]
    },
    {
     "name": "stdout",
     "output_type": "stream",
     "text": [
      "-----> 2. Generate ground truth. <-----\n",
      "Parsing contig utg000001c, len: 4777060\n"
     ]
    },
    {
     "name": "stderr",
     "output_type": "stream",
     "text": [
      "100% (4789678 of 4789678) |##############| Elapsed Time: 0:00:27 Time:  0:00:27\n"
     ]
    },
    {
     "name": "stdout",
     "output_type": "stream",
     "text": [
      "Parsing contig utg000002c, len: 12618\n",
      "----> Create dataset with neighbourhood from pileups. <----\n",
      "Parsing  ./s-enterica-NCTC92-all-contigs-n15-model-11/pileups-X-0-indels.npy  and  ./s-enterica-NCTC92-all-contigs-n15-model-11/pileups-y-0.npy\n"
     ]
    },
    {
     "name": "stderr",
     "output_type": "stream",
     "text": [
      "  0% (3989 of 4777060) |                 | Elapsed Time: 0:00:00 ETA:   0:03:59"
     ]
    },
    {
     "name": "stdout",
     "output_type": "stream",
     "text": [
      "Creating dataset with neighbourhood ...\n"
     ]
    },
    {
     "name": "stderr",
     "output_type": "stream",
     "text": [
      "100% (4777060 of 4777060) |##############| Elapsed Time: 0:03:56 Time:  0:03:56\n"
     ]
    },
    {
     "name": "stdout",
     "output_type": "stream",
     "text": [
      "Parsing  ./s-enterica-NCTC92-all-contigs-n15-model-11/pileups-X-1-indels.npy  and  ./s-enterica-NCTC92-all-contigs-n15-model-11/pileups-y-1.npy\n"
     ]
    },
    {
     "name": "stderr",
     "output_type": "stream",
     "text": [
      " 35% (4473 of 12618) |######             | Elapsed Time: 0:00:00 ETA:   0:00:00"
     ]
    },
    {
     "name": "stdout",
     "output_type": "stream",
     "text": [
      "Creating dataset with neighbourhood ...\n"
     ]
    },
    {
     "name": "stderr",
     "output_type": "stream",
     "text": [
      "100% (12618 of 12618) |##################| Elapsed Time: 0:00:00 Time:  0:00:00\n"
     ]
    },
    {
     "name": "stdout",
     "output_type": "stream",
     "text": [
      "----> Reshape dataset for convolutional network. <----\n"
     ]
    },
    {
     "name": "stderr",
     "output_type": "stream",
     "text": [
      "  0% (4082 of 4777030) |                 | Elapsed Time: 0:00:00 ETA:   0:03:54"
     ]
    },
    {
     "name": "stdout",
     "output_type": "stream",
     "text": [
      "X shape before reshaping: (4777030, 31, 6)\n",
      "y shape before reshaping: (4777030, 4)\n"
     ]
    },
    {
     "name": "stderr",
     "output_type": "stream",
     "text": [
      "100% (4777030 of 4777030) |##############| Elapsed Time: 0:04:05 Time:  0:04:05\n"
     ]
    },
    {
     "name": "stdout",
     "output_type": "stream",
     "text": [
      "X shape after reshaping: (4777030, 31, 1, 6)\n",
      "y shape after reshaping: (4777030, 4)\n",
      "X shape before reshaping: (12588, 31, 6)\n",
      "y shape before reshaping: (12588, 4)\n"
     ]
    },
    {
     "name": "stderr",
     "output_type": "stream",
     "text": [
      "100% (12588 of 12588) |##################| Elapsed Time: 0:00:00 Time:  0:00:00\n"
     ]
    },
    {
     "name": "stdout",
     "output_type": "stream",
     "text": [
      "X shape after reshaping: (12588, 31, 1, 6)\n",
      "y shape after reshaping: (12588, 4)\n",
      "----> Load model and make predictions (consensus). <----\n",
      "----> Create consensus summary. <----\n"
     ]
    },
    {
     "name": "stderr",
     "output_type": "stream",
     "text": [
      "\r",
      "                                                                               \r",
      "\r",
      "N/A% (0 of 4882164) |                    | Elapsed Time: 0:00:00 ETA:  --:--:--"
     ]
    },
    {
     "name": "stdout",
     "output_type": "stream",
     "text": [
      "----> Create pileups from assembly. <----\n",
      "##### Generate pileups from read alignments to reference. #####\n",
      "-----> 1. Generate pileups. <-----\n"
     ]
    },
    {
     "name": "stderr",
     "output_type": "stream",
     "text": [
      "100% (4882164 of 4882164) |##############| Elapsed Time: 0:06:15 Time:  0:06:15\n",
      "N/A% (0 of 4882164) |                    | Elapsed Time: 0:00:00 ETA:  --:--:--"
     ]
    },
    {
     "name": "stdout",
     "output_type": "stream",
     "text": [
      "-----> 2. Generate ground truth. <-----\n",
      "Parsing contig utg000001l, len: 4823619\n"
     ]
    },
    {
     "name": "stderr",
     "output_type": "stream",
     "text": [
      " 99% (4855024 of 4882164) |############# | Elapsed Time: 0:00:27 ETA:   0:00:00"
     ]
    },
    {
     "name": "stdout",
     "output_type": "stream",
     "text": [
      "Parsing contig utg000002l, len: 36013\n",
      "Parsing contig utg000003l, len: 22532\n"
     ]
    },
    {
     "name": "stderr",
     "output_type": "stream",
     "text": [
      "100% (4882164 of 4882164) |##############| Elapsed Time: 0:00:27 Time:  0:00:27\n"
     ]
    },
    {
     "name": "stdout",
     "output_type": "stream",
     "text": [
      "----> Create dataset with neighbourhood from pileups. <----\n",
      "Parsing  ./s-enterica-NCTC129-all-contigs-n15-model-11/pileups-X-0-indels.npy  and  ./s-enterica-NCTC129-all-contigs-n15-model-11/pileups-y-0.npy\n"
     ]
    },
    {
     "name": "stderr",
     "output_type": "stream",
     "text": [
      "  0% (3957 of 4823619) |                 | Elapsed Time: 0:00:00 ETA:   0:04:03"
     ]
    },
    {
     "name": "stdout",
     "output_type": "stream",
     "text": [
      "Creating dataset with neighbourhood ...\n"
     ]
    },
    {
     "name": "stderr",
     "output_type": "stream",
     "text": [
      "100% (4823619 of 4823619) |##############| Elapsed Time: 0:04:00 Time:  0:04:00\n"
     ]
    },
    {
     "name": "stdout",
     "output_type": "stream",
     "text": [
      "Parsing  ./s-enterica-NCTC129-all-contigs-n15-model-11/pileups-X-1-indels.npy  and  ./s-enterica-NCTC129-all-contigs-n15-model-11/pileups-y-1.npy\n"
     ]
    },
    {
     "name": "stderr",
     "output_type": "stream",
     "text": [
      " 11% (4103 of 36013) |##                 | Elapsed Time: 0:00:00 ETA:   0:00:01"
     ]
    },
    {
     "name": "stdout",
     "output_type": "stream",
     "text": [
      "Creating dataset with neighbourhood ...\n"
     ]
    },
    {
     "name": "stderr",
     "output_type": "stream",
     "text": [
      "100% (36013 of 36013) |##################| Elapsed Time: 0:00:01 Time:  0:00:01\n",
      " 20% (4564 of 22532) |###                | Elapsed Time: 0:00:00 ETA:   0:00:00"
     ]
    },
    {
     "name": "stdout",
     "output_type": "stream",
     "text": [
      "Parsing  ./s-enterica-NCTC129-all-contigs-n15-model-11/pileups-X-2-indels.npy  and  ./s-enterica-NCTC129-all-contigs-n15-model-11/pileups-y-2.npy\n",
      "Creating dataset with neighbourhood ...\n"
     ]
    },
    {
     "name": "stderr",
     "output_type": "stream",
     "text": [
      "100% (22532 of 22532) |##################| Elapsed Time: 0:00:01 Time:  0:00:01\n"
     ]
    },
    {
     "name": "stdout",
     "output_type": "stream",
     "text": [
      "----> Reshape dataset for convolutional network. <----\n"
     ]
    },
    {
     "name": "stderr",
     "output_type": "stream",
     "text": [
      "  0% (2145 of 4823589) |                 | Elapsed Time: 0:00:00 ETA:   0:03:44"
     ]
    },
    {
     "name": "stdout",
     "output_type": "stream",
     "text": [
      "X shape before reshaping: (4823589, 31, 6)\n",
      "y shape before reshaping: (4823589, 4)\n"
     ]
    },
    {
     "name": "stderr",
     "output_type": "stream",
     "text": [
      "100% (4823589 of 4823589) |##############| Elapsed Time: 0:04:06 Time:  0:04:06\n"
     ]
    },
    {
     "name": "stdout",
     "output_type": "stream",
     "text": [
      "X shape after reshaping: (4823589, 31, 1, 6)\n",
      "y shape after reshaping: (4823589, 4)\n",
      "X shape before reshaping: (35983, 31, 6)\n",
      "y shape before reshaping: (35983, 4)\n"
     ]
    },
    {
     "name": "stderr",
     "output_type": "stream",
     "text": [
      "100% (35983 of 35983) |##################| Elapsed Time: 0:00:01 Time:  0:00:01\n",
      " 16% (3639 of 22112) |###                | Elapsed Time: 0:00:00 ETA:   0:00:00"
     ]
    },
    {
     "name": "stdout",
     "output_type": "stream",
     "text": [
      "X shape after reshaping: (35983, 31, 1, 6)\n",
      "y shape after reshaping: (35983, 4)\n",
      "X shape before reshaping: (22112, 31, 6)\n",
      "y shape before reshaping: (22112, 4)\n"
     ]
    },
    {
     "name": "stderr",
     "output_type": "stream",
     "text": [
      "100% (22112 of 22112) |##################| Elapsed Time: 0:00:01 Time:  0:00:01\n"
     ]
    },
    {
     "name": "stdout",
     "output_type": "stream",
     "text": [
      "X shape after reshaping: (22112, 31, 1, 6)\n",
      "y shape after reshaping: (22112, 4)\n",
      "----> Load model and make predictions (consensus). <----\n",
      "----> Create consensus summary. <----\n"
     ]
    },
    {
     "name": "stderr",
     "output_type": "stream",
     "text": [
      "\r",
      "                                                                               \r",
      "\r",
      "N/A% (0 of 5521245) |                    | Elapsed Time: 0:00:00 ETA:  --:--:--"
     ]
    },
    {
     "name": "stdout",
     "output_type": "stream",
     "text": [
      "----> Create pileups from assembly. <----\n",
      "##### Generate pileups from read alignments to reference. #####\n",
      "-----> 1. Generate pileups. <-----\n"
     ]
    },
    {
     "name": "stderr",
     "output_type": "stream",
     "text": [
      "100% (5521245 of 5521245) |##############| Elapsed Time: 0:06:02 Time:  0:06:02\n",
      "N/A% (0 of 5521245) |                    | Elapsed Time: 0:00:00 ETA:  --:--:--"
     ]
    },
    {
     "name": "stdout",
     "output_type": "stream",
     "text": [
      "-----> 2. Generate ground truth. <-----\n",
      "Parsing contig utg000001l, len: 5273089\n"
     ]
    },
    {
     "name": "stderr",
     "output_type": "stream",
     "text": [
      " 96% (5306674 of 5521245) |############# | Elapsed Time: 0:00:30 ETA:   0:00:01"
     ]
    },
    {
     "name": "stdout",
     "output_type": "stream",
     "text": [
      "Parsing contig utg000002c, len: 130014\n"
     ]
    },
    {
     "name": "stderr",
     "output_type": "stream",
     "text": [
      " 98% (5429325 of 5521245) |############# | Elapsed Time: 0:00:31 ETA:   0:00:00"
     ]
    },
    {
     "name": "stdout",
     "output_type": "stream",
     "text": [
      "Parsing contig utg000003c, len: 105751\n"
     ]
    },
    {
     "name": "stderr",
     "output_type": "stream",
     "text": [
      "100% (5521245 of 5521245) |##############| Elapsed Time: 0:00:31 Time:  0:00:31\n"
     ]
    },
    {
     "name": "stdout",
     "output_type": "stream",
     "text": [
      "Parsing contig utg000004c, len: 12391\n",
      "----> Create dataset with neighbourhood from pileups. <----\n",
      "Parsing  ./k-pneumoniae-NCTC204-all-contigs-n15-model-11/pileups-X-0-indels.npy  and  ./k-pneumoniae-NCTC204-all-contigs-n15-model-11/pileups-y-0.npy\n"
     ]
    },
    {
     "name": "stderr",
     "output_type": "stream",
     "text": [
      "  0% (4029 of 5273089) |                 | Elapsed Time: 0:00:00 ETA:   0:04:21"
     ]
    },
    {
     "name": "stdout",
     "output_type": "stream",
     "text": [
      "Creating dataset with neighbourhood ...\n"
     ]
    },
    {
     "name": "stderr",
     "output_type": "stream",
     "text": [
      "100% (5273089 of 5273089) |##############| Elapsed Time: 0:04:25 Time:  0:04:25\n"
     ]
    },
    {
     "name": "stdout",
     "output_type": "stream",
     "text": [
      "Parsing  ./k-pneumoniae-NCTC204-all-contigs-n15-model-11/pileups-X-1-indels.npy  and  ./k-pneumoniae-NCTC204-all-contigs-n15-model-11/pileups-y-1.npy\n"
     ]
    },
    {
     "name": "stderr",
     "output_type": "stream",
     "text": [
      "  2% (3292 of 130014) |                  | Elapsed Time: 0:00:00 ETA:   0:00:06"
     ]
    },
    {
     "name": "stdout",
     "output_type": "stream",
     "text": [
      "Creating dataset with neighbourhood ...\n"
     ]
    },
    {
     "name": "stderr",
     "output_type": "stream",
     "text": [
      "100% (130014 of 130014) |################| Elapsed Time: 0:00:06 Time:  0:00:06\n",
      "  2% (2678 of 105751) |                  | Elapsed Time: 0:00:00 ETA:   0:00:04"
     ]
    },
    {
     "name": "stdout",
     "output_type": "stream",
     "text": [
      "Parsing  ./k-pneumoniae-NCTC204-all-contigs-n15-model-11/pileups-X-2-indels.npy  and  ./k-pneumoniae-NCTC204-all-contigs-n15-model-11/pileups-y-2.npy\n",
      "Creating dataset with neighbourhood ...\n"
     ]
    },
    {
     "name": "stderr",
     "output_type": "stream",
     "text": [
      "100% (105751 of 105751) |################| Elapsed Time: 0:00:05 Time:  0:00:05\n",
      " 26% (3294 of 12391) |#####              | Elapsed Time: 0:00:00 ETA:   0:00:00"
     ]
    },
    {
     "name": "stdout",
     "output_type": "stream",
     "text": [
      "Parsing  ./k-pneumoniae-NCTC204-all-contigs-n15-model-11/pileups-X-3-indels.npy  and  ./k-pneumoniae-NCTC204-all-contigs-n15-model-11/pileups-y-3.npy\n",
      "Creating dataset with neighbourhood ...\n"
     ]
    },
    {
     "name": "stderr",
     "output_type": "stream",
     "text": [
      "100% (12391 of 12391) |##################| Elapsed Time: 0:00:00 Time:  0:00:00\n"
     ]
    },
    {
     "name": "stdout",
     "output_type": "stream",
     "text": [
      "----> Reshape dataset for convolutional network. <----\n"
     ]
    },
    {
     "name": "stderr",
     "output_type": "stream",
     "text": [
      "  0% (4304 of 5273059) |                 | Elapsed Time: 0:00:00 ETA:   0:04:05"
     ]
    },
    {
     "name": "stdout",
     "output_type": "stream",
     "text": [
      "X shape before reshaping: (5273059, 31, 6)\n",
      "y shape before reshaping: (5273059, 4)\n"
     ]
    },
    {
     "name": "stderr",
     "output_type": "stream",
     "text": [
      "100% (5273059 of 5273059) |##############| Elapsed Time: 0:04:34 Time:  0:04:34\n"
     ]
    },
    {
     "name": "stdout",
     "output_type": "stream",
     "text": [
      "X shape after reshaping: (5273059, 31, 1, 6)\n",
      "y shape after reshaping: (5273059, 4)\n",
      "X shape before reshaping: (129984, 31, 6)\n",
      "y shape before reshaping: (129984, 4)\n"
     ]
    },
    {
     "name": "stderr",
     "output_type": "stream",
     "text": [
      "100% (129984 of 129984) |################| Elapsed Time: 0:00:06 Time:  0:00:06\n",
      "  2% (2677 of 105721) |                  | Elapsed Time: 0:00:00 ETA:   0:00:04"
     ]
    },
    {
     "name": "stdout",
     "output_type": "stream",
     "text": [
      "X shape after reshaping: (129984, 31, 1, 6)\n",
      "y shape after reshaping: (129984, 4)\n",
      "X shape before reshaping: (105721, 31, 6)\n",
      "y shape before reshaping: (105721, 4)\n"
     ]
    },
    {
     "name": "stderr",
     "output_type": "stream",
     "text": [
      "100% (105721 of 105721) |################| Elapsed Time: 0:00:05 Time:  0:00:05\n",
      " 29% (3599 of 12361) |#####              | Elapsed Time: 0:00:00 ETA:   0:00:00"
     ]
    },
    {
     "name": "stdout",
     "output_type": "stream",
     "text": [
      "X shape after reshaping: (105721, 31, 1, 6)\n",
      "y shape after reshaping: (105721, 4)\n",
      "X shape before reshaping: (12361, 31, 6)\n",
      "y shape before reshaping: (12361, 4)\n"
     ]
    },
    {
     "name": "stderr",
     "output_type": "stream",
     "text": [
      "100% (12361 of 12361) |##################| Elapsed Time: 0:00:00 Time:  0:00:00\n"
     ]
    },
    {
     "name": "stdout",
     "output_type": "stream",
     "text": [
      "X shape after reshaping: (12361, 31, 1, 6)\n",
      "y shape after reshaping: (12361, 4)\n",
      "----> Load model and make predictions (consensus). <----\n",
      "----> Create consensus summary. <----\n"
     ]
    }
   ],
   "source": [
    "model_path = '/home/diplomski-rad/blade/pb/datasets/n15-all-indels/model-11.h5'\n",
    "assembly_paths = ['/home/diplomski-rad/blade/pb/escherichia-coli-NCTC86/iter2.fasta',\n",
    "                  '/home/diplomski-rad/blade/pb/morganela-morgani-NCTC235/iter2.fasta',\n",
    "                  '/home/diplomski-rad/blade/pb/salmonella-enterica-NCTC92/iter2.fasta',\n",
    "                  '/home/diplomski-rad/blade/pb/salmonella-enterica-NCTC129/iter2.fasta',\n",
    "                  '/home/diplomski-rad/blade/pb/klebsiela-pneumoniae-NCTC204-BROKEN/iter2.fasta']\n",
    "reference_paths = ['/home/data/pacific_biosciences/bacteria/escherichia/coli/escherichia_coli_reference.fasta',\n",
    "                   '/home/data/pacific_biosciences/bacteria/morganella/morgani/morganella_morganii_reference.fasta',\n",
    "                   '/home/data/pacific_biosciences/bacteria/salmonella/enterica/salmonella_enterica_reference.fasta',\n",
    "                   '/home/data/pacific_biosciences/bacteria/salmonella/enterica/salmonella_enterica_reference.fasta',\n",
    "                   '/home/data/pacific_biosciences/bacteria/klebsiela/pneumoniae/klebsiella_pneumoniae_reference.fasta']\n",
    "bam_file_paths = ['/home/diplomski-rad/blade/pb/escherichia-coli-NCTC86/reads-to-asm-sorted.bam',\n",
    "                  '/home/diplomski-rad/blade/pb/morganela-morgani-NCTC235/reads-to-asm-sorted.bam',\n",
    "                  '/home/diplomski-rad/blade/pb/salmonella-enterica-NCTC92/reads-to-asm-sorted.bam',\n",
    "                  '/home/diplomski-rad/blade/pb/salmonella-enterica-NCTC129/reads-to-asm-sorted.bam',\n",
    "                  '/home/diplomski-rad/blade/pb/klebsiela-pneumoniae-NCTC204-BROKEN/reads-to-asm-sorted.bam']\n",
    "neighbourhood_size = 15\n",
    "output_dirs = ['./e-coli-NCTC86-all-contigs-n15-model-11',\n",
    "               './m-morgani-NCTC235-all-contigs-n15-model-11',\n",
    "               './s-enterica-NCTC92-all-contigs-n15-model-11',\n",
    "               './s-enterica-NCTC129-all-contigs-n15-model-11',\n",
    "               './k-pneumoniae-NCTC204-all-contigs-n15-model-11']\n",
    "tools_dir = '/home/diplomski-rad/'\n",
    "include_indels = True\n",
    "\n",
    "for assembly_path, reference_path, bam_file_path, output_dir in zip(assembly_paths, reference_paths, bam_file_paths, output_dirs):\n",
    "    inference.make_consensus(\n",
    "        model_path, \n",
    "        assembly_path,\n",
    "        reference_path,\n",
    "        bam_file_path,\n",
    "        neighbourhood_size,\n",
    "        output_dir,\n",
    "        tools_dir,\n",
    "        include_indels=include_indels)"
   ]
  },
  {
   "cell_type": "markdown",
   "metadata": {},
   "source": [
    "## n-20 model-7 all contigs"
   ]
  },
  {
   "cell_type": "code",
   "execution_count": 7,
   "metadata": {},
   "outputs": [
    {
     "name": "stderr",
     "output_type": "stream",
     "text": [
      "\r",
      "                                                                               \r",
      "\r",
      "N/A% (0 of 5104767) |                    | Elapsed Time: 0:00:00 ETA:  --:--:--"
     ]
    },
    {
     "name": "stdout",
     "output_type": "stream",
     "text": [
      "----> Create pileups from assembly. <----\n",
      "##### Generate pileups from read alignments to reference. #####\n",
      "-----> 1. Generate pileups. <-----\n"
     ]
    },
    {
     "name": "stderr",
     "output_type": "stream",
     "text": [
      "100% (5104767 of 5104767) |##############| Elapsed Time: 0:07:32 Time:  0:07:32\n",
      "N/A% (0 of 5104767) |                    | Elapsed Time: 0:00:00 ETA:  --:--:--"
     ]
    },
    {
     "name": "stdout",
     "output_type": "stream",
     "text": [
      "-----> 2. Generate ground truth. <-----\n",
      "Parsing contig utg000001c, len: 5104767\n"
     ]
    },
    {
     "name": "stderr",
     "output_type": "stream",
     "text": [
      "100% (5104767 of 5104767) |##############| Elapsed Time: 0:00:29 Time:  0:00:29\n"
     ]
    },
    {
     "name": "stdout",
     "output_type": "stream",
     "text": [
      "----> Create dataset with neighbourhood from pileups. <----\n",
      "Parsing  ./e-coli-NCTC86-all-contigs-n20-model-7/pileups-X-0-indels.npy  and  ./e-coli-NCTC86-all-contigs-n20-model-7/pileups-y-0.npy\n"
     ]
    },
    {
     "name": "stderr",
     "output_type": "stream",
     "text": [
      "  0% (3881 of 5104767) |                 | Elapsed Time: 0:00:00 ETA:   0:04:23"
     ]
    },
    {
     "name": "stdout",
     "output_type": "stream",
     "text": [
      "Creating dataset with neighbourhood ...\n"
     ]
    },
    {
     "name": "stderr",
     "output_type": "stream",
     "text": [
      "100% (5104767 of 5104767) |##############| Elapsed Time: 0:04:22 Time:  0:04:22\n"
     ]
    },
    {
     "name": "stdout",
     "output_type": "stream",
     "text": [
      "----> Reshape dataset for convolutional network. <----\n"
     ]
    },
    {
     "name": "stderr",
     "output_type": "stream",
     "text": [
      "  0% (4178 of 5104727) |                 | Elapsed Time: 0:00:00 ETA:   0:04:04"
     ]
    },
    {
     "name": "stdout",
     "output_type": "stream",
     "text": [
      "X shape before reshaping: (5104727, 41, 6)\n",
      "y shape before reshaping: (5104727, 4)\n"
     ]
    },
    {
     "name": "stderr",
     "output_type": "stream",
     "text": [
      "100% (5104727 of 5104727) |##############| Elapsed Time: 0:04:35 Time:  0:04:35\n"
     ]
    },
    {
     "name": "stdout",
     "output_type": "stream",
     "text": [
      "X shape after reshaping: (5104727, 41, 1, 6)\n",
      "y shape after reshaping: (5104727, 4)\n",
      "----> Load model and make predictions (consensus). <----\n",
      "----> Create consensus summary. <----\n"
     ]
    },
    {
     "name": "stderr",
     "output_type": "stream",
     "text": [
      "  0% (1524 of 3820508) |                 | Elapsed Time: 0:00:00 ETA:   0:04:10"
     ]
    },
    {
     "name": "stdout",
     "output_type": "stream",
     "text": [
      "----> Create pileups from assembly. <----\n",
      "##### Generate pileups from read alignments to reference. #####\n",
      "-----> 1. Generate pileups. <-----\n"
     ]
    },
    {
     "name": "stderr",
     "output_type": "stream",
     "text": [
      "100% (3820508 of 3820508) |##############| Elapsed Time: 0:05:01 Time:  0:05:01\n",
      "N/A% (0 of 3820508) |                    | Elapsed Time: 0:00:00 ETA:  --:--:--"
     ]
    },
    {
     "name": "stdout",
     "output_type": "stream",
     "text": [
      "-----> 2. Generate ground truth. <-----\n",
      "Parsing contig utg000001l, len: 2183309\n"
     ]
    },
    {
     "name": "stderr",
     "output_type": "stream",
     "text": [
      " 57% (2210795 of 3820508) |########      | Elapsed Time: 0:00:12 ETA:   0:00:08"
     ]
    },
    {
     "name": "stdout",
     "output_type": "stream",
     "text": [
      "Parsing contig utg000002l, len: 1637199\n"
     ]
    },
    {
     "name": "stderr",
     "output_type": "stream",
     "text": [
      "100% (3820508 of 3820508) |##############| Elapsed Time: 0:00:21 Time:  0:00:21\n"
     ]
    },
    {
     "name": "stdout",
     "output_type": "stream",
     "text": [
      "----> Create dataset with neighbourhood from pileups. <----\n",
      "Parsing  ./m-morgani-NCTC235-all-contigs-n20-model-7/pileups-X-0-indels.npy  and  ./m-morgani-NCTC235-all-contigs-n20-model-7/pileups-y-0.npy\n"
     ]
    },
    {
     "name": "stderr",
     "output_type": "stream",
     "text": [
      "  0% (3967 of 2183309) |                 | Elapsed Time: 0:00:00 ETA:   0:01:49"
     ]
    },
    {
     "name": "stdout",
     "output_type": "stream",
     "text": [
      "Creating dataset with neighbourhood ...\n"
     ]
    },
    {
     "name": "stderr",
     "output_type": "stream",
     "text": [
      "100% (2183309 of 2183309) |##############| Elapsed Time: 0:01:52 Time:  0:01:52\n"
     ]
    },
    {
     "name": "stdout",
     "output_type": "stream",
     "text": [
      "Parsing  ./m-morgani-NCTC235-all-contigs-n20-model-7/pileups-X-1-indels.npy  and  ./m-morgani-NCTC235-all-contigs-n20-model-7/pileups-y-1.npy\n"
     ]
    },
    {
     "name": "stderr",
     "output_type": "stream",
     "text": [
      "  0% (3909 of 1637199) |                 | Elapsed Time: 0:00:00 ETA:   0:01:23"
     ]
    },
    {
     "name": "stdout",
     "output_type": "stream",
     "text": [
      "Creating dataset with neighbourhood ...\n"
     ]
    },
    {
     "name": "stderr",
     "output_type": "stream",
     "text": [
      "100% (1637199 of 1637199) |##############| Elapsed Time: 0:01:24 Time:  0:01:24\n"
     ]
    },
    {
     "name": "stdout",
     "output_type": "stream",
     "text": [
      "----> Reshape dataset for convolutional network. <----\n"
     ]
    },
    {
     "name": "stderr",
     "output_type": "stream",
     "text": [
      "  0% (4559 of 2183267) |                 | Elapsed Time: 0:00:00 ETA:   0:01:35"
     ]
    },
    {
     "name": "stdout",
     "output_type": "stream",
     "text": [
      "X shape before reshaping: (2183267, 41, 6)\n",
      "y shape before reshaping: (2183267, 4)\n"
     ]
    },
    {
     "name": "stderr",
     "output_type": "stream",
     "text": [
      "100% (2183267 of 2183267) |##############| Elapsed Time: 0:01:56 Time:  0:01:56\n"
     ]
    },
    {
     "name": "stdout",
     "output_type": "stream",
     "text": [
      "X shape after reshaping: (2183267, 41, 1, 6)\n",
      "y shape after reshaping: (2183267, 4)\n",
      "X shape before reshaping: (1637159, 41, 6)\n",
      "y shape before reshaping: (1637159, 4)\n"
     ]
    },
    {
     "name": "stderr",
     "output_type": "stream",
     "text": [
      "100% (1637159 of 1637159) |##############| Elapsed Time: 0:01:36 Time:  0:01:36\n"
     ]
    },
    {
     "name": "stdout",
     "output_type": "stream",
     "text": [
      "X shape after reshaping: (1637159, 41, 1, 6)\n",
      "y shape after reshaping: (1637159, 4)\n",
      "----> Load model and make predictions (consensus). <----\n",
      "----> Create consensus summary. <----\n"
     ]
    },
    {
     "name": "stderr",
     "output_type": "stream",
     "text": [
      "\r",
      "                                                                               \r",
      "\r",
      "N/A% (0 of 4789678) |                    | Elapsed Time: 0:00:00 ETA:  --:--:--"
     ]
    },
    {
     "name": "stdout",
     "output_type": "stream",
     "text": [
      "----> Create pileups from assembly. <----\n",
      "##### Generate pileups from read alignments to reference. #####\n",
      "-----> 1. Generate pileups. <-----\n"
     ]
    },
    {
     "name": "stderr",
     "output_type": "stream",
     "text": [
      "100% (4789678 of 4789678) |##############| Elapsed Time: 0:07:10 Time:  0:07:10\n",
      "N/A% (0 of 4789678) |                    | Elapsed Time: 0:00:00 ETA:  --:--:--"
     ]
    },
    {
     "name": "stdout",
     "output_type": "stream",
     "text": [
      "-----> 2. Generate ground truth. <-----\n",
      "Parsing contig utg000001c, len: 4777060\n"
     ]
    },
    {
     "name": "stderr",
     "output_type": "stream",
     "text": [
      "100% (4789678 of 4789678) |##############| Elapsed Time: 0:00:27 Time:  0:00:27\n"
     ]
    },
    {
     "name": "stdout",
     "output_type": "stream",
     "text": [
      "Parsing contig utg000002c, len: 12618\n",
      "----> Create dataset with neighbourhood from pileups. <----\n",
      "Parsing  ./s-enterica-NCTC92-all-contigs-n20-model-7/pileups-X-0-indels.npy  and  ./s-enterica-NCTC92-all-contigs-n20-model-7/pileups-y-0.npy\n"
     ]
    },
    {
     "name": "stderr",
     "output_type": "stream",
     "text": [
      "  0% (3876 of 4777060) |                 | Elapsed Time: 0:00:00 ETA:   0:04:06"
     ]
    },
    {
     "name": "stdout",
     "output_type": "stream",
     "text": [
      "Creating dataset with neighbourhood ...\n"
     ]
    },
    {
     "name": "stderr",
     "output_type": "stream",
     "text": [
      "100% (4777060 of 4777060) |##############| Elapsed Time: 0:04:07 Time:  0:04:07\n"
     ]
    },
    {
     "name": "stdout",
     "output_type": "stream",
     "text": [
      "Parsing  ./s-enterica-NCTC92-all-contigs-n20-model-7/pileups-X-1-indels.npy  and  ./s-enterica-NCTC92-all-contigs-n20-model-7/pileups-y-1.npy\n"
     ]
    },
    {
     "name": "stderr",
     "output_type": "stream",
     "text": [
      " 35% (4473 of 12618) |######             | Elapsed Time: 0:00:00 ETA:   0:00:00"
     ]
    },
    {
     "name": "stdout",
     "output_type": "stream",
     "text": [
      "Creating dataset with neighbourhood ...\n"
     ]
    },
    {
     "name": "stderr",
     "output_type": "stream",
     "text": [
      "100% (12618 of 12618) |##################| Elapsed Time: 0:00:00 Time:  0:00:00\n"
     ]
    },
    {
     "name": "stdout",
     "output_type": "stream",
     "text": [
      "----> Reshape dataset for convolutional network. <----\n"
     ]
    },
    {
     "name": "stderr",
     "output_type": "stream",
     "text": [
      "  0% (2077 of 4777020) |                 | Elapsed Time: 0:00:00 ETA:   0:03:50"
     ]
    },
    {
     "name": "stdout",
     "output_type": "stream",
     "text": [
      "X shape before reshaping: (4777020, 41, 6)\n",
      "y shape before reshaping: (4777020, 4)\n"
     ]
    },
    {
     "name": "stderr",
     "output_type": "stream",
     "text": [
      "100% (4777020 of 4777020) |##############| Elapsed Time: 0:04:17 Time:  0:04:17\n"
     ]
    },
    {
     "name": "stdout",
     "output_type": "stream",
     "text": [
      "X shape after reshaping: (4777020, 41, 1, 6)\n",
      "y shape after reshaping: (4777020, 4)\n",
      "X shape before reshaping: (12578, 41, 6)\n",
      "y shape before reshaping: (12578, 4)\n"
     ]
    },
    {
     "name": "stderr",
     "output_type": "stream",
     "text": [
      "100% (12578 of 12578) |##################| Elapsed Time: 0:00:00 Time:  0:00:00\n"
     ]
    },
    {
     "name": "stdout",
     "output_type": "stream",
     "text": [
      "X shape after reshaping: (12578, 41, 1, 6)\n",
      "y shape after reshaping: (12578, 4)\n",
      "----> Load model and make predictions (consensus). <----\n",
      "----> Create consensus summary. <----\n"
     ]
    },
    {
     "name": "stderr",
     "output_type": "stream",
     "text": [
      "\r",
      "                                                                               \r",
      "\r",
      "N/A% (0 of 4882164) |                    | Elapsed Time: 0:00:00 ETA:  --:--:--"
     ]
    },
    {
     "name": "stdout",
     "output_type": "stream",
     "text": [
      "----> Create pileups from assembly. <----\n",
      "##### Generate pileups from read alignments to reference. #####\n",
      "-----> 1. Generate pileups. <-----\n"
     ]
    },
    {
     "name": "stderr",
     "output_type": "stream",
     "text": [
      "100% (4882164 of 4882164) |##############| Elapsed Time: 0:06:23 Time:  0:06:23\n",
      "N/A% (0 of 4882164) |                    | Elapsed Time: 0:00:00 ETA:  --:--:--"
     ]
    },
    {
     "name": "stdout",
     "output_type": "stream",
     "text": [
      "-----> 2. Generate ground truth. <-----\n",
      "Parsing contig utg000001l, len: 4823619\n"
     ]
    },
    {
     "name": "stderr",
     "output_type": "stream",
     "text": [
      " 99% (4853014 of 4882164) |############# | Elapsed Time: 0:00:28 ETA:   0:00:00"
     ]
    },
    {
     "name": "stdout",
     "output_type": "stream",
     "text": [
      "Parsing contig utg000002l, len: 36013\n",
      "Parsing contig utg000003l, len: 22532\n"
     ]
    },
    {
     "name": "stderr",
     "output_type": "stream",
     "text": [
      "100% (4882164 of 4882164) |##############| Elapsed Time: 0:00:28 Time:  0:00:28\n"
     ]
    },
    {
     "name": "stdout",
     "output_type": "stream",
     "text": [
      "----> Create dataset with neighbourhood from pileups. <----\n",
      "Parsing  ./s-enterica-NCTC129-all-contigs-n20-model-7/pileups-X-0-indels.npy  and  ./s-enterica-NCTC129-all-contigs-n20-model-7/pileups-y-0.npy\n"
     ]
    },
    {
     "name": "stderr",
     "output_type": "stream",
     "text": [
      "  0% (3865 of 4823619) |                 | Elapsed Time: 0:00:00 ETA:   0:04:09"
     ]
    },
    {
     "name": "stdout",
     "output_type": "stream",
     "text": [
      "Creating dataset with neighbourhood ...\n"
     ]
    },
    {
     "name": "stderr",
     "output_type": "stream",
     "text": [
      "100% (4823619 of 4823619) |##############| Elapsed Time: 0:04:07 Time:  0:04:07\n"
     ]
    },
    {
     "name": "stdout",
     "output_type": "stream",
     "text": [
      "Parsing  ./s-enterica-NCTC129-all-contigs-n20-model-7/pileups-X-1-indels.npy  and  ./s-enterica-NCTC129-all-contigs-n20-model-7/pileups-y-1.npy\n"
     ]
    },
    {
     "name": "stderr",
     "output_type": "stream",
     "text": [
      " 11% (4103 of 36013) |##                 | Elapsed Time: 0:00:00 ETA:   0:00:01"
     ]
    },
    {
     "name": "stdout",
     "output_type": "stream",
     "text": [
      "Creating dataset with neighbourhood ...\n"
     ]
    },
    {
     "name": "stderr",
     "output_type": "stream",
     "text": [
      "100% (36013 of 36013) |##################| Elapsed Time: 0:00:01 Time:  0:00:01\n",
      " 20% (4564 of 22532) |###                | Elapsed Time: 0:00:00 ETA:   0:00:00"
     ]
    },
    {
     "name": "stdout",
     "output_type": "stream",
     "text": [
      "Parsing  ./s-enterica-NCTC129-all-contigs-n20-model-7/pileups-X-2-indels.npy  and  ./s-enterica-NCTC129-all-contigs-n20-model-7/pileups-y-2.npy\n",
      "Creating dataset with neighbourhood ...\n"
     ]
    },
    {
     "name": "stderr",
     "output_type": "stream",
     "text": [
      "100% (22532 of 22532) |##################| Elapsed Time: 0:00:01 Time:  0:00:01\n"
     ]
    },
    {
     "name": "stdout",
     "output_type": "stream",
     "text": [
      "----> Reshape dataset for convolutional network. <----\n"
     ]
    },
    {
     "name": "stderr",
     "output_type": "stream",
     "text": [
      "  0% (2143 of 4823579) |                 | Elapsed Time: 0:00:00 ETA:   0:03:45"
     ]
    },
    {
     "name": "stdout",
     "output_type": "stream",
     "text": [
      "X shape before reshaping: (4823579, 41, 6)\n",
      "y shape before reshaping: (4823579, 4)\n"
     ]
    },
    {
     "name": "stderr",
     "output_type": "stream",
     "text": [
      "100% (4823579 of 4823579) |##############| Elapsed Time: 0:04:25 Time:  0:04:25\n"
     ]
    },
    {
     "name": "stdout",
     "output_type": "stream",
     "text": [
      "X shape after reshaping: (4823579, 41, 1, 6)\n",
      "y shape after reshaping: (4823579, 4)\n",
      "X shape before reshaping: (35973, 41, 6)\n",
      "y shape before reshaping: (35973, 4)\n"
     ]
    },
    {
     "name": "stderr",
     "output_type": "stream",
     "text": [
      "100% (35973 of 35973) |##################| Elapsed Time: 0:00:01 Time:  0:00:01\n",
      " 11% (2518 of 22102) |##                 | Elapsed Time: 0:00:00 ETA:   0:00:00"
     ]
    },
    {
     "name": "stdout",
     "output_type": "stream",
     "text": [
      "X shape after reshaping: (35973, 41, 1, 6)\n",
      "y shape after reshaping: (35973, 4)\n",
      "X shape before reshaping: (22102, 41, 6)\n",
      "y shape before reshaping: (22102, 4)\n"
     ]
    },
    {
     "name": "stderr",
     "output_type": "stream",
     "text": [
      "100% (22102 of 22102) |##################| Elapsed Time: 0:00:01 Time:  0:00:01\n"
     ]
    },
    {
     "name": "stdout",
     "output_type": "stream",
     "text": [
      "X shape after reshaping: (22102, 41, 1, 6)\n",
      "y shape after reshaping: (22102, 4)\n",
      "----> Load model and make predictions (consensus). <----\n",
      "----> Create consensus summary. <----\n"
     ]
    },
    {
     "name": "stderr",
     "output_type": "stream",
     "text": [
      "\r",
      "                                                                               \r",
      "\r",
      "N/A% (0 of 5521245) |                    | Elapsed Time: 0:00:00 ETA:  --:--:--"
     ]
    },
    {
     "name": "stdout",
     "output_type": "stream",
     "text": [
      "----> Create pileups from assembly. <----\n",
      "##### Generate pileups from read alignments to reference. #####\n",
      "-----> 1. Generate pileups. <-----\n"
     ]
    },
    {
     "name": "stderr",
     "output_type": "stream",
     "text": [
      "100% (5521245 of 5521245) |##############| Elapsed Time: 0:06:01 Time:  0:06:01\n",
      "N/A% (0 of 5521245) |                    | Elapsed Time: 0:00:00 ETA:  --:--:--"
     ]
    },
    {
     "name": "stdout",
     "output_type": "stream",
     "text": [
      "-----> 2. Generate ground truth. <-----\n",
      "Parsing contig utg000001l, len: 5273089\n"
     ]
    },
    {
     "name": "stderr",
     "output_type": "stream",
     "text": [
      " 95% (5294206 of 5521245) |############# | Elapsed Time: 0:00:31 ETA:   0:00:01"
     ]
    },
    {
     "name": "stdout",
     "output_type": "stream",
     "text": [
      "Parsing contig utg000002c, len: 130014\n"
     ]
    },
    {
     "name": "stderr",
     "output_type": "stream",
     "text": [
      " 98% (5431535 of 5521245) |############# | Elapsed Time: 0:00:31 ETA:   0:00:00"
     ]
    },
    {
     "name": "stdout",
     "output_type": "stream",
     "text": [
      "Parsing contig utg000003c, len: 105751\n"
     ]
    },
    {
     "name": "stderr",
     "output_type": "stream",
     "text": [
      "100% (5521245 of 5521245) |##############| Elapsed Time: 0:00:32 Time:  0:00:32\n"
     ]
    },
    {
     "name": "stdout",
     "output_type": "stream",
     "text": [
      "Parsing contig utg000004c, len: 12391\n",
      "----> Create dataset with neighbourhood from pileups. <----\n",
      "Parsing  ./k-pneumoniae-NCTC204-all-contigs-n20-model-7/pileups-X-0-indels.npy  and  ./k-pneumoniae-NCTC204-all-contigs-n20-model-7/pileups-y-0.npy\n"
     ]
    },
    {
     "name": "stderr",
     "output_type": "stream",
     "text": [
      "  0% (3934 of 5273089) |                 | Elapsed Time: 0:00:00 ETA:   0:04:28"
     ]
    },
    {
     "name": "stdout",
     "output_type": "stream",
     "text": [
      "Creating dataset with neighbourhood ...\n"
     ]
    },
    {
     "name": "stderr",
     "output_type": "stream",
     "text": [
      "100% (5273089 of 5273089) |##############| Elapsed Time: 0:04:32 Time:  0:04:32\n"
     ]
    },
    {
     "name": "stdout",
     "output_type": "stream",
     "text": [
      "Parsing  ./k-pneumoniae-NCTC204-all-contigs-n20-model-7/pileups-X-1-indels.npy  and  ./k-pneumoniae-NCTC204-all-contigs-n20-model-7/pileups-y-1.npy\n"
     ]
    },
    {
     "name": "stderr",
     "output_type": "stream",
     "text": [
      "  2% (3292 of 130014) |                  | Elapsed Time: 0:00:00 ETA:   0:00:06"
     ]
    },
    {
     "name": "stdout",
     "output_type": "stream",
     "text": [
      "Creating dataset with neighbourhood ...\n"
     ]
    },
    {
     "name": "stderr",
     "output_type": "stream",
     "text": [
      "100% (130014 of 130014) |################| Elapsed Time: 0:00:06 Time:  0:00:06\n",
      "  2% (2678 of 105751) |                  | Elapsed Time: 0:00:00 ETA:   0:00:05"
     ]
    },
    {
     "name": "stdout",
     "output_type": "stream",
     "text": [
      "Parsing  ./k-pneumoniae-NCTC204-all-contigs-n20-model-7/pileups-X-2-indels.npy  and  ./k-pneumoniae-NCTC204-all-contigs-n20-model-7/pileups-y-2.npy\n",
      "Creating dataset with neighbourhood ...\n"
     ]
    },
    {
     "name": "stderr",
     "output_type": "stream",
     "text": [
      "100% (105751 of 105751) |################| Elapsed Time: 0:00:05 Time:  0:00:05\n",
      " 25% (3137 of 12391) |####               | Elapsed Time: 0:00:00 ETA:   0:00:00"
     ]
    },
    {
     "name": "stdout",
     "output_type": "stream",
     "text": [
      "Parsing  ./k-pneumoniae-NCTC204-all-contigs-n20-model-7/pileups-X-3-indels.npy  and  ./k-pneumoniae-NCTC204-all-contigs-n20-model-7/pileups-y-3.npy\n",
      "Creating dataset with neighbourhood ...\n"
     ]
    },
    {
     "name": "stderr",
     "output_type": "stream",
     "text": [
      "100% (12391 of 12391) |##################| Elapsed Time: 0:00:00 Time:  0:00:00\n"
     ]
    },
    {
     "name": "stdout",
     "output_type": "stream",
     "text": [
      "----> Reshape dataset for convolutional network. <----\n"
     ]
    },
    {
     "name": "stderr",
     "output_type": "stream",
     "text": [
      "  0% (2064 of 5273049) |                 | Elapsed Time: 0:00:00 ETA:   0:04:15"
     ]
    },
    {
     "name": "stdout",
     "output_type": "stream",
     "text": [
      "X shape before reshaping: (5273049, 41, 6)\n",
      "y shape before reshaping: (5273049, 4)\n"
     ]
    },
    {
     "name": "stderr",
     "output_type": "stream",
     "text": [
      "100% (5273049 of 5273049) |##############| Elapsed Time: 0:04:47 Time:  0:04:47\n"
     ]
    },
    {
     "name": "stdout",
     "output_type": "stream",
     "text": [
      "X shape after reshaping: (5273049, 41, 1, 6)\n",
      "y shape after reshaping: (5273049, 4)\n",
      "X shape before reshaping: (129974, 41, 6)\n",
      "y shape before reshaping: (129974, 4)\n"
     ]
    },
    {
     "name": "stderr",
     "output_type": "stream",
     "text": [
      "100% (129974 of 129974) |################| Elapsed Time: 0:00:06 Time:  0:00:06\n",
      "  2% (2677 of 105711) |                  | Elapsed Time: 0:00:00 ETA:   0:00:04"
     ]
    },
    {
     "name": "stdout",
     "output_type": "stream",
     "text": [
      "X shape after reshaping: (129974, 41, 1, 6)\n",
      "y shape after reshaping: (129974, 4)\n",
      "X shape before reshaping: (105711, 41, 6)\n",
      "y shape before reshaping: (105711, 4)\n"
     ]
    },
    {
     "name": "stderr",
     "output_type": "stream",
     "text": [
      "100% (105711 of 105711) |################| Elapsed Time: 0:00:05 Time:  0:00:05\n",
      " 27% (3440 of 12351) |#####              | Elapsed Time: 0:00:00 ETA:   0:00:00"
     ]
    },
    {
     "name": "stdout",
     "output_type": "stream",
     "text": [
      "X shape after reshaping: (105711, 41, 1, 6)\n",
      "y shape after reshaping: (105711, 4)\n",
      "X shape before reshaping: (12351, 41, 6)\n",
      "y shape before reshaping: (12351, 4)\n"
     ]
    },
    {
     "name": "stderr",
     "output_type": "stream",
     "text": [
      "100% (12351 of 12351) |##################| Elapsed Time: 0:00:00 Time:  0:00:00\n"
     ]
    },
    {
     "name": "stdout",
     "output_type": "stream",
     "text": [
      "X shape after reshaping: (12351, 41, 1, 6)\n",
      "y shape after reshaping: (12351, 4)\n",
      "----> Load model and make predictions (consensus). <----\n",
      "----> Create consensus summary. <----\n"
     ]
    }
   ],
   "source": [
    "model_path = '/home/diplomski-rad/blade/pb/datasets/n20-all-indels/model-7.h5'\n",
    "assembly_paths = ['/home/diplomski-rad/blade/pb/escherichia-coli-NCTC86/iter2.fasta',\n",
    "                  '/home/diplomski-rad/blade/pb/morganela-morgani-NCTC235/iter2.fasta',\n",
    "                  '/home/diplomski-rad/blade/pb/salmonella-enterica-NCTC92/iter2.fasta',\n",
    "                  '/home/diplomski-rad/blade/pb/salmonella-enterica-NCTC129/iter2.fasta',\n",
    "                  '/home/diplomski-rad/blade/pb/klebsiela-pneumoniae-NCTC204-BROKEN/iter2.fasta']\n",
    "reference_paths = ['/home/data/pacific_biosciences/bacteria/escherichia/coli/escherichia_coli_reference.fasta',\n",
    "                   '/home/data/pacific_biosciences/bacteria/morganella/morgani/morganella_morganii_reference.fasta',\n",
    "                   '/home/data/pacific_biosciences/bacteria/salmonella/enterica/salmonella_enterica_reference.fasta',\n",
    "                   '/home/data/pacific_biosciences/bacteria/salmonella/enterica/salmonella_enterica_reference.fasta',\n",
    "                   '/home/data/pacific_biosciences/bacteria/klebsiela/pneumoniae/klebsiella_pneumoniae_reference.fasta']\n",
    "bam_file_paths = ['/home/diplomski-rad/blade/pb/escherichia-coli-NCTC86/reads-to-asm-sorted.bam',\n",
    "                  '/home/diplomski-rad/blade/pb/morganela-morgani-NCTC235/reads-to-asm-sorted.bam',\n",
    "                  '/home/diplomski-rad/blade/pb/salmonella-enterica-NCTC92/reads-to-asm-sorted.bam',\n",
    "                  '/home/diplomski-rad/blade/pb/salmonella-enterica-NCTC129/reads-to-asm-sorted.bam',\n",
    "                  '/home/diplomski-rad/blade/pb/klebsiela-pneumoniae-NCTC204-BROKEN/reads-to-asm-sorted.bam']\n",
    "neighbourhood_size = 20\n",
    "output_dirs = ['./e-coli-NCTC86-all-contigs-n20-model-7',\n",
    "               './m-morgani-NCTC235-all-contigs-n20-model-7',\n",
    "               './s-enterica-NCTC92-all-contigs-n20-model-7',\n",
    "               './s-enterica-NCTC129-all-contigs-n20-model-7',\n",
    "               './k-pneumoniae-NCTC204-all-contigs-n20-model-7']\n",
    "tools_dir = '/home/diplomski-rad/'\n",
    "include_indels = True\n",
    "\n",
    "for assembly_path, reference_path, bam_file_path, output_dir in zip(assembly_paths, reference_paths, bam_file_paths, output_dirs):\n",
    "    inference.make_consensus(\n",
    "        model_path, \n",
    "        assembly_path,\n",
    "        reference_path,\n",
    "        bam_file_path,\n",
    "        neighbourhood_size,\n",
    "        output_dir,\n",
    "        tools_dir,\n",
    "        include_indels=include_indels)"
   ]
  },
  {
   "cell_type": "markdown",
   "metadata": {},
   "source": [
    "## n-20 model-11 all contigs"
   ]
  },
  {
   "cell_type": "code",
   "execution_count": 9,
   "metadata": {},
   "outputs": [
    {
     "name": "stdout",
     "output_type": "stream",
     "text": [
      "----> Create pileups from assembly. <----\n",
      "##### Generate pileups from read alignments to reference. #####\n",
      "-----> 1. Generate pileups. <-----\n"
     ]
    },
    {
     "name": "stderr",
     "output_type": "stream",
     "text": [
      "100% (5104767 of 5104767) |##############| Elapsed Time: 0:07:33 Time:  0:07:33\n",
      "N/A% (0 of 5104767) |                    | Elapsed Time: 0:00:00 ETA:  --:--:--"
     ]
    },
    {
     "name": "stdout",
     "output_type": "stream",
     "text": [
      "-----> 2. Generate ground truth. <-----\n",
      "Parsing contig utg000001c, len: 5104767\n"
     ]
    },
    {
     "name": "stderr",
     "output_type": "stream",
     "text": [
      "100% (5104767 of 5104767) |##############| Elapsed Time: 0:00:29 Time:  0:00:29\n"
     ]
    },
    {
     "name": "stdout",
     "output_type": "stream",
     "text": [
      "----> Create dataset with neighbourhood from pileups. <----\n",
      "Parsing  ./e-coli-NCTC86-all-contigs-n20-model-11/pileups-X-0-indels.npy  and  ./e-coli-NCTC86-all-contigs-n20-model-11/pileups-y-0.npy\n"
     ]
    },
    {
     "name": "stderr",
     "output_type": "stream",
     "text": [
      "  0% (3866 of 5104767) |                 | Elapsed Time: 0:00:00 ETA:   0:04:24"
     ]
    },
    {
     "name": "stdout",
     "output_type": "stream",
     "text": [
      "Creating dataset with neighbourhood ...\n"
     ]
    },
    {
     "name": "stderr",
     "output_type": "stream",
     "text": [
      "100% (5104767 of 5104767) |##############| Elapsed Time: 0:04:23 Time:  0:04:23\n"
     ]
    },
    {
     "name": "stdout",
     "output_type": "stream",
     "text": [
      "----> Reshape dataset for convolutional network. <----\n"
     ]
    },
    {
     "name": "stderr",
     "output_type": "stream",
     "text": [
      "  0% (2201 of 5104727) |                 | Elapsed Time: 0:00:00 ETA:   0:03:52"
     ]
    },
    {
     "name": "stdout",
     "output_type": "stream",
     "text": [
      "X shape before reshaping: (5104727, 41, 6)\n",
      "y shape before reshaping: (5104727, 4)\n"
     ]
    },
    {
     "name": "stderr",
     "output_type": "stream",
     "text": [
      "100% (5104727 of 5104727) |##############| Elapsed Time: 0:04:28 Time:  0:04:28\n"
     ]
    },
    {
     "name": "stdout",
     "output_type": "stream",
     "text": [
      "X shape after reshaping: (5104727, 41, 1, 6)\n",
      "y shape after reshaping: (5104727, 4)\n",
      "----> Load model and make predictions (consensus). <----\n",
      "----> Create consensus summary. <----\n"
     ]
    },
    {
     "name": "stderr",
     "output_type": "stream",
     "text": [
      "  0% (1463 of 3820508) |                 | Elapsed Time: 0:00:00 ETA:   0:04:21"
     ]
    },
    {
     "name": "stdout",
     "output_type": "stream",
     "text": [
      "----> Create pileups from assembly. <----\n",
      "##### Generate pileups from read alignments to reference. #####\n",
      "-----> 1. Generate pileups. <-----\n"
     ]
    },
    {
     "name": "stderr",
     "output_type": "stream",
     "text": [
      "100% (3820508 of 3820508) |##############| Elapsed Time: 0:05:02 Time:  0:05:02\n",
      "N/A% (0 of 3820508) |                    | Elapsed Time: 0:00:00 ETA:  --:--:--"
     ]
    },
    {
     "name": "stdout",
     "output_type": "stream",
     "text": [
      "-----> 2. Generate ground truth. <-----\n",
      "Parsing contig utg000001l, len: 2183309\n"
     ]
    },
    {
     "name": "stderr",
     "output_type": "stream",
     "text": [
      " 58% (2224600 of 3820508) |########      | Elapsed Time: 0:00:12 ETA:   0:00:08"
     ]
    },
    {
     "name": "stdout",
     "output_type": "stream",
     "text": [
      "Parsing contig utg000002l, len: 1637199\n"
     ]
    },
    {
     "name": "stderr",
     "output_type": "stream",
     "text": [
      "100% (3820508 of 3820508) |##############| Elapsed Time: 0:00:21 Time:  0:00:21\n"
     ]
    },
    {
     "name": "stdout",
     "output_type": "stream",
     "text": [
      "----> Create dataset with neighbourhood from pileups. <----\n",
      "Parsing  ./m-morgani-NCTC235-all-contigs-n20-model-11/pileups-X-0-indels.npy  and  ./m-morgani-NCTC235-all-contigs-n20-model-11/pileups-y-0.npy\n"
     ]
    },
    {
     "name": "stderr",
     "output_type": "stream",
     "text": [
      "  0% (3778 of 2183309) |                 | Elapsed Time: 0:00:00 ETA:   0:01:55"
     ]
    },
    {
     "name": "stdout",
     "output_type": "stream",
     "text": [
      "Creating dataset with neighbourhood ...\n"
     ]
    },
    {
     "name": "stderr",
     "output_type": "stream",
     "text": [
      "100% (2183309 of 2183309) |##############| Elapsed Time: 0:01:53 Time:  0:01:53\n"
     ]
    },
    {
     "name": "stdout",
     "output_type": "stream",
     "text": [
      "Parsing  ./m-morgani-NCTC235-all-contigs-n20-model-11/pileups-X-1-indels.npy  and  ./m-morgani-NCTC235-all-contigs-n20-model-11/pileups-y-1.npy\n"
     ]
    },
    {
     "name": "stderr",
     "output_type": "stream",
     "text": [
      "  0% (3608 of 1637199) |                 | Elapsed Time: 0:00:00 ETA:   0:01:30"
     ]
    },
    {
     "name": "stdout",
     "output_type": "stream",
     "text": [
      "Creating dataset with neighbourhood ...\n"
     ]
    },
    {
     "name": "stderr",
     "output_type": "stream",
     "text": [
      "100% (1637199 of 1637199) |##############| Elapsed Time: 0:01:24 Time:  0:01:24\n"
     ]
    },
    {
     "name": "stdout",
     "output_type": "stream",
     "text": [
      "----> Reshape dataset for convolutional network. <----\n"
     ]
    },
    {
     "name": "stderr",
     "output_type": "stream",
     "text": [
      "  0% (4361 of 2183267) |                 | Elapsed Time: 0:00:00 ETA:   0:01:40"
     ]
    },
    {
     "name": "stdout",
     "output_type": "stream",
     "text": [
      "X shape before reshaping: (2183267, 41, 6)\n",
      "y shape before reshaping: (2183267, 4)\n"
     ]
    },
    {
     "name": "stderr",
     "output_type": "stream",
     "text": [
      "100% (2183267 of 2183267) |##############| Elapsed Time: 0:01:54 Time:  0:01:54\n"
     ]
    },
    {
     "name": "stdout",
     "output_type": "stream",
     "text": [
      "X shape after reshaping: (2183267, 41, 1, 6)\n",
      "y shape after reshaping: (2183267, 4)\n"
     ]
    },
    {
     "name": "stderr",
     "output_type": "stream",
     "text": [
      "  0% (2189 of 1637159) |                 | Elapsed Time: 0:00:00 ETA:   0:01:14"
     ]
    },
    {
     "name": "stdout",
     "output_type": "stream",
     "text": [
      "X shape before reshaping: (1637159, 41, 6)\n",
      "y shape before reshaping: (1637159, 4)\n"
     ]
    },
    {
     "name": "stderr",
     "output_type": "stream",
     "text": [
      "100% (1637159 of 1637159) |##############| Elapsed Time: 0:01:23 Time:  0:01:23\n"
     ]
    },
    {
     "name": "stdout",
     "output_type": "stream",
     "text": [
      "X shape after reshaping: (1637159, 41, 1, 6)\n",
      "y shape after reshaping: (1637159, 4)\n",
      "----> Load model and make predictions (consensus). <----\n",
      "----> Create consensus summary. <----\n"
     ]
    },
    {
     "name": "stderr",
     "output_type": "stream",
     "text": [
      "\r",
      "                                                                               \r",
      "\r",
      "N/A% (0 of 4789678) |                    | Elapsed Time: 0:00:00 ETA:  --:--:--"
     ]
    },
    {
     "name": "stdout",
     "output_type": "stream",
     "text": [
      "----> Create pileups from assembly. <----\n",
      "##### Generate pileups from read alignments to reference. #####\n",
      "-----> 1. Generate pileups. <-----\n"
     ]
    },
    {
     "name": "stderr",
     "output_type": "stream",
     "text": [
      "100% (4789678 of 4789678) |##############| Elapsed Time: 0:07:12 Time:  0:07:12\n",
      "N/A% (0 of 4789678) |                    | Elapsed Time: 0:00:00 ETA:  --:--:--"
     ]
    },
    {
     "name": "stdout",
     "output_type": "stream",
     "text": [
      "-----> 2. Generate ground truth. <-----\n",
      "Parsing contig utg000001c, len: 4777060\n"
     ]
    },
    {
     "name": "stderr",
     "output_type": "stream",
     "text": [
      "100% (4789678 of 4789678) |##############| Elapsed Time: 0:00:28 Time:  0:00:28\n"
     ]
    },
    {
     "name": "stdout",
     "output_type": "stream",
     "text": [
      "Parsing contig utg000002c, len: 12618\n",
      "----> Create dataset with neighbourhood from pileups. <----\n",
      "Parsing  ./s-enterica-NCTC92-all-contigs-n20-model-11/pileups-X-0-indels.npy  and  ./s-enterica-NCTC92-all-contigs-n20-model-11/pileups-y-0.npy\n"
     ]
    },
    {
     "name": "stderr",
     "output_type": "stream",
     "text": [
      "  0% (3694 of 4777060) |                 | Elapsed Time: 0:00:00 ETA:   0:04:18"
     ]
    },
    {
     "name": "stdout",
     "output_type": "stream",
     "text": [
      "Creating dataset with neighbourhood ...\n"
     ]
    },
    {
     "name": "stderr",
     "output_type": "stream",
     "text": [
      "100% (4777060 of 4777060) |##############| Elapsed Time: 0:04:18 Time:  0:04:18\n"
     ]
    },
    {
     "name": "stdout",
     "output_type": "stream",
     "text": [
      "Parsing  ./s-enterica-NCTC92-all-contigs-n20-model-11/pileups-X-1-indels.npy  and  ./s-enterica-NCTC92-all-contigs-n20-model-11/pileups-y-1.npy\n"
     ]
    },
    {
     "name": "stderr",
     "output_type": "stream",
     "text": [
      " 35% (4473 of 12618) |######             | Elapsed Time: 0:00:00 ETA:   0:00:00"
     ]
    },
    {
     "name": "stdout",
     "output_type": "stream",
     "text": [
      "Creating dataset with neighbourhood ...\n"
     ]
    },
    {
     "name": "stderr",
     "output_type": "stream",
     "text": [
      "100% (12618 of 12618) |##################| Elapsed Time: 0:00:00 Time:  0:00:00\n"
     ]
    },
    {
     "name": "stdout",
     "output_type": "stream",
     "text": [
      "----> Reshape dataset for convolutional network. <----\n"
     ]
    },
    {
     "name": "stderr",
     "output_type": "stream",
     "text": [
      "  0% (2020 of 4777020) |                 | Elapsed Time: 0:00:00 ETA:   0:03:56"
     ]
    },
    {
     "name": "stdout",
     "output_type": "stream",
     "text": [
      "X shape before reshaping: (4777020, 41, 6)\n",
      "y shape before reshaping: (4777020, 4)\n"
     ]
    },
    {
     "name": "stderr",
     "output_type": "stream",
     "text": [
      "100% (4777020 of 4777020) |##############| Elapsed Time: 0:04:18 Time:  0:04:18\n"
     ]
    },
    {
     "name": "stdout",
     "output_type": "stream",
     "text": [
      "X shape after reshaping: (4777020, 41, 1, 6)\n",
      "y shape after reshaping: (4777020, 4)\n",
      "X shape before reshaping: (12578, 41, 6)\n",
      "y shape before reshaping: (12578, 4)\n"
     ]
    },
    {
     "name": "stderr",
     "output_type": "stream",
     "text": [
      "100% (12578 of 12578) |##################| Elapsed Time: 0:00:00 Time:  0:00:00\n"
     ]
    },
    {
     "name": "stdout",
     "output_type": "stream",
     "text": [
      "X shape after reshaping: (12578, 41, 1, 6)\n",
      "y shape after reshaping: (12578, 4)\n",
      "----> Load model and make predictions (consensus). <----\n",
      "----> Create consensus summary. <----\n"
     ]
    },
    {
     "name": "stderr",
     "output_type": "stream",
     "text": [
      "\r",
      "                                                                               \r",
      "\r",
      "N/A% (0 of 4882164) |                    | Elapsed Time: 0:00:00 ETA:  --:--:--"
     ]
    },
    {
     "name": "stdout",
     "output_type": "stream",
     "text": [
      "----> Create pileups from assembly. <----\n",
      "##### Generate pileups from read alignments to reference. #####\n",
      "-----> 1. Generate pileups. <-----\n"
     ]
    },
    {
     "name": "stderr",
     "output_type": "stream",
     "text": [
      "100% (4882164 of 4882164) |##############| Elapsed Time: 0:06:30 Time:  0:06:30\n",
      "N/A% (0 of 4882164) |                    | Elapsed Time: 0:00:00 ETA:  --:--:--"
     ]
    },
    {
     "name": "stdout",
     "output_type": "stream",
     "text": [
      "-----> 2. Generate ground truth. <-----\n",
      "Parsing contig utg000001l, len: 4823619\n"
     ]
    },
    {
     "name": "stderr",
     "output_type": "stream",
     "text": [
      " 99% (4861199 of 4882164) |############# | Elapsed Time: 0:00:29 ETA:   0:00:00"
     ]
    },
    {
     "name": "stdout",
     "output_type": "stream",
     "text": [
      "Parsing contig utg000002l, len: 36013\n",
      "Parsing contig utg000003l, len: 22532\n"
     ]
    },
    {
     "name": "stderr",
     "output_type": "stream",
     "text": [
      "100% (4882164 of 4882164) |##############| Elapsed Time: 0:00:29 Time:  0:00:29\n"
     ]
    },
    {
     "name": "stdout",
     "output_type": "stream",
     "text": [
      "----> Create dataset with neighbourhood from pileups. <----\n",
      "Parsing  ./s-enterica-NCTC129-all-contigs-n20-model-11/pileups-X-0-indels.npy  and  ./s-enterica-NCTC129-all-contigs-n20-model-11/pileups-y-0.npy\n"
     ]
    },
    {
     "name": "stderr",
     "output_type": "stream",
     "text": [
      "  0% (3751 of 4823619) |                 | Elapsed Time: 0:00:00 ETA:   0:04:17"
     ]
    },
    {
     "name": "stdout",
     "output_type": "stream",
     "text": [
      "Creating dataset with neighbourhood ...\n"
     ]
    },
    {
     "name": "stderr",
     "output_type": "stream",
     "text": [
      "100% (4823619 of 4823619) |##############| Elapsed Time: 0:04:19 Time:  0:04:19\n"
     ]
    },
    {
     "name": "stdout",
     "output_type": "stream",
     "text": [
      "Parsing  ./s-enterica-NCTC129-all-contigs-n20-model-11/pileups-X-1-indels.npy  and  ./s-enterica-NCTC129-all-contigs-n20-model-11/pileups-y-1.npy\n"
     ]
    },
    {
     "name": "stderr",
     "output_type": "stream",
     "text": [
      "  7% (2736 of 36013) |#                  | Elapsed Time: 0:00:00 ETA:   0:00:01"
     ]
    },
    {
     "name": "stdout",
     "output_type": "stream",
     "text": [
      "Creating dataset with neighbourhood ...\n"
     ]
    },
    {
     "name": "stderr",
     "output_type": "stream",
     "text": [
      "100% (36013 of 36013) |##################| Elapsed Time: 0:00:01 Time:  0:00:01\n",
      " 20% (4564 of 22532) |###                | Elapsed Time: 0:00:00 ETA:   0:00:00"
     ]
    },
    {
     "name": "stdout",
     "output_type": "stream",
     "text": [
      "Parsing  ./s-enterica-NCTC129-all-contigs-n20-model-11/pileups-X-2-indels.npy  and  ./s-enterica-NCTC129-all-contigs-n20-model-11/pileups-y-2.npy\n",
      "Creating dataset with neighbourhood ...\n"
     ]
    },
    {
     "name": "stderr",
     "output_type": "stream",
     "text": [
      "100% (22532 of 22532) |##################| Elapsed Time: 0:00:01 Time:  0:00:01\n"
     ]
    },
    {
     "name": "stdout",
     "output_type": "stream",
     "text": [
      "----> Reshape dataset for convolutional network. <----\n"
     ]
    },
    {
     "name": "stderr",
     "output_type": "stream",
     "text": [
      "  0% (2035 of 4823579) |                 | Elapsed Time: 0:00:00 ETA:   0:03:58"
     ]
    },
    {
     "name": "stdout",
     "output_type": "stream",
     "text": [
      "X shape before reshaping: (4823579, 41, 6)\n",
      "y shape before reshaping: (4823579, 4)\n"
     ]
    },
    {
     "name": "stderr",
     "output_type": "stream",
     "text": [
      "100% (4823579 of 4823579) |##############| Elapsed Time: 0:04:20 Time:  0:04:20\n"
     ]
    },
    {
     "name": "stdout",
     "output_type": "stream",
     "text": [
      "X shape after reshaping: (4823579, 41, 1, 6)\n",
      "y shape after reshaping: (4823579, 4)\n",
      "X shape before reshaping: (35973, 41, 6)\n",
      "y shape before reshaping: (35973, 4)\n"
     ]
    },
    {
     "name": "stderr",
     "output_type": "stream",
     "text": [
      "100% (35973 of 35973) |##################| Elapsed Time: 0:00:01 Time:  0:00:01\n",
      " 15% (3358 of 22102) |##                 | Elapsed Time: 0:00:00 ETA:   0:00:00"
     ]
    },
    {
     "name": "stdout",
     "output_type": "stream",
     "text": [
      "X shape after reshaping: (35973, 41, 1, 6)\n",
      "y shape after reshaping: (35973, 4)\n",
      "X shape before reshaping: (22102, 41, 6)\n",
      "y shape before reshaping: (22102, 4)\n"
     ]
    },
    {
     "name": "stderr",
     "output_type": "stream",
     "text": [
      "100% (22102 of 22102) |##################| Elapsed Time: 0:00:01 Time:  0:00:01\n"
     ]
    },
    {
     "name": "stdout",
     "output_type": "stream",
     "text": [
      "X shape after reshaping: (22102, 41, 1, 6)\n",
      "y shape after reshaping: (22102, 4)\n",
      "----> Load model and make predictions (consensus). <----\n",
      "----> Create consensus summary. <----\n"
     ]
    },
    {
     "name": "stderr",
     "output_type": "stream",
     "text": [
      "\r",
      "                                                                               \r",
      "\r",
      "N/A% (0 of 5521245) |                    | Elapsed Time: 0:00:00 ETA:  --:--:--"
     ]
    },
    {
     "name": "stdout",
     "output_type": "stream",
     "text": [
      "----> Create pileups from assembly. <----\n",
      "##### Generate pileups from read alignments to reference. #####\n",
      "-----> 1. Generate pileups. <-----\n"
     ]
    },
    {
     "name": "stderr",
     "output_type": "stream",
     "text": [
      "100% (5521245 of 5521245) |##############| Elapsed Time: 0:06:02 Time:  0:06:02\n",
      "N/A% (0 of 5521245) |                    | Elapsed Time: 0:00:00 ETA:  --:--:--"
     ]
    },
    {
     "name": "stdout",
     "output_type": "stream",
     "text": [
      "-----> 2. Generate ground truth. <-----\n",
      "Parsing contig utg000001l, len: 5273089\n"
     ]
    },
    {
     "name": "stderr",
     "output_type": "stream",
     "text": [
      " 96% (5303631 of 5521245) |############# | Elapsed Time: 0:00:31 ETA:   0:00:01"
     ]
    },
    {
     "name": "stdout",
     "output_type": "stream",
     "text": [
      "Parsing contig utg000002c, len: 130014\n"
     ]
    },
    {
     "name": "stderr",
     "output_type": "stream",
     "text": [
      " 98% (5423592 of 5521245) |############# | Elapsed Time: 0:00:31 ETA:   0:00:00"
     ]
    },
    {
     "name": "stdout",
     "output_type": "stream",
     "text": [
      "Parsing contig utg000003c, len: 105751\n"
     ]
    },
    {
     "name": "stderr",
     "output_type": "stream",
     "text": [
      "100% (5521245 of 5521245) |##############| Elapsed Time: 0:00:32 Time:  0:00:32\n"
     ]
    },
    {
     "name": "stdout",
     "output_type": "stream",
     "text": [
      "Parsing contig utg000004c, len: 12391\n",
      "----> Create dataset with neighbourhood from pileups. <----\n",
      "Parsing  ./k-pneumoniae-NCTC204-all-contigs-n20-model-11/pileups-X-0-indels.npy  and  ./k-pneumoniae-NCTC204-all-contigs-n20-model-11/pileups-y-0.npy\n"
     ]
    },
    {
     "name": "stderr",
     "output_type": "stream",
     "text": [
      "  0% (3878 of 5273089) |                 | Elapsed Time: 0:00:00 ETA:   0:04:32"
     ]
    },
    {
     "name": "stdout",
     "output_type": "stream",
     "text": [
      "Creating dataset with neighbourhood ...\n"
     ]
    },
    {
     "name": "stderr",
     "output_type": "stream",
     "text": [
      "100% (5273089 of 5273089) |##############| Elapsed Time: 0:04:35 Time:  0:04:35\n"
     ]
    },
    {
     "name": "stdout",
     "output_type": "stream",
     "text": [
      "Parsing  ./k-pneumoniae-NCTC204-all-contigs-n20-model-11/pileups-X-1-indels.npy  and  ./k-pneumoniae-NCTC204-all-contigs-n20-model-11/pileups-y-1.npy\n"
     ]
    },
    {
     "name": "stderr",
     "output_type": "stream",
     "text": [
      "  2% (3292 of 130014) |                  | Elapsed Time: 0:00:00 ETA:   0:00:06"
     ]
    },
    {
     "name": "stdout",
     "output_type": "stream",
     "text": [
      "Creating dataset with neighbourhood ...\n"
     ]
    },
    {
     "name": "stderr",
     "output_type": "stream",
     "text": [
      "100% (130014 of 130014) |################| Elapsed Time: 0:00:06 Time:  0:00:06\n",
      "  1% (1339 of 105751) |                  | Elapsed Time: 0:00:00 ETA:  00:00:00"
     ]
    },
    {
     "name": "stdout",
     "output_type": "stream",
     "text": [
      "Parsing  ./k-pneumoniae-NCTC204-all-contigs-n20-model-11/pileups-X-2-indels.npy  and  ./k-pneumoniae-NCTC204-all-contigs-n20-model-11/pileups-y-2.npy\n",
      "Creating dataset with neighbourhood ...\n"
     ]
    },
    {
     "name": "stderr",
     "output_type": "stream",
     "text": [
      "100% (105751 of 105751) |################| Elapsed Time: 0:00:05 Time:  0:00:05\n",
      " 26% (3294 of 12391) |#####              | Elapsed Time: 0:00:00 ETA:   0:00:00"
     ]
    },
    {
     "name": "stdout",
     "output_type": "stream",
     "text": [
      "Parsing  ./k-pneumoniae-NCTC204-all-contigs-n20-model-11/pileups-X-3-indels.npy  and  ./k-pneumoniae-NCTC204-all-contigs-n20-model-11/pileups-y-3.npy\n",
      "Creating dataset with neighbourhood ...\n"
     ]
    },
    {
     "name": "stderr",
     "output_type": "stream",
     "text": [
      "100% (12391 of 12391) |##################| Elapsed Time: 0:00:00 Time:  0:00:00\n"
     ]
    },
    {
     "name": "stdout",
     "output_type": "stream",
     "text": [
      "----> Reshape dataset for convolutional network. <----\n"
     ]
    },
    {
     "name": "stderr",
     "output_type": "stream",
     "text": [
      "  0% (2091 of 5273049) |                 | Elapsed Time: 0:00:00 ETA:   0:04:12"
     ]
    },
    {
     "name": "stdout",
     "output_type": "stream",
     "text": [
      "X shape before reshaping: (5273049, 41, 6)\n",
      "y shape before reshaping: (5273049, 4)\n"
     ]
    },
    {
     "name": "stderr",
     "output_type": "stream",
     "text": [
      "100% (5273049 of 5273049) |##############| Elapsed Time: 0:04:42 Time:  0:04:42\n"
     ]
    },
    {
     "name": "stdout",
     "output_type": "stream",
     "text": [
      "X shape after reshaping: (5273049, 41, 1, 6)\n",
      "y shape after reshaping: (5273049, 4)\n",
      "X shape before reshaping: (129974, 41, 6)\n",
      "y shape before reshaping: (129974, 4)\n"
     ]
    },
    {
     "name": "stderr",
     "output_type": "stream",
     "text": [
      "100% (129974 of 129974) |################| Elapsed Time: 0:00:06 Time:  0:00:06\n",
      "  2% (2677 of 105711) |                  | Elapsed Time: 0:00:00 ETA:   0:00:04"
     ]
    },
    {
     "name": "stdout",
     "output_type": "stream",
     "text": [
      "X shape after reshaping: (129974, 41, 1, 6)\n",
      "y shape after reshaping: (129974, 4)\n",
      "X shape before reshaping: (105711, 41, 6)\n",
      "y shape before reshaping: (105711, 4)\n"
     ]
    },
    {
     "name": "stderr",
     "output_type": "stream",
     "text": [
      "100% (105711 of 105711) |################| Elapsed Time: 0:00:05 Time:  0:00:05\n",
      " 29% (3596 of 12351) |#####              | Elapsed Time: 0:00:00 ETA:   0:00:00"
     ]
    },
    {
     "name": "stdout",
     "output_type": "stream",
     "text": [
      "X shape after reshaping: (105711, 41, 1, 6)\n",
      "y shape after reshaping: (105711, 4)\n",
      "X shape before reshaping: (12351, 41, 6)\n",
      "y shape before reshaping: (12351, 4)\n"
     ]
    },
    {
     "name": "stderr",
     "output_type": "stream",
     "text": [
      "100% (12351 of 12351) |##################| Elapsed Time: 0:00:00 Time:  0:00:00\n"
     ]
    },
    {
     "name": "stdout",
     "output_type": "stream",
     "text": [
      "X shape after reshaping: (12351, 41, 1, 6)\n",
      "y shape after reshaping: (12351, 4)\n",
      "----> Load model and make predictions (consensus). <----\n",
      "----> Create consensus summary. <----\n"
     ]
    }
   ],
   "source": [
    "model_path = '/home/diplomski-rad/blade/pb/datasets/n20-all-indels/model-11.h5'\n",
    "assembly_paths = ['/home/diplomski-rad/blade/pb/escherichia-coli-NCTC86/iter2.fasta',\n",
    "                  '/home/diplomski-rad/blade/pb/morganela-morgani-NCTC235/iter2.fasta',\n",
    "                  '/home/diplomski-rad/blade/pb/salmonella-enterica-NCTC92/iter2.fasta',\n",
    "                  '/home/diplomski-rad/blade/pb/salmonella-enterica-NCTC129/iter2.fasta',\n",
    "                  '/home/diplomski-rad/blade/pb/klebsiela-pneumoniae-NCTC204-BROKEN/iter2.fasta']\n",
    "reference_paths = ['/home/data/pacific_biosciences/bacteria/escherichia/coli/escherichia_coli_reference.fasta',\n",
    "                   '/home/data/pacific_biosciences/bacteria/morganella/morgani/morganella_morganii_reference.fasta',\n",
    "                   '/home/data/pacific_biosciences/bacteria/salmonella/enterica/salmonella_enterica_reference.fasta',\n",
    "                   '/home/data/pacific_biosciences/bacteria/salmonella/enterica/salmonella_enterica_reference.fasta',\n",
    "                   '/home/data/pacific_biosciences/bacteria/klebsiela/pneumoniae/klebsiella_pneumoniae_reference.fasta']\n",
    "bam_file_paths = ['/home/diplomski-rad/blade/pb/escherichia-coli-NCTC86/reads-to-asm-sorted.bam',\n",
    "                  '/home/diplomski-rad/blade/pb/morganela-morgani-NCTC235/reads-to-asm-sorted.bam',\n",
    "                  '/home/diplomski-rad/blade/pb/salmonella-enterica-NCTC92/reads-to-asm-sorted.bam',\n",
    "                  '/home/diplomski-rad/blade/pb/salmonella-enterica-NCTC129/reads-to-asm-sorted.bam',\n",
    "                  '/home/diplomski-rad/blade/pb/klebsiela-pneumoniae-NCTC204-BROKEN/reads-to-asm-sorted.bam']\n",
    "neighbourhood_size = 20\n",
    "output_dirs = ['./e-coli-NCTC86-all-contigs-n20-model-11',\n",
    "               './m-morgani-NCTC235-all-contigs-n20-model-11',\n",
    "               './s-enterica-NCTC92-all-contigs-n20-model-11',\n",
    "               './s-enterica-NCTC129-all-contigs-n20-model-11',\n",
    "               './k-pneumoniae-NCTC204-all-contigs-n20-model-11']\n",
    "tools_dir = '/home/diplomski-rad/'\n",
    "include_indels = True\n",
    "\n",
    "for assembly_path, reference_path, bam_file_path, output_dir in zip(assembly_paths, reference_paths, bam_file_paths, output_dirs):\n",
    "    inference.make_consensus(\n",
    "        model_path, \n",
    "        assembly_path,\n",
    "        reference_path,\n",
    "        bam_file_path,\n",
    "        neighbourhood_size,\n",
    "        output_dir,\n",
    "        tools_dir,\n",
    "        include_indels=include_indels)"
   ]
  },
  {
   "cell_type": "markdown",
   "metadata": {},
   "source": [
    "## n-20 model-11 all contigs indel classes"
   ]
  },
  {
   "cell_type": "code",
   "execution_count": 3,
   "metadata": {},
   "outputs": [
    {
     "name": "stderr",
     "output_type": "stream",
     "text": [
      "  0% (911 of 5104767) |                  | Elapsed Time: 0:00:00 ETA:   0:09:21"
     ]
    },
    {
     "name": "stdout",
     "output_type": "stream",
     "text": [
      "----> Create pileups from assembly. <----\n",
      "##### Generate pileups from read alignments to reference. #####\n"
     ]
    },
    {
     "name": "stderr",
     "output_type": "stream",
     "text": [
      "100% (5104767 of 5104767) |##############| Elapsed Time: 0:08:09 Time:  0:08:09\n"
     ]
    },
    {
     "name": "stdout",
     "output_type": "stream",
     "text": [
      "----> Create dataset with neighbourhood from pileups. <----\n",
      "Parsing  ./e-coli-NCTC86-all-contigs-n20-model-11-indel-classes/pileups-X-0-indels.npy  and  ./e-coli-NCTC86-all-contigs-n20-model-11-indel-classes/pileups-y-0.npy\n"
     ]
    },
    {
     "name": "stderr",
     "output_type": "stream",
     "text": [
      "  0% (3955 of 5104767) |                 | Elapsed Time: 0:00:00 ETA:   0:04:18"
     ]
    },
    {
     "name": "stdout",
     "output_type": "stream",
     "text": [
      "Creating dataset with neighbourhood ...\n"
     ]
    },
    {
     "name": "stderr",
     "output_type": "stream",
     "text": [
      "100% (5104767 of 5104767) |##############| Elapsed Time: 0:04:22 Time:  0:04:22\n"
     ]
    },
    {
     "name": "stdout",
     "output_type": "stream",
     "text": [
      "----> Reshape dataset for convolutional network. <----\n"
     ]
    },
    {
     "name": "stderr",
     "output_type": "stream",
     "text": [
      "  0% (4634 of 5104727) |                 | Elapsed Time: 0:00:00 ETA:   0:03:40"
     ]
    },
    {
     "name": "stdout",
     "output_type": "stream",
     "text": [
      "X shape before reshaping: (5104727, 41, 6)\n",
      "y shape before reshaping: (5104727, 6)\n"
     ]
    },
    {
     "name": "stderr",
     "output_type": "stream",
     "text": [
      "100% (5104727 of 5104727) |##############| Elapsed Time: 0:03:36 Time:  0:03:36\n"
     ]
    },
    {
     "name": "stdout",
     "output_type": "stream",
     "text": [
      "X shape after reshaping: (5104727, 41, 1, 6)\n",
      "y shape after reshaping: (5104727, 6)\n",
      "----> Load model and make predictions (consensus). <----\n",
      "----> Create consensus summary. <----\n",
      "----> Create pileups from assembly. <----\n",
      "##### Generate pileups from read alignments to reference. #####\n"
     ]
    },
    {
     "name": "stderr",
     "output_type": "stream",
     "text": [
      "100% (3820508 of 3820508) |##############| Elapsed Time: 0:05:42 Time:  0:05:42\n"
     ]
    },
    {
     "name": "stdout",
     "output_type": "stream",
     "text": [
      "----> Create dataset with neighbourhood from pileups. <----\n",
      "Parsing  ./m-morgani-NCTC235-all-contigs-n20-model-11-indel-classes/pileups-X-0-indels.npy  and  ./m-morgani-NCTC235-all-contigs-n20-model-11-indel-classes/pileups-y-0.npy\n"
     ]
    },
    {
     "name": "stderr",
     "output_type": "stream",
     "text": [
      "  0% (3811 of 2183309) |                 | Elapsed Time: 0:00:00 ETA:   0:01:54"
     ]
    },
    {
     "name": "stdout",
     "output_type": "stream",
     "text": [
      "Creating dataset with neighbourhood ...\n"
     ]
    },
    {
     "name": "stderr",
     "output_type": "stream",
     "text": [
      "100% (2183309 of 2183309) |##############| Elapsed Time: 0:01:57 Time:  0:01:57\n"
     ]
    },
    {
     "name": "stdout",
     "output_type": "stream",
     "text": [
      "Parsing  ./m-morgani-NCTC235-all-contigs-n20-model-11-indel-classes/pileups-X-1-indels.npy  and  ./m-morgani-NCTC235-all-contigs-n20-model-11-indel-classes/pileups-y-1.npy\n"
     ]
    },
    {
     "name": "stderr",
     "output_type": "stream",
     "text": [
      "  0% (3820 of 1637199) |                 | Elapsed Time: 0:00:00 ETA:   0:01:25"
     ]
    },
    {
     "name": "stdout",
     "output_type": "stream",
     "text": [
      "Creating dataset with neighbourhood ...\n"
     ]
    },
    {
     "name": "stderr",
     "output_type": "stream",
     "text": [
      "100% (1637199 of 1637199) |##############| Elapsed Time: 0:01:27 Time:  0:01:27\n"
     ]
    },
    {
     "name": "stdout",
     "output_type": "stream",
     "text": [
      "----> Reshape dataset for convolutional network. <----\n"
     ]
    },
    {
     "name": "stderr",
     "output_type": "stream",
     "text": [
      "  0% (2160 of 2183267) |                 | Elapsed Time: 0:00:00 ETA:   0:01:41"
     ]
    },
    {
     "name": "stdout",
     "output_type": "stream",
     "text": [
      "X shape before reshaping: (2183267, 41, 6)\n",
      "y shape before reshaping: (2183267, 6)\n"
     ]
    },
    {
     "name": "stderr",
     "output_type": "stream",
     "text": [
      "100% (2183267 of 2183267) |##############| Elapsed Time: 0:01:44 Time:  0:01:44\n"
     ]
    },
    {
     "name": "stdout",
     "output_type": "stream",
     "text": [
      "X shape after reshaping: (2183267, 41, 1, 6)\n",
      "y shape after reshaping: (2183267, 6)\n",
      "X shape before reshaping: (1637159, 41, 6)\n",
      "y shape before reshaping: (1637159, 6)\n"
     ]
    },
    {
     "name": "stderr",
     "output_type": "stream",
     "text": [
      "100% (1637159 of 1637159) |##############| Elapsed Time: 0:01:19 Time:  0:01:19\n"
     ]
    },
    {
     "name": "stdout",
     "output_type": "stream",
     "text": [
      "X shape after reshaping: (1637159, 41, 1, 6)\n",
      "y shape after reshaping: (1637159, 6)\n",
      "----> Load model and make predictions (consensus). <----\n",
      "----> Create consensus summary. <----\n",
      "----> Create pileups from assembly. <----\n",
      "##### Generate pileups from read alignments to reference. #####\n"
     ]
    },
    {
     "name": "stderr",
     "output_type": "stream",
     "text": [
      "100% (4789678 of 4789678) |##############| Elapsed Time: 0:08:04 Time:  0:08:04\n"
     ]
    },
    {
     "name": "stdout",
     "output_type": "stream",
     "text": [
      "----> Create dataset with neighbourhood from pileups. <----\n",
      "Parsing  ./s-enterica-NCTC92-all-contigs-n20-model-11-indel-classes/pileups-X-0-indels.npy  and  ./s-enterica-NCTC92-all-contigs-n20-model-11-indel-classes/pileups-y-0.npy\n"
     ]
    },
    {
     "name": "stderr",
     "output_type": "stream",
     "text": [
      "  0% (3540 of 4777060) |                 | Elapsed Time: 0:00:00 ETA:   0:04:30"
     ]
    },
    {
     "name": "stdout",
     "output_type": "stream",
     "text": [
      "Creating dataset with neighbourhood ...\n"
     ]
    },
    {
     "name": "stderr",
     "output_type": "stream",
     "text": [
      "100% (4777060 of 4777060) |##############| Elapsed Time: 0:04:13 Time:  0:04:13\n"
     ]
    },
    {
     "name": "stdout",
     "output_type": "stream",
     "text": [
      "Parsing  ./s-enterica-NCTC92-all-contigs-n20-model-11-indel-classes/pileups-X-1-indels.npy  and  ./s-enterica-NCTC92-all-contigs-n20-model-11-indel-classes/pileups-y-1.npy\n"
     ]
    },
    {
     "name": "stderr",
     "output_type": "stream",
     "text": [
      " 35% (4473 of 12618) |######             | Elapsed Time: 0:00:00 ETA:   0:00:00"
     ]
    },
    {
     "name": "stdout",
     "output_type": "stream",
     "text": [
      "Creating dataset with neighbourhood ...\n"
     ]
    },
    {
     "name": "stderr",
     "output_type": "stream",
     "text": [
      "100% (12618 of 12618) |##################| Elapsed Time: 0:00:00 Time:  0:00:00\n"
     ]
    },
    {
     "name": "stdout",
     "output_type": "stream",
     "text": [
      "----> Reshape dataset for convolutional network. <----\n"
     ]
    },
    {
     "name": "stderr",
     "output_type": "stream",
     "text": [
      "  0% (1596 of 4777020) |                 | Elapsed Time: 0:00:00 ETA:   0:04:59"
     ]
    },
    {
     "name": "stdout",
     "output_type": "stream",
     "text": [
      "X shape before reshaping: (4777020, 41, 6)\n",
      "y shape before reshaping: (4777020, 6)\n"
     ]
    },
    {
     "name": "stderr",
     "output_type": "stream",
     "text": [
      "100% (4777020 of 4777020) |##############| Elapsed Time: 0:03:55 Time:  0:03:55\n",
      "N/A% (0 of 12578) |                      | Elapsed Time: 0:00:00 ETA:  --:--:--"
     ]
    },
    {
     "name": "stdout",
     "output_type": "stream",
     "text": [
      "X shape after reshaping: (4777020, 41, 1, 6)\n",
      "y shape after reshaping: (4777020, 6)\n",
      "X shape before reshaping: (12578, 41, 6)\n",
      "y shape before reshaping: (12578, 6)\n"
     ]
    },
    {
     "name": "stderr",
     "output_type": "stream",
     "text": [
      "100% (12578 of 12578) |##################| Elapsed Time: 0:00:00 Time:  0:00:00\n"
     ]
    },
    {
     "name": "stdout",
     "output_type": "stream",
     "text": [
      "X shape after reshaping: (12578, 41, 1, 6)\n",
      "y shape after reshaping: (12578, 6)\n",
      "----> Load model and make predictions (consensus). <----\n",
      "----> Create consensus summary. <----\n",
      "----> Create pileups from assembly. <----\n",
      "##### Generate pileups from read alignments to reference. #####\n"
     ]
    },
    {
     "name": "stderr",
     "output_type": "stream",
     "text": [
      "100% (4882164 of 4882164) |##############| Elapsed Time: 0:07:24 Time:  0:07:24\n"
     ]
    },
    {
     "name": "stdout",
     "output_type": "stream",
     "text": [
      "----> Create dataset with neighbourhood from pileups. <----\n",
      "Parsing  ./s-enterica-NCTC129-all-contigs-n20-model-11-indel-classes/pileups-X-0-indels.npy  and  ./s-enterica-NCTC129-all-contigs-n20-model-11-indel-classes/pileups-y-0.npy\n"
     ]
    },
    {
     "name": "stderr",
     "output_type": "stream",
     "text": [
      "  0% (3800 of 4823619) |                 | Elapsed Time: 0:00:00 ETA:   0:04:14"
     ]
    },
    {
     "name": "stdout",
     "output_type": "stream",
     "text": [
      "Creating dataset with neighbourhood ...\n"
     ]
    },
    {
     "name": "stderr",
     "output_type": "stream",
     "text": [
      "100% (4823619 of 4823619) |##############| Elapsed Time: 0:04:20 Time:  0:04:20\n"
     ]
    },
    {
     "name": "stdout",
     "output_type": "stream",
     "text": [
      "Parsing  ./s-enterica-NCTC129-all-contigs-n20-model-11-indel-classes/pileups-X-1-indels.npy  and  ./s-enterica-NCTC129-all-contigs-n20-model-11-indel-classes/pileups-y-1.npy\n"
     ]
    },
    {
     "name": "stderr",
     "output_type": "stream",
     "text": [
      "  7% (2736 of 36013) |#                  | Elapsed Time: 0:00:00 ETA:   0:00:01"
     ]
    },
    {
     "name": "stdout",
     "output_type": "stream",
     "text": [
      "Creating dataset with neighbourhood ...\n"
     ]
    },
    {
     "name": "stderr",
     "output_type": "stream",
     "text": [
      "100% (36013 of 36013) |##################| Elapsed Time: 0:00:01 Time:  0:00:01\n",
      " 15% (3423 of 22532) |##                 | Elapsed Time: 0:00:00 ETA:   0:00:00"
     ]
    },
    {
     "name": "stdout",
     "output_type": "stream",
     "text": [
      "Parsing  ./s-enterica-NCTC129-all-contigs-n20-model-11-indel-classes/pileups-X-2-indels.npy  and  ./s-enterica-NCTC129-all-contigs-n20-model-11-indel-classes/pileups-y-2.npy\n",
      "Creating dataset with neighbourhood ...\n"
     ]
    },
    {
     "name": "stderr",
     "output_type": "stream",
     "text": [
      "100% (22532 of 22532) |##################| Elapsed Time: 0:00:01 Time:  0:00:01\n"
     ]
    },
    {
     "name": "stdout",
     "output_type": "stream",
     "text": [
      "----> Reshape dataset for convolutional network. <----\n"
     ]
    },
    {
     "name": "stderr",
     "output_type": "stream",
     "text": [
      "  0% (2303 of 4823579) |                 | Elapsed Time: 0:00:00 ETA:   0:03:29"
     ]
    },
    {
     "name": "stdout",
     "output_type": "stream",
     "text": [
      "X shape before reshaping: (4823579, 41, 6)\n",
      "y shape before reshaping: (4823579, 6)\n"
     ]
    },
    {
     "name": "stderr",
     "output_type": "stream",
     "text": [
      "100% (4823579 of 4823579) |##############| Elapsed Time: 0:03:55 Time:  0:03:55\n",
      "N/A% (0 of 35973) |                      | Elapsed Time: 0:00:00 ETA:  --:--:--"
     ]
    },
    {
     "name": "stdout",
     "output_type": "stream",
     "text": [
      "X shape after reshaping: (4823579, 41, 1, 6)\n",
      "y shape after reshaping: (4823579, 6)\n",
      "X shape before reshaping: (35973, 41, 6)\n",
      "y shape before reshaping: (35973, 6)\n"
     ]
    },
    {
     "name": "stderr",
     "output_type": "stream",
     "text": [
      "100% (35973 of 35973) |##################| Elapsed Time: 0:00:01 Time:  0:00:01\n",
      " 12% (2798 of 22102) |##                 | Elapsed Time: 0:00:00 ETA:   0:00:00"
     ]
    },
    {
     "name": "stdout",
     "output_type": "stream",
     "text": [
      "X shape after reshaping: (35973, 41, 1, 6)\n",
      "y shape after reshaping: (35973, 6)\n",
      "X shape before reshaping: (22102, 41, 6)\n",
      "y shape before reshaping: (22102, 6)\n"
     ]
    },
    {
     "name": "stderr",
     "output_type": "stream",
     "text": [
      "100% (22102 of 22102) |##################| Elapsed Time: 0:00:00 Time:  0:00:00\n"
     ]
    },
    {
     "name": "stdout",
     "output_type": "stream",
     "text": [
      "X shape after reshaping: (22102, 41, 1, 6)\n",
      "y shape after reshaping: (22102, 6)\n",
      "----> Load model and make predictions (consensus). <----\n",
      "----> Create consensus summary. <----\n",
      "----> Create pileups from assembly. <----\n",
      "##### Generate pileups from read alignments to reference. #####\n"
     ]
    },
    {
     "name": "stderr",
     "output_type": "stream",
     "text": [
      "100% (5521245 of 5521245) |##############| Elapsed Time: 0:07:14 Time:  0:07:14\n"
     ]
    },
    {
     "name": "stdout",
     "output_type": "stream",
     "text": [
      "----> Create dataset with neighbourhood from pileups. <----\n",
      "Parsing  ./k-pneumoniae-NCTC204-all-contigs-n20-model-11-indel-classes/pileups-X-0-indels.npy  and  ./k-pneumoniae-NCTC204-all-contigs-n20-model-11-indel-classes/pileups-y-0.npy\n"
     ]
    },
    {
     "name": "stderr",
     "output_type": "stream",
     "text": [
      "  0% (3878 of 5273089) |                 | Elapsed Time: 0:00:00 ETA:   0:04:31"
     ]
    },
    {
     "name": "stdout",
     "output_type": "stream",
     "text": [
      "Creating dataset with neighbourhood ...\n"
     ]
    },
    {
     "name": "stderr",
     "output_type": "stream",
     "text": [
      "100% (5273089 of 5273089) |##############| Elapsed Time: 0:04:43 Time:  0:04:43\n"
     ]
    },
    {
     "name": "stdout",
     "output_type": "stream",
     "text": [
      "Parsing  ./k-pneumoniae-NCTC204-all-contigs-n20-model-11-indel-classes/pileups-X-1-indels.npy  and  ./k-pneumoniae-NCTC204-all-contigs-n20-model-11-indel-classes/pileups-y-1.npy\n"
     ]
    },
    {
     "name": "stderr",
     "output_type": "stream",
     "text": [
      "  2% (3292 of 130014) |                  | Elapsed Time: 0:00:00 ETA:   0:00:06"
     ]
    },
    {
     "name": "stdout",
     "output_type": "stream",
     "text": [
      "Creating dataset with neighbourhood ...\n"
     ]
    },
    {
     "name": "stderr",
     "output_type": "stream",
     "text": [
      "100% (130014 of 130014) |################| Elapsed Time: 0:00:06 Time:  0:00:06\n",
      "  1% (1339 of 105751) |                  | Elapsed Time: 0:00:00 ETA:  00:00:00"
     ]
    },
    {
     "name": "stdout",
     "output_type": "stream",
     "text": [
      "Parsing  ./k-pneumoniae-NCTC204-all-contigs-n20-model-11-indel-classes/pileups-X-2-indels.npy  and  ./k-pneumoniae-NCTC204-all-contigs-n20-model-11-indel-classes/pileups-y-2.npy\n",
      "Creating dataset with neighbourhood ...\n"
     ]
    },
    {
     "name": "stderr",
     "output_type": "stream",
     "text": [
      "100% (105751 of 105751) |################| Elapsed Time: 0:00:05 Time:  0:00:05\n",
      " 26% (3294 of 12391) |#####              | Elapsed Time: 0:00:00 ETA:   0:00:00"
     ]
    },
    {
     "name": "stdout",
     "output_type": "stream",
     "text": [
      "Parsing  ./k-pneumoniae-NCTC204-all-contigs-n20-model-11-indel-classes/pileups-X-3-indels.npy  and  ./k-pneumoniae-NCTC204-all-contigs-n20-model-11-indel-classes/pileups-y-3.npy\n",
      "Creating dataset with neighbourhood ...\n"
     ]
    },
    {
     "name": "stderr",
     "output_type": "stream",
     "text": [
      "100% (12391 of 12391) |##################| Elapsed Time: 0:00:00 Time:  0:00:00\n"
     ]
    },
    {
     "name": "stdout",
     "output_type": "stream",
     "text": [
      "----> Reshape dataset for convolutional network. <----\n"
     ]
    },
    {
     "name": "stderr",
     "output_type": "stream",
     "text": [
      "  0% (2240 of 5273049) |                 | Elapsed Time: 0:00:00 ETA:   0:03:55"
     ]
    },
    {
     "name": "stdout",
     "output_type": "stream",
     "text": [
      "X shape before reshaping: (5273049, 41, 6)\n",
      "y shape before reshaping: (5273049, 6)\n"
     ]
    },
    {
     "name": "stderr",
     "output_type": "stream",
     "text": [
      "100% (5273049 of 5273049) |##############| Elapsed Time: 0:04:17 Time:  0:04:17\n",
      "N/A% (0 of 129974) |                     | Elapsed Time: 0:00:00 ETA:  --:--:--"
     ]
    },
    {
     "name": "stdout",
     "output_type": "stream",
     "text": [
      "X shape after reshaping: (5273049, 41, 1, 6)\n",
      "y shape after reshaping: (5273049, 6)\n",
      "X shape before reshaping: (129974, 41, 6)\n",
      "y shape before reshaping: (129974, 6)\n"
     ]
    },
    {
     "name": "stderr",
     "output_type": "stream",
     "text": [
      "100% (129974 of 129974) |################| Elapsed Time: 0:00:05 Time:  0:00:05\n",
      "  2% (2677 of 105711) |                  | Elapsed Time: 0:00:00 ETA:   0:00:04"
     ]
    },
    {
     "name": "stdout",
     "output_type": "stream",
     "text": [
      "X shape after reshaping: (129974, 41, 1, 6)\n",
      "y shape after reshaping: (129974, 6)\n",
      "X shape before reshaping: (105711, 41, 6)\n",
      "y shape before reshaping: (105711, 6)\n"
     ]
    },
    {
     "name": "stderr",
     "output_type": "stream",
     "text": [
      "100% (105711 of 105711) |################| Elapsed Time: 0:00:04 Time:  0:00:04\n",
      " 30% (3753 of 12351) |#####              | Elapsed Time: 0:00:00 ETA:   0:00:00"
     ]
    },
    {
     "name": "stdout",
     "output_type": "stream",
     "text": [
      "X shape after reshaping: (105711, 41, 1, 6)\n",
      "y shape after reshaping: (105711, 6)\n",
      "X shape before reshaping: (12351, 41, 6)\n",
      "y shape before reshaping: (12351, 6)\n"
     ]
    },
    {
     "name": "stderr",
     "output_type": "stream",
     "text": [
      "100% (12351 of 12351) |##################| Elapsed Time: 0:00:00 Time:  0:00:00\n"
     ]
    },
    {
     "name": "stdout",
     "output_type": "stream",
     "text": [
      "X shape after reshaping: (12351, 41, 1, 6)\n",
      "y shape after reshaping: (12351, 6)\n",
      "----> Load model and make predictions (consensus). <----\n",
      "----> Create consensus summary. <----\n"
     ]
    }
   ],
   "source": [
    "model_path = '/home/diplomski-rad/blade/pb/datasets/n20-indel-classes/model-11.h5'\n",
    "assembly_paths = ['/home/diplomski-rad/blade/pb/escherichia-coli-NCTC86/iter2.fasta',\n",
    "                  '/home/diplomski-rad/blade/pb/morganela-morgani-NCTC235/iter2.fasta',\n",
    "                  '/home/diplomski-rad/blade/pb/salmonella-enterica-NCTC92/iter2.fasta',\n",
    "                  '/home/diplomski-rad/blade/pb/salmonella-enterica-NCTC129/iter2.fasta',\n",
    "                  '/home/diplomski-rad/blade/pb/klebsiela-pneumoniae-NCTC204-BROKEN/iter2.fasta']\n",
    "reference_paths = ['/home/data/pacific_biosciences/bacteria/escherichia/coli/escherichia_coli_reference.fasta',\n",
    "                   '/home/data/pacific_biosciences/bacteria/morganella/morgani/morganella_morganii_reference.fasta',\n",
    "                   '/home/data/pacific_biosciences/bacteria/salmonella/enterica/salmonella_enterica_reference.fasta',\n",
    "                   '/home/data/pacific_biosciences/bacteria/salmonella/enterica/salmonella_enterica_reference.fasta',\n",
    "                   '/home/data/pacific_biosciences/bacteria/klebsiela/pneumoniae/klebsiella_pneumoniae_reference.fasta']\n",
    "bam_file_paths = ['/home/diplomski-rad/blade/pb/escherichia-coli-NCTC86/reads-to-asm-sorted.bam',\n",
    "                  '/home/diplomski-rad/blade/pb/morganela-morgani-NCTC235/reads-to-asm-sorted.bam',\n",
    "                  '/home/diplomski-rad/blade/pb/salmonella-enterica-NCTC92/reads-to-asm-sorted.bam',\n",
    "                  '/home/diplomski-rad/blade/pb/salmonella-enterica-NCTC129/reads-to-asm-sorted.bam',\n",
    "                  '/home/diplomski-rad/blade/pb/klebsiela-pneumoniae-NCTC204-BROKEN/reads-to-asm-sorted.bam']\n",
    "neighbourhood_size = 20\n",
    "output_dirs = ['./e-coli-NCTC86-all-contigs-n20-model-11-indel-classes',\n",
    "               './m-morgani-NCTC235-all-contigs-n20-model-11-indel-classes',\n",
    "               './s-enterica-NCTC92-all-contigs-n20-model-11-indel-classes',\n",
    "               './s-enterica-NCTC129-all-contigs-n20-model-11-indel-classes',\n",
    "               './k-pneumoniae-NCTC204-all-contigs-n20-model-11-indel-classes']\n",
    "tools_dir = '/home/diplomski-rad/'\n",
    "include_indels = True\n",
    "\n",
    "for assembly_path, reference_path, bam_file_path, output_dir in zip(assembly_paths, reference_paths, bam_file_paths, output_dirs):\n",
    "    inference.make_consensus(\n",
    "        model_path, \n",
    "        assembly_path,\n",
    "        reference_path,\n",
    "        bam_file_path,\n",
    "        neighbourhood_size,\n",
    "        output_dir,\n",
    "        tools_dir,\n",
    "        include_indels=include_indels)"
   ]
  },
  {
   "cell_type": "markdown",
   "metadata": {},
   "source": [
    "## n-20 model-7 all contigs indel classes"
   ]
  },
  {
   "cell_type": "code",
   "execution_count": 4,
   "metadata": {},
   "outputs": [
    {
     "name": "stdout",
     "output_type": "stream",
     "text": [
      "----> Create pileups from assembly. <----\n",
      "##### Generate pileups from read alignments to reference. #####\n"
     ]
    },
    {
     "name": "stderr",
     "output_type": "stream",
     "text": [
      "100% (5104767 of 5104767) |##############| Elapsed Time: 0:08:37 Time:  0:08:37\n"
     ]
    },
    {
     "name": "stdout",
     "output_type": "stream",
     "text": [
      "----> Create dataset with neighbourhood from pileups. <----\n",
      "Parsing  ./e-coli-NCTC86-all-contigs-n20-model-7-indel-classes/pileups-X-0-indels.npy  and  ./e-coli-NCTC86-all-contigs-n20-model-7-indel-classes/pileups-y-0.npy\n"
     ]
    },
    {
     "name": "stderr",
     "output_type": "stream",
     "text": [
      "  0% (3799 of 5104767) |                 | Elapsed Time: 0:00:00 ETA:   0:04:28"
     ]
    },
    {
     "name": "stdout",
     "output_type": "stream",
     "text": [
      "Creating dataset with neighbourhood ...\n"
     ]
    },
    {
     "name": "stderr",
     "output_type": "stream",
     "text": [
      "100% (5104767 of 5104767) |##############| Elapsed Time: 0:04:35 Time:  0:04:35\n"
     ]
    },
    {
     "name": "stdout",
     "output_type": "stream",
     "text": [
      "----> Reshape dataset for convolutional network. <----\n"
     ]
    },
    {
     "name": "stderr",
     "output_type": "stream",
     "text": [
      "  0% (4653 of 5104727) |                 | Elapsed Time: 0:00:00 ETA:   0:03:39"
     ]
    },
    {
     "name": "stdout",
     "output_type": "stream",
     "text": [
      "X shape before reshaping: (5104727, 41, 6)\n",
      "y shape before reshaping: (5104727, 6)\n"
     ]
    },
    {
     "name": "stderr",
     "output_type": "stream",
     "text": [
      "100% (5104727 of 5104727) |##############| Elapsed Time: 0:04:09 Time:  0:04:09\n"
     ]
    },
    {
     "name": "stdout",
     "output_type": "stream",
     "text": [
      "X shape after reshaping: (5104727, 41, 1, 6)\n",
      "y shape after reshaping: (5104727, 6)\n",
      "----> Load model and make predictions (consensus). <----\n",
      "----> Create consensus summary. <----\n"
     ]
    },
    {
     "name": "stderr",
     "output_type": "stream",
     "text": [
      "\r",
      "                                                                               \r",
      "\r",
      "N/A% (0 of 3820508) |                    | Elapsed Time: 0:00:00 ETA:  --:--:--"
     ]
    },
    {
     "name": "stdout",
     "output_type": "stream",
     "text": [
      "----> Create pileups from assembly. <----\n",
      "##### Generate pileups from read alignments to reference. #####\n"
     ]
    },
    {
     "name": "stderr",
     "output_type": "stream",
     "text": [
      "100% (3820508 of 3820508) |##############| Elapsed Time: 0:05:48 Time:  0:05:48\n"
     ]
    },
    {
     "name": "stdout",
     "output_type": "stream",
     "text": [
      "----> Create dataset with neighbourhood from pileups. <----\n",
      "Parsing  ./m-morgani-NCTC235-all-contigs-n20-model-7-indel-classes/pileups-X-0-indels.npy  and  ./m-morgani-NCTC235-all-contigs-n20-model-7-indel-classes/pileups-y-0.npy\n"
     ]
    },
    {
     "name": "stderr",
     "output_type": "stream",
     "text": [
      "  0% (3794 of 2183309) |                 | Elapsed Time: 0:00:00 ETA:   0:01:54"
     ]
    },
    {
     "name": "stdout",
     "output_type": "stream",
     "text": [
      "Creating dataset with neighbourhood ...\n"
     ]
    },
    {
     "name": "stderr",
     "output_type": "stream",
     "text": [
      "100% (2183309 of 2183309) |##############| Elapsed Time: 0:01:56 Time:  0:01:56\n"
     ]
    },
    {
     "name": "stdout",
     "output_type": "stream",
     "text": [
      "Parsing  ./m-morgani-NCTC235-all-contigs-n20-model-7-indel-classes/pileups-X-1-indels.npy  and  ./m-morgani-NCTC235-all-contigs-n20-model-7-indel-classes/pileups-y-1.npy\n"
     ]
    },
    {
     "name": "stderr",
     "output_type": "stream",
     "text": [
      "  0% (3700 of 1637199) |                 | Elapsed Time: 0:00:00 ETA:   0:01:28"
     ]
    },
    {
     "name": "stdout",
     "output_type": "stream",
     "text": [
      "Creating dataset with neighbourhood ...\n"
     ]
    },
    {
     "name": "stderr",
     "output_type": "stream",
     "text": [
      "100% (1637199 of 1637199) |##############| Elapsed Time: 0:01:27 Time:  0:01:27\n"
     ]
    },
    {
     "name": "stdout",
     "output_type": "stream",
     "text": [
      "----> Reshape dataset for convolutional network. <----\n"
     ]
    },
    {
     "name": "stderr",
     "output_type": "stream",
     "text": [
      "  0% (4628 of 2183267) |                 | Elapsed Time: 0:00:00 ETA:   0:01:34"
     ]
    },
    {
     "name": "stdout",
     "output_type": "stream",
     "text": [
      "X shape before reshaping: (2183267, 41, 6)\n",
      "y shape before reshaping: (2183267, 6)\n"
     ]
    },
    {
     "name": "stderr",
     "output_type": "stream",
     "text": [
      "100% (2183267 of 2183267) |##############| Elapsed Time: 0:01:44 Time:  0:01:44\n"
     ]
    },
    {
     "name": "stdout",
     "output_type": "stream",
     "text": [
      "X shape after reshaping: (2183267, 41, 1, 6)\n",
      "y shape after reshaping: (2183267, 6)\n"
     ]
    },
    {
     "name": "stderr",
     "output_type": "stream",
     "text": [
      "  0% (2219 of 1637159) |                 | Elapsed Time: 0:00:00 ETA:   0:01:13"
     ]
    },
    {
     "name": "stdout",
     "output_type": "stream",
     "text": [
      "X shape before reshaping: (1637159, 41, 6)\n",
      "y shape before reshaping: (1637159, 6)\n"
     ]
    },
    {
     "name": "stderr",
     "output_type": "stream",
     "text": [
      "100% (1637159 of 1637159) |##############| Elapsed Time: 0:01:19 Time:  0:01:19\n"
     ]
    },
    {
     "name": "stdout",
     "output_type": "stream",
     "text": [
      "X shape after reshaping: (1637159, 41, 1, 6)\n",
      "y shape after reshaping: (1637159, 6)\n",
      "----> Load model and make predictions (consensus). <----\n",
      "----> Create consensus summary. <----\n",
      "----> Create pileups from assembly. <----\n",
      "##### Generate pileups from read alignments to reference. #####\n"
     ]
    },
    {
     "name": "stderr",
     "output_type": "stream",
     "text": [
      "100% (4789678 of 4789678) |##############| Elapsed Time: 0:08:02 Time:  0:08:02\n"
     ]
    },
    {
     "name": "stdout",
     "output_type": "stream",
     "text": [
      "----> Create dataset with neighbourhood from pileups. <----\n",
      "Parsing  ./s-enterica-NCTC92-all-contigs-n20-model-7-indel-classes/pileups-X-0-indels.npy  and  ./s-enterica-NCTC92-all-contigs-n20-model-7-indel-classes/pileups-y-0.npy\n"
     ]
    },
    {
     "name": "stderr",
     "output_type": "stream",
     "text": [
      "  0% (3908 of 4777060) |                 | Elapsed Time: 0:00:00 ETA:   0:04:04"
     ]
    },
    {
     "name": "stdout",
     "output_type": "stream",
     "text": [
      "Creating dataset with neighbourhood ...\n"
     ]
    },
    {
     "name": "stderr",
     "output_type": "stream",
     "text": [
      "100% (4777060 of 4777060) |##############| Elapsed Time: 0:04:14 Time:  0:04:14\n"
     ]
    },
    {
     "name": "stdout",
     "output_type": "stream",
     "text": [
      "Parsing  ./s-enterica-NCTC92-all-contigs-n20-model-7-indel-classes/pileups-X-1-indels.npy  and  ./s-enterica-NCTC92-all-contigs-n20-model-7-indel-classes/pileups-y-1.npy\n"
     ]
    },
    {
     "name": "stderr",
     "output_type": "stream",
     "text": [
      " 35% (4473 of 12618) |######             | Elapsed Time: 0:00:00 ETA:   0:00:00"
     ]
    },
    {
     "name": "stdout",
     "output_type": "stream",
     "text": [
      "Creating dataset with neighbourhood ...\n"
     ]
    },
    {
     "name": "stderr",
     "output_type": "stream",
     "text": [
      "100% (12618 of 12618) |##################| Elapsed Time: 0:00:00 Time:  0:00:00\n"
     ]
    },
    {
     "name": "stdout",
     "output_type": "stream",
     "text": [
      "----> Reshape dataset for convolutional network. <----\n"
     ]
    },
    {
     "name": "stderr",
     "output_type": "stream",
     "text": [
      "  0% (4498 of 4777020) |                 | Elapsed Time: 0:00:00 ETA:   0:03:32"
     ]
    },
    {
     "name": "stdout",
     "output_type": "stream",
     "text": [
      "X shape before reshaping: (4777020, 41, 6)\n",
      "y shape before reshaping: (4777020, 6)\n"
     ]
    },
    {
     "name": "stderr",
     "output_type": "stream",
     "text": [
      "100% (4777020 of 4777020) |##############| Elapsed Time: 0:03:53 Time:  0:03:53\n",
      "N/A% (0 of 12578) |                      | Elapsed Time: 0:00:00 ETA:  --:--:--"
     ]
    },
    {
     "name": "stdout",
     "output_type": "stream",
     "text": [
      "X shape after reshaping: (4777020, 41, 1, 6)\n",
      "y shape after reshaping: (4777020, 6)\n",
      "X shape before reshaping: (12578, 41, 6)\n",
      "y shape before reshaping: (12578, 6)\n"
     ]
    },
    {
     "name": "stderr",
     "output_type": "stream",
     "text": [
      "100% (12578 of 12578) |##################| Elapsed Time: 0:00:00 Time:  0:00:00\n"
     ]
    },
    {
     "name": "stdout",
     "output_type": "stream",
     "text": [
      "X shape after reshaping: (12578, 41, 1, 6)\n",
      "y shape after reshaping: (12578, 6)\n",
      "----> Load model and make predictions (consensus). <----\n",
      "----> Create consensus summary. <----\n",
      "----> Create pileups from assembly. <----\n",
      "##### Generate pileups from read alignments to reference. #####\n"
     ]
    },
    {
     "name": "stderr",
     "output_type": "stream",
     "text": [
      "100% (4882164 of 4882164) |##############| Elapsed Time: 0:07:21 Time:  0:07:21\n"
     ]
    },
    {
     "name": "stdout",
     "output_type": "stream",
     "text": [
      "----> Create dataset with neighbourhood from pileups. <----\n",
      "Parsing  ./s-enterica-NCTC129-all-contigs-n20-model-7-indel-classes/pileups-X-0-indels.npy  and  ./s-enterica-NCTC129-all-contigs-n20-model-7-indel-classes/pileups-y-0.npy\n"
     ]
    },
    {
     "name": "stderr",
     "output_type": "stream",
     "text": [
      "  0% (3781 of 4823619) |                 | Elapsed Time: 0:00:00 ETA:   0:04:15"
     ]
    },
    {
     "name": "stdout",
     "output_type": "stream",
     "text": [
      "Creating dataset with neighbourhood ...\n"
     ]
    },
    {
     "name": "stderr",
     "output_type": "stream",
     "text": [
      "100% (4823619 of 4823619) |##############| Elapsed Time: 0:04:20 Time:  0:04:20\n"
     ]
    },
    {
     "name": "stdout",
     "output_type": "stream",
     "text": [
      "Parsing  ./s-enterica-NCTC129-all-contigs-n20-model-7-indel-classes/pileups-X-1-indels.npy  and  ./s-enterica-NCTC129-all-contigs-n20-model-7-indel-classes/pileups-y-1.npy\n"
     ]
    },
    {
     "name": "stderr",
     "output_type": "stream",
     "text": [
      "  7% (2736 of 36013) |#                  | Elapsed Time: 0:00:00 ETA:   0:00:01"
     ]
    },
    {
     "name": "stdout",
     "output_type": "stream",
     "text": [
      "Creating dataset with neighbourhood ...\n"
     ]
    },
    {
     "name": "stderr",
     "output_type": "stream",
     "text": [
      "100% (36013 of 36013) |##################| Elapsed Time: 0:00:01 Time:  0:00:01\n",
      " 15% (3423 of 22532) |##                 | Elapsed Time: 0:00:00 ETA:   0:00:00"
     ]
    },
    {
     "name": "stdout",
     "output_type": "stream",
     "text": [
      "Parsing  ./s-enterica-NCTC129-all-contigs-n20-model-7-indel-classes/pileups-X-2-indels.npy  and  ./s-enterica-NCTC129-all-contigs-n20-model-7-indel-classes/pileups-y-2.npy\n",
      "Creating dataset with neighbourhood ...\n"
     ]
    },
    {
     "name": "stderr",
     "output_type": "stream",
     "text": [
      "100% (22532 of 22532) |##################| Elapsed Time: 0:00:01 Time:  0:00:01\n"
     ]
    },
    {
     "name": "stdout",
     "output_type": "stream",
     "text": [
      "----> Reshape dataset for convolutional network. <----\n"
     ]
    },
    {
     "name": "stderr",
     "output_type": "stream",
     "text": [
      "  0% (2265 of 4823579) |                 | Elapsed Time: 0:00:00 ETA:   0:03:33"
     ]
    },
    {
     "name": "stdout",
     "output_type": "stream",
     "text": [
      "X shape before reshaping: (4823579, 41, 6)\n",
      "y shape before reshaping: (4823579, 6)\n"
     ]
    },
    {
     "name": "stderr",
     "output_type": "stream",
     "text": [
      "100% (4823579 of 4823579) |##############| Elapsed Time: 0:04:04 Time:  0:04:04\n"
     ]
    },
    {
     "name": "stdout",
     "output_type": "stream",
     "text": [
      "X shape after reshaping: (4823579, 41, 1, 6)\n",
      "y shape after reshaping: (4823579, 6)\n",
      "X shape before reshaping: (35973, 41, 6)\n",
      "y shape before reshaping: (35973, 6)\n"
     ]
    },
    {
     "name": "stderr",
     "output_type": "stream",
     "text": [
      "100% (35973 of 35973) |##################| Elapsed Time: 0:00:01 Time:  0:00:01\n",
      " 17% (3917 of 22102) |###                | Elapsed Time: 0:00:00 ETA:   0:00:00"
     ]
    },
    {
     "name": "stdout",
     "output_type": "stream",
     "text": [
      "X shape after reshaping: (35973, 41, 1, 6)\n",
      "y shape after reshaping: (35973, 6)\n",
      "X shape before reshaping: (22102, 41, 6)\n",
      "y shape before reshaping: (22102, 6)\n"
     ]
    },
    {
     "name": "stderr",
     "output_type": "stream",
     "text": [
      "100% (22102 of 22102) |##################| Elapsed Time: 0:00:00 Time:  0:00:00\n"
     ]
    },
    {
     "name": "stdout",
     "output_type": "stream",
     "text": [
      "X shape after reshaping: (22102, 41, 1, 6)\n",
      "y shape after reshaping: (22102, 6)\n",
      "----> Load model and make predictions (consensus). <----\n",
      "----> Create consensus summary. <----\n",
      "----> Create pileups from assembly. <----\n",
      "##### Generate pileups from read alignments to reference. #####\n"
     ]
    },
    {
     "name": "stderr",
     "output_type": "stream",
     "text": [
      "100% (5521245 of 5521245) |##############| Elapsed Time: 0:07:14 Time:  0:07:14\n"
     ]
    },
    {
     "name": "stdout",
     "output_type": "stream",
     "text": [
      "----> Create dataset with neighbourhood from pileups. <----\n",
      "Parsing  ./k-pneumoniae-NCTC204-all-contigs-n20-model-7-indel-classes/pileups-X-0-indels.npy  and  ./k-pneumoniae-NCTC204-all-contigs-n20-model-7-indel-classes/pileups-y-0.npy\n"
     ]
    },
    {
     "name": "stderr",
     "output_type": "stream",
     "text": [
      "  0% (3802 of 5273089) |                 | Elapsed Time: 0:00:00 ETA:   0:04:37"
     ]
    },
    {
     "name": "stdout",
     "output_type": "stream",
     "text": [
      "Creating dataset with neighbourhood ...\n"
     ]
    },
    {
     "name": "stderr",
     "output_type": "stream",
     "text": [
      "100% (5273089 of 5273089) |##############| Elapsed Time: 0:04:42 Time:  0:04:42\n"
     ]
    },
    {
     "name": "stdout",
     "output_type": "stream",
     "text": [
      "Parsing  ./k-pneumoniae-NCTC204-all-contigs-n20-model-7-indel-classes/pileups-X-1-indels.npy  and  ./k-pneumoniae-NCTC204-all-contigs-n20-model-7-indel-classes/pileups-y-1.npy\n"
     ]
    },
    {
     "name": "stderr",
     "output_type": "stream",
     "text": [
      "  2% (3292 of 130014) |                  | Elapsed Time: 0:00:00 ETA:   0:00:06"
     ]
    },
    {
     "name": "stdout",
     "output_type": "stream",
     "text": [
      "Creating dataset with neighbourhood ...\n"
     ]
    },
    {
     "name": "stderr",
     "output_type": "stream",
     "text": [
      "100% (130014 of 130014) |################| Elapsed Time: 0:00:06 Time:  0:00:06\n",
      "  1% (1339 of 105751) |                  | Elapsed Time: 0:00:00 ETA:  00:00:00"
     ]
    },
    {
     "name": "stdout",
     "output_type": "stream",
     "text": [
      "Parsing  ./k-pneumoniae-NCTC204-all-contigs-n20-model-7-indel-classes/pileups-X-2-indels.npy  and  ./k-pneumoniae-NCTC204-all-contigs-n20-model-7-indel-classes/pileups-y-2.npy\n",
      "Creating dataset with neighbourhood ...\n"
     ]
    },
    {
     "name": "stderr",
     "output_type": "stream",
     "text": [
      "100% (105751 of 105751) |################| Elapsed Time: 0:00:05 Time:  0:00:05\n",
      " 26% (3294 of 12391) |#####              | Elapsed Time: 0:00:00 ETA:   0:00:00"
     ]
    },
    {
     "name": "stdout",
     "output_type": "stream",
     "text": [
      "Parsing  ./k-pneumoniae-NCTC204-all-contigs-n20-model-7-indel-classes/pileups-X-3-indels.npy  and  ./k-pneumoniae-NCTC204-all-contigs-n20-model-7-indel-classes/pileups-y-3.npy\n",
      "Creating dataset with neighbourhood ...\n"
     ]
    },
    {
     "name": "stderr",
     "output_type": "stream",
     "text": [
      "100% (12391 of 12391) |##################| Elapsed Time: 0:00:00 Time:  0:00:00\n"
     ]
    },
    {
     "name": "stdout",
     "output_type": "stream",
     "text": [
      "----> Reshape dataset for convolutional network. <----\n"
     ]
    },
    {
     "name": "stderr",
     "output_type": "stream",
     "text": [
      "  0% (4476 of 5273049) |                 | Elapsed Time: 0:00:00 ETA:   0:03:55"
     ]
    },
    {
     "name": "stdout",
     "output_type": "stream",
     "text": [
      "X shape before reshaping: (5273049, 41, 6)\n",
      "y shape before reshaping: (5273049, 6)\n"
     ]
    },
    {
     "name": "stderr",
     "output_type": "stream",
     "text": [
      "100% (5273049 of 5273049) |##############| Elapsed Time: 0:04:29 Time:  0:04:29\n"
     ]
    },
    {
     "name": "stdout",
     "output_type": "stream",
     "text": [
      "X shape after reshaping: (5273049, 41, 1, 6)\n",
      "y shape after reshaping: (5273049, 6)\n",
      "X shape before reshaping: (129974, 41, 6)\n",
      "y shape before reshaping: (129974, 6)\n"
     ]
    },
    {
     "name": "stderr",
     "output_type": "stream",
     "text": [
      "100% (129974 of 129974) |################| Elapsed Time: 0:00:06 Time:  0:00:06\n",
      "  2% (2677 of 105711) |                  | Elapsed Time: 0:00:00 ETA:   0:00:04"
     ]
    },
    {
     "name": "stdout",
     "output_type": "stream",
     "text": [
      "X shape after reshaping: (129974, 41, 1, 6)\n",
      "y shape after reshaping: (129974, 6)\n",
      "X shape before reshaping: (105711, 41, 6)\n",
      "y shape before reshaping: (105711, 6)\n"
     ]
    },
    {
     "name": "stderr",
     "output_type": "stream",
     "text": [
      "100% (105711 of 105711) |################| Elapsed Time: 0:00:04 Time:  0:00:04\n",
      " 30% (3753 of 12351) |#####              | Elapsed Time: 0:00:00 ETA:   0:00:00"
     ]
    },
    {
     "name": "stdout",
     "output_type": "stream",
     "text": [
      "X shape after reshaping: (105711, 41, 1, 6)\n",
      "y shape after reshaping: (105711, 6)\n",
      "X shape before reshaping: (12351, 41, 6)\n",
      "y shape before reshaping: (12351, 6)\n"
     ]
    },
    {
     "name": "stderr",
     "output_type": "stream",
     "text": [
      "100% (12351 of 12351) |##################| Elapsed Time: 0:00:00 Time:  0:00:00\n"
     ]
    },
    {
     "name": "stdout",
     "output_type": "stream",
     "text": [
      "X shape after reshaping: (12351, 41, 1, 6)\n",
      "y shape after reshaping: (12351, 6)\n",
      "----> Load model and make predictions (consensus). <----\n",
      "----> Create consensus summary. <----\n"
     ]
    }
   ],
   "source": [
    "model_path = '/home/diplomski-rad/blade/pb/datasets/n20-indel-classes/model-7.h5'\n",
    "assembly_paths = ['/home/diplomski-rad/blade/pb/escherichia-coli-NCTC86/iter2.fasta',\n",
    "                  '/home/diplomski-rad/blade/pb/morganela-morgani-NCTC235/iter2.fasta',\n",
    "                  '/home/diplomski-rad/blade/pb/salmonella-enterica-NCTC92/iter2.fasta',\n",
    "                  '/home/diplomski-rad/blade/pb/salmonella-enterica-NCTC129/iter2.fasta',\n",
    "                  '/home/diplomski-rad/blade/pb/klebsiela-pneumoniae-NCTC204-BROKEN/iter2.fasta']\n",
    "reference_paths = ['/home/data/pacific_biosciences/bacteria/escherichia/coli/escherichia_coli_reference.fasta',\n",
    "                   '/home/data/pacific_biosciences/bacteria/morganella/morgani/morganella_morganii_reference.fasta',\n",
    "                   '/home/data/pacific_biosciences/bacteria/salmonella/enterica/salmonella_enterica_reference.fasta',\n",
    "                   '/home/data/pacific_biosciences/bacteria/salmonella/enterica/salmonella_enterica_reference.fasta',\n",
    "                   '/home/data/pacific_biosciences/bacteria/klebsiela/pneumoniae/klebsiella_pneumoniae_reference.fasta']\n",
    "bam_file_paths = ['/home/diplomski-rad/blade/pb/escherichia-coli-NCTC86/reads-to-asm-sorted.bam',\n",
    "                  '/home/diplomski-rad/blade/pb/morganela-morgani-NCTC235/reads-to-asm-sorted.bam',\n",
    "                  '/home/diplomski-rad/blade/pb/salmonella-enterica-NCTC92/reads-to-asm-sorted.bam',\n",
    "                  '/home/diplomski-rad/blade/pb/salmonella-enterica-NCTC129/reads-to-asm-sorted.bam',\n",
    "                  '/home/diplomski-rad/blade/pb/klebsiela-pneumoniae-NCTC204-BROKEN/reads-to-asm-sorted.bam']\n",
    "neighbourhood_size = 20\n",
    "output_dirs = ['./e-coli-NCTC86-all-contigs-n20-model-7-indel-classes',\n",
    "               './m-morgani-NCTC235-all-contigs-n20-model-7-indel-classes',\n",
    "               './s-enterica-NCTC92-all-contigs-n20-model-7-indel-classes',\n",
    "               './s-enterica-NCTC129-all-contigs-n20-model-7-indel-classes',\n",
    "               './k-pneumoniae-NCTC204-all-contigs-n20-model-7-indel-classes']\n",
    "tools_dir = '/home/diplomski-rad/'\n",
    "include_indels = True\n",
    "\n",
    "for assembly_path, reference_path, bam_file_path, output_dir in zip(assembly_paths, reference_paths, bam_file_paths, output_dirs):\n",
    "    inference.make_consensus(\n",
    "        model_path, \n",
    "        assembly_path,\n",
    "        reference_path,\n",
    "        bam_file_path,\n",
    "        neighbourhood_size,\n",
    "        output_dir,\n",
    "        tools_dir,\n",
    "        include_indels=include_indels)"
   ]
  },
  {
   "cell_type": "markdown",
   "metadata": {},
   "source": [
    "## n-15 model-7 all contigs indel classes"
   ]
  },
  {
   "cell_type": "code",
   "execution_count": 2,
   "metadata": {},
   "outputs": [
    {
     "name": "stderr",
     "output_type": "stream",
     "text": [
      "  0% (1036 of 5104767) |                 | Elapsed Time: 0:00:00 ETA:   0:08:13"
     ]
    },
    {
     "name": "stdout",
     "output_type": "stream",
     "text": [
      "----> Create pileups from assembly. <----\n",
      "##### Generate pileups from read alignments to reference. #####\n"
     ]
    },
    {
     "name": "stderr",
     "output_type": "stream",
     "text": [
      "100% (5104767 of 5104767) |##############| Elapsed Time: 0:08:04 Time:  0:08:04\n"
     ]
    },
    {
     "name": "stdout",
     "output_type": "stream",
     "text": [
      "----> Create dataset with neighbourhood from pileups. <----\n",
      "Parsing  ./e-coli-NCTC86-all-contigs-n15-model-7-indel-classes/pileups-X-0-indels.npy  and  ./e-coli-NCTC86-all-contigs-n15-model-7-indel-classes/pileups-y-0.npy\n"
     ]
    },
    {
     "name": "stderr",
     "output_type": "stream",
     "text": [
      "  0% (3946 of 5104767) |                 | Elapsed Time: 0:00:00 ETA:   0:04:18"
     ]
    },
    {
     "name": "stdout",
     "output_type": "stream",
     "text": [
      "Creating dataset with neighbourhood ...\n"
     ]
    },
    {
     "name": "stderr",
     "output_type": "stream",
     "text": [
      "100% (5104767 of 5104767) |##############| Elapsed Time: 0:04:17 Time:  0:04:17\n"
     ]
    },
    {
     "name": "stdout",
     "output_type": "stream",
     "text": [
      "----> Reshape dataset for convolutional network. <----\n"
     ]
    },
    {
     "name": "stderr",
     "output_type": "stream",
     "text": [
      "  0% (2319 of 5104737) |                 | Elapsed Time: 0:00:00 ETA:   0:03:40"
     ]
    },
    {
     "name": "stdout",
     "output_type": "stream",
     "text": [
      "X shape before reshaping: (5104737, 31, 6)\n",
      "y shape before reshaping: (5104737, 6)\n"
     ]
    },
    {
     "name": "stderr",
     "output_type": "stream",
     "text": [
      "100% (5104737 of 5104737) |##############| Elapsed Time: 0:03:39 Time:  0:03:39\n"
     ]
    },
    {
     "name": "stdout",
     "output_type": "stream",
     "text": [
      "X shape after reshaping: (5104737, 31, 1, 6)\n",
      "y shape after reshaping: (5104737, 6)\n",
      "----> Load model and make predictions (consensus). <----\n",
      "----> Create consensus summary. <----\n",
      "----> Create pileups from assembly. <----\n",
      "##### Generate pileups from read alignments to reference. #####\n"
     ]
    },
    {
     "name": "stderr",
     "output_type": "stream",
     "text": [
      "100% (3820508 of 3820508) |##############| Elapsed Time: 0:05:39 Time:  0:05:39\n"
     ]
    },
    {
     "name": "stdout",
     "output_type": "stream",
     "text": [
      "----> Create dataset with neighbourhood from pileups. <----\n",
      "Parsing  ./m-morgani-NCTC235-all-contigs-n15-model-7-indel-classes/pileups-X-0-indels.npy  and  ./m-morgani-NCTC235-all-contigs-n15-model-7-indel-classes/pileups-y-0.npy\n"
     ]
    },
    {
     "name": "stderr",
     "output_type": "stream",
     "text": [
      "  0% (3784 of 2183309) |                 | Elapsed Time: 0:00:00 ETA:   0:01:55"
     ]
    },
    {
     "name": "stdout",
     "output_type": "stream",
     "text": [
      "Creating dataset with neighbourhood ...\n"
     ]
    },
    {
     "name": "stderr",
     "output_type": "stream",
     "text": [
      "100% (2183309 of 2183309) |##############| Elapsed Time: 0:01:56 Time:  0:01:56\n"
     ]
    },
    {
     "name": "stdout",
     "output_type": "stream",
     "text": [
      "Parsing  ./m-morgani-NCTC235-all-contigs-n15-model-7-indel-classes/pileups-X-1-indels.npy  and  ./m-morgani-NCTC235-all-contigs-n15-model-7-indel-classes/pileups-y-1.npy\n"
     ]
    },
    {
     "name": "stderr",
     "output_type": "stream",
     "text": [
      "  0% (3804 of 1637199) |                 | Elapsed Time: 0:00:00 ETA:   0:01:25"
     ]
    },
    {
     "name": "stdout",
     "output_type": "stream",
     "text": [
      "Creating dataset with neighbourhood ...\n"
     ]
    },
    {
     "name": "stderr",
     "output_type": "stream",
     "text": [
      "100% (1637199 of 1637199) |##############| Elapsed Time: 0:01:27 Time:  0:01:27\n"
     ]
    },
    {
     "name": "stdout",
     "output_type": "stream",
     "text": [
      "----> Reshape dataset for convolutional network. <----\n"
     ]
    },
    {
     "name": "stderr",
     "output_type": "stream",
     "text": [
      "  0% (2294 of 2183277) |                 | Elapsed Time: 0:00:00 ETA:   0:01:35"
     ]
    },
    {
     "name": "stdout",
     "output_type": "stream",
     "text": [
      "X shape before reshaping: (2183277, 31, 6)\n",
      "y shape before reshaping: (2183277, 6)\n"
     ]
    },
    {
     "name": "stderr",
     "output_type": "stream",
     "text": [
      "100% (2183277 of 2183277) |##############| Elapsed Time: 0:01:41 Time:  0:01:41\n"
     ]
    },
    {
     "name": "stdout",
     "output_type": "stream",
     "text": [
      "X shape after reshaping: (2183277, 31, 1, 6)\n",
      "y shape after reshaping: (2183277, 6)\n",
      "X shape before reshaping: (1637169, 31, 6)\n",
      "y shape before reshaping: (1637169, 6)\n"
     ]
    },
    {
     "name": "stderr",
     "output_type": "stream",
     "text": [
      "100% (1637169 of 1637169) |##############| Elapsed Time: 0:01:20 Time:  0:01:20\n"
     ]
    },
    {
     "name": "stdout",
     "output_type": "stream",
     "text": [
      "X shape after reshaping: (1637169, 31, 1, 6)\n",
      "y shape after reshaping: (1637169, 6)\n",
      "----> Load model and make predictions (consensus). <----\n",
      "----> Create consensus summary. <----\n",
      "----> Create pileups from assembly. <----\n",
      "##### Generate pileups from read alignments to reference. #####\n"
     ]
    },
    {
     "name": "stderr",
     "output_type": "stream",
     "text": [
      "100% (4789678 of 4789678) |##############| Elapsed Time: 0:07:59 Time:  0:07:59\n"
     ]
    },
    {
     "name": "stdout",
     "output_type": "stream",
     "text": [
      "----> Create dataset with neighbourhood from pileups. <----\n",
      "Parsing  ./s-enterica-NCTC92-all-contigs-n15-model-7-indel-classes/pileups-X-0-indels.npy  and  ./s-enterica-NCTC92-all-contigs-n15-model-7-indel-classes/pileups-y-0.npy\n"
     ]
    },
    {
     "name": "stderr",
     "output_type": "stream",
     "text": [
      "  0% (3816 of 4777060) |                 | Elapsed Time: 0:00:00 ETA:   0:04:10"
     ]
    },
    {
     "name": "stdout",
     "output_type": "stream",
     "text": [
      "Creating dataset with neighbourhood ...\n"
     ]
    },
    {
     "name": "stderr",
     "output_type": "stream",
     "text": [
      "100% (4777060 of 4777060) |##############| Elapsed Time: 0:04:14 Time:  0:04:14\n"
     ]
    },
    {
     "name": "stdout",
     "output_type": "stream",
     "text": [
      "Parsing  ./s-enterica-NCTC92-all-contigs-n15-model-7-indel-classes/pileups-X-1-indels.npy  and  ./s-enterica-NCTC92-all-contigs-n15-model-7-indel-classes/pileups-y-1.npy\n"
     ]
    },
    {
     "name": "stderr",
     "output_type": "stream",
     "text": [
      " 35% (4473 of 12618) |######             | Elapsed Time: 0:00:00 ETA:   0:00:00"
     ]
    },
    {
     "name": "stdout",
     "output_type": "stream",
     "text": [
      "Creating dataset with neighbourhood ...\n"
     ]
    },
    {
     "name": "stderr",
     "output_type": "stream",
     "text": [
      "100% (12618 of 12618) |##################| Elapsed Time: 0:00:00 Time:  0:00:00\n"
     ]
    },
    {
     "name": "stdout",
     "output_type": "stream",
     "text": [
      "----> Reshape dataset for convolutional network. <----\n"
     ]
    },
    {
     "name": "stderr",
     "output_type": "stream",
     "text": [
      "  0% (4374 of 4777030) |                 | Elapsed Time: 0:00:00 ETA:   0:03:38"
     ]
    },
    {
     "name": "stdout",
     "output_type": "stream",
     "text": [
      "X shape before reshaping: (4777030, 31, 6)\n",
      "y shape before reshaping: (4777030, 6)\n"
     ]
    },
    {
     "name": "stderr",
     "output_type": "stream",
     "text": [
      "100% (4777030 of 4777030) |##############| Elapsed Time: 0:03:57 Time:  0:03:57\n"
     ]
    },
    {
     "name": "stdout",
     "output_type": "stream",
     "text": [
      "X shape after reshaping: (4777030, 31, 1, 6)\n",
      "y shape after reshaping: (4777030, 6)\n",
      "X shape before reshaping: (12588, 31, 6)\n",
      "y shape before reshaping: (12588, 6)\n"
     ]
    },
    {
     "name": "stderr",
     "output_type": "stream",
     "text": [
      "100% (12588 of 12588) |##################| Elapsed Time: 0:00:00 Time:  0:00:00\n"
     ]
    },
    {
     "name": "stdout",
     "output_type": "stream",
     "text": [
      "X shape after reshaping: (12588, 31, 1, 6)\n",
      "y shape after reshaping: (12588, 6)\n",
      "----> Load model and make predictions (consensus). <----\n",
      "----> Create consensus summary. <----\n",
      "----> Create pileups from assembly. <----\n",
      "##### Generate pileups from read alignments to reference. #####\n"
     ]
    },
    {
     "name": "stderr",
     "output_type": "stream",
     "text": [
      "100% (4882164 of 4882164) |##############| Elapsed Time: 0:07:18 Time:  0:07:18\n"
     ]
    },
    {
     "name": "stdout",
     "output_type": "stream",
     "text": [
      "----> Create dataset with neighbourhood from pileups. <----\n",
      "Parsing  ./s-enterica-NCTC129-all-contigs-n15-model-7-indel-classes/pileups-X-0-indels.npy  and  ./s-enterica-NCTC129-all-contigs-n15-model-7-indel-classes/pileups-y-0.npy\n"
     ]
    },
    {
     "name": "stderr",
     "output_type": "stream",
     "text": [
      "  0% (3861 of 4823619) |                 | Elapsed Time: 0:00:00 ETA:   0:04:10"
     ]
    },
    {
     "name": "stdout",
     "output_type": "stream",
     "text": [
      "Creating dataset with neighbourhood ...\n"
     ]
    },
    {
     "name": "stderr",
     "output_type": "stream",
     "text": [
      "100% (4823619 of 4823619) |##############| Elapsed Time: 0:04:14 Time:  0:04:14\n"
     ]
    },
    {
     "name": "stdout",
     "output_type": "stream",
     "text": [
      "Parsing  ./s-enterica-NCTC129-all-contigs-n15-model-7-indel-classes/pileups-X-1-indels.npy  and  ./s-enterica-NCTC129-all-contigs-n15-model-7-indel-classes/pileups-y-1.npy\n"
     ]
    },
    {
     "name": "stderr",
     "output_type": "stream",
     "text": [
      "  7% (2736 of 36013) |#                  | Elapsed Time: 0:00:00 ETA:   0:00:01"
     ]
    },
    {
     "name": "stdout",
     "output_type": "stream",
     "text": [
      "Creating dataset with neighbourhood ...\n"
     ]
    },
    {
     "name": "stderr",
     "output_type": "stream",
     "text": [
      "100% (36013 of 36013) |##################| Elapsed Time: 0:00:01 Time:  0:00:01\n",
      " 15% (3423 of 22532) |##                 | Elapsed Time: 0:00:00 ETA:   0:00:00"
     ]
    },
    {
     "name": "stdout",
     "output_type": "stream",
     "text": [
      "Parsing  ./s-enterica-NCTC129-all-contigs-n15-model-7-indel-classes/pileups-X-2-indels.npy  and  ./s-enterica-NCTC129-all-contigs-n15-model-7-indel-classes/pileups-y-2.npy\n",
      "Creating dataset with neighbourhood ...\n"
     ]
    },
    {
     "name": "stderr",
     "output_type": "stream",
     "text": [
      "100% (22532 of 22532) |##################| Elapsed Time: 0:00:01 Time:  0:00:01\n"
     ]
    },
    {
     "name": "stdout",
     "output_type": "stream",
     "text": [
      "----> Reshape dataset for convolutional network. <----\n"
     ]
    },
    {
     "name": "stderr",
     "output_type": "stream",
     "text": [
      "  0% (4552 of 4823589) |                 | Elapsed Time: 0:00:00 ETA:   0:03:32"
     ]
    },
    {
     "name": "stdout",
     "output_type": "stream",
     "text": [
      "X shape before reshaping: (4823589, 31, 6)\n",
      "y shape before reshaping: (4823589, 6)\n"
     ]
    },
    {
     "name": "stderr",
     "output_type": "stream",
     "text": [
      "100% (4823589 of 4823589) |##############| Elapsed Time: 0:03:59 Time:  0:03:59\n"
     ]
    },
    {
     "name": "stdout",
     "output_type": "stream",
     "text": [
      "X shape after reshaping: (4823589, 31, 1, 6)\n",
      "y shape after reshaping: (4823589, 6)\n",
      "X shape before reshaping: (35983, 31, 6)\n",
      "y shape before reshaping: (35983, 6)\n"
     ]
    },
    {
     "name": "stderr",
     "output_type": "stream",
     "text": [
      "100% (35983 of 35983) |##################| Elapsed Time: 0:00:01 Time:  0:00:01\n",
      " 12% (2799 of 22112) |##                 | Elapsed Time: 0:00:00 ETA:   0:00:00"
     ]
    },
    {
     "name": "stdout",
     "output_type": "stream",
     "text": [
      "X shape after reshaping: (35983, 31, 1, 6)\n",
      "y shape after reshaping: (35983, 6)\n",
      "X shape before reshaping: (22112, 31, 6)\n",
      "y shape before reshaping: (22112, 6)\n"
     ]
    },
    {
     "name": "stderr",
     "output_type": "stream",
     "text": [
      "100% (22112 of 22112) |##################| Elapsed Time: 0:00:00 Time:  0:00:00\n"
     ]
    },
    {
     "name": "stdout",
     "output_type": "stream",
     "text": [
      "X shape after reshaping: (22112, 31, 1, 6)\n",
      "y shape after reshaping: (22112, 6)\n",
      "----> Load model and make predictions (consensus). <----\n",
      "----> Create consensus summary. <----\n",
      "----> Create pileups from assembly. <----\n",
      "##### Generate pileups from read alignments to reference. #####\n"
     ]
    },
    {
     "name": "stderr",
     "output_type": "stream",
     "text": [
      "100% (5521245 of 5521245) |##############| Elapsed Time: 0:07:12 Time:  0:07:12\n"
     ]
    },
    {
     "name": "stdout",
     "output_type": "stream",
     "text": [
      "----> Create dataset with neighbourhood from pileups. <----\n",
      "Parsing  ./k-pneumoniae-NCTC204-all-contigs-n15-model-7-indel-classes/pileups-X-0-indels.npy  and  ./k-pneumoniae-NCTC204-all-contigs-n15-model-7-indel-classes/pileups-y-0.npy\n"
     ]
    },
    {
     "name": "stderr",
     "output_type": "stream",
     "text": [
      "  0% (3689 of 5273089) |                 | Elapsed Time: 0:00:00 ETA:   0:04:46"
     ]
    },
    {
     "name": "stdout",
     "output_type": "stream",
     "text": [
      "Creating dataset with neighbourhood ...\n"
     ]
    },
    {
     "name": "stderr",
     "output_type": "stream",
     "text": [
      "100% (5273089 of 5273089) |##############| Elapsed Time: 0:04:43 Time:  0:04:43\n"
     ]
    },
    {
     "name": "stdout",
     "output_type": "stream",
     "text": [
      "Parsing  ./k-pneumoniae-NCTC204-all-contigs-n15-model-7-indel-classes/pileups-X-1-indels.npy  and  ./k-pneumoniae-NCTC204-all-contigs-n15-model-7-indel-classes/pileups-y-1.npy\n"
     ]
    },
    {
     "name": "stderr",
     "output_type": "stream",
     "text": [
      "  2% (3292 of 130014) |                  | Elapsed Time: 0:00:00 ETA:   0:00:06"
     ]
    },
    {
     "name": "stdout",
     "output_type": "stream",
     "text": [
      "Creating dataset with neighbourhood ...\n"
     ]
    },
    {
     "name": "stderr",
     "output_type": "stream",
     "text": [
      "100% (130014 of 130014) |################| Elapsed Time: 0:00:06 Time:  0:00:06\n",
      "  1% (1339 of 105751) |                  | Elapsed Time: 0:00:00 ETA:  00:00:00"
     ]
    },
    {
     "name": "stdout",
     "output_type": "stream",
     "text": [
      "Parsing  ./k-pneumoniae-NCTC204-all-contigs-n15-model-7-indel-classes/pileups-X-2-indels.npy  and  ./k-pneumoniae-NCTC204-all-contigs-n15-model-7-indel-classes/pileups-y-2.npy\n",
      "Creating dataset with neighbourhood ...\n"
     ]
    },
    {
     "name": "stderr",
     "output_type": "stream",
     "text": [
      "100% (105751 of 105751) |################| Elapsed Time: 0:00:05 Time:  0:00:05\n",
      " 26% (3294 of 12391) |#####              | Elapsed Time: 0:00:00 ETA:   0:00:00"
     ]
    },
    {
     "name": "stdout",
     "output_type": "stream",
     "text": [
      "Parsing  ./k-pneumoniae-NCTC204-all-contigs-n15-model-7-indel-classes/pileups-X-3-indels.npy  and  ./k-pneumoniae-NCTC204-all-contigs-n15-model-7-indel-classes/pileups-y-3.npy\n",
      "Creating dataset with neighbourhood ...\n"
     ]
    },
    {
     "name": "stderr",
     "output_type": "stream",
     "text": [
      "100% (12391 of 12391) |##################| Elapsed Time: 0:00:00 Time:  0:00:00\n"
     ]
    },
    {
     "name": "stdout",
     "output_type": "stream",
     "text": [
      "----> Reshape dataset for convolutional network. <----\n"
     ]
    },
    {
     "name": "stderr",
     "output_type": "stream",
     "text": [
      "  0% (4261 of 5273059) |                 | Elapsed Time: 0:00:00 ETA:   0:04:07"
     ]
    },
    {
     "name": "stdout",
     "output_type": "stream",
     "text": [
      "X shape before reshaping: (5273059, 31, 6)\n",
      "y shape before reshaping: (5273059, 6)\n"
     ]
    },
    {
     "name": "stderr",
     "output_type": "stream",
     "text": [
      "100% (5273059 of 5273059) |##############| Elapsed Time: 0:04:21 Time:  0:04:21\n"
     ]
    },
    {
     "name": "stdout",
     "output_type": "stream",
     "text": [
      "X shape after reshaping: (5273059, 31, 1, 6)\n",
      "y shape after reshaping: (5273059, 6)\n",
      "X shape before reshaping: (129984, 31, 6)\n",
      "y shape before reshaping: (129984, 6)\n"
     ]
    },
    {
     "name": "stderr",
     "output_type": "stream",
     "text": [
      "100% (129984 of 129984) |################| Elapsed Time: 0:00:05 Time:  0:00:05\n",
      "  2% (2677 of 105721) |                  | Elapsed Time: 0:00:00 ETA:   0:00:04"
     ]
    },
    {
     "name": "stdout",
     "output_type": "stream",
     "text": [
      "X shape after reshaping: (129984, 31, 1, 6)\n",
      "y shape after reshaping: (129984, 6)\n",
      "X shape before reshaping: (105721, 31, 6)\n",
      "y shape before reshaping: (105721, 6)\n"
     ]
    },
    {
     "name": "stderr",
     "output_type": "stream",
     "text": [
      "100% (105721 of 105721) |################| Elapsed Time: 0:00:04 Time:  0:00:04\n",
      " 30% (3756 of 12361) |#####              | Elapsed Time: 0:00:00 ETA:   0:00:00"
     ]
    },
    {
     "name": "stdout",
     "output_type": "stream",
     "text": [
      "X shape after reshaping: (105721, 31, 1, 6)\n",
      "y shape after reshaping: (105721, 6)\n",
      "X shape before reshaping: (12361, 31, 6)\n",
      "y shape before reshaping: (12361, 6)\n"
     ]
    },
    {
     "name": "stderr",
     "output_type": "stream",
     "text": [
      "100% (12361 of 12361) |##################| Elapsed Time: 0:00:00 Time:  0:00:00\n"
     ]
    },
    {
     "name": "stdout",
     "output_type": "stream",
     "text": [
      "X shape after reshaping: (12361, 31, 1, 6)\n",
      "y shape after reshaping: (12361, 6)\n",
      "----> Load model and make predictions (consensus). <----\n",
      "----> Create consensus summary. <----\n"
     ]
    }
   ],
   "source": [
    "model_path = '/home/diplomski-rad/blade/pb/datasets/n15-indel-classes/model-7.h5'\n",
    "assembly_paths = ['/home/diplomski-rad/blade/pb/escherichia-coli-NCTC86/iter2.fasta',\n",
    "                  '/home/diplomski-rad/blade/pb/morganela-morgani-NCTC235/iter2.fasta',\n",
    "                  '/home/diplomski-rad/blade/pb/salmonella-enterica-NCTC92/iter2.fasta',\n",
    "                  '/home/diplomski-rad/blade/pb/salmonella-enterica-NCTC129/iter2.fasta',\n",
    "                  '/home/diplomski-rad/blade/pb/klebsiela-pneumoniae-NCTC204-BROKEN/iter2.fasta']\n",
    "reference_paths = ['/home/data/pacific_biosciences/bacteria/escherichia/coli/escherichia_coli_reference.fasta',\n",
    "                   '/home/data/pacific_biosciences/bacteria/morganella/morgani/morganella_morganii_reference.fasta',\n",
    "                   '/home/data/pacific_biosciences/bacteria/salmonella/enterica/salmonella_enterica_reference.fasta',\n",
    "                   '/home/data/pacific_biosciences/bacteria/salmonella/enterica/salmonella_enterica_reference.fasta',\n",
    "                   '/home/data/pacific_biosciences/bacteria/klebsiela/pneumoniae/klebsiella_pneumoniae_reference.fasta']\n",
    "bam_file_paths = ['/home/diplomski-rad/blade/pb/escherichia-coli-NCTC86/reads-to-asm-sorted.bam',\n",
    "                  '/home/diplomski-rad/blade/pb/morganela-morgani-NCTC235/reads-to-asm-sorted.bam',\n",
    "                  '/home/diplomski-rad/blade/pb/salmonella-enterica-NCTC92/reads-to-asm-sorted.bam',\n",
    "                  '/home/diplomski-rad/blade/pb/salmonella-enterica-NCTC129/reads-to-asm-sorted.bam',\n",
    "                  '/home/diplomski-rad/blade/pb/klebsiela-pneumoniae-NCTC204-BROKEN/reads-to-asm-sorted.bam']\n",
    "neighbourhood_size = 15\n",
    "output_dirs = ['./e-coli-NCTC86-all-contigs-n15-model-7-indel-classes',\n",
    "               './m-morgani-NCTC235-all-contigs-n15-model-7-indel-classes',\n",
    "               './s-enterica-NCTC92-all-contigs-n15-model-7-indel-classes',\n",
    "               './s-enterica-NCTC129-all-contigs-n15-model-7-indel-classes',\n",
    "               './k-pneumoniae-NCTC204-all-contigs-n15-model-7-indel-classes']\n",
    "tools_dir = '/home/diplomski-rad/'\n",
    "include_indels = True\n",
    "\n",
    "for assembly_path, reference_path, bam_file_path, output_dir in zip(assembly_paths, reference_paths, bam_file_paths, output_dirs):\n",
    "    inference.make_consensus(\n",
    "        model_path, \n",
    "        assembly_path,\n",
    "        reference_path,\n",
    "        bam_file_path,\n",
    "        neighbourhood_size,\n",
    "        output_dir,\n",
    "        tools_dir,\n",
    "        include_indels=include_indels)"
   ]
  },
  {
   "cell_type": "markdown",
   "metadata": {},
   "source": [
    "## n-15 model-11 all contigs indel classes"
   ]
  },
  {
   "cell_type": "code",
   "execution_count": 3,
   "metadata": {},
   "outputs": [
    {
     "name": "stdout",
     "output_type": "stream",
     "text": [
      "----> Create pileups from assembly. <----\n",
      "##### Generate pileups from read alignments to reference. #####\n"
     ]
    },
    {
     "name": "stderr",
     "output_type": "stream",
     "text": [
      "100% (5104767 of 5104767) |##############| Elapsed Time: 0:08:35 Time:  0:08:35\n"
     ]
    },
    {
     "name": "stdout",
     "output_type": "stream",
     "text": [
      "----> Create dataset with neighbourhood from pileups. <----\n",
      "Parsing  ./e-coli-NCTC86-all-contigs-n15-model-11-indel-classes/pileups-X-0-indels.npy  and  ./e-coli-NCTC86-all-contigs-n15-model-11-indel-classes/pileups-y-0.npy\n"
     ]
    },
    {
     "name": "stderr",
     "output_type": "stream",
     "text": [
      "  0% (3791 of 5104767) |                 | Elapsed Time: 0:00:00 ETA:   0:04:29"
     ]
    },
    {
     "name": "stdout",
     "output_type": "stream",
     "text": [
      "Creating dataset with neighbourhood ...\n"
     ]
    },
    {
     "name": "stderr",
     "output_type": "stream",
     "text": [
      "100% (5104767 of 5104767) |##############| Elapsed Time: 0:04:29 Time:  0:04:29\n"
     ]
    },
    {
     "name": "stdout",
     "output_type": "stream",
     "text": [
      "----> Reshape dataset for convolutional network. <----\n"
     ]
    },
    {
     "name": "stderr",
     "output_type": "stream",
     "text": [
      "  0% (2277 of 5104737) |                 | Elapsed Time: 0:00:00 ETA:   0:03:44"
     ]
    },
    {
     "name": "stdout",
     "output_type": "stream",
     "text": [
      "X shape before reshaping: (5104737, 31, 6)\n",
      "y shape before reshaping: (5104737, 6)\n"
     ]
    },
    {
     "name": "stderr",
     "output_type": "stream",
     "text": [
      "100% (5104737 of 5104737) |##############| Elapsed Time: 0:04:10 Time:  0:04:10\n"
     ]
    },
    {
     "name": "stdout",
     "output_type": "stream",
     "text": [
      "X shape after reshaping: (5104737, 31, 1, 6)\n",
      "y shape after reshaping: (5104737, 6)\n",
      "----> Load model and make predictions (consensus). <----\n",
      "----> Create consensus summary. <----\n",
      "----> Create pileups from assembly. <----\n",
      "##### Generate pileups from read alignments to reference. #####\n"
     ]
    },
    {
     "name": "stderr",
     "output_type": "stream",
     "text": [
      "100% (3820508 of 3820508) |##############| Elapsed Time: 0:05:42 Time:  0:05:42\n"
     ]
    },
    {
     "name": "stdout",
     "output_type": "stream",
     "text": [
      "----> Create dataset with neighbourhood from pileups. <----\n",
      "Parsing  ./m-morgani-NCTC235-all-contigs-n15-model-11-indel-classes/pileups-X-0-indels.npy  and  ./m-morgani-NCTC235-all-contigs-n15-model-11-indel-classes/pileups-y-0.npy\n"
     ]
    },
    {
     "name": "stderr",
     "output_type": "stream",
     "text": [
      "  0% (3902 of 2183309) |                 | Elapsed Time: 0:00:00 ETA:   0:01:51"
     ]
    },
    {
     "name": "stdout",
     "output_type": "stream",
     "text": [
      "Creating dataset with neighbourhood ...\n"
     ]
    },
    {
     "name": "stderr",
     "output_type": "stream",
     "text": [
      "100% (2183309 of 2183309) |##############| Elapsed Time: 0:01:55 Time:  0:01:55\n"
     ]
    },
    {
     "name": "stdout",
     "output_type": "stream",
     "text": [
      "Parsing  ./m-morgani-NCTC235-all-contigs-n15-model-11-indel-classes/pileups-X-1-indels.npy  and  ./m-morgani-NCTC235-all-contigs-n15-model-11-indel-classes/pileups-y-1.npy\n"
     ]
    },
    {
     "name": "stderr",
     "output_type": "stream",
     "text": [
      "  0% (3882 of 1637199) |                 | Elapsed Time: 0:00:00 ETA:   0:01:24"
     ]
    },
    {
     "name": "stdout",
     "output_type": "stream",
     "text": [
      "Creating dataset with neighbourhood ...\n"
     ]
    },
    {
     "name": "stderr",
     "output_type": "stream",
     "text": [
      "100% (1637199 of 1637199) |##############| Elapsed Time: 0:01:27 Time:  0:01:27\n"
     ]
    },
    {
     "name": "stdout",
     "output_type": "stream",
     "text": [
      "----> Reshape dataset for convolutional network. <----\n"
     ]
    },
    {
     "name": "stderr",
     "output_type": "stream",
     "text": [
      "  0% (2280 of 2183277) |                 | Elapsed Time: 0:00:00 ETA:   0:01:35"
     ]
    },
    {
     "name": "stdout",
     "output_type": "stream",
     "text": [
      "X shape before reshaping: (2183277, 31, 6)\n",
      "y shape before reshaping: (2183277, 6)\n"
     ]
    },
    {
     "name": "stderr",
     "output_type": "stream",
     "text": [
      "100% (2183277 of 2183277) |##############| Elapsed Time: 0:01:46 Time:  0:01:46\n"
     ]
    },
    {
     "name": "stdout",
     "output_type": "stream",
     "text": [
      "X shape after reshaping: (2183277, 31, 1, 6)\n",
      "y shape after reshaping: (2183277, 6)\n"
     ]
    },
    {
     "name": "stderr",
     "output_type": "stream",
     "text": [
      "  0% (4430 of 1637169) |                 | Elapsed Time: 0:00:00 ETA:   0:01:13"
     ]
    },
    {
     "name": "stdout",
     "output_type": "stream",
     "text": [
      "X shape before reshaping: (1637169, 31, 6)\n",
      "y shape before reshaping: (1637169, 6)\n"
     ]
    },
    {
     "name": "stderr",
     "output_type": "stream",
     "text": [
      "100% (1637169 of 1637169) |##############| Elapsed Time: 0:01:18 Time:  0:01:18\n"
     ]
    },
    {
     "name": "stdout",
     "output_type": "stream",
     "text": [
      "X shape after reshaping: (1637169, 31, 1, 6)\n",
      "y shape after reshaping: (1637169, 6)\n",
      "----> Load model and make predictions (consensus). <----\n",
      "----> Create consensus summary. <----\n",
      "----> Create pileups from assembly. <----\n",
      "##### Generate pileups from read alignments to reference. #####\n"
     ]
    },
    {
     "name": "stderr",
     "output_type": "stream",
     "text": [
      "100% (4789678 of 4789678) |##############| Elapsed Time: 0:08:08 Time:  0:08:08\n"
     ]
    },
    {
     "name": "stdout",
     "output_type": "stream",
     "text": [
      "----> Create dataset with neighbourhood from pileups. <----\n",
      "Parsing  ./s-enterica-NCTC92-all-contigs-n15-model-11-indel-classes/pileups-X-0-indels.npy  and  ./s-enterica-NCTC92-all-contigs-n15-model-11-indel-classes/pileups-y-0.npy\n"
     ]
    },
    {
     "name": "stderr",
     "output_type": "stream",
     "text": [
      "  0% (3731 of 4777060) |                 | Elapsed Time: 0:00:00 ETA:   0:04:16"
     ]
    },
    {
     "name": "stdout",
     "output_type": "stream",
     "text": [
      "Creating dataset with neighbourhood ...\n"
     ]
    },
    {
     "name": "stderr",
     "output_type": "stream",
     "text": [
      "100% (4777060 of 4777060) |##############| Elapsed Time: 0:04:20 Time:  0:04:20\n"
     ]
    },
    {
     "name": "stdout",
     "output_type": "stream",
     "text": [
      "Parsing  ./s-enterica-NCTC92-all-contigs-n15-model-11-indel-classes/pileups-X-1-indels.npy  and  ./s-enterica-NCTC92-all-contigs-n15-model-11-indel-classes/pileups-y-1.npy\n"
     ]
    },
    {
     "name": "stderr",
     "output_type": "stream",
     "text": [
      " 35% (4473 of 12618) |######             | Elapsed Time: 0:00:00 ETA:   0:00:00"
     ]
    },
    {
     "name": "stdout",
     "output_type": "stream",
     "text": [
      "Creating dataset with neighbourhood ...\n"
     ]
    },
    {
     "name": "stderr",
     "output_type": "stream",
     "text": [
      "100% (12618 of 12618) |##################| Elapsed Time: 0:00:00 Time:  0:00:00\n"
     ]
    },
    {
     "name": "stdout",
     "output_type": "stream",
     "text": [
      "----> Reshape dataset for convolutional network. <----\n"
     ]
    },
    {
     "name": "stderr",
     "output_type": "stream",
     "text": [
      "  0% (4394 of 4777030) |                 | Elapsed Time: 0:00:00 ETA:   0:03:37"
     ]
    },
    {
     "name": "stdout",
     "output_type": "stream",
     "text": [
      "X shape before reshaping: (4777030, 31, 6)\n",
      "y shape before reshaping: (4777030, 6)\n"
     ]
    },
    {
     "name": "stderr",
     "output_type": "stream",
     "text": [
      "100% (4777030 of 4777030) |##############| Elapsed Time: 0:03:55 Time:  0:03:55\n"
     ]
    },
    {
     "name": "stdout",
     "output_type": "stream",
     "text": [
      "X shape after reshaping: (4777030, 31, 1, 6)\n",
      "y shape after reshaping: (4777030, 6)\n",
      "X shape before reshaping: (12588, 31, 6)\n",
      "y shape before reshaping: (12588, 6)\n"
     ]
    },
    {
     "name": "stderr",
     "output_type": "stream",
     "text": [
      "100% (12588 of 12588) |##################| Elapsed Time: 0:00:00 Time:  0:00:00\n"
     ]
    },
    {
     "name": "stdout",
     "output_type": "stream",
     "text": [
      "X shape after reshaping: (12588, 31, 1, 6)\n",
      "y shape after reshaping: (12588, 6)\n",
      "----> Load model and make predictions (consensus). <----\n",
      "----> Create consensus summary. <----\n",
      "----> Create pileups from assembly. <----\n",
      "##### Generate pileups from read alignments to reference. #####\n"
     ]
    },
    {
     "name": "stderr",
     "output_type": "stream",
     "text": [
      "100% (4882164 of 4882164) |##############| Elapsed Time: 0:07:28 Time:  0:07:28\n"
     ]
    },
    {
     "name": "stdout",
     "output_type": "stream",
     "text": [
      "----> Create dataset with neighbourhood from pileups. <----\n",
      "Parsing  ./s-enterica-NCTC129-all-contigs-n15-model-11-indel-classes/pileups-X-0-indels.npy  and  ./s-enterica-NCTC129-all-contigs-n15-model-11-indel-classes/pileups-y-0.npy\n"
     ]
    },
    {
     "name": "stderr",
     "output_type": "stream",
     "text": [
      "  0% (3763 of 4823619) |                 | Elapsed Time: 0:00:00 ETA:   0:04:16"
     ]
    },
    {
     "name": "stdout",
     "output_type": "stream",
     "text": [
      "Creating dataset with neighbourhood ...\n"
     ]
    },
    {
     "name": "stderr",
     "output_type": "stream",
     "text": [
      "100% (4823619 of 4823619) |##############| Elapsed Time: 0:04:23 Time:  0:04:23\n"
     ]
    },
    {
     "name": "stdout",
     "output_type": "stream",
     "text": [
      "Parsing  ./s-enterica-NCTC129-all-contigs-n15-model-11-indel-classes/pileups-X-1-indels.npy  and  ./s-enterica-NCTC129-all-contigs-n15-model-11-indel-classes/pileups-y-1.npy\n"
     ]
    },
    {
     "name": "stderr",
     "output_type": "stream",
     "text": [
      "  7% (2736 of 36013) |#                  | Elapsed Time: 0:00:00 ETA:   0:00:01"
     ]
    },
    {
     "name": "stdout",
     "output_type": "stream",
     "text": [
      "Creating dataset with neighbourhood ...\n"
     ]
    },
    {
     "name": "stderr",
     "output_type": "stream",
     "text": [
      "100% (36013 of 36013) |##################| Elapsed Time: 0:00:01 Time:  0:00:01\n",
      " 10% (2282 of 22532) |#                  | Elapsed Time: 0:00:00 ETA:   0:00:01"
     ]
    },
    {
     "name": "stdout",
     "output_type": "stream",
     "text": [
      "Parsing  ./s-enterica-NCTC129-all-contigs-n15-model-11-indel-classes/pileups-X-2-indels.npy  and  ./s-enterica-NCTC129-all-contigs-n15-model-11-indel-classes/pileups-y-2.npy\n",
      "Creating dataset with neighbourhood ...\n"
     ]
    },
    {
     "name": "stderr",
     "output_type": "stream",
     "text": [
      "100% (22532 of 22532) |##################| Elapsed Time: 0:00:01 Time:  0:00:01\n"
     ]
    },
    {
     "name": "stdout",
     "output_type": "stream",
     "text": [
      "----> Reshape dataset for convolutional network. <----\n"
     ]
    },
    {
     "name": "stderr",
     "output_type": "stream",
     "text": [
      "  0% (4597 of 4823589) |                 | Elapsed Time: 0:00:00 ETA:   0:03:29"
     ]
    },
    {
     "name": "stdout",
     "output_type": "stream",
     "text": [
      "X shape before reshaping: (4823589, 31, 6)\n",
      "y shape before reshaping: (4823589, 6)\n"
     ]
    },
    {
     "name": "stderr",
     "output_type": "stream",
     "text": [
      "100% (4823589 of 4823589) |##############| Elapsed Time: 0:03:53 Time:  0:03:53\n",
      "N/A% (0 of 35983) |                      | Elapsed Time: 0:00:00 ETA:  --:--:--"
     ]
    },
    {
     "name": "stdout",
     "output_type": "stream",
     "text": [
      "X shape after reshaping: (4823589, 31, 1, 6)\n",
      "y shape after reshaping: (4823589, 6)\n",
      "X shape before reshaping: (35983, 31, 6)\n",
      "y shape before reshaping: (35983, 6)\n"
     ]
    },
    {
     "name": "stderr",
     "output_type": "stream",
     "text": [
      "100% (35983 of 35983) |##################| Elapsed Time: 0:00:01 Time:  0:00:01\n",
      " 17% (3919 of 22112) |###                | Elapsed Time: 0:00:00 ETA:   0:00:00"
     ]
    },
    {
     "name": "stdout",
     "output_type": "stream",
     "text": [
      "X shape after reshaping: (35983, 31, 1, 6)\n",
      "y shape after reshaping: (35983, 6)\n",
      "X shape before reshaping: (22112, 31, 6)\n",
      "y shape before reshaping: (22112, 6)\n"
     ]
    },
    {
     "name": "stderr",
     "output_type": "stream",
     "text": [
      "100% (22112 of 22112) |##################| Elapsed Time: 0:00:00 Time:  0:00:00\n"
     ]
    },
    {
     "name": "stdout",
     "output_type": "stream",
     "text": [
      "X shape after reshaping: (22112, 31, 1, 6)\n",
      "y shape after reshaping: (22112, 6)\n",
      "----> Load model and make predictions (consensus). <----\n",
      "----> Create consensus summary. <----\n",
      "----> Create pileups from assembly. <----\n",
      "##### Generate pileups from read alignments to reference. #####\n"
     ]
    },
    {
     "name": "stderr",
     "output_type": "stream",
     "text": [
      "100% (5521245 of 5521245) |##############| Elapsed Time: 0:07:11 Time:  0:07:11\n"
     ]
    },
    {
     "name": "stdout",
     "output_type": "stream",
     "text": [
      "----> Create dataset with neighbourhood from pileups. <----\n",
      "Parsing  ./k-pneumoniae-NCTC204-all-contigs-n15-model-11-indel-classes/pileups-X-0-indels.npy  and  ./k-pneumoniae-NCTC204-all-contigs-n15-model-11-indel-classes/pileups-y-0.npy\n"
     ]
    },
    {
     "name": "stderr",
     "output_type": "stream",
     "text": [
      "  0% (1876 of 5273089) |                 | Elapsed Time: 0:00:00 ETA:   0:04:41"
     ]
    },
    {
     "name": "stdout",
     "output_type": "stream",
     "text": [
      "Creating dataset with neighbourhood ...\n"
     ]
    },
    {
     "name": "stderr",
     "output_type": "stream",
     "text": [
      "100% (5273089 of 5273089) |##############| Elapsed Time: 0:04:46 Time:  0:04:46\n"
     ]
    },
    {
     "name": "stdout",
     "output_type": "stream",
     "text": [
      "Parsing  ./k-pneumoniae-NCTC204-all-contigs-n15-model-11-indel-classes/pileups-X-1-indels.npy  and  ./k-pneumoniae-NCTC204-all-contigs-n15-model-11-indel-classes/pileups-y-1.npy\n"
     ]
    },
    {
     "name": "stderr",
     "output_type": "stream",
     "text": [
      "  2% (3292 of 130014) |                  | Elapsed Time: 0:00:00 ETA:   0:00:06"
     ]
    },
    {
     "name": "stdout",
     "output_type": "stream",
     "text": [
      "Creating dataset with neighbourhood ...\n"
     ]
    },
    {
     "name": "stderr",
     "output_type": "stream",
     "text": [
      "100% (130014 of 130014) |################| Elapsed Time: 0:00:07 Time:  0:00:07\n",
      "N/A% (0 of 105751) |                     | Elapsed Time: 0:00:00 ETA:  --:--:--"
     ]
    },
    {
     "name": "stdout",
     "output_type": "stream",
     "text": [
      "Parsing  ./k-pneumoniae-NCTC204-all-contigs-n15-model-11-indel-classes/pileups-X-2-indels.npy  and  ./k-pneumoniae-NCTC204-all-contigs-n15-model-11-indel-classes/pileups-y-2.npy\n",
      "Creating dataset with neighbourhood ...\n"
     ]
    },
    {
     "name": "stderr",
     "output_type": "stream",
     "text": [
      "100% (105751 of 105751) |################| Elapsed Time: 0:00:05 Time:  0:00:05\n",
      " 26% (3294 of 12391) |#####              | Elapsed Time: 0:00:00 ETA:   0:00:00"
     ]
    },
    {
     "name": "stdout",
     "output_type": "stream",
     "text": [
      "Parsing  ./k-pneumoniae-NCTC204-all-contigs-n15-model-11-indel-classes/pileups-X-3-indels.npy  and  ./k-pneumoniae-NCTC204-all-contigs-n15-model-11-indel-classes/pileups-y-3.npy\n",
      "Creating dataset with neighbourhood ...\n"
     ]
    },
    {
     "name": "stderr",
     "output_type": "stream",
     "text": [
      "100% (12391 of 12391) |##################| Elapsed Time: 0:00:00 Time:  0:00:00\n"
     ]
    },
    {
     "name": "stdout",
     "output_type": "stream",
     "text": [
      "----> Reshape dataset for convolutional network. <----\n"
     ]
    },
    {
     "name": "stderr",
     "output_type": "stream",
     "text": [
      "  0% (2200 of 5273059) |                 | Elapsed Time: 0:00:00 ETA:   0:03:59"
     ]
    },
    {
     "name": "stdout",
     "output_type": "stream",
     "text": [
      "X shape before reshaping: (5273059, 31, 6)\n",
      "y shape before reshaping: (5273059, 6)\n"
     ]
    },
    {
     "name": "stderr",
     "output_type": "stream",
     "text": [
      "100% (5273059 of 5273059) |##############| Elapsed Time: 0:04:14 Time:  0:04:14\n"
     ]
    },
    {
     "name": "stdout",
     "output_type": "stream",
     "text": [
      "X shape after reshaping: (5273059, 31, 1, 6)\n",
      "y shape after reshaping: (5273059, 6)\n",
      "X shape before reshaping: (129984, 31, 6)\n",
      "y shape before reshaping: (129984, 6)\n"
     ]
    },
    {
     "name": "stderr",
     "output_type": "stream",
     "text": [
      "100% (129984 of 129984) |################| Elapsed Time: 0:00:05 Time:  0:00:05\n",
      "  2% (2677 of 105721) |                  | Elapsed Time: 0:00:00 ETA:   0:00:04"
     ]
    },
    {
     "name": "stdout",
     "output_type": "stream",
     "text": [
      "X shape after reshaping: (129984, 31, 1, 6)\n",
      "y shape after reshaping: (129984, 6)\n",
      "X shape before reshaping: (105721, 31, 6)\n",
      "y shape before reshaping: (105721, 6)\n"
     ]
    },
    {
     "name": "stderr",
     "output_type": "stream",
     "text": [
      "100% (105721 of 105721) |################| Elapsed Time: 0:00:04 Time:  0:00:04\n",
      " 30% (3756 of 12361) |#####              | Elapsed Time: 0:00:00 ETA:   0:00:00"
     ]
    },
    {
     "name": "stdout",
     "output_type": "stream",
     "text": [
      "X shape after reshaping: (105721, 31, 1, 6)\n",
      "y shape after reshaping: (105721, 6)\n",
      "X shape before reshaping: (12361, 31, 6)\n",
      "y shape before reshaping: (12361, 6)\n"
     ]
    },
    {
     "name": "stderr",
     "output_type": "stream",
     "text": [
      "100% (12361 of 12361) |##################| Elapsed Time: 0:00:00 Time:  0:00:00\n"
     ]
    },
    {
     "name": "stdout",
     "output_type": "stream",
     "text": [
      "X shape after reshaping: (12361, 31, 1, 6)\n",
      "y shape after reshaping: (12361, 6)\n",
      "----> Load model and make predictions (consensus). <----\n",
      "----> Create consensus summary. <----\n"
     ]
    }
   ],
   "source": [
    "model_path = '/home/diplomski-rad/blade/pb/datasets/n15-indel-classes/model-11.h5'\n",
    "assembly_paths = ['/home/diplomski-rad/blade/pb/escherichia-coli-NCTC86/iter2.fasta',\n",
    "                  '/home/diplomski-rad/blade/pb/morganela-morgani-NCTC235/iter2.fasta',\n",
    "                  '/home/diplomski-rad/blade/pb/salmonella-enterica-NCTC92/iter2.fasta',\n",
    "                  '/home/diplomski-rad/blade/pb/salmonella-enterica-NCTC129/iter2.fasta',\n",
    "                  '/home/diplomski-rad/blade/pb/klebsiela-pneumoniae-NCTC204-BROKEN/iter2.fasta']\n",
    "reference_paths = ['/home/data/pacific_biosciences/bacteria/escherichia/coli/escherichia_coli_reference.fasta',\n",
    "                   '/home/data/pacific_biosciences/bacteria/morganella/morgani/morganella_morganii_reference.fasta',\n",
    "                   '/home/data/pacific_biosciences/bacteria/salmonella/enterica/salmonella_enterica_reference.fasta',\n",
    "                   '/home/data/pacific_biosciences/bacteria/salmonella/enterica/salmonella_enterica_reference.fasta',\n",
    "                   '/home/data/pacific_biosciences/bacteria/klebsiela/pneumoniae/klebsiella_pneumoniae_reference.fasta']\n",
    "bam_file_paths = ['/home/diplomski-rad/blade/pb/escherichia-coli-NCTC86/reads-to-asm-sorted.bam',\n",
    "                  '/home/diplomski-rad/blade/pb/morganela-morgani-NCTC235/reads-to-asm-sorted.bam',\n",
    "                  '/home/diplomski-rad/blade/pb/salmonella-enterica-NCTC92/reads-to-asm-sorted.bam',\n",
    "                  '/home/diplomski-rad/blade/pb/salmonella-enterica-NCTC129/reads-to-asm-sorted.bam',\n",
    "                  '/home/diplomski-rad/blade/pb/klebsiela-pneumoniae-NCTC204-BROKEN/reads-to-asm-sorted.bam']\n",
    "neighbourhood_size = 15\n",
    "output_dirs = ['./e-coli-NCTC86-all-contigs-n15-model-11-indel-classes',\n",
    "               './m-morgani-NCTC235-all-contigs-n15-model-11-indel-classes',\n",
    "               './s-enterica-NCTC92-all-contigs-n15-model-11-indel-classes',\n",
    "               './s-enterica-NCTC129-all-contigs-n15-model-11-indel-classes',\n",
    "               './k-pneumoniae-NCTC204-all-contigs-n15-model-11-indel-classes']\n",
    "tools_dir = '/home/diplomski-rad/'\n",
    "include_indels = True\n",
    "\n",
    "for assembly_path, reference_path, bam_file_path, output_dir in zip(assembly_paths, reference_paths, bam_file_paths, output_dirs):\n",
    "    inference.make_consensus(\n",
    "        model_path, \n",
    "        assembly_path,\n",
    "        reference_path,\n",
    "        bam_file_path,\n",
    "        neighbourhood_size,\n",
    "        output_dir,\n",
    "        tools_dir,\n",
    "        include_indels=include_indels)"
   ]
  },
  {
   "cell_type": "markdown",
   "metadata": {},
   "source": [
    "## n-20 model-11 racon-hax"
   ]
  },
  {
   "cell_type": "code",
   "execution_count": 2,
   "metadata": {},
   "outputs": [
    {
     "name": "stdout",
     "output_type": "stream",
     "text": [
      "----> Create pileups from assembly. <----\n"
     ]
    },
    {
     "name": "stderr",
     "output_type": "stream",
     "text": [
      "100% (9647260 of 9647260) |##############| Elapsed Time: 0:04:21 Time:  0:04:21\n"
     ]
    },
    {
     "name": "stdout",
     "output_type": "stream",
     "text": [
      "----> Create dataset with neighbourhood from pileups. <----\n",
      "Parsing pileup pair 0\n"
     ]
    },
    {
     "name": "stderr",
     "output_type": "stream",
     "text": [
      "  0% (4041 of 9647260) |                 | Elapsed Time: 0:00:00 ETA:   0:07:57"
     ]
    },
    {
     "name": "stdout",
     "output_type": "stream",
     "text": [
      "Creating dataset with neighbourhood ...\n"
     ]
    },
    {
     "name": "stderr",
     "output_type": "stream",
     "text": [
      "100% (9647260 of 9647260) |##############| Elapsed Time: 0:08:33 Time:  0:08:33\n",
      "  0% (2449 of 9647220) |                 | Elapsed Time: 0:00:00 ETA:   0:06:34"
     ]
    },
    {
     "name": "stdout",
     "output_type": "stream",
     "text": [
      "----> Reshape dataset for convolutional network. <----\n",
      "X shape before reshaping: (9647220, 41, 5)\n",
      "y shape before reshaping: (9647220, 6)\n"
     ]
    },
    {
     "name": "stderr",
     "output_type": "stream",
     "text": [
      "100% (9647220 of 9647220) |##############| Elapsed Time: 0:06:42 Time:  0:06:42\n"
     ]
    },
    {
     "name": "stdout",
     "output_type": "stream",
     "text": [
      "X shape after reshaping: (9647220, 41, 1, 5)\n",
      "y shape after reshaping: (9647220, 6)\n",
      "----> Load model and make predictions (consensus). <----\n",
      "----> Create consensus summary. <----\n",
      "----> Create pileups from assembly. <----\n"
     ]
    },
    {
     "name": "stderr",
     "output_type": "stream",
     "text": [
      "100% (6947852 of 6947852) |##############| Elapsed Time: 0:03:20 Time:  0:03:20\n"
     ]
    },
    {
     "name": "stdout",
     "output_type": "stream",
     "text": [
      "----> Create dataset with neighbourhood from pileups. <----\n",
      "Parsing pileup pair 0\n"
     ]
    },
    {
     "name": "stderr",
     "output_type": "stream",
     "text": [
      "  0% (3943 of 3961596) |                 | Elapsed Time: 0:00:00 ETA:   0:03:20"
     ]
    },
    {
     "name": "stdout",
     "output_type": "stream",
     "text": [
      "Creating dataset with neighbourhood ...\n"
     ]
    },
    {
     "name": "stderr",
     "output_type": "stream",
     "text": [
      "100% (3961596 of 3961596) |##############| Elapsed Time: 0:03:39 Time:  0:03:39\n"
     ]
    },
    {
     "name": "stdout",
     "output_type": "stream",
     "text": [
      "Parsing pileup pair 1\n"
     ]
    },
    {
     "name": "stderr",
     "output_type": "stream",
     "text": [
      "  0% (3713 of 2986256) |                 | Elapsed Time: 0:00:00 ETA:   0:02:40"
     ]
    },
    {
     "name": "stdout",
     "output_type": "stream",
     "text": [
      "Creating dataset with neighbourhood ...\n"
     ]
    },
    {
     "name": "stderr",
     "output_type": "stream",
     "text": [
      "100% (2986256 of 2986256) |##############| Elapsed Time: 0:02:49 Time:  0:02:49\n",
      "  0% (2324 of 3961554) |                 | Elapsed Time: 0:00:00 ETA:   0:02:50"
     ]
    },
    {
     "name": "stdout",
     "output_type": "stream",
     "text": [
      "----> Reshape dataset for convolutional network. <----\n",
      "X shape before reshaping: (3961554, 41, 5)\n",
      "y shape before reshaping: (3961554, 6)\n"
     ]
    },
    {
     "name": "stderr",
     "output_type": "stream",
     "text": [
      "100% (3961554 of 3961554) |##############| Elapsed Time: 0:03:03 Time:  0:03:03\n",
      "  0% (2356 of 2986216) |                 | Elapsed Time: 0:00:00 ETA:   0:02:06"
     ]
    },
    {
     "name": "stdout",
     "output_type": "stream",
     "text": [
      "X shape after reshaping: (3961554, 41, 1, 5)\n",
      "y shape after reshaping: (3961554, 6)\n",
      "X shape before reshaping: (2986216, 41, 5)\n",
      "y shape before reshaping: (2986216, 6)\n"
     ]
    },
    {
     "name": "stderr",
     "output_type": "stream",
     "text": [
      "100% (2986216 of 2986216) |##############| Elapsed Time: 0:02:18 Time:  0:02:18\n"
     ]
    },
    {
     "name": "stdout",
     "output_type": "stream",
     "text": [
      "X shape after reshaping: (2986216, 41, 1, 5)\n",
      "y shape after reshaping: (2986216, 6)\n",
      "----> Load model and make predictions (consensus). <----\n",
      "----> Create consensus summary. <----\n",
      "----> Create pileups from assembly. <----\n"
     ]
    },
    {
     "name": "stderr",
     "output_type": "stream",
     "text": [
      "100% (9238925 of 9238925) |##############| Elapsed Time: 0:04:37 Time:  0:04:37\n"
     ]
    },
    {
     "name": "stdout",
     "output_type": "stream",
     "text": [
      "----> Create dataset with neighbourhood from pileups. <----\n",
      "Parsing pileup pair 0\n"
     ]
    },
    {
     "name": "stderr",
     "output_type": "stream",
     "text": [
      "  0% (3573 of 9234019) |                 | Elapsed Time: 0:00:00 ETA:   0:08:37"
     ]
    },
    {
     "name": "stdout",
     "output_type": "stream",
     "text": [
      "Creating dataset with neighbourhood ...\n"
     ]
    },
    {
     "name": "stderr",
     "output_type": "stream",
     "text": [
      "100% (9234019 of 9234019) |##############| Elapsed Time: 0:09:09 Time:  0:09:09\n",
      " 64% (3168 of 4906) |############        | Elapsed Time: 0:00:00 ETA:   0:00:00"
     ]
    },
    {
     "name": "stdout",
     "output_type": "stream",
     "text": [
      "Parsing pileup pair 1\n",
      "Creating dataset with neighbourhood ...\n"
     ]
    },
    {
     "name": "stderr",
     "output_type": "stream",
     "text": [
      "100% (4906 of 4906) |####################| Elapsed Time: 0:00:00 Time:  0:00:00\n",
      "  0% (2326 of 9233979) |                 | Elapsed Time: 0:00:00 ETA:   0:06:37"
     ]
    },
    {
     "name": "stdout",
     "output_type": "stream",
     "text": [
      "----> Reshape dataset for convolutional network. <----\n",
      "X shape before reshaping: (9233979, 41, 5)\n",
      "y shape before reshaping: (9233979, 6)\n"
     ]
    },
    {
     "name": "stderr",
     "output_type": "stream",
     "text": [
      "100% (9233979 of 9233979) |##############| Elapsed Time: 0:07:37 Time:  0:07:37\n",
      " 64% (3142 of 4866) |############        | Elapsed Time: 0:00:00 ETA:   0:00:00"
     ]
    },
    {
     "name": "stdout",
     "output_type": "stream",
     "text": [
      "X shape after reshaping: (9233979, 41, 1, 5)\n",
      "y shape after reshaping: (9233979, 6)\n",
      "X shape before reshaping: (4866, 41, 5)\n",
      "y shape before reshaping: (4866, 6)\n"
     ]
    },
    {
     "name": "stderr",
     "output_type": "stream",
     "text": [
      "100% (4866 of 4866) |####################| Elapsed Time: 0:00:00 Time:  0:00:00\n"
     ]
    },
    {
     "name": "stdout",
     "output_type": "stream",
     "text": [
      "X shape after reshaping: (4866, 41, 1, 5)\n",
      "y shape after reshaping: (4866, 6)\n",
      "----> Load model and make predictions (consensus). <----\n",
      "----> Create consensus summary. <----\n",
      "----> Create pileups from assembly. <----\n"
     ]
    },
    {
     "name": "stderr",
     "output_type": "stream",
     "text": [
      "100% (8766521 of 8766521) |##############| Elapsed Time: 0:03:56 Time:  0:03:56\n"
     ]
    },
    {
     "name": "stdout",
     "output_type": "stream",
     "text": [
      "----> Create dataset with neighbourhood from pileups. <----\n",
      "Parsing pileup pair 0\n"
     ]
    },
    {
     "name": "stderr",
     "output_type": "stream",
     "text": [
      "  0% (3863 of 8672288) |                 | Elapsed Time: 0:00:00 ETA:   0:07:29"
     ]
    },
    {
     "name": "stdout",
     "output_type": "stream",
     "text": [
      "Creating dataset with neighbourhood ...\n"
     ]
    },
    {
     "name": "stderr",
     "output_type": "stream",
     "text": [
      "100% (8672288 of 8672288) |##############| Elapsed Time: 0:07:33 Time:  0:07:33\n",
      "  2% (1553 of 61321) |                   | Elapsed Time: 0:00:00 ETA:  00:00:00"
     ]
    },
    {
     "name": "stdout",
     "output_type": "stream",
     "text": [
      "Parsing pileup pair 1\n",
      "Creating dataset with neighbourhood ...\n"
     ]
    },
    {
     "name": "stderr",
     "output_type": "stream",
     "text": [
      "100% (61321 of 61321) |##################| Elapsed Time: 0:00:03 Time:  0:00:03\n",
      "  7% (2500 of 32912) |#                  | Elapsed Time: 0:00:00 ETA:   0:00:01"
     ]
    },
    {
     "name": "stdout",
     "output_type": "stream",
     "text": [
      "Parsing pileup pair 2\n",
      "Creating dataset with neighbourhood ...\n"
     ]
    },
    {
     "name": "stderr",
     "output_type": "stream",
     "text": [
      "100% (32912 of 32912) |##################| Elapsed Time: 0:00:01 Time:  0:00:01\n",
      "  0% (4738 of 8672248) |                 | Elapsed Time: 0:00:00 ETA:   0:06:06"
     ]
    },
    {
     "name": "stdout",
     "output_type": "stream",
     "text": [
      "----> Reshape dataset for convolutional network. <----\n",
      "X shape before reshaping: (8672248, 41, 5)\n",
      "y shape before reshaping: (8672248, 6)\n"
     ]
    },
    {
     "name": "stderr",
     "output_type": "stream",
     "text": [
      "100% (8672248 of 8672248) |##############| Elapsed Time: 0:06:47 Time:  0:06:47\n",
      "  7% (4655 of 61281) |#                  | Elapsed Time: 0:00:00 ETA:   0:00:02"
     ]
    },
    {
     "name": "stdout",
     "output_type": "stream",
     "text": [
      "X shape after reshaping: (8672248, 41, 1, 5)\n",
      "y shape after reshaping: (8672248, 6)\n",
      "X shape before reshaping: (61281, 41, 5)\n",
      "y shape before reshaping: (61281, 6)\n"
     ]
    },
    {
     "name": "stderr",
     "output_type": "stream",
     "text": [
      "100% (61281 of 61281) |##################| Elapsed Time: 0:00:02 Time:  0:00:02\n",
      " 11% (3745 of 32872) |##                 | Elapsed Time: 0:00:00 ETA:   0:00:01"
     ]
    },
    {
     "name": "stdout",
     "output_type": "stream",
     "text": [
      "X shape after reshaping: (61281, 41, 1, 5)\n",
      "y shape after reshaping: (61281, 6)\n",
      "X shape before reshaping: (32872, 41, 5)\n",
      "y shape before reshaping: (32872, 6)\n"
     ]
    },
    {
     "name": "stderr",
     "output_type": "stream",
     "text": [
      "100% (32872 of 32872) |##################| Elapsed Time: 0:00:01 Time:  0:00:01\n"
     ]
    },
    {
     "name": "stdout",
     "output_type": "stream",
     "text": [
      "X shape after reshaping: (32872, 41, 1, 5)\n",
      "y shape after reshaping: (32872, 6)\n",
      "----> Load model and make predictions (consensus). <----\n",
      "----> Create consensus summary. <----\n",
      "----> Create pileups from assembly. <----\n"
     ]
    },
    {
     "name": "stderr",
     "output_type": "stream",
     "text": [
      "100% (8634561 of 8634561) |##############| Elapsed Time: 0:03:31 Time:  0:03:31\n"
     ]
    },
    {
     "name": "stdout",
     "output_type": "stream",
     "text": [
      "----> Create dataset with neighbourhood from pileups. <----\n",
      "Parsing pileup pair 0\n"
     ]
    },
    {
     "name": "stderr",
     "output_type": "stream",
     "text": [
      "  0% (3791 of 8196116) |                 | Elapsed Time: 0:00:00 ETA:   0:07:12"
     ]
    },
    {
     "name": "stdout",
     "output_type": "stream",
     "text": [
      "Creating dataset with neighbourhood ...\n"
     ]
    },
    {
     "name": "stderr",
     "output_type": "stream",
     "text": [
      "100% (8196116 of 8196116) |##############| Elapsed Time: 0:07:10 Time:  0:07:10\n",
      "N/A% (0 of 223237) |                     | Elapsed Time: 0:00:00 ETA:  --:--:--"
     ]
    },
    {
     "name": "stdout",
     "output_type": "stream",
     "text": [
      "Parsing pileup pair 1\n",
      "Creating dataset with neighbourhood ...\n"
     ]
    },
    {
     "name": "stderr",
     "output_type": "stream",
     "text": [
      "100% (223237 of 223237) |################| Elapsed Time: 0:00:11 Time:  0:00:11\n",
      "N/A% (0 of 193969) |                     | Elapsed Time: 0:00:00 ETA:  --:--:--"
     ]
    },
    {
     "name": "stdout",
     "output_type": "stream",
     "text": [
      "Parsing pileup pair 2\n",
      "Creating dataset with neighbourhood ...\n"
     ]
    },
    {
     "name": "stderr",
     "output_type": "stream",
     "text": [
      "100% (193969 of 193969) |################| Elapsed Time: 0:00:10 Time:  0:00:10\n",
      " 15% (3227 of 21239) |##                 | Elapsed Time: 0:00:00 ETA:   0:00:00"
     ]
    },
    {
     "name": "stdout",
     "output_type": "stream",
     "text": [
      "Parsing pileup pair 3\n",
      "Creating dataset with neighbourhood ...\n"
     ]
    },
    {
     "name": "stderr",
     "output_type": "stream",
     "text": [
      "100% (21239 of 21239) |##################| Elapsed Time: 0:00:01 Time:  0:00:01\n",
      "  0% (4638 of 8196076) |                 | Elapsed Time: 0:00:00 ETA:   0:05:53"
     ]
    },
    {
     "name": "stdout",
     "output_type": "stream",
     "text": [
      "----> Reshape dataset for convolutional network. <----\n",
      "X shape before reshaping: (8196076, 41, 5)\n",
      "y shape before reshaping: (8196076, 6)\n"
     ]
    },
    {
     "name": "stderr",
     "output_type": "stream",
     "text": [
      "100% (8196076 of 8196076) |##############| Elapsed Time: 0:06:27 Time:  0:06:27\n",
      "  2% (4550 of 223197) |                  | Elapsed Time: 0:00:00 ETA:   0:00:09"
     ]
    },
    {
     "name": "stdout",
     "output_type": "stream",
     "text": [
      "X shape after reshaping: (8196076, 41, 1, 5)\n",
      "y shape after reshaping: (8196076, 6)\n",
      "X shape before reshaping: (223197, 41, 5)\n",
      "y shape before reshaping: (223197, 6)\n"
     ]
    },
    {
     "name": "stderr",
     "output_type": "stream",
     "text": [
      "100% (223197 of 223197) |################| Elapsed Time: 0:00:09 Time:  0:00:09\n",
      "  1% (2372 of 193929) |                  | Elapsed Time: 0:00:00 ETA:   0:00:08"
     ]
    },
    {
     "name": "stdout",
     "output_type": "stream",
     "text": [
      "X shape after reshaping: (223197, 41, 1, 5)\n",
      "y shape after reshaping: (223197, 6)\n",
      "X shape before reshaping: (193929, 41, 5)\n",
      "y shape before reshaping: (193929, 6)\n"
     ]
    },
    {
     "name": "stderr",
     "output_type": "stream",
     "text": [
      "100% (193929 of 193929) |################| Elapsed Time: 0:00:08 Time:  0:00:08\n",
      " 18% (4026 of 21199) |###                | Elapsed Time: 0:00:00 ETA:   0:00:00"
     ]
    },
    {
     "name": "stdout",
     "output_type": "stream",
     "text": [
      "X shape after reshaping: (193929, 41, 1, 5)\n",
      "y shape after reshaping: (193929, 6)\n",
      "X shape before reshaping: (21199, 41, 5)\n",
      "y shape before reshaping: (21199, 6)\n"
     ]
    },
    {
     "name": "stderr",
     "output_type": "stream",
     "text": [
      "100% (21199 of 21199) |##################| Elapsed Time: 0:00:00 Time:  0:00:00\n"
     ]
    },
    {
     "name": "stdout",
     "output_type": "stream",
     "text": [
      "X shape after reshaping: (21199, 41, 1, 5)\n",
      "y shape after reshaping: (21199, 6)\n",
      "----> Load model and make predictions (consensus). <----\n",
      "----> Create consensus summary. <----\n"
     ]
    }
   ],
   "source": [
    "model_path = '/home/diplomski-rad/blade/pb/datasets/n20-racon-hax/model-11.h5'\n",
    "reads_paths = [\n",
    "    '/home/data/pacific_biosciences/bacteria/escherichia/coli/NCTC86.fastq',\n",
    "    '/home/data/pacific_biosciences/bacteria/morganella/morgani/NCTC235.fastq',\n",
    "    '/home/data/pacific_biosciences/bacteria/salmonella/enterica/NCTC92.fastq',\n",
    "    '/home/data/pacific_biosciences/bacteria/salmonella/enterica/NCTC129.fastq',\n",
    "    '/home/data/pacific_biosciences/bacteria/klebsiela/pneumoniae/NCTC204.fastq'\n",
    "]\n",
    "assembly_paths = [\n",
    "    '/home/diplomski-rad/blade/pb/escherichia-coli-NCTC86/iter2.fasta',\n",
    "    '/home/diplomski-rad/blade/pb/morganela-morgani-NCTC235/iter2.fasta',\n",
    "    '/home/diplomski-rad/blade/pb/salmonella-enterica-NCTC92/iter2.fasta',\n",
    "    '/home/diplomski-rad/blade/pb/salmonella-enterica-NCTC129/iter2.fasta',\n",
    "    '/home/diplomski-rad/blade/pb/klebsiela-pneumoniae-NCTC204-BROKEN/iter2.fasta'\n",
    "]\n",
    "reference_paths = [\n",
    "    '/home/data/pacific_biosciences/bacteria/escherichia/coli/escherichia_coli_reference.fasta',\n",
    "    '/home/data/pacific_biosciences/bacteria/morganella/morgani/morganella_morganii_reference.fasta',\n",
    "    '/home/data/pacific_biosciences/bacteria/salmonella/enterica/salmonella_enterica_reference.fasta',\n",
    "    '/home/data/pacific_biosciences/bacteria/salmonella/enterica/salmonella_enterica_reference.fasta',\n",
    "    '/home/data/pacific_biosciences/bacteria/klebsiela/pneumoniae/klebsiella_pneumoniae_reference.fasta'\n",
    "]\n",
    "sam_file_paths = [\n",
    "    '/home/diplomski-rad/blade/pb/escherichia-coli-NCTC86/reads-to-asm.sam',\n",
    "    '/home/diplomski-rad/blade/pb/morganela-morgani-NCTC235/reads-to-asm.sam',\n",
    "    '/home/diplomski-rad/blade/pb/salmonella-enterica-NCTC92/reads-to-asm.sam',\n",
    "    '/home/diplomski-rad/blade/pb/salmonella-enterica-NCTC129/reads-to-asm.sam',\n",
    "    '/home/diplomski-rad/blade/pb/klebsiela-pneumoniae-NCTC204-BROKEN/reads-to-asm.sam'\n",
    "]\n",
    "neighbourhood_size = 20\n",
    "output_dirs = [\n",
    "    './e-coli-NCTC86-all-contigs-n20-model-11-racon-hax',\n",
    "    './m-morgani-NCTC235-all-contigs-n20-model-11-racon-hax',\n",
    "    './s-enterica-NCTC92-all-contigs-n20-model-11-racon-hax',\n",
    "    './s-enterica-NCTC129-all-contigs-n20-model-11-racon-hax',\n",
    "    './k-pneumoniae-NCTC204-all-contigs-n20-model-11-racon-hax'\n",
    "]\n",
    "tools_dir = '/home/diplomski-rad/'\n",
    "racon_hax_output_dir = './racon-hax-tmp'\n",
    "num_threads = 12\n",
    "\n",
    "for reads_path, assembly_path, reference_path, sam_file_path, output_dir in \\\n",
    "    zip(reads_paths, assembly_paths, reference_paths, sam_file_paths, output_dirs):\n",
    "    \n",
    "    pileup_generator = pileups.RaconMSAGenerator(\n",
    "        reads_path,\n",
    "        sam_file_path,\n",
    "        assembly_path,\n",
    "        mode='inference',\n",
    "        tools_dir=tools_dir,\n",
    "        racon_hax_output_dir=racon_hax_output_dir,\n",
    "        num_threads=num_threads\n",
    "    )\n",
    "    \n",
    "    inference.make_consensus(\n",
    "        model_path, \n",
    "        reference_path,\n",
    "        pileup_generator,\n",
    "        neighbourhood_size,\n",
    "        output_dir,\n",
    "        tools_dir)"
   ]
  },
  {
   "cell_type": "markdown",
   "metadata": {},
   "source": [
    "## n-20 model-7 racon-hax"
   ]
  },
  {
   "cell_type": "code",
   "execution_count": 3,
   "metadata": {},
   "outputs": [
    {
     "name": "stdout",
     "output_type": "stream",
     "text": [
      "----> Create pileups from assembly. <----\n"
     ]
    },
    {
     "name": "stderr",
     "output_type": "stream",
     "text": [
      "100% (9647260 of 9647260) |##############| Elapsed Time: 0:03:58 Time:  0:03:58\n"
     ]
    },
    {
     "name": "stdout",
     "output_type": "stream",
     "text": [
      "----> Create dataset with neighbourhood from pileups. <----\n",
      "Parsing pileup pair 0\n"
     ]
    },
    {
     "name": "stderr",
     "output_type": "stream",
     "text": [
      "  0% (3819 of 9647260) |                 | Elapsed Time: 0:00:00 ETA:   0:08:25"
     ]
    },
    {
     "name": "stdout",
     "output_type": "stream",
     "text": [
      "Creating dataset with neighbourhood ...\n"
     ]
    },
    {
     "name": "stderr",
     "output_type": "stream",
     "text": [
      "100% (9647260 of 9647260) |##############| Elapsed Time: 0:08:24 Time:  0:08:24\n",
      "  0% (4671 of 9647220) |                 | Elapsed Time: 0:00:00 ETA:   0:06:53"
     ]
    },
    {
     "name": "stdout",
     "output_type": "stream",
     "text": [
      "----> Reshape dataset for convolutional network. <----\n",
      "X shape before reshaping: (9647220, 41, 5)\n",
      "y shape before reshaping: (9647220, 6)\n"
     ]
    },
    {
     "name": "stderr",
     "output_type": "stream",
     "text": [
      "100% (9647220 of 9647220) |##############| Elapsed Time: 0:07:37 Time:  0:07:37\n"
     ]
    },
    {
     "name": "stdout",
     "output_type": "stream",
     "text": [
      "X shape after reshaping: (9647220, 41, 1, 5)\n",
      "y shape after reshaping: (9647220, 6)\n",
      "----> Load model and make predictions (consensus). <----\n",
      "----> Create consensus summary. <----\n",
      "----> Create pileups from assembly. <----\n"
     ]
    },
    {
     "name": "stderr",
     "output_type": "stream",
     "text": [
      "100% (6947852 of 6947852) |##############| Elapsed Time: 0:02:58 Time:  0:02:58\n"
     ]
    },
    {
     "name": "stdout",
     "output_type": "stream",
     "text": [
      "----> Create dataset with neighbourhood from pileups. <----\n",
      "Parsing pileup pair 0\n"
     ]
    },
    {
     "name": "stderr",
     "output_type": "stream",
     "text": [
      "  0% (3832 of 3961596) |                 | Elapsed Time: 0:00:00 ETA:   0:03:26"
     ]
    },
    {
     "name": "stdout",
     "output_type": "stream",
     "text": [
      "Creating dataset with neighbourhood ...\n"
     ]
    },
    {
     "name": "stderr",
     "output_type": "stream",
     "text": [
      "100% (3961596 of 3961596) |##############| Elapsed Time: 0:03:29 Time:  0:03:29\n"
     ]
    },
    {
     "name": "stdout",
     "output_type": "stream",
     "text": [
      "Parsing pileup pair 1\n"
     ]
    },
    {
     "name": "stderr",
     "output_type": "stream",
     "text": [
      "  0% (3758 of 2986256) |                 | Elapsed Time: 0:00:00 ETA:   0:02:38"
     ]
    },
    {
     "name": "stdout",
     "output_type": "stream",
     "text": [
      "Creating dataset with neighbourhood ...\n"
     ]
    },
    {
     "name": "stderr",
     "output_type": "stream",
     "text": [
      "100% (2986256 of 2986256) |##############| Elapsed Time: 0:02:38 Time:  0:02:38\n",
      "  0% (2280 of 3961554) |                 | Elapsed Time: 0:00:00 ETA:   0:02:53"
     ]
    },
    {
     "name": "stdout",
     "output_type": "stream",
     "text": [
      "----> Reshape dataset for convolutional network. <----\n",
      "X shape before reshaping: (3961554, 41, 5)\n",
      "y shape before reshaping: (3961554, 6)\n"
     ]
    },
    {
     "name": "stderr",
     "output_type": "stream",
     "text": [
      "100% (3961554 of 3961554) |##############| Elapsed Time: 0:03:06 Time:  0:03:06\n",
      "  0% (2304 of 2986216) |                 | Elapsed Time: 0:00:00 ETA:   0:02:09"
     ]
    },
    {
     "name": "stdout",
     "output_type": "stream",
     "text": [
      "X shape after reshaping: (3961554, 41, 1, 5)\n",
      "y shape after reshaping: (3961554, 6)\n",
      "X shape before reshaping: (2986216, 41, 5)\n",
      "y shape before reshaping: (2986216, 6)\n"
     ]
    },
    {
     "name": "stderr",
     "output_type": "stream",
     "text": [
      "100% (2986216 of 2986216) |##############| Elapsed Time: 0:02:19 Time:  0:02:19\n"
     ]
    },
    {
     "name": "stdout",
     "output_type": "stream",
     "text": [
      "X shape after reshaping: (2986216, 41, 1, 5)\n",
      "y shape after reshaping: (2986216, 6)\n",
      "----> Load model and make predictions (consensus). <----\n",
      "----> Create consensus summary. <----\n",
      "----> Create pileups from assembly. <----\n"
     ]
    },
    {
     "name": "stderr",
     "output_type": "stream",
     "text": [
      "100% (9238925 of 9238925) |##############| Elapsed Time: 0:03:42 Time:  0:03:42\n"
     ]
    },
    {
     "name": "stdout",
     "output_type": "stream",
     "text": [
      "----> Create dataset with neighbourhood from pileups. <----\n",
      "Parsing pileup pair 0\n"
     ]
    },
    {
     "name": "stderr",
     "output_type": "stream",
     "text": [
      "  0% (3873 of 9234019) |                 | Elapsed Time: 0:00:00 ETA:   0:07:57"
     ]
    },
    {
     "name": "stdout",
     "output_type": "stream",
     "text": [
      "Creating dataset with neighbourhood ...\n"
     ]
    },
    {
     "name": "stderr",
     "output_type": "stream",
     "text": [
      "100% (9234019 of 9234019) |##############| Elapsed Time: 0:08:00 Time:  0:08:00\n",
      " 64% (3168 of 4906) |############        | Elapsed Time: 0:00:00 ETA:   0:00:00"
     ]
    },
    {
     "name": "stdout",
     "output_type": "stream",
     "text": [
      "Parsing pileup pair 1\n",
      "Creating dataset with neighbourhood ...\n"
     ]
    },
    {
     "name": "stderr",
     "output_type": "stream",
     "text": [
      "100% (4906 of 4906) |####################| Elapsed Time: 0:00:00 Time:  0:00:00\n",
      "  0% (2342 of 9233979) |                 | Elapsed Time: 0:00:00 ETA:   0:06:34"
     ]
    },
    {
     "name": "stdout",
     "output_type": "stream",
     "text": [
      "----> Reshape dataset for convolutional network. <----\n",
      "X shape before reshaping: (9233979, 41, 5)\n",
      "y shape before reshaping: (9233979, 6)\n"
     ]
    },
    {
     "name": "stderr",
     "output_type": "stream",
     "text": [
      "100% (9233979 of 9233979) |##############| Elapsed Time: 0:07:23 Time:  0:07:23\n",
      " 77% (3758 of 4866) |###############     | Elapsed Time: 0:00:00 ETA:   0:00:00"
     ]
    },
    {
     "name": "stdout",
     "output_type": "stream",
     "text": [
      "X shape after reshaping: (9233979, 41, 1, 5)\n",
      "y shape after reshaping: (9233979, 6)\n",
      "X shape before reshaping: (4866, 41, 5)\n",
      "y shape before reshaping: (4866, 6)\n"
     ]
    },
    {
     "name": "stderr",
     "output_type": "stream",
     "text": [
      "100% (4866 of 4866) |####################| Elapsed Time: 0:00:00 Time:  0:00:00\n"
     ]
    },
    {
     "name": "stdout",
     "output_type": "stream",
     "text": [
      "X shape after reshaping: (4866, 41, 1, 5)\n",
      "y shape after reshaping: (4866, 6)\n",
      "----> Load model and make predictions (consensus). <----\n",
      "----> Create consensus summary. <----\n",
      "----> Create pileups from assembly. <----\n"
     ]
    },
    {
     "name": "stderr",
     "output_type": "stream",
     "text": [
      "100% (8766521 of 8766521) |##############| Elapsed Time: 0:04:04 Time:  0:04:04\n"
     ]
    },
    {
     "name": "stdout",
     "output_type": "stream",
     "text": [
      "----> Create dataset with neighbourhood from pileups. <----\n",
      "Parsing pileup pair 0\n"
     ]
    },
    {
     "name": "stderr",
     "output_type": "stream",
     "text": [
      "  0% (3648 of 8672288) |                 | Elapsed Time: 0:00:00 ETA:   0:07:56"
     ]
    },
    {
     "name": "stdout",
     "output_type": "stream",
     "text": [
      "Creating dataset with neighbourhood ...\n"
     ]
    },
    {
     "name": "stderr",
     "output_type": "stream",
     "text": [
      "100% (8672288 of 8672288) |##############| Elapsed Time: 0:07:30 Time:  0:07:30\n",
      "  2% (1553 of 61321) |                   | Elapsed Time: 0:00:00 ETA:  00:00:00"
     ]
    },
    {
     "name": "stdout",
     "output_type": "stream",
     "text": [
      "Parsing pileup pair 1\n",
      "Creating dataset with neighbourhood ...\n"
     ]
    },
    {
     "name": "stderr",
     "output_type": "stream",
     "text": [
      "100% (61321 of 61321) |##################| Elapsed Time: 0:00:03 Time:  0:00:03\n",
      " 11% (3750 of 32912) |##                 | Elapsed Time: 0:00:00 ETA:   0:00:01"
     ]
    },
    {
     "name": "stdout",
     "output_type": "stream",
     "text": [
      "Parsing pileup pair 2\n",
      "Creating dataset with neighbourhood ...\n"
     ]
    },
    {
     "name": "stderr",
     "output_type": "stream",
     "text": [
      "100% (32912 of 32912) |##################| Elapsed Time: 0:00:01 Time:  0:00:01\n",
      "  0% (2377 of 8672248) |                 | Elapsed Time: 0:00:00 ETA:   0:06:05"
     ]
    },
    {
     "name": "stdout",
     "output_type": "stream",
     "text": [
      "----> Reshape dataset for convolutional network. <----\n",
      "X shape before reshaping: (8672248, 41, 5)\n",
      "y shape before reshaping: (8672248, 6)\n"
     ]
    },
    {
     "name": "stderr",
     "output_type": "stream",
     "text": [
      "100% (8672248 of 8672248) |##############| Elapsed Time: 0:06:52 Time:  0:06:52\n",
      "  7% (4655 of 61281) |#                  | Elapsed Time: 0:00:00 ETA:   0:00:02"
     ]
    },
    {
     "name": "stdout",
     "output_type": "stream",
     "text": [
      "X shape after reshaping: (8672248, 41, 1, 5)\n",
      "y shape after reshaping: (8672248, 6)\n",
      "X shape before reshaping: (61281, 41, 5)\n",
      "y shape before reshaping: (61281, 6)\n"
     ]
    },
    {
     "name": "stderr",
     "output_type": "stream",
     "text": [
      "100% (61281 of 61281) |##################| Elapsed Time: 0:00:02 Time:  0:00:02\n",
      " 12% (4162 of 32872) |##                 | Elapsed Time: 0:00:00 ETA:   0:00:01"
     ]
    },
    {
     "name": "stdout",
     "output_type": "stream",
     "text": [
      "X shape after reshaping: (61281, 41, 1, 5)\n",
      "y shape after reshaping: (61281, 6)\n",
      "X shape before reshaping: (32872, 41, 5)\n",
      "y shape before reshaping: (32872, 6)\n"
     ]
    },
    {
     "name": "stderr",
     "output_type": "stream",
     "text": [
      "100% (32872 of 32872) |##################| Elapsed Time: 0:00:01 Time:  0:00:01\n"
     ]
    },
    {
     "name": "stdout",
     "output_type": "stream",
     "text": [
      "X shape after reshaping: (32872, 41, 1, 5)\n",
      "y shape after reshaping: (32872, 6)\n",
      "----> Load model and make predictions (consensus). <----\n",
      "----> Create consensus summary. <----\n",
      "----> Create pileups from assembly. <----\n"
     ]
    },
    {
     "name": "stderr",
     "output_type": "stream",
     "text": [
      "100% (8634561 of 8634561) |##############| Elapsed Time: 0:03:31 Time:  0:03:31\n"
     ]
    },
    {
     "name": "stdout",
     "output_type": "stream",
     "text": [
      "----> Create dataset with neighbourhood from pileups. <----\n",
      "Parsing pileup pair 0\n"
     ]
    },
    {
     "name": "stderr",
     "output_type": "stream",
     "text": [
      "  0% (3802 of 8196116) |                 | Elapsed Time: 0:00:00 ETA:   0:07:11"
     ]
    },
    {
     "name": "stdout",
     "output_type": "stream",
     "text": [
      "Creating dataset with neighbourhood ...\n"
     ]
    },
    {
     "name": "stderr",
     "output_type": "stream",
     "text": [
      "100% (8196116 of 8196116) |##############| Elapsed Time: 0:07:09 Time:  0:07:09\n",
      "N/A% (0 of 223237) |                     | Elapsed Time: 0:00:00 ETA:  --:--:--"
     ]
    },
    {
     "name": "stdout",
     "output_type": "stream",
     "text": [
      "Parsing pileup pair 1\n",
      "Creating dataset with neighbourhood ...\n"
     ]
    },
    {
     "name": "stderr",
     "output_type": "stream",
     "text": [
      "100% (223237 of 223237) |################| Elapsed Time: 0:00:11 Time:  0:00:11\n",
      "N/A% (0 of 193969) |                     | Elapsed Time: 0:00:00 ETA:  --:--:--"
     ]
    },
    {
     "name": "stdout",
     "output_type": "stream",
     "text": [
      "Parsing pileup pair 2\n",
      "Creating dataset with neighbourhood ...\n"
     ]
    },
    {
     "name": "stderr",
     "output_type": "stream",
     "text": [
      "100% (193969 of 193969) |################| Elapsed Time: 0:00:09 Time:  0:00:09\n",
      " 20% (4302 of 21239) |###                | Elapsed Time: 0:00:00 ETA:   0:00:00"
     ]
    },
    {
     "name": "stdout",
     "output_type": "stream",
     "text": [
      "Parsing pileup pair 3\n",
      "Creating dataset with neighbourhood ...\n"
     ]
    },
    {
     "name": "stderr",
     "output_type": "stream",
     "text": [
      "100% (21239 of 21239) |##################| Elapsed Time: 0:00:01 Time:  0:00:01\n",
      "  0% (2312 of 8196076) |                 | Elapsed Time: 0:00:00 ETA:   0:05:54"
     ]
    },
    {
     "name": "stdout",
     "output_type": "stream",
     "text": [
      "----> Reshape dataset for convolutional network. <----\n",
      "X shape before reshaping: (8196076, 41, 5)\n",
      "y shape before reshaping: (8196076, 6)\n"
     ]
    },
    {
     "name": "stderr",
     "output_type": "stream",
     "text": [
      "100% (8196076 of 8196076) |##############| Elapsed Time: 0:06:32 Time:  0:06:32\n",
      "  1% (2326 of 223197) |                  | Elapsed Time: 0:00:00 ETA:   0:00:09"
     ]
    },
    {
     "name": "stdout",
     "output_type": "stream",
     "text": [
      "X shape after reshaping: (8196076, 41, 1, 5)\n",
      "y shape after reshaping: (8196076, 6)\n",
      "X shape before reshaping: (223197, 41, 5)\n",
      "y shape before reshaping: (223197, 6)\n"
     ]
    },
    {
     "name": "stderr",
     "output_type": "stream",
     "text": [
      "100% (223197 of 223197) |################| Elapsed Time: 0:00:10 Time:  0:00:10\n",
      "  2% (4613 of 193929) |                  | Elapsed Time: 0:00:00 ETA:   0:00:08"
     ]
    },
    {
     "name": "stdout",
     "output_type": "stream",
     "text": [
      "X shape after reshaping: (223197, 41, 1, 5)\n",
      "y shape after reshaping: (223197, 6)\n",
      "X shape before reshaping: (193929, 41, 5)\n",
      "y shape before reshaping: (193929, 6)\n"
     ]
    },
    {
     "name": "stderr",
     "output_type": "stream",
     "text": [
      "100% (193929 of 193929) |################| Elapsed Time: 0:00:08 Time:  0:00:08\n",
      " 18% (4026 of 21199) |###                | Elapsed Time: 0:00:00 ETA:   0:00:00"
     ]
    },
    {
     "name": "stdout",
     "output_type": "stream",
     "text": [
      "X shape after reshaping: (193929, 41, 1, 5)\n",
      "y shape after reshaping: (193929, 6)\n",
      "X shape before reshaping: (21199, 41, 5)\n",
      "y shape before reshaping: (21199, 6)\n"
     ]
    },
    {
     "name": "stderr",
     "output_type": "stream",
     "text": [
      "100% (21199 of 21199) |##################| Elapsed Time: 0:00:00 Time:  0:00:00\n"
     ]
    },
    {
     "name": "stdout",
     "output_type": "stream",
     "text": [
      "X shape after reshaping: (21199, 41, 1, 5)\n",
      "y shape after reshaping: (21199, 6)\n",
      "----> Load model and make predictions (consensus). <----\n",
      "----> Create consensus summary. <----\n"
     ]
    }
   ],
   "source": [
    "model_path = '/home/diplomski-rad/blade/pb/datasets/n20-racon-hax/model-7.h5'\n",
    "reads_paths = [\n",
    "    '/home/data/pacific_biosciences/bacteria/escherichia/coli/NCTC86.fastq',\n",
    "    '/home/data/pacific_biosciences/bacteria/morganella/morgani/NCTC235.fastq',\n",
    "    '/home/data/pacific_biosciences/bacteria/salmonella/enterica/NCTC92.fastq',\n",
    "    '/home/data/pacific_biosciences/bacteria/salmonella/enterica/NCTC129.fastq',\n",
    "    '/home/data/pacific_biosciences/bacteria/klebsiela/pneumoniae/NCTC204.fastq'\n",
    "]\n",
    "assembly_paths = [\n",
    "    '/home/diplomski-rad/blade/pb/escherichia-coli-NCTC86/iter2.fasta',\n",
    "    '/home/diplomski-rad/blade/pb/morganela-morgani-NCTC235/iter2.fasta',\n",
    "    '/home/diplomski-rad/blade/pb/salmonella-enterica-NCTC92/iter2.fasta',\n",
    "    '/home/diplomski-rad/blade/pb/salmonella-enterica-NCTC129/iter2.fasta',\n",
    "    '/home/diplomski-rad/blade/pb/klebsiela-pneumoniae-NCTC204-BROKEN/iter2.fasta'\n",
    "]\n",
    "reference_paths = [\n",
    "    '/home/data/pacific_biosciences/bacteria/escherichia/coli/escherichia_coli_reference.fasta',\n",
    "    '/home/data/pacific_biosciences/bacteria/morganella/morgani/morganella_morganii_reference.fasta',\n",
    "    '/home/data/pacific_biosciences/bacteria/salmonella/enterica/salmonella_enterica_reference.fasta',\n",
    "    '/home/data/pacific_biosciences/bacteria/salmonella/enterica/salmonella_enterica_reference.fasta',\n",
    "    '/home/data/pacific_biosciences/bacteria/klebsiela/pneumoniae/klebsiella_pneumoniae_reference.fasta'\n",
    "]\n",
    "sam_file_paths = [\n",
    "    '/home/diplomski-rad/blade/pb/escherichia-coli-NCTC86/reads-to-asm.sam',\n",
    "    '/home/diplomski-rad/blade/pb/morganela-morgani-NCTC235/reads-to-asm.sam',\n",
    "    '/home/diplomski-rad/blade/pb/salmonella-enterica-NCTC92/reads-to-asm.sam',\n",
    "    '/home/diplomski-rad/blade/pb/salmonella-enterica-NCTC129/reads-to-asm.sam',\n",
    "    '/home/diplomski-rad/blade/pb/klebsiela-pneumoniae-NCTC204-BROKEN/reads-to-asm.sam'\n",
    "]\n",
    "neighbourhood_size = 20\n",
    "output_dirs = [\n",
    "    './e-coli-NCTC86-all-contigs-n20-model-7-racon-hax',\n",
    "    './m-morgani-NCTC235-all-contigs-n20-model-7-racon-hax',\n",
    "    './s-enterica-NCTC92-all-contigs-n20-model-7-racon-hax',\n",
    "    './s-enterica-NCTC129-all-contigs-n20-model-7-racon-hax',\n",
    "    './k-pneumoniae-NCTC204-all-contigs-n20-model-7-racon-hax'\n",
    "]\n",
    "tools_dir = '/home/diplomski-rad/'\n",
    "racon_hax_output_dir = './racon-hax-tmp'\n",
    "num_threads = 12\n",
    "\n",
    "for reads_path, assembly_path, reference_path, sam_file_path, output_dir in \\\n",
    "    zip(reads_paths, assembly_paths, reference_paths, sam_file_paths, output_dirs):\n",
    "    \n",
    "    pileup_generator = pileups.RaconMSAGenerator(\n",
    "        reads_path,\n",
    "        sam_file_path,\n",
    "        assembly_path,\n",
    "        mode='inference',\n",
    "        tools_dir=tools_dir,\n",
    "        racon_hax_output_dir=racon_hax_output_dir,\n",
    "        num_threads=num_threads\n",
    "    )\n",
    "    \n",
    "    inference.make_consensus(\n",
    "        model_path, \n",
    "        reference_path,\n",
    "        pileup_generator,\n",
    "        neighbourhood_size,\n",
    "        output_dir,\n",
    "        tools_dir)"
   ]
  },
  {
   "cell_type": "markdown",
   "metadata": {},
   "source": [
    "## n-15 model-11 racon-hax"
   ]
  },
  {
   "cell_type": "code",
   "execution_count": 3,
   "metadata": {},
   "outputs": [
    {
     "name": "stdout",
     "output_type": "stream",
     "text": [
      "----> Create pileups from assembly. <----\n"
     ]
    },
    {
     "name": "stderr",
     "output_type": "stream",
     "text": [
      "100% (9647260 of 9647260) |##############| Elapsed Time: 0:03:38 Time:  0:03:38\n"
     ]
    },
    {
     "name": "stdout",
     "output_type": "stream",
     "text": [
      "----> Create dataset with neighbourhood from pileups. <----\n",
      "Parsing pileup pair 0\n"
     ]
    },
    {
     "name": "stderr",
     "output_type": "stream",
     "text": [
      "  0% (4063 of 9647260) |                 | Elapsed Time: 0:00:00 ETA:   0:07:55"
     ]
    },
    {
     "name": "stdout",
     "output_type": "stream",
     "text": [
      "Creating dataset with neighbourhood ...\n"
     ]
    },
    {
     "name": "stderr",
     "output_type": "stream",
     "text": [
      "100% (9647260 of 9647260) |##############| Elapsed Time: 0:07:48 Time:  0:07:48\n",
      "  0% (2087 of 9647230) |                 | Elapsed Time: 0:00:00 ETA:   0:07:42"
     ]
    },
    {
     "name": "stdout",
     "output_type": "stream",
     "text": [
      "----> Reshape dataset for convolutional network. <----\n",
      "X shape before reshaping: (9647230, 31, 5)\n",
      "y shape before reshaping: (9647230, 6)\n"
     ]
    },
    {
     "name": "stderr",
     "output_type": "stream",
     "text": [
      "100% (9647230 of 9647230) |##############| Elapsed Time: 0:06:39 Time:  0:06:39\n"
     ]
    },
    {
     "name": "stdout",
     "output_type": "stream",
     "text": [
      "X shape after reshaping: (9647230, 31, 1, 5)\n",
      "y shape after reshaping: (9647230, 6)\n",
      "----> Load model and make predictions (consensus). <----\n",
      "----> Create consensus summary. <----\n",
      "----> Create pileups from assembly. <----\n"
     ]
    },
    {
     "name": "stderr",
     "output_type": "stream",
     "text": [
      "100% (6947852 of 6947852) |##############| Elapsed Time: 0:02:55 Time:  0:02:55\n"
     ]
    },
    {
     "name": "stdout",
     "output_type": "stream",
     "text": [
      "----> Create dataset with neighbourhood from pileups. <----\n",
      "Parsing pileup pair 0\n"
     ]
    },
    {
     "name": "stderr",
     "output_type": "stream",
     "text": [
      "  0% (3875 of 3961596) |                 | Elapsed Time: 0:00:00 ETA:   0:03:24"
     ]
    },
    {
     "name": "stdout",
     "output_type": "stream",
     "text": [
      "Creating dataset with neighbourhood ...\n"
     ]
    },
    {
     "name": "stderr",
     "output_type": "stream",
     "text": [
      "100% (3961596 of 3961596) |##############| Elapsed Time: 0:03:25 Time:  0:03:25\n"
     ]
    },
    {
     "name": "stdout",
     "output_type": "stream",
     "text": [
      "Parsing pileup pair 1\n"
     ]
    },
    {
     "name": "stderr",
     "output_type": "stream",
     "text": [
      "  0% (3921 of 2986256) |                 | Elapsed Time: 0:00:00 ETA:   0:02:32"
     ]
    },
    {
     "name": "stdout",
     "output_type": "stream",
     "text": [
      "Creating dataset with neighbourhood ...\n"
     ]
    },
    {
     "name": "stderr",
     "output_type": "stream",
     "text": [
      "100% (2986256 of 2986256) |##############| Elapsed Time: 0:02:33 Time:  0:02:33\n",
      "  0% (4590 of 3961564) |                 | Elapsed Time: 0:00:00 ETA:   0:02:52"
     ]
    },
    {
     "name": "stdout",
     "output_type": "stream",
     "text": [
      "----> Reshape dataset for convolutional network. <----\n",
      "X shape before reshaping: (3961564, 31, 5)\n",
      "y shape before reshaping: (3961564, 6)\n"
     ]
    },
    {
     "name": "stderr",
     "output_type": "stream",
     "text": [
      "100% (3961564 of 3961564) |##############| Elapsed Time: 0:02:55 Time:  0:02:55\n",
      "  0% (4604 of 2986226) |                 | Elapsed Time: 0:00:00 ETA:   0:02:09"
     ]
    },
    {
     "name": "stdout",
     "output_type": "stream",
     "text": [
      "X shape after reshaping: (3961564, 31, 1, 5)\n",
      "y shape after reshaping: (3961564, 6)\n",
      "X shape before reshaping: (2986226, 31, 5)\n",
      "y shape before reshaping: (2986226, 6)\n"
     ]
    },
    {
     "name": "stderr",
     "output_type": "stream",
     "text": [
      "100% (2986226 of 2986226) |##############| Elapsed Time: 0:02:14 Time:  0:02:14\n"
     ]
    },
    {
     "name": "stdout",
     "output_type": "stream",
     "text": [
      "X shape after reshaping: (2986226, 31, 1, 5)\n",
      "y shape after reshaping: (2986226, 6)\n",
      "----> Load model and make predictions (consensus). <----\n",
      "----> Create consensus summary. <----\n",
      "----> Create pileups from assembly. <----\n"
     ]
    },
    {
     "name": "stderr",
     "output_type": "stream",
     "text": [
      "100% (9238925 of 9238925) |##############| Elapsed Time: 0:03:55 Time:  0:03:55\n"
     ]
    },
    {
     "name": "stdout",
     "output_type": "stream",
     "text": [
      "----> Create dataset with neighbourhood from pileups. <----\n",
      "Parsing pileup pair 0\n"
     ]
    },
    {
     "name": "stderr",
     "output_type": "stream",
     "text": [
      "  0% (3718 of 9234019) |                 | Elapsed Time: 0:00:00 ETA:   0:08:18"
     ]
    },
    {
     "name": "stdout",
     "output_type": "stream",
     "text": [
      "Creating dataset with neighbourhood ...\n"
     ]
    },
    {
     "name": "stderr",
     "output_type": "stream",
     "text": [
      "100% (9234019 of 9234019) |##############| Elapsed Time: 0:07:56 Time:  0:07:56\n",
      " 64% (3168 of 4906) |############        | Elapsed Time: 0:00:00 ETA:   0:00:00"
     ]
    },
    {
     "name": "stdout",
     "output_type": "stream",
     "text": [
      "Parsing pileup pair 1\n",
      "Creating dataset with neighbourhood ...\n"
     ]
    },
    {
     "name": "stderr",
     "output_type": "stream",
     "text": [
      "100% (4906 of 4906) |####################| Elapsed Time: 0:00:00 Time:  0:00:00\n",
      "  0% (4764 of 9233989) |                 | Elapsed Time: 0:00:00 ETA:   0:06:27"
     ]
    },
    {
     "name": "stdout",
     "output_type": "stream",
     "text": [
      "----> Reshape dataset for convolutional network. <----\n",
      "X shape before reshaping: (9233989, 31, 5)\n",
      "y shape before reshaping: (9233989, 6)\n"
     ]
    },
    {
     "name": "stderr",
     "output_type": "stream",
     "text": [
      "100% (9233989 of 9233989) |##############| Elapsed Time: 0:06:57 Time:  0:06:57\n",
      "100% (4876 of 4876) |####################| Elapsed Time: 0:00:00 Time:  0:00:00\n"
     ]
    },
    {
     "name": "stdout",
     "output_type": "stream",
     "text": [
      "X shape after reshaping: (9233989, 31, 1, 5)\n",
      "y shape after reshaping: (9233989, 6)\n",
      "X shape before reshaping: (4876, 31, 5)\n",
      "y shape before reshaping: (4876, 6)\n",
      "X shape after reshaping: (4876, 31, 1, 5)\n",
      "y shape after reshaping: (4876, 6)\n",
      "----> Load model and make predictions (consensus). <----\n",
      "----> Create consensus summary. <----\n",
      "----> Create pileups from assembly. <----\n"
     ]
    },
    {
     "name": "stderr",
     "output_type": "stream",
     "text": [
      "100% (8766521 of 8766521) |##############| Elapsed Time: 0:03:59 Time:  0:03:59\n"
     ]
    },
    {
     "name": "stdout",
     "output_type": "stream",
     "text": [
      "----> Create dataset with neighbourhood from pileups. <----\n",
      "Parsing pileup pair 0\n"
     ]
    },
    {
     "name": "stderr",
     "output_type": "stream",
     "text": [
      "  0% (3887 of 8672288) |                 | Elapsed Time: 0:00:00 ETA:   0:07:26"
     ]
    },
    {
     "name": "stdout",
     "output_type": "stream",
     "text": [
      "Creating dataset with neighbourhood ...\n"
     ]
    },
    {
     "name": "stderr",
     "output_type": "stream",
     "text": [
      "100% (8672288 of 8672288) |##############| Elapsed Time: 0:07:26 Time:  0:07:26\n",
      "  2% (1553 of 61321) |                   | Elapsed Time: 0:00:00 ETA:  00:00:00"
     ]
    },
    {
     "name": "stdout",
     "output_type": "stream",
     "text": [
      "Parsing pileup pair 1\n",
      "Creating dataset with neighbourhood ...\n"
     ]
    },
    {
     "name": "stderr",
     "output_type": "stream",
     "text": [
      "100% (61321 of 61321) |##################| Elapsed Time: 0:00:03 Time:  0:00:03\n",
      "  7% (2500 of 32912) |#                  | Elapsed Time: 0:00:00 ETA:   0:00:01"
     ]
    },
    {
     "name": "stdout",
     "output_type": "stream",
     "text": [
      "Parsing pileup pair 2\n",
      "Creating dataset with neighbourhood ...\n"
     ]
    },
    {
     "name": "stderr",
     "output_type": "stream",
     "text": [
      "100% (32912 of 32912) |##################| Elapsed Time: 0:00:01 Time:  0:00:01\n",
      "  0% (2380 of 8672258) |                 | Elapsed Time: 0:00:00 ETA:   0:06:04"
     ]
    },
    {
     "name": "stdout",
     "output_type": "stream",
     "text": [
      "----> Reshape dataset for convolutional network. <----\n",
      "X shape before reshaping: (8672258, 31, 5)\n",
      "y shape before reshaping: (8672258, 6)\n"
     ]
    },
    {
     "name": "stderr",
     "output_type": "stream",
     "text": [
      "100% (8672258 of 8672258) |##############| Elapsed Time: 0:06:33 Time:  0:06:33\n",
      "  5% (3104 of 61291) |                   | Elapsed Time: 0:00:00 ETA:   0:00:02"
     ]
    },
    {
     "name": "stdout",
     "output_type": "stream",
     "text": [
      "X shape after reshaping: (8672258, 31, 1, 5)\n",
      "y shape after reshaping: (8672258, 6)\n",
      "X shape before reshaping: (61291, 31, 5)\n",
      "y shape before reshaping: (61291, 6)\n"
     ]
    },
    {
     "name": "stderr",
     "output_type": "stream",
     "text": [
      "100% (61291 of 61291) |##################| Elapsed Time: 0:00:02 Time:  0:00:02\n",
      " 11% (3747 of 32882) |##                 | Elapsed Time: 0:00:00 ETA:   0:00:01"
     ]
    },
    {
     "name": "stdout",
     "output_type": "stream",
     "text": [
      "X shape after reshaping: (61291, 31, 1, 5)\n",
      "y shape after reshaping: (61291, 6)\n",
      "X shape before reshaping: (32882, 31, 5)\n",
      "y shape before reshaping: (32882, 6)\n"
     ]
    },
    {
     "name": "stderr",
     "output_type": "stream",
     "text": [
      "100% (32882 of 32882) |##################| Elapsed Time: 0:00:01 Time:  0:00:01\n"
     ]
    },
    {
     "name": "stdout",
     "output_type": "stream",
     "text": [
      "X shape after reshaping: (32882, 31, 1, 5)\n",
      "y shape after reshaping: (32882, 6)\n",
      "----> Load model and make predictions (consensus). <----\n",
      "----> Create consensus summary. <----\n",
      "----> Create pileups from assembly. <----\n"
     ]
    },
    {
     "name": "stderr",
     "output_type": "stream",
     "text": [
      "100% (8634561 of 8634561) |##############| Elapsed Time: 0:03:46 Time:  0:03:46\n"
     ]
    },
    {
     "name": "stdout",
     "output_type": "stream",
     "text": [
      "----> Create dataset with neighbourhood from pileups. <----\n",
      "Parsing pileup pair 0\n"
     ]
    },
    {
     "name": "stderr",
     "output_type": "stream",
     "text": [
      "  0% (3943 of 8196116) |                 | Elapsed Time: 0:00:00 ETA:   0:06:56"
     ]
    },
    {
     "name": "stdout",
     "output_type": "stream",
     "text": [
      "Creating dataset with neighbourhood ...\n"
     ]
    },
    {
     "name": "stderr",
     "output_type": "stream",
     "text": [
      "100% (8196116 of 8196116) |##############| Elapsed Time: 0:07:03 Time:  0:07:03\n",
      "N/A% (0 of 223237) |                     | Elapsed Time: 0:00:00 ETA:  --:--:--"
     ]
    },
    {
     "name": "stdout",
     "output_type": "stream",
     "text": [
      "Parsing pileup pair 1\n",
      "Creating dataset with neighbourhood ...\n"
     ]
    },
    {
     "name": "stderr",
     "output_type": "stream",
     "text": [
      "100% (223237 of 223237) |################| Elapsed Time: 0:00:11 Time:  0:00:11\n",
      "N/A% (0 of 193969) |                     | Elapsed Time: 0:00:00 ETA:  --:--:--"
     ]
    },
    {
     "name": "stdout",
     "output_type": "stream",
     "text": [
      "Parsing pileup pair 2\n",
      "Creating dataset with neighbourhood ...\n"
     ]
    },
    {
     "name": "stderr",
     "output_type": "stream",
     "text": [
      "100% (193969 of 193969) |################| Elapsed Time: 0:00:09 Time:  0:00:09\n",
      " 20% (4302 of 21239) |###                | Elapsed Time: 0:00:00 ETA:   0:00:00"
     ]
    },
    {
     "name": "stdout",
     "output_type": "stream",
     "text": [
      "Parsing pileup pair 3\n",
      "Creating dataset with neighbourhood ...\n"
     ]
    },
    {
     "name": "stderr",
     "output_type": "stream",
     "text": [
      "100% (21239 of 21239) |##################| Elapsed Time: 0:00:01 Time:  0:00:01\n",
      "  0% (4734 of 8196086) |                 | Elapsed Time: 0:00:00 ETA:   0:05:46"
     ]
    },
    {
     "name": "stdout",
     "output_type": "stream",
     "text": [
      "----> Reshape dataset for convolutional network. <----\n",
      "X shape before reshaping: (8196086, 31, 5)\n",
      "y shape before reshaping: (8196086, 6)\n"
     ]
    },
    {
     "name": "stderr",
     "output_type": "stream",
     "text": [
      "100% (8196086 of 8196086) |##############| Elapsed Time: 0:06:13 Time:  0:06:13\n",
      "  1% (2354 of 223207) |                  | Elapsed Time: 0:00:00 ETA:   0:00:09"
     ]
    },
    {
     "name": "stdout",
     "output_type": "stream",
     "text": [
      "X shape after reshaping: (8196086, 31, 1, 5)\n",
      "y shape after reshaping: (8196086, 6)\n",
      "X shape before reshaping: (223207, 31, 5)\n",
      "y shape before reshaping: (223207, 6)\n"
     ]
    },
    {
     "name": "stderr",
     "output_type": "stream",
     "text": [
      "100% (223207 of 223207) |################| Elapsed Time: 0:00:09 Time:  0:00:09\n",
      "  2% (4739 of 193939) |                  | Elapsed Time: 0:00:00 ETA:   0:00:07"
     ]
    },
    {
     "name": "stdout",
     "output_type": "stream",
     "text": [
      "X shape after reshaping: (223207, 31, 1, 5)\n",
      "y shape after reshaping: (223207, 6)\n",
      "X shape before reshaping: (193939, 31, 5)\n",
      "y shape before reshaping: (193939, 6)\n"
     ]
    },
    {
     "name": "stderr",
     "output_type": "stream",
     "text": [
      "100% (193939 of 193939) |################| Elapsed Time: 0:00:08 Time:  0:00:08\n",
      " 18% (4028 of 21209) |###                | Elapsed Time: 0:00:00 ETA:   0:00:00"
     ]
    },
    {
     "name": "stdout",
     "output_type": "stream",
     "text": [
      "X shape after reshaping: (193939, 31, 1, 5)\n",
      "y shape after reshaping: (193939, 6)\n",
      "X shape before reshaping: (21209, 31, 5)\n",
      "y shape before reshaping: (21209, 6)\n"
     ]
    },
    {
     "name": "stderr",
     "output_type": "stream",
     "text": [
      "100% (21209 of 21209) |##################| Elapsed Time: 0:00:00 Time:  0:00:00\n"
     ]
    },
    {
     "name": "stdout",
     "output_type": "stream",
     "text": [
      "X shape after reshaping: (21209, 31, 1, 5)\n",
      "y shape after reshaping: (21209, 6)\n",
      "----> Load model and make predictions (consensus). <----\n",
      "----> Create consensus summary. <----\n"
     ]
    }
   ],
   "source": [
    "model_path = '/home/diplomski-rad/blade/pb/datasets/n15-racon-hax/model-11.h5'\n",
    "reads_paths = [\n",
    "    '/home/data/pacific_biosciences/bacteria/escherichia/coli/NCTC86.fastq',\n",
    "    '/home/data/pacific_biosciences/bacteria/morganella/morgani/NCTC235.fastq',\n",
    "    '/home/data/pacific_biosciences/bacteria/salmonella/enterica/NCTC92.fastq',\n",
    "    '/home/data/pacific_biosciences/bacteria/salmonella/enterica/NCTC129.fastq',\n",
    "    '/home/data/pacific_biosciences/bacteria/klebsiela/pneumoniae/NCTC204.fastq'\n",
    "]\n",
    "assembly_paths = [\n",
    "    '/home/diplomski-rad/blade/pb/escherichia-coli-NCTC86/iter2.fasta',\n",
    "    '/home/diplomski-rad/blade/pb/morganela-morgani-NCTC235/iter2.fasta',\n",
    "    '/home/diplomski-rad/blade/pb/salmonella-enterica-NCTC92/iter2.fasta',\n",
    "    '/home/diplomski-rad/blade/pb/salmonella-enterica-NCTC129/iter2.fasta',\n",
    "    '/home/diplomski-rad/blade/pb/klebsiela-pneumoniae-NCTC204-BROKEN/iter2.fasta'\n",
    "]\n",
    "reference_paths = [\n",
    "    '/home/data/pacific_biosciences/bacteria/escherichia/coli/escherichia_coli_reference.fasta',\n",
    "    '/home/data/pacific_biosciences/bacteria/morganella/morgani/morganella_morganii_reference.fasta',\n",
    "    '/home/data/pacific_biosciences/bacteria/salmonella/enterica/salmonella_enterica_reference.fasta',\n",
    "    '/home/data/pacific_biosciences/bacteria/salmonella/enterica/salmonella_enterica_reference.fasta',\n",
    "    '/home/data/pacific_biosciences/bacteria/klebsiela/pneumoniae/klebsiella_pneumoniae_reference.fasta'\n",
    "]\n",
    "sam_file_paths = [\n",
    "    '/home/diplomski-rad/blade/pb/escherichia-coli-NCTC86/reads-to-asm.sam',\n",
    "    '/home/diplomski-rad/blade/pb/morganela-morgani-NCTC235/reads-to-asm.sam',\n",
    "    '/home/diplomski-rad/blade/pb/salmonella-enterica-NCTC92/reads-to-asm.sam',\n",
    "    '/home/diplomski-rad/blade/pb/salmonella-enterica-NCTC129/reads-to-asm.sam',\n",
    "    '/home/diplomski-rad/blade/pb/klebsiela-pneumoniae-NCTC204-BROKEN/reads-to-asm.sam'\n",
    "]\n",
    "neighbourhood_size = 15\n",
    "output_dirs = [\n",
    "    './e-coli-NCTC86-all-contigs-n15-model-11-racon-hax',\n",
    "    './m-morgani-NCTC235-all-contigs-n15-model-11-racon-hax',\n",
    "    './s-enterica-NCTC92-all-contigs-n15-model-11-racon-hax',\n",
    "    './s-enterica-NCTC129-all-contigs-n15-model-11-racon-hax',\n",
    "    './k-pneumoniae-NCTC204-all-contigs-n15-model-11-racon-hax'\n",
    "]\n",
    "tools_dir = '/home/diplomski-rad/'\n",
    "racon_hax_output_dir = './racon-hax-tmp'\n",
    "num_threads = 12\n",
    "\n",
    "for reads_path, assembly_path, reference_path, sam_file_path, output_dir in \\\n",
    "    zip(reads_paths, assembly_paths, reference_paths, sam_file_paths, output_dirs):\n",
    "    \n",
    "    pileup_generator = pileups.RaconMSAGenerator(\n",
    "        reads_path,\n",
    "        sam_file_path,\n",
    "        assembly_path,\n",
    "        mode='inference',\n",
    "        tools_dir=tools_dir,\n",
    "        racon_hax_output_dir=racon_hax_output_dir,\n",
    "        num_threads=num_threads\n",
    "    )\n",
    "    \n",
    "    inference.make_consensus(\n",
    "        model_path, \n",
    "        reference_path,\n",
    "        pileup_generator,\n",
    "        neighbourhood_size,\n",
    "        output_dir,\n",
    "        tools_dir)"
   ]
  },
  {
   "cell_type": "markdown",
   "metadata": {},
   "source": [
    "## n-15 model-7 racon-hax"
   ]
  },
  {
   "cell_type": "code",
   "execution_count": 4,
   "metadata": {},
   "outputs": [
    {
     "name": "stdout",
     "output_type": "stream",
     "text": [
      "----> Create pileups from assembly. <----\n"
     ]
    },
    {
     "name": "stderr",
     "output_type": "stream",
     "text": [
      "100% (9647260 of 9647260) |##############| Elapsed Time: 0:04:03 Time:  0:04:03\n"
     ]
    },
    {
     "name": "stdout",
     "output_type": "stream",
     "text": [
      "----> Create dataset with neighbourhood from pileups. <----\n",
      "Parsing pileup pair 0\n"
     ]
    },
    {
     "name": "stderr",
     "output_type": "stream",
     "text": [
      "  0% (3562 of 9647260) |                 | Elapsed Time: 0:00:00 ETA:   0:09:02"
     ]
    },
    {
     "name": "stdout",
     "output_type": "stream",
     "text": [
      "Creating dataset with neighbourhood ...\n"
     ]
    },
    {
     "name": "stderr",
     "output_type": "stream",
     "text": [
      " 57% (5510959 of 9647260) |#######       | Elapsed Time: 0:04:50 ETA:   0:03:32IOPub message rate exceeded.\n",
      "The notebook server will temporarily stop sending output\n",
      "to the client in order to avoid crashing it.\n",
      "To change this limit, set the config variable\n",
      "`--NotebookApp.iopub_msg_rate_limit`.\n",
      "\n",
      "Current values:\n",
      "NotebookApp.iopub_msg_rate_limit=1000.0 (msgs/sec)\n",
      "NotebookApp.rate_limit_window=3.0 (secs)\n",
      "\n",
      "100% (9647260 of 9647260) |##############| Elapsed Time: 0:08:26 Time:  0:08:26\n",
      "  0% (4729 of 9647230) |                 | Elapsed Time: 0:00:00 ETA:   0:06:48"
     ]
    },
    {
     "name": "stdout",
     "output_type": "stream",
     "text": [
      "----> Reshape dataset for convolutional network. <----\n",
      "X shape before reshaping: (9647230, 31, 5)\n",
      "y shape before reshaping: (9647230, 6)\n"
     ]
    },
    {
     "name": "stderr",
     "output_type": "stream",
     "text": [
      "100% (9647230 of 9647230) |##############| Elapsed Time: 0:07:15 Time:  0:07:15\n"
     ]
    },
    {
     "name": "stdout",
     "output_type": "stream",
     "text": [
      "X shape after reshaping: (9647230, 31, 1, 5)\n",
      "y shape after reshaping: (9647230, 6)\n",
      "----> Load model and make predictions (consensus). <----\n",
      "----> Create consensus summary. <----\n",
      "----> Create pileups from assembly. <----\n"
     ]
    },
    {
     "name": "stderr",
     "output_type": "stream",
     "text": [
      "100% (6947852 of 6947852) |##############| Elapsed Time: 0:02:56 Time:  0:02:56\n"
     ]
    },
    {
     "name": "stdout",
     "output_type": "stream",
     "text": [
      "----> Create dataset with neighbourhood from pileups. <----\n",
      "Parsing pileup pair 0\n"
     ]
    },
    {
     "name": "stderr",
     "output_type": "stream",
     "text": [
      "  0% (3948 of 3961596) |                 | Elapsed Time: 0:00:00 ETA:   0:03:20"
     ]
    },
    {
     "name": "stdout",
     "output_type": "stream",
     "text": [
      "Creating dataset with neighbourhood ...\n"
     ]
    },
    {
     "name": "stderr",
     "output_type": "stream",
     "text": [
      "100% (3961596 of 3961596) |##############| Elapsed Time: 0:03:25 Time:  0:03:25\n"
     ]
    },
    {
     "name": "stdout",
     "output_type": "stream",
     "text": [
      "Parsing pileup pair 1\n"
     ]
    },
    {
     "name": "stderr",
     "output_type": "stream",
     "text": [
      "  0% (3971 of 2986256) |                 | Elapsed Time: 0:00:00 ETA:   0:02:30"
     ]
    },
    {
     "name": "stdout",
     "output_type": "stream",
     "text": [
      "Creating dataset with neighbourhood ...\n"
     ]
    },
    {
     "name": "stderr",
     "output_type": "stream",
     "text": [
      "100% (2986256 of 2986256) |##############| Elapsed Time: 0:02:35 Time:  0:02:35\n",
      "  0% (2335 of 3961564) |                 | Elapsed Time: 0:00:00 ETA:   0:02:49"
     ]
    },
    {
     "name": "stdout",
     "output_type": "stream",
     "text": [
      "----> Reshape dataset for convolutional network. <----\n",
      "X shape before reshaping: (3961564, 31, 5)\n",
      "y shape before reshaping: (3961564, 6)\n"
     ]
    },
    {
     "name": "stderr",
     "output_type": "stream",
     "text": [
      "100% (3961564 of 3961564) |##############| Elapsed Time: 0:02:59 Time:  0:02:59\n",
      "  0% (2388 of 2986226) |                 | Elapsed Time: 0:00:00 ETA:   0:02:05"
     ]
    },
    {
     "name": "stdout",
     "output_type": "stream",
     "text": [
      "X shape after reshaping: (3961564, 31, 1, 5)\n",
      "y shape after reshaping: (3961564, 6)\n",
      "X shape before reshaping: (2986226, 31, 5)\n",
      "y shape before reshaping: (2986226, 6)\n"
     ]
    },
    {
     "name": "stderr",
     "output_type": "stream",
     "text": [
      "100% (2986226 of 2986226) |##############| Elapsed Time: 0:02:14 Time:  0:02:14\n"
     ]
    },
    {
     "name": "stdout",
     "output_type": "stream",
     "text": [
      "X shape after reshaping: (2986226, 31, 1, 5)\n",
      "y shape after reshaping: (2986226, 6)\n",
      "----> Load model and make predictions (consensus). <----\n",
      "----> Create consensus summary. <----\n",
      "----> Create pileups from assembly. <----\n"
     ]
    },
    {
     "name": "stderr",
     "output_type": "stream",
     "text": [
      "100% (9238925 of 9238925) |##############| Elapsed Time: 0:03:45 Time:  0:03:45\n"
     ]
    },
    {
     "name": "stdout",
     "output_type": "stream",
     "text": [
      "----> Create dataset with neighbourhood from pileups. <----\n",
      "Parsing pileup pair 0\n"
     ]
    },
    {
     "name": "stderr",
     "output_type": "stream",
     "text": [
      "  0% (3911 of 9234019) |                 | Elapsed Time: 0:00:00 ETA:   0:07:52"
     ]
    },
    {
     "name": "stdout",
     "output_type": "stream",
     "text": [
      "Creating dataset with neighbourhood ...\n"
     ]
    },
    {
     "name": "stderr",
     "output_type": "stream",
     "text": [
      "100% (9234019 of 9234019) |##############| Elapsed Time: 0:07:59 Time:  0:07:59\n",
      " 60% (2981 of 4906) |############        | Elapsed Time: 0:00:00 ETA:   0:00:00"
     ]
    },
    {
     "name": "stdout",
     "output_type": "stream",
     "text": [
      "Parsing pileup pair 1\n",
      "Creating dataset with neighbourhood ...\n"
     ]
    },
    {
     "name": "stderr",
     "output_type": "stream",
     "text": [
      "100% (4906 of 4906) |####################| Elapsed Time: 0:00:00 Time:  0:00:00\n",
      "  0% (4394 of 9233989) |                 | Elapsed Time: 0:00:00 ETA:   0:07:00"
     ]
    },
    {
     "name": "stdout",
     "output_type": "stream",
     "text": [
      "----> Reshape dataset for convolutional network. <----\n",
      "X shape before reshaping: (9233989, 31, 5)\n",
      "y shape before reshaping: (9233989, 6)\n"
     ]
    },
    {
     "name": "stderr",
     "output_type": "stream",
     "text": [
      "100% (9233989 of 9233989) |##############| Elapsed Time: 0:06:59 Time:  0:06:59\n",
      "100% (4876 of 4876) |####################| Elapsed Time: 0:00:00 Time:  0:00:00\n"
     ]
    },
    {
     "name": "stdout",
     "output_type": "stream",
     "text": [
      "X shape after reshaping: (9233989, 31, 1, 5)\n",
      "y shape after reshaping: (9233989, 6)\n",
      "X shape before reshaping: (4876, 31, 5)\n",
      "y shape before reshaping: (4876, 6)\n",
      "X shape after reshaping: (4876, 31, 1, 5)\n",
      "y shape after reshaping: (4876, 6)\n",
      "----> Load model and make predictions (consensus). <----\n",
      "----> Create consensus summary. <----\n",
      "----> Create pileups from assembly. <----\n"
     ]
    },
    {
     "name": "stderr",
     "output_type": "stream",
     "text": [
      "100% (8766521 of 8766521) |##############| Elapsed Time: 0:04:00 Time:  0:04:00\n"
     ]
    },
    {
     "name": "stdout",
     "output_type": "stream",
     "text": [
      "----> Create dataset with neighbourhood from pileups. <----\n",
      "Parsing pileup pair 0\n"
     ]
    },
    {
     "name": "stderr",
     "output_type": "stream",
     "text": [
      "  0% (3929 of 8672288) |                 | Elapsed Time: 0:00:00 ETA:   0:07:21"
     ]
    },
    {
     "name": "stdout",
     "output_type": "stream",
     "text": [
      "Creating dataset with neighbourhood ...\n"
     ]
    },
    {
     "name": "stderr",
     "output_type": "stream",
     "text": [
      "100% (8672288 of 8672288) |##############| Elapsed Time: 0:07:29 Time:  0:07:29\n",
      "  2% (1553 of 61321) |                   | Elapsed Time: 0:00:00 ETA:  00:00:00"
     ]
    },
    {
     "name": "stdout",
     "output_type": "stream",
     "text": [
      "Parsing pileup pair 1\n",
      "Creating dataset with neighbourhood ...\n"
     ]
    },
    {
     "name": "stderr",
     "output_type": "stream",
     "text": [
      "100% (61321 of 61321) |##################| Elapsed Time: 0:00:03 Time:  0:00:03\n",
      " 11% (3750 of 32912) |##                 | Elapsed Time: 0:00:00 ETA:   0:00:01"
     ]
    },
    {
     "name": "stdout",
     "output_type": "stream",
     "text": [
      "Parsing pileup pair 2\n",
      "Creating dataset with neighbourhood ...\n"
     ]
    },
    {
     "name": "stderr",
     "output_type": "stream",
     "text": [
      "100% (32912 of 32912) |##################| Elapsed Time: 0:00:01 Time:  0:00:01\n",
      "  0% (2417 of 8672258) |                 | Elapsed Time: 0:00:00 ETA:   0:05:59"
     ]
    },
    {
     "name": "stdout",
     "output_type": "stream",
     "text": [
      "----> Reshape dataset for convolutional network. <----\n",
      "X shape before reshaping: (8672258, 31, 5)\n",
      "y shape before reshaping: (8672258, 6)\n"
     ]
    },
    {
     "name": "stderr",
     "output_type": "stream",
     "text": [
      "100% (8672258 of 8672258) |##############| Elapsed Time: 0:06:33 Time:  0:06:33\n",
      "  7% (4656 of 61291) |#                  | Elapsed Time: 0:00:00 ETA:   0:00:02"
     ]
    },
    {
     "name": "stdout",
     "output_type": "stream",
     "text": [
      "X shape after reshaping: (8672258, 31, 1, 5)\n",
      "y shape after reshaping: (8672258, 6)\n",
      "X shape before reshaping: (61291, 31, 5)\n",
      "y shape before reshaping: (61291, 6)\n"
     ]
    },
    {
     "name": "stderr",
     "output_type": "stream",
     "text": [
      "100% (61291 of 61291) |##################| Elapsed Time: 0:00:02 Time:  0:00:02\n",
      " 11% (3747 of 32882) |##                 | Elapsed Time: 0:00:00 ETA:   0:00:01"
     ]
    },
    {
     "name": "stdout",
     "output_type": "stream",
     "text": [
      "X shape after reshaping: (61291, 31, 1, 5)\n",
      "y shape after reshaping: (61291, 6)\n",
      "X shape before reshaping: (32882, 31, 5)\n",
      "y shape before reshaping: (32882, 6)\n"
     ]
    },
    {
     "name": "stderr",
     "output_type": "stream",
     "text": [
      "100% (32882 of 32882) |##################| Elapsed Time: 0:00:01 Time:  0:00:01\n"
     ]
    },
    {
     "name": "stdout",
     "output_type": "stream",
     "text": [
      "X shape after reshaping: (32882, 31, 1, 5)\n",
      "y shape after reshaping: (32882, 6)\n",
      "----> Load model and make predictions (consensus). <----\n",
      "----> Create consensus summary. <----\n",
      "----> Create pileups from assembly. <----\n"
     ]
    },
    {
     "name": "stderr",
     "output_type": "stream",
     "text": [
      "100% (8634561 of 8634561) |##############| Elapsed Time: 0:03:30 Time:  0:03:30\n"
     ]
    },
    {
     "name": "stdout",
     "output_type": "stream",
     "text": [
      "----> Create dataset with neighbourhood from pileups. <----\n",
      "Parsing pileup pair 0\n"
     ]
    },
    {
     "name": "stderr",
     "output_type": "stream",
     "text": [
      "  0% (3861 of 8196116) |                 | Elapsed Time: 0:00:00 ETA:   0:07:05"
     ]
    },
    {
     "name": "stdout",
     "output_type": "stream",
     "text": [
      "Creating dataset with neighbourhood ...\n"
     ]
    },
    {
     "name": "stderr",
     "output_type": "stream",
     "text": [
      "100% (8196116 of 8196116) |##############| Elapsed Time: 0:07:00 Time:  0:07:00\n",
      "N/A% (0 of 223237) |                     | Elapsed Time: 0:00:00 ETA:  --:--:--"
     ]
    },
    {
     "name": "stdout",
     "output_type": "stream",
     "text": [
      "Parsing pileup pair 1\n",
      "Creating dataset with neighbourhood ...\n"
     ]
    },
    {
     "name": "stderr",
     "output_type": "stream",
     "text": [
      "100% (223237 of 223237) |################| Elapsed Time: 0:00:11 Time:  0:00:11\n",
      "  1% (1969 of 193969) |                  | Elapsed Time: 0:00:00 ETA:   0:00:09"
     ]
    },
    {
     "name": "stdout",
     "output_type": "stream",
     "text": [
      "Parsing pileup pair 2\n",
      "Creating dataset with neighbourhood ...\n"
     ]
    },
    {
     "name": "stderr",
     "output_type": "stream",
     "text": [
      "100% (193969 of 193969) |################| Elapsed Time: 0:00:09 Time:  0:00:09\n",
      " 20% (4302 of 21239) |###                | Elapsed Time: 0:00:00 ETA:   0:00:00"
     ]
    },
    {
     "name": "stdout",
     "output_type": "stream",
     "text": [
      "Parsing pileup pair 3\n",
      "Creating dataset with neighbourhood ...\n"
     ]
    },
    {
     "name": "stderr",
     "output_type": "stream",
     "text": [
      "100% (21239 of 21239) |##################| Elapsed Time: 0:00:01 Time:  0:00:01\n",
      "  0% (2345 of 8196086) |                 | Elapsed Time: 0:00:00 ETA:   0:05:49"
     ]
    },
    {
     "name": "stdout",
     "output_type": "stream",
     "text": [
      "----> Reshape dataset for convolutional network. <----\n",
      "X shape before reshaping: (8196086, 31, 5)\n",
      "y shape before reshaping: (8196086, 6)\n"
     ]
    },
    {
     "name": "stderr",
     "output_type": "stream",
     "text": [
      "100% (8196086 of 8196086) |##############| Elapsed Time: 0:06:10 Time:  0:06:10\n",
      "  2% (4750 of 223207) |                  | Elapsed Time: 0:00:00 ETA:   0:00:09"
     ]
    },
    {
     "name": "stdout",
     "output_type": "stream",
     "text": [
      "X shape after reshaping: (8196086, 31, 1, 5)\n",
      "y shape after reshaping: (8196086, 6)\n",
      "X shape before reshaping: (223207, 31, 5)\n",
      "y shape before reshaping: (223207, 6)\n"
     ]
    },
    {
     "name": "stderr",
     "output_type": "stream",
     "text": [
      "100% (223207 of 223207) |################| Elapsed Time: 0:00:09 Time:  0:00:09\n",
      "  1% (2284 of 193939) |                  | Elapsed Time: 0:00:00 ETA:   0:00:08"
     ]
    },
    {
     "name": "stdout",
     "output_type": "stream",
     "text": [
      "X shape after reshaping: (223207, 31, 1, 5)\n",
      "y shape after reshaping: (223207, 6)\n",
      "X shape before reshaping: (193939, 31, 5)\n",
      "y shape before reshaping: (193939, 6)\n"
     ]
    },
    {
     "name": "stderr",
     "output_type": "stream",
     "text": [
      "100% (193939 of 193939) |################| Elapsed Time: 0:00:08 Time:  0:00:08\n",
      " 17% (3759 of 21209) |###                | Elapsed Time: 0:00:00 ETA:   0:00:00"
     ]
    },
    {
     "name": "stdout",
     "output_type": "stream",
     "text": [
      "X shape after reshaping: (193939, 31, 1, 5)\n",
      "y shape after reshaping: (193939, 6)\n",
      "X shape before reshaping: (21209, 31, 5)\n",
      "y shape before reshaping: (21209, 6)\n"
     ]
    },
    {
     "name": "stderr",
     "output_type": "stream",
     "text": [
      "100% (21209 of 21209) |##################| Elapsed Time: 0:00:00 Time:  0:00:00\n"
     ]
    },
    {
     "name": "stdout",
     "output_type": "stream",
     "text": [
      "X shape after reshaping: (21209, 31, 1, 5)\n",
      "y shape after reshaping: (21209, 6)\n",
      "----> Load model and make predictions (consensus). <----\n",
      "----> Create consensus summary. <----\n"
     ]
    }
   ],
   "source": [
    "model_path = '/home/diplomski-rad/blade/pb/datasets/n15-racon-hax/model-7.h5'\n",
    "reads_paths = [\n",
    "    '/home/data/pacific_biosciences/bacteria/escherichia/coli/NCTC86.fastq',\n",
    "    '/home/data/pacific_biosciences/bacteria/morganella/morgani/NCTC235.fastq',\n",
    "    '/home/data/pacific_biosciences/bacteria/salmonella/enterica/NCTC92.fastq',\n",
    "    '/home/data/pacific_biosciences/bacteria/salmonella/enterica/NCTC129.fastq',\n",
    "    '/home/data/pacific_biosciences/bacteria/klebsiela/pneumoniae/NCTC204.fastq'\n",
    "]\n",
    "assembly_paths = [\n",
    "    '/home/diplomski-rad/blade/pb/escherichia-coli-NCTC86/iter2.fasta',\n",
    "    '/home/diplomski-rad/blade/pb/morganela-morgani-NCTC235/iter2.fasta',\n",
    "    '/home/diplomski-rad/blade/pb/salmonella-enterica-NCTC92/iter2.fasta',\n",
    "    '/home/diplomski-rad/blade/pb/salmonella-enterica-NCTC129/iter2.fasta',\n",
    "    '/home/diplomski-rad/blade/pb/klebsiela-pneumoniae-NCTC204-BROKEN/iter2.fasta'\n",
    "]\n",
    "reference_paths = [\n",
    "    '/home/data/pacific_biosciences/bacteria/escherichia/coli/escherichia_coli_reference.fasta',\n",
    "    '/home/data/pacific_biosciences/bacteria/morganella/morgani/morganella_morganii_reference.fasta',\n",
    "    '/home/data/pacific_biosciences/bacteria/salmonella/enterica/salmonella_enterica_reference.fasta',\n",
    "    '/home/data/pacific_biosciences/bacteria/salmonella/enterica/salmonella_enterica_reference.fasta',\n",
    "    '/home/data/pacific_biosciences/bacteria/klebsiela/pneumoniae/klebsiella_pneumoniae_reference.fasta'\n",
    "]\n",
    "sam_file_paths = [\n",
    "    '/home/diplomski-rad/blade/pb/escherichia-coli-NCTC86/reads-to-asm.sam',\n",
    "    '/home/diplomski-rad/blade/pb/morganela-morgani-NCTC235/reads-to-asm.sam',\n",
    "    '/home/diplomski-rad/blade/pb/salmonella-enterica-NCTC92/reads-to-asm.sam',\n",
    "    '/home/diplomski-rad/blade/pb/salmonella-enterica-NCTC129/reads-to-asm.sam',\n",
    "    '/home/diplomski-rad/blade/pb/klebsiela-pneumoniae-NCTC204-BROKEN/reads-to-asm.sam'\n",
    "]\n",
    "neighbourhood_size = 15\n",
    "output_dirs = [\n",
    "    './e-coli-NCTC86-all-contigs-n15-model-7-racon-hax',\n",
    "    './m-morgani-NCTC235-all-contigs-n15-model-7-racon-hax',\n",
    "    './s-enterica-NCTC92-all-contigs-n15-model-7-racon-hax',\n",
    "    './s-enterica-NCTC129-all-contigs-n15-model-7-racon-hax',\n",
    "    './k-pneumoniae-NCTC204-all-contigs-n15-model-7-racon-hax'\n",
    "]\n",
    "tools_dir = '/home/diplomski-rad/'\n",
    "racon_hax_output_dir = './racon-hax-tmp'\n",
    "num_threads = 12\n",
    "\n",
    "for reads_path, assembly_path, reference_path, sam_file_path, output_dir in \\\n",
    "    zip(reads_paths, assembly_paths, reference_paths, sam_file_paths, output_dirs):\n",
    "    \n",
    "    pileup_generator = pileups.RaconMSAGenerator(\n",
    "        reads_path,\n",
    "        sam_file_path,\n",
    "        assembly_path,\n",
    "        mode='inference',\n",
    "        tools_dir=tools_dir,\n",
    "        racon_hax_output_dir=racon_hax_output_dir,\n",
    "        num_threads=num_threads\n",
    "    )\n",
    "    \n",
    "    inference.make_consensus(\n",
    "        model_path, \n",
    "        reference_path,\n",
    "        pileup_generator,\n",
    "        neighbourhood_size,\n",
    "        output_dir,\n",
    "        tools_dir)"
   ]
  },
  {
   "cell_type": "markdown",
   "metadata": {},
   "source": [
    "## n-20 model-15 racon-hax"
   ]
  },
  {
   "cell_type": "code",
   "execution_count": 3,
   "metadata": {},
   "outputs": [
    {
     "name": "stdout",
     "output_type": "stream",
     "text": [
      "----> Create pileups from assembly. <----\n"
     ]
    },
    {
     "name": "stderr",
     "output_type": "stream",
     "text": [
      "100% (9647260 of 9647260) |##############| Elapsed Time: 0:03:41 Time:  0:03:41\n"
     ]
    },
    {
     "name": "stdout",
     "output_type": "stream",
     "text": [
      "----> Create dataset with neighbourhood from pileups. <----\n"
     ]
    },
    {
     "name": "stderr",
     "output_type": "stream",
     "text": [
      "  0% (3801 of 9647260) |                 | Elapsed Time: 0:00:00 ETA:   0:08:27"
     ]
    },
    {
     "name": "stdout",
     "output_type": "stream",
     "text": [
      "Creating dataset with neighbourhood ...\n"
     ]
    },
    {
     "name": "stderr",
     "output_type": "stream",
     "text": [
      "100% (9647260 of 9647260) |##############| Elapsed Time: 0:08:52 Time:  0:08:52\n"
     ]
    },
    {
     "name": "stdout",
     "output_type": "stream",
     "text": [
      "----> Load model and make predictions (consensus). <----\n",
      "WARNING:tensorflow:From /usr/local/lib/python3.5/dist-packages/tensorflow/python/util/deprecation.py:497: calling conv1d (from tensorflow.python.ops.nn_ops) with data_format=NHWC is deprecated and will be removed in a future version.\n",
      "Instructions for updating:\n",
      "`NHWC` for data_format is deprecated, use `NWC` instead\n",
      "----> Create consensus summary. <----\n",
      "----> Create pileups from assembly. <----\n"
     ]
    },
    {
     "name": "stderr",
     "output_type": "stream",
     "text": [
      "100% (6947852 of 6947852) |##############| Elapsed Time: 0:02:48 Time:  0:02:48\n"
     ]
    },
    {
     "name": "stdout",
     "output_type": "stream",
     "text": [
      "----> Create dataset with neighbourhood from pileups. <----\n"
     ]
    },
    {
     "name": "stderr",
     "output_type": "stream",
     "text": [
      "  0% (3641 of 6947852) |                 | Elapsed Time: 0:00:00 ETA:   0:06:21"
     ]
    },
    {
     "name": "stdout",
     "output_type": "stream",
     "text": [
      "Creating dataset with neighbourhood ...\n"
     ]
    },
    {
     "name": "stderr",
     "output_type": "stream",
     "text": [
      " 57% (3965273 of 6947852) |#######       | Elapsed Time: 0:03:56 ETA:   2:56:07"
     ]
    },
    {
     "name": "stdout",
     "output_type": "stream",
     "text": [
      "Creating dataset with neighbourhood ...\n"
     ]
    },
    {
     "name": "stderr",
     "output_type": "stream",
     "text": [
      "100% (6947852 of 6947852) |##############| Elapsed Time: 0:06:52 Time:  0:06:52\n"
     ]
    },
    {
     "name": "stdout",
     "output_type": "stream",
     "text": [
      "----> Load model and make predictions (consensus). <----\n",
      "----> Create consensus summary. <----\n",
      "----> Create pileups from assembly. <----\n"
     ]
    },
    {
     "name": "stderr",
     "output_type": "stream",
     "text": [
      "100% (9238925 of 9238925) |##############| Elapsed Time: 0:03:37 Time:  0:03:37\n"
     ]
    },
    {
     "name": "stdout",
     "output_type": "stream",
     "text": [
      "----> Create dataset with neighbourhood from pileups. <----\n"
     ]
    },
    {
     "name": "stderr",
     "output_type": "stream",
     "text": [
      "  0% (3585 of 9238925) |                 | Elapsed Time: 0:00:00 ETA:   0:08:35"
     ]
    },
    {
     "name": "stdout",
     "output_type": "stream",
     "text": [
      "Creating dataset with neighbourhood ...\n"
     ]
    },
    {
     "name": "stderr",
     "output_type": "stream",
     "text": [
      " 99% (9237614 of 9238925) |############# | Elapsed Time: 0:09:08 ETA:   0:00:07"
     ]
    },
    {
     "name": "stdout",
     "output_type": "stream",
     "text": [
      "Creating dataset with neighbourhood ...\n"
     ]
    },
    {
     "name": "stderr",
     "output_type": "stream",
     "text": [
      "100% (9238925 of 9238925) |##############| Elapsed Time: 0:09:08 Time:  0:09:08\n"
     ]
    },
    {
     "name": "stdout",
     "output_type": "stream",
     "text": [
      "----> Load model and make predictions (consensus). <----\n",
      "----> Create consensus summary. <----\n",
      "----> Create pileups from assembly. <----\n"
     ]
    },
    {
     "name": "stderr",
     "output_type": "stream",
     "text": [
      "100% (8766521 of 8766521) |##############| Elapsed Time: 0:03:45 Time:  0:03:45\n"
     ]
    },
    {
     "name": "stdout",
     "output_type": "stream",
     "text": [
      "----> Create dataset with neighbourhood from pileups. <----\n"
     ]
    },
    {
     "name": "stderr",
     "output_type": "stream",
     "text": [
      "  0% (3577 of 8766521) |                 | Elapsed Time: 0:00:00 ETA:   0:08:10"
     ]
    },
    {
     "name": "stdout",
     "output_type": "stream",
     "text": [
      "Creating dataset with neighbourhood ...\n"
     ]
    },
    {
     "name": "stderr",
     "output_type": "stream",
     "text": [
      " 98% (8675963 of 8766521) |############# | Elapsed Time: 0:08:32 ETA:   0:09:22"
     ]
    },
    {
     "name": "stdout",
     "output_type": "stream",
     "text": [
      "Creating dataset with neighbourhood ...\n"
     ]
    },
    {
     "name": "stderr",
     "output_type": "stream",
     "text": [
      " 99% (8737209 of 8766521) |############# | Elapsed Time: 0:08:35 ETA:   0:00:01"
     ]
    },
    {
     "name": "stdout",
     "output_type": "stream",
     "text": [
      "Creating dataset with neighbourhood ...\n"
     ]
    },
    {
     "name": "stderr",
     "output_type": "stream",
     "text": [
      "100% (8766521 of 8766521) |##############| Elapsed Time: 0:08:37 Time:  0:08:37\n"
     ]
    },
    {
     "name": "stdout",
     "output_type": "stream",
     "text": [
      "----> Load model and make predictions (consensus). <----\n",
      "----> Create consensus summary. <----\n",
      "----> Create pileups from assembly. <----\n"
     ]
    },
    {
     "name": "stderr",
     "output_type": "stream",
     "text": [
      "100% (8634561 of 8634561) |##############| Elapsed Time: 0:03:37 Time:  0:03:37\n"
     ]
    },
    {
     "name": "stdout",
     "output_type": "stream",
     "text": [
      "----> Create dataset with neighbourhood from pileups. <----\n"
     ]
    },
    {
     "name": "stderr",
     "output_type": "stream",
     "text": [
      "  0% (3665 of 8634561) |                 | Elapsed Time: 0:00:00 ETA:   0:07:51"
     ]
    },
    {
     "name": "stdout",
     "output_type": "stream",
     "text": [
      "Creating dataset with neighbourhood ...\n"
     ]
    },
    {
     "name": "stderr",
     "output_type": "stream",
     "text": [
      " 94% (8199135 of 8634561) |############# | Elapsed Time: 0:08:05 ETA:   0:50:21"
     ]
    },
    {
     "name": "stdout",
     "output_type": "stream",
     "text": [
      "Creating dataset with neighbourhood ...\n"
     ]
    },
    {
     "name": "stderr",
     "output_type": "stream",
     "text": [
      " 97% (8423044 of 8634561) |############# | Elapsed Time: 0:08:18 ETA:   0:00:18"
     ]
    },
    {
     "name": "stdout",
     "output_type": "stream",
     "text": [
      "Creating dataset with neighbourhood ...\n"
     ]
    },
    {
     "name": "stderr",
     "output_type": "stream",
     "text": [
      " 99% (8616885 of 8634561) |############# | Elapsed Time: 0:08:29 ETA:   0:00:01"
     ]
    },
    {
     "name": "stdout",
     "output_type": "stream",
     "text": [
      "Creating dataset with neighbourhood ...\n"
     ]
    },
    {
     "name": "stderr",
     "output_type": "stream",
     "text": [
      "100% (8634561 of 8634561) |##############| Elapsed Time: 0:08:30 Time:  0:08:30\n"
     ]
    },
    {
     "name": "stdout",
     "output_type": "stream",
     "text": [
      "----> Load model and make predictions (consensus). <----\n",
      "----> Create consensus summary. <----\n"
     ]
    }
   ],
   "source": [
    "model_path = '/home/diplomski-rad/blade/pb/datasets/n20-racon-hax/model-15.h5'\n",
    "reads_paths = [\n",
    "    '/home/data/pacific_biosciences/bacteria/escherichia/coli/NCTC86.fastq',\n",
    "    '/home/data/pacific_biosciences/bacteria/morganella/morgani/NCTC235.fastq',\n",
    "    '/home/data/pacific_biosciences/bacteria/salmonella/enterica/NCTC92.fastq',\n",
    "    '/home/data/pacific_biosciences/bacteria/salmonella/enterica/NCTC129.fastq',\n",
    "    '/home/data/pacific_biosciences/bacteria/klebsiela/pneumoniae/NCTC204.fastq'\n",
    "]\n",
    "assembly_paths = [\n",
    "    '/home/diplomski-rad/blade/pb/escherichia-coli-NCTC86/iter2.fasta',\n",
    "    '/home/diplomski-rad/blade/pb/morganela-morgani-NCTC235/iter2.fasta',\n",
    "    '/home/diplomski-rad/blade/pb/salmonella-enterica-NCTC92/iter2.fasta',\n",
    "    '/home/diplomski-rad/blade/pb/salmonella-enterica-NCTC129/iter2.fasta',\n",
    "    '/home/diplomski-rad/blade/pb/klebsiela-pneumoniae-NCTC204-BROKEN/iter2.fasta'\n",
    "]\n",
    "reference_paths = [\n",
    "    '/home/data/pacific_biosciences/bacteria/escherichia/coli/escherichia_coli_reference.fasta',\n",
    "    '/home/data/pacific_biosciences/bacteria/morganella/morgani/morganella_morganii_reference.fasta',\n",
    "    '/home/data/pacific_biosciences/bacteria/salmonella/enterica/salmonella_enterica_reference.fasta',\n",
    "    '/home/data/pacific_biosciences/bacteria/salmonella/enterica/salmonella_enterica_reference.fasta',\n",
    "    '/home/data/pacific_biosciences/bacteria/klebsiela/pneumoniae/klebsiella_pneumoniae_reference.fasta'\n",
    "]\n",
    "sam_file_paths = [\n",
    "    '/home/diplomski-rad/blade/pb/escherichia-coli-NCTC86/reads-to-asm.sam',\n",
    "    '/home/diplomski-rad/blade/pb/morganela-morgani-NCTC235/reads-to-asm.sam',\n",
    "    '/home/diplomski-rad/blade/pb/salmonella-enterica-NCTC92/reads-to-asm.sam',\n",
    "    '/home/diplomski-rad/blade/pb/salmonella-enterica-NCTC129/reads-to-asm.sam',\n",
    "    '/home/diplomski-rad/blade/pb/klebsiela-pneumoniae-NCTC204-BROKEN/reads-to-asm.sam'\n",
    "]\n",
    "neighbourhood_size = 20\n",
    "output_dirs = [\n",
    "    './e-coli-NCTC86-all-contigs-n20-model-15-racon-hax',\n",
    "    './m-morgani-NCTC235-all-contigs-n20-model-15-racon-hax',\n",
    "    './s-enterica-NCTC92-all-contigs-n20-model-15-racon-hax',\n",
    "    './s-enterica-NCTC129-all-contigs-n20-model-15-racon-hax',\n",
    "    './k-pneumoniae-NCTC204-all-contigs-n20-model-15-racon-hax'\n",
    "]\n",
    "result_file_paths = [\n",
    "    '/home/diplomski-rad/results/pb/all-bacteria-dataset/escherichia-coli-NCTC86/n20-model-15-all-contigs-racon-hax-report.txt',\n",
    "    '/home/diplomski-rad/results/pb/all-bacteria-dataset/morganela-morgani-NCTC235/n20-model-15-all-contigs-racon-hax-report.txt',\n",
    "    '/home/diplomski-rad/results/pb/all-bacteria-dataset/salmonella-enterica-NCTC92/n20-model-15-all-contigs-racon-hax-report.txt',\n",
    "    '/home/diplomski-rad/results/pb/all-bacteria-dataset/salmonella-enterica-NCTC129/n20-model-15-all-contigs-racon-hax-report.txt',\n",
    "    '/home/diplomski-rad/results/pb/all-bacteria-dataset/klebsiela-pneumoniae-NCTC204/n20-model-15-all-contigs-racon-hax-report.txt'\n",
    "]\n",
    "tools_dir = '/home/diplomski-rad/'\n",
    "racon_hax_output_dir = './racon-hax-tmp'\n",
    "num_threads = 12\n",
    "\n",
    "for reads_path, assembly_path, reference_path, sam_file_path, output_dir, result_file_path in \\\n",
    "    zip(reads_paths, assembly_paths, reference_paths, sam_file_paths, output_dirs, result_file_paths):\n",
    "    \n",
    "    pileup_generator = pileups.RaconMSAGenerator(\n",
    "        reads_path,\n",
    "        sam_file_path,\n",
    "        assembly_path,\n",
    "        mode='inference',\n",
    "        tools_dir=tools_dir,\n",
    "        racon_hax_output_dir=racon_hax_output_dir,\n",
    "        num_threads=num_threads\n",
    "    )\n",
    "    \n",
    "    inference.make_consensus(\n",
    "        model_path, \n",
    "        reference_path,\n",
    "        pileup_generator,\n",
    "        neighbourhood_size,\n",
    "        output_dir,\n",
    "        tools_dir,\n",
    "        result_file_path)"
   ]
  },
  {
   "cell_type": "markdown",
   "metadata": {},
   "source": [
    "## n-20 model-16 racon-hax"
   ]
  },
  {
   "cell_type": "code",
   "execution_count": 4,
   "metadata": {},
   "outputs": [
    {
     "name": "stdout",
     "output_type": "stream",
     "text": [
      "----> Create pileups from assembly. <----\n"
     ]
    },
    {
     "name": "stderr",
     "output_type": "stream",
     "text": [
      "100% (9647260 of 9647260) |##############| Elapsed Time: 0:03:54 Time:  0:03:54\n"
     ]
    },
    {
     "name": "stdout",
     "output_type": "stream",
     "text": [
      "----> Create dataset with neighbourhood from pileups. <----\n"
     ]
    },
    {
     "name": "stderr",
     "output_type": "stream",
     "text": [
      "  0% (3561 of 9647260) |                 | Elapsed Time: 0:00:00 ETA:   0:09:02"
     ]
    },
    {
     "name": "stdout",
     "output_type": "stream",
     "text": [
      "Creating dataset with neighbourhood ...\n"
     ]
    },
    {
     "name": "stderr",
     "output_type": "stream",
     "text": [
      "100% (9647260 of 9647260) |##############| Elapsed Time: 0:09:27 Time:  0:09:27\n"
     ]
    },
    {
     "name": "stdout",
     "output_type": "stream",
     "text": [
      "----> Load model and make predictions (consensus). <----\n",
      "----> Create consensus summary. <----\n",
      "----> Create pileups from assembly. <----\n"
     ]
    },
    {
     "name": "stderr",
     "output_type": "stream",
     "text": [
      "100% (6947852 of 6947852) |##############| Elapsed Time: 0:02:57 Time:  0:02:57\n"
     ]
    },
    {
     "name": "stdout",
     "output_type": "stream",
     "text": [
      "----> Create dataset with neighbourhood from pileups. <----\n"
     ]
    },
    {
     "name": "stderr",
     "output_type": "stream",
     "text": [
      "  0% (3596 of 6947852) |                 | Elapsed Time: 0:00:00 ETA:   0:06:26"
     ]
    },
    {
     "name": "stdout",
     "output_type": "stream",
     "text": [
      "Creating dataset with neighbourhood ...\n"
     ]
    },
    {
     "name": "stderr",
     "output_type": "stream",
     "text": [
      " 57% (3965128 of 6947852) |#######       | Elapsed Time: 0:03:57 ETA:   2:57:04"
     ]
    },
    {
     "name": "stdout",
     "output_type": "stream",
     "text": [
      "Creating dataset with neighbourhood ...\n"
     ]
    },
    {
     "name": "stderr",
     "output_type": "stream",
     "text": [
      "100% (6947852 of 6947852) |##############| Elapsed Time: 0:06:54 Time:  0:06:54\n"
     ]
    },
    {
     "name": "stdout",
     "output_type": "stream",
     "text": [
      "----> Load model and make predictions (consensus). <----\n",
      "----> Create consensus summary. <----\n",
      "----> Create pileups from assembly. <----\n"
     ]
    },
    {
     "name": "stderr",
     "output_type": "stream",
     "text": [
      "100% (9238925 of 9238925) |##############| Elapsed Time: 0:03:46 Time:  0:03:46\n"
     ]
    },
    {
     "name": "stdout",
     "output_type": "stream",
     "text": [
      "----> Create dataset with neighbourhood from pileups. <----\n"
     ]
    },
    {
     "name": "stderr",
     "output_type": "stream",
     "text": [
      "  0% (3620 of 9238925) |                 | Elapsed Time: 0:00:00 ETA:   0:08:31"
     ]
    },
    {
     "name": "stdout",
     "output_type": "stream",
     "text": [
      "Creating dataset with neighbourhood ...\n"
     ]
    },
    {
     "name": "stderr",
     "output_type": "stream",
     "text": [
      " 99% (9237655 of 9238925) |############# | Elapsed Time: 0:09:06 ETA:   0:00:07"
     ]
    },
    {
     "name": "stdout",
     "output_type": "stream",
     "text": [
      "Creating dataset with neighbourhood ...\n"
     ]
    },
    {
     "name": "stderr",
     "output_type": "stream",
     "text": [
      "100% (9238925 of 9238925) |##############| Elapsed Time: 0:09:06 Time:  0:09:06\n"
     ]
    },
    {
     "name": "stdout",
     "output_type": "stream",
     "text": [
      "----> Load model and make predictions (consensus). <----\n",
      "----> Create consensus summary. <----\n",
      "----> Create pileups from assembly. <----\n"
     ]
    },
    {
     "name": "stderr",
     "output_type": "stream",
     "text": [
      "100% (8766521 of 8766521) |##############| Elapsed Time: 0:03:51 Time:  0:03:51\n"
     ]
    },
    {
     "name": "stdout",
     "output_type": "stream",
     "text": [
      "----> Create dataset with neighbourhood from pileups. <----\n"
     ]
    },
    {
     "name": "stderr",
     "output_type": "stream",
     "text": [
      "  0% (3623 of 8766521) |                 | Elapsed Time: 0:00:00 ETA:   0:08:04"
     ]
    },
    {
     "name": "stdout",
     "output_type": "stream",
     "text": [
      "Creating dataset with neighbourhood ...\n"
     ]
    },
    {
     "name": "stderr",
     "output_type": "stream",
     "text": [
      " 98% (8675986 of 8766521) |############# | Elapsed Time: 0:08:31 ETA:   0:08:24"
     ]
    },
    {
     "name": "stdout",
     "output_type": "stream",
     "text": [
      "Creating dataset with neighbourhood ...\n"
     ]
    },
    {
     "name": "stderr",
     "output_type": "stream",
     "text": [
      " 99% (8737346 of 8766521) |############# | Elapsed Time: 0:08:35 ETA:   0:00:01"
     ]
    },
    {
     "name": "stdout",
     "output_type": "stream",
     "text": [
      "Creating dataset with neighbourhood ...\n"
     ]
    },
    {
     "name": "stderr",
     "output_type": "stream",
     "text": [
      "100% (8766521 of 8766521) |##############| Elapsed Time: 0:08:37 Time:  0:08:37\n"
     ]
    },
    {
     "name": "stdout",
     "output_type": "stream",
     "text": [
      "----> Load model and make predictions (consensus). <----\n",
      "----> Create consensus summary. <----\n",
      "----> Create pileups from assembly. <----\n"
     ]
    },
    {
     "name": "stderr",
     "output_type": "stream",
     "text": [
      "100% (8634561 of 8634561) |##############| Elapsed Time: 0:03:40 Time:  0:03:40\n"
     ]
    },
    {
     "name": "stdout",
     "output_type": "stream",
     "text": [
      "----> Create dataset with neighbourhood from pileups. <----\n"
     ]
    },
    {
     "name": "stderr",
     "output_type": "stream",
     "text": [
      "  0% (3612 of 8634561) |                 | Elapsed Time: 0:00:00 ETA:   0:07:58"
     ]
    },
    {
     "name": "stdout",
     "output_type": "stream",
     "text": [
      "Creating dataset with neighbourhood ...\n"
     ]
    },
    {
     "name": "stderr",
     "output_type": "stream",
     "text": [
      " 94% (8199171 of 8634561) |############# | Elapsed Time: 0:08:09 ETA:   0:42:24"
     ]
    },
    {
     "name": "stdout",
     "output_type": "stream",
     "text": [
      "Creating dataset with neighbourhood ...\n"
     ]
    },
    {
     "name": "stderr",
     "output_type": "stream",
     "text": [
      " 97% (8422970 of 8634561) |############# | Elapsed Time: 0:08:23 ETA:   0:00:19"
     ]
    },
    {
     "name": "stdout",
     "output_type": "stream",
     "text": [
      "Creating dataset with neighbourhood ...\n"
     ]
    },
    {
     "name": "stderr",
     "output_type": "stream",
     "text": [
      " 99% (8616996 of 8634561) |############# | Elapsed Time: 0:08:34 ETA:   0:00:01"
     ]
    },
    {
     "name": "stdout",
     "output_type": "stream",
     "text": [
      "Creating dataset with neighbourhood ...\n"
     ]
    },
    {
     "name": "stderr",
     "output_type": "stream",
     "text": [
      "100% (8634561 of 8634561) |##############| Elapsed Time: 0:08:35 Time:  0:08:35\n"
     ]
    },
    {
     "name": "stdout",
     "output_type": "stream",
     "text": [
      "----> Load model and make predictions (consensus). <----\n",
      "----> Create consensus summary. <----\n"
     ]
    }
   ],
   "source": [
    "model_path = '/home/diplomski-rad/blade/pb/datasets/n20-racon-hax/model-16.h5'\n",
    "reads_paths = [\n",
    "    '/home/data/pacific_biosciences/bacteria/escherichia/coli/NCTC86.fastq',\n",
    "    '/home/data/pacific_biosciences/bacteria/morganella/morgani/NCTC235.fastq',\n",
    "    '/home/data/pacific_biosciences/bacteria/salmonella/enterica/NCTC92.fastq',\n",
    "    '/home/data/pacific_biosciences/bacteria/salmonella/enterica/NCTC129.fastq',\n",
    "    '/home/data/pacific_biosciences/bacteria/klebsiela/pneumoniae/NCTC204.fastq'\n",
    "]\n",
    "assembly_paths = [\n",
    "    '/home/diplomski-rad/blade/pb/escherichia-coli-NCTC86/iter2.fasta',\n",
    "    '/home/diplomski-rad/blade/pb/morganela-morgani-NCTC235/iter2.fasta',\n",
    "    '/home/diplomski-rad/blade/pb/salmonella-enterica-NCTC92/iter2.fasta',\n",
    "    '/home/diplomski-rad/blade/pb/salmonella-enterica-NCTC129/iter2.fasta',\n",
    "    '/home/diplomski-rad/blade/pb/klebsiela-pneumoniae-NCTC204-BROKEN/iter2.fasta'\n",
    "]\n",
    "reference_paths = [\n",
    "    '/home/data/pacific_biosciences/bacteria/escherichia/coli/escherichia_coli_reference.fasta',\n",
    "    '/home/data/pacific_biosciences/bacteria/morganella/morgani/morganella_morganii_reference.fasta',\n",
    "    '/home/data/pacific_biosciences/bacteria/salmonella/enterica/salmonella_enterica_reference.fasta',\n",
    "    '/home/data/pacific_biosciences/bacteria/salmonella/enterica/salmonella_enterica_reference.fasta',\n",
    "    '/home/data/pacific_biosciences/bacteria/klebsiela/pneumoniae/klebsiella_pneumoniae_reference.fasta'\n",
    "]\n",
    "sam_file_paths = [\n",
    "    '/home/diplomski-rad/blade/pb/escherichia-coli-NCTC86/reads-to-asm.sam',\n",
    "    '/home/diplomski-rad/blade/pb/morganela-morgani-NCTC235/reads-to-asm.sam',\n",
    "    '/home/diplomski-rad/blade/pb/salmonella-enterica-NCTC92/reads-to-asm.sam',\n",
    "    '/home/diplomski-rad/blade/pb/salmonella-enterica-NCTC129/reads-to-asm.sam',\n",
    "    '/home/diplomski-rad/blade/pb/klebsiela-pneumoniae-NCTC204-BROKEN/reads-to-asm.sam'\n",
    "]\n",
    "neighbourhood_size = 20\n",
    "output_dirs = [\n",
    "    './e-coli-NCTC86-all-contigs-n20-model-16-racon-hax',\n",
    "    './m-morgani-NCTC235-all-contigs-n20-model-16-racon-hax',\n",
    "    './s-enterica-NCTC92-all-contigs-n20-model-16-racon-hax',\n",
    "    './s-enterica-NCTC129-all-contigs-n20-model-16-racon-hax',\n",
    "    './k-pneumoniae-NCTC204-all-contigs-n20-model-16-racon-hax'\n",
    "]\n",
    "result_file_paths = [\n",
    "    '/home/diplomski-rad/results/pb/all-bacteria-dataset/escherichia-coli-NCTC86/n20-model-16-all-contigs-racon-hax-report.txt',\n",
    "    '/home/diplomski-rad/results/pb/all-bacteria-dataset/morganela-morgani-NCTC235/n20-model-16-all-contigs-racon-hax-report.txt',\n",
    "    '/home/diplomski-rad/results/pb/all-bacteria-dataset/salmonella-enterica-NCTC92/n20-model-16-all-contigs-racon-hax-report.txt',\n",
    "    '/home/diplomski-rad/results/pb/all-bacteria-dataset/salmonella-enterica-NCTC129/n20-model-16-all-contigs-racon-hax-report.txt',\n",
    "    '/home/diplomski-rad/results/pb/all-bacteria-dataset/klebsiela-pneumoniae-NCTC204/n20-model-16-all-contigs-racon-hax-report.txt'\n",
    "]\n",
    "tools_dir = '/home/diplomski-rad/'\n",
    "racon_hax_output_dir = './racon-hax-tmp'\n",
    "num_threads = 12\n",
    "\n",
    "for reads_path, assembly_path, reference_path, sam_file_path, output_dir, result_file_path in \\\n",
    "    zip(reads_paths, assembly_paths, reference_paths, sam_file_paths, output_dirs, result_file_paths):\n",
    "    \n",
    "    pileup_generator = pileups.RaconMSAGenerator(\n",
    "        reads_path,\n",
    "        sam_file_path,\n",
    "        assembly_path,\n",
    "        mode='inference',\n",
    "        tools_dir=tools_dir,\n",
    "        racon_hax_output_dir=racon_hax_output_dir,\n",
    "        num_threads=num_threads\n",
    "    )\n",
    "    \n",
    "    inference.make_consensus(\n",
    "        model_path, \n",
    "        reference_path,\n",
    "        pileup_generator,\n",
    "        neighbourhood_size,\n",
    "        output_dir,\n",
    "        tools_dir,\n",
    "        result_file_path)"
   ]
  },
  {
   "cell_type": "markdown",
   "metadata": {},
   "source": [
    "## n-15 model-16 racon-hax"
   ]
  },
  {
   "cell_type": "code",
   "execution_count": 5,
   "metadata": {},
   "outputs": [
    {
     "name": "stdout",
     "output_type": "stream",
     "text": [
      "----> Create pileups from assembly. <----\n"
     ]
    },
    {
     "name": "stderr",
     "output_type": "stream",
     "text": [
      "100% (9647260 of 9647260) |##############| Elapsed Time: 0:03:54 Time:  0:03:54\n"
     ]
    },
    {
     "name": "stdout",
     "output_type": "stream",
     "text": [
      "----> Create dataset with neighbourhood from pileups. <----\n"
     ]
    },
    {
     "name": "stderr",
     "output_type": "stream",
     "text": [
      "  0% (3723 of 9647260) |                 | Elapsed Time: 0:00:00 ETA:   0:08:38"
     ]
    },
    {
     "name": "stdout",
     "output_type": "stream",
     "text": [
      "Creating dataset with neighbourhood ...\n"
     ]
    },
    {
     "name": "stderr",
     "output_type": "stream",
     "text": [
      "100% (9647260 of 9647260) |##############| Elapsed Time: 0:09:09 Time:  0:09:09\n"
     ]
    },
    {
     "name": "stdout",
     "output_type": "stream",
     "text": [
      "----> Load model and make predictions (consensus). <----\n",
      "----> Create consensus summary. <----\n",
      "----> Create pileups from assembly. <----\n"
     ]
    },
    {
     "name": "stderr",
     "output_type": "stream",
     "text": [
      "100% (6947852 of 6947852) |##############| Elapsed Time: 0:02:51 Time:  0:02:51\n"
     ]
    },
    {
     "name": "stdout",
     "output_type": "stream",
     "text": [
      "----> Create dataset with neighbourhood from pileups. <----\n"
     ]
    },
    {
     "name": "stderr",
     "output_type": "stream",
     "text": [
      "  0% (3630 of 6947852) |                 | Elapsed Time: 0:00:00 ETA:   0:06:23"
     ]
    },
    {
     "name": "stdout",
     "output_type": "stream",
     "text": [
      "Creating dataset with neighbourhood ...\n"
     ]
    },
    {
     "name": "stderr",
     "output_type": "stream",
     "text": [
      " 57% (3965262 of 6947852) |#######       | Elapsed Time: 0:03:50 ETA:   2:35:31"
     ]
    },
    {
     "name": "stdout",
     "output_type": "stream",
     "text": [
      "Creating dataset with neighbourhood ...\n"
     ]
    },
    {
     "name": "stderr",
     "output_type": "stream",
     "text": [
      "100% (6947852 of 6947852) |##############| Elapsed Time: 0:06:42 Time:  0:06:42\n"
     ]
    },
    {
     "name": "stdout",
     "output_type": "stream",
     "text": [
      "----> Load model and make predictions (consensus). <----\n",
      "----> Create consensus summary. <----\n",
      "----> Create pileups from assembly. <----\n"
     ]
    },
    {
     "name": "stderr",
     "output_type": "stream",
     "text": [
      "100% (9238925 of 9238925) |##############| Elapsed Time: 0:03:38 Time:  0:03:38\n"
     ]
    },
    {
     "name": "stdout",
     "output_type": "stream",
     "text": [
      "----> Create dataset with neighbourhood from pileups. <----\n"
     ]
    },
    {
     "name": "stderr",
     "output_type": "stream",
     "text": [
      "  0% (3665 of 9238925) |                 | Elapsed Time: 0:00:00 ETA:   0:08:24"
     ]
    },
    {
     "name": "stdout",
     "output_type": "stream",
     "text": [
      "Creating dataset with neighbourhood ...\n"
     ]
    },
    {
     "name": "stderr",
     "output_type": "stream",
     "text": [
      " 99% (9237684 of 9238925) |############# | Elapsed Time: 0:08:52 ETA:   0:00:06"
     ]
    },
    {
     "name": "stdout",
     "output_type": "stream",
     "text": [
      "Creating dataset with neighbourhood ...\n"
     ]
    },
    {
     "name": "stderr",
     "output_type": "stream",
     "text": [
      "100% (9238925 of 9238925) |##############| Elapsed Time: 0:08:52 Time:  0:08:52\n"
     ]
    },
    {
     "name": "stdout",
     "output_type": "stream",
     "text": [
      "----> Load model and make predictions (consensus). <----\n",
      "----> Create consensus summary. <----\n",
      "----> Create pileups from assembly. <----\n"
     ]
    },
    {
     "name": "stderr",
     "output_type": "stream",
     "text": [
      "100% (8766521 of 8766521) |##############| Elapsed Time: 0:03:48 Time:  0:03:48\n"
     ]
    },
    {
     "name": "stdout",
     "output_type": "stream",
     "text": [
      "----> Create dataset with neighbourhood from pileups. <----\n"
     ]
    },
    {
     "name": "stderr",
     "output_type": "stream",
     "text": [
      "  0% (3708 of 8766521) |                 | Elapsed Time: 0:00:00 ETA:   0:07:53"
     ]
    },
    {
     "name": "stdout",
     "output_type": "stream",
     "text": [
      "Creating dataset with neighbourhood ...\n"
     ]
    },
    {
     "name": "stderr",
     "output_type": "stream",
     "text": [
      " 98% (8675969 of 8766521) |############# | Elapsed Time: 0:08:19 ETA:   0:08:39"
     ]
    },
    {
     "name": "stdout",
     "output_type": "stream",
     "text": [
      "Creating dataset with neighbourhood ...\n"
     ]
    },
    {
     "name": "stderr",
     "output_type": "stream",
     "text": [
      " 99% (8737254 of 8766521) |############# | Elapsed Time: 0:08:22 ETA:   0:00:01"
     ]
    },
    {
     "name": "stdout",
     "output_type": "stream",
     "text": [
      "Creating dataset with neighbourhood ...\n"
     ]
    },
    {
     "name": "stderr",
     "output_type": "stream",
     "text": [
      "100% (8766521 of 8766521) |##############| Elapsed Time: 0:08:24 Time:  0:08:24\n"
     ]
    },
    {
     "name": "stdout",
     "output_type": "stream",
     "text": [
      "----> Load model and make predictions (consensus). <----\n",
      "----> Create consensus summary. <----\n",
      "----> Create pileups from assembly. <----\n"
     ]
    },
    {
     "name": "stderr",
     "output_type": "stream",
     "text": [
      "100% (8634561 of 8634561) |##############| Elapsed Time: 0:03:37 Time:  0:03:37\n"
     ]
    },
    {
     "name": "stdout",
     "output_type": "stream",
     "text": [
      "----> Create dataset with neighbourhood from pileups. <----\n"
     ]
    },
    {
     "name": "stderr",
     "output_type": "stream",
     "text": [
      "  0% (3659 of 8634561) |                 | Elapsed Time: 0:00:00 ETA:   0:07:52"
     ]
    },
    {
     "name": "stdout",
     "output_type": "stream",
     "text": [
      "Creating dataset with neighbourhood ...\n"
     ]
    },
    {
     "name": "stderr",
     "output_type": "stream",
     "text": [
      " 94% (8199202 of 8634561) |############# | Elapsed Time: 0:07:53 ETA:   0:51:04"
     ]
    },
    {
     "name": "stdout",
     "output_type": "stream",
     "text": [
      "Creating dataset with neighbourhood ...\n"
     ]
    },
    {
     "name": "stderr",
     "output_type": "stream",
     "text": [
      " 97% (8423062 of 8634561) |############# | Elapsed Time: 0:08:06 ETA:   0:00:17"
     ]
    },
    {
     "name": "stdout",
     "output_type": "stream",
     "text": [
      "Creating dataset with neighbourhood ...\n"
     ]
    },
    {
     "name": "stderr",
     "output_type": "stream",
     "text": [
      " 99% (8617024 of 8634561) |############# | Elapsed Time: 0:08:18 ETA:   0:00:01"
     ]
    },
    {
     "name": "stdout",
     "output_type": "stream",
     "text": [
      "Creating dataset with neighbourhood ...\n"
     ]
    },
    {
     "name": "stderr",
     "output_type": "stream",
     "text": [
      "100% (8634561 of 8634561) |##############| Elapsed Time: 0:08:19 Time:  0:08:19\n"
     ]
    },
    {
     "name": "stdout",
     "output_type": "stream",
     "text": [
      "----> Load model and make predictions (consensus). <----\n",
      "----> Create consensus summary. <----\n"
     ]
    }
   ],
   "source": [
    "model_path = '/home/diplomski-rad/blade/pb/datasets/n15-racon-hax/model-16.h5'\n",
    "reads_paths = [\n",
    "    '/home/data/pacific_biosciences/bacteria/escherichia/coli/NCTC86.fastq',\n",
    "    '/home/data/pacific_biosciences/bacteria/morganella/morgani/NCTC235.fastq',\n",
    "    '/home/data/pacific_biosciences/bacteria/salmonella/enterica/NCTC92.fastq',\n",
    "    '/home/data/pacific_biosciences/bacteria/salmonella/enterica/NCTC129.fastq',\n",
    "    '/home/data/pacific_biosciences/bacteria/klebsiela/pneumoniae/NCTC204.fastq'\n",
    "]\n",
    "assembly_paths = [\n",
    "    '/home/diplomski-rad/blade/pb/escherichia-coli-NCTC86/iter2.fasta',\n",
    "    '/home/diplomski-rad/blade/pb/morganela-morgani-NCTC235/iter2.fasta',\n",
    "    '/home/diplomski-rad/blade/pb/salmonella-enterica-NCTC92/iter2.fasta',\n",
    "    '/home/diplomski-rad/blade/pb/salmonella-enterica-NCTC129/iter2.fasta',\n",
    "    '/home/diplomski-rad/blade/pb/klebsiela-pneumoniae-NCTC204-BROKEN/iter2.fasta'\n",
    "]\n",
    "reference_paths = [\n",
    "    '/home/data/pacific_biosciences/bacteria/escherichia/coli/escherichia_coli_reference.fasta',\n",
    "    '/home/data/pacific_biosciences/bacteria/morganella/morgani/morganella_morganii_reference.fasta',\n",
    "    '/home/data/pacific_biosciences/bacteria/salmonella/enterica/salmonella_enterica_reference.fasta',\n",
    "    '/home/data/pacific_biosciences/bacteria/salmonella/enterica/salmonella_enterica_reference.fasta',\n",
    "    '/home/data/pacific_biosciences/bacteria/klebsiela/pneumoniae/klebsiella_pneumoniae_reference.fasta'\n",
    "]\n",
    "sam_file_paths = [\n",
    "    '/home/diplomski-rad/blade/pb/escherichia-coli-NCTC86/reads-to-asm.sam',\n",
    "    '/home/diplomski-rad/blade/pb/morganela-morgani-NCTC235/reads-to-asm.sam',\n",
    "    '/home/diplomski-rad/blade/pb/salmonella-enterica-NCTC92/reads-to-asm.sam',\n",
    "    '/home/diplomski-rad/blade/pb/salmonella-enterica-NCTC129/reads-to-asm.sam',\n",
    "    '/home/diplomski-rad/blade/pb/klebsiela-pneumoniae-NCTC204-BROKEN/reads-to-asm.sam'\n",
    "]\n",
    "neighbourhood_size = 15\n",
    "output_dirs = [\n",
    "    './e-coli-NCTC86-all-contigs-n15-model-16-racon-hax',\n",
    "    './m-morgani-NCTC235-all-contigs-n15-model-16-racon-hax',\n",
    "    './s-enterica-NCTC92-all-contigs-n15-model-16-racon-hax',\n",
    "    './s-enterica-NCTC129-all-contigs-n15-model-16-racon-hax',\n",
    "    './k-pneumoniae-NCTC204-all-contigs-n15-model-16-racon-hax'\n",
    "]\n",
    "result_file_paths = [\n",
    "    '/home/diplomski-rad/results/pb/all-bacteria-dataset/escherichia-coli-NCTC86/n15-model-16-all-contigs-racon-hax-report.txt',\n",
    "    '/home/diplomski-rad/results/pb/all-bacteria-dataset/morganela-morgani-NCTC235/n15-model-16-all-contigs-racon-hax-report.txt',\n",
    "    '/home/diplomski-rad/results/pb/all-bacteria-dataset/salmonella-enterica-NCTC92/n15-model-16-all-contigs-racon-hax-report.txt',\n",
    "    '/home/diplomski-rad/results/pb/all-bacteria-dataset/salmonella-enterica-NCTC129/n15-model-16-all-contigs-racon-hax-report.txt',\n",
    "    '/home/diplomski-rad/results/pb/all-bacteria-dataset/klebsiela-pneumoniae-NCTC204/n15-model-16-all-contigs-racon-hax-report.txt'\n",
    "]\n",
    "tools_dir = '/home/diplomski-rad/'\n",
    "racon_hax_output_dir = './racon-hax-tmp'\n",
    "num_threads = 12\n",
    "\n",
    "for reads_path, assembly_path, reference_path, sam_file_path, output_dir, result_file_path in \\\n",
    "    zip(reads_paths, assembly_paths, reference_paths, sam_file_paths, output_dirs, result_file_paths):\n",
    "    \n",
    "    pileup_generator = pileups.RaconMSAGenerator(\n",
    "        reads_path,\n",
    "        sam_file_path,\n",
    "        assembly_path,\n",
    "        mode='inference',\n",
    "        tools_dir=tools_dir,\n",
    "        racon_hax_output_dir=racon_hax_output_dir,\n",
    "        num_threads=num_threads\n",
    "    )\n",
    "    \n",
    "    inference.make_consensus(\n",
    "        model_path, \n",
    "        reference_path,\n",
    "        pileup_generator,\n",
    "        neighbourhood_size,\n",
    "        output_dir,\n",
    "        tools_dir,\n",
    "        result_file_path)"
   ]
  },
  {
   "cell_type": "markdown",
   "metadata": {},
   "source": [
    "## n-15 model-15 racon-hax"
   ]
  },
  {
   "cell_type": "code",
   "execution_count": 6,
   "metadata": {},
   "outputs": [
    {
     "name": "stdout",
     "output_type": "stream",
     "text": [
      "----> Create pileups from assembly. <----\n"
     ]
    },
    {
     "name": "stderr",
     "output_type": "stream",
     "text": [
      "100% (9647260 of 9647260) |##############| Elapsed Time: 0:03:55 Time:  0:03:55\n"
     ]
    },
    {
     "name": "stdout",
     "output_type": "stream",
     "text": [
      "----> Create dataset with neighbourhood from pileups. <----\n"
     ]
    },
    {
     "name": "stderr",
     "output_type": "stream",
     "text": [
      "  0% (3647 of 9647260) |                 | Elapsed Time: 0:00:00 ETA:   0:08:49"
     ]
    },
    {
     "name": "stdout",
     "output_type": "stream",
     "text": [
      "Creating dataset with neighbourhood ...\n"
     ]
    },
    {
     "name": "stderr",
     "output_type": "stream",
     "text": [
      "100% (9647260 of 9647260) |##############| Elapsed Time: 0:09:17 Time:  0:09:17\n"
     ]
    },
    {
     "name": "stdout",
     "output_type": "stream",
     "text": [
      "----> Load model and make predictions (consensus). <----\n",
      "----> Create consensus summary. <----\n",
      "----> Create pileups from assembly. <----\n"
     ]
    },
    {
     "name": "stderr",
     "output_type": "stream",
     "text": [
      "100% (6947852 of 6947852) |##############| Elapsed Time: 0:02:50 Time:  0:02:50\n"
     ]
    },
    {
     "name": "stdout",
     "output_type": "stream",
     "text": [
      "----> Create dataset with neighbourhood from pileups. <----\n"
     ]
    },
    {
     "name": "stderr",
     "output_type": "stream",
     "text": [
      "  0% (3651 of 6947852) |                 | Elapsed Time: 0:00:00 ETA:   0:06:20"
     ]
    },
    {
     "name": "stdout",
     "output_type": "stream",
     "text": [
      "Creating dataset with neighbourhood ...\n"
     ]
    },
    {
     "name": "stderr",
     "output_type": "stream",
     "text": [
      " 57% (3965320 of 6947852) |#######       | Elapsed Time: 0:03:49 ETA:   2:06:44"
     ]
    },
    {
     "name": "stdout",
     "output_type": "stream",
     "text": [
      "Creating dataset with neighbourhood ...\n"
     ]
    },
    {
     "name": "stderr",
     "output_type": "stream",
     "text": [
      "100% (6947852 of 6947852) |##############| Elapsed Time: 0:06:39 Time:  0:06:39\n"
     ]
    },
    {
     "name": "stdout",
     "output_type": "stream",
     "text": [
      "----> Load model and make predictions (consensus). <----\n",
      "----> Create consensus summary. <----\n",
      "----> Create pileups from assembly. <----\n"
     ]
    },
    {
     "name": "stderr",
     "output_type": "stream",
     "text": [
      "100% (9238925 of 9238925) |##############| Elapsed Time: 0:03:43 Time:  0:03:43\n"
     ]
    },
    {
     "name": "stdout",
     "output_type": "stream",
     "text": [
      "----> Create dataset with neighbourhood from pileups. <----\n"
     ]
    },
    {
     "name": "stderr",
     "output_type": "stream",
     "text": [
      "  0% (3655 of 9238925) |                 | Elapsed Time: 0:00:00 ETA:   0:08:25"
     ]
    },
    {
     "name": "stdout",
     "output_type": "stream",
     "text": [
      "Creating dataset with neighbourhood ...\n"
     ]
    },
    {
     "name": "stderr",
     "output_type": "stream",
     "text": [
      " 99% (9237754 of 9238925) |############# | Elapsed Time: 0:08:50 ETA:   0:00:05"
     ]
    },
    {
     "name": "stdout",
     "output_type": "stream",
     "text": [
      "Creating dataset with neighbourhood ...\n"
     ]
    },
    {
     "name": "stderr",
     "output_type": "stream",
     "text": [
      "100% (9238925 of 9238925) |##############| Elapsed Time: 0:08:50 Time:  0:08:50\n"
     ]
    },
    {
     "name": "stdout",
     "output_type": "stream",
     "text": [
      "----> Load model and make predictions (consensus). <----\n",
      "----> Create consensus summary. <----\n",
      "----> Create pileups from assembly. <----\n"
     ]
    },
    {
     "name": "stderr",
     "output_type": "stream",
     "text": [
      "100% (8766521 of 8766521) |##############| Elapsed Time: 0:03:52 Time:  0:03:52\n"
     ]
    },
    {
     "name": "stdout",
     "output_type": "stream",
     "text": [
      "----> Create dataset with neighbourhood from pileups. <----\n"
     ]
    },
    {
     "name": "stderr",
     "output_type": "stream",
     "text": [
      "  0% (3566 of 8766521) |                 | Elapsed Time: 0:00:00 ETA:   0:08:11"
     ]
    },
    {
     "name": "stdout",
     "output_type": "stream",
     "text": [
      "Creating dataset with neighbourhood ...\n"
     ]
    },
    {
     "name": "stderr",
     "output_type": "stream",
     "text": [
      " 98% (8676008 of 8766521) |############# | Elapsed Time: 0:08:23 ETA:   0:08:22"
     ]
    },
    {
     "name": "stdout",
     "output_type": "stream",
     "text": [
      "Creating dataset with neighbourhood ...\n"
     ]
    },
    {
     "name": "stderr",
     "output_type": "stream",
     "text": [
      " 99% (8737265 of 8766521) |############# | Elapsed Time: 0:08:27 ETA:   0:00:01"
     ]
    },
    {
     "name": "stdout",
     "output_type": "stream",
     "text": [
      "Creating dataset with neighbourhood ...\n"
     ]
    },
    {
     "name": "stderr",
     "output_type": "stream",
     "text": [
      "100% (8766521 of 8766521) |##############| Elapsed Time: 0:08:28 Time:  0:08:28\n"
     ]
    },
    {
     "name": "stdout",
     "output_type": "stream",
     "text": [
      "----> Load model and make predictions (consensus). <----\n",
      "----> Create consensus summary. <----\n",
      "----> Create pileups from assembly. <----\n"
     ]
    },
    {
     "name": "stderr",
     "output_type": "stream",
     "text": [
      "100% (8634561 of 8634561) |##############| Elapsed Time: 0:03:38 Time:  0:03:38\n"
     ]
    },
    {
     "name": "stdout",
     "output_type": "stream",
     "text": [
      "----> Create dataset with neighbourhood from pileups. <----\n"
     ]
    },
    {
     "name": "stderr",
     "output_type": "stream",
     "text": [
      "  0% (3667 of 8634561) |                 | Elapsed Time: 0:00:00 ETA:   0:07:51"
     ]
    },
    {
     "name": "stdout",
     "output_type": "stream",
     "text": [
      "Creating dataset with neighbourhood ...\n"
     ]
    },
    {
     "name": "stderr",
     "output_type": "stream",
     "text": [
      " 94% (8199219 of 8634561) |############# | Elapsed Time: 0:07:50 ETA:   0:45:34"
     ]
    },
    {
     "name": "stdout",
     "output_type": "stream",
     "text": [
      "Creating dataset with neighbourhood ...\n"
     ]
    },
    {
     "name": "stderr",
     "output_type": "stream",
     "text": [
      " 97% (8423125 of 8634561) |############# | Elapsed Time: 0:08:03 ETA:   0:00:17"
     ]
    },
    {
     "name": "stdout",
     "output_type": "stream",
     "text": [
      "Creating dataset with neighbourhood ...\n"
     ]
    },
    {
     "name": "stderr",
     "output_type": "stream",
     "text": [
      " 99% (8617102 of 8634561) |############# | Elapsed Time: 0:08:14 ETA:   0:00:01"
     ]
    },
    {
     "name": "stdout",
     "output_type": "stream",
     "text": [
      "Creating dataset with neighbourhood ...\n"
     ]
    },
    {
     "name": "stderr",
     "output_type": "stream",
     "text": [
      "100% (8634561 of 8634561) |##############| Elapsed Time: 0:08:15 Time:  0:08:15\n"
     ]
    },
    {
     "name": "stdout",
     "output_type": "stream",
     "text": [
      "----> Load model and make predictions (consensus). <----\n",
      "----> Create consensus summary. <----\n"
     ]
    }
   ],
   "source": [
    "model_path = '/home/diplomski-rad/blade/pb/datasets/n15-racon-hax/model-15.h5'\n",
    "reads_paths = [\n",
    "    '/home/data/pacific_biosciences/bacteria/escherichia/coli/NCTC86.fastq',\n",
    "    '/home/data/pacific_biosciences/bacteria/morganella/morgani/NCTC235.fastq',\n",
    "    '/home/data/pacific_biosciences/bacteria/salmonella/enterica/NCTC92.fastq',\n",
    "    '/home/data/pacific_biosciences/bacteria/salmonella/enterica/NCTC129.fastq',\n",
    "    '/home/data/pacific_biosciences/bacteria/klebsiela/pneumoniae/NCTC204.fastq'\n",
    "]\n",
    "assembly_paths = [\n",
    "    '/home/diplomski-rad/blade/pb/escherichia-coli-NCTC86/iter2.fasta',\n",
    "    '/home/diplomski-rad/blade/pb/morganela-morgani-NCTC235/iter2.fasta',\n",
    "    '/home/diplomski-rad/blade/pb/salmonella-enterica-NCTC92/iter2.fasta',\n",
    "    '/home/diplomski-rad/blade/pb/salmonella-enterica-NCTC129/iter2.fasta',\n",
    "    '/home/diplomski-rad/blade/pb/klebsiela-pneumoniae-NCTC204-BROKEN/iter2.fasta'\n",
    "]\n",
    "reference_paths = [\n",
    "    '/home/data/pacific_biosciences/bacteria/escherichia/coli/escherichia_coli_reference.fasta',\n",
    "    '/home/data/pacific_biosciences/bacteria/morganella/morgani/morganella_morganii_reference.fasta',\n",
    "    '/home/data/pacific_biosciences/bacteria/salmonella/enterica/salmonella_enterica_reference.fasta',\n",
    "    '/home/data/pacific_biosciences/bacteria/salmonella/enterica/salmonella_enterica_reference.fasta',\n",
    "    '/home/data/pacific_biosciences/bacteria/klebsiela/pneumoniae/klebsiella_pneumoniae_reference.fasta'\n",
    "]\n",
    "sam_file_paths = [\n",
    "    '/home/diplomski-rad/blade/pb/escherichia-coli-NCTC86/reads-to-asm.sam',\n",
    "    '/home/diplomski-rad/blade/pb/morganela-morgani-NCTC235/reads-to-asm.sam',\n",
    "    '/home/diplomski-rad/blade/pb/salmonella-enterica-NCTC92/reads-to-asm.sam',\n",
    "    '/home/diplomski-rad/blade/pb/salmonella-enterica-NCTC129/reads-to-asm.sam',\n",
    "    '/home/diplomski-rad/blade/pb/klebsiela-pneumoniae-NCTC204-BROKEN/reads-to-asm.sam'\n",
    "]\n",
    "neighbourhood_size = 15\n",
    "output_dirs = [\n",
    "    './e-coli-NCTC86-all-contigs-n15-model-15-racon-hax',\n",
    "    './m-morgani-NCTC235-all-contigs-n15-model-15-racon-hax',\n",
    "    './s-enterica-NCTC92-all-contigs-n15-model-15-racon-hax',\n",
    "    './s-enterica-NCTC129-all-contigs-n15-model-15-racon-hax',\n",
    "    './k-pneumoniae-NCTC204-all-contigs-n15-model-15-racon-hax'\n",
    "]\n",
    "result_file_paths = [\n",
    "    '/home/diplomski-rad/results/pb/all-bacteria-dataset/escherichia-coli-NCTC86/n15-model-15-all-contigs-racon-hax-report.txt',\n",
    "    '/home/diplomski-rad/results/pb/all-bacteria-dataset/morganela-morgani-NCTC235/n15-model-15-all-contigs-racon-hax-report.txt',\n",
    "    '/home/diplomski-rad/results/pb/all-bacteria-dataset/salmonella-enterica-NCTC92/n15-model-15-all-contigs-racon-hax-report.txt',\n",
    "    '/home/diplomski-rad/results/pb/all-bacteria-dataset/salmonella-enterica-NCTC129/n15-model-15-all-contigs-racon-hax-report.txt',\n",
    "    '/home/diplomski-rad/results/pb/all-bacteria-dataset/klebsiela-pneumoniae-NCTC204/n15-model-15-all-contigs-racon-hax-report.txt'\n",
    "]\n",
    "tools_dir = '/home/diplomski-rad/'\n",
    "racon_hax_output_dir = './racon-hax-tmp'\n",
    "num_threads = 12\n",
    "\n",
    "for reads_path, assembly_path, reference_path, sam_file_path, output_dir, result_file_path in \\\n",
    "    zip(reads_paths, assembly_paths, reference_paths, sam_file_paths, output_dirs, result_file_paths):\n",
    "    \n",
    "    pileup_generator = pileups.RaconMSAGenerator(\n",
    "        reads_path,\n",
    "        sam_file_path,\n",
    "        assembly_path,\n",
    "        mode='inference',\n",
    "        tools_dir=tools_dir,\n",
    "        racon_hax_output_dir=racon_hax_output_dir,\n",
    "        num_threads=num_threads\n",
    "    )\n",
    "    \n",
    "    inference.make_consensus(\n",
    "        model_path, \n",
    "        reference_path,\n",
    "        pileup_generator,\n",
    "        neighbourhood_size,\n",
    "        output_dir,\n",
    "        tools_dir,\n",
    "        result_file_path)"
   ]
  },
  {
   "cell_type": "markdown",
   "metadata": {},
   "source": [
    "## n-15 model-19 racon-hax"
   ]
  },
  {
   "cell_type": "code",
   "execution_count": 2,
   "metadata": {},
   "outputs": [
    {
     "name": "stdout",
     "output_type": "stream",
     "text": [
      "----> Create pileups from assembly. <----\n"
     ]
    },
    {
     "name": "stderr",
     "output_type": "stream",
     "text": [
      "100% (9647260 of 9647260) |##############| Elapsed Time: 0:03:51 Time:  0:03:51\n"
     ]
    },
    {
     "name": "stdout",
     "output_type": "stream",
     "text": [
      "----> Create dataset with neighbourhood from pileups. <----\n"
     ]
    },
    {
     "name": "stderr",
     "output_type": "stream",
     "text": [
      "  0% (3757 of 9647260) |                 | Elapsed Time: 0:00:00 ETA:   0:08:34"
     ]
    },
    {
     "name": "stdout",
     "output_type": "stream",
     "text": [
      "Creating dataset with neighbourhood ...\n"
     ]
    },
    {
     "name": "stderr",
     "output_type": "stream",
     "text": [
      "100% (9647260 of 9647260) |##############| Elapsed Time: 0:08:29 Time:  0:08:29\n"
     ]
    },
    {
     "name": "stdout",
     "output_type": "stream",
     "text": [
      "----> Load model and make predictions (consensus). <----\n",
      "WARNING:tensorflow:From /usr/local/lib/python3.5/dist-packages/tensorflow/python/util/deprecation.py:497: calling conv1d (from tensorflow.python.ops.nn_ops) with data_format=NHWC is deprecated and will be removed in a future version.\n",
      "Instructions for updating:\n",
      "`NHWC` for data_format is deprecated, use `NWC` instead\n",
      "----> Create consensus summary. <----\n",
      "----> Create pileups from assembly. <----\n"
     ]
    },
    {
     "name": "stderr",
     "output_type": "stream",
     "text": [
      "100% (6947852 of 6947852) |##############| Elapsed Time: 0:03:00 Time:  0:03:00\n"
     ]
    },
    {
     "name": "stdout",
     "output_type": "stream",
     "text": [
      "----> Create dataset with neighbourhood from pileups. <----\n"
     ]
    },
    {
     "name": "stderr",
     "output_type": "stream",
     "text": [
      "  0% (3714 of 6947852) |                 | Elapsed Time: 0:00:00 ETA:   0:06:14"
     ]
    },
    {
     "name": "stdout",
     "output_type": "stream",
     "text": [
      "Creating dataset with neighbourhood ...\n"
     ]
    },
    {
     "name": "stderr",
     "output_type": "stream",
     "text": [
      " 57% (3965306 of 6947852) |#######       | Elapsed Time: 0:03:51 ETA:   2:36:49"
     ]
    },
    {
     "name": "stdout",
     "output_type": "stream",
     "text": [
      "Creating dataset with neighbourhood ...\n"
     ]
    },
    {
     "name": "stderr",
     "output_type": "stream",
     "text": [
      "100% (6947852 of 6947852) |##############| Elapsed Time: 0:06:42 Time:  0:06:42\n"
     ]
    },
    {
     "name": "stdout",
     "output_type": "stream",
     "text": [
      "----> Load model and make predictions (consensus). <----\n",
      "----> Create consensus summary. <----\n",
      "----> Create pileups from assembly. <----\n"
     ]
    },
    {
     "name": "stderr",
     "output_type": "stream",
     "text": [
      "100% (9238925 of 9238925) |##############| Elapsed Time: 0:03:52 Time:  0:03:52\n"
     ]
    },
    {
     "name": "stdout",
     "output_type": "stream",
     "text": [
      "----> Create dataset with neighbourhood from pileups. <----\n"
     ]
    },
    {
     "name": "stderr",
     "output_type": "stream",
     "text": [
      "  0% (3701 of 9238925) |                 | Elapsed Time: 0:00:00 ETA:   0:08:19"
     ]
    },
    {
     "name": "stdout",
     "output_type": "stream",
     "text": [
      "Creating dataset with neighbourhood ...\n"
     ]
    },
    {
     "name": "stderr",
     "output_type": "stream",
     "text": [
      " 99% (9237819 of 9238925) |############# | Elapsed Time: 0:08:56 ETA:   0:00:06"
     ]
    },
    {
     "name": "stdout",
     "output_type": "stream",
     "text": [
      "Creating dataset with neighbourhood ...\n"
     ]
    },
    {
     "name": "stderr",
     "output_type": "stream",
     "text": [
      "100% (9238925 of 9238925) |##############| Elapsed Time: 0:08:56 Time:  0:08:56\n"
     ]
    },
    {
     "name": "stdout",
     "output_type": "stream",
     "text": [
      "----> Load model and make predictions (consensus). <----\n",
      "----> Create consensus summary. <----\n",
      "----> Create pileups from assembly. <----\n"
     ]
    },
    {
     "name": "stderr",
     "output_type": "stream",
     "text": [
      "100% (8766521 of 8766521) |##############| Elapsed Time: 0:04:05 Time:  0:04:05\n"
     ]
    },
    {
     "name": "stdout",
     "output_type": "stream",
     "text": [
      "----> Create dataset with neighbourhood from pileups. <----\n"
     ]
    },
    {
     "name": "stderr",
     "output_type": "stream",
     "text": [
      "  0% (3695 of 8766521) |                 | Elapsed Time: 0:00:00 ETA:   0:07:54"
     ]
    },
    {
     "name": "stdout",
     "output_type": "stream",
     "text": [
      "Creating dataset with neighbourhood ...\n"
     ]
    },
    {
     "name": "stderr",
     "output_type": "stream",
     "text": [
      " 98% (8676025 of 8766521) |############# | Elapsed Time: 0:08:30 ETA:   0:09:16"
     ]
    },
    {
     "name": "stdout",
     "output_type": "stream",
     "text": [
      "Creating dataset with neighbourhood ...\n"
     ]
    },
    {
     "name": "stderr",
     "output_type": "stream",
     "text": [
      " 99% (8737496 of 8766521) |############# | Elapsed Time: 0:08:33 ETA:   0:00:01"
     ]
    },
    {
     "name": "stdout",
     "output_type": "stream",
     "text": [
      "Creating dataset with neighbourhood ...\n"
     ]
    },
    {
     "name": "stderr",
     "output_type": "stream",
     "text": [
      "100% (8766521 of 8766521) |##############| Elapsed Time: 0:08:35 Time:  0:08:35\n"
     ]
    },
    {
     "name": "stdout",
     "output_type": "stream",
     "text": [
      "----> Load model and make predictions (consensus). <----\n",
      "----> Create consensus summary. <----\n",
      "----> Create pileups from assembly. <----\n"
     ]
    },
    {
     "name": "stderr",
     "output_type": "stream",
     "text": [
      "100% (8634561 of 8634561) |##############| Elapsed Time: 0:03:48 Time:  0:03:48\n"
     ]
    },
    {
     "name": "stdout",
     "output_type": "stream",
     "text": [
      "----> Create dataset with neighbourhood from pileups. <----\n"
     ]
    },
    {
     "name": "stderr",
     "output_type": "stream",
     "text": [
      "  0% (3665 of 8634561) |                 | Elapsed Time: 0:00:00 ETA:   0:07:51"
     ]
    },
    {
     "name": "stdout",
     "output_type": "stream",
     "text": [
      "Creating dataset with neighbourhood ...\n"
     ]
    },
    {
     "name": "stderr",
     "output_type": "stream",
     "text": [
      " 94% (8199227 of 8634561) |############# | Elapsed Time: 0:08:06 ETA:   0:52:13"
     ]
    },
    {
     "name": "stdout",
     "output_type": "stream",
     "text": [
      "Creating dataset with neighbourhood ...\n"
     ]
    },
    {
     "name": "stderr",
     "output_type": "stream",
     "text": [
      " 97% (8422839 of 8634561) |############# | Elapsed Time: 0:08:20 ETA:   0:00:17"
     ]
    },
    {
     "name": "stdout",
     "output_type": "stream",
     "text": [
      "Creating dataset with neighbourhood ...\n"
     ]
    },
    {
     "name": "stderr",
     "output_type": "stream",
     "text": [
      " 99% (8617026 of 8634561) |############# | Elapsed Time: 0:08:31 ETA:   0:00:01"
     ]
    },
    {
     "name": "stdout",
     "output_type": "stream",
     "text": [
      "Creating dataset with neighbourhood ...\n"
     ]
    },
    {
     "name": "stderr",
     "output_type": "stream",
     "text": [
      "100% (8634561 of 8634561) |##############| Elapsed Time: 0:08:32 Time:  0:08:32\n"
     ]
    },
    {
     "name": "stdout",
     "output_type": "stream",
     "text": [
      "----> Load model and make predictions (consensus). <----\n",
      "----> Create consensus summary. <----\n"
     ]
    }
   ],
   "source": [
    "model_path = '/home/diplomski-rad/blade/pb/datasets/n15-racon-hax/model-19.h5'\n",
    "reads_paths = [\n",
    "    '/home/data/pacific_biosciences/bacteria/escherichia/coli/NCTC86.fastq',\n",
    "    '/home/data/pacific_biosciences/bacteria/morganella/morgani/NCTC235.fastq',\n",
    "    '/home/data/pacific_biosciences/bacteria/salmonella/enterica/NCTC92.fastq',\n",
    "    '/home/data/pacific_biosciences/bacteria/salmonella/enterica/NCTC129.fastq',\n",
    "    '/home/data/pacific_biosciences/bacteria/klebsiela/pneumoniae/NCTC204.fastq'\n",
    "]\n",
    "assembly_paths = [\n",
    "    '/home/diplomski-rad/blade/pb/escherichia-coli-NCTC86/iter2.fasta',\n",
    "    '/home/diplomski-rad/blade/pb/morganela-morgani-NCTC235/iter2.fasta',\n",
    "    '/home/diplomski-rad/blade/pb/salmonella-enterica-NCTC92/iter2.fasta',\n",
    "    '/home/diplomski-rad/blade/pb/salmonella-enterica-NCTC129/iter2.fasta',\n",
    "    '/home/diplomski-rad/blade/pb/klebsiela-pneumoniae-NCTC204-BROKEN/iter2.fasta'\n",
    "]\n",
    "reference_paths = [\n",
    "    '/home/data/pacific_biosciences/bacteria/escherichia/coli/escherichia_coli_reference.fasta',\n",
    "    '/home/data/pacific_biosciences/bacteria/morganella/morgani/morganella_morganii_reference.fasta',\n",
    "    '/home/data/pacific_biosciences/bacteria/salmonella/enterica/salmonella_enterica_reference.fasta',\n",
    "    '/home/data/pacific_biosciences/bacteria/salmonella/enterica/salmonella_enterica_reference.fasta',\n",
    "    '/home/data/pacific_biosciences/bacteria/klebsiela/pneumoniae/klebsiella_pneumoniae_reference.fasta'\n",
    "]\n",
    "sam_file_paths = [\n",
    "    '/home/diplomski-rad/blade/pb/escherichia-coli-NCTC86/reads-to-asm.sam',\n",
    "    '/home/diplomski-rad/blade/pb/morganela-morgani-NCTC235/reads-to-asm.sam',\n",
    "    '/home/diplomski-rad/blade/pb/salmonella-enterica-NCTC92/reads-to-asm.sam',\n",
    "    '/home/diplomski-rad/blade/pb/salmonella-enterica-NCTC129/reads-to-asm.sam',\n",
    "    '/home/diplomski-rad/blade/pb/klebsiela-pneumoniae-NCTC204-BROKEN/reads-to-asm.sam'\n",
    "]\n",
    "neighbourhood_size = 15\n",
    "output_dirs = [\n",
    "    './e-coli-NCTC86-all-contigs-n15-model-19-racon-hax',\n",
    "    './m-morgani-NCTC235-all-contigs-n15-model-19-racon-hax',\n",
    "    './s-enterica-NCTC92-all-contigs-n15-model-19-racon-hax',\n",
    "    './s-enterica-NCTC129-all-contigs-n15-model-19-racon-hax',\n",
    "    './k-pneumoniae-NCTC204-all-contigs-n15-model-19-racon-hax'\n",
    "]\n",
    "result_file_paths = [\n",
    "    '/home/diplomski-rad/results/pb/all-bacteria-dataset/escherichia-coli-NCTC86/n15-model-19-all-contigs-racon-hax-report.txt',\n",
    "    '/home/diplomski-rad/results/pb/all-bacteria-dataset/morganela-morgani-NCTC235/n15-model-19-all-contigs-racon-hax-report.txt',\n",
    "    '/home/diplomski-rad/results/pb/all-bacteria-dataset/salmonella-enterica-NCTC92/n15-model-19-all-contigs-racon-hax-report.txt',\n",
    "    '/home/diplomski-rad/results/pb/all-bacteria-dataset/salmonella-enterica-NCTC129/n15-model-19-all-contigs-racon-hax-report.txt',\n",
    "    '/home/diplomski-rad/results/pb/all-bacteria-dataset/klebsiela-pneumoniae-NCTC204/n15-model-19-all-contigs-racon-hax-report.txt'\n",
    "]\n",
    "tools_dir = '/home/diplomski-rad/'\n",
    "racon_hax_output_dir = './racon-hax-tmp'\n",
    "num_threads = 12\n",
    "\n",
    "for reads_path, assembly_path, reference_path, sam_file_path, output_dir, result_file_path in \\\n",
    "    zip(reads_paths, assembly_paths, reference_paths, sam_file_paths, output_dirs, result_file_paths):\n",
    "    \n",
    "    pileup_generator = pileups.RaconMSAGenerator(\n",
    "        reads_path,\n",
    "        sam_file_path,\n",
    "        assembly_path,\n",
    "        mode='inference',\n",
    "        tools_dir=tools_dir,\n",
    "        racon_hax_output_dir=racon_hax_output_dir,\n",
    "        num_threads=num_threads\n",
    "    )\n",
    "    \n",
    "    inference.make_consensus(\n",
    "        model_path, \n",
    "        reference_path,\n",
    "        pileup_generator,\n",
    "        neighbourhood_size,\n",
    "        output_dir,\n",
    "        tools_dir,\n",
    "        result_file_path)"
   ]
  },
  {
   "cell_type": "markdown",
   "metadata": {},
   "source": [
    "## n-15 model-20 racon-hax"
   ]
  },
  {
   "cell_type": "code",
   "execution_count": 3,
   "metadata": {},
   "outputs": [
    {
     "name": "stdout",
     "output_type": "stream",
     "text": [
      "----> Create pileups from assembly. <----\n"
     ]
    },
    {
     "name": "stderr",
     "output_type": "stream",
     "text": [
      "100% (9647260 of 9647260) |##############| Elapsed Time: 0:04:08 Time:  0:04:08\n"
     ]
    },
    {
     "name": "stdout",
     "output_type": "stream",
     "text": [
      "----> Create dataset with neighbourhood from pileups. <----\n"
     ]
    },
    {
     "name": "stderr",
     "output_type": "stream",
     "text": [
      "  0% (3745 of 9647260) |                 | Elapsed Time: 0:00:00 ETA:   0:08:35"
     ]
    },
    {
     "name": "stdout",
     "output_type": "stream",
     "text": [
      "Creating dataset with neighbourhood ...\n"
     ]
    },
    {
     "name": "stderr",
     "output_type": "stream",
     "text": [
      "100% (9647260 of 9647260) |##############| Elapsed Time: 0:09:11 Time:  0:09:11\n"
     ]
    },
    {
     "name": "stdout",
     "output_type": "stream",
     "text": [
      "----> Load model and make predictions (consensus). <----\n",
      "----> Create consensus summary. <----\n",
      "----> Create pileups from assembly. <----\n"
     ]
    },
    {
     "name": "stderr",
     "output_type": "stream",
     "text": [
      "100% (6947852 of 6947852) |##############| Elapsed Time: 0:03:05 Time:  0:03:05\n"
     ]
    },
    {
     "name": "stdout",
     "output_type": "stream",
     "text": [
      "----> Create dataset with neighbourhood from pileups. <----\n"
     ]
    },
    {
     "name": "stderr",
     "output_type": "stream",
     "text": [
      "  0% (3670 of 6947852) |                 | Elapsed Time: 0:00:00 ETA:   0:06:18"
     ]
    },
    {
     "name": "stdout",
     "output_type": "stream",
     "text": [
      "Creating dataset with neighbourhood ...\n"
     ]
    },
    {
     "name": "stderr",
     "output_type": "stream",
     "text": [
      " 57% (3965266 of 6947852) |#######       | Elapsed Time: 0:03:57 ETA:   3:03:42"
     ]
    },
    {
     "name": "stdout",
     "output_type": "stream",
     "text": [
      "Creating dataset with neighbourhood ...\n"
     ]
    },
    {
     "name": "stderr",
     "output_type": "stream",
     "text": [
      "100% (6947852 of 6947852) |##############| Elapsed Time: 0:06:51 Time:  0:06:51\n"
     ]
    },
    {
     "name": "stdout",
     "output_type": "stream",
     "text": [
      "----> Load model and make predictions (consensus). <----\n",
      "----> Create consensus summary. <----\n",
      "----> Create pileups from assembly. <----\n"
     ]
    },
    {
     "name": "stderr",
     "output_type": "stream",
     "text": [
      "100% (9238925 of 9238925) |##############| Elapsed Time: 0:03:44 Time:  0:03:44\n"
     ]
    },
    {
     "name": "stdout",
     "output_type": "stream",
     "text": [
      "----> Create dataset with neighbourhood from pileups. <----\n"
     ]
    },
    {
     "name": "stderr",
     "output_type": "stream",
     "text": [
      "  0% (3618 of 9238925) |                 | Elapsed Time: 0:00:00 ETA:   0:08:31"
     ]
    },
    {
     "name": "stdout",
     "output_type": "stream",
     "text": [
      "Creating dataset with neighbourhood ...\n"
     ]
    },
    {
     "name": "stderr",
     "output_type": "stream",
     "text": [
      " 99% (9237914 of 9238925) |############# | Elapsed Time: 0:08:49 ETA:   0:00:05"
     ]
    },
    {
     "name": "stdout",
     "output_type": "stream",
     "text": [
      "Creating dataset with neighbourhood ...\n"
     ]
    },
    {
     "name": "stderr",
     "output_type": "stream",
     "text": [
      "100% (9238925 of 9238925) |##############| Elapsed Time: 0:08:49 Time:  0:08:49\n"
     ]
    },
    {
     "name": "stdout",
     "output_type": "stream",
     "text": [
      "----> Load model and make predictions (consensus). <----\n",
      "----> Create consensus summary. <----\n",
      "----> Create pileups from assembly. <----\n"
     ]
    },
    {
     "name": "stderr",
     "output_type": "stream",
     "text": [
      "100% (8766521 of 8766521) |##############| Elapsed Time: 0:04:05 Time:  0:04:05\n"
     ]
    },
    {
     "name": "stdout",
     "output_type": "stream",
     "text": [
      "----> Create dataset with neighbourhood from pileups. <----\n"
     ]
    },
    {
     "name": "stderr",
     "output_type": "stream",
     "text": [
      "  0% (3750 of 8766521) |                 | Elapsed Time: 0:00:00 ETA:   0:07:47"
     ]
    },
    {
     "name": "stdout",
     "output_type": "stream",
     "text": [
      "Creating dataset with neighbourhood ...\n"
     ]
    },
    {
     "name": "stderr",
     "output_type": "stream",
     "text": [
      " 98% (8676090 of 8766521) |############# | Elapsed Time: 0:08:21 ETA:   0:09:27"
     ]
    },
    {
     "name": "stdout",
     "output_type": "stream",
     "text": [
      "Creating dataset with neighbourhood ...\n"
     ]
    },
    {
     "name": "stderr",
     "output_type": "stream",
     "text": [
      " 99% (8736900 of 8766521) |############# | Elapsed Time: 0:08:24 ETA:   0:00:01"
     ]
    },
    {
     "name": "stdout",
     "output_type": "stream",
     "text": [
      "Creating dataset with neighbourhood ...\n"
     ]
    },
    {
     "name": "stderr",
     "output_type": "stream",
     "text": [
      "100% (8766521 of 8766521) |##############| Elapsed Time: 0:08:26 Time:  0:08:26\n"
     ]
    },
    {
     "name": "stdout",
     "output_type": "stream",
     "text": [
      "----> Load model and make predictions (consensus). <----\n",
      "----> Create consensus summary. <----\n",
      "----> Create pileups from assembly. <----\n"
     ]
    },
    {
     "name": "stderr",
     "output_type": "stream",
     "text": [
      "100% (8634561 of 8634561) |##############| Elapsed Time: 0:04:07 Time:  0:04:07\n"
     ]
    },
    {
     "name": "stdout",
     "output_type": "stream",
     "text": [
      "----> Create dataset with neighbourhood from pileups. <----\n"
     ]
    },
    {
     "name": "stderr",
     "output_type": "stream",
     "text": [
      "  0% (3718 of 8634561) |                 | Elapsed Time: 0:00:00 ETA:   0:07:44"
     ]
    },
    {
     "name": "stdout",
     "output_type": "stream",
     "text": [
      "Creating dataset with neighbourhood ...\n"
     ]
    },
    {
     "name": "stderr",
     "output_type": "stream",
     "text": [
      " 94% (8199243 of 8634561) |############# | Elapsed Time: 0:07:55 ETA:   0:36:16"
     ]
    },
    {
     "name": "stdout",
     "output_type": "stream",
     "text": [
      "Creating dataset with neighbourhood ...\n"
     ]
    },
    {
     "name": "stderr",
     "output_type": "stream",
     "text": [
      " 97% (8423238 of 8634561) |############# | Elapsed Time: 0:08:08 ETA:   0:00:19"
     ]
    },
    {
     "name": "stdout",
     "output_type": "stream",
     "text": [
      "Creating dataset with neighbourhood ...\n"
     ]
    },
    {
     "name": "stderr",
     "output_type": "stream",
     "text": [
      " 99% (8617122 of 8634561) |############# | Elapsed Time: 0:08:19 ETA:   0:00:01"
     ]
    },
    {
     "name": "stdout",
     "output_type": "stream",
     "text": [
      "Creating dataset with neighbourhood ...\n"
     ]
    },
    {
     "name": "stderr",
     "output_type": "stream",
     "text": [
      "100% (8634561 of 8634561) |##############| Elapsed Time: 0:08:20 Time:  0:08:20\n"
     ]
    },
    {
     "name": "stdout",
     "output_type": "stream",
     "text": [
      "----> Load model and make predictions (consensus). <----\n",
      "----> Create consensus summary. <----\n"
     ]
    }
   ],
   "source": [
    "model_path = '/home/diplomski-rad/blade/pb/datasets/n15-racon-hax/model-20.h5'\n",
    "reads_paths = [\n",
    "    '/home/data/pacific_biosciences/bacteria/escherichia/coli/NCTC86.fastq',\n",
    "    '/home/data/pacific_biosciences/bacteria/morganella/morgani/NCTC235.fastq',\n",
    "    '/home/data/pacific_biosciences/bacteria/salmonella/enterica/NCTC92.fastq',\n",
    "    '/home/data/pacific_biosciences/bacteria/salmonella/enterica/NCTC129.fastq',\n",
    "    '/home/data/pacific_biosciences/bacteria/klebsiela/pneumoniae/NCTC204.fastq'\n",
    "]\n",
    "assembly_paths = [\n",
    "    '/home/diplomski-rad/blade/pb/escherichia-coli-NCTC86/iter2.fasta',\n",
    "    '/home/diplomski-rad/blade/pb/morganela-morgani-NCTC235/iter2.fasta',\n",
    "    '/home/diplomski-rad/blade/pb/salmonella-enterica-NCTC92/iter2.fasta',\n",
    "    '/home/diplomski-rad/blade/pb/salmonella-enterica-NCTC129/iter2.fasta',\n",
    "    '/home/diplomski-rad/blade/pb/klebsiela-pneumoniae-NCTC204-BROKEN/iter2.fasta'\n",
    "]\n",
    "reference_paths = [\n",
    "    '/home/data/pacific_biosciences/bacteria/escherichia/coli/escherichia_coli_reference.fasta',\n",
    "    '/home/data/pacific_biosciences/bacteria/morganella/morgani/morganella_morganii_reference.fasta',\n",
    "    '/home/data/pacific_biosciences/bacteria/salmonella/enterica/salmonella_enterica_reference.fasta',\n",
    "    '/home/data/pacific_biosciences/bacteria/salmonella/enterica/salmonella_enterica_reference.fasta',\n",
    "    '/home/data/pacific_biosciences/bacteria/klebsiela/pneumoniae/klebsiella_pneumoniae_reference.fasta'\n",
    "]\n",
    "sam_file_paths = [\n",
    "    '/home/diplomski-rad/blade/pb/escherichia-coli-NCTC86/reads-to-asm.sam',\n",
    "    '/home/diplomski-rad/blade/pb/morganela-morgani-NCTC235/reads-to-asm.sam',\n",
    "    '/home/diplomski-rad/blade/pb/salmonella-enterica-NCTC92/reads-to-asm.sam',\n",
    "    '/home/diplomski-rad/blade/pb/salmonella-enterica-NCTC129/reads-to-asm.sam',\n",
    "    '/home/diplomski-rad/blade/pb/klebsiela-pneumoniae-NCTC204-BROKEN/reads-to-asm.sam'\n",
    "]\n",
    "neighbourhood_size = 15\n",
    "output_dirs = [\n",
    "    './e-coli-NCTC86-all-contigs-n15-model-20-racon-hax',\n",
    "    './m-morgani-NCTC235-all-contigs-n15-model-20-racon-hax',\n",
    "    './s-enterica-NCTC92-all-contigs-n15-model-20-racon-hax',\n",
    "    './s-enterica-NCTC129-all-contigs-n15-model-20-racon-hax',\n",
    "    './k-pneumoniae-NCTC204-all-contigs-n15-model-20-racon-hax'\n",
    "]\n",
    "result_file_paths = [\n",
    "    '/home/diplomski-rad/results/pb/all-bacteria-dataset/escherichia-coli-NCTC86/n15-model-20-all-contigs-racon-hax-report.txt',\n",
    "    '/home/diplomski-rad/results/pb/all-bacteria-dataset/morganela-morgani-NCTC235/n15-model-20-all-contigs-racon-hax-report.txt',\n",
    "    '/home/diplomski-rad/results/pb/all-bacteria-dataset/salmonella-enterica-NCTC92/n15-model-20-all-contigs-racon-hax-report.txt',\n",
    "    '/home/diplomski-rad/results/pb/all-bacteria-dataset/salmonella-enterica-NCTC129/n15-model-20-all-contigs-racon-hax-report.txt',\n",
    "    '/home/diplomski-rad/results/pb/all-bacteria-dataset/klebsiela-pneumoniae-NCTC204/n15-model-20-all-contigs-racon-hax-report.txt'\n",
    "]\n",
    "tools_dir = '/home/diplomski-rad/'\n",
    "racon_hax_output_dir = './racon-hax-tmp'\n",
    "num_threads = 12\n",
    "\n",
    "for reads_path, assembly_path, reference_path, sam_file_path, output_dir, result_file_path in \\\n",
    "    zip(reads_paths, assembly_paths, reference_paths, sam_file_paths, output_dirs, result_file_paths):\n",
    "    \n",
    "    pileup_generator = pileups.RaconMSAGenerator(\n",
    "        reads_path,\n",
    "        sam_file_path,\n",
    "        assembly_path,\n",
    "        mode='inference',\n",
    "        tools_dir=tools_dir,\n",
    "        racon_hax_output_dir=racon_hax_output_dir,\n",
    "        num_threads=num_threads\n",
    "    )\n",
    "    \n",
    "    inference.make_consensus(\n",
    "        model_path, \n",
    "        reference_path,\n",
    "        pileup_generator,\n",
    "        neighbourhood_size,\n",
    "        output_dir,\n",
    "        tools_dir,\n",
    "        result_file_path)"
   ]
  },
  {
   "cell_type": "markdown",
   "metadata": {},
   "source": [
    "## n-20 model-20 racon-hax"
   ]
  },
  {
   "cell_type": "code",
   "execution_count": 4,
   "metadata": {},
   "outputs": [
    {
     "name": "stdout",
     "output_type": "stream",
     "text": [
      "----> Create pileups from assembly. <----\n"
     ]
    },
    {
     "name": "stderr",
     "output_type": "stream",
     "text": [
      "100% (9647260 of 9647260) |##############| Elapsed Time: 0:03:58 Time:  0:03:58\n"
     ]
    },
    {
     "name": "stdout",
     "output_type": "stream",
     "text": [
      "----> Create dataset with neighbourhood from pileups. <----\n"
     ]
    },
    {
     "name": "stderr",
     "output_type": "stream",
     "text": [
      "  0% (3654 of 9647260) |                 | Elapsed Time: 0:00:00 ETA:   0:08:48"
     ]
    },
    {
     "name": "stdout",
     "output_type": "stream",
     "text": [
      "Creating dataset with neighbourhood ...\n"
     ]
    },
    {
     "name": "stderr",
     "output_type": "stream",
     "text": [
      "100% (9647260 of 9647260) |##############| Elapsed Time: 0:09:23 Time:  0:09:23\n"
     ]
    },
    {
     "name": "stdout",
     "output_type": "stream",
     "text": [
      "----> Load model and make predictions (consensus). <----\n",
      "----> Create consensus summary. <----\n",
      "----> Create pileups from assembly. <----\n"
     ]
    },
    {
     "name": "stderr",
     "output_type": "stream",
     "text": [
      "100% (6947852 of 6947852) |##############| Elapsed Time: 0:03:18 Time:  0:03:18\n"
     ]
    },
    {
     "name": "stdout",
     "output_type": "stream",
     "text": [
      "----> Create dataset with neighbourhood from pileups. <----\n"
     ]
    },
    {
     "name": "stderr",
     "output_type": "stream",
     "text": [
      "  0% (3557 of 6947852) |                 | Elapsed Time: 0:00:00 ETA:   0:06:30"
     ]
    },
    {
     "name": "stdout",
     "output_type": "stream",
     "text": [
      "Creating dataset with neighbourhood ...\n"
     ]
    },
    {
     "name": "stderr",
     "output_type": "stream",
     "text": [
      " 57% (3965303 of 6947852) |#######       | Elapsed Time: 0:03:56 ETA:   3:16:49"
     ]
    },
    {
     "name": "stdout",
     "output_type": "stream",
     "text": [
      "Creating dataset with neighbourhood ...\n"
     ]
    },
    {
     "name": "stderr",
     "output_type": "stream",
     "text": [
      "100% (6947852 of 6947852) |##############| Elapsed Time: 0:06:48 Time:  0:06:48\n"
     ]
    },
    {
     "name": "stdout",
     "output_type": "stream",
     "text": [
      "----> Load model and make predictions (consensus). <----\n",
      "----> Create consensus summary. <----\n",
      "----> Create pileups from assembly. <----\n"
     ]
    },
    {
     "name": "stderr",
     "output_type": "stream",
     "text": [
      "100% (9238925 of 9238925) |##############| Elapsed Time: 0:03:43 Time:  0:03:43\n"
     ]
    },
    {
     "name": "stdout",
     "output_type": "stream",
     "text": [
      "----> Create dataset with neighbourhood from pileups. <----\n"
     ]
    },
    {
     "name": "stderr",
     "output_type": "stream",
     "text": [
      "  0% (3692 of 9238925) |                 | Elapsed Time: 0:00:00 ETA:   0:08:20"
     ]
    },
    {
     "name": "stdout",
     "output_type": "stream",
     "text": [
      "Creating dataset with neighbourhood ...\n"
     ]
    },
    {
     "name": "stderr",
     "output_type": "stream",
     "text": [
      " 99% (9237751 of 9238925) |############# | Elapsed Time: 0:08:58 ETA:   0:00:06"
     ]
    },
    {
     "name": "stdout",
     "output_type": "stream",
     "text": [
      "Creating dataset with neighbourhood ...\n"
     ]
    },
    {
     "name": "stderr",
     "output_type": "stream",
     "text": [
      "100% (9238925 of 9238925) |##############| Elapsed Time: 0:08:58 Time:  0:08:58\n"
     ]
    },
    {
     "name": "stdout",
     "output_type": "stream",
     "text": [
      "----> Load model and make predictions (consensus). <----\n",
      "----> Create consensus summary. <----\n",
      "----> Create pileups from assembly. <----\n"
     ]
    },
    {
     "name": "stderr",
     "output_type": "stream",
     "text": [
      "100% (8766521 of 8766521) |##############| Elapsed Time: 0:04:01 Time:  0:04:01\n"
     ]
    },
    {
     "name": "stdout",
     "output_type": "stream",
     "text": [
      "----> Create dataset with neighbourhood from pileups. <----\n"
     ]
    },
    {
     "name": "stderr",
     "output_type": "stream",
     "text": [
      "  0% (3470 of 8766521) |                 | Elapsed Time: 0:00:00 ETA:   0:08:25"
     ]
    },
    {
     "name": "stdout",
     "output_type": "stream",
     "text": [
      "Creating dataset with neighbourhood ...\n"
     ]
    },
    {
     "name": "stderr",
     "output_type": "stream",
     "text": [
      " 98% (8676052 of 8766521) |############# | Elapsed Time: 0:08:34 ETA:   0:09:29"
     ]
    },
    {
     "name": "stdout",
     "output_type": "stream",
     "text": [
      "Creating dataset with neighbourhood ...\n"
     ]
    },
    {
     "name": "stderr",
     "output_type": "stream",
     "text": [
      " 99% (8737381 of 8766521) |############# | Elapsed Time: 0:08:37 ETA:   0:00:01"
     ]
    },
    {
     "name": "stdout",
     "output_type": "stream",
     "text": [
      "Creating dataset with neighbourhood ...\n"
     ]
    },
    {
     "name": "stderr",
     "output_type": "stream",
     "text": [
      "100% (8766521 of 8766521) |##############| Elapsed Time: 0:08:39 Time:  0:08:39\n"
     ]
    },
    {
     "name": "stdout",
     "output_type": "stream",
     "text": [
      "----> Load model and make predictions (consensus). <----\n",
      "----> Create consensus summary. <----\n",
      "----> Create pileups from assembly. <----\n"
     ]
    },
    {
     "name": "stderr",
     "output_type": "stream",
     "text": [
      "100% (8634561 of 8634561) |##############| Elapsed Time: 0:04:03 Time:  0:04:03\n"
     ]
    },
    {
     "name": "stdout",
     "output_type": "stream",
     "text": [
      "----> Create dataset with neighbourhood from pileups. <----\n"
     ]
    },
    {
     "name": "stderr",
     "output_type": "stream",
     "text": [
      "  0% (3727 of 8634561) |                 | Elapsed Time: 0:00:00 ETA:   0:07:43"
     ]
    },
    {
     "name": "stdout",
     "output_type": "stream",
     "text": [
      "Creating dataset with neighbourhood ...\n"
     ]
    },
    {
     "name": "stderr",
     "output_type": "stream",
     "text": [
      " 94% (8199142 of 8634561) |############# | Elapsed Time: 0:08:00 ETA:   0:50:50"
     ]
    },
    {
     "name": "stdout",
     "output_type": "stream",
     "text": [
      "Creating dataset with neighbourhood ...\n"
     ]
    },
    {
     "name": "stderr",
     "output_type": "stream",
     "text": [
      " 97% (8423061 of 8634561) |############# | Elapsed Time: 0:08:13 ETA:   0:00:21"
     ]
    },
    {
     "name": "stdout",
     "output_type": "stream",
     "text": [
      "Creating dataset with neighbourhood ...\n"
     ]
    },
    {
     "name": "stderr",
     "output_type": "stream",
     "text": [
      " 99% (8616857 of 8634561) |############# | Elapsed Time: 0:08:25 ETA:   0:00:01"
     ]
    },
    {
     "name": "stdout",
     "output_type": "stream",
     "text": [
      "Creating dataset with neighbourhood ...\n"
     ]
    },
    {
     "name": "stderr",
     "output_type": "stream",
     "text": [
      "100% (8634561 of 8634561) |##############| Elapsed Time: 0:08:26 Time:  0:08:26\n"
     ]
    },
    {
     "name": "stdout",
     "output_type": "stream",
     "text": [
      "----> Load model and make predictions (consensus). <----\n",
      "----> Create consensus summary. <----\n"
     ]
    }
   ],
   "source": [
    "model_path = '/home/diplomski-rad/blade/pb/datasets/n20-racon-hax/model-20.h5'\n",
    "reads_paths = [\n",
    "    '/home/data/pacific_biosciences/bacteria/escherichia/coli/NCTC86.fastq',\n",
    "    '/home/data/pacific_biosciences/bacteria/morganella/morgani/NCTC235.fastq',\n",
    "    '/home/data/pacific_biosciences/bacteria/salmonella/enterica/NCTC92.fastq',\n",
    "    '/home/data/pacific_biosciences/bacteria/salmonella/enterica/NCTC129.fastq',\n",
    "    '/home/data/pacific_biosciences/bacteria/klebsiela/pneumoniae/NCTC204.fastq'\n",
    "]\n",
    "assembly_paths = [\n",
    "    '/home/diplomski-rad/blade/pb/escherichia-coli-NCTC86/iter2.fasta',\n",
    "    '/home/diplomski-rad/blade/pb/morganela-morgani-NCTC235/iter2.fasta',\n",
    "    '/home/diplomski-rad/blade/pb/salmonella-enterica-NCTC92/iter2.fasta',\n",
    "    '/home/diplomski-rad/blade/pb/salmonella-enterica-NCTC129/iter2.fasta',\n",
    "    '/home/diplomski-rad/blade/pb/klebsiela-pneumoniae-NCTC204-BROKEN/iter2.fasta'\n",
    "]\n",
    "reference_paths = [\n",
    "    '/home/data/pacific_biosciences/bacteria/escherichia/coli/escherichia_coli_reference.fasta',\n",
    "    '/home/data/pacific_biosciences/bacteria/morganella/morgani/morganella_morganii_reference.fasta',\n",
    "    '/home/data/pacific_biosciences/bacteria/salmonella/enterica/salmonella_enterica_reference.fasta',\n",
    "    '/home/data/pacific_biosciences/bacteria/salmonella/enterica/salmonella_enterica_reference.fasta',\n",
    "    '/home/data/pacific_biosciences/bacteria/klebsiela/pneumoniae/klebsiella_pneumoniae_reference.fasta'\n",
    "]\n",
    "sam_file_paths = [\n",
    "    '/home/diplomski-rad/blade/pb/escherichia-coli-NCTC86/reads-to-asm.sam',\n",
    "    '/home/diplomski-rad/blade/pb/morganela-morgani-NCTC235/reads-to-asm.sam',\n",
    "    '/home/diplomski-rad/blade/pb/salmonella-enterica-NCTC92/reads-to-asm.sam',\n",
    "    '/home/diplomski-rad/blade/pb/salmonella-enterica-NCTC129/reads-to-asm.sam',\n",
    "    '/home/diplomski-rad/blade/pb/klebsiela-pneumoniae-NCTC204-BROKEN/reads-to-asm.sam'\n",
    "]\n",
    "neighbourhood_size = 20\n",
    "output_dirs = [\n",
    "    './e-coli-NCTC86-all-contigs-n20-model-20-racon-hax',\n",
    "    './m-morgani-NCTC235-all-contigs-n20-model-20-racon-hax',\n",
    "    './s-enterica-NCTC92-all-contigs-n20-model-20-racon-hax',\n",
    "    './s-enterica-NCTC129-all-contigs-n20-model-20-racon-hax',\n",
    "    './k-pneumoniae-NCTC204-all-contigs-n20-model-20-racon-hax'\n",
    "]\n",
    "result_file_paths = [\n",
    "    '/home/diplomski-rad/results/pb/all-bacteria-dataset/escherichia-coli-NCTC86/n20-model-20-all-contigs-racon-hax-report.txt',\n",
    "    '/home/diplomski-rad/results/pb/all-bacteria-dataset/morganela-morgani-NCTC235/n20-model-20-all-contigs-racon-hax-report.txt',\n",
    "    '/home/diplomski-rad/results/pb/all-bacteria-dataset/salmonella-enterica-NCTC92/n20-model-20-all-contigs-racon-hax-report.txt',\n",
    "    '/home/diplomski-rad/results/pb/all-bacteria-dataset/salmonella-enterica-NCTC129/n20-model-20-all-contigs-racon-hax-report.txt',\n",
    "    '/home/diplomski-rad/results/pb/all-bacteria-dataset/klebsiela-pneumoniae-NCTC204/n20-model-20-all-contigs-racon-hax-report.txt'\n",
    "]\n",
    "tools_dir = '/home/diplomski-rad/'\n",
    "racon_hax_output_dir = './racon-hax-tmp'\n",
    "num_threads = 12\n",
    "\n",
    "for reads_path, assembly_path, reference_path, sam_file_path, output_dir, result_file_path in \\\n",
    "    zip(reads_paths, assembly_paths, reference_paths, sam_file_paths, output_dirs, result_file_paths):\n",
    "    \n",
    "    pileup_generator = pileups.RaconMSAGenerator(\n",
    "        reads_path,\n",
    "        sam_file_path,\n",
    "        assembly_path,\n",
    "        mode='inference',\n",
    "        tools_dir=tools_dir,\n",
    "        racon_hax_output_dir=racon_hax_output_dir,\n",
    "        num_threads=num_threads\n",
    "    )\n",
    "    \n",
    "    inference.make_consensus(\n",
    "        model_path, \n",
    "        reference_path,\n",
    "        pileup_generator,\n",
    "        neighbourhood_size,\n",
    "        output_dir,\n",
    "        tools_dir,\n",
    "        result_file_path)"
   ]
  },
  {
   "cell_type": "markdown",
   "metadata": {},
   "source": [
    "## n-20 model-19 racon-hax"
   ]
  },
  {
   "cell_type": "code",
   "execution_count": 5,
   "metadata": {},
   "outputs": [
    {
     "name": "stdout",
     "output_type": "stream",
     "text": [
      "----> Create pileups from assembly. <----\n"
     ]
    },
    {
     "name": "stderr",
     "output_type": "stream",
     "text": [
      "100% (9647260 of 9647260) |##############| Elapsed Time: 0:04:02 Time:  0:04:02\n"
     ]
    },
    {
     "name": "stdout",
     "output_type": "stream",
     "text": [
      "----> Create dataset with neighbourhood from pileups. <----\n"
     ]
    },
    {
     "name": "stderr",
     "output_type": "stream",
     "text": [
      "  0% (3686 of 9647260) |                 | Elapsed Time: 0:00:00 ETA:   0:08:43"
     ]
    },
    {
     "name": "stdout",
     "output_type": "stream",
     "text": [
      "Creating dataset with neighbourhood ...\n"
     ]
    },
    {
     "name": "stderr",
     "output_type": "stream",
     "text": [
      "100% (9647260 of 9647260) |##############| Elapsed Time: 0:09:18 Time:  0:09:18\n"
     ]
    },
    {
     "name": "stdout",
     "output_type": "stream",
     "text": [
      "----> Load model and make predictions (consensus). <----\n",
      "----> Create consensus summary. <----\n",
      "----> Create pileups from assembly. <----\n"
     ]
    },
    {
     "name": "stderr",
     "output_type": "stream",
     "text": [
      "100% (6947852 of 6947852) |##############| Elapsed Time: 0:02:57 Time:  0:02:57\n"
     ]
    },
    {
     "name": "stdout",
     "output_type": "stream",
     "text": [
      "----> Create dataset with neighbourhood from pileups. <----\n"
     ]
    },
    {
     "name": "stderr",
     "output_type": "stream",
     "text": [
      "  0% (3666 of 6947852) |                 | Elapsed Time: 0:00:00 ETA:   0:06:19"
     ]
    },
    {
     "name": "stdout",
     "output_type": "stream",
     "text": [
      "Creating dataset with neighbourhood ...\n"
     ]
    },
    {
     "name": "stderr",
     "output_type": "stream",
     "text": [
      " 57% (3965322 of 6947852) |#######       | Elapsed Time: 0:03:54 ETA:   2:48:40"
     ]
    },
    {
     "name": "stdout",
     "output_type": "stream",
     "text": [
      "Creating dataset with neighbourhood ...\n"
     ]
    },
    {
     "name": "stderr",
     "output_type": "stream",
     "text": [
      "100% (6947852 of 6947852) |##############| Elapsed Time: 0:06:47 Time:  0:06:47\n"
     ]
    },
    {
     "name": "stdout",
     "output_type": "stream",
     "text": [
      "----> Load model and make predictions (consensus). <----\n",
      "----> Create consensus summary. <----\n",
      "----> Create pileups from assembly. <----\n"
     ]
    },
    {
     "name": "stderr",
     "output_type": "stream",
     "text": [
      "100% (9238925 of 9238925) |##############| Elapsed Time: 0:03:48 Time:  0:03:48\n"
     ]
    },
    {
     "name": "stdout",
     "output_type": "stream",
     "text": [
      "----> Create dataset with neighbourhood from pileups. <----\n"
     ]
    },
    {
     "name": "stderr",
     "output_type": "stream",
     "text": [
      "  0% (3604 of 9238925) |                 | Elapsed Time: 0:00:00 ETA:   0:08:33"
     ]
    },
    {
     "name": "stdout",
     "output_type": "stream",
     "text": [
      "Creating dataset with neighbourhood ...\n"
     ]
    },
    {
     "name": "stderr",
     "output_type": "stream",
     "text": [
      " 99% (9237655 of 9238925) |############# | Elapsed Time: 0:09:06 ETA:   0:00:09"
     ]
    },
    {
     "name": "stdout",
     "output_type": "stream",
     "text": [
      "Creating dataset with neighbourhood ...\n"
     ]
    },
    {
     "name": "stderr",
     "output_type": "stream",
     "text": [
      "100% (9238925 of 9238925) |##############| Elapsed Time: 0:09:06 Time:  0:09:06\n"
     ]
    },
    {
     "name": "stdout",
     "output_type": "stream",
     "text": [
      "----> Load model and make predictions (consensus). <----\n",
      "----> Create consensus summary. <----\n",
      "----> Create pileups from assembly. <----\n"
     ]
    },
    {
     "name": "stderr",
     "output_type": "stream",
     "text": [
      "100% (8766521 of 8766521) |##############| Elapsed Time: 0:04:01 Time:  0:04:01\n"
     ]
    },
    {
     "name": "stdout",
     "output_type": "stream",
     "text": [
      "----> Create dataset with neighbourhood from pileups. <----\n"
     ]
    },
    {
     "name": "stderr",
     "output_type": "stream",
     "text": [
      "  0% (3654 of 8766521) |                 | Elapsed Time: 0:00:00 ETA:   0:08:00"
     ]
    },
    {
     "name": "stdout",
     "output_type": "stream",
     "text": [
      "Creating dataset with neighbourhood ...\n"
     ]
    },
    {
     "name": "stderr",
     "output_type": "stream",
     "text": [
      " 98% (8675875 of 8766521) |############# | Elapsed Time: 0:08:31 ETA:   0:09:16"
     ]
    },
    {
     "name": "stdout",
     "output_type": "stream",
     "text": [
      "Creating dataset with neighbourhood ...\n"
     ]
    },
    {
     "name": "stderr",
     "output_type": "stream",
     "text": [
      " 99% (8737401 of 8766521) |############# | Elapsed Time: 0:08:34 ETA:   0:00:01"
     ]
    },
    {
     "name": "stdout",
     "output_type": "stream",
     "text": [
      "Creating dataset with neighbourhood ...\n"
     ]
    },
    {
     "name": "stderr",
     "output_type": "stream",
     "text": [
      "100% (8766521 of 8766521) |##############| Elapsed Time: 0:08:36 Time:  0:08:36\n"
     ]
    },
    {
     "name": "stdout",
     "output_type": "stream",
     "text": [
      "----> Load model and make predictions (consensus). <----\n",
      "----> Create consensus summary. <----\n",
      "----> Create pileups from assembly. <----\n"
     ]
    },
    {
     "name": "stderr",
     "output_type": "stream",
     "text": [
      "100% (8634561 of 8634561) |##############| Elapsed Time: 0:03:43 Time:  0:03:43\n"
     ]
    },
    {
     "name": "stdout",
     "output_type": "stream",
     "text": [
      "----> Create dataset with neighbourhood from pileups. <----\n"
     ]
    },
    {
     "name": "stderr",
     "output_type": "stream",
     "text": [
      "  0% (3637 of 8634561) |                 | Elapsed Time: 0:00:00 ETA:   0:07:55"
     ]
    },
    {
     "name": "stdout",
     "output_type": "stream",
     "text": [
      "Creating dataset with neighbourhood ...\n"
     ]
    },
    {
     "name": "stderr",
     "output_type": "stream",
     "text": [
      " 94% (8198130 of 8634561) |############# | Elapsed Time: 0:11:15 ETA:   2:46:35"
     ]
    },
    {
     "name": "stdout",
     "output_type": "stream",
     "text": [
      "Creating dataset with neighbourhood ...\n"
     ]
    },
    {
     "name": "stderr",
     "output_type": "stream",
     "text": [
      " 97% (8420495 of 8634561) |############# | Elapsed Time: 0:11:38 ETA:   0:01:18"
     ]
    },
    {
     "name": "stdout",
     "output_type": "stream",
     "text": [
      "Creating dataset with neighbourhood ...\n"
     ]
    },
    {
     "name": "stderr",
     "output_type": "stream",
     "text": [
      " 99% (8614406 of 8634561) |############# | Elapsed Time: 0:11:58 ETA:   0:00:04"
     ]
    },
    {
     "name": "stdout",
     "output_type": "stream",
     "text": [
      "Creating dataset with neighbourhood ...\n"
     ]
    },
    {
     "name": "stderr",
     "output_type": "stream",
     "text": [
      "100% (8634561 of 8634561) |##############| Elapsed Time: 0:12:00 Time:  0:12:00\n"
     ]
    },
    {
     "name": "stdout",
     "output_type": "stream",
     "text": [
      "----> Load model and make predictions (consensus). <----\n",
      "----> Create consensus summary. <----\n"
     ]
    }
   ],
   "source": [
    "model_path = '/home/diplomski-rad/blade/pb/datasets/n20-racon-hax/model-19.h5'\n",
    "reads_paths = [\n",
    "    '/home/data/pacific_biosciences/bacteria/escherichia/coli/NCTC86.fastq',\n",
    "    '/home/data/pacific_biosciences/bacteria/morganella/morgani/NCTC235.fastq',\n",
    "    '/home/data/pacific_biosciences/bacteria/salmonella/enterica/NCTC92.fastq',\n",
    "    '/home/data/pacific_biosciences/bacteria/salmonella/enterica/NCTC129.fastq',\n",
    "    '/home/data/pacific_biosciences/bacteria/klebsiela/pneumoniae/NCTC204.fastq'\n",
    "]\n",
    "assembly_paths = [\n",
    "    '/home/diplomski-rad/blade/pb/escherichia-coli-NCTC86/iter2.fasta',\n",
    "    '/home/diplomski-rad/blade/pb/morganela-morgani-NCTC235/iter2.fasta',\n",
    "    '/home/diplomski-rad/blade/pb/salmonella-enterica-NCTC92/iter2.fasta',\n",
    "    '/home/diplomski-rad/blade/pb/salmonella-enterica-NCTC129/iter2.fasta',\n",
    "    '/home/diplomski-rad/blade/pb/klebsiela-pneumoniae-NCTC204-BROKEN/iter2.fasta'\n",
    "]\n",
    "reference_paths = [\n",
    "    '/home/data/pacific_biosciences/bacteria/escherichia/coli/escherichia_coli_reference.fasta',\n",
    "    '/home/data/pacific_biosciences/bacteria/morganella/morgani/morganella_morganii_reference.fasta',\n",
    "    '/home/data/pacific_biosciences/bacteria/salmonella/enterica/salmonella_enterica_reference.fasta',\n",
    "    '/home/data/pacific_biosciences/bacteria/salmonella/enterica/salmonella_enterica_reference.fasta',\n",
    "    '/home/data/pacific_biosciences/bacteria/klebsiela/pneumoniae/klebsiella_pneumoniae_reference.fasta'\n",
    "]\n",
    "sam_file_paths = [\n",
    "    '/home/diplomski-rad/blade/pb/escherichia-coli-NCTC86/reads-to-asm.sam',\n",
    "    '/home/diplomski-rad/blade/pb/morganela-morgani-NCTC235/reads-to-asm.sam',\n",
    "    '/home/diplomski-rad/blade/pb/salmonella-enterica-NCTC92/reads-to-asm.sam',\n",
    "    '/home/diplomski-rad/blade/pb/salmonella-enterica-NCTC129/reads-to-asm.sam',\n",
    "    '/home/diplomski-rad/blade/pb/klebsiela-pneumoniae-NCTC204-BROKEN/reads-to-asm.sam'\n",
    "]\n",
    "neighbourhood_size = 20\n",
    "output_dirs = [\n",
    "    './e-coli-NCTC86-all-contigs-n20-model-19-racon-hax',\n",
    "    './m-morgani-NCTC235-all-contigs-n20-model-19-racon-hax',\n",
    "    './s-enterica-NCTC92-all-contigs-n20-model-19-racon-hax',\n",
    "    './s-enterica-NCTC129-all-contigs-n20-model-19-racon-hax',\n",
    "    './k-pneumoniae-NCTC204-all-contigs-n20-model-19-racon-hax'\n",
    "]\n",
    "result_file_paths = [\n",
    "    '/home/diplomski-rad/results/pb/all-bacteria-dataset/escherichia-coli-NCTC86/n20-model-19-all-contigs-racon-hax-report.txt',\n",
    "    '/home/diplomski-rad/results/pb/all-bacteria-dataset/morganela-morgani-NCTC235/n20-model-19-all-contigs-racon-hax-report.txt',\n",
    "    '/home/diplomski-rad/results/pb/all-bacteria-dataset/salmonella-enterica-NCTC92/n20-model-19-all-contigs-racon-hax-report.txt',\n",
    "    '/home/diplomski-rad/results/pb/all-bacteria-dataset/salmonella-enterica-NCTC129/n20-model-19-all-contigs-racon-hax-report.txt',\n",
    "    '/home/diplomski-rad/results/pb/all-bacteria-dataset/klebsiela-pneumoniae-NCTC204/n20-model-19-all-contigs-racon-hax-report.txt'\n",
    "]\n",
    "tools_dir = '/home/diplomski-rad/'\n",
    "racon_hax_output_dir = './racon-hax-tmp'\n",
    "num_threads = 12\n",
    "\n",
    "for reads_path, assembly_path, reference_path, sam_file_path, output_dir, result_file_path in \\\n",
    "    zip(reads_paths, assembly_paths, reference_paths, sam_file_paths, output_dirs, result_file_paths):\n",
    "    \n",
    "    pileup_generator = pileups.RaconMSAGenerator(\n",
    "        reads_path,\n",
    "        sam_file_path,\n",
    "        assembly_path,\n",
    "        mode='inference',\n",
    "        tools_dir=tools_dir,\n",
    "        racon_hax_output_dir=racon_hax_output_dir,\n",
    "        num_threads=num_threads\n",
    "    )\n",
    "    \n",
    "    inference.make_consensus(\n",
    "        model_path, \n",
    "        reference_path,\n",
    "        pileup_generator,\n",
    "        neighbourhood_size,\n",
    "        output_dir,\n",
    "        tools_dir,\n",
    "        result_file_path)"
   ]
  },
  {
   "cell_type": "markdown",
   "metadata": {},
   "source": [
    "## n-20 model-21 racon-hax"
   ]
  },
  {
   "cell_type": "code",
   "execution_count": 2,
   "metadata": {},
   "outputs": [
    {
     "name": "stdout",
     "output_type": "stream",
     "text": [
      "----> Create pileups from assembly. <----\n"
     ]
    },
    {
     "name": "stderr",
     "output_type": "stream",
     "text": [
      "100% (9647260 of 9647260) |##############| Elapsed Time: 0:03:41 Time:  0:03:41\n"
     ]
    },
    {
     "name": "stdout",
     "output_type": "stream",
     "text": [
      "----> Create dataset with neighbourhood from pileups. <----\n"
     ]
    },
    {
     "name": "stderr",
     "output_type": "stream",
     "text": [
      "  0% (3959 of 9647260) |                 | Elapsed Time: 0:00:00 ETA:   0:08:07"
     ]
    },
    {
     "name": "stdout",
     "output_type": "stream",
     "text": [
      "Creating dataset with neighbourhood ...\n"
     ]
    },
    {
     "name": "stderr",
     "output_type": "stream",
     "text": [
      "100% (9647260 of 9647260) |##############| Elapsed Time: 0:08:44 Time:  0:08:44\n"
     ]
    },
    {
     "name": "stdout",
     "output_type": "stream",
     "text": [
      "----> Load model and make predictions (consensus). <----\n",
      "WARNING:tensorflow:From /usr/local/lib/python3.5/dist-packages/tensorflow/python/util/deprecation.py:497: calling conv1d (from tensorflow.python.ops.nn_ops) with data_format=NHWC is deprecated and will be removed in a future version.\n",
      "Instructions for updating:\n",
      "`NHWC` for data_format is deprecated, use `NWC` instead\n",
      "----> Create consensus summary. <----\n",
      "----> Create pileups from assembly. <----\n"
     ]
    },
    {
     "name": "stderr",
     "output_type": "stream",
     "text": [
      "100% (6947852 of 6947852) |##############| Elapsed Time: 0:02:57 Time:  0:02:57\n"
     ]
    },
    {
     "name": "stdout",
     "output_type": "stream",
     "text": [
      "----> Create dataset with neighbourhood from pileups. <----\n"
     ]
    },
    {
     "name": "stderr",
     "output_type": "stream",
     "text": [
      "  0% (3786 of 6947852) |                 | Elapsed Time: 0:00:00 ETA:   0:06:07"
     ]
    },
    {
     "name": "stdout",
     "output_type": "stream",
     "text": [
      "Creating dataset with neighbourhood ...\n"
     ]
    },
    {
     "name": "stderr",
     "output_type": "stream",
     "text": [
      " 57% (3965397 of 6947852) |#######       | Elapsed Time: 0:03:46 ETA:   3:00:48"
     ]
    },
    {
     "name": "stdout",
     "output_type": "stream",
     "text": [
      "Creating dataset with neighbourhood ...\n"
     ]
    },
    {
     "name": "stderr",
     "output_type": "stream",
     "text": [
      "100% (6947852 of 6947852) |##############| Elapsed Time: 0:06:34 Time:  0:06:34\n"
     ]
    },
    {
     "name": "stdout",
     "output_type": "stream",
     "text": [
      "----> Load model and make predictions (consensus). <----\n",
      "----> Create consensus summary. <----\n",
      "----> Create pileups from assembly. <----\n"
     ]
    },
    {
     "name": "stderr",
     "output_type": "stream",
     "text": [
      "100% (9238925 of 9238925) |##############| Elapsed Time: 0:03:45 Time:  0:03:45\n"
     ]
    },
    {
     "name": "stdout",
     "output_type": "stream",
     "text": [
      "----> Create dataset with neighbourhood from pileups. <----\n"
     ]
    },
    {
     "name": "stderr",
     "output_type": "stream",
     "text": [
      "  0% (3578 of 9238925) |                 | Elapsed Time: 0:00:00 ETA:   0:08:36"
     ]
    },
    {
     "name": "stdout",
     "output_type": "stream",
     "text": [
      "Creating dataset with neighbourhood ...\n"
     ]
    },
    {
     "name": "stderr",
     "output_type": "stream",
     "text": [
      " 99% (9237640 of 9238925) |############# | Elapsed Time: 0:08:50 ETA:   0:00:09"
     ]
    },
    {
     "name": "stdout",
     "output_type": "stream",
     "text": [
      "Creating dataset with neighbourhood ...\n"
     ]
    },
    {
     "name": "stderr",
     "output_type": "stream",
     "text": [
      "100% (9238925 of 9238925) |##############| Elapsed Time: 0:08:50 Time:  0:08:50\n"
     ]
    },
    {
     "name": "stdout",
     "output_type": "stream",
     "text": [
      "----> Load model and make predictions (consensus). <----\n",
      "----> Create consensus summary. <----\n",
      "----> Create pileups from assembly. <----\n"
     ]
    },
    {
     "name": "stderr",
     "output_type": "stream",
     "text": [
      "100% (8766521 of 8766521) |##############| Elapsed Time: 0:03:56 Time:  0:03:56\n"
     ]
    },
    {
     "name": "stdout",
     "output_type": "stream",
     "text": [
      "----> Create dataset with neighbourhood from pileups. <----\n"
     ]
    },
    {
     "name": "stderr",
     "output_type": "stream",
     "text": [
      "  0% (3756 of 8766521) |                 | Elapsed Time: 0:00:00 ETA:   0:07:47"
     ]
    },
    {
     "name": "stdout",
     "output_type": "stream",
     "text": [
      "Creating dataset with neighbourhood ...\n"
     ]
    },
    {
     "name": "stderr",
     "output_type": "stream",
     "text": [
      " 98% (8676113 of 8766521) |############# | Elapsed Time: 0:08:10 ETA:   0:08:52"
     ]
    },
    {
     "name": "stdout",
     "output_type": "stream",
     "text": [
      "Creating dataset with neighbourhood ...\n"
     ]
    },
    {
     "name": "stderr",
     "output_type": "stream",
     "text": [
      " 99% (8737322 of 8766521) |############# | Elapsed Time: 0:08:13 ETA:   0:00:01"
     ]
    },
    {
     "name": "stdout",
     "output_type": "stream",
     "text": [
      "Creating dataset with neighbourhood ...\n"
     ]
    },
    {
     "name": "stderr",
     "output_type": "stream",
     "text": [
      "100% (8766521 of 8766521) |##############| Elapsed Time: 0:08:15 Time:  0:08:15\n"
     ]
    },
    {
     "name": "stdout",
     "output_type": "stream",
     "text": [
      "----> Load model and make predictions (consensus). <----\n",
      "----> Create consensus summary. <----\n",
      "----> Create pileups from assembly. <----\n"
     ]
    },
    {
     "name": "stderr",
     "output_type": "stream",
     "text": [
      "100% (8634561 of 8634561) |##############| Elapsed Time: 0:03:36 Time:  0:03:36\n"
     ]
    },
    {
     "name": "stdout",
     "output_type": "stream",
     "text": [
      "----> Create dataset with neighbourhood from pileups. <----\n"
     ]
    },
    {
     "name": "stderr",
     "output_type": "stream",
     "text": [
      "  0% (3806 of 8634561) |                 | Elapsed Time: 0:00:00 ETA:   0:07:34"
     ]
    },
    {
     "name": "stdout",
     "output_type": "stream",
     "text": [
      "Creating dataset with neighbourhood ...\n"
     ]
    },
    {
     "name": "stderr",
     "output_type": "stream",
     "text": [
      " 94% (8199253 of 8634561) |############# | Elapsed Time: 0:07:48 ETA:   0:38:38"
     ]
    },
    {
     "name": "stdout",
     "output_type": "stream",
     "text": [
      "Creating dataset with neighbourhood ...\n"
     ]
    },
    {
     "name": "stderr",
     "output_type": "stream",
     "text": [
      " 97% (8423145 of 8634561) |############# | Elapsed Time: 0:08:01 ETA:   0:00:18"
     ]
    },
    {
     "name": "stdout",
     "output_type": "stream",
     "text": [
      "Creating dataset with neighbourhood ...\n"
     ]
    },
    {
     "name": "stderr",
     "output_type": "stream",
     "text": [
      " 99% (8616862 of 8634561) |############# | Elapsed Time: 0:08:12 ETA:   0:00:01"
     ]
    },
    {
     "name": "stdout",
     "output_type": "stream",
     "text": [
      "Creating dataset with neighbourhood ...\n"
     ]
    },
    {
     "name": "stderr",
     "output_type": "stream",
     "text": [
      "100% (8634561 of 8634561) |##############| Elapsed Time: 0:08:13 Time:  0:08:13\n"
     ]
    },
    {
     "name": "stdout",
     "output_type": "stream",
     "text": [
      "----> Load model and make predictions (consensus). <----\n",
      "----> Create consensus summary. <----\n"
     ]
    }
   ],
   "source": [
    "model_path = '/home/diplomski-rad/blade/pb/datasets/n20-racon-hax/model-21.h5'\n",
    "reads_paths = [\n",
    "    '/home/data/pacific_biosciences/bacteria/escherichia/coli/NCTC86.fastq',\n",
    "    '/home/data/pacific_biosciences/bacteria/morganella/morgani/NCTC235.fastq',\n",
    "    '/home/data/pacific_biosciences/bacteria/salmonella/enterica/NCTC92.fastq',\n",
    "    '/home/data/pacific_biosciences/bacteria/salmonella/enterica/NCTC129.fastq',\n",
    "    '/home/data/pacific_biosciences/bacteria/klebsiela/pneumoniae/NCTC204.fastq'\n",
    "]\n",
    "assembly_paths = [\n",
    "    '/home/diplomski-rad/blade/pb/escherichia-coli-NCTC86/iter2.fasta',\n",
    "    '/home/diplomski-rad/blade/pb/morganela-morgani-NCTC235/iter2.fasta',\n",
    "    '/home/diplomski-rad/blade/pb/salmonella-enterica-NCTC92/iter2.fasta',\n",
    "    '/home/diplomski-rad/blade/pb/salmonella-enterica-NCTC129/iter2.fasta',\n",
    "    '/home/diplomski-rad/blade/pb/klebsiela-pneumoniae-NCTC204-BROKEN/iter2.fasta'\n",
    "]\n",
    "reference_paths = [\n",
    "    '/home/data/pacific_biosciences/bacteria/escherichia/coli/escherichia_coli_reference.fasta',\n",
    "    '/home/data/pacific_biosciences/bacteria/morganella/morgani/morganella_morganii_reference.fasta',\n",
    "    '/home/data/pacific_biosciences/bacteria/salmonella/enterica/salmonella_enterica_reference.fasta',\n",
    "    '/home/data/pacific_biosciences/bacteria/salmonella/enterica/salmonella_enterica_reference.fasta',\n",
    "    '/home/data/pacific_biosciences/bacteria/klebsiela/pneumoniae/klebsiella_pneumoniae_reference.fasta'\n",
    "]\n",
    "sam_file_paths = [\n",
    "    '/home/diplomski-rad/blade/pb/escherichia-coli-NCTC86/reads-to-asm.sam',\n",
    "    '/home/diplomski-rad/blade/pb/morganela-morgani-NCTC235/reads-to-asm.sam',\n",
    "    '/home/diplomski-rad/blade/pb/salmonella-enterica-NCTC92/reads-to-asm.sam',\n",
    "    '/home/diplomski-rad/blade/pb/salmonella-enterica-NCTC129/reads-to-asm.sam',\n",
    "    '/home/diplomski-rad/blade/pb/klebsiela-pneumoniae-NCTC204-BROKEN/reads-to-asm.sam'\n",
    "]\n",
    "neighbourhood_size = 20\n",
    "output_dirs = [\n",
    "    './e-coli-NCTC86-all-contigs-n20-model-21-racon-hax',\n",
    "    './m-morgani-NCTC235-all-contigs-n20-model-21-racon-hax',\n",
    "    './s-enterica-NCTC92-all-contigs-n20-model-21-racon-hax',\n",
    "    './s-enterica-NCTC129-all-contigs-n20-model-21-racon-hax',\n",
    "    './k-pneumoniae-NCTC204-all-contigs-n20-model-21-racon-hax'\n",
    "]\n",
    "result_file_paths = [\n",
    "    '/home/diplomski-rad/results/pb/all-bacteria-dataset/escherichia-coli-NCTC86/n20-model-21-all-contigs-racon-hax-report.txt',\n",
    "    '/home/diplomski-rad/results/pb/all-bacteria-dataset/morganela-morgani-NCTC235/n20-model-21-all-contigs-racon-hax-report.txt',\n",
    "    '/home/diplomski-rad/results/pb/all-bacteria-dataset/salmonella-enterica-NCTC92/n20-model-21-all-contigs-racon-hax-report.txt',\n",
    "    '/home/diplomski-rad/results/pb/all-bacteria-dataset/salmonella-enterica-NCTC129/n20-model-21-all-contigs-racon-hax-report.txt',\n",
    "    '/home/diplomski-rad/results/pb/all-bacteria-dataset/klebsiela-pneumoniae-NCTC204/n20-model-21-all-contigs-racon-hax-report.txt'\n",
    "]\n",
    "tools_dir = '/home/diplomski-rad/'\n",
    "racon_hax_output_dir = './racon-hax-tmp'\n",
    "num_threads = 12\n",
    "\n",
    "for reads_path, assembly_path, reference_path, sam_file_path, output_dir, result_file_path in \\\n",
    "    zip(reads_paths, assembly_paths, reference_paths, sam_file_paths, output_dirs, result_file_paths):\n",
    "    \n",
    "    pileup_generator = pileups.RaconMSAGenerator(\n",
    "        reads_path,\n",
    "        sam_file_path,\n",
    "        assembly_path,\n",
    "        mode='inference',\n",
    "        tools_dir=tools_dir,\n",
    "        racon_hax_output_dir=racon_hax_output_dir,\n",
    "        num_threads=num_threads\n",
    "    )\n",
    "    \n",
    "    inference.make_consensus(\n",
    "        model_path, \n",
    "        reference_path,\n",
    "        pileup_generator,\n",
    "        neighbourhood_size,\n",
    "        output_dir,\n",
    "        tools_dir,\n",
    "        result_file_path)"
   ]
  },
  {
   "cell_type": "markdown",
   "metadata": {},
   "source": [
    "## n-20 model-22 racon-hax"
   ]
  },
  {
   "cell_type": "code",
   "execution_count": 3,
   "metadata": {},
   "outputs": [
    {
     "name": "stdout",
     "output_type": "stream",
     "text": [
      "----> Create pileups from assembly. <----\n"
     ]
    },
    {
     "name": "stderr",
     "output_type": "stream",
     "text": [
      "100% (9647260 of 9647260) |##############| Elapsed Time: 0:03:52 Time:  0:03:52\n"
     ]
    },
    {
     "name": "stdout",
     "output_type": "stream",
     "text": [
      "----> Create dataset with neighbourhood from pileups. <----\n"
     ]
    },
    {
     "name": "stderr",
     "output_type": "stream",
     "text": [
      "  0% (3724 of 9647260) |                 | Elapsed Time: 0:00:00 ETA:   0:08:38"
     ]
    },
    {
     "name": "stdout",
     "output_type": "stream",
     "text": [
      "Creating dataset with neighbourhood ...\n"
     ]
    },
    {
     "name": "stderr",
     "output_type": "stream",
     "text": [
      "100% (9647260 of 9647260) |##############| Elapsed Time: 0:09:13 Time:  0:09:13\n"
     ]
    },
    {
     "name": "stdout",
     "output_type": "stream",
     "text": [
      "----> Load model and make predictions (consensus). <----\n",
      "----> Create consensus summary. <----\n",
      "----> Create pileups from assembly. <----\n"
     ]
    },
    {
     "name": "stderr",
     "output_type": "stream",
     "text": [
      "100% (6947852 of 6947852) |##############| Elapsed Time: 0:02:57 Time:  0:02:57\n"
     ]
    },
    {
     "name": "stdout",
     "output_type": "stream",
     "text": [
      "----> Create dataset with neighbourhood from pileups. <----\n"
     ]
    },
    {
     "name": "stderr",
     "output_type": "stream",
     "text": [
      "  0% (3756 of 6947852) |                 | Elapsed Time: 0:00:00 ETA:   0:06:10"
     ]
    },
    {
     "name": "stdout",
     "output_type": "stream",
     "text": [
      "Creating dataset with neighbourhood ...\n"
     ]
    },
    {
     "name": "stderr",
     "output_type": "stream",
     "text": [
      " 57% (3965494 of 6947852) |#######       | Elapsed Time: 0:03:47 ETA:   2:21:06"
     ]
    },
    {
     "name": "stdout",
     "output_type": "stream",
     "text": [
      "Creating dataset with neighbourhood ...\n"
     ]
    },
    {
     "name": "stderr",
     "output_type": "stream",
     "text": [
      "100% (6947852 of 6947852) |##############| Elapsed Time: 0:06:36 Time:  0:06:36\n"
     ]
    },
    {
     "name": "stdout",
     "output_type": "stream",
     "text": [
      "----> Load model and make predictions (consensus). <----\n",
      "----> Create consensus summary. <----\n",
      "----> Create pileups from assembly. <----\n"
     ]
    },
    {
     "name": "stderr",
     "output_type": "stream",
     "text": [
      "100% (9238925 of 9238925) |##############| Elapsed Time: 0:03:43 Time:  0:03:43\n"
     ]
    },
    {
     "name": "stdout",
     "output_type": "stream",
     "text": [
      "----> Create dataset with neighbourhood from pileups. <----\n"
     ]
    },
    {
     "name": "stderr",
     "output_type": "stream",
     "text": [
      "  0% (3738 of 9238925) |                 | Elapsed Time: 0:00:00 ETA:   0:08:14"
     ]
    },
    {
     "name": "stdout",
     "output_type": "stream",
     "text": [
      "Creating dataset with neighbourhood ...\n"
     ]
    },
    {
     "name": "stderr",
     "output_type": "stream",
     "text": [
      " 99% (9237732 of 9238925) |############# | Elapsed Time: 0:08:54 ETA:   0:00:07"
     ]
    },
    {
     "name": "stdout",
     "output_type": "stream",
     "text": [
      "Creating dataset with neighbourhood ...\n"
     ]
    },
    {
     "name": "stderr",
     "output_type": "stream",
     "text": [
      "100% (9238925 of 9238925) |##############| Elapsed Time: 0:08:54 Time:  0:08:54\n"
     ]
    },
    {
     "name": "stdout",
     "output_type": "stream",
     "text": [
      "----> Load model and make predictions (consensus). <----\n",
      "----> Create consensus summary. <----\n",
      "----> Create pileups from assembly. <----\n"
     ]
    },
    {
     "name": "stderr",
     "output_type": "stream",
     "text": [
      "100% (8766521 of 8766521) |##############| Elapsed Time: 0:03:53 Time:  0:03:53\n"
     ]
    },
    {
     "name": "stdout",
     "output_type": "stream",
     "text": [
      "----> Create dataset with neighbourhood from pileups. <----\n"
     ]
    },
    {
     "name": "stderr",
     "output_type": "stream",
     "text": [
      "  0% (3717 of 8766521) |                 | Elapsed Time: 0:00:00 ETA:   0:07:51"
     ]
    },
    {
     "name": "stdout",
     "output_type": "stream",
     "text": [
      "Creating dataset with neighbourhood ...\n"
     ]
    },
    {
     "name": "stderr",
     "output_type": "stream",
     "text": [
      " 98% (8676065 of 8766521) |############# | Elapsed Time: 0:08:12 ETA:   0:07:46"
     ]
    },
    {
     "name": "stdout",
     "output_type": "stream",
     "text": [
      "Creating dataset with neighbourhood ...\n"
     ]
    },
    {
     "name": "stderr",
     "output_type": "stream",
     "text": [
      " 99% (8737182 of 8766521) |############# | Elapsed Time: 0:08:16 ETA:   0:00:01"
     ]
    },
    {
     "name": "stdout",
     "output_type": "stream",
     "text": [
      "Creating dataset with neighbourhood ...\n"
     ]
    },
    {
     "name": "stderr",
     "output_type": "stream",
     "text": [
      "100% (8766521 of 8766521) |##############| Elapsed Time: 0:08:17 Time:  0:08:17\n"
     ]
    },
    {
     "name": "stdout",
     "output_type": "stream",
     "text": [
      "----> Load model and make predictions (consensus). <----\n",
      "----> Create consensus summary. <----\n",
      "----> Create pileups from assembly. <----\n"
     ]
    },
    {
     "name": "stderr",
     "output_type": "stream",
     "text": [
      "100% (8634561 of 8634561) |##############| Elapsed Time: 0:03:55 Time:  0:03:55\n"
     ]
    },
    {
     "name": "stdout",
     "output_type": "stream",
     "text": [
      "----> Create dataset with neighbourhood from pileups. <----\n"
     ]
    },
    {
     "name": "stderr",
     "output_type": "stream",
     "text": [
      "  0% (3651 of 8634561) |                 | Elapsed Time: 0:00:00 ETA:   0:07:53"
     ]
    },
    {
     "name": "stdout",
     "output_type": "stream",
     "text": [
      "Creating dataset with neighbourhood ...\n"
     ]
    },
    {
     "name": "stderr",
     "output_type": "stream",
     "text": [
      " 94% (8199218 of 8634561) |############# | Elapsed Time: 0:07:49 ETA:   0:55:49"
     ]
    },
    {
     "name": "stdout",
     "output_type": "stream",
     "text": [
      "Creating dataset with neighbourhood ...\n"
     ]
    },
    {
     "name": "stderr",
     "output_type": "stream",
     "text": [
      " 97% (8423152 of 8634561) |############# | Elapsed Time: 0:08:01 ETA:   0:00:18"
     ]
    },
    {
     "name": "stdout",
     "output_type": "stream",
     "text": [
      "Creating dataset with neighbourhood ...\n"
     ]
    },
    {
     "name": "stderr",
     "output_type": "stream",
     "text": [
      " 99% (8617143 of 8634561) |############# | Elapsed Time: 0:08:13 ETA:   0:00:01"
     ]
    },
    {
     "name": "stdout",
     "output_type": "stream",
     "text": [
      "Creating dataset with neighbourhood ...\n"
     ]
    },
    {
     "name": "stderr",
     "output_type": "stream",
     "text": [
      "100% (8634561 of 8634561) |##############| Elapsed Time: 0:08:14 Time:  0:08:14\n"
     ]
    },
    {
     "name": "stdout",
     "output_type": "stream",
     "text": [
      "----> Load model and make predictions (consensus). <----\n",
      "----> Create consensus summary. <----\n"
     ]
    }
   ],
   "source": [
    "model_path = '/home/diplomski-rad/blade/pb/datasets/n20-racon-hax/model-22.h5'\n",
    "reads_paths = [\n",
    "    '/home/data/pacific_biosciences/bacteria/escherichia/coli/NCTC86.fastq',\n",
    "    '/home/data/pacific_biosciences/bacteria/morganella/morgani/NCTC235.fastq',\n",
    "    '/home/data/pacific_biosciences/bacteria/salmonella/enterica/NCTC92.fastq',\n",
    "    '/home/data/pacific_biosciences/bacteria/salmonella/enterica/NCTC129.fastq',\n",
    "    '/home/data/pacific_biosciences/bacteria/klebsiela/pneumoniae/NCTC204.fastq'\n",
    "]\n",
    "assembly_paths = [\n",
    "    '/home/diplomski-rad/blade/pb/escherichia-coli-NCTC86/iter2.fasta',\n",
    "    '/home/diplomski-rad/blade/pb/morganela-morgani-NCTC235/iter2.fasta',\n",
    "    '/home/diplomski-rad/blade/pb/salmonella-enterica-NCTC92/iter2.fasta',\n",
    "    '/home/diplomski-rad/blade/pb/salmonella-enterica-NCTC129/iter2.fasta',\n",
    "    '/home/diplomski-rad/blade/pb/klebsiela-pneumoniae-NCTC204-BROKEN/iter2.fasta'\n",
    "]\n",
    "reference_paths = [\n",
    "    '/home/data/pacific_biosciences/bacteria/escherichia/coli/escherichia_coli_reference.fasta',\n",
    "    '/home/data/pacific_biosciences/bacteria/morganella/morgani/morganella_morganii_reference.fasta',\n",
    "    '/home/data/pacific_biosciences/bacteria/salmonella/enterica/salmonella_enterica_reference.fasta',\n",
    "    '/home/data/pacific_biosciences/bacteria/salmonella/enterica/salmonella_enterica_reference.fasta',\n",
    "    '/home/data/pacific_biosciences/bacteria/klebsiela/pneumoniae/klebsiella_pneumoniae_reference.fasta'\n",
    "]\n",
    "sam_file_paths = [\n",
    "    '/home/diplomski-rad/blade/pb/escherichia-coli-NCTC86/reads-to-asm.sam',\n",
    "    '/home/diplomski-rad/blade/pb/morganela-morgani-NCTC235/reads-to-asm.sam',\n",
    "    '/home/diplomski-rad/blade/pb/salmonella-enterica-NCTC92/reads-to-asm.sam',\n",
    "    '/home/diplomski-rad/blade/pb/salmonella-enterica-NCTC129/reads-to-asm.sam',\n",
    "    '/home/diplomski-rad/blade/pb/klebsiela-pneumoniae-NCTC204-BROKEN/reads-to-asm.sam'\n",
    "]\n",
    "neighbourhood_size = 20\n",
    "output_dirs = [\n",
    "    './e-coli-NCTC86-all-contigs-n20-model-22-racon-hax',\n",
    "    './m-morgani-NCTC235-all-contigs-n20-model-22-racon-hax',\n",
    "    './s-enterica-NCTC92-all-contigs-n20-model-22-racon-hax',\n",
    "    './s-enterica-NCTC129-all-contigs-n20-model-22-racon-hax',\n",
    "    './k-pneumoniae-NCTC204-all-contigs-n20-model-22-racon-hax'\n",
    "]\n",
    "result_file_paths = [\n",
    "    '/home/diplomski-rad/results/pb/all-bacteria-dataset/escherichia-coli-NCTC86/n20-model-22-all-contigs-racon-hax-report.txt',\n",
    "    '/home/diplomski-rad/results/pb/all-bacteria-dataset/morganela-morgani-NCTC235/n20-model-22-all-contigs-racon-hax-report.txt',\n",
    "    '/home/diplomski-rad/results/pb/all-bacteria-dataset/salmonella-enterica-NCTC92/n20-model-22-all-contigs-racon-hax-report.txt',\n",
    "    '/home/diplomski-rad/results/pb/all-bacteria-dataset/salmonella-enterica-NCTC129/n20-model-22-all-contigs-racon-hax-report.txt',\n",
    "    '/home/diplomski-rad/results/pb/all-bacteria-dataset/klebsiela-pneumoniae-NCTC204/n20-model-22-all-contigs-racon-hax-report.txt'\n",
    "]\n",
    "tools_dir = '/home/diplomski-rad/'\n",
    "racon_hax_output_dir = './racon-hax-tmp'\n",
    "num_threads = 12\n",
    "\n",
    "for reads_path, assembly_path, reference_path, sam_file_path, output_dir, result_file_path in \\\n",
    "    zip(reads_paths, assembly_paths, reference_paths, sam_file_paths, output_dirs, result_file_paths):\n",
    "    \n",
    "    pileup_generator = pileups.RaconMSAGenerator(\n",
    "        reads_path,\n",
    "        sam_file_path,\n",
    "        assembly_path,\n",
    "        mode='inference',\n",
    "        tools_dir=tools_dir,\n",
    "        racon_hax_output_dir=racon_hax_output_dir,\n",
    "        num_threads=num_threads\n",
    "    )\n",
    "    \n",
    "    inference.make_consensus(\n",
    "        model_path, \n",
    "        reference_path,\n",
    "        pileup_generator,\n",
    "        neighbourhood_size,\n",
    "        output_dir,\n",
    "        tools_dir,\n",
    "        result_file_path)"
   ]
  },
  {
   "cell_type": "markdown",
   "metadata": {},
   "source": [
    "## n-15 model-22 racon-hax"
   ]
  },
  {
   "cell_type": "code",
   "execution_count": 4,
   "metadata": {},
   "outputs": [
    {
     "name": "stdout",
     "output_type": "stream",
     "text": [
      "----> Create pileups from assembly. <----\n"
     ]
    },
    {
     "name": "stderr",
     "output_type": "stream",
     "text": [
      "100% (9647260 of 9647260) |##############| Elapsed Time: 0:03:52 Time:  0:03:52\n"
     ]
    },
    {
     "name": "stdout",
     "output_type": "stream",
     "text": [
      "----> Create dataset with neighbourhood from pileups. <----\n"
     ]
    },
    {
     "name": "stderr",
     "output_type": "stream",
     "text": [
      "  0% (3799 of 9647260) |                 | Elapsed Time: 0:00:00 ETA:   0:08:28"
     ]
    },
    {
     "name": "stdout",
     "output_type": "stream",
     "text": [
      "Creating dataset with neighbourhood ...\n"
     ]
    },
    {
     "name": "stderr",
     "output_type": "stream",
     "text": [
      "100% (9647260 of 9647260) |##############| Elapsed Time: 0:08:59 Time:  0:08:59\n"
     ]
    },
    {
     "name": "stdout",
     "output_type": "stream",
     "text": [
      "----> Load model and make predictions (consensus). <----\n",
      "----> Create consensus summary. <----\n",
      "----> Create pileups from assembly. <----\n"
     ]
    },
    {
     "name": "stderr",
     "output_type": "stream",
     "text": [
      "100% (6947852 of 6947852) |##############| Elapsed Time: 0:02:55 Time:  0:02:55\n"
     ]
    },
    {
     "name": "stdout",
     "output_type": "stream",
     "text": [
      "----> Create dataset with neighbourhood from pileups. <----\n"
     ]
    },
    {
     "name": "stderr",
     "output_type": "stream",
     "text": [
      "  0% (3336 of 6947852) |                 | Elapsed Time: 0:00:00 ETA:   0:06:57"
     ]
    },
    {
     "name": "stdout",
     "output_type": "stream",
     "text": [
      "Creating dataset with neighbourhood ...\n"
     ]
    },
    {
     "name": "stderr",
     "output_type": "stream",
     "text": [
      " 57% (3965286 of 6947852) |#######       | Elapsed Time: 0:03:41 ETA:   2:27:19"
     ]
    },
    {
     "name": "stdout",
     "output_type": "stream",
     "text": [
      "Creating dataset with neighbourhood ...\n"
     ]
    },
    {
     "name": "stderr",
     "output_type": "stream",
     "text": [
      "100% (6947852 of 6947852) |##############| Elapsed Time: 0:06:28 Time:  0:06:28\n"
     ]
    },
    {
     "name": "stdout",
     "output_type": "stream",
     "text": [
      "----> Load model and make predictions (consensus). <----\n",
      "----> Create consensus summary. <----\n",
      "----> Create pileups from assembly. <----\n"
     ]
    },
    {
     "name": "stderr",
     "output_type": "stream",
     "text": [
      "100% (9238925 of 9238925) |##############| Elapsed Time: 0:03:50 Time:  0:03:50\n"
     ]
    },
    {
     "name": "stdout",
     "output_type": "stream",
     "text": [
      "----> Create dataset with neighbourhood from pileups. <----\n"
     ]
    },
    {
     "name": "stderr",
     "output_type": "stream",
     "text": [
      "  0% (3750 of 9238925) |                 | Elapsed Time: 0:00:00 ETA:   0:08:13"
     ]
    },
    {
     "name": "stdout",
     "output_type": "stream",
     "text": [
      "Creating dataset with neighbourhood ...\n"
     ]
    },
    {
     "name": "stderr",
     "output_type": "stream",
     "text": [
      " 99% (9237823 of 9238925) |############# | Elapsed Time: 0:08:35 ETA:   0:00:05"
     ]
    },
    {
     "name": "stdout",
     "output_type": "stream",
     "text": [
      "Creating dataset with neighbourhood ...\n"
     ]
    },
    {
     "name": "stderr",
     "output_type": "stream",
     "text": [
      "100% (9238925 of 9238925) |##############| Elapsed Time: 0:08:35 Time:  0:08:35\n"
     ]
    },
    {
     "name": "stdout",
     "output_type": "stream",
     "text": [
      "----> Load model and make predictions (consensus). <----\n",
      "----> Create consensus summary. <----\n",
      "----> Create pileups from assembly. <----\n"
     ]
    },
    {
     "name": "stderr",
     "output_type": "stream",
     "text": [
      "100% (8766521 of 8766521) |##############| Elapsed Time: 0:03:54 Time:  0:03:54\n"
     ]
    },
    {
     "name": "stdout",
     "output_type": "stream",
     "text": [
      "----> Create dataset with neighbourhood from pileups. <----\n"
     ]
    },
    {
     "name": "stderr",
     "output_type": "stream",
     "text": [
      "  0% (3869 of 8766521) |                 | Elapsed Time: 0:00:00 ETA:   0:07:33"
     ]
    },
    {
     "name": "stdout",
     "output_type": "stream",
     "text": [
      "Creating dataset with neighbourhood ...\n"
     ]
    },
    {
     "name": "stderr",
     "output_type": "stream",
     "text": [
      " 98% (8676063 of 8766521) |############# | Elapsed Time: 0:08:06 ETA:   0:06:19"
     ]
    },
    {
     "name": "stdout",
     "output_type": "stream",
     "text": [
      "Creating dataset with neighbourhood ...\n"
     ]
    },
    {
     "name": "stderr",
     "output_type": "stream",
     "text": [
      " 99% (8737444 of 8766521) |############# | Elapsed Time: 0:08:09 ETA:   0:00:01"
     ]
    },
    {
     "name": "stdout",
     "output_type": "stream",
     "text": [
      "Creating dataset with neighbourhood ...\n"
     ]
    },
    {
     "name": "stderr",
     "output_type": "stream",
     "text": [
      "100% (8766521 of 8766521) |##############| Elapsed Time: 0:08:11 Time:  0:08:11\n"
     ]
    },
    {
     "name": "stdout",
     "output_type": "stream",
     "text": [
      "----> Load model and make predictions (consensus). <----\n",
      "----> Create consensus summary. <----\n",
      "----> Create pileups from assembly. <----\n"
     ]
    },
    {
     "name": "stderr",
     "output_type": "stream",
     "text": [
      "100% (8634561 of 8634561) |##############| Elapsed Time: 0:03:44 Time:  0:03:44\n"
     ]
    },
    {
     "name": "stdout",
     "output_type": "stream",
     "text": [
      "----> Create dataset with neighbourhood from pileups. <----\n"
     ]
    },
    {
     "name": "stderr",
     "output_type": "stream",
     "text": [
      "  0% (3676 of 8634561) |                 | Elapsed Time: 0:00:00 ETA:   0:07:50"
     ]
    },
    {
     "name": "stdout",
     "output_type": "stream",
     "text": [
      "Creating dataset with neighbourhood ...\n"
     ]
    },
    {
     "name": "stderr",
     "output_type": "stream",
     "text": [
      " 94% (8199197 of 8634561) |############# | Elapsed Time: 0:07:48 ETA:   0:40:02"
     ]
    },
    {
     "name": "stdout",
     "output_type": "stream",
     "text": [
      "Creating dataset with neighbourhood ...\n"
     ]
    },
    {
     "name": "stderr",
     "output_type": "stream",
     "text": [
      " 97% (8423058 of 8634561) |############# | Elapsed Time: 0:08:01 ETA:   0:00:16"
     ]
    },
    {
     "name": "stdout",
     "output_type": "stream",
     "text": [
      "Creating dataset with neighbourhood ...\n"
     ]
    },
    {
     "name": "stderr",
     "output_type": "stream",
     "text": [
      " 99% (8617096 of 8634561) |############# | Elapsed Time: 0:08:12 ETA:   0:00:01"
     ]
    },
    {
     "name": "stdout",
     "output_type": "stream",
     "text": [
      "Creating dataset with neighbourhood ...\n"
     ]
    },
    {
     "name": "stderr",
     "output_type": "stream",
     "text": [
      "100% (8634561 of 8634561) |##############| Elapsed Time: 0:08:13 Time:  0:08:13\n"
     ]
    },
    {
     "name": "stdout",
     "output_type": "stream",
     "text": [
      "----> Load model and make predictions (consensus). <----\n",
      "----> Create consensus summary. <----\n"
     ]
    }
   ],
   "source": [
    "model_path = '/home/diplomski-rad/blade/pb/datasets/n15-racon-hax/model-22.h5'\n",
    "reads_paths = [\n",
    "    '/home/data/pacific_biosciences/bacteria/escherichia/coli/NCTC86.fastq',\n",
    "    '/home/data/pacific_biosciences/bacteria/morganella/morgani/NCTC235.fastq',\n",
    "    '/home/data/pacific_biosciences/bacteria/salmonella/enterica/NCTC92.fastq',\n",
    "    '/home/data/pacific_biosciences/bacteria/salmonella/enterica/NCTC129.fastq',\n",
    "    '/home/data/pacific_biosciences/bacteria/klebsiela/pneumoniae/NCTC204.fastq'\n",
    "]\n",
    "assembly_paths = [\n",
    "    '/home/diplomski-rad/blade/pb/escherichia-coli-NCTC86/iter2.fasta',\n",
    "    '/home/diplomski-rad/blade/pb/morganela-morgani-NCTC235/iter2.fasta',\n",
    "    '/home/diplomski-rad/blade/pb/salmonella-enterica-NCTC92/iter2.fasta',\n",
    "    '/home/diplomski-rad/blade/pb/salmonella-enterica-NCTC129/iter2.fasta',\n",
    "    '/home/diplomski-rad/blade/pb/klebsiela-pneumoniae-NCTC204-BROKEN/iter2.fasta'\n",
    "]\n",
    "reference_paths = [\n",
    "    '/home/data/pacific_biosciences/bacteria/escherichia/coli/escherichia_coli_reference.fasta',\n",
    "    '/home/data/pacific_biosciences/bacteria/morganella/morgani/morganella_morganii_reference.fasta',\n",
    "    '/home/data/pacific_biosciences/bacteria/salmonella/enterica/salmonella_enterica_reference.fasta',\n",
    "    '/home/data/pacific_biosciences/bacteria/salmonella/enterica/salmonella_enterica_reference.fasta',\n",
    "    '/home/data/pacific_biosciences/bacteria/klebsiela/pneumoniae/klebsiella_pneumoniae_reference.fasta'\n",
    "]\n",
    "sam_file_paths = [\n",
    "    '/home/diplomski-rad/blade/pb/escherichia-coli-NCTC86/reads-to-asm.sam',\n",
    "    '/home/diplomski-rad/blade/pb/morganela-morgani-NCTC235/reads-to-asm.sam',\n",
    "    '/home/diplomski-rad/blade/pb/salmonella-enterica-NCTC92/reads-to-asm.sam',\n",
    "    '/home/diplomski-rad/blade/pb/salmonella-enterica-NCTC129/reads-to-asm.sam',\n",
    "    '/home/diplomski-rad/blade/pb/klebsiela-pneumoniae-NCTC204-BROKEN/reads-to-asm.sam'\n",
    "]\n",
    "neighbourhood_size = 15\n",
    "output_dirs = [\n",
    "    './e-coli-NCTC86-all-contigs-n15-model-22-racon-hax',\n",
    "    './m-morgani-NCTC235-all-contigs-n15-model-22-racon-hax',\n",
    "    './s-enterica-NCTC92-all-contigs-n15-model-22-racon-hax',\n",
    "    './s-enterica-NCTC129-all-contigs-n15-model-22-racon-hax',\n",
    "    './k-pneumoniae-NCTC204-all-contigs-n15-model-22-racon-hax'\n",
    "]\n",
    "result_file_paths = [\n",
    "    '/home/diplomski-rad/results/pb/all-bacteria-dataset/escherichia-coli-NCTC86/n15-model-22-all-contigs-racon-hax-report.txt',\n",
    "    '/home/diplomski-rad/results/pb/all-bacteria-dataset/morganela-morgani-NCTC235/n15-model-22-all-contigs-racon-hax-report.txt',\n",
    "    '/home/diplomski-rad/results/pb/all-bacteria-dataset/salmonella-enterica-NCTC92/n15-model-22-all-contigs-racon-hax-report.txt',\n",
    "    '/home/diplomski-rad/results/pb/all-bacteria-dataset/salmonella-enterica-NCTC129/n15-model-22-all-contigs-racon-hax-report.txt',\n",
    "    '/home/diplomski-rad/results/pb/all-bacteria-dataset/klebsiela-pneumoniae-NCTC204/n15-model-22-all-contigs-racon-hax-report.txt'\n",
    "]\n",
    "tools_dir = '/home/diplomski-rad/'\n",
    "racon_hax_output_dir = './racon-hax-tmp'\n",
    "num_threads = 12\n",
    "\n",
    "for reads_path, assembly_path, reference_path, sam_file_path, output_dir, result_file_path in \\\n",
    "    zip(reads_paths, assembly_paths, reference_paths, sam_file_paths, output_dirs, result_file_paths):\n",
    "    \n",
    "    pileup_generator = pileups.RaconMSAGenerator(\n",
    "        reads_path,\n",
    "        sam_file_path,\n",
    "        assembly_path,\n",
    "        mode='inference',\n",
    "        tools_dir=tools_dir,\n",
    "        racon_hax_output_dir=racon_hax_output_dir,\n",
    "        num_threads=num_threads\n",
    "    )\n",
    "    \n",
    "    inference.make_consensus(\n",
    "        model_path, \n",
    "        reference_path,\n",
    "        pileup_generator,\n",
    "        neighbourhood_size,\n",
    "        output_dir,\n",
    "        tools_dir,\n",
    "        result_file_path)"
   ]
  },
  {
   "cell_type": "markdown",
   "metadata": {},
   "source": [
    "## n-15 model-21 racon-hax"
   ]
  },
  {
   "cell_type": "code",
   "execution_count": 5,
   "metadata": {},
   "outputs": [
    {
     "name": "stdout",
     "output_type": "stream",
     "text": [
      "----> Create pileups from assembly. <----\n"
     ]
    },
    {
     "name": "stderr",
     "output_type": "stream",
     "text": [
      "100% (9647260 of 9647260) |##############| Elapsed Time: 0:03:58 Time:  0:03:58\n"
     ]
    },
    {
     "name": "stdout",
     "output_type": "stream",
     "text": [
      "----> Create dataset with neighbourhood from pileups. <----\n"
     ]
    },
    {
     "name": "stderr",
     "output_type": "stream",
     "text": [
      "  0% (3676 of 9647260) |                 | Elapsed Time: 0:00:00 ETA:   0:08:45"
     ]
    },
    {
     "name": "stdout",
     "output_type": "stream",
     "text": [
      "Creating dataset with neighbourhood ...\n"
     ]
    },
    {
     "name": "stderr",
     "output_type": "stream",
     "text": [
      "100% (9647260 of 9647260) |##############| Elapsed Time: 0:09:02 Time:  0:09:02\n"
     ]
    },
    {
     "name": "stdout",
     "output_type": "stream",
     "text": [
      "----> Load model and make predictions (consensus). <----\n",
      "----> Create consensus summary. <----\n",
      "----> Create pileups from assembly. <----\n"
     ]
    },
    {
     "name": "stderr",
     "output_type": "stream",
     "text": [
      "100% (6947852 of 6947852) |##############| Elapsed Time: 0:03:03 Time:  0:03:03\n"
     ]
    },
    {
     "name": "stdout",
     "output_type": "stream",
     "text": [
      "----> Create dataset with neighbourhood from pileups. <----\n"
     ]
    },
    {
     "name": "stderr",
     "output_type": "stream",
     "text": [
      "  0% (3746 of 6947852) |                 | Elapsed Time: 0:00:00 ETA:   0:06:11"
     ]
    },
    {
     "name": "stdout",
     "output_type": "stream",
     "text": [
      "Creating dataset with neighbourhood ...\n"
     ]
    },
    {
     "name": "stderr",
     "output_type": "stream",
     "text": [
      " 57% (3965357 of 6947852) |#######       | Elapsed Time: 0:03:45 ETA:   2:10:17"
     ]
    },
    {
     "name": "stdout",
     "output_type": "stream",
     "text": [
      "Creating dataset with neighbourhood ...\n"
     ]
    },
    {
     "name": "stderr",
     "output_type": "stream",
     "text": [
      "100% (6947852 of 6947852) |##############| Elapsed Time: 0:06:31 Time:  0:06:31\n"
     ]
    },
    {
     "name": "stdout",
     "output_type": "stream",
     "text": [
      "----> Load model and make predictions (consensus). <----\n",
      "----> Create consensus summary. <----\n",
      "----> Create pileups from assembly. <----\n"
     ]
    },
    {
     "name": "stderr",
     "output_type": "stream",
     "text": [
      "100% (9238925 of 9238925) |##############| Elapsed Time: 0:04:02 Time:  0:04:02\n"
     ]
    },
    {
     "name": "stdout",
     "output_type": "stream",
     "text": [
      "----> Create dataset with neighbourhood from pileups. <----\n"
     ]
    },
    {
     "name": "stderr",
     "output_type": "stream",
     "text": [
      "  0% (3635 of 9238925) |                 | Elapsed Time: 0:00:00 ETA:   0:08:28"
     ]
    },
    {
     "name": "stdout",
     "output_type": "stream",
     "text": [
      "Creating dataset with neighbourhood ...\n"
     ]
    },
    {
     "name": "stderr",
     "output_type": "stream",
     "text": [
      " 99% (9237763 of 9238925) |############# | Elapsed Time: 0:08:44 ETA:   0:00:06"
     ]
    },
    {
     "name": "stdout",
     "output_type": "stream",
     "text": [
      "Creating dataset with neighbourhood ...\n"
     ]
    },
    {
     "name": "stderr",
     "output_type": "stream",
     "text": [
      "100% (9238925 of 9238925) |##############| Elapsed Time: 0:08:44 Time:  0:08:44\n"
     ]
    },
    {
     "name": "stdout",
     "output_type": "stream",
     "text": [
      "----> Load model and make predictions (consensus). <----\n",
      "----> Create consensus summary. <----\n",
      "----> Create pileups from assembly. <----\n"
     ]
    },
    {
     "name": "stderr",
     "output_type": "stream",
     "text": [
      "100% (8766521 of 8766521) |##############| Elapsed Time: 0:03:57 Time:  0:03:57\n"
     ]
    },
    {
     "name": "stdout",
     "output_type": "stream",
     "text": [
      "----> Create dataset with neighbourhood from pileups. <----\n"
     ]
    },
    {
     "name": "stderr",
     "output_type": "stream",
     "text": [
      "  0% (3744 of 8766521) |                 | Elapsed Time: 0:00:00 ETA:   0:07:48"
     ]
    },
    {
     "name": "stdout",
     "output_type": "stream",
     "text": [
      "Creating dataset with neighbourhood ...\n"
     ]
    },
    {
     "name": "stderr",
     "output_type": "stream",
     "text": [
      " 98% (8676190 of 8766521) |############# | Elapsed Time: 0:08:02 ETA:   0:05:59"
     ]
    },
    {
     "name": "stdout",
     "output_type": "stream",
     "text": [
      "Creating dataset with neighbourhood ...\n"
     ]
    },
    {
     "name": "stderr",
     "output_type": "stream",
     "text": [
      " 99% (8737535 of 8766521) |############# | Elapsed Time: 0:08:05 ETA:   0:00:01"
     ]
    },
    {
     "name": "stdout",
     "output_type": "stream",
     "text": [
      "Creating dataset with neighbourhood ...\n"
     ]
    },
    {
     "name": "stderr",
     "output_type": "stream",
     "text": [
      "100% (8766521 of 8766521) |##############| Elapsed Time: 0:08:07 Time:  0:08:07\n"
     ]
    },
    {
     "name": "stdout",
     "output_type": "stream",
     "text": [
      "----> Load model and make predictions (consensus). <----\n",
      "----> Create consensus summary. <----\n",
      "----> Create pileups from assembly. <----\n"
     ]
    },
    {
     "name": "stderr",
     "output_type": "stream",
     "text": [
      "100% (8634561 of 8634561) |##############| Elapsed Time: 0:03:38 Time:  0:03:38\n"
     ]
    },
    {
     "name": "stdout",
     "output_type": "stream",
     "text": [
      "----> Create dataset with neighbourhood from pileups. <----\n"
     ]
    },
    {
     "name": "stderr",
     "output_type": "stream",
     "text": [
      "  0% (3653 of 8634561) |                 | Elapsed Time: 0:00:00 ETA:   0:07:54"
     ]
    },
    {
     "name": "stdout",
     "output_type": "stream",
     "text": [
      "Creating dataset with neighbourhood ...\n"
     ]
    },
    {
     "name": "stderr",
     "output_type": "stream",
     "text": [
      " 94% (8199179 of 8634561) |############# | Elapsed Time: 0:07:50 ETA:   0:46:57"
     ]
    },
    {
     "name": "stdout",
     "output_type": "stream",
     "text": [
      "Creating dataset with neighbourhood ...\n"
     ]
    },
    {
     "name": "stderr",
     "output_type": "stream",
     "text": [
      " 97% (8423060 of 8634561) |############# | Elapsed Time: 0:08:03 ETA:   0:00:17"
     ]
    },
    {
     "name": "stdout",
     "output_type": "stream",
     "text": [
      "Creating dataset with neighbourhood ...\n"
     ]
    },
    {
     "name": "stderr",
     "output_type": "stream",
     "text": [
      " 99% (8617050 of 8634561) |############# | Elapsed Time: 0:08:14 ETA:   0:00:01"
     ]
    },
    {
     "name": "stdout",
     "output_type": "stream",
     "text": [
      "Creating dataset with neighbourhood ...\n"
     ]
    },
    {
     "name": "stderr",
     "output_type": "stream",
     "text": [
      "100% (8634561 of 8634561) |##############| Elapsed Time: 0:08:15 Time:  0:08:15\n"
     ]
    },
    {
     "name": "stdout",
     "output_type": "stream",
     "text": [
      "----> Load model and make predictions (consensus). <----\n",
      "----> Create consensus summary. <----\n"
     ]
    }
   ],
   "source": [
    "model_path = '/home/diplomski-rad/blade/pb/datasets/n15-racon-hax/model-21.h5'\n",
    "reads_paths = [\n",
    "    '/home/data/pacific_biosciences/bacteria/escherichia/coli/NCTC86.fastq',\n",
    "    '/home/data/pacific_biosciences/bacteria/morganella/morgani/NCTC235.fastq',\n",
    "    '/home/data/pacific_biosciences/bacteria/salmonella/enterica/NCTC92.fastq',\n",
    "    '/home/data/pacific_biosciences/bacteria/salmonella/enterica/NCTC129.fastq',\n",
    "    '/home/data/pacific_biosciences/bacteria/klebsiela/pneumoniae/NCTC204.fastq'\n",
    "]\n",
    "assembly_paths = [\n",
    "    '/home/diplomski-rad/blade/pb/escherichia-coli-NCTC86/iter2.fasta',\n",
    "    '/home/diplomski-rad/blade/pb/morganela-morgani-NCTC235/iter2.fasta',\n",
    "    '/home/diplomski-rad/blade/pb/salmonella-enterica-NCTC92/iter2.fasta',\n",
    "    '/home/diplomski-rad/blade/pb/salmonella-enterica-NCTC129/iter2.fasta',\n",
    "    '/home/diplomski-rad/blade/pb/klebsiela-pneumoniae-NCTC204-BROKEN/iter2.fasta'\n",
    "]\n",
    "reference_paths = [\n",
    "    '/home/data/pacific_biosciences/bacteria/escherichia/coli/escherichia_coli_reference.fasta',\n",
    "    '/home/data/pacific_biosciences/bacteria/morganella/morgani/morganella_morganii_reference.fasta',\n",
    "    '/home/data/pacific_biosciences/bacteria/salmonella/enterica/salmonella_enterica_reference.fasta',\n",
    "    '/home/data/pacific_biosciences/bacteria/salmonella/enterica/salmonella_enterica_reference.fasta',\n",
    "    '/home/data/pacific_biosciences/bacteria/klebsiela/pneumoniae/klebsiella_pneumoniae_reference.fasta'\n",
    "]\n",
    "sam_file_paths = [\n",
    "    '/home/diplomski-rad/blade/pb/escherichia-coli-NCTC86/reads-to-asm.sam',\n",
    "    '/home/diplomski-rad/blade/pb/morganela-morgani-NCTC235/reads-to-asm.sam',\n",
    "    '/home/diplomski-rad/blade/pb/salmonella-enterica-NCTC92/reads-to-asm.sam',\n",
    "    '/home/diplomski-rad/blade/pb/salmonella-enterica-NCTC129/reads-to-asm.sam',\n",
    "    '/home/diplomski-rad/blade/pb/klebsiela-pneumoniae-NCTC204-BROKEN/reads-to-asm.sam'\n",
    "]\n",
    "neighbourhood_size = 15\n",
    "output_dirs = [\n",
    "    './e-coli-NCTC86-all-contigs-n15-model-21-racon-hax',\n",
    "    './m-morgani-NCTC235-all-contigs-n15-model-21-racon-hax',\n",
    "    './s-enterica-NCTC92-all-contigs-n15-model-21-racon-hax',\n",
    "    './s-enterica-NCTC129-all-contigs-n15-model-21-racon-hax',\n",
    "    './k-pneumoniae-NCTC204-all-contigs-n15-model-21-racon-hax'\n",
    "]\n",
    "result_file_paths = [\n",
    "    '/home/diplomski-rad/results/pb/all-bacteria-dataset/escherichia-coli-NCTC86/n15-model-21-all-contigs-racon-hax-report.txt',\n",
    "    '/home/diplomski-rad/results/pb/all-bacteria-dataset/morganela-morgani-NCTC235/n15-model-21-all-contigs-racon-hax-report.txt',\n",
    "    '/home/diplomski-rad/results/pb/all-bacteria-dataset/salmonella-enterica-NCTC92/n15-model-21-all-contigs-racon-hax-report.txt',\n",
    "    '/home/diplomski-rad/results/pb/all-bacteria-dataset/salmonella-enterica-NCTC129/n15-model-21-all-contigs-racon-hax-report.txt',\n",
    "    '/home/diplomski-rad/results/pb/all-bacteria-dataset/klebsiela-pneumoniae-NCTC204/n15-model-21-all-contigs-racon-hax-report.txt'\n",
    "]\n",
    "tools_dir = '/home/diplomski-rad/'\n",
    "racon_hax_output_dir = './racon-hax-tmp'\n",
    "num_threads = 12\n",
    "\n",
    "for reads_path, assembly_path, reference_path, sam_file_path, output_dir, result_file_path in \\\n",
    "    zip(reads_paths, assembly_paths, reference_paths, sam_file_paths, output_dirs, result_file_paths):\n",
    "    \n",
    "    pileup_generator = pileups.RaconMSAGenerator(\n",
    "        reads_path,\n",
    "        sam_file_path,\n",
    "        assembly_path,\n",
    "        mode='inference',\n",
    "        tools_dir=tools_dir,\n",
    "        racon_hax_output_dir=racon_hax_output_dir,\n",
    "        num_threads=num_threads\n",
    "    )\n",
    "    \n",
    "    inference.make_consensus(\n",
    "        model_path, \n",
    "        reference_path,\n",
    "        pileup_generator,\n",
    "        neighbourhood_size,\n",
    "        output_dir,\n",
    "        tools_dir,\n",
    "        result_file_path)"
   ]
  },
  {
   "cell_type": "markdown",
   "metadata": {},
   "source": [
    "## n-15 model-23 racon-hax"
   ]
  },
  {
   "cell_type": "code",
   "execution_count": 2,
   "metadata": {},
   "outputs": [
    {
     "name": "stdout",
     "output_type": "stream",
     "text": [
      "----> Create pileups from assembly. <----\n"
     ]
    },
    {
     "name": "stderr",
     "output_type": "stream",
     "text": [
      "100% (9647260 of 9647260) |##############| Elapsed Time: 0:03:47 Time:  0:03:47\n"
     ]
    },
    {
     "name": "stdout",
     "output_type": "stream",
     "text": [
      "----> Create dataset with neighbourhood from pileups. <----\n"
     ]
    },
    {
     "name": "stderr",
     "output_type": "stream",
     "text": [
      "  0% (4054 of 9647260) |                 | Elapsed Time: 0:00:00 ETA:   0:07:56"
     ]
    },
    {
     "name": "stdout",
     "output_type": "stream",
     "text": [
      "Creating dataset with neighbourhood ...\n"
     ]
    },
    {
     "name": "stderr",
     "output_type": "stream",
     "text": [
      "100% (9647260 of 9647260) |##############| Elapsed Time: 0:08:25 Time:  0:08:25\n"
     ]
    },
    {
     "name": "stdout",
     "output_type": "stream",
     "text": [
      "----> Load model and make predictions (consensus). <----\n",
      "WARNING:tensorflow:From /usr/local/lib/python3.5/dist-packages/tensorflow/python/util/deprecation.py:497: calling conv1d (from tensorflow.python.ops.nn_ops) with data_format=NHWC is deprecated and will be removed in a future version.\n",
      "Instructions for updating:\n",
      "`NHWC` for data_format is deprecated, use `NWC` instead\n",
      "----> Create consensus summary. <----\n",
      "----> Create pileups from assembly. <----\n"
     ]
    },
    {
     "name": "stderr",
     "output_type": "stream",
     "text": [
      "100% (6947852 of 6947852) |##############| Elapsed Time: 0:03:07 Time:  0:03:07\n"
     ]
    },
    {
     "name": "stdout",
     "output_type": "stream",
     "text": [
      "----> Create dataset with neighbourhood from pileups. <----\n"
     ]
    },
    {
     "name": "stderr",
     "output_type": "stream",
     "text": [
      "  0% (3850 of 6947852) |                 | Elapsed Time: 0:00:00 ETA:   0:06:01"
     ]
    },
    {
     "name": "stdout",
     "output_type": "stream",
     "text": [
      "Creating dataset with neighbourhood ...\n"
     ]
    },
    {
     "name": "stderr",
     "output_type": "stream",
     "text": [
      " 57% (3965579 of 6947852) |#######       | Elapsed Time: 0:03:37 ETA:   2:23:54"
     ]
    },
    {
     "name": "stdout",
     "output_type": "stream",
     "text": [
      "Creating dataset with neighbourhood ...\n"
     ]
    },
    {
     "name": "stderr",
     "output_type": "stream",
     "text": [
      "100% (6947852 of 6947852) |##############| Elapsed Time: 0:06:18 Time:  0:06:18\n"
     ]
    },
    {
     "name": "stdout",
     "output_type": "stream",
     "text": [
      "----> Load model and make predictions (consensus). <----\n",
      "----> Create consensus summary. <----\n",
      "----> Create pileups from assembly. <----\n"
     ]
    },
    {
     "name": "stderr",
     "output_type": "stream",
     "text": [
      "100% (9238925 of 9238925) |##############| Elapsed Time: 0:03:41 Time:  0:03:41\n"
     ]
    },
    {
     "name": "stdout",
     "output_type": "stream",
     "text": [
      "----> Create dataset with neighbourhood from pileups. <----\n"
     ]
    },
    {
     "name": "stderr",
     "output_type": "stream",
     "text": [
      "  0% (3854 of 9238925) |                 | Elapsed Time: 0:00:00 ETA:   0:07:59"
     ]
    },
    {
     "name": "stdout",
     "output_type": "stream",
     "text": [
      "Creating dataset with neighbourhood ...\n"
     ]
    },
    {
     "name": "stderr",
     "output_type": "stream",
     "text": [
      " 99% (9237896 of 9238925) |############# | Elapsed Time: 0:08:26 ETA:   0:00:04"
     ]
    },
    {
     "name": "stdout",
     "output_type": "stream",
     "text": [
      "Creating dataset with neighbourhood ...\n"
     ]
    },
    {
     "name": "stderr",
     "output_type": "stream",
     "text": [
      "100% (9238925 of 9238925) |##############| Elapsed Time: 0:08:26 Time:  0:08:26\n"
     ]
    },
    {
     "name": "stdout",
     "output_type": "stream",
     "text": [
      "----> Load model and make predictions (consensus). <----\n",
      "----> Create consensus summary. <----\n",
      "----> Create pileups from assembly. <----\n"
     ]
    },
    {
     "name": "stderr",
     "output_type": "stream",
     "text": [
      "100% (8766521 of 8766521) |##############| Elapsed Time: 0:03:56 Time:  0:03:56\n"
     ]
    },
    {
     "name": "stdout",
     "output_type": "stream",
     "text": [
      "----> Create dataset with neighbourhood from pileups. <----\n"
     ]
    },
    {
     "name": "stderr",
     "output_type": "stream",
     "text": [
      "  0% (3866 of 8766521) |                 | Elapsed Time: 0:00:00 ETA:   0:07:33"
     ]
    },
    {
     "name": "stdout",
     "output_type": "stream",
     "text": [
      "Creating dataset with neighbourhood ...\n"
     ]
    },
    {
     "name": "stderr",
     "output_type": "stream",
     "text": [
      " 98% (8674310 of 8766521) |############# | Elapsed Time: 0:07:49 ETA:   0:10:08"
     ]
    },
    {
     "name": "stdout",
     "output_type": "stream",
     "text": [
      "Creating dataset with neighbourhood ...\n"
     ]
    },
    {
     "name": "stderr",
     "output_type": "stream",
     "text": [
      " 99% (8737680 of 8766521) |############# | Elapsed Time: 0:07:53 ETA:   0:00:01"
     ]
    },
    {
     "name": "stdout",
     "output_type": "stream",
     "text": [
      "Creating dataset with neighbourhood ...\n"
     ]
    },
    {
     "name": "stderr",
     "output_type": "stream",
     "text": [
      "100% (8766521 of 8766521) |##############| Elapsed Time: 0:07:54 Time:  0:07:54\n"
     ]
    },
    {
     "name": "stdout",
     "output_type": "stream",
     "text": [
      "----> Load model and make predictions (consensus). <----\n",
      "----> Create consensus summary. <----\n",
      "----> Create pileups from assembly. <----\n"
     ]
    },
    {
     "name": "stderr",
     "output_type": "stream",
     "text": [
      "100% (8634561 of 8634561) |##############| Elapsed Time: 0:03:44 Time:  0:03:44\n"
     ]
    },
    {
     "name": "stdout",
     "output_type": "stream",
     "text": [
      "----> Create dataset with neighbourhood from pileups. <----\n"
     ]
    },
    {
     "name": "stderr",
     "output_type": "stream",
     "text": [
      "  0% (3874 of 8634561) |                 | Elapsed Time: 0:00:00 ETA:   0:07:25"
     ]
    },
    {
     "name": "stdout",
     "output_type": "stream",
     "text": [
      "Creating dataset with neighbourhood ...\n"
     ]
    },
    {
     "name": "stderr",
     "output_type": "stream",
     "text": [
      " 94% (8199338 of 8634561) |############# | Elapsed Time: 0:07:27 ETA:   0:30:16"
     ]
    },
    {
     "name": "stdout",
     "output_type": "stream",
     "text": [
      "Creating dataset with neighbourhood ...\n"
     ]
    },
    {
     "name": "stderr",
     "output_type": "stream",
     "text": [
      " 97% (8423269 of 8634561) |############# | Elapsed Time: 0:07:39 ETA:   0:00:16"
     ]
    },
    {
     "name": "stdout",
     "output_type": "stream",
     "text": [
      "Creating dataset with neighbourhood ...\n"
     ]
    },
    {
     "name": "stderr",
     "output_type": "stream",
     "text": [
      " 99% (8617271 of 8634561) |############# | Elapsed Time: 0:07:50 ETA:   0:00:01"
     ]
    },
    {
     "name": "stdout",
     "output_type": "stream",
     "text": [
      "Creating dataset with neighbourhood ...\n"
     ]
    },
    {
     "name": "stderr",
     "output_type": "stream",
     "text": [
      "100% (8634561 of 8634561) |##############| Elapsed Time: 0:07:51 Time:  0:07:51\n"
     ]
    },
    {
     "name": "stdout",
     "output_type": "stream",
     "text": [
      "----> Load model and make predictions (consensus). <----\n",
      "----> Create consensus summary. <----\n"
     ]
    }
   ],
   "source": [
    "model_path = '/home/diplomski-rad/blade/pb/datasets/n15-racon-hax/model-23.h5'\n",
    "reads_paths = [\n",
    "    '/home/data/pacific_biosciences/bacteria/escherichia/coli/NCTC86.fastq',\n",
    "    '/home/data/pacific_biosciences/bacteria/morganella/morgani/NCTC235.fastq',\n",
    "    '/home/data/pacific_biosciences/bacteria/salmonella/enterica/NCTC92.fastq',\n",
    "    '/home/data/pacific_biosciences/bacteria/salmonella/enterica/NCTC129.fastq',\n",
    "    '/home/data/pacific_biosciences/bacteria/klebsiela/pneumoniae/NCTC204.fastq'\n",
    "]\n",
    "assembly_paths = [\n",
    "    '/home/diplomski-rad/blade/pb/escherichia-coli-NCTC86/iter2.fasta',\n",
    "    '/home/diplomski-rad/blade/pb/morganela-morgani-NCTC235/iter2.fasta',\n",
    "    '/home/diplomski-rad/blade/pb/salmonella-enterica-NCTC92/iter2.fasta',\n",
    "    '/home/diplomski-rad/blade/pb/salmonella-enterica-NCTC129/iter2.fasta',\n",
    "    '/home/diplomski-rad/blade/pb/klebsiela-pneumoniae-NCTC204-BROKEN/iter2.fasta'\n",
    "]\n",
    "reference_paths = [\n",
    "    '/home/data/pacific_biosciences/bacteria/escherichia/coli/escherichia_coli_reference.fasta',\n",
    "    '/home/data/pacific_biosciences/bacteria/morganella/morgani/morganella_morganii_reference.fasta',\n",
    "    '/home/data/pacific_biosciences/bacteria/salmonella/enterica/salmonella_enterica_reference.fasta',\n",
    "    '/home/data/pacific_biosciences/bacteria/salmonella/enterica/salmonella_enterica_reference.fasta',\n",
    "    '/home/data/pacific_biosciences/bacteria/klebsiela/pneumoniae/klebsiella_pneumoniae_reference.fasta'\n",
    "]\n",
    "sam_file_paths = [\n",
    "    '/home/diplomski-rad/blade/pb/escherichia-coli-NCTC86/reads-to-asm.sam',\n",
    "    '/home/diplomski-rad/blade/pb/morganela-morgani-NCTC235/reads-to-asm.sam',\n",
    "    '/home/diplomski-rad/blade/pb/salmonella-enterica-NCTC92/reads-to-asm.sam',\n",
    "    '/home/diplomski-rad/blade/pb/salmonella-enterica-NCTC129/reads-to-asm.sam',\n",
    "    '/home/diplomski-rad/blade/pb/klebsiela-pneumoniae-NCTC204-BROKEN/reads-to-asm.sam'\n",
    "]\n",
    "neighbourhood_size = 15\n",
    "output_dirs = [\n",
    "    './e-coli-NCTC86-all-contigs-n15-model-23-racon-hax',\n",
    "    './m-morgani-NCTC235-all-contigs-n15-model-23-racon-hax',\n",
    "    './s-enterica-NCTC92-all-contigs-n15-model-23-racon-hax',\n",
    "    './s-enterica-NCTC129-all-contigs-n15-model-23-racon-hax',\n",
    "    './k-pneumoniae-NCTC204-all-contigs-n15-model-23-racon-hax'\n",
    "]\n",
    "result_file_paths = [\n",
    "    '/home/diplomski-rad/results/pb/all-bacteria-dataset/escherichia-coli-NCTC86/n15-model-23-all-contigs-racon-hax-report.txt',\n",
    "    '/home/diplomski-rad/results/pb/all-bacteria-dataset/morganela-morgani-NCTC235/n15-model-23-all-contigs-racon-hax-report.txt',\n",
    "    '/home/diplomski-rad/results/pb/all-bacteria-dataset/salmonella-enterica-NCTC92/n15-model-23-all-contigs-racon-hax-report.txt',\n",
    "    '/home/diplomski-rad/results/pb/all-bacteria-dataset/salmonella-enterica-NCTC129/n15-model-23-all-contigs-racon-hax-report.txt',\n",
    "    '/home/diplomski-rad/results/pb/all-bacteria-dataset/klebsiela-pneumoniae-NCTC204/n15-model-23-all-contigs-racon-hax-report.txt'\n",
    "]\n",
    "tools_dir = '/home/diplomski-rad/'\n",
    "racon_hax_output_dir = './racon-hax-tmp'\n",
    "num_threads = 12\n",
    "\n",
    "for reads_path, assembly_path, reference_path, sam_file_path, output_dir, result_file_path in \\\n",
    "    zip(reads_paths, assembly_paths, reference_paths, sam_file_paths, output_dirs, result_file_paths):\n",
    "    \n",
    "    pileup_generator = pileups.RaconMSAGenerator(\n",
    "        reads_path,\n",
    "        sam_file_path,\n",
    "        assembly_path,\n",
    "        mode='inference',\n",
    "        tools_dir=tools_dir,\n",
    "        racon_hax_output_dir=racon_hax_output_dir,\n",
    "        num_threads=num_threads\n",
    "    )\n",
    "    \n",
    "    inference.make_consensus(\n",
    "        model_path, \n",
    "        reference_path,\n",
    "        pileup_generator,\n",
    "        neighbourhood_size,\n",
    "        output_dir,\n",
    "        tools_dir,\n",
    "        result_file_path)"
   ]
  },
  {
   "cell_type": "markdown",
   "metadata": {},
   "source": [
    "## n-15 model-24 racon-hax"
   ]
  },
  {
   "cell_type": "code",
   "execution_count": null,
   "metadata": {},
   "outputs": [
    {
     "name": "stdout",
     "output_type": "stream",
     "text": [
      "----> Create pileups from assembly. <----\n"
     ]
    }
   ],
   "source": [
    "model_path = '/home/diplomski-rad/blade/pb/datasets/n15-racon-hax/model-24.h5'\n",
    "reads_paths = [\n",
    "    '/home/data/pacific_biosciences/bacteria/escherichia/coli/NCTC86.fastq',\n",
    "    '/home/data/pacific_biosciences/bacteria/morganella/morgani/NCTC235.fastq',\n",
    "    '/home/data/pacific_biosciences/bacteria/salmonella/enterica/NCTC92.fastq',\n",
    "    '/home/data/pacific_biosciences/bacteria/salmonella/enterica/NCTC129.fastq',\n",
    "    '/home/data/pacific_biosciences/bacteria/klebsiela/pneumoniae/NCTC204.fastq'\n",
    "]\n",
    "assembly_paths = [\n",
    "    '/home/diplomski-rad/blade/pb/escherichia-coli-NCTC86/iter2.fasta',\n",
    "    '/home/diplomski-rad/blade/pb/morganela-morgani-NCTC235/iter2.fasta',\n",
    "    '/home/diplomski-rad/blade/pb/salmonella-enterica-NCTC92/iter2.fasta',\n",
    "    '/home/diplomski-rad/blade/pb/salmonella-enterica-NCTC129/iter2.fasta',\n",
    "    '/home/diplomski-rad/blade/pb/klebsiela-pneumoniae-NCTC204-BROKEN/iter2.fasta'\n",
    "]\n",
    "reference_paths = [\n",
    "    '/home/data/pacific_biosciences/bacteria/escherichia/coli/escherichia_coli_reference.fasta',\n",
    "    '/home/data/pacific_biosciences/bacteria/morganella/morgani/morganella_morganii_reference.fasta',\n",
    "    '/home/data/pacific_biosciences/bacteria/salmonella/enterica/salmonella_enterica_reference.fasta',\n",
    "    '/home/data/pacific_biosciences/bacteria/salmonella/enterica/salmonella_enterica_reference.fasta',\n",
    "    '/home/data/pacific_biosciences/bacteria/klebsiela/pneumoniae/klebsiella_pneumoniae_reference.fasta'\n",
    "]\n",
    "sam_file_paths = [\n",
    "    '/home/diplomski-rad/blade/pb/escherichia-coli-NCTC86/reads-to-asm.sam',\n",
    "    '/home/diplomski-rad/blade/pb/morganela-morgani-NCTC235/reads-to-asm.sam',\n",
    "    '/home/diplomski-rad/blade/pb/salmonella-enterica-NCTC92/reads-to-asm.sam',\n",
    "    '/home/diplomski-rad/blade/pb/salmonella-enterica-NCTC129/reads-to-asm.sam',\n",
    "    '/home/diplomski-rad/blade/pb/klebsiela-pneumoniae-NCTC204-BROKEN/reads-to-asm.sam'\n",
    "]\n",
    "neighbourhood_size = 15\n",
    "output_dirs = [\n",
    "    './e-coli-NCTC86-all-contigs-n15-model-24-racon-hax',\n",
    "    './m-morgani-NCTC235-all-contigs-n15-model-24-racon-hax',\n",
    "    './s-enterica-NCTC92-all-contigs-n15-model-24-racon-hax',\n",
    "    './s-enterica-NCTC129-all-contigs-n15-model-24-racon-hax',\n",
    "    './k-pneumoniae-NCTC204-all-contigs-n15-model-24-racon-hax'\n",
    "]\n",
    "result_file_paths = [\n",
    "    '/home/diplomski-rad/results/pb/all-bacteria-dataset/escherichia-coli-NCTC86/n15-model-24-all-contigs-racon-hax-report.txt',\n",
    "    '/home/diplomski-rad/results/pb/all-bacteria-dataset/morganela-morgani-NCTC235/n15-model-24-all-contigs-racon-hax-report.txt',\n",
    "    '/home/diplomski-rad/results/pb/all-bacteria-dataset/salmonella-enterica-NCTC92/n15-model-24-all-contigs-racon-hax-report.txt',\n",
    "    '/home/diplomski-rad/results/pb/all-bacteria-dataset/salmonella-enterica-NCTC129/n15-model-24-all-contigs-racon-hax-report.txt',\n",
    "    '/home/diplomski-rad/results/pb/all-bacteria-dataset/klebsiela-pneumoniae-NCTC204/n15-model-24-all-contigs-racon-hax-report.txt'\n",
    "]\n",
    "tools_dir = '/home/diplomski-rad/'\n",
    "racon_hax_output_dir = './racon-hax-tmp'\n",
    "num_threads = 12\n",
    "\n",
    "for reads_path, assembly_path, reference_path, sam_file_path, output_dir, result_file_path in \\\n",
    "    zip(reads_paths, assembly_paths, reference_paths, sam_file_paths, output_dirs, result_file_paths):\n",
    "    \n",
    "    pileup_generator = pileups.RaconMSAGenerator(\n",
    "        reads_path,\n",
    "        sam_file_path,\n",
    "        assembly_path,\n",
    "        mode='inference',\n",
    "        tools_dir=tools_dir,\n",
    "        racon_hax_output_dir=racon_hax_output_dir,\n",
    "        num_threads=num_threads\n",
    "    )\n",
    "    \n",
    "    inference.make_consensus(\n",
    "        model_path, \n",
    "        reference_path,\n",
    "        pileup_generator,\n",
    "        neighbourhood_size,\n",
    "        output_dir,\n",
    "        tools_dir,\n",
    "        result_file_path)"
   ]
  },
  {
   "cell_type": "markdown",
   "metadata": {},
   "source": [
    "## n-20 model-24 racon-hax"
   ]
  },
  {
   "cell_type": "code",
   "execution_count": 6,
   "metadata": {},
   "outputs": [
    {
     "name": "stdout",
     "output_type": "stream",
     "text": [
      "----> Create pileups from assembly. <----\n"
     ]
    },
    {
     "name": "stderr",
     "output_type": "stream",
     "text": [
      "100% (9647260 of 9647260) |##############| Elapsed Time: 0:04:05 Time:  0:04:05\n"
     ]
    },
    {
     "name": "stdout",
     "output_type": "stream",
     "text": [
      "----> Create dataset with neighbourhood from pileups. <----\n"
     ]
    },
    {
     "name": "stderr",
     "output_type": "stream",
     "text": [
      "  0% (3673 of 9647260) |                 | Elapsed Time: 0:00:00 ETA:   0:08:45"
     ]
    },
    {
     "name": "stdout",
     "output_type": "stream",
     "text": [
      "Creating dataset with neighbourhood ...\n"
     ]
    },
    {
     "name": "stderr",
     "output_type": "stream",
     "text": [
      "100% (9647260 of 9647260) |##############| Elapsed Time: 0:09:28 Time:  0:09:28\n"
     ]
    },
    {
     "name": "stdout",
     "output_type": "stream",
     "text": [
      "----> Load model and make predictions (consensus). <----\n",
      "----> Create consensus summary. <----\n",
      "----> Create pileups from assembly. <----\n"
     ]
    },
    {
     "name": "stderr",
     "output_type": "stream",
     "text": [
      "100% (6947852 of 6947852) |##############| Elapsed Time: 0:02:59 Time:  0:02:59\n"
     ]
    },
    {
     "name": "stdout",
     "output_type": "stream",
     "text": [
      "----> Create dataset with neighbourhood from pileups. <----\n"
     ]
    },
    {
     "name": "stderr",
     "output_type": "stream",
     "text": [
      "  0% (3699 of 6947852) |                 | Elapsed Time: 0:00:00 ETA:   0:06:16"
     ]
    },
    {
     "name": "stdout",
     "output_type": "stream",
     "text": [
      "Creating dataset with neighbourhood ...\n"
     ]
    },
    {
     "name": "stderr",
     "output_type": "stream",
     "text": [
      " 57% (3965350 of 6947852) |#######       | Elapsed Time: 0:03:56 ETA:   2:45:08"
     ]
    },
    {
     "name": "stdout",
     "output_type": "stream",
     "text": [
      "Creating dataset with neighbourhood ...\n"
     ]
    },
    {
     "name": "stderr",
     "output_type": "stream",
     "text": [
      "100% (6947852 of 6947852) |##############| Elapsed Time: 0:06:50 Time:  0:06:50\n"
     ]
    },
    {
     "name": "stdout",
     "output_type": "stream",
     "text": [
      "----> Load model and make predictions (consensus). <----\n",
      "----> Create consensus summary. <----\n",
      "----> Create pileups from assembly. <----\n"
     ]
    },
    {
     "name": "stderr",
     "output_type": "stream",
     "text": [
      "100% (9238925 of 9238925) |##############| Elapsed Time: 0:03:51 Time:  0:03:51\n"
     ]
    },
    {
     "name": "stdout",
     "output_type": "stream",
     "text": [
      "----> Create dataset with neighbourhood from pileups. <----\n"
     ]
    },
    {
     "name": "stderr",
     "output_type": "stream",
     "text": [
      "  0% (3806 of 9238925) |                 | Elapsed Time: 0:00:00 ETA:   0:08:06"
     ]
    },
    {
     "name": "stdout",
     "output_type": "stream",
     "text": [
      "Creating dataset with neighbourhood ...\n"
     ]
    },
    {
     "name": "stderr",
     "output_type": "stream",
     "text": [
      " 99% (9237787 of 9238925) |############# | Elapsed Time: 0:08:46 ETA:   0:00:07"
     ]
    },
    {
     "name": "stdout",
     "output_type": "stream",
     "text": [
      "Creating dataset with neighbourhood ...\n"
     ]
    },
    {
     "name": "stderr",
     "output_type": "stream",
     "text": [
      "100% (9238925 of 9238925) |##############| Elapsed Time: 0:08:46 Time:  0:08:46\n"
     ]
    },
    {
     "name": "stdout",
     "output_type": "stream",
     "text": [
      "----> Load model and make predictions (consensus). <----\n",
      "----> Create consensus summary. <----\n",
      "----> Create pileups from assembly. <----\n"
     ]
    },
    {
     "name": "stderr",
     "output_type": "stream",
     "text": [
      "100% (8766521 of 8766521) |##############| Elapsed Time: 0:04:03 Time:  0:04:03\n"
     ]
    },
    {
     "name": "stdout",
     "output_type": "stream",
     "text": [
      "----> Create dataset with neighbourhood from pileups. <----\n"
     ]
    },
    {
     "name": "stderr",
     "output_type": "stream",
     "text": [
      "  0% (3738 of 8766521) |                 | Elapsed Time: 0:00:00 ETA:   0:07:49"
     ]
    },
    {
     "name": "stdout",
     "output_type": "stream",
     "text": [
      "Creating dataset with neighbourhood ...\n"
     ]
    },
    {
     "name": "stderr",
     "output_type": "stream",
     "text": [
      " 98% (8676059 of 8766521) |############# | Elapsed Time: 0:08:31 ETA:   0:08:17"
     ]
    },
    {
     "name": "stdout",
     "output_type": "stream",
     "text": [
      "Creating dataset with neighbourhood ...\n"
     ]
    },
    {
     "name": "stderr",
     "output_type": "stream",
     "text": [
      " 99% (8737463 of 8766521) |############# | Elapsed Time: 0:08:34 ETA:   0:00:01"
     ]
    },
    {
     "name": "stdout",
     "output_type": "stream",
     "text": [
      "Creating dataset with neighbourhood ...\n"
     ]
    },
    {
     "name": "stderr",
     "output_type": "stream",
     "text": [
      "100% (8766521 of 8766521) |##############| Elapsed Time: 0:08:36 Time:  0:08:36\n"
     ]
    },
    {
     "name": "stdout",
     "output_type": "stream",
     "text": [
      "----> Load model and make predictions (consensus). <----\n",
      "----> Create consensus summary. <----\n",
      "----> Create pileups from assembly. <----\n"
     ]
    },
    {
     "name": "stderr",
     "output_type": "stream",
     "text": [
      "100% (8634561 of 8634561) |##############| Elapsed Time: 0:03:44 Time:  0:03:44\n"
     ]
    },
    {
     "name": "stdout",
     "output_type": "stream",
     "text": [
      "----> Create dataset with neighbourhood from pileups. <----\n"
     ]
    },
    {
     "name": "stderr",
     "output_type": "stream",
     "text": [
      "  0% (3663 of 8634561) |                 | Elapsed Time: 0:00:00 ETA:   0:07:51"
     ]
    },
    {
     "name": "stdout",
     "output_type": "stream",
     "text": [
      "Creating dataset with neighbourhood ...\n"
     ]
    },
    {
     "name": "stderr",
     "output_type": "stream",
     "text": [
      " 94% (8199213 of 8634561) |############# | Elapsed Time: 0:07:57 ETA:   0:46:08"
     ]
    },
    {
     "name": "stdout",
     "output_type": "stream",
     "text": [
      "Creating dataset with neighbourhood ...\n"
     ]
    },
    {
     "name": "stderr",
     "output_type": "stream",
     "text": [
      " 97% (8423181 of 8634561) |############# | Elapsed Time: 0:08:10 ETA:   0:00:18"
     ]
    },
    {
     "name": "stdout",
     "output_type": "stream",
     "text": [
      "Creating dataset with neighbourhood ...\n"
     ]
    },
    {
     "name": "stderr",
     "output_type": "stream",
     "text": [
      " 99% (8617132 of 8634561) |############# | Elapsed Time: 0:08:21 ETA:   0:00:01"
     ]
    },
    {
     "name": "stdout",
     "output_type": "stream",
     "text": [
      "Creating dataset with neighbourhood ...\n"
     ]
    },
    {
     "name": "stderr",
     "output_type": "stream",
     "text": [
      "100% (8634561 of 8634561) |##############| Elapsed Time: 0:08:22 Time:  0:08:22\n"
     ]
    },
    {
     "name": "stdout",
     "output_type": "stream",
     "text": [
      "----> Load model and make predictions (consensus). <----\n",
      "----> Create consensus summary. <----\n"
     ]
    }
   ],
   "source": [
    "model_path = '/home/diplomski-rad/blade/pb/datasets/n20-racon-hax/model-24.h5'\n",
    "reads_paths = [\n",
    "    '/home/data/pacific_biosciences/bacteria/escherichia/coli/NCTC86.fastq',\n",
    "    '/home/data/pacific_biosciences/bacteria/morganella/morgani/NCTC235.fastq',\n",
    "    '/home/data/pacific_biosciences/bacteria/salmonella/enterica/NCTC92.fastq',\n",
    "    '/home/data/pacific_biosciences/bacteria/salmonella/enterica/NCTC129.fastq',\n",
    "    '/home/data/pacific_biosciences/bacteria/klebsiela/pneumoniae/NCTC204.fastq'\n",
    "]\n",
    "assembly_paths = [\n",
    "    '/home/diplomski-rad/blade/pb/escherichia-coli-NCTC86/iter2.fasta',\n",
    "    '/home/diplomski-rad/blade/pb/morganela-morgani-NCTC235/iter2.fasta',\n",
    "    '/home/diplomski-rad/blade/pb/salmonella-enterica-NCTC92/iter2.fasta',\n",
    "    '/home/diplomski-rad/blade/pb/salmonella-enterica-NCTC129/iter2.fasta',\n",
    "    '/home/diplomski-rad/blade/pb/klebsiela-pneumoniae-NCTC204-BROKEN/iter2.fasta'\n",
    "]\n",
    "reference_paths = [\n",
    "    '/home/data/pacific_biosciences/bacteria/escherichia/coli/escherichia_coli_reference.fasta',\n",
    "    '/home/data/pacific_biosciences/bacteria/morganella/morgani/morganella_morganii_reference.fasta',\n",
    "    '/home/data/pacific_biosciences/bacteria/salmonella/enterica/salmonella_enterica_reference.fasta',\n",
    "    '/home/data/pacific_biosciences/bacteria/salmonella/enterica/salmonella_enterica_reference.fasta',\n",
    "    '/home/data/pacific_biosciences/bacteria/klebsiela/pneumoniae/klebsiella_pneumoniae_reference.fasta'\n",
    "]\n",
    "sam_file_paths = [\n",
    "    '/home/diplomski-rad/blade/pb/escherichia-coli-NCTC86/reads-to-asm.sam',\n",
    "    '/home/diplomski-rad/blade/pb/morganela-morgani-NCTC235/reads-to-asm.sam',\n",
    "    '/home/diplomski-rad/blade/pb/salmonella-enterica-NCTC92/reads-to-asm.sam',\n",
    "    '/home/diplomski-rad/blade/pb/salmonella-enterica-NCTC129/reads-to-asm.sam',\n",
    "    '/home/diplomski-rad/blade/pb/klebsiela-pneumoniae-NCTC204-BROKEN/reads-to-asm.sam'\n",
    "]\n",
    "neighbourhood_size = 20\n",
    "output_dirs = [\n",
    "    './e-coli-NCTC86-all-contigs-n20-model-24-racon-hax',\n",
    "    './m-morgani-NCTC235-all-contigs-n20-model-24-racon-hax',\n",
    "    './s-enterica-NCTC92-all-contigs-n20-model-24-racon-hax',\n",
    "    './s-enterica-NCTC129-all-contigs-n20-model-24-racon-hax',\n",
    "    './k-pneumoniae-NCTC204-all-contigs-n20-model-24-racon-hax'\n",
    "]\n",
    "result_file_paths = [\n",
    "    '/home/diplomski-rad/results/pb/all-bacteria-dataset/escherichia-coli-NCTC86/n20-model-24-all-contigs-racon-hax-report.txt',\n",
    "    '/home/diplomski-rad/results/pb/all-bacteria-dataset/morganela-morgani-NCTC235/n20-model-24-all-contigs-racon-hax-report.txt',\n",
    "    '/home/diplomski-rad/results/pb/all-bacteria-dataset/salmonella-enterica-NCTC92/n20-model-24-all-contigs-racon-hax-report.txt',\n",
    "    '/home/diplomski-rad/results/pb/all-bacteria-dataset/salmonella-enterica-NCTC129/n20-model-24-all-contigs-racon-hax-report.txt',\n",
    "    '/home/diplomski-rad/results/pb/all-bacteria-dataset/klebsiela-pneumoniae-NCTC204/n20-model-24-all-contigs-racon-hax-report.txt'\n",
    "]\n",
    "tools_dir = '/home/diplomski-rad/'\n",
    "racon_hax_output_dir = './racon-hax-tmp'\n",
    "num_threads = 12\n",
    "\n",
    "for reads_path, assembly_path, reference_path, sam_file_path, output_dir, result_file_path in \\\n",
    "    zip(reads_paths, assembly_paths, reference_paths, sam_file_paths, output_dirs, result_file_paths):\n",
    "    \n",
    "    pileup_generator = pileups.RaconMSAGenerator(\n",
    "        reads_path,\n",
    "        sam_file_path,\n",
    "        assembly_path,\n",
    "        mode='inference',\n",
    "        tools_dir=tools_dir,\n",
    "        racon_hax_output_dir=racon_hax_output_dir,\n",
    "        num_threads=num_threads\n",
    "    )\n",
    "    \n",
    "    inference.make_consensus(\n",
    "        model_path, \n",
    "        reference_path,\n",
    "        pileup_generator,\n",
    "        neighbourhood_size,\n",
    "        output_dir,\n",
    "        tools_dir,\n",
    "        result_file_path)"
   ]
  },
  {
   "cell_type": "markdown",
   "metadata": {},
   "source": [
    "## n-20 model-23 racon-hax"
   ]
  },
  {
   "cell_type": "code",
   "execution_count": null,
   "metadata": {},
   "outputs": [],
   "source": [
    "model_path = '/home/diplomski-rad/blade/pb/datasets/n20-racon-hax/model-23.h5'\n",
    "reads_paths = [\n",
    "    '/home/data/pacific_biosciences/bacteria/escherichia/coli/NCTC86.fastq',\n",
    "    '/home/data/pacific_biosciences/bacteria/morganella/morgani/NCTC235.fastq',\n",
    "    '/home/data/pacific_biosciences/bacteria/salmonella/enterica/NCTC92.fastq',\n",
    "    '/home/data/pacific_biosciences/bacteria/salmonella/enterica/NCTC129.fastq',\n",
    "    '/home/data/pacific_biosciences/bacteria/klebsiela/pneumoniae/NCTC204.fastq'\n",
    "]\n",
    "assembly_paths = [\n",
    "    '/home/diplomski-rad/blade/pb/escherichia-coli-NCTC86/iter2.fasta',\n",
    "    '/home/diplomski-rad/blade/pb/morganela-morgani-NCTC235/iter2.fasta',\n",
    "    '/home/diplomski-rad/blade/pb/salmonella-enterica-NCTC92/iter2.fasta',\n",
    "    '/home/diplomski-rad/blade/pb/salmonella-enterica-NCTC129/iter2.fasta',\n",
    "    '/home/diplomski-rad/blade/pb/klebsiela-pneumoniae-NCTC204-BROKEN/iter2.fasta'\n",
    "]\n",
    "reference_paths = [\n",
    "    '/home/data/pacific_biosciences/bacteria/escherichia/coli/escherichia_coli_reference.fasta',\n",
    "    '/home/data/pacific_biosciences/bacteria/morganella/morgani/morganella_morganii_reference.fasta',\n",
    "    '/home/data/pacific_biosciences/bacteria/salmonella/enterica/salmonella_enterica_reference.fasta',\n",
    "    '/home/data/pacific_biosciences/bacteria/salmonella/enterica/salmonella_enterica_reference.fasta',\n",
    "    '/home/data/pacific_biosciences/bacteria/klebsiela/pneumoniae/klebsiella_pneumoniae_reference.fasta'\n",
    "]\n",
    "sam_file_paths = [\n",
    "    '/home/diplomski-rad/blade/pb/escherichia-coli-NCTC86/reads-to-asm.sam',\n",
    "    '/home/diplomski-rad/blade/pb/morganela-morgani-NCTC235/reads-to-asm.sam',\n",
    "    '/home/diplomski-rad/blade/pb/salmonella-enterica-NCTC92/reads-to-asm.sam',\n",
    "    '/home/diplomski-rad/blade/pb/salmonella-enterica-NCTC129/reads-to-asm.sam',\n",
    "    '/home/diplomski-rad/blade/pb/klebsiela-pneumoniae-NCTC204-BROKEN/reads-to-asm.sam'\n",
    "]\n",
    "neighbourhood_size = 20\n",
    "output_dirs = [\n",
    "    './e-coli-NCTC86-all-contigs-n20-model-23-racon-hax',\n",
    "    './m-morgani-NCTC235-all-contigs-n20-model-23-racon-hax',\n",
    "    './s-enterica-NCTC92-all-contigs-n20-model-23-racon-hax',\n",
    "    './s-enterica-NCTC129-all-contigs-n20-model-23-racon-hax',\n",
    "    './k-pneumoniae-NCTC204-all-contigs-n20-model-23-racon-hax'\n",
    "]\n",
    "result_file_paths = [\n",
    "    '/home/diplomski-rad/results/pb/all-bacteria-dataset/escherichia-coli-NCTC86/n20-model-23-all-contigs-racon-hax-report.txt',\n",
    "    '/home/diplomski-rad/results/pb/all-bacteria-dataset/morganela-morgani-NCTC235/n20-model-23-all-contigs-racon-hax-report.txt',\n",
    "    '/home/diplomski-rad/results/pb/all-bacteria-dataset/salmonella-enterica-NCTC92/n20-model-23-all-contigs-racon-hax-report.txt',\n",
    "    '/home/diplomski-rad/results/pb/all-bacteria-dataset/salmonella-enterica-NCTC129/n20-model-23-all-contigs-racon-hax-report.txt',\n",
    "    '/home/diplomski-rad/results/pb/all-bacteria-dataset/klebsiela-pneumoniae-NCTC204/n20-model-23-all-contigs-racon-hax-report.txt'\n",
    "]\n",
    "tools_dir = '/home/diplomski-rad/'\n",
    "racon_hax_output_dir = './racon-hax-tmp'\n",
    "num_threads = 12\n",
    "\n",
    "for reads_path, assembly_path, reference_path, sam_file_path, output_dir, result_file_path in \\\n",
    "    zip(reads_paths, assembly_paths, reference_paths, sam_file_paths, output_dirs, result_file_paths):\n",
    "    \n",
    "    pileup_generator = pileups.RaconMSAGenerator(\n",
    "        reads_path,\n",
    "        sam_file_path,\n",
    "        assembly_path,\n",
    "        mode='inference',\n",
    "        tools_dir=tools_dir,\n",
    "        racon_hax_output_dir=racon_hax_output_dir,\n",
    "        num_threads=num_threads\n",
    "    )\n",
    "    \n",
    "    inference.make_consensus(\n",
    "        model_path, \n",
    "        reference_path,\n",
    "        pileup_generator,\n",
    "        neighbourhood_size,\n",
    "        output_dir,\n",
    "        tools_dir,\n",
    "        result_file_path)"
   ]
  }
 ],
 "metadata": {
  "kernelspec": {
   "display_name": "Python 3",
   "language": "python",
   "name": "python3"
  },
  "language_info": {
   "codemirror_mode": {
    "name": "ipython",
    "version": 3
   },
   "file_extension": ".py",
   "mimetype": "text/x-python",
   "name": "python",
   "nbconvert_exporter": "python",
   "pygments_lexer": "ipython3",
   "version": "3.5.2"
  }
 },
 "nbformat": 4,
 "nbformat_minor": 2
}

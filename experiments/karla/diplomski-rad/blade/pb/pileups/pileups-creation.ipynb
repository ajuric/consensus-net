{
 "cells": [
  {
   "cell_type": "code",
   "execution_count": 1,
   "metadata": {},
   "outputs": [
    {
     "name": "stdout",
     "output_type": "stream",
     "text": [
      "Adding dataset module.\n"
     ]
    }
   ],
   "source": [
    "import numpy as np\n",
    "\n",
    "import sys\n",
    "module_path = '/home/diplomski-rad/consensus-net/src/python/dataset/'\n",
    "if module_path not in sys.path:\n",
    "    print('Adding dataset module.')\n",
    "    sys.path.append(module_path)\n",
    "\n",
    "import dataset"
   ]
  },
  {
   "cell_type": "markdown",
   "metadata": {},
   "source": [
    "## Generate pileups with indels"
   ]
  },
  {
   "cell_type": "code",
   "execution_count": 4,
   "metadata": {},
   "outputs": [],
   "source": [
    "contigs = ['NC_000913.3', 'NC_003198.1', 'NC_003198.1', 'NC_020418.1', 'NC_016845.1']\n",
    "bam_file_paths = ['/home/diplomski-rad/blade/pb/escherichia-coli-NCTC86/reads-to-ref-sorted.bam',\n",
    "                  '/home/diplomski-rad/blade/pb/salmonella-enterica-NCTC92/reads-to-ref-sorted.bam',\n",
    "                  '/home/diplomski-rad/blade/pb/salmonella-enterica-NCTC129/reads-to-ref-sorted.bam',\n",
    "                  '/home/diplomski-rad/blade/pb/morganela-morgani-NCTC235/reads-to-ref-sorted.bam',\n",
    "                  '/home/diplomski-rad/blade/pb/klebsiela-pneumoniae-NCTC204-BROKEN/reads-to-ref-sorted.bam']\n",
    "reference_fasta_paths = ['/home/data/pacific_biosciences/bacteria/escherichia/coli/escherichia_coli_reference.fasta',\n",
    "                         '/home/data/pacific_biosciences/bacteria/salmonella/enterica/salmonella_enterica_reference.fasta',\n",
    "                         '/home/data/pacific_biosciences/bacteria/salmonella/enterica/salmonella_enterica_reference.fasta',\n",
    "                         '/home/data/pacific_biosciences/bacteria/morganella/morgani/morganella_morganii_reference.fasta',\n",
    "                         '/home/data/pacific_biosciences/bacteria/klebsiela/pneumoniae/klebsiella_pneumoniae_reference.fasta'\n",
    "                        ]\n",
    "save_directory_paths = ['./e-coli-NCTC86/', './s-enterica-NCTC92', './s-enterica-NCTC129', './m-morgani-NCTC235', './k-pneumoniae-NCTC204']\n",
    "include_indels_list = [True] * len(contigs)"
   ]
  },
  {
   "cell_type": "code",
   "execution_count": 5,
   "metadata": {},
   "outputs": [
    {
     "name": "stderr",
     "output_type": "stream",
     "text": [
      "  0% (1078 of 4641652) |                 | Elapsed Time: 0:00:00 ETA:   0:07:11"
     ]
    },
    {
     "name": "stdout",
     "output_type": "stream",
     "text": [
      "##### Generate pileups from read alignments to reference. #####\n",
      "-----> 1. Generate pileups. <-----\n"
     ]
    },
    {
     "name": "stderr",
     "output_type": "stream",
     "text": [
      "100% (4641652 of 4641652) |##############| Elapsed Time: 0:04:48 Time:  0:04:48\n",
      "  0% (18090 of 4641652) |                | Elapsed Time: 0:00:00 ETA:   0:00:25"
     ]
    },
    {
     "name": "stdout",
     "output_type": "stream",
     "text": [
      "-----> 2. Generate ground truth. <-----\n"
     ]
    },
    {
     "name": "stderr",
     "output_type": "stream",
     "text": [
      "100% (4641652 of 4641652) |##############| Elapsed Time: 0:00:24 Time:  0:00:24\n"
     ]
    },
    {
     "ename": "ValueError",
     "evalue": "You must provide non-existing save output directory, ./e-coli-NCTC86/ given.",
     "output_type": "error",
     "traceback": [
      "\u001b[0;31m\u001b[0m",
      "\u001b[0;31mValueError\u001b[0mTraceback (most recent call last)",
      "\u001b[0;32m<ipython-input-5-324f2d249a7f>\u001b[0m in \u001b[0;36m<module>\u001b[0;34m()\u001b[0m\n\u001b[1;32m      1\u001b[0m \u001b[0;32mfor\u001b[0m \u001b[0mcontig\u001b[0m\u001b[0;34m,\u001b[0m \u001b[0mbam_file_path\u001b[0m\u001b[0;34m,\u001b[0m \u001b[0mreference_fasta_path\u001b[0m\u001b[0;34m,\u001b[0m \u001b[0msave_directory_path\u001b[0m\u001b[0;34m,\u001b[0m \u001b[0minclude_indels\u001b[0m \u001b[0;32min\u001b[0m \u001b[0mzip\u001b[0m\u001b[0;34m(\u001b[0m\u001b[0mcontigs\u001b[0m\u001b[0;34m,\u001b[0m \u001b[0mbam_file_paths\u001b[0m\u001b[0;34m,\u001b[0m \u001b[0mreference_fasta_paths\u001b[0m\u001b[0;34m,\u001b[0m \u001b[0msave_directory_paths\u001b[0m\u001b[0;34m,\u001b[0m \u001b[0minclude_indels_list\u001b[0m\u001b[0;34m)\u001b[0m\u001b[0;34m:\u001b[0m\u001b[0;34m\u001b[0m\u001b[0m\n\u001b[0;32m----> 2\u001b[0;31m     \u001b[0mdataset\u001b[0m\u001b[0;34m.\u001b[0m\u001b[0mgenerate_pileups\u001b[0m\u001b[0;34m(\u001b[0m\u001b[0mcontig\u001b[0m\u001b[0;34m,\u001b[0m \u001b[0mbam_file_path\u001b[0m\u001b[0;34m,\u001b[0m \u001b[0mreference_fasta_path\u001b[0m\u001b[0;34m,\u001b[0m \u001b[0msave_directory_path\u001b[0m\u001b[0;34m=\u001b[0m\u001b[0msave_directory_path\u001b[0m\u001b[0;34m,\u001b[0m \u001b[0minclude_indels\u001b[0m\u001b[0;34m=\u001b[0m\u001b[0minclude_indels\u001b[0m\u001b[0;34m)\u001b[0m\u001b[0;34m\u001b[0m\u001b[0m\n\u001b[0m",
      "\u001b[0;32m/home/diplomski-rad/consensus-net/src/python/dataset/dataset.py\u001b[0m in \u001b[0;36mgenerate_pileups\u001b[0;34m(contig, bam_file_path, reference_fasta_path, save_directory_path, include_indels)\u001b[0m\n\u001b[1;32m    477\u001b[0m         \u001b[0;32melse\u001b[0m\u001b[0;34m:\u001b[0m\u001b[0;34m\u001b[0m\u001b[0m\n\u001b[1;32m    478\u001b[0m             raise ValueError('You must provide non-existing save output '\n\u001b[0;32m--> 479\u001b[0;31m                              'directory, {} given.'.format(save_directory_path))\n\u001b[0m\u001b[1;32m    480\u001b[0m         X_save_path = os.path.join(\n\u001b[1;32m    481\u001b[0m             \u001b[0msave_directory_path\u001b[0m\u001b[0;34m,\u001b[0m\u001b[0;34m\u001b[0m\u001b[0m\n",
      "\u001b[0;31mValueError\u001b[0m: You must provide non-existing save output directory, ./e-coli-NCTC86/ given."
     ]
    }
   ],
   "source": [
    "for contig, bam_file_path, reference_fasta_path, save_directory_path, include_indels in zip(contigs, bam_file_paths, reference_fasta_paths, save_directory_paths, include_indels_list):\n",
    "    dataset.generate_pileups(contig, bam_file_path, reference_fasta_path, save_directory_path=save_directory_path, include_indels=include_indels)"
   ]
  },
  {
   "cell_type": "markdown",
   "metadata": {},
   "source": [
    "## Generate pileups with indels with all contigs"
   ]
  },
  {
   "cell_type": "code",
   "execution_count": 3,
   "metadata": {},
   "outputs": [],
   "source": [
    "bam_file_paths = ['/home/diplomski-rad/blade/pb/escherichia-coli-NCTC86/reads-to-ref-sorted.bam',\n",
    "                  '/home/diplomski-rad/blade/pb/salmonella-enterica-NCTC92/reads-to-ref-sorted.bam',\n",
    "                  '/home/diplomski-rad/blade/pb/salmonella-enterica-NCTC129/reads-to-ref-sorted.bam',\n",
    "                  '/home/diplomski-rad/blade/pb/morganela-morgani-NCTC235/reads-to-ref-sorted.bam',\n",
    "                  '/home/diplomski-rad/blade/pb/klebsiela-pneumoniae-NCTC204-BROKEN/reads-to-ref-sorted.bam']\n",
    "reference_fasta_paths = ['/home/data/pacific_biosciences/bacteria/escherichia/coli/escherichia_coli_reference.fasta',\n",
    "                         '/home/data/pacific_biosciences/bacteria/salmonella/enterica/salmonella_enterica_reference.fasta',\n",
    "                         '/home/data/pacific_biosciences/bacteria/salmonella/enterica/salmonella_enterica_reference.fasta',\n",
    "                         '/home/data/pacific_biosciences/bacteria/morganella/morgani/morganella_morganii_reference.fasta',\n",
    "                         '/home/data/pacific_biosciences/bacteria/klebsiela/pneumoniae/klebsiella_pneumoniae_reference.fasta'\n",
    "                        ]\n",
    "save_directory_paths = ['./e-coli-NCTC86-all-contigs/',\n",
    "                        './s-enterica-NCTC92-all-contigs',\n",
    "                        './s-enterica-NCTC129-all-contigs',\n",
    "                        './m-morgani-NCTC235-all-contigs',\n",
    "                        './k-pneumoniae-NCTC204-all-contigs']\n",
    "include_indels_list = [True] * len(bam_file_paths)"
   ]
  },
  {
   "cell_type": "code",
   "execution_count": 5,
   "metadata": {},
   "outputs": [
    {
     "name": "stderr",
     "output_type": "stream",
     "text": [
      "\r",
      "                                                                               \r",
      "\r",
      "N/A% (0 of 4641652) |                    | Elapsed Time: 0:00:00 ETA:  --:--:--"
     ]
    },
    {
     "name": "stdout",
     "output_type": "stream",
     "text": [
      "##### Generate pileups from read alignments to reference. #####\n",
      "-----> 1. Generate pileups. <-----\n"
     ]
    },
    {
     "name": "stderr",
     "output_type": "stream",
     "text": [
      "100% (4641652 of 4641652) |##############| Elapsed Time: 0:06:31 Time:  0:06:31\n",
      "N/A% (0 of 4641652) |                    | Elapsed Time: 0:00:00 ETA:  --:--:--"
     ]
    },
    {
     "name": "stdout",
     "output_type": "stream",
     "text": [
      "-----> 2. Generate ground truth. <-----\n",
      "NC_000913.3 4641652\n"
     ]
    },
    {
     "name": "stderr",
     "output_type": "stream",
     "text": [
      "100% (4641652 of 4641652) |##############| Elapsed Time: 0:00:26 Time:  0:00:26\n",
      "N/A% (0 of 5133713) |                    | Elapsed Time: 0:00:00 ETA:  --:--:--"
     ]
    },
    {
     "name": "stdout",
     "output_type": "stream",
     "text": [
      "##### Generate pileups from read alignments to reference. #####\n",
      "-----> 1. Generate pileups. <-----\n"
     ]
    },
    {
     "name": "stderr",
     "output_type": "stream",
     "text": [
      "100% (5133713 of 5133713) |##############| Elapsed Time: 0:08:00 Time:  0:08:00\n",
      "  0% (17508 of 5133713) |                | Elapsed Time: 0:00:00 ETA:   0:00:29"
     ]
    },
    {
     "name": "stdout",
     "output_type": "stream",
     "text": [
      "-----> 2. Generate ground truth. <-----\n",
      "NC_003198.1 4809037\n"
     ]
    },
    {
     "name": "stderr",
     "output_type": "stream",
     "text": [
      "  0% (35343 of 5133713) | | Elapsed Time: 0:00:27 ETA:  134493112 days, 7:33:20"
     ]
    },
    {
     "name": "stdout",
     "output_type": "stream",
     "text": [
      "NC_003384.1 218160\n"
     ]
    },
    {
     "name": "stderr",
     "output_type": "stream",
     "text": [
      "  0% (29859 of 5133713) | | Elapsed Time: 0:00:28 ETA:  203518482 days, 1:45:068"
     ]
    },
    {
     "name": "stdout",
     "output_type": "stream",
     "text": [
      "NC_003385.1 106516\n"
     ]
    },
    {
     "name": "stderr",
     "output_type": "stream",
     "text": [
      "100% (5133713 of 5133713) |##############| Elapsed Time: 0:00:28 Time:  0:00:28\n",
      "  0% (1341 of 5133713) |                 | Elapsed Time: 0:00:00 ETA:   0:06:23"
     ]
    },
    {
     "name": "stdout",
     "output_type": "stream",
     "text": [
      "##### Generate pileups from read alignments to reference. #####\n",
      "-----> 1. Generate pileups. <-----\n"
     ]
    },
    {
     "name": "stderr",
     "output_type": "stream",
     "text": [
      "100% (5133713 of 5133713) |##############| Elapsed Time: 0:06:03 Time:  0:06:03\n",
      "  0% (17100 of 5133713) |                | Elapsed Time: 0:00:00 ETA:   0:00:30"
     ]
    },
    {
     "name": "stdout",
     "output_type": "stream",
     "text": [
      "-----> 2. Generate ground truth. <-----\n",
      "NC_003198.1 4809037\n"
     ]
    },
    {
     "name": "stderr",
     "output_type": "stream",
     "text": [
      "  0% (29485 of 5133713) | | Elapsed Time: 0:00:30 ETA:  138963966 days, 1:32:44"
     ]
    },
    {
     "name": "stdout",
     "output_type": "stream",
     "text": [
      "NC_003384.1 218160\n"
     ]
    },
    {
     "name": "stderr",
     "output_type": "stream",
     "text": [
      "  0% (10966 of 5133713) | | Elapsed Time: 0:00:31 ETA:  220484157 days, 9:50:255"
     ]
    },
    {
     "name": "stdout",
     "output_type": "stream",
     "text": [
      "NC_003385.1 106516\n"
     ]
    },
    {
     "name": "stderr",
     "output_type": "stream",
     "text": [
      "100% (5133713 of 5133713) |##############| Elapsed Time: 0:00:32 Time:  0:00:32\n",
      "  0% (1363 of 3799539) |                 | Elapsed Time: 0:00:00 ETA:   0:04:40"
     ]
    },
    {
     "name": "stdout",
     "output_type": "stream",
     "text": [
      "##### Generate pileups from read alignments to reference. #####\n",
      "-----> 1. Generate pileups. <-----\n"
     ]
    },
    {
     "name": "stderr",
     "output_type": "stream",
     "text": [
      "100% (3799539 of 3799539) |##############| Elapsed Time: 0:04:44 Time:  0:04:44\n",
      "  0% (12565 of 3799539) |                | Elapsed Time: 0:00:00 ETA:   0:00:30"
     ]
    },
    {
     "name": "stdout",
     "output_type": "stream",
     "text": [
      "-----> 2. Generate ground truth. <-----\n",
      "NC_020418.1 3799539\n"
     ]
    },
    {
     "name": "stderr",
     "output_type": "stream",
     "text": [
      "100% (3799539 of 3799539) |##############| Elapsed Time: 0:00:23 Time:  0:00:23\n",
      "  0% (1561 of 5682322) |                 | Elapsed Time: 0:00:00 ETA:   0:06:05"
     ]
    },
    {
     "name": "stdout",
     "output_type": "stream",
     "text": [
      "##### Generate pileups from read alignments to reference. #####\n",
      "-----> 1. Generate pileups. <-----\n"
     ]
    },
    {
     "name": "stderr",
     "output_type": "stream",
     "text": [
      "100% (5682322 of 5682322) |##############| Elapsed Time: 0:05:22 Time:  0:05:224\n",
      "  0% (16963 of 5682322) |                | Elapsed Time: 0:00:00 ETA:   0:00:33"
     ]
    },
    {
     "name": "stdout",
     "output_type": "stream",
     "text": [
      "-----> 2. Generate ground truth. <-----\n",
      "NC_016845.1 5333942\n"
     ]
    },
    {
     "name": "stderr",
     "output_type": "stream",
     "text": [
      "  0% (29517 of 5682322) | | Elapsed Time: 0:00:33 ETA:  147779436 days, 2:27:15"
     ]
    },
    {
     "name": "stdout",
     "output_type": "stream",
     "text": [
      "NC_016838.1 122799\n"
     ]
    },
    {
     "name": "stderr",
     "output_type": "stream",
     "text": [
      "  0% (40553 of 5682322) || Elapsed Time: 0:00:34 ETA:  199836485 days, 22:41:25"
     ]
    },
    {
     "name": "stdout",
     "output_type": "stream",
     "text": [
      "NC_016846.1 111195\n"
     ]
    },
    {
     "name": "stderr",
     "output_type": "stream",
     "text": [
      "  0% (23247 of 5682322) || Elapsed Time: 0:00:34 ETA:  237736037 days, 18:54:108"
     ]
    },
    {
     "name": "stdout",
     "output_type": "stream",
     "text": [
      "NC_016839.1 105974\n"
     ]
    },
    {
     "name": "stderr",
     "output_type": "stream",
     "text": [
      "100% (5682322 of 5682322) |##############| Elapsed Time: 0:00:35 Time:  0:00:358\n"
     ]
    },
    {
     "name": "stdout",
     "output_type": "stream",
     "text": [
      "NC_016840.1 3751\n",
      "NC_016847.1 3353\n",
      "NC_016841.1 1308\n"
     ]
    }
   ],
   "source": [
    "for bam_file_path, reference_fasta_path, save_directory_path, include_indels in zip(bam_file_paths, reference_fasta_paths, save_directory_paths, include_indels_list):\n",
    "    dataset.generate_pileups(bam_file_path, reference_fasta_path, save_directory_path=save_directory_path, include_indels=include_indels)"
   ]
  },
  {
   "cell_type": "markdown",
   "metadata": {},
   "source": [
    "## Generate pileups with indels with all contigs with new indel classes"
   ]
  },
  {
   "cell_type": "code",
   "execution_count": 2,
   "metadata": {},
   "outputs": [],
   "source": [
    "bam_file_paths = ['/home/diplomski-rad/blade/pb/escherichia-coli-NCTC86/reads-to-ref-sorted.bam',\n",
    "                  '/home/diplomski-rad/blade/pb/salmonella-enterica-NCTC92/reads-to-ref-sorted.bam',\n",
    "                  '/home/diplomski-rad/blade/pb/salmonella-enterica-NCTC129/reads-to-ref-sorted.bam',\n",
    "                  '/home/diplomski-rad/blade/pb/morganela-morgani-NCTC235/reads-to-ref-sorted.bam',\n",
    "                  '/home/diplomski-rad/blade/pb/klebsiela-pneumoniae-NCTC204-BROKEN/reads-to-ref-sorted.bam']\n",
    "reference_fasta_paths = ['/home/data/pacific_biosciences/bacteria/escherichia/coli/escherichia_coli_reference.fasta',\n",
    "                         '/home/data/pacific_biosciences/bacteria/salmonella/enterica/salmonella_enterica_reference.fasta',\n",
    "                         '/home/data/pacific_biosciences/bacteria/salmonella/enterica/salmonella_enterica_reference.fasta',\n",
    "                         '/home/data/pacific_biosciences/bacteria/morganella/morgani/morganella_morganii_reference.fasta',\n",
    "                         '/home/data/pacific_biosciences/bacteria/klebsiela/pneumoniae/klebsiella_pneumoniae_reference.fasta'\n",
    "                        ]\n",
    "save_directory_paths = ['./e-coli-NCTC86-all-contigs-indel-classes/',\n",
    "                        './s-enterica-NCTC92-all-contigs-indel-classes',\n",
    "                        './s-enterica-NCTC129-all-contigs-indel-classes',\n",
    "                        './m-morgani-NCTC235-all-contigs-indel-classes',\n",
    "                        './k-pneumoniae-NCTC204-all-contigs-indel-classes']\n",
    "include_indels_list = [True] * len(bam_file_paths)"
   ]
  },
  {
   "cell_type": "code",
   "execution_count": 4,
   "metadata": {},
   "outputs": [
    {
     "name": "stderr",
     "output_type": "stream",
     "text": [
      "  0% (777 of 4641652) |                  | Elapsed Time: 0:00:00 ETA:   0:09:58"
     ]
    },
    {
     "name": "stdout",
     "output_type": "stream",
     "text": [
      "##### Generate pileups from read alignments to reference. #####\n"
     ]
    },
    {
     "name": "stderr",
     "output_type": "stream",
     "text": [
      "100% (4641652 of 4641652) |##############| Elapsed Time: 0:07:51 Time:  0:07:51\n",
      "N/A% (0 of 5133713) |                    | Elapsed Time: 0:00:00 ETA:  --:--:--"
     ]
    },
    {
     "name": "stdout",
     "output_type": "stream",
     "text": [
      "##### Generate pileups from read alignments to reference. #####\n"
     ]
    },
    {
     "name": "stderr",
     "output_type": "stream",
     "text": [
      "100% (5133713 of 5133713) |##############| Elapsed Time: 0:07:37 Time:  0:07:37\n",
      "  0% (704 of 5133713) |                  | Elapsed Time: 0:00:00 ETA:   0:12:10"
     ]
    },
    {
     "name": "stdout",
     "output_type": "stream",
     "text": [
      "##### Generate pileups from read alignments to reference. #####\n"
     ]
    },
    {
     "name": "stderr",
     "output_type": "stream",
     "text": [
      "100% (5133713 of 5133713) |##############| Elapsed Time: 0:06:54 Time:  0:06:54\n",
      "N/A% (0 of 3799539) |                    | Elapsed Time: 0:00:00 ETA:  --:--:--"
     ]
    },
    {
     "name": "stdout",
     "output_type": "stream",
     "text": [
      "##### Generate pileups from read alignments to reference. #####\n"
     ]
    },
    {
     "name": "stderr",
     "output_type": "stream",
     "text": [
      "100% (3799539 of 3799539) |##############| Elapsed Time: 0:05:34 Time:  0:05:34\n",
      "N/A% (0 of 5682322) |                    | Elapsed Time: 0:00:00 ETA:  --:--:--"
     ]
    },
    {
     "name": "stdout",
     "output_type": "stream",
     "text": [
      "##### Generate pileups from read alignments to reference. #####\n"
     ]
    },
    {
     "name": "stderr",
     "output_type": "stream",
     "text": [
      "100% (5682322 of 5682322) |##############| Elapsed Time: 0:06:30 Time:  0:06:30\n"
     ]
    }
   ],
   "source": [
    "for bam_file_path, reference_fasta_path, save_directory_path, include_indels in zip(bam_file_paths, reference_fasta_paths, save_directory_paths, include_indels_list):\n",
    "    dataset.generate_pileups(\n",
    "        bam_file_path,\n",
    "        reference_fasta_path,\n",
    "        mode='training',\n",
    "        save_directory_path=save_directory_path,\n",
    "        include_indels=include_indels)"
   ]
  },
  {
   "cell_type": "code",
   "execution_count": null,
   "metadata": {},
   "outputs": [],
   "source": []
  }
 ],
 "metadata": {
  "kernelspec": {
   "display_name": "Python 3",
   "language": "python",
   "name": "python3"
  },
  "language_info": {
   "codemirror_mode": {
    "name": "ipython",
    "version": 3
   },
   "file_extension": ".py",
   "mimetype": "text/x-python",
   "name": "python",
   "nbconvert_exporter": "python",
   "pygments_lexer": "ipython3",
   "version": "3.5.2"
  }
 },
 "nbformat": 4,
 "nbformat_minor": 2
}

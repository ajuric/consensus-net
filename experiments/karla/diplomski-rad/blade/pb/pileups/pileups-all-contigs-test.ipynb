{
 "cells": [
  {
   "cell_type": "code",
   "execution_count": 61,
   "metadata": {},
   "outputs": [],
   "source": [
    "import progressbar\n",
    "import pysam\n",
    "import pysamstats\n",
    "import numpy as np\n",
    "\n",
    "def _generate_pileups(bam_file_path, reference_fasta_path, include_indels=True):\n",
    "    \"\"\"\n",
    "    Generate pileups from reads alignment to reference.\n",
    "\n",
    "    :param contig: name of contig in .fasta file, needed for generating pileups\n",
    "    :type contig: str\n",
    "    :param bam_file_path: path to .bam file containing alignments\n",
    "    :type bam_file_path: str\n",
    "    :param reference_fasta_path: path to .fasta file\n",
    "    :type reference_fasta_path: str\n",
    "    :param include_indels: flag which indicates whether to include indels in\n",
    "        pileups\n",
    "    :type include_indels: bool\n",
    "    :return: pileups (X)\n",
    "    :rtype: np.ndarray\n",
    "    \"\"\"\n",
    "    bamfile = pysam.AlignmentFile(bam_file_path)\n",
    "\n",
    "    if include_indels:\n",
    "        info_of_interest = ['A', 'C', 'G', 'T', 'insertions', 'deletions']\n",
    "    else:\n",
    "        info_of_interest = ['A', 'C', 'G', 'T']\n",
    "\n",
    "    pileups = [np.zeros((bamfile.get_reference_length(contig_name), len(info_of_interest)))\n",
    "               for contig_name in bamfile.references]\n",
    "    \n",
    "    total_length = np.sum([bamfile.get_reference_length(contig_name) for contig_name in bamfile.references])\n",
    "    with progressbar.ProgressBar(max_value=total_length) as progress_bar:\n",
    "        for contig_id, contig_name in enumerate(bamfile.references):\n",
    "            for record in pysamstats.stat_variation(bamfile, chrom=contig_name,\n",
    "                                                    fafile=reference_fasta_path):\n",
    "                progress_bar.update(record['pos'])\n",
    "                for i, info in enumerate(info_of_interest):\n",
    "                    pileups[contig_id][record['pos']][i] += record[info]\n",
    "    return np.concatenate(pileups, axis=0), bamfile.references"
   ]
  },
  {
   "cell_type": "code",
   "execution_count": 3,
   "metadata": {},
   "outputs": [],
   "source": [
    "bam_file_path = '/home/diplomski-rad/blade/pb/klebsiela-pneumoniae-NCTC204-BROKEN/reads-to-ref-sorted.bam'\n",
    "bamfile = pysam.AlignmentFile(bam_file_path)"
   ]
  },
  {
   "cell_type": "code",
   "execution_count": 16,
   "metadata": {},
   "outputs": [
    {
     "data": {
      "text/plain": [
       "'NC_016846.1'"
      ]
     },
     "execution_count": 16,
     "metadata": {},
     "output_type": "execute_result"
    }
   ],
   "source": [
    "bamfile.get_reference_name(2)"
   ]
  },
  {
   "cell_type": "code",
   "execution_count": 17,
   "metadata": {},
   "outputs": [
    {
     "data": {
      "text/plain": [
       "('NC_016845.1',\n",
       " 'NC_016838.1',\n",
       " 'NC_016846.1',\n",
       " 'NC_016839.1',\n",
       " 'NC_016840.1',\n",
       " 'NC_016847.1',\n",
       " 'NC_016841.1')"
      ]
     },
     "execution_count": 17,
     "metadata": {},
     "output_type": "execute_result"
    }
   ],
   "source": [
    "bamfile.references"
   ]
  },
  {
   "cell_type": "code",
   "execution_count": 19,
   "metadata": {},
   "outputs": [
    {
     "name": "stdout",
     "output_type": "stream",
     "text": [
      "5333942\n",
      "122799\n",
      "111195\n",
      "105974\n",
      "3751\n",
      "3353\n",
      "1308\n"
     ]
    }
   ],
   "source": [
    "for ref in bamfile.references:\n",
    "    print(bamfile.get_reference_length(ref))"
   ]
  },
  {
   "cell_type": "code",
   "execution_count": 28,
   "metadata": {},
   "outputs": [
    {
     "name": "stderr",
     "output_type": "stream",
     "text": [
      "100% (5682322 of 5682322) |##############| Elapsed Time: 0:04:50 Time:  0:04:504\n"
     ]
    }
   ],
   "source": [
    "bam_file_path = '/home/diplomski-rad/blade/pb/klebsiela-pneumoniae-NCTC204-BROKEN/reads-to-ref-sorted.bam'\n",
    "reference_fasta_path = '/home/data/pacific_biosciences/bacteria/klebsiela/pneumoniae/klebsiella_pneumoniae_reference.fasta'\n",
    "include_indels = False\n",
    "pileups = _generate_pileups(bam_file_path, reference_fasta_path, include_indels=include_indels)"
   ]
  },
  {
   "cell_type": "code",
   "execution_count": 29,
   "metadata": {},
   "outputs": [
    {
     "data": {
      "text/plain": [
       "7"
      ]
     },
     "execution_count": 29,
     "metadata": {},
     "output_type": "execute_result"
    }
   ],
   "source": [
    "len(pileups)"
   ]
  },
  {
   "cell_type": "code",
   "execution_count": 31,
   "metadata": {},
   "outputs": [
    {
     "name": "stdout",
     "output_type": "stream",
     "text": [
      "(5333942, 4)\n",
      "(122799, 4)\n",
      "(111195, 4)\n",
      "(105974, 4)\n",
      "(3751, 4)\n",
      "(3353, 4)\n",
      "(1308, 4)\n"
     ]
    }
   ],
   "source": [
    "for pileup in pileups:\n",
    "    print(pileup.shape)"
   ]
  },
  {
   "cell_type": "code",
   "execution_count": 42,
   "metadata": {},
   "outputs": [
    {
     "name": "stdout",
     "output_type": "stream",
     "text": [
      "457.0\n",
      "39.0\n",
      "190.0\n",
      "0.0\n",
      "0.0\n",
      "0.0\n",
      "0.0\n"
     ]
    }
   ],
   "source": [
    "for pileup in pileups:\n",
    "    print(np.max(pileup))"
   ]
  },
  {
   "cell_type": "code",
   "execution_count": 47,
   "metadata": {},
   "outputs": [
    {
     "name": "stdout",
     "output_type": "stream",
     "text": [
      "128\n",
      "162.7790985107422\n",
      "3.7476348876953125\n",
      "3.3935089111328125\n",
      "3.2341766357421875\n",
      "0.1145782470703125\n",
      "0.1024322509765625\n",
      "0.0400238037109375\n"
     ]
    }
   ],
   "source": [
    "import sys\n",
    "\n",
    "print(sys.getsizeof(pileups))\n",
    "for pileup in pileups:\n",
    "    print(sys.getsizeof(pileup)/(1 << 20))"
   ]
  },
  {
   "cell_type": "code",
   "execution_count": 54,
   "metadata": {},
   "outputs": [
    {
     "name": "stderr",
     "output_type": "stream",
     "text": [
      "100% (5682322 of 5682322) |##############| Elapsed Time: 0:07:25 Time:  0:07:256\n"
     ]
    }
   ],
   "source": [
    "bam_file_path = '/home/diplomski-rad/blade/pb/klebsiela-pneumoniae-NCTC204-BROKEN/reads-to-ref-sorted.bam'\n",
    "reference_fasta_path = '/home/data/pacific_biosciences/bacteria/klebsiela/pneumoniae/klebsiella_pneumoniae_reference.fasta'\n",
    "include_indels = False\n",
    "pileups = _generate_pileups(bam_file_path, reference_fasta_path, include_indels=include_indels)"
   ]
  },
  {
   "cell_type": "code",
   "execution_count": 55,
   "metadata": {},
   "outputs": [
    {
     "name": "stdout",
     "output_type": "stream",
     "text": [
      "128\n",
      "40.694854736328125\n",
      "0.9369888305664062\n",
      "0.8484573364257812\n",
      "0.808624267578125\n",
      "0.02872467041015625\n",
      "0.02568817138671875\n",
      "0.0100860595703125\n"
     ]
    }
   ],
   "source": [
    "print(sys.getsizeof(pileups))\n",
    "for pileup in pileups:\n",
    "    print(sys.getsizeof(pileup)/(1 << 20))"
   ]
  },
  {
   "cell_type": "code",
   "execution_count": 62,
   "metadata": {},
   "outputs": [
    {
     "name": "stderr",
     "output_type": "stream",
     "text": [
      "100% (5682322 of 5682322) |##############| Elapsed Time: 0:04:52 Time:  0:04:523\n"
     ]
    }
   ],
   "source": [
    "bam_file_path = '/home/diplomski-rad/blade/pb/klebsiela-pneumoniae-NCTC204-BROKEN/reads-to-ref-sorted.bam'\n",
    "reference_fasta_path = '/home/data/pacific_biosciences/bacteria/klebsiela/pneumoniae/klebsiella_pneumoniae_reference.fasta'\n",
    "include_indels = False\n",
    "pileups = _generate_pileups(bam_file_path, reference_fasta_path, include_indels=include_indels)"
   ]
  },
  {
   "cell_type": "code",
   "execution_count": 64,
   "metadata": {},
   "outputs": [
    {
     "name": "stdout",
     "output_type": "stream",
     "text": [
      "173.4108123779297\n"
     ]
    }
   ],
   "source": [
    "print(sys.getsizeof(pileups)/(1 << 20))"
   ]
  },
  {
   "cell_type": "code",
   "execution_count": 98,
   "metadata": {},
   "outputs": [],
   "source": [
    "from Bio import SeqIO\n",
    "\n",
    "def _generate_ground_truth(reference_fasta_path, ordered_contigs):\n",
    "    \"\"\"\n",
    "    Generates ground truth - nucleus bases from reference.\n",
    "    \n",
    "    It parses all contigs.\n",
    "    \n",
    "    :param reference_fasta_path: path to .fasta file\n",
    "    :type reference_fasta_path: str\n",
    "    :return: nucleus bases from reference (y)\n",
    "    :rtype: np.ndarray\n",
    "    \"\"\"\n",
    "    record_dict = SeqIO.to_dict(SeqIO.parse(reference_fasta_path, 'fasta'))\n",
    "    total_options = 5\n",
    "    y_oh = [np.zeros((len(record_dict[contig_name]), total_options)) for contig_name in ordered_contigs]\n",
    "    # Last number in shape - 5 - is for letters other than A, C, G and T.\n",
    "    mapping = {'A': 0, 'a': 0, 'C': 1, 'c': 1, 'G': 2, 'g': 2, 'T': 3, 't': 3}\n",
    "    \n",
    "    total_length = np.sum(len(record_dict[contig_name]) for contig_name in ordered_contigs)\n",
    "    with progressbar.ProgressBar(max_value=total_length) as progress_bar:\n",
    "        for contig_id, contig_name in enumerate(ordered_contigs):\n",
    "            contig = record_dict[contig_name]\n",
    "            print(contig_name, len(contig))\n",
    "            for position, base in enumerate(contig.seq):\n",
    "                progress_bar.update(position)\n",
    "                y_oh[contig_id][position][mapping.get(base, -1)] = 1\n",
    "    return np.concatenate(y_oh, axis=0)"
   ]
  },
  {
   "cell_type": "code",
   "execution_count": 66,
   "metadata": {},
   "outputs": [],
   "source": [
    "reference_fasta_path = '/home/data/pacific_biosciences/bacteria/klebsiela/pneumoniae/klebsiella_pneumoniae_reference.fasta'\n",
    "record_dict = SeqIO.to_dict(SeqIO.parse(reference_fasta_path, 'fasta'))"
   ]
  },
  {
   "cell_type": "code",
   "execution_count": 69,
   "metadata": {},
   "outputs": [
    {
     "name": "stdout",
     "output_type": "stream",
     "text": [
      "dict_keys(['NC_016840.1', 'NC_016839.1', 'NC_016847.1', 'NC_016841.1', 'NC_016846.1', 'NC_016845.1', 'NC_016838.1'])\n"
     ]
    }
   ],
   "source": [
    "print(record_dict.keys())"
   ]
  },
  {
   "cell_type": "code",
   "execution_count": 81,
   "metadata": {},
   "outputs": [
    {
     "name": "stdout",
     "output_type": "stream",
     "text": [
      "ID: NC_016840.1\n",
      "Name: NC_016840.1\n",
      "Description: NC_016840.1 Klebsiella pneumoniae subsp. pneumoniae HS11286 plasmid pKPHS4, complete sequence\n",
      "Number of features: 0\n",
      "Seq('TTTTTGAGCAGCGGGCTTTCCGGCGGTTTTCTCCTCTCAGCCCAGCAATGGTGC...GTC', SingleLetterAlphabet())\n",
      "\n",
      "<class 'Bio.SeqRecord.SeqRecord'>\n",
      "3751\n",
      "3751\n"
     ]
    }
   ],
   "source": [
    "for key in record_dict:\n",
    "    print(record_dict[key])\n",
    "    data = record_dict[key]\n",
    "    print()\n",
    "    print(type(data))\n",
    "    print(len(data))\n",
    "    print(len(data.seq))\n",
    "    break"
   ]
  },
  {
   "cell_type": "code",
   "execution_count": 82,
   "metadata": {},
   "outputs": [
    {
     "name": "stdout",
     "output_type": "stream",
     "text": [
      "3751\n",
      "105974\n",
      "3353\n",
      "1308\n",
      "111195\n",
      "5333942\n",
      "122799\n"
     ]
    }
   ],
   "source": [
    "for key in record_dict:\n",
    "    data = record_dict[key]\n",
    "    print(len(data))"
   ]
  },
  {
   "cell_type": "code",
   "execution_count": 95,
   "metadata": {},
   "outputs": [
    {
     "name": "stdout",
     "output_type": "stream",
     "text": [
      "5333942 3751\n",
      "122799 105974\n",
      "111195 3353\n",
      "105974 1308\n",
      "3751 111195\n",
      "3353 5333942\n",
      "1308 122799\n"
     ]
    }
   ],
   "source": [
    "for ref, key in zip(bamfile.references, record_dict):\n",
    "    print(bamfile.get_reference_length(ref), len(record_dict[key]))"
   ]
  },
  {
   "cell_type": "code",
   "execution_count": 86,
   "metadata": {},
   "outputs": [
    {
     "name": "stderr",
     "output_type": "stream",
     "text": [
      "100% (5682322 of 5682322) |##############| Elapsed Time: 0:00:32 Time:  0:00:328\n"
     ]
    }
   ],
   "source": [
    "reference_fasta_path = '/home/data/pacific_biosciences/bacteria/klebsiela/pneumoniae/klebsiella_pneumoniae_reference.fasta'\n",
    "y = _generate_ground_truth(reference_fasta_path)"
   ]
  },
  {
   "cell_type": "code",
   "execution_count": 87,
   "metadata": {},
   "outputs": [
    {
     "name": "stdout",
     "output_type": "stream",
     "text": [
      "7\n"
     ]
    }
   ],
   "source": [
    "print(len(y))"
   ]
  },
  {
   "cell_type": "code",
   "execution_count": 88,
   "metadata": {},
   "outputs": [
    {
     "name": "stdout",
     "output_type": "stream",
     "text": [
      "(3751, 5)\n",
      "(105974, 5)\n",
      "(3353, 5)\n",
      "(1308, 5)\n",
      "(111195, 5)\n",
      "(5333942, 5)\n",
      "(122799, 5)\n"
     ]
    }
   ],
   "source": [
    "for yi in y:\n",
    "    print(yi.shape)"
   ]
  },
  {
   "cell_type": "code",
   "execution_count": 91,
   "metadata": {},
   "outputs": [
    {
     "name": "stdout",
     "output_type": "stream",
     "text": [
      "0.14319610595703125\n",
      "4.042694091796875\n",
      "0.12801361083984375\n",
      "0.0500030517578125\n",
      "4.241859436035156\n",
      "203.47384643554688\n",
      "4.684516906738281\n"
     ]
    }
   ],
   "source": [
    "for yi in y:\n",
    "    print(sys.getsizeof(yi)/(1 << 20))"
   ]
  },
  {
   "cell_type": "code",
   "execution_count": 93,
   "metadata": {},
   "outputs": [
    {
     "name": "stderr",
     "output_type": "stream",
     "text": [
      "100% (5682322 of 5682322) |##############| Elapsed Time: 0:00:31 Time:  0:00:31\n"
     ]
    }
   ],
   "source": [
    "reference_fasta_path = '/home/data/pacific_biosciences/bacteria/klebsiela/pneumoniae/klebsiella_pneumoniae_reference.fasta'\n",
    "y = _generate_ground_truth(reference_fasta_path)"
   ]
  },
  {
   "cell_type": "code",
   "execution_count": 94,
   "metadata": {},
   "outputs": [
    {
     "name": "stdout",
     "output_type": "stream",
     "text": [
      "(5682322, 5)\n"
     ]
    }
   ],
   "source": [
    "print(y.shape)"
   ]
  },
  {
   "cell_type": "code",
   "execution_count": 99,
   "metadata": {},
   "outputs": [
    {
     "name": "stderr",
     "output_type": "stream",
     "text": [
      "  0% (29226 of 5682322) |                | Elapsed Time: 0:00:00 ETA:   0:00:38"
     ]
    },
    {
     "name": "stdout",
     "output_type": "stream",
     "text": [
      "NC_016845.1 5333942\n"
     ]
    },
    {
     "name": "stderr",
     "output_type": "stream",
     "text": [
      "  0% (25853 of 5682322) || Elapsed Time: 0:00:30 ETA:  156608313 days, 10:25:49"
     ]
    },
    {
     "name": "stdout",
     "output_type": "stream",
     "text": [
      "NC_016838.1 122799\n"
     ]
    },
    {
     "name": "stderr",
     "output_type": "stream",
     "text": [
      "  0% (31216 of 5682322) | | Elapsed Time: 0:00:31 ETA:  202318686 days, 6:40:54"
     ]
    },
    {
     "name": "stdout",
     "output_type": "stream",
     "text": [
      "NC_016846.1 111195\n"
     ]
    },
    {
     "name": "stderr",
     "output_type": "stream",
     "text": [
      "  0% (29446 of 5682322) || Elapsed Time: 0:00:31 ETA:  241677132 days, 20:03:00"
     ]
    },
    {
     "name": "stdout",
     "output_type": "stream",
     "text": [
      "NC_016839.1 105974\n"
     ]
    },
    {
     "name": "stderr",
     "output_type": "stream",
     "text": [
      "100% (5682322 of 5682322) |##############| Elapsed Time: 0:00:32 Time:  0:00:32\n"
     ]
    },
    {
     "name": "stdout",
     "output_type": "stream",
     "text": [
      "NC_016840.1 3751\n",
      "NC_016847.1 3353\n",
      "NC_016841.1 1308\n"
     ]
    }
   ],
   "source": [
    "reference_fasta_path = '/home/data/pacific_biosciences/bacteria/klebsiela/pneumoniae/klebsiella_pneumoniae_reference.fasta'\n",
    "ordered_contigs = bamfile.references\n",
    "y = _generate_ground_truth(reference_fasta_path, ordered_contigs)"
   ]
  },
  {
   "cell_type": "code",
   "execution_count": null,
   "metadata": {},
   "outputs": [],
   "source": []
  }
 ],
 "metadata": {
  "kernelspec": {
   "display_name": "Python 3",
   "language": "python",
   "name": "python3"
  },
  "language_info": {
   "codemirror_mode": {
    "name": "ipython",
    "version": 3
   },
   "file_extension": ".py",
   "mimetype": "text/x-python",
   "name": "python",
   "nbconvert_exporter": "python",
   "pygments_lexer": "ipython3",
   "version": "3.5.2"
  }
 },
 "nbformat": 4,
 "nbformat_minor": 2
}

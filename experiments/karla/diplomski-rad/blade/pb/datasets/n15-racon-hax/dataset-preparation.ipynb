{
 "cells": [
  {
   "cell_type": "code",
   "execution_count": 1,
   "metadata": {},
   "outputs": [
    {
     "name": "stdout",
     "output_type": "stream",
     "text": [
      "Adding dataset module.\n"
     ]
    }
   ],
   "source": [
    "import numpy as np\n",
    "\n",
    "import sys\n",
    "module_path = '/home/diplomski-rad/consensus-net/src/python/dataset/'\n",
    "if module_path not in sys.path:\n",
    "    print('Adding dataset module.')\n",
    "    sys.path.append(module_path)\n",
    "\n",
    "import dataset"
   ]
  },
  {
   "cell_type": "markdown",
   "metadata": {},
   "source": [
    "## Create dataset with neighbourhood"
   ]
  },
  {
   "cell_type": "code",
   "execution_count": 2,
   "metadata": {},
   "outputs": [
    {
     "name": "stderr",
     "output_type": "stream",
     "text": [
      "  0% (3728 of 31260819) |                | Elapsed Time: 0:00:00 ETA:   0:27:59"
     ]
    },
    {
     "name": "stdout",
     "output_type": "stream",
     "text": [
      "Creating dataset with neighbourhood ...\n"
     ]
    },
    {
     "name": "stderr",
     "output_type": "stream",
     "text": [
      " 26% (8433717 of 31260819) |#      | Elapsed Time: 0:07:46 ETA:  1 day, 9:57:57"
     ]
    },
    {
     "name": "stdout",
     "output_type": "stream",
     "text": [
      "Creating dataset with neighbourhood ...\n"
     ]
    },
    {
     "name": "stderr",
     "output_type": "stream",
     "text": [
      " 47% (14935259 of 31260819) |#####       | Elapsed Time: 0:13:46 ETA:  17:40:10"
     ]
    },
    {
     "name": "stdout",
     "output_type": "stream",
     "text": [
      "Creating dataset with neighbourhood ...\n"
     ]
    },
    {
     "name": "stderr",
     "output_type": "stream",
     "text": [
      " 74% (23380159 of 31260819) |########    | Elapsed Time: 0:21:43 ETA:  12:13:16"
     ]
    },
    {
     "name": "stdout",
     "output_type": "stream",
     "text": [
      "Creating dataset with neighbourhood ...\n"
     ]
    },
    {
     "name": "stderr",
     "output_type": "stream",
     "text": [
      "100% (31260819 of 31260819) |############| Elapsed Time: 0:29:37 Time:  0:29:37\n"
     ]
    }
   ],
   "source": [
    "X_paths = [\n",
    "    '/home/diplomski-rad/blade/pb/racon-hax-pileups/e-coli-NCTC86-racon-MSA/pileups-X-0.npy',\n",
    "    '/home/diplomski-rad/blade/pb/racon-hax-pileups/m-morgani-NCTC235-racon-MSA/pileups-X-0.npy',\n",
    "    '/home/diplomski-rad/blade/pb/racon-hax-pileups/s-enterica-NCTC92-racon-MSA/pileups-X-0.npy',\n",
    "    '/home/diplomski-rad/blade/pb/racon-hax-pileups/s-enterica-NCTC129-racon-MSA/pileups-X-0.npy'\n",
    "]\n",
    "y_paths = [\n",
    "    '/home/diplomski-rad/blade/pb/racon-hax-pileups/e-coli-NCTC86-racon-MSA/pileups-y-0.npy',\n",
    "    '/home/diplomski-rad/blade/pb/racon-hax-pileups/m-morgani-NCTC235-racon-MSA/pileups-y-0.npy',\n",
    "    '/home/diplomski-rad/blade/pb/racon-hax-pileups/s-enterica-NCTC92-racon-MSA/pileups-y-0.npy',\n",
    "    '/home/diplomski-rad/blade/pb/racon-hax-pileups/s-enterica-NCTC129-racon-MSA/pileups-y-0.npy'\n",
    "]\n",
    "neighbourhood_size = 15\n",
    "save_directory_path = './'\n",
    "\n",
    "X, y = dataset.create_dataset_with_neighbourhood(neighbourhood_size, mode='training',\n",
    "    X_paths=X_paths, y_paths=y_paths)\n",
    "\n",
    "X, y = X[0], y[0]"
   ]
  },
  {
   "cell_type": "markdown",
   "metadata": {},
   "source": [
    "## Split train and val dataset"
   ]
  },
  {
   "cell_type": "code",
   "execution_count": 3,
   "metadata": {},
   "outputs": [],
   "source": [
    "from sklearn.model_selection import train_test_split\n",
    "\n",
    "validation_size = 0.1\n",
    "\n",
    "X_train, X_validate, y_train, y_validate = train_test_split(\n",
    "            X, y, test_size=validation_size)"
   ]
  },
  {
   "cell_type": "code",
   "execution_count": 4,
   "metadata": {},
   "outputs": [],
   "source": [
    "np.save('./dataset-n15-X-train', X_train)\n",
    "np.save('./dataset-n15-X-validate', X_validate)\n",
    "np.save('./dataset-n15-y-train', y_train)\n",
    "np.save('./dataset-n15-y-validate', y_validate)"
   ]
  },
  {
   "cell_type": "code",
   "execution_count": null,
   "metadata": {},
   "outputs": [],
   "source": []
  }
 ],
 "metadata": {
  "kernelspec": {
   "display_name": "Python 3",
   "language": "python",
   "name": "python3"
  },
  "language_info": {
   "codemirror_mode": {
    "name": "ipython",
    "version": 3
   },
   "file_extension": ".py",
   "mimetype": "text/x-python",
   "name": "python",
   "nbconvert_exporter": "python",
   "pygments_lexer": "ipython3",
   "version": "3.5.2"
  }
 },
 "nbformat": 4,
 "nbformat_minor": 2
}

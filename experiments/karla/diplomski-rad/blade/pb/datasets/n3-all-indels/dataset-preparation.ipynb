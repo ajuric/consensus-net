{
 "cells": [
  {
   "cell_type": "code",
   "execution_count": 1,
   "metadata": {},
   "outputs": [
    {
     "name": "stdout",
     "output_type": "stream",
     "text": [
      "Adding dataset module.\n"
     ]
    }
   ],
   "source": [
    "import numpy as np\n",
    "\n",
    "import sys\n",
    "module_path = '/home/diplomski-rad/consensus-net/src/python/dataset/'\n",
    "if module_path not in sys.path:\n",
    "    print('Adding dataset module.')\n",
    "    sys.path.append(module_path)\n",
    "\n",
    "import dataset"
   ]
  },
  {
   "cell_type": "markdown",
   "metadata": {},
   "source": [
    "## Create dataset with neighbourhood"
   ]
  },
  {
   "cell_type": "code",
   "execution_count": 2,
   "metadata": {},
   "outputs": [
    {
     "name": "stdout",
     "output_type": "stream",
     "text": [
      "Parsing  /home/diplomski-rad/blade/pb/pileups/e-coli-NCTC86/pileups-X-ref-indels.npy  and  /home/diplomski-rad/blade/pb/pileups/e-coli-NCTC86/pileups-y-ref.npy\n"
     ]
    },
    {
     "name": "stderr",
     "output_type": "stream",
     "text": [
      "  0% (4189 of 4641652) |                 | Elapsed Time: 0:00:00 ETA:   0:03:41"
     ]
    },
    {
     "name": "stdout",
     "output_type": "stream",
     "text": [
      "Creating dataset with neighbourhood ...\n"
     ]
    },
    {
     "name": "stderr",
     "output_type": "stream",
     "text": [
      "100% (4641652 of 4641652) |##############| Elapsed Time: 0:03:26 Time:  0:03:26\n"
     ]
    },
    {
     "name": "stdout",
     "output_type": "stream",
     "text": [
      "Parsing  /home/diplomski-rad/blade/pb/pileups/m-morgani-NCTC235/pileups-X-ref-indels.npy  and  /home/diplomski-rad/blade/pb/pileups/m-morgani-NCTC235/pileups-y-ref.npy\n"
     ]
    },
    {
     "name": "stderr",
     "output_type": "stream",
     "text": [
      "  0% (4451 of 3799539) |                 | Elapsed Time: 0:00:00 ETA:   0:02:50"
     ]
    },
    {
     "name": "stdout",
     "output_type": "stream",
     "text": [
      "Creating dataset with neighbourhood ...\n"
     ]
    },
    {
     "name": "stderr",
     "output_type": "stream",
     "text": [
      "100% (3799539 of 3799539) |##############| Elapsed Time: 0:02:45 Time:  0:02:45\n"
     ]
    },
    {
     "name": "stdout",
     "output_type": "stream",
     "text": [
      "Parsing  /home/diplomski-rad/blade/pb/pileups/s-enterica-NCTC92/pileups-X-ref-indels.npy  and  /home/diplomski-rad/blade/pb/pileups/s-enterica-NCTC92/pileups-y-ref.npy\n"
     ]
    },
    {
     "name": "stderr",
     "output_type": "stream",
     "text": [
      "  0% (4452 of 4809037) |                 | Elapsed Time: 0:00:00 ETA:   0:03:36"
     ]
    },
    {
     "name": "stdout",
     "output_type": "stream",
     "text": [
      "Creating dataset with neighbourhood ...\n"
     ]
    },
    {
     "name": "stderr",
     "output_type": "stream",
     "text": [
      "100% (4809037 of 4809037) |##############| Elapsed Time: 0:03:21 Time:  0:03:21\n"
     ]
    },
    {
     "name": "stdout",
     "output_type": "stream",
     "text": [
      "Parsing  /home/diplomski-rad/blade/pb/pileups/s-enterica-NCTC129/pileups-X-ref-indels.npy  and  /home/diplomski-rad/blade/pb/pileups/s-enterica-NCTC129/pileups-y-ref.npy\n"
     ]
    },
    {
     "name": "stderr",
     "output_type": "stream",
     "text": [
      "  0% (4381 of 4809037) |                 | Elapsed Time: 0:00:00 ETA:   0:03:39"
     ]
    },
    {
     "name": "stdout",
     "output_type": "stream",
     "text": [
      "Creating dataset with neighbourhood ...\n"
     ]
    },
    {
     "name": "stderr",
     "output_type": "stream",
     "text": [
      "100% (4809037 of 4809037) |##############| Elapsed Time: 0:03:22 Time:  0:03:22\n"
     ]
    }
   ],
   "source": [
    "X_paths = ['/home/diplomski-rad/blade/pb/pileups/e-coli-NCTC86/pileups-X-ref-indels.npy',\n",
    "           '/home/diplomski-rad/blade/pb/pileups/m-morgani-NCTC235/pileups-X-ref-indels.npy',\n",
    "           '/home/diplomski-rad/blade/pb/pileups/s-enterica-NCTC92/pileups-X-ref-indels.npy',\n",
    "           '/home/diplomski-rad/blade/pb/pileups/s-enterica-NCTC129/pileups-X-ref-indels.npy']\n",
    "y_paths = ['/home/diplomski-rad/blade/pb/pileups/e-coli-NCTC86/pileups-y-ref.npy',\n",
    "           '/home/diplomski-rad/blade/pb/pileups/m-morgani-NCTC235/pileups-y-ref.npy',\n",
    "           '/home/diplomski-rad/blade/pb/pileups/s-enterica-NCTC92/pileups-y-ref.npy',\n",
    "           '/home/diplomski-rad/blade/pb/pileups/s-enterica-NCTC129/pileups-y-ref.npy']\n",
    "neighbourhood_size = 3\n",
    "\n",
    "X, y = dataset.create_dataset_with_neighbourhood(X_paths, y_paths, neighbourhood_size)"
   ]
  },
  {
   "cell_type": "code",
   "execution_count": 3,
   "metadata": {},
   "outputs": [],
   "source": [
    "np.save('./dataset-all-n3-X-indels', X)\n",
    "np.save('./dataset-all-n3-y-indels', y)"
   ]
  },
  {
   "cell_type": "markdown",
   "metadata": {},
   "source": [
    "## Reshape for convolutional nets"
   ]
  },
  {
   "cell_type": "code",
   "execution_count": 4,
   "metadata": {},
   "outputs": [
    {
     "name": "stderr",
     "output_type": "stream",
     "text": [
      "  0% (4908 of 16956461) |                | Elapsed Time: 0:00:00 ETA:   0:11:31"
     ]
    },
    {
     "name": "stdout",
     "output_type": "stream",
     "text": [
      "X shape before reshaping: (16956461, 7, 6)\n",
      "y shape before reshaping: (16956461, 4)\n"
     ]
    },
    {
     "name": "stderr",
     "output_type": "stream",
     "text": [
      "100% (16956461 of 16956461) |############| Elapsed Time: 0:11:57 Time:  0:11:57\n"
     ]
    },
    {
     "name": "stdout",
     "output_type": "stream",
     "text": [
      "X shape after reshaping: (16956461, 7, 1, 6)\n",
      "y shape after reshaping: (16956461, 4)\n",
      "Splitting to train and validation set.\n",
      "X_train shape: (15260814, 7, 1, 6)\n",
      "X_validate shape: (1695647, 7, 1, 6)\n",
      "y_train: (15260814, 4)\n",
      "y_validate: (1695647, 4)\n"
     ]
    }
   ],
   "source": [
    "X, y, X_train, X_validate, y_train, y_validate = dataset.read_dataset_and_reshape_for_conv(\n",
    "    './dataset-all-n3-X-indels.npy', './dataset-all-n3-y-indels.npy', 0.1)"
   ]
  },
  {
   "cell_type": "code",
   "execution_count": 5,
   "metadata": {},
   "outputs": [],
   "source": [
    "np.save('./dataset-n3-X-reshaped', X)\n",
    "np.save('./dataset-n3-y-reshaped', y)\n",
    "np.save('./dataset-n3-X-reshaped-train', X_train)\n",
    "np.save('./dataset-n3-X-reshaped-validate', X_validate)\n",
    "np.save('./dataset-n3-y-reshaped-train', y_train)\n",
    "np.save('./dataset-n3-y-reshaped-validate', y_validate)"
   ]
  },
  {
   "cell_type": "code",
   "execution_count": null,
   "metadata": {},
   "outputs": [],
   "source": []
  }
 ],
 "metadata": {
  "kernelspec": {
   "display_name": "Python 3",
   "language": "python",
   "name": "python3"
  },
  "language_info": {
   "codemirror_mode": {
    "name": "ipython",
    "version": 3
   },
   "file_extension": ".py",
   "mimetype": "text/x-python",
   "name": "python",
   "nbconvert_exporter": "python",
   "pygments_lexer": "ipython3",
   "version": "3.5.2"
  }
 },
 "nbformat": 4,
 "nbformat_minor": 2
}

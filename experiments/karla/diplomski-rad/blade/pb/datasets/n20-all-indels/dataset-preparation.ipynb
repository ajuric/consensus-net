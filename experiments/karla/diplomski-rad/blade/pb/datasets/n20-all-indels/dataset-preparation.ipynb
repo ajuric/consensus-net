{
 "cells": [
  {
   "cell_type": "code",
   "execution_count": 1,
   "metadata": {},
   "outputs": [
    {
     "name": "stdout",
     "output_type": "stream",
     "text": [
      "Adding dataset module.\n"
     ]
    }
   ],
   "source": [
    "import numpy as np\n",
    "\n",
    "import sys\n",
    "module_path = '/home/diplomski-rad/consensus-net/src/python/dataset/'\n",
    "if module_path not in sys.path:\n",
    "    print('Adding dataset module.')\n",
    "    sys.path.append(module_path)\n",
    "\n",
    "import dataset"
   ]
  },
  {
   "cell_type": "markdown",
   "metadata": {},
   "source": [
    "## Create dataset with neighbourhood"
   ]
  },
  {
   "cell_type": "code",
   "execution_count": 3,
   "metadata": {},
   "outputs": [
    {
     "name": "stdout",
     "output_type": "stream",
     "text": [
      "Parsing  /home/diplomski-rad/blade/pb/pileups/e-coli-NCTC86/pileups-X-ref-indels.npy  and  /home/diplomski-rad/blade/pb/pileups/e-coli-NCTC86/pileups-y-ref.npy\n"
     ]
    },
    {
     "name": "stderr",
     "output_type": "stream",
     "text": [
      "  0% (4408 of 4641652) |                 | Elapsed Time: 0:00:00 ETA:   0:03:30"
     ]
    },
    {
     "name": "stdout",
     "output_type": "stream",
     "text": [
      "Creating dataset with neighbourhood ...\n"
     ]
    },
    {
     "name": "stderr",
     "output_type": "stream",
     "text": [
      "100% (4641652 of 4641652) |##############| Elapsed Time: 0:03:32 Time:  0:03:32\n"
     ]
    },
    {
     "name": "stdout",
     "output_type": "stream",
     "text": [
      "Parsing  /home/diplomski-rad/blade/pb/pileups/m-morgani-NCTC235/pileups-X-ref-indels.npy  and  /home/diplomski-rad/blade/pb/pileups/m-morgani-NCTC235/pileups-y-ref.npy\n"
     ]
    },
    {
     "name": "stderr",
     "output_type": "stream",
     "text": [
      "  0% (4389 of 3799539) |                 | Elapsed Time: 0:00:00 ETA:   0:02:53"
     ]
    },
    {
     "name": "stdout",
     "output_type": "stream",
     "text": [
      "Creating dataset with neighbourhood ...\n"
     ]
    },
    {
     "name": "stderr",
     "output_type": "stream",
     "text": [
      "100% (3799539 of 3799539) |##############| Elapsed Time: 0:02:49 Time:  0:02:49\n"
     ]
    },
    {
     "name": "stdout",
     "output_type": "stream",
     "text": [
      "Parsing  /home/diplomski-rad/blade/pb/pileups/s-enterica-NCTC92/pileups-X-ref-indels.npy  and  /home/diplomski-rad/blade/pb/pileups/s-enterica-NCTC92/pileups-y-ref.npy\n"
     ]
    },
    {
     "name": "stderr",
     "output_type": "stream",
     "text": [
      "  0% (4421 of 4809037) |                 | Elapsed Time: 0:00:00 ETA:   0:03:37"
     ]
    },
    {
     "name": "stdout",
     "output_type": "stream",
     "text": [
      "Creating dataset with neighbourhood ...\n"
     ]
    },
    {
     "name": "stderr",
     "output_type": "stream",
     "text": [
      "100% (4809037 of 4809037) |##############| Elapsed Time: 0:03:28 Time:  0:03:28\n"
     ]
    },
    {
     "name": "stdout",
     "output_type": "stream",
     "text": [
      "Parsing  /home/diplomski-rad/blade/pb/pileups/s-enterica-NCTC129/pileups-X-ref-indels.npy  and  /home/diplomski-rad/blade/pb/pileups/s-enterica-NCTC129/pileups-y-ref.npy\n"
     ]
    },
    {
     "name": "stderr",
     "output_type": "stream",
     "text": [
      "  0% (4315 of 4809037) |                 | Elapsed Time: 0:00:00 ETA:   0:03:42"
     ]
    },
    {
     "name": "stdout",
     "output_type": "stream",
     "text": [
      "Creating dataset with neighbourhood ...\n"
     ]
    },
    {
     "name": "stderr",
     "output_type": "stream",
     "text": [
      "100% (4809037 of 4809037) |##############| Elapsed Time: 0:03:30 Time:  0:03:30\n"
     ]
    }
   ],
   "source": [
    "X_paths = ['/home/diplomski-rad/blade/pb/pileups/e-coli-NCTC86/pileups-X-ref-indels.npy',\n",
    "           '/home/diplomski-rad/blade/pb/pileups/m-morgani-NCTC235/pileups-X-ref-indels.npy',\n",
    "           '/home/diplomski-rad/blade/pb/pileups/s-enterica-NCTC92/pileups-X-ref-indels.npy',\n",
    "           '/home/diplomski-rad/blade/pb/pileups/s-enterica-NCTC129/pileups-X-ref-indels.npy']\n",
    "y_paths = ['/home/diplomski-rad/blade/pb/pileups/e-coli-NCTC86/pileups-y-ref.npy',\n",
    "           '/home/diplomski-rad/blade/pb/pileups/m-morgani-NCTC235/pileups-y-ref.npy',\n",
    "           '/home/diplomski-rad/blade/pb/pileups/s-enterica-NCTC92/pileups-y-ref.npy',\n",
    "           '/home/diplomski-rad/blade/pb/pileups/s-enterica-NCTC129/pileups-y-ref.npy']\n",
    "neighbourhood_size = 20\n",
    "\n",
    "X, y = dataset.create_dataset_with_neighbourhood(X_paths, y_paths, neighbourhood_size)"
   ]
  },
  {
   "cell_type": "code",
   "execution_count": 4,
   "metadata": {},
   "outputs": [],
   "source": [
    "np.save('./dataset-all-n20-X-indels', X)\n",
    "np.save('./dataset-all-n20-y-indels', y)"
   ]
  },
  {
   "cell_type": "markdown",
   "metadata": {},
   "source": [
    "## Reshape for convolutional nets"
   ]
  },
  {
   "cell_type": "code",
   "execution_count": 5,
   "metadata": {},
   "outputs": [
    {
     "name": "stderr",
     "output_type": "stream",
     "text": [
      "  0% (5051 of 16949734) |                | Elapsed Time: 0:00:00 ETA:   0:11:12"
     ]
    },
    {
     "name": "stdout",
     "output_type": "stream",
     "text": [
      "X shape before reshaping: (16949734, 41, 6)\n",
      "y shape before reshaping: (16949734, 4)\n"
     ]
    },
    {
     "name": "stderr",
     "output_type": "stream",
     "text": [
      "100% (16949734 of 16949734) |############| Elapsed Time: 0:11:54 Time:  0:11:54\n"
     ]
    },
    {
     "name": "stdout",
     "output_type": "stream",
     "text": [
      "X shape after reshaping: (16949734, 41, 1, 6)\n",
      "y shape after reshaping: (16949734, 4)\n",
      "Splitting to train and validation set.\n",
      "X_train shape: (15254760, 41, 1, 6)\n",
      "X_validate shape: (1694974, 41, 1, 6)\n",
      "y_train: (15254760, 4)\n",
      "y_validate: (1694974, 4)\n"
     ]
    }
   ],
   "source": [
    "X, y, X_train, X_validate, y_train, y_validate = dataset.read_dataset_and_reshape_for_conv(\n",
    "    './dataset-all-n20-X-indels.npy', './dataset-all-n20-y-indels.npy', 0.1)"
   ]
  },
  {
   "cell_type": "code",
   "execution_count": 6,
   "metadata": {},
   "outputs": [],
   "source": [
    "np.save('./dataset-n20-X-reshaped', X)\n",
    "np.save('./dataset-n20-y-reshaped', y)\n",
    "np.save('./dataset-n20-X-reshaped-train', X_train)\n",
    "np.save('./dataset-n20-X-reshaped-validate', X_validate)\n",
    "np.save('./dataset-n20-y-reshaped-train', y_train)\n",
    "np.save('./dataset-n20-y-reshaped-validate', y_validate)"
   ]
  },
  {
   "cell_type": "code",
   "execution_count": null,
   "metadata": {},
   "outputs": [],
   "source": []
  }
 ],
 "metadata": {
  "kernelspec": {
   "display_name": "Python 3",
   "language": "python",
   "name": "python3"
  },
  "language_info": {
   "codemirror_mode": {
    "name": "ipython",
    "version": 3
   },
   "file_extension": ".py",
   "mimetype": "text/x-python",
   "name": "python",
   "nbconvert_exporter": "python",
   "pygments_lexer": "ipython3",
   "version": "3.5.2"
  }
 },
 "nbformat": 4,
 "nbformat_minor": 2
}

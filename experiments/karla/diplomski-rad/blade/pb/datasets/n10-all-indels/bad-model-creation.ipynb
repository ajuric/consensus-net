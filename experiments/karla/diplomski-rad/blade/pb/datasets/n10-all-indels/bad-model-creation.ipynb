{
 "cells": [
  {
   "cell_type": "code",
   "execution_count": 2,
   "metadata": {},
   "outputs": [
    {
     "name": "stderr",
     "output_type": "stream",
     "text": [
      "/usr/local/lib/python3.5/dist-packages/h5py/__init__.py:36: FutureWarning: Conversion of the second argument of issubdtype from `float` to `np.floating` is deprecated. In future, it will be treated as `np.float64 == np.dtype(float).type`.\n",
      "  from ._conv import register_converters as _register_converters\n",
      "Using TensorFlow backend.\n"
     ]
    }
   ],
   "source": [
    "# from comet_ml import Experiment\n",
    "\n",
    "# experiment = Experiment(api_key=\"oda8KKpxlDgWmJG5KsYrrhmIV\", project_name=\"consensusnet\")\n",
    "\n",
    "import numpy as np\n",
    "from keras.models import Model\n",
    "from keras.layers import Dense, Dropout, Activation, Flatten, BatchNormalization, Input\n",
    "from keras.layers import Conv1D, MaxPooling1D, Conv2D, MaxPooling2D, Dropout\n",
    "from keras.callbacks import EarlyStopping, TensorBoard"
   ]
  },
  {
   "cell_type": "code",
   "execution_count": 3,
   "metadata": {},
   "outputs": [],
   "source": [
    "X_train = np.load('./dataset-n10-X-reshaped-train.npy')\n",
    "X_validate = np.load('./dataset-n10-X-reshaped-validate.npy')\n",
    "y_train = np.load('./dataset-n10-y-reshaped-train.npy')\n",
    "y_validate = np.load('./dataset-n10-y-reshaped-validate.npy')"
   ]
  },
  {
   "cell_type": "code",
   "execution_count": 3,
   "metadata": {},
   "outputs": [
    {
     "name": "stdout",
     "output_type": "stream",
     "text": [
      "_________________________________________________________________\n",
      "Layer (type)                 Output Shape              Param #   \n",
      "=================================================================\n",
      "input_1 (InputLayer)         (None, 21, 1, 6)          0         \n",
      "_________________________________________________________________\n",
      "conv2d_1 (Conv2D)            (None, 21, 1, 2)          110       \n",
      "_________________________________________________________________\n",
      "conv2d_2 (Conv2D)            (None, 21, 1, 2)          38        \n",
      "_________________________________________________________________\n",
      "flatten_1 (Flatten)          (None, 42)                0         \n",
      "_________________________________________________________________\n",
      "dense_1 (Dense)              (None, 10)                430       \n",
      "_________________________________________________________________\n",
      "dropout_1 (Dropout)          (None, 10)                0         \n",
      "_________________________________________________________________\n",
      "dense_2 (Dense)              (None, 4)                 44        \n",
      "=================================================================\n",
      "Total params: 622\n",
      "Trainable params: 622\n",
      "Non-trainable params: 0\n",
      "_________________________________________________________________\n",
      "None\n",
      "Train on 15258174 samples, validate on 1695353 samples\n",
      "Epoch 1/1\n",
      "15258174/15258174 [==============================] - 94s 6us/step - loss: 2.2604 - acc: 0.3694 - val_loss: 1.1085 - val_acc: 0.4829\n"
     ]
    }
   ],
   "source": [
    "example_shape = X_train.shape[1:]\n",
    "input_layer = Input(shape=example_shape)\n",
    "\n",
    "conv_1 = Conv2D(filters=2, kernel_size=3, padding='same', activation='relu')(input_layer)\n",
    "\n",
    "conv_2 = Conv2D(filters=2, kernel_size=3, padding='same', activation='relu')(conv_1)\n",
    "\n",
    "flatten = Flatten()(conv_2)\n",
    "dense_1 = Dense(10)(flatten)\n",
    "dropout_1 = Dropout(0.25)(dense_1)\n",
    "predictions = Dense(4, activation='softmax')(dropout_1)\n",
    "\n",
    "model = Model(input_layer, predictions)\n",
    "\n",
    "model.compile(loss='categorical_crossentropy',\n",
    "              optimizer='adam',\n",
    "              metrics=['accuracy'])\n",
    "\n",
    "print(model.summary())\n",
    "\n",
    "batch_size = 50000\n",
    "epochs = 1\n",
    "\n",
    "model.fit(X_train, y_train, batch_size=batch_size, epochs=epochs, validation_data=(X_validate, y_validate))\n",
    "model.save('./bad-model.h5')"
   ]
  },
  {
   "cell_type": "code",
   "execution_count": 4,
   "metadata": {},
   "outputs": [
    {
     "name": "stdout",
     "output_type": "stream",
     "text": [
      "_________________________________________________________________\n",
      "Layer (type)                 Output Shape              Param #   \n",
      "=================================================================\n",
      "input_1 (InputLayer)         (None, 21, 1, 6)          0         \n",
      "_________________________________________________________________\n",
      "conv2d_1 (Conv2D)            (None, 21, 1, 2)          110       \n",
      "_________________________________________________________________\n",
      "conv2d_2 (Conv2D)            (None, 21, 1, 2)          38        \n",
      "_________________________________________________________________\n",
      "flatten_1 (Flatten)          (None, 42)                0         \n",
      "_________________________________________________________________\n",
      "dense_1 (Dense)              (None, 10)                430       \n",
      "_________________________________________________________________\n",
      "dropout_1 (Dropout)          (None, 10)                0         \n",
      "_________________________________________________________________\n",
      "dense_2 (Dense)              (None, 4)                 44        \n",
      "=================================================================\n",
      "Total params: 622\n",
      "Trainable params: 622\n",
      "Non-trainable params: 0\n",
      "_________________________________________________________________\n",
      "None\n",
      "Train on 15258174 samples, validate on 1695353 samples\n",
      "Epoch 1/3\n",
      "15258174/15258174 [==============================] - 77s 5us/step - loss: 1.5540 - acc: 0.2774 - val_loss: 1.3158 - val_acc: 0.3319\n",
      "Epoch 2/3\n",
      "15258174/15258174 [==============================] - 67s 4us/step - loss: 1.3075 - acc: 0.3277 - val_loss: 1.2724 - val_acc: 0.3443\n",
      "Epoch 3/3\n",
      "15258174/15258174 [==============================] - 67s 4us/step - loss: 1.2798 - acc: 0.3383 - val_loss: 1.2648 - val_acc: 0.3472\n"
     ]
    }
   ],
   "source": [
    "example_shape = X_train.shape[1:]\n",
    "input_layer = Input(shape=example_shape)\n",
    "\n",
    "conv_1 = Conv2D(filters=2, kernel_size=3, padding='same', activation='relu')(input_layer)\n",
    "\n",
    "conv_2 = Conv2D(filters=2, kernel_size=3, padding='same', activation='relu')(conv_1)\n",
    "\n",
    "flatten = Flatten()(conv_2)\n",
    "dense_1 = Dense(10)(flatten)\n",
    "dropout_1 = Dropout(0.25)(dense_1)\n",
    "predictions = Dense(4, activation='softmax')(dropout_1)\n",
    "\n",
    "model = Model(input_layer, predictions)\n",
    "\n",
    "model.compile(loss='categorical_crossentropy',\n",
    "              optimizer='adam',\n",
    "              metrics=['accuracy'])\n",
    "\n",
    "print(model.summary())\n",
    "\n",
    "batch_size = 50000\n",
    "epochs = 3\n",
    "\n",
    "model.fit(X_train, y_train, batch_size=batch_size, epochs=epochs, validation_data=(X_validate, y_validate))\n",
    "model.save('./bad-model-2.h5')"
   ]
  },
  {
   "cell_type": "code",
   "execution_count": 6,
   "metadata": {},
   "outputs": [
    {
     "name": "stdout",
     "output_type": "stream",
     "text": [
      "_________________________________________________________________\n",
      "Layer (type)                 Output Shape              Param #   \n",
      "=================================================================\n",
      "input_3 (InputLayer)         (None, 21, 1, 6)          0         \n",
      "_________________________________________________________________\n",
      "conv2d_4 (Conv2D)            (None, 21, 1, 1)          55        \n",
      "_________________________________________________________________\n",
      "flatten_3 (Flatten)          (None, 21)                0         \n",
      "_________________________________________________________________\n",
      "dense_5 (Dense)              (None, 10)                220       \n",
      "_________________________________________________________________\n",
      "dropout_3 (Dropout)          (None, 10)                0         \n",
      "_________________________________________________________________\n",
      "dense_6 (Dense)              (None, 4)                 44        \n",
      "=================================================================\n",
      "Total params: 319\n",
      "Trainable params: 319\n",
      "Non-trainable params: 0\n",
      "_________________________________________________________________\n",
      "None\n",
      "Train on 15258174 samples, validate on 1695353 samples\n",
      "Epoch 1/2\n",
      "15258174/15258174 [==============================] - 63s 4us/step - loss: 3.2430 - acc: 0.2887 - val_loss: 1.3669 - val_acc: 0.2795\n",
      "Epoch 2/2\n",
      "15258174/15258174 [==============================] - 61s 4us/step - loss: 1.3703 - acc: 0.2874 - val_loss: 1.3293 - val_acc: 0.3274\n"
     ]
    }
   ],
   "source": [
    "example_shape = X_train.shape[1:]\n",
    "input_layer = Input(shape=example_shape)\n",
    "\n",
    "conv_1 = Conv2D(filters=1, kernel_size=3, padding='same', activation='relu')(input_layer)\n",
    "\n",
    "flatten = Flatten()(conv_1)\n",
    "dense_1 = Dense(10)(flatten)\n",
    "dropout_1 = Dropout(0.25)(dense_1)\n",
    "predictions = Dense(4, activation='softmax')(dropout_1)\n",
    "\n",
    "model = Model(input_layer, predictions)\n",
    "\n",
    "model.compile(loss='categorical_crossentropy',\n",
    "              optimizer='adam',\n",
    "              metrics=['accuracy'])\n",
    "\n",
    "print(model.summary())\n",
    "\n",
    "batch_size = 50000\n",
    "epochs = 2\n",
    "\n",
    "model.fit(X_train, y_train, batch_size=batch_size, epochs=epochs, validation_data=(X_validate, y_validate))\n",
    "model.save('./bad-model-3.h5')"
   ]
  },
  {
   "cell_type": "code",
   "execution_count": null,
   "metadata": {},
   "outputs": [],
   "source": []
  }
 ],
 "metadata": {
  "kernelspec": {
   "display_name": "Python 3",
   "language": "python",
   "name": "python3"
  },
  "language_info": {
   "codemirror_mode": {
    "name": "ipython",
    "version": 3
   },
   "file_extension": ".py",
   "mimetype": "text/x-python",
   "name": "python",
   "nbconvert_exporter": "python",
   "pygments_lexer": "ipython3",
   "version": "3.5.2"
  }
 },
 "nbformat": 4,
 "nbformat_minor": 2
}

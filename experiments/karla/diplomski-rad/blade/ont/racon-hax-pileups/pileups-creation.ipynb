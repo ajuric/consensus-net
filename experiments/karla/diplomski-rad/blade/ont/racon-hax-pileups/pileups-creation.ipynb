{
 "cells": [
  {
   "cell_type": "code",
   "execution_count": 1,
   "metadata": {},
   "outputs": [
    {
     "name": "stdout",
     "output_type": "stream",
     "text": [
      "Adding dataset module.\n"
     ]
    }
   ],
   "source": [
    "import numpy as np\n",
    "\n",
    "import sys\n",
    "module_path = '/home/diplomski-rad/consensus-net/src/python/dataset/'\n",
    "if module_path not in sys.path:\n",
    "    print('Adding dataset module.')\n",
    "    sys.path.append(module_path)\n",
    "\n",
    "import pileups"
   ]
  },
  {
   "cell_type": "markdown",
   "metadata": {},
   "source": [
    "## Generate pilups with RaconMSAGenerator - s.cerevisiae"
   ]
  },
  {
   "cell_type": "code",
   "execution_count": 4,
   "metadata": {},
   "outputs": [
    {
     "name": "stderr",
     "output_type": "stream",
     "text": [
      "100% (19431314 of 19431314) |############| Elapsed Time: 0:08:42 Time:  0:08:42\n"
     ]
    }
   ],
   "source": [
    "reads_paths = [\n",
    "    '/home/data/oxford_nanopore/saccharomyces/cerevisiae/scerevisiae_r7_288c.fastq',\n",
    "    '/home/data/oxford_nanopore/saccharomyces/cerevisiae/scerevisiae_r9_288c.fastq',\n",
    "]\n",
    "sam_pile_paths = [\n",
    "    '/home/diplomski-rad/blade/ont/s-cerevisiae-r7-288c/reads-to-ref.sam',\n",
    "    '/home/diplomski-rad/blade/ont/s-cerevisiae-r9-288c/reads-to-ref.sam',\n",
    "]\n",
    "reference_fasta_paths = [\n",
    "    '/home/data/oxford_nanopore/saccharomyces/cerevisiae/saccharomyces_cerevisiae_reference.fasta',\n",
    "    '/home/data/oxford_nanopore/saccharomyces/cerevisiae/saccharomyces_cerevisiae_reference.fasta',\n",
    "]\n",
    "mode = 'training'\n",
    "tools_dir = '/home/diplomski-rad/'\n",
    "racon_hax_output_dir = './racon-hax-tmp'\n",
    "save_directory_paths = [\n",
    "    './s-cerevisiae-r7-racon-MSA',\n",
    "    './s-cerevisiae-r9-racon-MSA',\n",
    "]\n",
    "num_threads = 12\n",
    "\n",
    "for reads_path, sam_file_path, reference_fasta_path, save_directory_path in zip(\n",
    "    reads_paths, sam_pile_paths, reference_fasta_paths, save_directory_paths):\n",
    "    pileup_generator = pileups.RaconMSAGenerator(\n",
    "        reads_path,\n",
    "        sam_file_path,\n",
    "        reference_fasta_path,\n",
    "        mode,\n",
    "        tools_dir,\n",
    "        racon_hax_output_dir,\n",
    "        save_directory_path=save_directory_path,\n",
    "        num_threads=num_threads\n",
    "    )\n",
    "    pileup_generator.generate_pileups()"
   ]
  },
  {
   "cell_type": "markdown",
   "metadata": {},
   "source": [
    "## Generate pilups with RaconMSAGenerator - fusiobacterium"
   ]
  },
  {
   "cell_type": "code",
   "execution_count": 2,
   "metadata": {},
   "outputs": [
    {
     "name": "stderr",
     "output_type": "stream",
     "text": [
      "100% (2449281 of 2449281) |##############| Elapsed Time: 0:01:01 Time:  0:01:01\n",
      "100% (3810839 of 3810839) |##############| Elapsed Time: 0:01:28 Time:  0:01:28\n",
      "100% (3287452 of 3287452) |##############| Elapsed Time: 0:01:15 Time:  0:01:15\n",
      "100% (2987647 of 2987647) |##############| Elapsed Time: 0:01:03 Time:  0:01:03\n",
      "100% (3135422 of 3135422) |##############| Elapsed Time: 0:01:19 Time:  0:01:19\n",
      "100% (3744588 of 3744588) |##############| Elapsed Time: 0:01:29 Time:  0:01:29\n",
      "100% (4176502 of 4176502) |##############| Elapsed Time: 0:01:34 Time:  0:01:34\n",
      "100% (4277854 of 4277854) |##############| Elapsed Time: 0:01:33 Time:  0:01:33\n"
     ]
    }
   ],
   "source": [
    "reads_paths = [\n",
    "    '/home/data/oxford_nanopore/bacteria/fusobacterium/gonidiaformans/SRR6780920.fastq',\n",
    "    '/home/data/oxford_nanopore/bacteria/fusobacterium/mortiferum/SRR6780914.fastq',\n",
    "    '/home/data/oxford_nanopore/bacteria/fusobacterium/necrophorum/SRR6780918.fastq',\n",
    "    '/home/data/oxford_nanopore/bacteria/fusobacterium/nucleatum-23726/SRR6780922.fastq',\n",
    "    '/home/data/oxford_nanopore/bacteria/fusobacterium/nucleatum-25586/SRR6830111.fastq',\n",
    "    '/home/data/oxford_nanopore/bacteria/fusobacterium/periodonticum/SRR6780924.fastq',\n",
    "    '/home/data/oxford_nanopore/bacteria/fusobacterium/ulcerans/SRR6780916.fastq',\n",
    "    '/home/data/oxford_nanopore/bacteria/fusobacterium/varium/SRR6780912.fastq',\n",
    "]\n",
    "sam_pile_paths = [\n",
    "    '/home/diplomski-rad/blade/ont/fusobacterium-gonidiaformans/reads-to-ref.sam',\n",
    "    '/home/diplomski-rad/blade/ont/fusobacterium-mortiferum/reads-to-ref.sam',\n",
    "    '/home/diplomski-rad/blade/ont/fusobacterium-necrophorum/reads-to-ref.sam',\n",
    "    '/home/diplomski-rad/blade/ont/fusobacterium-nucleatum-23726/reads-to-ref.sam',\n",
    "    '/home/diplomski-rad/blade/ont/fusobacterium-nucleatum-25586/reads-to-ref.sam',\n",
    "    '/home/diplomski-rad/blade/ont/fusobacterium-periodonticum/reads-to-ref.sam',\n",
    "    '/home/diplomski-rad/blade/ont/fusobacterium-ulcerans/reads-to-ref.sam',\n",
    "    '/home/diplomski-rad/blade/ont/fusobacterium-varium/reads-to-ref.sam',\n",
    "]\n",
    "reference_fasta_paths = [\n",
    "    '/home/data/oxford_nanopore/bacteria/fusobacterium/gonidiaformans/f-gonidiaformans.fasta',\n",
    "    '/home/data/oxford_nanopore/bacteria/fusobacterium/mortiferum/f-motriferum.fasta',\n",
    "    '/home/data/oxford_nanopore/bacteria/fusobacterium/necrophorum/f-necrophorum.fasta',\n",
    "    '/home/data/oxford_nanopore/bacteria/fusobacterium/nucleatum-23726/f-nucleatum-23726.fasta',\n",
    "    '/home/data/oxford_nanopore/bacteria/fusobacterium/nucleatum-25586/f-nucleatum-25586.fasta',\n",
    "    '/home/data/oxford_nanopore/bacteria/fusobacterium/periodonticum/f-periodonticum.fasta',\n",
    "    '/home/data/oxford_nanopore/bacteria/fusobacterium/ulcerans/f-ulcerans.fasta',\n",
    "    '/home/data/oxford_nanopore/bacteria/fusobacterium/varium/f-varium.fasta',\n",
    "]\n",
    "mode = 'training'\n",
    "tools_dir = '/home/diplomski-rad/'\n",
    "racon_hax_output_dir = './racon-hax-tmp'\n",
    "save_directory_paths = [\n",
    "    './f-gonidiaformans-racon-MSA',\n",
    "    './f-mortiferum-racon-MSA',\n",
    "    './f-necrophorum-racon-MSA',\n",
    "    './f-nucleatum-23726-racon-MSA',\n",
    "    './f-nucleatum-25586-racon-MSA',\n",
    "    './f-periodonticum-racon-MSA',\n",
    "    './f-ulcerans-racon-MSA',\n",
    "    './f-varium-racon-MSA',\n",
    "]\n",
    "num_threads = 12\n",
    "\n",
    "for reads_path, sam_file_path, reference_fasta_path, save_directory_path in zip(\n",
    "    reads_paths, sam_pile_paths, reference_fasta_paths, save_directory_paths):\n",
    "    pileup_generator = pileups.RaconMSAGenerator(\n",
    "        reads_path,\n",
    "        sam_file_path,\n",
    "        reference_fasta_path,\n",
    "        mode,\n",
    "        tools_dir,\n",
    "        racon_hax_output_dir,\n",
    "        save_directory_path=save_directory_path,\n",
    "        num_threads=num_threads\n",
    "    )\n",
    "    pileup_generator.generate_pileups()"
   ]
  },
  {
   "cell_type": "code",
   "execution_count": null,
   "metadata": {},
   "outputs": [],
   "source": []
  }
 ],
 "metadata": {
  "kernelspec": {
   "display_name": "Python 3",
   "language": "python",
   "name": "python3"
  },
  "language_info": {
   "codemirror_mode": {
    "name": "ipython",
    "version": 3
   },
   "file_extension": ".py",
   "mimetype": "text/x-python",
   "name": "python",
   "nbconvert_exporter": "python",
   "pygments_lexer": "ipython3",
   "version": "3.5.2"
  }
 },
 "nbformat": 4,
 "nbformat_minor": 2
}

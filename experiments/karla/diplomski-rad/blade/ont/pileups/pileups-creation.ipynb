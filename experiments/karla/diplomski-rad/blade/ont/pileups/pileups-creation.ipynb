{
 "cells": [
  {
   "cell_type": "code",
   "execution_count": 1,
   "metadata": {},
   "outputs": [
    {
     "name": "stdout",
     "output_type": "stream",
     "text": [
      "Adding dataset module.\n"
     ]
    }
   ],
   "source": [
    "import numpy as np\n",
    "\n",
    "import sys\n",
    "module_path = '/home/diplomski-rad/consensus-net/src/python/dataset/'\n",
    "if module_path not in sys.path:\n",
    "    print('Adding dataset module.')\n",
    "    sys.path.append(module_path)\n",
    "\n",
    "import dataset"
   ]
  },
  {
   "cell_type": "markdown",
   "metadata": {},
   "source": [
    "## Generate pileups with indels - e-coli"
   ]
  },
  {
   "cell_type": "code",
   "execution_count": 2,
   "metadata": {},
   "outputs": [],
   "source": [
    "contigs = ['NC_000913.3']\n",
    "bam_file_paths = ['/home/diplomski-rad/blade/ont/escherichia-coli-ecoli_map006/reads-to-ref-sorted.bam']\n",
    "reference_fasta_paths = ['/home/data/pacific_biosciences/bacteria/escherichia/coli/escherichia_coli_reference.fasta',\n",
    "                         \n",
    "                        ]\n",
    "save_directory_paths = ['./e-coli-NCTC86/']\n",
    "include_indels_list = [True] * len(contigs)"
   ]
  },
  {
   "cell_type": "code",
   "execution_count": 3,
   "metadata": {
    "scrolled": true
   },
   "outputs": [
    {
     "name": "stderr",
     "output_type": "stream",
     "text": [
      "  0% (1576 of 4641652) |                 | Elapsed Time: 0:00:00 ETA:   0:04:54"
     ]
    },
    {
     "name": "stdout",
     "output_type": "stream",
     "text": [
      "##### Generate pileups from read alignments to reference. #####\n",
      "-----> 1. Generate pileups. <-----\n"
     ]
    },
    {
     "name": "stderr",
     "output_type": "stream",
     "text": [
      "100% (4641652 of 4641652) |##############| Elapsed Time: 0:04:37 Time:  0:04:37\n",
      "  0% (19043 of 4641652) |                | Elapsed Time: 0:00:00 ETA:   0:00:24"
     ]
    },
    {
     "name": "stdout",
     "output_type": "stream",
     "text": [
      "-----> 2. Generate ground truth. <-----\n"
     ]
    },
    {
     "name": "stderr",
     "output_type": "stream",
     "text": [
      "100% (4641652 of 4641652) |##############| Elapsed Time: 0:00:24 Time:  0:00:24\n"
     ]
    }
   ],
   "source": [
    "for contig, bam_file_path, reference_fasta_path, save_directory_path, include_indels in zip(contigs, bam_file_paths, reference_fasta_paths, save_directory_paths, include_indels_list):\n",
    "    dataset.generate_pileups(contig, bam_file_path, reference_fasta_path, save_directory_path=save_directory_path, include_indels=include_indels)"
   ]
  },
  {
   "cell_type": "markdown",
   "metadata": {},
   "source": [
    "## Generate pileups with indels - s-cerevisiae"
   ]
  },
  {
   "cell_type": "code",
   "execution_count": null,
   "metadata": {},
   "outputs": [],
   "source": [
    "bam_file_paths = ['/home/diplomski-rad/blade/ont/s-cerevisiae-r7-288c/reads-to-ref-sorted.bam',\n",
    "                  '/home/diplomski-rad/blade/ont/s-cerevisiae-r9-288c/reads-to-ref-sorted.bam']\n",
    "reference_fasta_paths = ['/home/data/oxford_nanopore/saccharomyces/cerevisiae/saccharomyces_cerevisiae_reference.fasta',\n",
    "                        '/home/data/oxford_nanopore/saccharomyces/cerevisiae/saccharomyces_cerevisiae_reference.fasta']\n",
    "save_directory_paths = ['./s-cerevisiae-r7-288c', './s-cerevisiae-r9-288c']\n",
    "include_indels_list = [True] * len(bam_file_paths)"
   ]
  },
  {
   "cell_type": "code",
   "execution_count": 3,
   "metadata": {},
   "outputs": [
    {
     "name": "stderr",
     "output_type": "stream",
     "text": [
      "  0% (1586 of 12157105) |                | Elapsed Time: 0:00:00 ETA:   0:12:47"
     ]
    },
    {
     "name": "stdout",
     "output_type": "stream",
     "text": [
      "##### Generate pileups from read alignments to reference. #####\n",
      "-----> 1. Generate pileups. <-----\n"
     ]
    },
    {
     "name": "stderr",
     "output_type": "stream",
     "text": [
      "100% (12157105 of 12157105) |############| Elapsed Time: 0:14:18 Time:  0:14:18\n",
      "N/A% (0 of 12157105) |                   | Elapsed Time: 0:00:00 ETA:  --:--:--"
     ]
    },
    {
     "name": "stdout",
     "output_type": "stream",
     "text": [
      "-----> 2. Generate ground truth. <-----\n",
      "Parsing contig NC_001133.9, len: 230218\n"
     ]
    },
    {
     "name": "stderr",
     "output_type": "stream",
     "text": [
      "  2% (261090 of 12157105) |              | Elapsed Time: 0:00:01 ETA:   0:01:08"
     ]
    },
    {
     "name": "stdout",
     "output_type": "stream",
     "text": [
      "Parsing contig NC_001134.8, len: 813184\n"
     ]
    },
    {
     "name": "stderr",
     "output_type": "stream",
     "text": [
      "  8% (1077212 of 12157105) |#            | Elapsed Time: 0:00:05 ETA:   0:01:00"
     ]
    },
    {
     "name": "stdout",
     "output_type": "stream",
     "text": [
      "Parsing contig NC_001135.5, len: 316620\n"
     ]
    },
    {
     "name": "stderr",
     "output_type": "stream",
     "text": [
      " 11% (1395400 of 12157105) |#            | Elapsed Time: 0:00:07 ETA:   0:00:59"
     ]
    },
    {
     "name": "stdout",
     "output_type": "stream",
     "text": [
      "Parsing contig NC_001136.10, len: 1531933\n"
     ]
    },
    {
     "name": "stderr",
     "output_type": "stream",
     "text": [
      " 24% (2923861 of 12157105) |###          | Elapsed Time: 0:00:16 ETA:   0:00:52"
     ]
    },
    {
     "name": "stdout",
     "output_type": "stream",
     "text": [
      "Parsing contig NC_001137.3, len: 576874\n"
     ]
    },
    {
     "name": "stderr",
     "output_type": "stream",
     "text": [
      " 28% (3495629 of 12157105) |###          | Elapsed Time: 0:00:19 ETA:   0:00:50"
     ]
    },
    {
     "name": "stdout",
     "output_type": "stream",
     "text": [
      "Parsing contig NC_001138.5, len: 270161\n"
     ]
    },
    {
     "name": "stderr",
     "output_type": "stream",
     "text": [
      " 30% (3756038 of 12157105) |####         | Elapsed Time: 0:00:20 ETA:   0:00:51"
     ]
    },
    {
     "name": "stdout",
     "output_type": "stream",
     "text": [
      "Parsing contig NC_001139.9, len: 1090940\n"
     ]
    },
    {
     "name": "stderr",
     "output_type": "stream",
     "text": [
      " 39% (4860705 of 12157105) |#####        | Elapsed Time: 0:00:27 ETA:   0:00:43"
     ]
    },
    {
     "name": "stdout",
     "output_type": "stream",
     "text": [
      "Parsing contig NC_001140.6, len: 562643\n"
     ]
    },
    {
     "name": "stderr",
     "output_type": "stream",
     "text": [
      " 44% (5419563 of 12157105) |#####        | Elapsed Time: 0:00:30 ETA:   0:00:38"
     ]
    },
    {
     "name": "stdout",
     "output_type": "stream",
     "text": [
      "Parsing contig NC_001141.2, len: 439888\n"
     ]
    },
    {
     "name": "stderr",
     "output_type": "stream",
     "text": [
      " 48% (5863517 of 12157105) |######       | Elapsed Time: 0:00:33 ETA:   0:00:35"
     ]
    },
    {
     "name": "stdout",
     "output_type": "stream",
     "text": [
      "Parsing contig NC_001142.9, len: 745751\n"
     ]
    },
    {
     "name": "stderr",
     "output_type": "stream",
     "text": [
      " 54% (6600529 of 12157105) |#######      | Elapsed Time: 0:00:37 ETA:   0:00:31"
     ]
    },
    {
     "name": "stdout",
     "output_type": "stream",
     "text": [
      "Parsing contig NC_001143.9, len: 666816\n"
     ]
    },
    {
     "name": "stderr",
     "output_type": "stream",
     "text": [
      " 59% (7274687 of 12157105) |#######      | Elapsed Time: 0:00:41 ETA:   0:00:27"
     ]
    },
    {
     "name": "stdout",
     "output_type": "stream",
     "text": [
      "Parsing contig NC_001144.5, len: 1078177\n"
     ]
    },
    {
     "name": "stderr",
     "output_type": "stream",
     "text": [
      " 68% (8362230 of 12157105) |########     | Elapsed Time: 0:00:47 ETA:   0:00:21"
     ]
    },
    {
     "name": "stdout",
     "output_type": "stream",
     "text": [
      "Parsing contig NC_001145.3, len: 924431\n"
     ]
    },
    {
     "name": "stderr",
     "output_type": "stream",
     "text": [
      " 76% (9268954 of 12157105) |#########    | Elapsed Time: 0:00:52 ETA:   0:00:16"
     ]
    },
    {
     "name": "stdout",
     "output_type": "stream",
     "text": [
      "Parsing contig NC_001146.8, len: 784333\n"
     ]
    },
    {
     "name": "stderr",
     "output_type": "stream",
     "text": [
      " 82% (10066203 of 12157105) |#########   | Elapsed Time: 0:00:57 ETA:   0:00:12"
     ]
    },
    {
     "name": "stdout",
     "output_type": "stream",
     "text": [
      "Parsing contig NC_001147.6, len: 1091291\n"
     ]
    },
    {
     "name": "stderr",
     "output_type": "stream",
     "text": [
      " 91% (11148371 of 12157105) |########### | Elapsed Time: 0:01:03 ETA:   0:00:05"
     ]
    },
    {
     "name": "stdout",
     "output_type": "stream",
     "text": [
      "Parsing contig NC_001148.4, len: 948066\n"
     ]
    },
    {
     "name": "stderr",
     "output_type": "stream",
     "text": [
      " 99% (12108210 of 12157105) |########### | Elapsed Time: 0:01:09 ETA:   0:00:00"
     ]
    },
    {
     "name": "stdout",
     "output_type": "stream",
     "text": [
      "Parsing contig NC_001224.1, len: 85779\n"
     ]
    },
    {
     "name": "stderr",
     "output_type": "stream",
     "text": [
      "100% (12157105 of 12157105) |############| Elapsed Time: 0:01:09 Time:  0:01:09\n",
      "  0% (1838 of 12157105) |                | Elapsed Time: 0:00:00 ETA:   0:11:02"
     ]
    },
    {
     "name": "stdout",
     "output_type": "stream",
     "text": [
      "##### Generate pileups from read alignments to reference. #####\n",
      "-----> 1. Generate pileups. <-----\n"
     ]
    },
    {
     "name": "stderr",
     "output_type": "stream",
     "text": [
      "100% (12157105 of 12157105) |############| Elapsed Time: 0:12:36 Time:  0:12:36\n",
      "N/A% (0 of 12157105) |                   | Elapsed Time: 0:00:00 ETA:  --:--:--"
     ]
    },
    {
     "name": "stdout",
     "output_type": "stream",
     "text": [
      "-----> 2. Generate ground truth. <-----\n",
      "Parsing contig NC_001133.9, len: 230218\n"
     ]
    },
    {
     "name": "stderr",
     "output_type": "stream",
     "text": [
      "  2% (258585 of 12157105) |              | Elapsed Time: 0:00:01 ETA:   0:01:04"
     ]
    },
    {
     "name": "stdout",
     "output_type": "stream",
     "text": [
      "Parsing contig NC_001134.8, len: 813184\n"
     ]
    },
    {
     "name": "stderr",
     "output_type": "stream",
     "text": [
      "  8% (1077212 of 12157105) |#            | Elapsed Time: 0:00:05 ETA:   0:01:00"
     ]
    },
    {
     "name": "stdout",
     "output_type": "stream",
     "text": [
      "Parsing contig NC_001135.5, len: 316620\n"
     ]
    },
    {
     "name": "stderr",
     "output_type": "stream",
     "text": [
      " 11% (1397409 of 12157105) |#            | Elapsed Time: 0:00:07 ETA:   0:01:00"
     ]
    },
    {
     "name": "stdout",
     "output_type": "stream",
     "text": [
      "Parsing contig NC_001136.10, len: 1531933\n"
     ]
    },
    {
     "name": "stderr",
     "output_type": "stream",
     "text": [
      " 23% (2914771 of 12157105) |###          | Elapsed Time: 0:00:15 ETA:   0:00:49"
     ]
    },
    {
     "name": "stdout",
     "output_type": "stream",
     "text": [
      "Parsing contig NC_001137.3, len: 576874\n"
     ]
    },
    {
     "name": "stderr",
     "output_type": "stream",
     "text": [
      " 28% (3493207 of 12157105) |###          | Elapsed Time: 0:00:18 ETA:   0:00:47"
     ]
    },
    {
     "name": "stdout",
     "output_type": "stream",
     "text": [
      "Parsing contig NC_001138.5, len: 270161\n"
     ]
    },
    {
     "name": "stderr",
     "output_type": "stream",
     "text": [
      " 30% (3762462 of 12157105) |####         | Elapsed Time: 0:00:20 ETA:   0:00:46"
     ]
    },
    {
     "name": "stdout",
     "output_type": "stream",
     "text": [
      "Parsing contig NC_001139.9, len: 1090940\n"
     ]
    },
    {
     "name": "stderr",
     "output_type": "stream",
     "text": [
      " 39% (4851397 of 12157105) |#####        | Elapsed Time: 0:00:26 ETA:   0:00:44"
     ]
    },
    {
     "name": "stdout",
     "output_type": "stream",
     "text": [
      "Parsing contig NC_001140.6, len: 562643\n"
     ]
    },
    {
     "name": "stderr",
     "output_type": "stream",
     "text": [
      " 44% (5418306 of 12157105) |#####        | Elapsed Time: 0:00:30 ETA:   0:00:41"
     ]
    },
    {
     "name": "stdout",
     "output_type": "stream",
     "text": [
      "Parsing contig NC_001141.2, len: 439888\n"
     ]
    },
    {
     "name": "stderr",
     "output_type": "stream",
     "text": [
      " 48% (5866830 of 12157105) |######       | Elapsed Time: 0:00:32 ETA:   0:00:35"
     ]
    },
    {
     "name": "stdout",
     "output_type": "stream",
     "text": [
      "Parsing contig NC_001142.9, len: 745751\n"
     ]
    },
    {
     "name": "stderr",
     "output_type": "stream",
     "text": [
      " 54% (6610428 of 12157105) |#######      | Elapsed Time: 0:00:36 ETA:   0:00:30"
     ]
    },
    {
     "name": "stdout",
     "output_type": "stream",
     "text": [
      "Parsing contig NC_001143.9, len: 666816\n"
     ]
    },
    {
     "name": "stderr",
     "output_type": "stream",
     "text": [
      " 59% (7266721 of 12157105) |#######      | Elapsed Time: 0:00:40 ETA:   0:00:26"
     ]
    },
    {
     "name": "stdout",
     "output_type": "stream",
     "text": [
      "Parsing contig NC_001144.5, len: 1078177\n"
     ]
    },
    {
     "name": "stderr",
     "output_type": "stream",
     "text": [
      " 68% (8355398 of 12157105) |########     | Elapsed Time: 0:00:46 ETA:   0:00:20"
     ]
    },
    {
     "name": "stdout",
     "output_type": "stream",
     "text": [
      "Parsing contig NC_001145.3, len: 924431\n"
     ]
    },
    {
     "name": "stderr",
     "output_type": "stream",
     "text": [
      " 76% (9270877 of 12157105) |#########    | Elapsed Time: 0:00:51 ETA:   0:00:16"
     ]
    },
    {
     "name": "stdout",
     "output_type": "stream",
     "text": [
      "Parsing contig NC_001146.8, len: 784333\n"
     ]
    },
    {
     "name": "stderr",
     "output_type": "stream",
     "text": [
      " 82% (10056726 of 12157105) |#########   | Elapsed Time: 0:00:56 ETA:   0:00:11"
     ]
    },
    {
     "name": "stdout",
     "output_type": "stream",
     "text": [
      "Parsing contig NC_001147.6, len: 1091291\n"
     ]
    },
    {
     "name": "stderr",
     "output_type": "stream",
     "text": [
      " 91% (11152471 of 12157105) |########### | Elapsed Time: 0:01:02 ETA:   0:00:05"
     ]
    },
    {
     "name": "stdout",
     "output_type": "stream",
     "text": [
      "Parsing contig NC_001148.4, len: 948066\n"
     ]
    },
    {
     "name": "stderr",
     "output_type": "stream",
     "text": [
      " 99% (12110291 of 12157105) |########### | Elapsed Time: 0:01:08 ETA:   0:00:00"
     ]
    },
    {
     "name": "stdout",
     "output_type": "stream",
     "text": [
      "Parsing contig NC_001224.1, len: 85779\n"
     ]
    },
    {
     "name": "stderr",
     "output_type": "stream",
     "text": [
      "100% (12157105 of 12157105) |############| Elapsed Time: 0:01:08 Time:  0:01:08\n"
     ]
    }
   ],
   "source": [
    "for bam_file_path, reference_fasta_path, save_directory_path, include_indels in zip(bam_file_paths, reference_fasta_paths, save_directory_paths, include_indels_list):\n",
    "    dataset.generate_pileups(\n",
    "        bam_file_path, \n",
    "        reference_fasta_path, \n",
    "        mode='training', \n",
    "        save_directory_path=save_directory_path, \n",
    "        include_indels=include_indels)"
   ]
  },
  {
   "cell_type": "markdown",
   "metadata": {},
   "source": [
    "## Generate pileups with new classes"
   ]
  },
  {
   "cell_type": "code",
   "execution_count": 2,
   "metadata": {},
   "outputs": [],
   "source": [
    "bam_file_paths = ['/home/diplomski-rad/blade/ont/escherichia-coli-ecoli_map006/reads-to-ref-sorted.bam',\n",
    "                  '/home/diplomski-rad/blade/ont/s-cerevisiae-r7-288c/reads-to-ref-sorted.bam',\n",
    "                  '/home/diplomski-rad/blade/ont/s-cerevisiae-r9-288c/reads-to-ref-sorted.bam']\n",
    "reference_fasta_paths = ['/home/data/pacific_biosciences/bacteria/escherichia/coli/escherichia_coli_reference.fasta',\n",
    "                         '/home/data/oxford_nanopore/saccharomyces/cerevisiae/saccharomyces_cerevisiae_reference.fasta',\n",
    "                         '/home/data/oxford_nanopore/saccharomyces/cerevisiae/saccharomyces_cerevisiae_reference.fasta']\n",
    "save_directory_paths = ['./e-coli-map006-indel-classes/',\n",
    "                        './s-cerevisiae-r7-288c-indel-classes',\n",
    "                        './s-cerevisiae-r9-288c-indel-classes']\n",
    "include_indels_list = [True] * len(bam_file_paths)"
   ]
  },
  {
   "cell_type": "code",
   "execution_count": 3,
   "metadata": {},
   "outputs": [
    {
     "name": "stderr",
     "output_type": "stream",
     "text": [
      "  0% (1283 of 4641652) |                 | Elapsed Time: 0:00:00 ETA:   0:06:02"
     ]
    },
    {
     "name": "stdout",
     "output_type": "stream",
     "text": [
      "##### Generate pileups from read alignments to reference. #####\n"
     ]
    },
    {
     "name": "stderr",
     "output_type": "stream",
     "text": [
      "100% (4641652 of 4641652) |##############| Elapsed Time: 0:06:09 Time:  0:06:09\n"
     ]
    },
    {
     "name": "stdout",
     "output_type": "stream",
     "text": [
      "##### Generate pileups from read alignments to reference. #####\n"
     ]
    },
    {
     "name": "stderr",
     "output_type": "stream",
     "text": [
      "100% (12157105 of 12157105) |############| Elapsed Time: 0:18:26 Time:  0:18:26\n",
      "  0% (1400 of 12157105) |                | Elapsed Time: 0:00:00 ETA:   0:14:29"
     ]
    },
    {
     "name": "stdout",
     "output_type": "stream",
     "text": [
      "##### Generate pileups from read alignments to reference. #####\n"
     ]
    },
    {
     "name": "stderr",
     "output_type": "stream",
     "text": [
      "100% (12157105 of 12157105) |############| Elapsed Time: 0:16:32 Time:  0:16:32\n"
     ]
    }
   ],
   "source": [
    "for bam_file_path, reference_fasta_path, save_directory_path, include_indels in zip(bam_file_paths, reference_fasta_paths, save_directory_paths, include_indels_list):\n",
    "    dataset.generate_pileups(\n",
    "        bam_file_path, \n",
    "        reference_fasta_path, \n",
    "        mode='training', \n",
    "        save_directory_path=save_directory_path, \n",
    "        include_indels=include_indels)"
   ]
  },
  {
   "cell_type": "code",
   "execution_count": null,
   "metadata": {},
   "outputs": [],
   "source": []
  }
 ],
 "metadata": {
  "kernelspec": {
   "display_name": "Python 3",
   "language": "python",
   "name": "python3"
  },
  "language_info": {
   "codemirror_mode": {
    "name": "ipython",
    "version": 3
   },
   "file_extension": ".py",
   "mimetype": "text/x-python",
   "name": "python",
   "nbconvert_exporter": "python",
   "pygments_lexer": "ipython3",
   "version": "3.5.2"
  }
 },
 "nbformat": 4,
 "nbformat_minor": 2
}

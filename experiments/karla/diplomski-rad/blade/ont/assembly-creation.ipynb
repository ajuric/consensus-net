{
 "cells": [
  {
   "cell_type": "code",
   "execution_count": 1,
   "metadata": {},
   "outputs": [
    {
     "name": "stdout",
     "output_type": "stream",
     "text": [
      "Adding dataset module.\n"
     ]
    }
   ],
   "source": [
    "import numpy as np\n",
    "\n",
    "import sys\n",
    "module_path = '/home/diplomski-rad/consensus-net/src/python/dataset/'\n",
    "if module_path not in sys.path:\n",
    "    print('Adding dataset module.')\n",
    "    sys.path.append(module_path)\n",
    "\n",
    "import dataset"
   ]
  },
  {
   "cell_type": "markdown",
   "metadata": {},
   "source": [
    "## Generate assembly and alignments"
   ]
  },
  {
   "cell_type": "code",
   "execution_count": 8,
   "metadata": {},
   "outputs": [],
   "source": [
    "reads_paths = ['/home/data/oxford_nanopore/saccharomyces/cerevisiae/scerevisiae_r7_288c.fastq',\n",
    "               '/home/data/oxford_nanopore/saccharomyces/cerevisiae/scerevisiae_r9_288c.fastq']\n",
    "reference_paths = ['/home/data/oxford_nanopore/saccharomyces/cerevisiae/saccharomyces_cerevisiae_reference.fasta',\n",
    "                  '/home/data/oxford_nanopore/saccharomyces/cerevisiae/saccharomyces_cerevisiae_reference.fasta']\n",
    "output_dirs = ['/home/diplomski-rad/blade/ont/s-cerevisiae-r7-288c',\n",
    "               '/home/diplomski-rad/blade/ont/s-cerevisiae-r9-288c']\n",
    "tools_dir = '/home/diplomski-rad/'\n",
    "reads_type = 'ont'\n",
    "num_threads = 12"
   ]
  },
  {
   "cell_type": "code",
   "execution_count": 9,
   "metadata": {},
   "outputs": [
    {
     "name": "stdout",
     "output_type": "stream",
     "text": [
      "##### Creating assembly #####\n",
      "-----> 1. Overlap phase. <-----\n",
      "-----> 2. Layout phase. <-----\n"
     ]
    },
    {
     "ename": "KeyError",
     "evalue": "'print \">\"$2\"\\n\"$3'",
     "output_type": "error",
     "traceback": [
      "\u001b[0;31m\u001b[0m",
      "\u001b[0;31mKeyError\u001b[0mTraceback (most recent call last)",
      "\u001b[0;32m<ipython-input-9-0e794e02e835>\u001b[0m in \u001b[0;36m<module>\u001b[0;34m()\u001b[0m\n\u001b[1;32m      1\u001b[0m \u001b[0;32mfor\u001b[0m \u001b[0mreads_path\u001b[0m\u001b[0;34m,\u001b[0m \u001b[0mreference_path\u001b[0m\u001b[0;34m,\u001b[0m \u001b[0moutput_dir\u001b[0m \u001b[0;32min\u001b[0m \u001b[0mzip\u001b[0m\u001b[0;34m(\u001b[0m\u001b[0mreads_paths\u001b[0m\u001b[0;34m,\u001b[0m \u001b[0mreference_paths\u001b[0m\u001b[0;34m,\u001b[0m \u001b[0moutput_dirs\u001b[0m\u001b[0;34m)\u001b[0m\u001b[0;34m:\u001b[0m\u001b[0;34m\u001b[0m\u001b[0m\n\u001b[0;32m----> 2\u001b[0;31m     \u001b[0mdataset\u001b[0m\u001b[0;34m.\u001b[0m\u001b[0mgenerate_assembly_and_alignments\u001b[0m\u001b[0;34m(\u001b[0m\u001b[0mreads_path\u001b[0m\u001b[0;34m,\u001b[0m \u001b[0mreference_path\u001b[0m\u001b[0;34m,\u001b[0m \u001b[0moutput_dir\u001b[0m\u001b[0;34m,\u001b[0m \u001b[0mtools_dir\u001b[0m\u001b[0;34m,\u001b[0m \u001b[0mreads_type\u001b[0m\u001b[0;34m,\u001b[0m \u001b[0mnum_threads\u001b[0m\u001b[0;34m)\u001b[0m\u001b[0;34m\u001b[0m\u001b[0m\n\u001b[0m",
      "\u001b[0;32m/home/diplomski-rad/consensus-net/src/python/dataset/dataset.py\u001b[0m in \u001b[0;36mgenerate_assembly_and_alignments\u001b[0;34m(reads_path, reference_path, output_dir, tools_dir, reads_type, num_threads)\u001b[0m\n\u001b[1;32m    371\u001b[0m \u001b[0;34m\u001b[0m\u001b[0m\n\u001b[1;32m    372\u001b[0m     _create_assembly(reads_path, reference_path, output_dir, tools_dir,\n\u001b[0;32m--> 373\u001b[0;31m                      num_threads)\n\u001b[0m\u001b[1;32m    374\u001b[0m     _align_reads_to_reference(reads_path, reference_path, output_dir,\n\u001b[1;32m    375\u001b[0m                               tools_dir, num_threads, reads_type)\n",
      "\u001b[0;32m/home/diplomski-rad/consensus-net/src/python/dataset/dataset.py\u001b[0m in \u001b[0;36m_create_assembly\u001b[0;34m(reads_path, reference_path, output_dir, tools_dir, num_threads)\u001b[0m\n\u001b[1;32m    199\u001b[0m     os.system(LAYOUT_CMD_1.format(tools_dir, reads_path, output_dir,\n\u001b[1;32m    200\u001b[0m                                   output_dir, output_dir))\n\u001b[0;32m--> 201\u001b[0;31m     \u001b[0mos\u001b[0m\u001b[0;34m.\u001b[0m\u001b[0msystem\u001b[0m\u001b[0;34m(\u001b[0m\u001b[0mLAYOUT_CMD_2\u001b[0m\u001b[0;34m.\u001b[0m\u001b[0mformat\u001b[0m\u001b[0;34m(\u001b[0m\u001b[0moutput_dir\u001b[0m\u001b[0;34m,\u001b[0m \u001b[0moutput_dir\u001b[0m\u001b[0;34m)\u001b[0m\u001b[0;34m)\u001b[0m\u001b[0;34m\u001b[0m\u001b[0m\n\u001b[0m\u001b[1;32m    202\u001b[0m \u001b[0;34m\u001b[0m\u001b[0m\n\u001b[1;32m    203\u001b[0m     \u001b[0mprint\u001b[0m\u001b[0;34m(\u001b[0m\u001b[0;34m'-----> 3. Consensus phase. <-----'\u001b[0m\u001b[0;34m)\u001b[0m\u001b[0;34m\u001b[0m\u001b[0m\n",
      "\u001b[0;31mKeyError\u001b[0m: 'print \">\"$2\"\\n\"$3'"
     ]
    }
   ],
   "source": [
    "for reads_path, reference_path, output_dir in zip(reads_paths, reference_paths, output_dirs):\n",
    "    dataset.generate_assembly_and_alignments(reads_path, reference_path, output_dir, tools_dir, reads_type, num_threads)"
   ]
  },
  {
   "cell_type": "code",
   "execution_count": null,
   "metadata": {},
   "outputs": [],
   "source": []
  }
 ],
 "metadata": {
  "kernelspec": {
   "display_name": "Python 3",
   "language": "python",
   "name": "python3"
  },
  "language_info": {
   "codemirror_mode": {
    "name": "ipython",
    "version": 3
   },
   "file_extension": ".py",
   "mimetype": "text/x-python",
   "name": "python",
   "nbconvert_exporter": "python",
   "pygments_lexer": "ipython3",
   "version": "3.5.2"
  }
 },
 "nbformat": 4,
 "nbformat_minor": 2
}

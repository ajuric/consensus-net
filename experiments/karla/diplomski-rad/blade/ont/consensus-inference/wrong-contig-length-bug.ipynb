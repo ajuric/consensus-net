{
 "cells": [
  {
   "cell_type": "code",
   "execution_count": 4,
   "metadata": {},
   "outputs": [],
   "source": [
    "from Bio import SeqIO\n",
    "import os"
   ]
  },
  {
   "cell_type": "markdown",
   "metadata": {},
   "source": [
    "## Helper functions"
   ]
  },
  {
   "cell_type": "code",
   "execution_count": 3,
   "metadata": {},
   "outputs": [],
   "source": [
    "def read_contigs(consensus_path):\n",
    "    contigs = list()\n",
    "    contig_names = list()\n",
    "    for record in SeqIO.parse(consensus_path, 'fasta'):\n",
    "        contigs.append(record.seq)\n",
    "        contig_names.append(record.name) \n",
    "    return contigs, contig_names\n",
    "\n",
    "def write_contigs_to_fasta(contigs, fasta_file_path, contig_names):\n",
    "    with open(fasta_file_path, 'w') as f:\n",
    "        for contig, contig_name in zip(contigs, contig_names):\n",
    "            f.write('>{} LN:{}\\n'.format(contig_name, len(contig)))\n",
    "            f.write('{}\\n'.format(contig))"
   ]
  },
  {
   "cell_type": "markdown",
   "metadata": {},
   "source": [
    "## Parse dirs"
   ]
  },
  {
   "cell_type": "code",
   "execution_count": 5,
   "metadata": {},
   "outputs": [],
   "source": [
    "CONSENSUS_DIR = './'\n",
    "\n",
    "dir_names = os.listdir(CONSENSUS_DIR)\n",
    "consensus_paths = list()\n",
    "\n",
    "for dir_name in dir_names:\n",
    "    dir_path = os.path.join(CONSENSUS_DIR, dir_name)\n",
    "    consensus_path = os.path.join(dir_path, 'consensus.fasta')\n",
    "    if os.path.exists(consensus_path):\n",
    "        consensus_paths.append(consensus_path)\n",
    "\n",
    "old_consensus_paths = list()\n",
    "for consensus_path in consensus_paths:\n",
    "    old_consensus_path = os.path.join(os.path.dirname(consensus_path), 'consensus-old.fasta')\n",
    "    os.rename(consensus_path, old_consensus_path)\n",
    "    old_consensus_paths.append(old_consensus_path)\n",
    "        \n",
    "for old_consensus_path in old_consensus_paths:\n",
    "    contigs, contig_names = read_contigs(old_consensus_path)\n",
    "    output_consensus_path = os.path.join(os.path.dirname(old_consensus_path), 'consensus.fasta')\n",
    "    write_contigs_to_fasta(contigs, output_consensus_path, contig_names)"
   ]
  },
  {
   "cell_type": "code",
   "execution_count": null,
   "metadata": {},
   "outputs": [],
   "source": []
  }
 ],
 "metadata": {
  "kernelspec": {
   "display_name": "Python 3",
   "language": "python",
   "name": "python3"
  },
  "language_info": {
   "codemirror_mode": {
    "name": "ipython",
    "version": 3
   },
   "file_extension": ".py",
   "mimetype": "text/x-python",
   "name": "python",
   "nbconvert_exporter": "python",
   "pygments_lexer": "ipython3",
   "version": "3.5.2"
  }
 },
 "nbformat": 4,
 "nbformat_minor": 2
}

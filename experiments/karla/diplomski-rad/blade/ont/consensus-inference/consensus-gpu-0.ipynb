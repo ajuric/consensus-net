{
 "cells": [
  {
   "cell_type": "code",
   "execution_count": 2,
   "metadata": {},
   "outputs": [
    {
     "name": "stdout",
     "output_type": "stream",
     "text": [
      "Adding src module.\n",
      "Adding inference module.\n"
     ]
    },
    {
     "name": "stderr",
     "output_type": "stream",
     "text": [
      "/usr/local/lib/python3.5/dist-packages/h5py/__init__.py:36: FutureWarning: Conversion of the second argument of issubdtype from `float` to `np.floating` is deprecated. In future, it will be treated as `np.float64 == np.dtype(float).type`.\n",
      "  from ._conv import register_converters as _register_converters\n",
      "Using TensorFlow backend.\n"
     ]
    },
    {
     "name": "stdout",
     "output_type": "stream",
     "text": [
      "Adding dataset module.\n"
     ]
    }
   ],
   "source": [
    "import numpy as np\n",
    "\n",
    "import sys\n",
    "\n",
    "module_path = '/home/diplomski-rad/consensus-net/'\n",
    "if module_path not in sys.path:\n",
    "    print('Adding src module.')\n",
    "    sys.path.append(module_path)\n",
    "    \n",
    "import src\n",
    "\n",
    "module_path = '/home/diplomski-rad/consensus-net/src/python/inference/'\n",
    "if module_path not in sys.path:\n",
    "    print('Adding inference module.')\n",
    "    sys.path.append(module_path)\n",
    "\n",
    "import inference\n",
    "\n",
    "module_path = '/home/diplomski-rad/consensus-net/src/python/dataset/'\n",
    "if module_path not in sys.path:\n",
    "    print('Adding dataset module.')\n",
    "    sys.path.append(module_path)\n",
    "\n",
    "import pileups"
   ]
  },
  {
   "cell_type": "markdown",
   "metadata": {},
   "source": [
    "## n15 model-23 trained on f-bact racon-hax"
   ]
  },
  {
   "cell_type": "code",
   "execution_count": 10,
   "metadata": {},
   "outputs": [
    {
     "name": "stdout",
     "output_type": "stream",
     "text": [
      "----> Create pileups from assembly. <----\n"
     ]
    },
    {
     "name": "stderr",
     "output_type": "stream",
     "text": [
      "100% (2450213 of 2450213) |##############| Elapsed Time: 0:00:58 Time:  0:00:58\n"
     ]
    },
    {
     "name": "stdout",
     "output_type": "stream",
     "text": [
      "----> Create dataset with neighbourhood from pileups. <----\n"
     ]
    },
    {
     "name": "stderr",
     "output_type": "stream",
     "text": [
      "  0% (3837 of 2450213) |                 | Elapsed Time: 0:00:00 ETA:   0:02:07"
     ]
    },
    {
     "name": "stdout",
     "output_type": "stream",
     "text": [
      "Creating dataset with neighbourhood ...\n"
     ]
    },
    {
     "name": "stderr",
     "output_type": "stream",
     "text": [
      "100% (2450213 of 2450213) |##############| Elapsed Time: 0:02:15 Time:  0:02:15\n"
     ]
    },
    {
     "name": "stdout",
     "output_type": "stream",
     "text": [
      "----> Load model and make predictions (consensus). <----\n",
      "----> Create consensus summary. <----\n",
      "----> Create pileups from assembly. <----\n"
     ]
    },
    {
     "name": "stderr",
     "output_type": "stream",
     "text": [
      "100% (3811911 of 3811911) |##############| Elapsed Time: 0:01:26 Time:  0:01:26\n"
     ]
    },
    {
     "name": "stdout",
     "output_type": "stream",
     "text": [
      "----> Create dataset with neighbourhood from pileups. <----\n"
     ]
    },
    {
     "name": "stderr",
     "output_type": "stream",
     "text": [
      "  0% (3664 of 3811911) |                 | Elapsed Time: 0:00:00 ETA:   0:03:28"
     ]
    },
    {
     "name": "stdout",
     "output_type": "stream",
     "text": [
      "Creating dataset with neighbourhood ...\n"
     ]
    },
    {
     "name": "stderr",
     "output_type": "stream",
     "text": [
      "100% (3811911 of 3811911) |##############| Elapsed Time: 0:03:37 Time:  0:03:37\n"
     ]
    },
    {
     "name": "stdout",
     "output_type": "stream",
     "text": [
      "----> Load model and make predictions (consensus). <----\n",
      "----> Create consensus summary. <----\n",
      "----> Create pileups from assembly. <----\n"
     ]
    },
    {
     "name": "stderr",
     "output_type": "stream",
     "text": [
      "100% (3365526 of 3365526) |##############| Elapsed Time: 0:01:23 Time:  0:01:23\n"
     ]
    },
    {
     "name": "stdout",
     "output_type": "stream",
     "text": [
      "----> Create dataset with neighbourhood from pileups. <----\n"
     ]
    },
    {
     "name": "stderr",
     "output_type": "stream",
     "text": [
      "  0% (3825 of 3365526) |                 | Elapsed Time: 0:00:00 ETA:   0:02:55"
     ]
    },
    {
     "name": "stdout",
     "output_type": "stream",
     "text": [
      "Creating dataset with neighbourhood ...\n"
     ]
    },
    {
     "name": "stderr",
     "output_type": "stream",
     "text": [
      "100% (3365526 of 3365526) |##############| Elapsed Time: 0:03:06 Time:  0:03:06\n"
     ]
    },
    {
     "name": "stdout",
     "output_type": "stream",
     "text": [
      "----> Load model and make predictions (consensus). <----\n",
      "----> Create consensus summary. <----\n",
      "----> Create pileups from assembly. <----\n"
     ]
    },
    {
     "name": "stderr",
     "output_type": "stream",
     "text": [
      "100% (3135818 of 3135818) |##############| Elapsed Time: 0:01:16 Time:  0:01:16\n"
     ]
    },
    {
     "name": "stdout",
     "output_type": "stream",
     "text": [
      "----> Create dataset with neighbourhood from pileups. <----\n"
     ]
    },
    {
     "name": "stderr",
     "output_type": "stream",
     "text": [
      "  0% (3539 of 3135818) |                 | Elapsed Time: 0:00:00 ETA:   0:02:57"
     ]
    },
    {
     "name": "stdout",
     "output_type": "stream",
     "text": [
      "Creating dataset with neighbourhood ...\n"
     ]
    },
    {
     "name": "stderr",
     "output_type": "stream",
     "text": [
      "100% (3135818 of 3135818) |##############| Elapsed Time: 0:02:55 Time:  0:02:55\n"
     ]
    },
    {
     "name": "stdout",
     "output_type": "stream",
     "text": [
      "----> Load model and make predictions (consensus). <----\n",
      "----> Create consensus summary. <----\n"
     ]
    }
   ],
   "source": [
    "model_path = '/home/diplomski-rad/blade/ont/datasets/n15-f-bacterium-racon-hax/model-23-repeat.h5'\n",
    "reads_paths = [\n",
    "#     '/home/data/oxford_nanopore/bacteria/fusobacterium/nucleatum-23726/SRR6780922.fastq',\n",
    "#     '/home/data/oxford_nanopore/bacteria/fusobacterium/periodonticum/SRR6780924.fastq',\n",
    "#     '/home/data/oxford_nanopore/bacteria/fusobacterium/ulcerans/SRR6780916.fastq',\n",
    "#     '/home/data/oxford_nanopore/bacteria/fusobacterium/varium/SRR6780912.fastq',\n",
    "    '/home/data/oxford_nanopore/bacteria/fusobacterium/gonidiaformans/SRR6780920.fastq',\n",
    "    '/home/data/oxford_nanopore/bacteria/fusobacterium/mortiferum/SRR6780914.fastq',\n",
    "    '/home/data/oxford_nanopore/bacteria/fusobacterium/necrophorum/SRR6780918.fastq',\n",
    "    '/home/data/oxford_nanopore/bacteria/fusobacterium/nucleatum-25586/SRR6830111.fastq',\n",
    "]\n",
    "assembly_paths = [\n",
    "#     '/home/diplomski-rad/blade/ont/fusobacterium-nucleatum-23726/iter2.fasta',\n",
    "#     '/home/diplomski-rad/blade/ont/fusobacterium-periodonticum/iter2.fasta',\n",
    "#     '/home/diplomski-rad/blade/ont/fusobacterium-ulcerans/iter2.fasta',\n",
    "#     '/home/diplomski-rad/blade/ont/fusobacterium-varium/iter2.fasta',\n",
    "    '/home/diplomski-rad/blade/ont/fusobacterium-gonidiaformans/iter2.fasta',\n",
    "    '/home/diplomski-rad/blade/ont/fusobacterium-mortiferum/iter2.fasta',\n",
    "    '/home/diplomski-rad/blade/ont/fusobacterium-necrophorum/iter2.fasta',\n",
    "    '/home/diplomski-rad/blade/ont/fusobacterium-nucleatum-25586/iter2.fasta'\n",
    "    \n",
    "]\n",
    "reference_paths = [\n",
    "#     '/home/data/oxford_nanopore/bacteria/fusobacterium/nucleatum-23726/f-nucleatum-23726.fasta',\n",
    "#     '/home/data/oxford_nanopore/bacteria/fusobacterium/periodonticum/f-periodonticum.fasta',\n",
    "#     '/home/data/oxford_nanopore/bacteria/fusobacterium/ulcerans/f-ulcerans.fasta',\n",
    "#     '/home/data/oxford_nanopore/bacteria/fusobacterium/varium/f-varium.fasta',\n",
    "    '/home/data/oxford_nanopore/bacteria/fusobacterium/gonidiaformans/f-gonidiaformans.fasta',\n",
    "    '/home/data/oxford_nanopore/bacteria/fusobacterium/mortiferum/f-motriferum.fasta',\n",
    "    '/home/data/oxford_nanopore/bacteria/fusobacterium/necrophorum/f-necrophorum.fasta',\n",
    "    '/home/data/oxford_nanopore/bacteria/fusobacterium/nucleatum-25586/f-nucleatum-25586.fasta',\n",
    "]\n",
    "sam_file_paths = [\n",
    "#     '/home/diplomski-rad/blade/ont/fusobacterium-nucleatum-23726/reads-to-asm.sam',\n",
    "#     '/home/diplomski-rad/blade/ont/fusobacterium-periodonticum/reads-to-asm.sam',\n",
    "#     '/home/diplomski-rad/blade/ont/fusobacterium-ulcerans/reads-to-asm.sam',\n",
    "#     '/home/diplomski-rad/blade/ont/fusobacterium-varium/reads-to-asm.sam',\n",
    "    '/home/diplomski-rad/blade/ont/fusobacterium-gonidiaformans/reads-to-asm.sam',\n",
    "    '/home/diplomski-rad/blade/ont/fusobacterium-mortiferum/reads-to-asm.sam',\n",
    "    '/home/diplomski-rad/blade/ont/fusobacterium-necrophorum/reads-to-asm.sam',\n",
    "    '/home/diplomski-rad/blade/ont/fusobacterium-nucleatum-25586/reads-to-asm.sam',\n",
    "]\n",
    "neighbourhood_size = 15\n",
    "output_dirs = [\n",
    "#     './f-bact-nucleatum-23726-n15-model-11-racon-hax',\n",
    "#     './f-bact-periodonticum-n15-model-11-racon-hax',\n",
    "#     './f-bact-ulcerans-n15-model-11-racon-hax',\n",
    "#     './f-bact-varium-n15-model-11-racon-hax',\n",
    "    './f-bact-gonidiaformans-n15-model-23-racon-hax',\n",
    "    './f-bact-mortiferum-n15-model-23-racon-hax',\n",
    "    './f-bact-necrophorum-n15-model-23-racon-hax',\n",
    "    './f-bact-nucleatum-25586-n15-model-23-racon-hax',\n",
    "]\n",
    "result_file_paths = [\n",
    "#     '/home/diplomski-rad/results/ont/fusobacterium-dataset/nucleatum-23726/n15-model-11-all-contigs-racon-hax-report.txt',\n",
    "#     '/home/diplomski-rad/results/ont/fusobacterium-dataset/periodonticum/n15-model-11-all-contigs-racon-hax-report.txt',\n",
    "#     '/home/diplomski-rad/results/ont/fusobacterium-dataset/ulcerans/n15-model-11-all-contigs-racon-hax-report.txt',\n",
    "#     '/home/diplomski-rad/results/ont/fusobacterium-dataset/varium/n15-model-11-all-contigs-racon-hax-report.txt',\n",
    "    '/home/diplomski-rad/results/ont/fusobacterium-dataset/gonidiaformans/n15-model-23-all-contigs-racon-hax-report.txt',\n",
    "    '/home/diplomski-rad/results/ont/fusobacterium-dataset/mortiferum/n15-model-23-all-contigs-racon-hax-report.txt',\n",
    "    '/home/diplomski-rad/results/ont/fusobacterium-dataset/necrophorum/n15-model-23-all-contigs-racon-hax-report.txt',\n",
    "    '/home/diplomski-rad/results/ont/fusobacterium-dataset/nucleatum-25586/n15-model-23-all-contigs-racon-hax-report.txt',\n",
    "]\n",
    "tools_dir = '/home/diplomski-rad/'\n",
    "racon_hax_output_dir = './racon-hax-tmp-gpu-0'\n",
    "num_threads = 12\n",
    "\n",
    "for reads_path, assembly_path, reference_path, sam_file_path, output_dir, result_file_path in \\\n",
    "    zip(reads_paths, assembly_paths, reference_paths, sam_file_paths, output_dirs, result_file_paths):\n",
    "    \n",
    "    pileup_generator = pileups.RaconMSAGenerator(\n",
    "        reads_path,\n",
    "        sam_file_path,\n",
    "        assembly_path,\n",
    "        mode='inference',\n",
    "        tools_dir=tools_dir,\n",
    "        racon_hax_output_dir=racon_hax_output_dir,\n",
    "        num_threads=num_threads\n",
    "    )\n",
    "    \n",
    "    inference.make_consensus(\n",
    "        model_path, \n",
    "        reference_path,\n",
    "        pileup_generator,\n",
    "        neighbourhood_size,\n",
    "        output_dir,\n",
    "        tools_dir,\n",
    "        result_file_path)"
   ]
  },
  {
   "cell_type": "markdown",
   "metadata": {},
   "source": [
    "## n15 model-24 trained on f-bact racon-hax"
   ]
  },
  {
   "cell_type": "code",
   "execution_count": 12,
   "metadata": {},
   "outputs": [
    {
     "name": "stdout",
     "output_type": "stream",
     "text": [
      "----> Create pileups from assembly. <----\n"
     ]
    },
    {
     "name": "stderr",
     "output_type": "stream",
     "text": [
      "100% (2450213 of 2450213) |##############| Elapsed Time: 0:01:02 Time:  0:01:02\n"
     ]
    },
    {
     "name": "stdout",
     "output_type": "stream",
     "text": [
      "----> Create dataset with neighbourhood from pileups. <----\n"
     ]
    },
    {
     "name": "stderr",
     "output_type": "stream",
     "text": [
      "  0% (3683 of 2450213) |                 | Elapsed Time: 0:00:00 ETA:   0:02:13"
     ]
    },
    {
     "name": "stdout",
     "output_type": "stream",
     "text": [
      "Creating dataset with neighbourhood ...\n"
     ]
    },
    {
     "name": "stderr",
     "output_type": "stream",
     "text": [
      "100% (2450213 of 2450213) |##############| Elapsed Time: 0:02:20 Time:  0:02:20\n"
     ]
    },
    {
     "name": "stdout",
     "output_type": "stream",
     "text": [
      "----> Load model and make predictions (consensus). <----\n",
      "----> Create consensus summary. <----\n",
      "----> Create pileups from assembly. <----\n"
     ]
    },
    {
     "name": "stderr",
     "output_type": "stream",
     "text": [
      "100% (3811911 of 3811911) |##############| Elapsed Time: 0:01:30 Time:  0:01:30\n"
     ]
    },
    {
     "name": "stdout",
     "output_type": "stream",
     "text": [
      "----> Create dataset with neighbourhood from pileups. <----\n"
     ]
    },
    {
     "name": "stderr",
     "output_type": "stream",
     "text": [
      "  0% (3835 of 3811911) |                 | Elapsed Time: 0:00:00 ETA:   0:03:18"
     ]
    },
    {
     "name": "stdout",
     "output_type": "stream",
     "text": [
      "Creating dataset with neighbourhood ...\n"
     ]
    },
    {
     "name": "stderr",
     "output_type": "stream",
     "text": [
      "100% (3811911 of 3811911) |##############| Elapsed Time: 0:03:32 Time:  0:03:32\n"
     ]
    },
    {
     "name": "stdout",
     "output_type": "stream",
     "text": [
      "----> Load model and make predictions (consensus). <----\n",
      "----> Create consensus summary. <----\n",
      "----> Create pileups from assembly. <----\n"
     ]
    },
    {
     "name": "stderr",
     "output_type": "stream",
     "text": [
      "100% (3365526 of 3365526) |##############| Elapsed Time: 0:01:25 Time:  0:01:25\n"
     ]
    },
    {
     "name": "stdout",
     "output_type": "stream",
     "text": [
      "----> Create dataset with neighbourhood from pileups. <----\n"
     ]
    },
    {
     "name": "stderr",
     "output_type": "stream",
     "text": [
      "  0% (3754 of 3365526) |                 | Elapsed Time: 0:00:00 ETA:   0:02:59"
     ]
    },
    {
     "name": "stdout",
     "output_type": "stream",
     "text": [
      "Creating dataset with neighbourhood ...\n"
     ]
    },
    {
     "name": "stderr",
     "output_type": "stream",
     "text": [
      "100% (3365526 of 3365526) |##############| Elapsed Time: 0:03:09 Time:  0:03:09\n"
     ]
    },
    {
     "name": "stdout",
     "output_type": "stream",
     "text": [
      "----> Load model and make predictions (consensus). <----\n",
      "----> Create consensus summary. <----\n",
      "----> Create pileups from assembly. <----\n"
     ]
    },
    {
     "name": "stderr",
     "output_type": "stream",
     "text": [
      "100% (3135818 of 3135818) |##############| Elapsed Time: 0:01:16 Time:  0:01:16\n"
     ]
    },
    {
     "name": "stdout",
     "output_type": "stream",
     "text": [
      "----> Create dataset with neighbourhood from pileups. <----\n"
     ]
    },
    {
     "name": "stderr",
     "output_type": "stream",
     "text": [
      "  0% (3766 of 3135818) |                 | Elapsed Time: 0:00:00 ETA:   0:02:46"
     ]
    },
    {
     "name": "stdout",
     "output_type": "stream",
     "text": [
      "Creating dataset with neighbourhood ...\n"
     ]
    },
    {
     "name": "stderr",
     "output_type": "stream",
     "text": [
      "100% (3135818 of 3135818) |##############| Elapsed Time: 0:02:54 Time:  0:02:54\n"
     ]
    },
    {
     "name": "stdout",
     "output_type": "stream",
     "text": [
      "----> Load model and make predictions (consensus). <----\n",
      "----> Create consensus summary. <----\n"
     ]
    }
   ],
   "source": [
    "model_path = '/home/diplomski-rad/blade/ont/datasets/n15-f-bacterium-racon-hax/model-24-repeat.h5'\n",
    "reads_paths = [\n",
    "#     '/home/data/oxford_nanopore/bacteria/fusobacterium/nucleatum-23726/SRR6780922.fastq',\n",
    "#     '/home/data/oxford_nanopore/bacteria/fusobacterium/periodonticum/SRR6780924.fastq',\n",
    "#     '/home/data/oxford_nanopore/bacteria/fusobacterium/ulcerans/SRR6780916.fastq',\n",
    "#     '/home/data/oxford_nanopore/bacteria/fusobacterium/varium/SRR6780912.fastq',\n",
    "    '/home/data/oxford_nanopore/bacteria/fusobacterium/gonidiaformans/SRR6780920.fastq',\n",
    "    '/home/data/oxford_nanopore/bacteria/fusobacterium/mortiferum/SRR6780914.fastq',\n",
    "    '/home/data/oxford_nanopore/bacteria/fusobacterium/necrophorum/SRR6780918.fastq',\n",
    "    '/home/data/oxford_nanopore/bacteria/fusobacterium/nucleatum-25586/SRR6830111.fastq',\n",
    "]\n",
    "assembly_paths = [\n",
    "#     '/home/diplomski-rad/blade/ont/fusobacterium-nucleatum-23726/iter2.fasta',\n",
    "#     '/home/diplomski-rad/blade/ont/fusobacterium-periodonticum/iter2.fasta',\n",
    "#     '/home/diplomski-rad/blade/ont/fusobacterium-ulcerans/iter2.fasta',\n",
    "#     '/home/diplomski-rad/blade/ont/fusobacterium-varium/iter2.fasta',\n",
    "    '/home/diplomski-rad/blade/ont/fusobacterium-gonidiaformans/iter2.fasta',\n",
    "    '/home/diplomski-rad/blade/ont/fusobacterium-mortiferum/iter2.fasta',\n",
    "    '/home/diplomski-rad/blade/ont/fusobacterium-necrophorum/iter2.fasta',\n",
    "    '/home/diplomski-rad/blade/ont/fusobacterium-nucleatum-25586/iter2.fasta'\n",
    "    \n",
    "]\n",
    "reference_paths = [\n",
    "#     '/home/data/oxford_nanopore/bacteria/fusobacterium/nucleatum-23726/f-nucleatum-23726.fasta',\n",
    "#     '/home/data/oxford_nanopore/bacteria/fusobacterium/periodonticum/f-periodonticum.fasta',\n",
    "#     '/home/data/oxford_nanopore/bacteria/fusobacterium/ulcerans/f-ulcerans.fasta',\n",
    "#     '/home/data/oxford_nanopore/bacteria/fusobacterium/varium/f-varium.fasta',\n",
    "    '/home/data/oxford_nanopore/bacteria/fusobacterium/gonidiaformans/f-gonidiaformans.fasta',\n",
    "    '/home/data/oxford_nanopore/bacteria/fusobacterium/mortiferum/f-motriferum.fasta',\n",
    "    '/home/data/oxford_nanopore/bacteria/fusobacterium/necrophorum/f-necrophorum.fasta',\n",
    "    '/home/data/oxford_nanopore/bacteria/fusobacterium/nucleatum-25586/f-nucleatum-25586.fasta',\n",
    "]\n",
    "sam_file_paths = [\n",
    "#     '/home/diplomski-rad/blade/ont/fusobacterium-nucleatum-23726/reads-to-asm.sam',\n",
    "#     '/home/diplomski-rad/blade/ont/fusobacterium-periodonticum/reads-to-asm.sam',\n",
    "#     '/home/diplomski-rad/blade/ont/fusobacterium-ulcerans/reads-to-asm.sam',\n",
    "#     '/home/diplomski-rad/blade/ont/fusobacterium-varium/reads-to-asm.sam',\n",
    "    '/home/diplomski-rad/blade/ont/fusobacterium-gonidiaformans/reads-to-asm.sam',\n",
    "    '/home/diplomski-rad/blade/ont/fusobacterium-mortiferum/reads-to-asm.sam',\n",
    "    '/home/diplomski-rad/blade/ont/fusobacterium-necrophorum/reads-to-asm.sam',\n",
    "    '/home/diplomski-rad/blade/ont/fusobacterium-nucleatum-25586/reads-to-asm.sam',\n",
    "]\n",
    "neighbourhood_size = 15\n",
    "output_dirs = [\n",
    "#     './f-bact-nucleatum-23726-n15-model-11-racon-hax',\n",
    "#     './f-bact-periodonticum-n15-model-11-racon-hax',\n",
    "#     './f-bact-ulcerans-n15-model-11-racon-hax',\n",
    "#     './f-bact-varium-n15-model-11-racon-hax',\n",
    "    './f-bact-gonidiaformans-n15-model-24-racon-hax',\n",
    "    './f-bact-mortiferum-n15-model-24-racon-hax',\n",
    "    './f-bact-necrophorum-n15-model-24-racon-hax',\n",
    "    './f-bact-nucleatum-25586-n15-model-24-racon-hax',\n",
    "]\n",
    "result_file_paths = [\n",
    "#     '/home/diplomski-rad/results/ont/fusobacterium-dataset/nucleatum-23726/n15-model-11-all-contigs-racon-hax-report.txt',\n",
    "#     '/home/diplomski-rad/results/ont/fusobacterium-dataset/periodonticum/n15-model-11-all-contigs-racon-hax-report.txt',\n",
    "#     '/home/diplomski-rad/results/ont/fusobacterium-dataset/ulcerans/n15-model-11-all-contigs-racon-hax-report.txt',\n",
    "#     '/home/diplomski-rad/results/ont/fusobacterium-dataset/varium/n15-model-11-all-contigs-racon-hax-report.txt',\n",
    "    '/home/diplomski-rad/results/ont/fusobacterium-dataset/gonidiaformans/n15-model-24-all-contigs-racon-hax-report.txt',\n",
    "    '/home/diplomski-rad/results/ont/fusobacterium-dataset/mortiferum/n15-model-24-all-contigs-racon-hax-report.txt',\n",
    "    '/home/diplomski-rad/results/ont/fusobacterium-dataset/necrophorum/n15-model-24-all-contigs-racon-hax-report.txt',\n",
    "    '/home/diplomski-rad/results/ont/fusobacterium-dataset/nucleatum-25586/n15-model-24-all-contigs-racon-hax-report.txt',\n",
    "]\n",
    "tools_dir = '/home/diplomski-rad/'\n",
    "racon_hax_output_dir = './racon-hax-tmp-gpu-0'\n",
    "num_threads = 12\n",
    "\n",
    "for reads_path, assembly_path, reference_path, sam_file_path, output_dir, result_file_path in \\\n",
    "    zip(reads_paths, assembly_paths, reference_paths, sam_file_paths, output_dirs, result_file_paths):\n",
    "    \n",
    "    pileup_generator = pileups.RaconMSAGenerator(\n",
    "        reads_path,\n",
    "        sam_file_path,\n",
    "        assembly_path,\n",
    "        mode='inference',\n",
    "        tools_dir=tools_dir,\n",
    "        racon_hax_output_dir=racon_hax_output_dir,\n",
    "        num_threads=num_threads\n",
    "    )\n",
    "    \n",
    "    inference.make_consensus(\n",
    "        model_path, \n",
    "        reference_path,\n",
    "        pileup_generator,\n",
    "        neighbourhood_size,\n",
    "        output_dir,\n",
    "        tools_dir,\n",
    "        result_file_path)"
   ]
  },
  {
   "cell_type": "markdown",
   "metadata": {},
   "source": [
    "## n20 model-24 trained on f-bact racon-hax"
   ]
  },
  {
   "cell_type": "code",
   "execution_count": 13,
   "metadata": {},
   "outputs": [
    {
     "name": "stdout",
     "output_type": "stream",
     "text": [
      "----> Create pileups from assembly. <----\n"
     ]
    },
    {
     "name": "stderr",
     "output_type": "stream",
     "text": [
      "100% (2450213 of 2450213) |##############| Elapsed Time: 0:00:59 Time:  0:00:59\n"
     ]
    },
    {
     "name": "stdout",
     "output_type": "stream",
     "text": [
      "----> Create dataset with neighbourhood from pileups. <----\n"
     ]
    },
    {
     "name": "stderr",
     "output_type": "stream",
     "text": [
      "  0% (3627 of 2450213) |                 | Elapsed Time: 0:00:00 ETA:   0:02:15"
     ]
    },
    {
     "name": "stdout",
     "output_type": "stream",
     "text": [
      "Creating dataset with neighbourhood ...\n"
     ]
    },
    {
     "name": "stderr",
     "output_type": "stream",
     "text": [
      "100% (2450213 of 2450213) |##############| Elapsed Time: 0:02:22 Time:  0:02:22\n"
     ]
    },
    {
     "name": "stdout",
     "output_type": "stream",
     "text": [
      "----> Load model and make predictions (consensus). <----\n",
      "----> Create consensus summary. <----\n",
      "----> Create pileups from assembly. <----\n"
     ]
    },
    {
     "name": "stderr",
     "output_type": "stream",
     "text": [
      "100% (3811911 of 3811911) |##############| Elapsed Time: 0:01:30 Time:  0:01:30\n"
     ]
    },
    {
     "name": "stdout",
     "output_type": "stream",
     "text": [
      "----> Create dataset with neighbourhood from pileups. <----\n"
     ]
    },
    {
     "name": "stderr",
     "output_type": "stream",
     "text": [
      "  0% (3707 of 3811911) |                 | Elapsed Time: 0:00:00 ETA:   0:03:25"
     ]
    },
    {
     "name": "stdout",
     "output_type": "stream",
     "text": [
      "Creating dataset with neighbourhood ...\n"
     ]
    },
    {
     "name": "stderr",
     "output_type": "stream",
     "text": [
      "100% (3811911 of 3811911) |##############| Elapsed Time: 0:03:41 Time:  0:03:41\n"
     ]
    },
    {
     "name": "stdout",
     "output_type": "stream",
     "text": [
      "----> Load model and make predictions (consensus). <----\n",
      "----> Create consensus summary. <----\n",
      "----> Create pileups from assembly. <----\n"
     ]
    },
    {
     "name": "stderr",
     "output_type": "stream",
     "text": [
      "100% (3365526 of 3365526) |##############| Elapsed Time: 0:01:24 Time:  0:01:24\n"
     ]
    },
    {
     "name": "stdout",
     "output_type": "stream",
     "text": [
      "----> Create dataset with neighbourhood from pileups. <----\n"
     ]
    },
    {
     "name": "stderr",
     "output_type": "stream",
     "text": [
      "  0% (1862 of 3365526) |                 | Elapsed Time: 0:00:00 ETA:   0:03:00"
     ]
    },
    {
     "name": "stdout",
     "output_type": "stream",
     "text": [
      "Creating dataset with neighbourhood ...\n"
     ]
    },
    {
     "name": "stderr",
     "output_type": "stream",
     "text": [
      "100% (3365526 of 3365526) |##############| Elapsed Time: 0:03:13 Time:  0:03:13\n"
     ]
    },
    {
     "name": "stdout",
     "output_type": "stream",
     "text": [
      "----> Load model and make predictions (consensus). <----\n",
      "----> Create consensus summary. <----\n",
      "----> Create pileups from assembly. <----\n"
     ]
    },
    {
     "name": "stderr",
     "output_type": "stream",
     "text": [
      "100% (3135818 of 3135818) |##############| Elapsed Time: 0:01:17 Time:  0:01:17\n"
     ]
    },
    {
     "name": "stdout",
     "output_type": "stream",
     "text": [
      "----> Create dataset with neighbourhood from pileups. <----\n"
     ]
    },
    {
     "name": "stderr",
     "output_type": "stream",
     "text": [
      "  0% (3668 of 3135818) |                 | Elapsed Time: 0:00:00 ETA:   0:02:51"
     ]
    },
    {
     "name": "stdout",
     "output_type": "stream",
     "text": [
      "Creating dataset with neighbourhood ...\n"
     ]
    },
    {
     "name": "stderr",
     "output_type": "stream",
     "text": [
      "100% (3135818 of 3135818) |##############| Elapsed Time: 0:03:00 Time:  0:03:00\n"
     ]
    },
    {
     "name": "stdout",
     "output_type": "stream",
     "text": [
      "----> Load model and make predictions (consensus). <----\n",
      "----> Create consensus summary. <----\n"
     ]
    }
   ],
   "source": [
    "model_path = '/home/diplomski-rad/blade/ont/datasets/n20-f-bacterium-racon-hax/model-24-repeat.h5'\n",
    "reads_paths = [\n",
    "#     '/home/data/oxford_nanopore/bacteria/fusobacterium/nucleatum-23726/SRR6780922.fastq',\n",
    "#     '/home/data/oxford_nanopore/bacteria/fusobacterium/periodonticum/SRR6780924.fastq',\n",
    "#     '/home/data/oxford_nanopore/bacteria/fusobacterium/ulcerans/SRR6780916.fastq',\n",
    "#     '/home/data/oxford_nanopore/bacteria/fusobacterium/varium/SRR6780912.fastq',\n",
    "    '/home/data/oxford_nanopore/bacteria/fusobacterium/gonidiaformans/SRR6780920.fastq',\n",
    "    '/home/data/oxford_nanopore/bacteria/fusobacterium/mortiferum/SRR6780914.fastq',\n",
    "    '/home/data/oxford_nanopore/bacteria/fusobacterium/necrophorum/SRR6780918.fastq',\n",
    "    '/home/data/oxford_nanopore/bacteria/fusobacterium/nucleatum-25586/SRR6830111.fastq',\n",
    "]\n",
    "assembly_paths = [\n",
    "#     '/home/diplomski-rad/blade/ont/fusobacterium-nucleatum-23726/iter2.fasta',\n",
    "#     '/home/diplomski-rad/blade/ont/fusobacterium-periodonticum/iter2.fasta',\n",
    "#     '/home/diplomski-rad/blade/ont/fusobacterium-ulcerans/iter2.fasta',\n",
    "#     '/home/diplomskil-rad/blade/ont/fusobacterium-varium/iter2.fasta',\n",
    "    '/home/diplomski-rad/blade/ont/fusobacterium-gonidiaformans/iter2.fasta',\n",
    "    '/home/diplomski-rad/blade/ont/fusobacterium-mortiferum/iter2.fasta',\n",
    "    '/home/diplomski-rad/blade/ont/fusobacterium-necrophorum/iter2.fasta',\n",
    "    '/home/diplomski-rad/blade/ont/fusobacterium-nucleatum-25586/iter2.fasta'\n",
    "    \n",
    "]\n",
    "reference_paths = [\n",
    "#     '/home/data/oxford_nanopore/bacteria/fusobacterium/nucleatum-23726/f-nucleatum-23726.fasta',\n",
    "#     '/home/data/oxford_nanopore/bacteria/fusobacterium/periodonticum/f-periodonticum.fasta',\n",
    "#     '/home/data/oxford_nanopore/bacteria/fusobacterium/ulcerans/f-ulcerans.fasta',\n",
    "#     '/home/data/oxford_nanopore/bacteria/fusobacterium/varium/f-varium.fasta',\n",
    "    '/home/data/oxford_nanopore/bacteria/fusobacterium/gonidiaformans/f-gonidiaformans.fasta',\n",
    "    '/home/data/oxford_nanopore/bacteria/fusobacterium/mortiferum/f-motriferum.fasta',\n",
    "    '/home/data/oxford_nanopore/bacteria/fusobacterium/necrophorum/f-necrophorum.fasta',\n",
    "    '/home/data/oxford_nanopore/bacteria/fusobacterium/nucleatum-25586/f-nucleatum-25586.fasta',\n",
    "]\n",
    "sam_file_paths = [\n",
    "#     '/home/diplomski-rad/blade/ont/fusobacterium-nucleatum-23726/reads-to-asm.sam',\n",
    "#     '/home/diplomski-rad/blade/ont/fusobacterium-periodonticum/reads-to-asm.sam',\n",
    "#     '/home/diplomski-rad/blade/ont/fusobacterium-ulcerans/reads-to-asm.sam',\n",
    "#     '/home/diplomski-rad/blade/ont/fusobacterium-varium/reads-to-asm.sam',\n",
    "    '/home/diplomski-rad/blade/ont/fusobacterium-gonidiaformans/reads-to-asm.sam',\n",
    "    '/home/diplomski-rad/blade/ont/fusobacterium-mortiferum/reads-to-asm.sam',\n",
    "    '/home/diplomski-rad/blade/ont/fusobacterium-necrophorum/reads-to-asm.sam',\n",
    "    '/home/diplomski-rad/blade/ont/fusobacterium-nucleatum-25586/reads-to-asm.sam',\n",
    "]\n",
    "neighbourhood_size = 20\n",
    "output_dirs = [\n",
    "#     './f-bact-nucleatum-23726-n15-model-11-racon-hax',\n",
    "#     './f-bact-periodonticum-n15-model-11-racon-hax',\n",
    "#     './f-bact-ulcerans-n15-model-11-racon-hax',\n",
    "#     './f-bact-varium-n15-model-11-racon-hax',\n",
    "    './f-bact-gonidiaformans-n20-model-24-racon-hax',\n",
    "    './f-bact-mortiferum-n20-model-24-racon-hax',\n",
    "    './f-bact-necrophorum-n20-model-24-racon-hax',\n",
    "    './f-bact-nucleatum-25586-n20-model-24-racon-hax',\n",
    "]\n",
    "result_file_paths = [\n",
    "#     '/home/diplomski-rad/results/ont/fusobacterium-dataset/nucleatum-23726/n15-model-11-all-contigs-racon-hax-report.txt',\n",
    "#     '/home/diplomski-rad/results/ont/fusobacterium-dataset/periodonticum/n15-model-11-all-contigs-racon-hax-report.txt',\n",
    "#     '/home/diplomski-rad/results/ont/fusobacterium-dataset/ulcerans/n15-model-11-all-contigs-racon-hax-report.txt',\n",
    "#     '/home/diplomski-rad/results/ont/fusobacterium-dataset/varium/n15-model-11-all-contigs-racon-hax-report.txt',\n",
    "    '/home/diplomski-rad/results/ont/fusobacterium-dataset/gonidiaformans/n20-model-24-all-contigs-racon-hax-report.txt',\n",
    "    '/home/diplomski-rad/results/ont/fusobacterium-dataset/mortiferum/n20-model-24-all-contigs-racon-hax-report.txt',\n",
    "    '/home/diplomski-rad/results/ont/fusobacterium-dataset/necrophorum/n20-model-24-all-contigs-racon-hax-report.txt',\n",
    "    '/home/diplomski-rad/results/ont/fusobacterium-dataset/nucleatum-25586/n20-model-24-all-contigs-racon-hax-report.txt',\n",
    "]\n",
    "tools_dir = '/home/diplomski-rad/'\n",
    "racon_hax_output_dir = './racon-hax-tmp-gpu-0'\n",
    "num_threads = 12\n",
    "\n",
    "for reads_path, assembly_path, reference_path, sam_file_path, output_dir, result_file_path in \\\n",
    "    zip(reads_paths, assembly_paths, reference_paths, sam_file_paths, output_dirs, result_file_paths):\n",
    "    \n",
    "    pileup_generator = pileups.RaconMSAGenerator(\n",
    "        reads_path,\n",
    "        sam_file_path,\n",
    "        assembly_path,\n",
    "        mode='inference',\n",
    "        tools_dir=tools_dir,\n",
    "        racon_hax_output_dir=racon_hax_output_dir,\n",
    "        num_threads=num_threads\n",
    "    )\n",
    "    \n",
    "    inference.make_consensus(\n",
    "        model_path, \n",
    "        reference_path,\n",
    "        pileup_generator,\n",
    "        neighbourhood_size,\n",
    "        output_dir,\n",
    "        tools_dir,\n",
    "        result_file_path)"
   ]
  },
  {
   "cell_type": "markdown",
   "metadata": {},
   "source": [
    "## n20 model-11-cw trained on f-bact racon-hax"
   ]
  },
  {
   "cell_type": "code",
   "execution_count": 8,
   "metadata": {},
   "outputs": [
    {
     "name": "stdout",
     "output_type": "stream",
     "text": [
      "----> Create pileups from assembly. <----\n"
     ]
    },
    {
     "name": "stderr",
     "output_type": "stream",
     "text": [
      "100% (4279452 of 4279452) |##############| Elapsed Time: 0:01:47 Time:  0:01:47\n"
     ]
    },
    {
     "name": "stdout",
     "output_type": "stream",
     "text": [
      "----> Create dataset with neighbourhood from pileups. <----\n"
     ]
    },
    {
     "name": "stderr",
     "output_type": "stream",
     "text": [
      "  0% (3743 of 4279452) |                 | Elapsed Time: 0:00:00 ETA:   0:03:49"
     ]
    },
    {
     "name": "stdout",
     "output_type": "stream",
     "text": [
      "Creating dataset with neighbourhood ...\n"
     ]
    },
    {
     "name": "stderr",
     "output_type": "stream",
     "text": [
      " 77% (3314312 of 4279452) |##########    | Elapsed Time: 0:03:07 ETA:   0:42:24"
     ]
    },
    {
     "name": "stdout",
     "output_type": "stream",
     "text": [
      "Creating dataset with neighbourhood ...\n"
     ]
    },
    {
     "name": "stderr",
     "output_type": "stream",
     "text": [
      " 97% (4185076 of 4279452) |############# | Elapsed Time: 0:03:56 ETA:   0:00:51"
     ]
    },
    {
     "name": "stdout",
     "output_type": "stream",
     "text": [
      "Creating dataset with neighbourhood ...\n"
     ]
    },
    {
     "name": "stderr",
     "output_type": "stream",
     "text": [
      "100% (4279452 of 4279452) |##############| Elapsed Time: 0:04:02 Time:  0:04:02\n"
     ]
    },
    {
     "name": "stdout",
     "output_type": "stream",
     "text": [
      "----> Load model and make predictions (consensus). <----\n",
      "----> Create consensus summary. <----\n"
     ]
    }
   ],
   "source": [
    "model_path = '/home/diplomski-rad/blade/ont/datasets/n20-f-bacterium-racon-hax/model-11-cw.h5'\n",
    "reads_paths = [\n",
    "#     '/home/data/oxford_nanopore/bacteria/fusobacterium/nucleatum-23726/SRR6780922.fastq',\n",
    "#     '/home/data/oxford_nanopore/bacteria/fusobacterium/periodonticum/SRR6780924.fastq',\n",
    "#     '/home/data/oxford_nanopore/bacteria/fusobacterium/ulcerans/SRR6780916.fastq',\n",
    "    '/home/data/oxford_nanopore/bacteria/fusobacterium/varium/SRR6780912.fastq',\n",
    "#     '/home/data/oxford_nanopore/bacteria/fusobacterium/gonidiaformans/SRR6780920.fastq',\n",
    "#     '/home/data/oxford_nanopore/bacteria/fusobacterium/mortiferum/SRR6780914.fastq',\n",
    "#     '/home/data/oxford_nanopore/bacteria/fusobacterium/necrophorum/SRR6780918.fastq',\n",
    "#     '/home/data/oxford_nanopore/bacteria/fusobacterium/nucleatum-25586/SRR6830111.fastq',\n",
    "]\n",
    "assembly_paths = [\n",
    "#     '/home/diplomski-rad/blade/ont/fusobacterium-nucleatum-23726/iter2.fasta',\n",
    "#     '/home/diplomski-rad/blade/ont/fusobacterium-periodonticum/iter2.fasta',\n",
    "#     '/home/diplomski-rad/blade/ont/fusobacterium-ulcerans/iter2.fasta',\n",
    "    '/home/diplomski-rad/blade/ont/fusobacterium-varium/iter2.fasta',\n",
    "#     '/home/diplomski-rad/blade/ont/fusobacterium-gonidiaformans/iter2.fasta',\n",
    "#     '/home/diplomski-rad/blade/ont/fusobacterium-mortiferum/iter2.fasta',\n",
    "#     '/home/diplomski-rad/blade/ont/fusobacterium-necrophorum/iter2.fasta',\n",
    "#     '/home/diplomski-rad/blade/ont/fusobacterium-nucleatum-25586/iter2.fasta'\n",
    "    \n",
    "]\n",
    "reference_paths = [\n",
    "#     '/home/data/oxford_nanopore/bacteria/fusobacterium/nucleatum-23726/f-nucleatum-23726.fasta',\n",
    "#     '/home/data/oxford_nanopore/bacteria/fusobacterium/periodonticum/f-periodonticum.fasta',\n",
    "#     '/home/data/oxford_nanopore/bacteria/fusobacterium/ulcerans/f-ulcerans.fasta',\n",
    "    '/home/data/oxford_nanopore/bacteria/fusobacterium/varium/f-varium.fasta',\n",
    "#     '/home/data/oxford_nanopore/bacteria/fusobacterium/gonidiaformans/f-gonidiaformans.fasta',\n",
    "#     '/home/data/oxford_nanopore/bacteria/fusobacterium/mortiferum/f-motriferum.fasta',\n",
    "#     '/home/data/oxford_nanopore/bacteria/fusobacterium/necrophorum/f-necrophorum.fasta',\n",
    "#     '/home/data/oxford_nanopore/bacteria/fusobacterium/nucleatum-25586/f-nucleatum-25586.fasta',\n",
    "]\n",
    "sam_file_paths = [\n",
    "#     '/home/diplomski-rad/blade/ont/fusobacterium-nucleatum-23726/reads-to-asm.sam',\n",
    "#     '/home/diplomski-rad/blade/ont/fusobacterium-periodonticum/reads-to-asm.sam',\n",
    "#     '/home/diplomski-rad/blade/ont/fusobacterium-ulcerans/reads-to-asm.sam',\n",
    "    '/home/diplomski-rad/blade/ont/fusobacterium-varium/reads-to-asm.sam',\n",
    "#     '/home/diplomski-rad/blade/ont/fusobacterium-gonidiaformans/reads-to-asm.sam',\n",
    "#     '/home/diplomski-rad/blade/ont/fusobacterium-mortiferum/reads-to-asm.sam',\n",
    "#     '/home/diplomski-rad/blade/ont/fusobacterium-necrophorum/reads-to-asm.sam',\n",
    "#     '/home/diplomski-rad/blade/ont/fusobacterium-nucleatum-25586/reads-to-asm.sam',\n",
    "]\n",
    "neighbourhood_size = 20\n",
    "output_dirs = [\n",
    "#     './f-bact-nucleatum-23726-n20-model-11-cw-racon-hax',\n",
    "#     './f-bact-periodonticum-n20-model-11-cw-racon-hax',\n",
    "#     './f-bact-ulcerans-n20-model-11-cw-racon-hax',\n",
    "    './f-bact-varium-n20-model-11-cw-racon-hax',\n",
    "#     './f-bact-gonidiaformans-n20-model-11-cw-racon-hax',\n",
    "#     './f-bact-mortiferum-n20-model-11-cw-racon-hax',\n",
    "#     './f-bact-necrophorum-n20-model-11-cw-racon-hax',\n",
    "#     './f-bact-nucleatum-25586-n20-model-11-cw-racon-hax',\n",
    "]\n",
    "result_file_paths = [\n",
    "#     '/home/diplomski-rad/results/ont/fusobacterium-dataset/nucleatum-23726/n20-model-11-cw-all-contigs-racon-hax-report.txt',\n",
    "#     '/home/diplomski-rad/results/ont/fusobacterium-dataset/periodonticum/n20-model-11-cw-all-contigs-racon-hax-report.txt',\n",
    "#     '/home/diplomski-rad/results/ont/fusobacterium-dataset/ulcerans/n20-model-11-cw-all-contigs-racon-hax-report.txt',\n",
    "    '/home/diplomski-rad/results/ont/fusobacterium-dataset/varium/n20-model-11-cw-all-contigs-racon-hax-report.txt',\n",
    "#     '/home/diplomski-rad/results/ont/fusobacterium-dataset/gonidiaformans/n20-model-11-cw-all-contigs-racon-hax-report.txt',\n",
    "#     '/home/diplomski-rad/results/ont/fusobacterium-dataset/mortiferum/n20-model-11-cw-all-contigs-racon-hax-report.txt',\n",
    "#     '/home/diplomski-rad/results/ont/fusobacterium-dataset/necrophorum/n20-model-11-cw-all-contigs-racon-hax-report.txt',\n",
    "#     '/home/diplomski-rad/results/ont/fusobacterium-dataset/nucleatum-25586/n20-model-11-cw-all-contigs-racon-hax-report.txt',\n",
    "]\n",
    "tools_dir = '/home/diplomski-rad/'\n",
    "racon_hax_output_dir = './racon-hax-tmp-gpu-0'\n",
    "num_threads = 12\n",
    "\n",
    "for reads_path, assembly_path, reference_path, sam_file_path, output_dir, result_file_path in \\\n",
    "    zip(reads_paths, assembly_paths, reference_paths, sam_file_paths, output_dirs, result_file_paths):\n",
    "    \n",
    "    pileup_generator = pileups.RaconMSAGenerator(\n",
    "        reads_path,\n",
    "        sam_file_path,\n",
    "        assembly_path,\n",
    "        mode='inference',\n",
    "        tools_dir=tools_dir,\n",
    "        racon_hax_output_dir=racon_hax_output_dir,\n",
    "        num_threads=num_threads\n",
    "    )\n",
    "    \n",
    "    inference.make_consensus(\n",
    "        model_path, \n",
    "        reference_path,\n",
    "        pileup_generator,\n",
    "        neighbourhood_size,\n",
    "        output_dir,\n",
    "        tools_dir,\n",
    "        result_file_path)"
   ]
  },
  {
   "cell_type": "markdown",
   "metadata": {},
   "source": [
    "## n15 model-11-cw trained on f-bact racon-hax"
   ]
  },
  {
   "cell_type": "code",
   "execution_count": 9,
   "metadata": {},
   "outputs": [
    {
     "name": "stdout",
     "output_type": "stream",
     "text": [
      "----> Create pileups from assembly. <----\n"
     ]
    },
    {
     "name": "stderr",
     "output_type": "stream",
     "text": [
      "100% (4279452 of 4279452) |##############| Elapsed Time: 0:01:46 Time:  0:01:46\n"
     ]
    },
    {
     "name": "stdout",
     "output_type": "stream",
     "text": [
      "----> Create dataset with neighbourhood from pileups. <----\n"
     ]
    },
    {
     "name": "stderr",
     "output_type": "stream",
     "text": [
      "  0% (3862 of 4279452) |                 | Elapsed Time: 0:00:00 ETA:   0:03:41"
     ]
    },
    {
     "name": "stdout",
     "output_type": "stream",
     "text": [
      "Creating dataset with neighbourhood ...\n"
     ]
    },
    {
     "name": "stderr",
     "output_type": "stream",
     "text": [
      " 77% (3314359 of 4279452) |##########    | Elapsed Time: 0:03:03 ETA:   0:29:57"
     ]
    },
    {
     "name": "stdout",
     "output_type": "stream",
     "text": [
      "Creating dataset with neighbourhood ...\n"
     ]
    },
    {
     "name": "stderr",
     "output_type": "stream",
     "text": [
      " 97% (4185032 of 4279452) |############# | Elapsed Time: 0:03:52 ETA:   0:00:55"
     ]
    },
    {
     "name": "stdout",
     "output_type": "stream",
     "text": [
      "Creating dataset with neighbourhood ...\n"
     ]
    },
    {
     "name": "stderr",
     "output_type": "stream",
     "text": [
      "100% (4279452 of 4279452) |##############| Elapsed Time: 0:03:57 Time:  0:03:57\n"
     ]
    },
    {
     "name": "stdout",
     "output_type": "stream",
     "text": [
      "----> Load model and make predictions (consensus). <----\n",
      "----> Create consensus summary. <----\n"
     ]
    }
   ],
   "source": [
    "model_path = '/home/diplomski-rad/blade/ont/datasets/n15-f-bacterium-racon-hax/model-11-cw.h5'\n",
    "reads_paths = [\n",
    "#     '/home/data/oxford_nanopore/bacteria/fusobacterium/nucleatum-23726/SRR6780922.fastq',\n",
    "#     '/home/data/oxford_nanopore/bacteria/fusobacterium/periodonticum/SRR6780924.fastq',\n",
    "#     '/home/data/oxford_nanopore/bacteria/fusobacterium/ulcerans/SRR6780916.fastq',\n",
    "    '/home/data/oxford_nanopore/bacteria/fusobacterium/varium/SRR6780912.fastq',\n",
    "#     '/home/data/oxford_nanopore/bacteria/fusobacterium/gonidiaformans/SRR6780920.fastq',\n",
    "#     '/home/data/oxford_nanopore/bacteria/fusobacterium/mortiferum/SRR6780914.fastq',\n",
    "#     '/home/data/oxford_nanopore/bacteria/fusobacterium/necrophorum/SRR6780918.fastq',\n",
    "#     '/home/data/oxford_nanopore/bacteria/fusobacterium/nucleatum-25586/SRR6830111.fastq',\n",
    "]\n",
    "assembly_paths = [\n",
    "#     '/home/diplomski-rad/blade/ont/fusobacterium-nucleatum-23726/iter2.fasta',\n",
    "#     '/home/diplomski-rad/blade/ont/fusobacterium-periodonticum/iter2.fasta',\n",
    "#     '/home/diplomski-rad/blade/ont/fusobacterium-ulcerans/iter2.fasta',\n",
    "    '/home/diplomski-rad/blade/ont/fusobacterium-varium/iter2.fasta',\n",
    "#     '/home/diplomski-rad/blade/ont/fusobacterium-gonidiaformans/iter2.fasta',\n",
    "#     '/home/diplomski-rad/blade/ont/fusobacterium-mortiferum/iter2.fasta',\n",
    "#     '/home/diplomski-rad/blade/ont/fusobacterium-necrophorum/iter2.fasta',\n",
    "#     '/home/diplomski-rad/blade/ont/fusobacterium-nucleatum-25586/iter2.fasta'\n",
    "    \n",
    "]\n",
    "reference_paths = [\n",
    "#     '/home/data/oxford_nanopore/bacteria/fusobacterium/nucleatum-23726/f-nucleatum-23726.fasta',\n",
    "#     '/home/data/oxford_nanopore/bacteria/fusobacterium/periodonticum/f-periodonticum.fasta',\n",
    "#     '/home/data/oxford_nanopore/bacteria/fusobacterium/ulcerans/f-ulcerans.fasta',\n",
    "    '/home/data/oxford_nanopore/bacteria/fusobacterium/varium/f-varium.fasta',\n",
    "#     '/home/data/oxford_nanopore/bacteria/fusobacterium/gonidiaformans/f-gonidiaformans.fasta',\n",
    "#     '/home/data/oxford_nanopore/bacteria/fusobacterium/mortiferum/f-motriferum.fasta',\n",
    "#     '/home/data/oxford_nanopore/bacteria/fusobacterium/necrophorum/f-necrophorum.fasta',\n",
    "#     '/home/data/oxford_nanopore/bacteria/fusobacterium/nucleatum-25586/f-nucleatum-25586.fasta',\n",
    "]\n",
    "sam_file_paths = [\n",
    "#     '/home/diplomski-rad/blade/ont/fusobacterium-nucleatum-23726/reads-to-asm.sam',\n",
    "#     '/home/diplomski-rad/blade/ont/fusobacterium-periodonticum/reads-to-asm.sam',\n",
    "#     '/home/diplomski-rad/blade/ont/fusobacterium-ulcerans/reads-to-asm.sam',\n",
    "    '/home/diplomski-rad/blade/ont/fusobacterium-varium/reads-to-asm.sam',\n",
    "#     '/home/diplomski-rad/blade/ont/fusobacterium-gonidiaformans/reads-to-asm.sam',\n",
    "#     '/home/diplomski-rad/blade/ont/fusobacterium-mortiferum/reads-to-asm.sam',\n",
    "#     '/home/diplomski-rad/blade/ont/fusobacterium-necrophorum/reads-to-asm.sam',\n",
    "#     '/home/diplomski-rad/blade/ont/fusobacterium-nucleatum-25586/reads-to-asm.sam',\n",
    "]\n",
    "neighbourhood_size = 15\n",
    "output_dirs = [\n",
    "#     './f-bact-nucleatum-23726-n15-model-11-cw-racon-hax',\n",
    "#     './f-bact-periodonticum-n15-model-11-cw-racon-hax',\n",
    "#     './f-bact-ulcerans-n15-model-11-cw-racon-hax',\n",
    "    './f-bact-varium-n15-model-11-cw-racon-hax',\n",
    "#     './f-bact-gonidiaformans-n15-model-11-cw-racon-hax',\n",
    "#     './f-bact-mortiferum-n15-model-11-cw-racon-hax',\n",
    "#     './f-bact-necrophorum-n15-model-11-cw-racon-hax',\n",
    "#     './f-bact-nucleatum-25586-n15-model-11-cw-racon-hax',\n",
    "]\n",
    "result_file_paths = [\n",
    "#     '/home/diplomski-rad/results/ont/fusobacterium-dataset/nucleatum-23726/n15-model-11-cw-all-contigs-racon-hax-report.txt',\n",
    "#     '/home/diplomski-rad/results/ont/fusobacterium-dataset/periodonticum/n15-model-11-cw-all-contigs-racon-hax-report.txt',\n",
    "#     '/home/diplomski-rad/results/ont/fusobacterium-dataset/ulcerans/n15-model-11-cw-all-contigs-racon-hax-report.txt',\n",
    "    '/home/diplomski-rad/results/ont/fusobacterium-dataset/varium/n15-model-11-cw-all-contigs-racon-hax-report.txt',\n",
    "#     '/home/diplomski-rad/results/ont/fusobacterium-dataset/gonidiaformans/n15-model-11-cw-all-contigs-racon-hax-report.txt',\n",
    "#     '/home/diplomski-rad/results/ont/fusobacterium-dataset/mortiferum/n15-model-11-cw-all-contigs-racon-hax-report.txt',\n",
    "#     '/home/diplomski-rad/results/ont/fusobacterium-dataset/necrophorum/n15-model-11-cw-all-contigs-racon-hax-report.txt',\n",
    "#     '/home/diplomski-rad/results/ont/fusobacterium-dataset/nucleatum-25586/n15-model-11-cw-all-contigs-racon-hax-report.txt',\n",
    "]\n",
    "tools_dir = '/home/diplomski-rad/'\n",
    "racon_hax_output_dir = './racon-hax-tmp-gpu-0'\n",
    "num_threads = 12\n",
    "\n",
    "for reads_path, assembly_path, reference_path, sam_file_path, output_dir, result_file_path in \\\n",
    "    zip(reads_paths, assembly_paths, reference_paths, sam_file_paths, output_dirs, result_file_paths):\n",
    "    \n",
    "    pileup_generator = pileups.RaconMSAGenerator(\n",
    "        reads_path,\n",
    "        sam_file_path,\n",
    "        assembly_path,\n",
    "        mode='inference',\n",
    "        tools_dir=tools_dir,\n",
    "        racon_hax_output_dir=racon_hax_output_dir,\n",
    "        num_threads=num_threads\n",
    "    )\n",
    "    \n",
    "    inference.make_consensus(\n",
    "        model_path, \n",
    "        reference_path,\n",
    "        pileup_generator,\n",
    "        neighbourhood_size,\n",
    "        output_dir,\n",
    "        tools_dir,\n",
    "        result_file_path)"
   ]
  },
  {
   "cell_type": "markdown",
   "metadata": {},
   "source": [
    "## n15 model-23-cw trained on f-bact racon-hax"
   ]
  },
  {
   "cell_type": "code",
   "execution_count": 10,
   "metadata": {},
   "outputs": [
    {
     "name": "stdout",
     "output_type": "stream",
     "text": [
      "----> Create pileups from assembly. <----\n"
     ]
    },
    {
     "name": "stderr",
     "output_type": "stream",
     "text": [
      "100% (4279452 of 4279452) |##############| Elapsed Time: 0:01:45 Time:  0:01:45\n"
     ]
    },
    {
     "name": "stdout",
     "output_type": "stream",
     "text": [
      "----> Create dataset with neighbourhood from pileups. <----\n"
     ]
    },
    {
     "name": "stderr",
     "output_type": "stream",
     "text": [
      "  0% (3842 of 4279452) |                 | Elapsed Time: 0:00:00 ETA:   0:03:42"
     ]
    },
    {
     "name": "stdout",
     "output_type": "stream",
     "text": [
      "Creating dataset with neighbourhood ...\n"
     ]
    },
    {
     "name": "stderr",
     "output_type": "stream",
     "text": [
      " 77% (3314289 of 4279452) |##########    | Elapsed Time: 0:03:03 ETA:   0:31:19"
     ]
    },
    {
     "name": "stdout",
     "output_type": "stream",
     "text": [
      "Creating dataset with neighbourhood ...\n"
     ]
    },
    {
     "name": "stderr",
     "output_type": "stream",
     "text": [
      " 97% (4185098 of 4279452) |############# | Elapsed Time: 0:03:51 ETA:   0:00:54"
     ]
    },
    {
     "name": "stdout",
     "output_type": "stream",
     "text": [
      "Creating dataset with neighbourhood ...\n"
     ]
    },
    {
     "name": "stderr",
     "output_type": "stream",
     "text": [
      "100% (4279452 of 4279452) |##############| Elapsed Time: 0:03:56 Time:  0:03:56\n"
     ]
    },
    {
     "name": "stdout",
     "output_type": "stream",
     "text": [
      "----> Load model and make predictions (consensus). <----\n",
      "----> Create consensus summary. <----\n"
     ]
    }
   ],
   "source": [
    "model_path = '/home/diplomski-rad/blade/ont/datasets/n15-f-bacterium-racon-hax/model-23-cw.h5'\n",
    "reads_paths = [\n",
    "#     '/home/data/oxford_nanopore/bacteria/fusobacterium/nucleatum-23726/SRR6780922.fastq',\n",
    "#     '/home/data/oxford_nanopore/bacteria/fusobacterium/periodonticum/SRR6780924.fastq',\n",
    "#     '/home/data/oxford_nanopore/bacteria/fusobacterium/ulcerans/SRR6780916.fastq',\n",
    "    '/home/data/oxford_nanopore/bacteria/fusobacterium/varium/SRR6780912.fastq',\n",
    "#     '/home/data/oxford_nanopore/bacteria/fusobacterium/gonidiaformans/SRR6780920.fastq',\n",
    "#     '/home/data/oxford_nanopore/bacteria/fusobacterium/mortiferum/SRR6780914.fastq',\n",
    "#     '/home/data/oxford_nanopore/bacteria/fusobacterium/necrophorum/SRR6780918.fastq',\n",
    "#     '/home/data/oxford_nanopore/bacteria/fusobacterium/nucleatum-25586/SRR6830111.fastq',\n",
    "]\n",
    "assembly_paths = [\n",
    "#     '/home/diplomski-rad/blade/ont/fusobacterium-nucleatum-23726/iter2.fasta',\n",
    "#     '/home/diplomski-rad/blade/ont/fusobacterium-periodonticum/iter2.fasta',\n",
    "#     '/home/diplomski-rad/blade/ont/fusobacterium-ulcerans/iter2.fasta',\n",
    "    '/home/diplomski-rad/blade/ont/fusobacterium-varium/iter2.fasta',\n",
    "#     '/home/diplomski-rad/blade/ont/fusobacterium-gonidiaformans/iter2.fasta',\n",
    "#     '/home/diplomski-rad/blade/ont/fusobacterium-mortiferum/iter2.fasta',\n",
    "#     '/home/diplomski-rad/blade/ont/fusobacterium-necrophorum/iter2.fasta',\n",
    "#     '/home/diplomski-rad/blade/ont/fusobacterium-nucleatum-25586/iter2.fasta'\n",
    "    \n",
    "]\n",
    "reference_paths = [\n",
    "#     '/home/data/oxford_nanopore/bacteria/fusobacterium/nucleatum-23726/f-nucleatum-23726.fasta',\n",
    "#     '/home/data/oxford_nanopore/bacteria/fusobacterium/periodonticum/f-periodonticum.fasta',\n",
    "#     '/home/data/oxford_nanopore/bacteria/fusobacterium/ulcerans/f-ulcerans.fasta',\n",
    "    '/home/data/oxford_nanopore/bacteria/fusobacterium/varium/f-varium.fasta',\n",
    "#     '/home/data/oxford_nanopore/bacteria/fusobacterium/gonidiaformans/f-gonidiaformans.fasta',\n",
    "#     '/home/data/oxford_nanopore/bacteria/fusobacterium/mortiferum/f-motriferum.fasta',\n",
    "#     '/home/data/oxford_nanopore/bacteria/fusobacterium/necrophorum/f-necrophorum.fasta',\n",
    "#     '/home/data/oxford_nanopore/bacteria/fusobacterium/nucleatum-25586/f-nucleatum-25586.fasta',\n",
    "]\n",
    "sam_file_paths = [\n",
    "#     '/home/diplomski-rad/blade/ont/fusobacterium-nucleatum-23726/reads-to-asm.sam',\n",
    "#     '/home/diplomski-rad/blade/ont/fusobacterium-periodonticum/reads-to-asm.sam',\n",
    "#     '/home/diplomski-rad/blade/ont/fusobacterium-ulcerans/reads-to-asm.sam',\n",
    "    '/home/diplomski-rad/blade/ont/fusobacterium-varium/reads-to-asm.sam',\n",
    "#     '/home/diplomski-rad/blade/ont/fusobacterium-gonidiaformans/reads-to-asm.sam',\n",
    "#     '/home/diplomski-rad/blade/ont/fusobacterium-mortiferum/reads-to-asm.sam',\n",
    "#     '/home/diplomski-rad/blade/ont/fusobacterium-necrophorum/reads-to-asm.sam',\n",
    "#     '/home/diplomski-rad/blade/ont/fusobacterium-nucleatum-25586/reads-to-asm.sam',\n",
    "]\n",
    "neighbourhood_size = 15\n",
    "output_dirs = [\n",
    "#     './f-bact-nucleatum-23726-n15-model-23-cw-racon-hax',\n",
    "#     './f-bact-periodonticum-n15-model-23-cw-racon-hax',\n",
    "#     './f-bact-ulcerans-n15-model-23-cw-racon-hax',\n",
    "    './f-bact-varium-n15-model-23-cw-racon-hax',\n",
    "#     './f-bact-gonidiaformans-n15-model-23-cw-racon-hax',\n",
    "#     './f-bact-mortiferum-n15-model-23-cw-racon-hax',\n",
    "#     './f-bact-necrophorum-n15-model-23-cw-racon-hax',\n",
    "#     './f-bact-nucleatum-25586-n15-model-23-cw-racon-hax',\n",
    "]\n",
    "result_file_paths = [\n",
    "#     '/home/diplomski-rad/results/ont/fusobacterium-dataset/nucleatum-23726/n15-model-23-cw-all-contigs-racon-hax-report.txt',\n",
    "#     '/home/diplomski-rad/results/ont/fusobacterium-dataset/periodonticum/n15-model-23-cw-all-contigs-racon-hax-report.txt',\n",
    "#     '/home/diplomski-rad/results/ont/fusobacterium-dataset/ulcerans/n15-model-23-cw-all-contigs-racon-hax-report.txt',\n",
    "    '/home/diplomski-rad/results/ont/fusobacterium-dataset/varium/n15-model-23-cw-all-contigs-racon-hax-report.txt',\n",
    "#     '/home/diplomski-rad/results/ont/fusobacterium-dataset/gonidiaformans/n15-model-23-cw-all-contigs-racon-hax-report.txt',\n",
    "#     '/home/diplomski-rad/results/ont/fusobacterium-dataset/mortiferum/n15-model-23-cw-all-contigs-racon-hax-report.txt',\n",
    "#     '/home/diplomski-rad/results/ont/fusobacterium-dataset/necrophorum/n15-model-23-cw-all-contigs-racon-hax-report.txt',\n",
    "#     '/home/diplomski-rad/results/ont/fusobacterium-dataset/nucleatum-25586/n15-model-23-cw-all-contigs-racon-hax-report.txt',\n",
    "]\n",
    "tools_dir = '/home/diplomski-rad/'\n",
    "racon_hax_output_dir = './racon-hax-tmp-gpu-0'\n",
    "num_threads = 12\n",
    "\n",
    "for reads_path, assembly_path, reference_path, sam_file_path, output_dir, result_file_path in \\\n",
    "    zip(reads_paths, assembly_paths, reference_paths, sam_file_paths, output_dirs, result_file_paths):\n",
    "    \n",
    "    pileup_generator = pileups.RaconMSAGenerator(\n",
    "        reads_path,\n",
    "        sam_file_path,\n",
    "        assembly_path,\n",
    "        mode='inference',\n",
    "        tools_dir=tools_dir,\n",
    "        racon_hax_output_dir=racon_hax_output_dir,\n",
    "        num_threads=num_threads\n",
    "    )\n",
    "    \n",
    "    inference.make_consensus(\n",
    "        model_path, \n",
    "        reference_path,\n",
    "        pileup_generator,\n",
    "        neighbourhood_size,\n",
    "        output_dir,\n",
    "        tools_dir,\n",
    "        result_file_path)"
   ]
  },
  {
   "cell_type": "code",
   "execution_count": null,
   "metadata": {},
   "outputs": [],
   "source": []
  }
 ],
 "metadata": {
  "kernelspec": {
   "display_name": "Python 3",
   "language": "python",
   "name": "python3"
  },
  "language_info": {
   "codemirror_mode": {
    "name": "ipython",
    "version": 3
   },
   "file_extension": ".py",
   "mimetype": "text/x-python",
   "name": "python",
   "nbconvert_exporter": "python",
   "pygments_lexer": "ipython3",
   "version": "3.5.2"
  }
 },
 "nbformat": 4,
 "nbformat_minor": 2
}

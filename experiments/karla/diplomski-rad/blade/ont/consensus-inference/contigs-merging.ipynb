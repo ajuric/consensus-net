{
 "cells": [
  {
   "cell_type": "code",
   "execution_count": 1,
   "metadata": {},
   "outputs": [],
   "source": [
    "import pysam\n",
    "from Bio import SeqIO"
   ]
  },
  {
   "cell_type": "markdown",
   "metadata": {},
   "source": [
    "## Helper functions"
   ]
  },
  {
   "cell_type": "code",
   "execution_count": 2,
   "metadata": {},
   "outputs": [],
   "source": [
    "def _write_genome_to_fasta(contigs, fasta_file_path, contig_names):\n",
    "    with open(fasta_file_path, 'w') as f:\n",
    "        for contig, contig_name in zip(contigs, contig_names):\n",
    "            f.write('>{} LN:{}\\n'.format(contig_name, len(contig)))\n",
    "            f.write('{}\\n'.format(contig))"
   ]
  },
  {
   "cell_type": "markdown",
   "metadata": {},
   "source": [
    "## Read data"
   ]
  },
  {
   "cell_type": "code",
   "execution_count": 3,
   "metadata": {},
   "outputs": [
    {
     "name": "stdout",
     "output_type": "stream",
     "text": [
      "id: contig_0\n",
      "name: contig_0\n",
      "reverse_complement: ID: <unknown id>\n",
      "Name: <unknown name>\n",
      "Description: <unknown description>\n",
      "Number of features: 0\n",
      "Seq('TCCAATTTCTCTATATATTCTCGAGCACTTTCAACAACATCACACAAAATCATC...TTA', SingleLetterAlphabet())\n",
      "seq: TAAAACTCTT\n",
      "len: 2542381\n",
      "description: contig_0 LN:2542381\n",
      "features: []\n",
      "record:\n",
      " ID: contig_0\n",
      "Name: contig_0\n",
      "Description: contig_0 LN:2542381\n",
      "Number of features: 0\n",
      "Seq('TAAAACTCTTGTTGACCCATTCATTGGAAAAATATCATTGTTTAAAATTAATTC...GGA', SingleLetterAlphabet())\n",
      "\n",
      "id: contig_1\n",
      "name: contig_1\n",
      "reverse_complement: ID: <unknown id>\n",
      "Name: <unknown name>\n",
      "Description: <unknown description>\n",
      "Number of features: 0\n",
      "Seq('TGTAACTTCTCCACCTAATCCATTTTCAATATTAGTTATATTCCCAATTGAATC...TCA', SingleLetterAlphabet())\n",
      "seq: TGACTATTTT\n",
      "len: 670332\n",
      "description: contig_1 LN:670332\n",
      "features: []\n",
      "record:\n",
      " ID: contig_1\n",
      "Name: contig_1\n",
      "Description: contig_1 LN:670332\n",
      "Number of features: 0\n",
      "Seq('TGACTATTTTGGTACTAAAGAAAGACGAGTAATAGATGAAGAAAGAGAATTTAA...ACA', SingleLetterAlphabet())\n",
      "\n",
      "id: contig_2\n",
      "name: contig_2\n",
      "reverse_complement: ID: <unknown id>\n",
      "Name: <unknown name>\n",
      "Description: <unknown description>\n",
      "Number of features: 0\n",
      "Seq('AATACTTTTATATTCTTTTCAACTTAAAACTATATAATTCAATTTTATCATACT...CAA', SingleLetterAlphabet())\n",
      "seq: TTGTAAGTTT\n",
      "len: 77317\n",
      "description: contig_2 LN:77317\n",
      "features: []\n",
      "record:\n",
      " ID: contig_2\n",
      "Name: contig_2\n",
      "Description: contig_2 LN:77317\n",
      "Number of features: 0\n",
      "Seq('TTGTAAGTTTTTCTGAAAGATTAGTAATAAACCCTAAACTCTATATAGATTCTG...ATT', SingleLetterAlphabet())\n",
      "\n"
     ]
    }
   ],
   "source": [
    "for record in SeqIO.parse('./f-bact-varium-n15-model-23-racon-hax/consensus.fasta', 'fasta'):\n",
    "    print('id:', record.id)\n",
    "    print('name:', record.name)\n",
    "    print('reverse_complement:', record.reverse_complement())\n",
    "    print('seq:', record.seq[:10])\n",
    "    print('len:', len(record.seq))\n",
    "    print('description:', record.description)\n",
    "    print('features:', record.features)\n",
    "    print('record:\\n', record)\n",
    "    print()"
   ]
  },
  {
   "cell_type": "code",
   "execution_count": 4,
   "metadata": {},
   "outputs": [
    {
     "name": "stdout",
     "output_type": "stream",
     "text": [
      "id: CP028103.1\n",
      "name: CP028103.1\n",
      "reverse_complement: ID: <unknown id>\n",
      "Name: <unknown name>\n",
      "Description: <unknown description>\n",
      "Number of features: 0\n",
      "Seq('AAAAGTGGATTTTAACAGTTTTTCTTTTGATATTTTTTACAGCTTTTTCATCAG...TGA', SingleLetterAlphabet())\n",
      "seq: TCATTCTTTC\n",
      "len: 3303644\n",
      "\n"
     ]
    }
   ],
   "source": [
    "for record in SeqIO.parse('/home/data/oxford_nanopore/bacteria/fusobacterium/varium/f-varium.fasta', 'fasta'):\n",
    "    print('id:', record.id)\n",
    "    print('name:', record.name)\n",
    "    print('reverse_complement:', record.reverse_complement())\n",
    "    print('seq:', record.seq[:10])\n",
    "    print('len:', len(record.seq))\n",
    "    print()"
   ]
  },
  {
   "cell_type": "markdown",
   "metadata": {},
   "source": [
    "## Output good order"
   ]
  },
  {
   "cell_type": "code",
   "execution_count": 5,
   "metadata": {},
   "outputs": [],
   "source": [
    "contigs = list()\n",
    "for record in SeqIO.parse('./f-bact-varium-n15-model-23-racon-hax/consensus.fasta', 'fasta'):\n",
    "    contigs.append(record)\n",
    "\n",
    "good_order = [0, 1, 2]\n",
    "is_foorward = [True, True, False]\n",
    "seq = ''\n",
    "for order_index in good_order:\n",
    "    seq += contigs[order_index].seq if is_foorward[order_index] else contigs[order_index].reverse_complement().seq\n",
    "\n",
    "_write_genome_to_fasta([seq], './f-bact-varium-n15-model-23-racon-hax/consensus-merged-contigs.fasta', ['contig_0'])"
   ]
  },
  {
   "cell_type": "markdown",
   "metadata": {},
   "source": [
    "## Test"
   ]
  },
  {
   "cell_type": "code",
   "execution_count": 21,
   "metadata": {},
   "outputs": [
    {
     "name": "stdout",
     "output_type": "stream",
     "text": [
      ">contig_0 LN:3310449\n",
      ">contig_1 LN:870763\n",
      ">contig_2 LN:98150\n",
      "2542381\n",
      "670332\n",
      "77317\n"
     ]
    }
   ],
   "source": [
    "new_contigs = list()\n",
    "new_contig = ''\n",
    "with open('./f-bact-varium-n15-model-23-racon-hax/consensus.fasta') as f:\n",
    "    for line in f:\n",
    "        line = line.strip()\n",
    "        if line.startswith('>'):\n",
    "            print(line)\n",
    "            if len(new_contig) > 0:\n",
    "                new_contigs.append(new_contig)\n",
    "                new_contig = ''\n",
    "        else:\n",
    "            new_contig += line\n",
    "    if len(new_contig) > 0:\n",
    "        new_contigs.append(new_contig)\n",
    "        new_contig = ''\n",
    "\n",
    "for c in new_contigs:\n",
    "    print(len(c))\n",
    "    \n",
    "_write_genome_to_fasta(new_contigs, './f-bact-varium-n15-model-23-racon-hax/consensus-test.fasta', ['contig_0', 'contig_1', 'contig_2'])"
   ]
  },
  {
   "cell_type": "code",
   "execution_count": 28,
   "metadata": {},
   "outputs": [
    {
     "name": "stdout",
     "output_type": "stream",
     "text": [
      "5\n",
      "abcd\n"
     ]
    }
   ],
   "source": [
    "t = [c for c in ['a', 'b', 'c', '', 'd']]\n",
    "print(len(t))\n",
    "print(''.join(t))"
   ]
  },
  {
   "cell_type": "code",
   "execution_count": 29,
   "metadata": {},
   "outputs": [
    {
     "name": "stdout",
     "output_type": "stream",
     "text": [
      ">contig_0 LN:3742712\n",
      "2536109\n"
     ]
    }
   ],
   "source": [
    "new_contigs = list()\n",
    "new_contig = ''\n",
    "with open('./f-bact-periodonticum-n15-model-11-racon-hax/consensus.fasta') as f:\n",
    "    for line in f:\n",
    "        line = line.strip()\n",
    "        if line.startswith('>'):\n",
    "            print(line)\n",
    "            if len(new_contig) > 0:\n",
    "                new_contigs.append(new_contig)\n",
    "                new_contig = ''\n",
    "        else:\n",
    "            new_contig += line\n",
    "    if len(new_contig) > 0:\n",
    "        new_contigs.append(new_contig)\n",
    "        new_contig = ''\n",
    "\n",
    "for c in new_contigs:\n",
    "    print(len(c))\n",
    "    \n",
    "# _write_genome_to_fasta(new_contigs, './f-bact-varium-n15-model-23-racon-hax/consensus-test.fasta', ['contig_0', 'contig_1', 'contig_2'])"
   ]
  },
  {
   "cell_type": "code",
   "execution_count": null,
   "metadata": {},
   "outputs": [],
   "source": []
  }
 ],
 "metadata": {
  "kernelspec": {
   "display_name": "Python 3",
   "language": "python",
   "name": "python3"
  },
  "language_info": {
   "codemirror_mode": {
    "name": "ipython",
    "version": 3
   },
   "file_extension": ".py",
   "mimetype": "text/x-python",
   "name": "python",
   "nbconvert_exporter": "python",
   "pygments_lexer": "ipython3",
   "version": "3.5.2"
  }
 },
 "nbformat": 4,
 "nbformat_minor": 2
}

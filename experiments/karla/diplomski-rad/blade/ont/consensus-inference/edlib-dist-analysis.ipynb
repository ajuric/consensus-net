{
 "cells": [
  {
   "cell_type": "code",
   "execution_count": 2,
   "metadata": {},
   "outputs": [],
   "source": [
    "import edlib\n",
    "from multiprocessing import Pool"
   ]
  },
  {
   "cell_type": "markdown",
   "metadata": {},
   "source": [
    "## Calculate edlib distance and number of Ns"
   ]
  },
  {
   "cell_type": "code",
   "execution_count": null,
   "metadata": {},
   "outputs": [],
   "source": [
    "reference_paths = [\n",
    "    '/home/data/oxford_nanopore/bacteria/fusobacterium/nucleatum-23726/f-nucleatum-23726.fasta',\n",
    "    '/home/data/oxford_nanopore/bacteria/fusobacterium/periodonticum/f-periodonticum.fasta',\n",
    "    '/home/data/oxford_nanopore/bacteria/fusobacterium/ulcerans/f-ulcerans.fasta',\n",
    "    '/home/data/oxford_nanopore/bacteria/fusobacterium/varium/f-varium.fasta',\n",
    "    '/home/data/oxford_nanopore/bacteria/fusobacterium/gonidiaformans/f-gonidiaformans.fasta',\n",
    "    '/home/data/oxford_nanopore/bacteria/fusobacterium/mortiferum/f-motriferum.fasta',\n",
    "    '/home/data/oxford_nanopore/bacteria/fusobacterium/necrophorum/f-necrophorum.fasta',\n",
    "    '/home/data/oxford_nanopore/bacteria/fusobacterium/nucleatum-25586/f-nucleatum-25586.fasta',\n",
    "]"
   ]
  }
 ],
 "metadata": {
  "kernelspec": {
   "display_name": "Python 3",
   "language": "python",
   "name": "python3"
  },
  "language_info": {
   "codemirror_mode": {
    "name": "ipython",
    "version": 3
   },
   "file_extension": ".py",
   "mimetype": "text/x-python",
   "name": "python",
   "nbconvert_exporter": "python",
   "pygments_lexer": "ipython3",
   "version": "3.5.2"
  }
 },
 "nbformat": 4,
 "nbformat_minor": 2
}

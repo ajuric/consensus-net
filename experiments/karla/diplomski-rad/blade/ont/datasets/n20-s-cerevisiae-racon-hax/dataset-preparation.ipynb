{
 "cells": [
  {
   "cell_type": "code",
   "execution_count": 1,
   "metadata": {},
   "outputs": [
    {
     "name": "stdout",
     "output_type": "stream",
     "text": [
      "Adding dataset module.\n"
     ]
    }
   ],
   "source": [
    "import numpy as np\n",
    "\n",
    "import sys\n",
    "module_path = '/home/diplomski-rad/consensus-net/src/python/dataset/'\n",
    "if module_path not in sys.path:\n",
    "    print('Adding dataset module.')\n",
    "    sys.path.append(module_path)\n",
    "\n",
    "import dataset"
   ]
  },
  {
   "cell_type": "markdown",
   "metadata": {},
   "source": [
    "## Create dataset with neighbourhood"
   ]
  },
  {
   "cell_type": "code",
   "execution_count": 2,
   "metadata": {},
   "outputs": [
    {
     "name": "stdout",
     "output_type": "stream",
     "text": [
      "Parsing pileup pair 0\n"
     ]
    },
    {
     "name": "stderr",
     "output_type": "stream",
     "text": [
      "  0% (2424 of 12157105) |                | Elapsed Time: 0:00:00 ETA:   0:16:44"
     ]
    },
    {
     "name": "stdout",
     "output_type": "stream",
     "text": [
      "Creating dataset with neighbourhood ...\n"
     ]
    },
    {
     "name": "stderr",
     "output_type": "stream",
     "text": [
      "100% (12157105 of 12157105) |############| Elapsed Time: 0:13:58 Time:  0:13:58\n"
     ]
    },
    {
     "name": "stdout",
     "output_type": "stream",
     "text": [
      "Parsing pileup pair 1\n"
     ]
    },
    {
     "name": "stderr",
     "output_type": "stream",
     "text": [
      "  0% (3579 of 12157105) |                | Elapsed Time: 0:00:00 ETA:   0:11:20"
     ]
    },
    {
     "name": "stdout",
     "output_type": "stream",
     "text": [
      "Creating dataset with neighbourhood ...\n"
     ]
    },
    {
     "name": "stderr",
     "output_type": "stream",
     "text": [
      "100% (12157105 of 12157105) |############| Elapsed Time: 0:14:55 Time:  0:14:55\n"
     ]
    }
   ],
   "source": [
    "X_paths = [\n",
    "    '/home/diplomski-rad/blade/ont/racon-hax-pileups/s-cerevisiae-r7-racon-MSA/pileups-X-0.npy',\n",
    "    '/home/diplomski-rad/blade/ont/racon-hax-pileups/s-cerevisiae-r9-racon-MSA/pileups-X-0.npy'\n",
    "]\n",
    "y_paths = [\n",
    "    '/home/diplomski-rad/blade/ont/racon-hax-pileups/s-cerevisiae-r7-racon-MSA/pileups-y-0.npy',\n",
    "    '/home/diplomski-rad/blade/ont/racon-hax-pileups/s-cerevisiae-r9-racon-MSA/pileups-y-0.npy'\n",
    "]\n",
    "neighbourhood_size = 20\n",
    "save_directory_path = './'\n",
    "\n",
    "X, y = dataset.create_dataset_with_neighbourhood(neighbourhood_size, mode='training',\n",
    "    X_paths=X_paths, y_paths=y_paths)\n",
    "\n",
    "X, y = X[0], y[0]"
   ]
  },
  {
   "cell_type": "markdown",
   "metadata": {},
   "source": [
    "## Split train and val dataset"
   ]
  },
  {
   "cell_type": "code",
   "execution_count": 3,
   "metadata": {},
   "outputs": [],
   "source": [
    "from sklearn.model_selection import train_test_split\n",
    "\n",
    "validation_size = 0.1\n",
    "\n",
    "X_train, X_validate, y_train, y_validate = train_test_split(\n",
    "            X, y, test_size=validation_size)"
   ]
  },
  {
   "cell_type": "code",
   "execution_count": 4,
   "metadata": {},
   "outputs": [],
   "source": [
    "np.save('./dataset-n20-X-train', X_train)\n",
    "np.save('./dataset-n20-X-validate', X_validate)\n",
    "np.save('./dataset-n20-y-train', y_train)\n",
    "np.save('./dataset-n20-y-validate', y_validate)"
   ]
  },
  {
   "cell_type": "code",
   "execution_count": null,
   "metadata": {},
   "outputs": [],
   "source": []
  }
 ],
 "metadata": {
  "kernelspec": {
   "display_name": "Python 3",
   "language": "python",
   "name": "python3"
  },
  "language_info": {
   "codemirror_mode": {
    "name": "ipython",
    "version": 3
   },
   "file_extension": ".py",
   "mimetype": "text/x-python",
   "name": "python",
   "nbconvert_exporter": "python",
   "pygments_lexer": "ipython3",
   "version": "3.5.2"
  }
 },
 "nbformat": 4,
 "nbformat_minor": 2
}

{
 "cells": [
  {
   "cell_type": "code",
   "execution_count": 1,
   "metadata": {},
   "outputs": [
    {
     "name": "stdout",
     "output_type": "stream",
     "text": [
      "Adding dataset module.\n"
     ]
    }
   ],
   "source": [
    "import numpy as np\n",
    "\n",
    "import sys\n",
    "module_path = '/home/diplomski-rad/consensus-net/src/python/dataset/'\n",
    "if module_path not in sys.path:\n",
    "    print('Adding dataset module.')\n",
    "    sys.path.append(module_path)\n",
    "\n",
    "import dataset"
   ]
  },
  {
   "cell_type": "markdown",
   "metadata": {},
   "source": [
    "## Create dataset with neighbourhood"
   ]
  },
  {
   "cell_type": "code",
   "execution_count": 3,
   "metadata": {},
   "outputs": [
    {
     "name": "stderr",
     "output_type": "stream",
     "text": [
      "  0% (3459 of 12682994) |                | Elapsed Time: 0:00:00 ETA:   0:12:13"
     ]
    },
    {
     "name": "stdout",
     "output_type": "stream",
     "text": [
      "Creating dataset with neighbourhood ...\n"
     ]
    },
    {
     "name": "stderr",
     "output_type": "stream",
     "text": [
      " 19% (2453320 of 12682994) |##           | Elapsed Time: 0:02:15 ETA:   4:18:27"
     ]
    },
    {
     "name": "stdout",
     "output_type": "stream",
     "text": [
      "Creating dataset with neighbourhood ...\n"
     ]
    },
    {
     "name": "stderr",
     "output_type": "stream",
     "text": [
      " 49% (6263012 of 12682994) |######       | Elapsed Time: 0:05:43 ETA:   5:29:25"
     ]
    },
    {
     "name": "stdout",
     "output_type": "stream",
     "text": [
      "Creating dataset with neighbourhood ...\n"
     ]
    },
    {
     "name": "stderr",
     "output_type": "stream",
     "text": [
      " 75% (9551571 of 12682994) |#########    | Elapsed Time: 0:08:42 ETA:   1:42:36"
     ]
    },
    {
     "name": "stdout",
     "output_type": "stream",
     "text": [
      "Creating dataset with neighbourhood ...\n"
     ]
    },
    {
     "name": "stderr",
     "output_type": "stream",
     "text": [
      "100% (12682994 of 12682994) |############| Elapsed Time: 0:11:32 Time:  0:11:32\n"
     ]
    }
   ],
   "source": [
    "X_paths = [\n",
    "    '/home/diplomski-rad/blade/ont/racon-hax-pileups/f-gonidiaformans-racon-MSA/pileups-X-0.npy',\n",
    "    '/home/diplomski-rad/blade/ont/racon-hax-pileups/f-mortiferum-racon-MSA/pileups-X-0.npy',\n",
    "    '/home/diplomski-rad/blade/ont/racon-hax-pileups/f-necrophorum-racon-MSA/pileups-X-0.npy',\n",
    "#     '/home/diplomski-rad/blade/ont/racon-hax-pileups/f-nucleatum-23726-racon-MSA/pileups-X-0.npy',\n",
    "    '/home/diplomski-rad/blade/ont/racon-hax-pileups/f-nucleatum-25586-racon-MSA/pileups-X-0.npy',\n",
    "#     '/home/diplomski-rad/blade/ont/racon-hax-pileups/f-periodonticum-racon-MSA/pileups-X-0.npy',\n",
    "#     '/home/diplomski-rad/blade/ont/racon-hax-pileups/f-ulcerans-racon-MSA/pileups-X-0.npy',\n",
    "#     '/home/diplomski-rad/blade/ont/racon-hax-pileups/f-varium-racon-MSA/pileups-X-0.npy',\n",
    "]\n",
    "y_paths = [\n",
    "    '/home/diplomski-rad/blade/ont/racon-hax-pileups/f-gonidiaformans-racon-MSA/pileups-y-0.npy',\n",
    "    '/home/diplomski-rad/blade/ont/racon-hax-pileups/f-mortiferum-racon-MSA/pileups-y-0.npy',\n",
    "    '/home/diplomski-rad/blade/ont/racon-hax-pileups/f-necrophorum-racon-MSA/pileups-y-0.npy',\n",
    "#     '/home/diplomski-rad/blade/ont/racon-hax-pileups/f-nucleatum-23726-racon-MSA/pileups-y-0.npy',\n",
    "    '/home/diplomski-rad/blade/ont/racon-hax-pileups/f-nucleatum-25586-racon-MSA/pileups-y-0.npy',\n",
    "#     '/home/diplomski-rad/blade/ont/racon-hax-pileups/f-periodonticum-racon-MSA/pileups-y-0.npy',\n",
    "#     '/home/diplomski-rad/blade/ont/racon-hax-pileups/f-ulcerans-racon-MSA/pileups-y-0.npy',\n",
    "#     '/home/diplomski-rad/blade/ont/racon-hax-pileups/f-varium-racon-MSA/pileups-y-0.npy',\n",
    "]\n",
    "neighbourhood_size = 20\n",
    "save_directory_path = './'\n",
    "\n",
    "X, y = dataset.create_dataset_with_neighbourhood(neighbourhood_size, mode='training',\n",
    "    X_paths=X_paths, y_paths=y_paths)\n",
    "\n",
    "X, y = X[0], y[0]"
   ]
  },
  {
   "cell_type": "markdown",
   "metadata": {},
   "source": [
    "## Split train and val dataset"
   ]
  },
  {
   "cell_type": "code",
   "execution_count": 4,
   "metadata": {},
   "outputs": [],
   "source": [
    "from sklearn.model_selection import train_test_split\n",
    "\n",
    "validation_size = 0.1\n",
    "\n",
    "X_train, X_validate, y_train, y_validate = train_test_split(\n",
    "            X, y, test_size=validation_size)"
   ]
  },
  {
   "cell_type": "code",
   "execution_count": 5,
   "metadata": {},
   "outputs": [],
   "source": [
    "np.save('./dataset-n20-X-train', X_train)\n",
    "np.save('./dataset-n20-X-validate', X_validate)\n",
    "np.save('./dataset-n20-y-train', y_train)\n",
    "np.save('./dataset-n20-y-validate', y_validate)"
   ]
  },
  {
   "cell_type": "markdown",
   "metadata": {},
   "source": [
    "## Calculate class weight"
   ]
  },
  {
   "cell_type": "code",
   "execution_count": 2,
   "metadata": {},
   "outputs": [],
   "source": [
    "from sklearn.utils.class_weight import compute_class_weight\n",
    "\n",
    "X_train = np.load('./dataset-n20-X-train.npy')\n",
    "X_validate = np.load('./dataset-n20-X-validate.npy')\n",
    "y_train = np.load('./dataset-n20-y-train.npy')\n",
    "y_validate = np.load('./dataset-n20-y-validate.npy')"
   ]
  },
  {
   "cell_type": "code",
   "execution_count": 3,
   "metadata": {},
   "outputs": [],
   "source": [
    "y_train_int = np.argmax(y_train, axis=1)\n",
    "y_validate_int = np.argmax(y_validate, axis=1)\n",
    "\n",
    "class_weights_train = compute_class_weight('balanced', np.unique(y_train_int), y_train_int)\n",
    "dict_class_weights_train = dict(enumerate(class_weights_train))\n",
    "\n",
    "class_weights_validate = compute_class_weight('balanced', np.unique(y_validate_int), y_validate_int)\n",
    "dict_class_weights_validate = dict(enumerate(class_weights_validate))"
   ]
  },
  {
   "cell_type": "code",
   "execution_count": 4,
   "metadata": {},
   "outputs": [],
   "source": [
    "np.save('class_weight_train', dict_class_weights_train)\n",
    "np.save('class_weight_validate', dict_class_weights_validate)"
   ]
  },
  {
   "cell_type": "code",
   "execution_count": null,
   "metadata": {},
   "outputs": [],
   "source": []
  }
 ],
 "metadata": {
  "kernelspec": {
   "display_name": "Python 3",
   "language": "python",
   "name": "python3"
  },
  "language_info": {
   "codemirror_mode": {
    "name": "ipython",
    "version": 3
   },
   "file_extension": ".py",
   "mimetype": "text/x-python",
   "name": "python",
   "nbconvert_exporter": "python",
   "pygments_lexer": "ipython3",
   "version": "3.5.2"
  }
 },
 "nbformat": 4,
 "nbformat_minor": 2
}

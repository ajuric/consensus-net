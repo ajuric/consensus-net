{
 "cells": [
  {
   "cell_type": "code",
   "execution_count": 3,
   "metadata": {},
   "outputs": [],
   "source": [
    "import numpy as np\n",
    "\n",
    "import sys\n",
    "module_path = '/home/diplomski-rad/consensus-net/src/python/dataset/'\n",
    "if module_path not in sys.path:\n",
    "    print('Adding dataset module.')\n",
    "    sys.path.append(module_path)\n",
    "\n",
    "import dataset"
   ]
  },
  {
   "cell_type": "markdown",
   "metadata": {},
   "source": [
    "## Create dataset with neighbourhood"
   ]
  },
  {
   "cell_type": "code",
   "execution_count": 3,
   "metadata": {},
   "outputs": [
    {
     "name": "stdout",
     "output_type": "stream",
     "text": [
      "Parsing  /home/diplomski-rad/blade/ont/pileups/s-cerevisiae-r7-288c/pileups-X-0-indels.npy  and  /home/diplomski-rad/blade/ont/pileups/s-cerevisiae-r7-288c/pileups-y-0.npy\n"
     ]
    },
    {
     "name": "stderr",
     "output_type": "stream",
     "text": [
      "  0% (4314 of 12157105) |                | Elapsed Time: 0:00:00 ETA:   0:09:23"
     ]
    },
    {
     "name": "stdout",
     "output_type": "stream",
     "text": [
      "Creating dataset with neighbourhood ...\n"
     ]
    },
    {
     "name": "stderr",
     "output_type": "stream",
     "text": [
      "100% (12157105 of 12157105) |############| Elapsed Time: 0:09:56 Time:  0:09:56\n"
     ]
    },
    {
     "name": "stdout",
     "output_type": "stream",
     "text": [
      "Parsing  /home/diplomski-rad/blade/ont/pileups/s-cerevisiae-r9-288c/pileups-X-0-indels.npy  and  /home/diplomski-rad/blade/ont/pileups/s-cerevisiae-r9-288c/pileups-y-0.npy\n"
     ]
    },
    {
     "name": "stderr",
     "output_type": "stream",
     "text": [
      "  0% (4186 of 12157105) |                | Elapsed Time: 0:00:00 ETA:   0:09:41"
     ]
    },
    {
     "name": "stdout",
     "output_type": "stream",
     "text": [
      "Creating dataset with neighbourhood ...\n"
     ]
    },
    {
     "name": "stderr",
     "output_type": "stream",
     "text": [
      "100% (12157105 of 12157105) |############| Elapsed Time: 0:10:08 Time:  0:10:08\n"
     ]
    }
   ],
   "source": [
    "X_paths = ['/home/diplomski-rad/blade/ont/pileups/s-cerevisiae-r7-288c/pileups-X-0-indels.npy',\n",
    "           '/home/diplomski-rad/blade/ont/pileups/s-cerevisiae-r9-288c/pileups-X-0-indels.npy']\n",
    "y_paths = ['/home/diplomski-rad/blade/ont/pileups/s-cerevisiae-r7-288c/pileups-y-0.npy',\n",
    "           '/home/diplomski-rad/blade/ont/pileups/s-cerevisiae-r9-288c/pileups-y-0.npy']\n",
    "neighbourhood_size = 20\n",
    "save_directory_path = './'\n",
    "\n",
    "X, y, X_save_paths, y_save_paths = dataset.create_dataset_with_neighbourhood(\n",
    "    X_paths, y_paths, neighbourhood_size, mode='training', save_directory_path=save_directory_path)\n",
    "\n",
    "X, y = X[0], y[0]"
   ]
  },
  {
   "cell_type": "markdown",
   "metadata": {},
   "source": [
    "## Reshape for convolutional nets"
   ]
  },
  {
   "cell_type": "code",
   "execution_count": 4,
   "metadata": {},
   "outputs": [
    {
     "name": "stderr",
     "output_type": "stream",
     "text": [
      "  0% (2286 of 24307727) |                | Elapsed Time: 0:00:00 ETA:   0:17:44"
     ]
    },
    {
     "name": "stdout",
     "output_type": "stream",
     "text": [
      "X shape before reshaping: (24307727, 41, 6)\n",
      "y shape before reshaping: (24307727, 4)\n"
     ]
    },
    {
     "name": "stderr",
     "output_type": "stream",
     "text": [
      "100% (24307727 of 24307727) |############| Elapsed Time: 0:20:39 Time:  0:20:39\n"
     ]
    },
    {
     "name": "stdout",
     "output_type": "stream",
     "text": [
      "X shape after reshaping: (24307727, 41, 1, 6)\n",
      "y shape after reshaping: (24307727, 4)\n",
      "Splitting to train and validation set.\n",
      "X_train shape: (21876954, 41, 1, 6)\n",
      "X_validate shape: (2430773, 41, 1, 6)\n",
      "y_train: (21876954, 4)\n",
      "y_validate: (2430773, 4)\n"
     ]
    }
   ],
   "source": [
    "X, y, X_train, X_validate, y_train, y_validate = dataset.read_dataset_and_reshape_for_conv(\n",
    "    ['./X-pileups-n20-0.npy'], ['./y-pileups-n20-0.npy'], 0.1)"
   ]
  },
  {
   "cell_type": "code",
   "execution_count": 5,
   "metadata": {},
   "outputs": [],
   "source": [
    "np.save('./dataset-n20-X-reshaped', X)\n",
    "np.save('./dataset-n20-y-reshaped', y)\n",
    "np.save('./dataset-n20-X-reshaped-train', X_train)\n",
    "np.save('./dataset-n20-X-reshaped-validate', X_validate)\n",
    "np.save('./dataset-n20-y-reshaped-train', y_train)\n",
    "np.save('./dataset-n20-y-reshaped-validate', y_validate)"
   ]
  },
  {
   "cell_type": "code",
   "execution_count": null,
   "metadata": {},
   "outputs": [],
   "source": []
  }
 ],
 "metadata": {
  "kernelspec": {
   "display_name": "Python 3",
   "language": "python",
   "name": "python3"
  },
  "language_info": {
   "codemirror_mode": {
    "name": "ipython",
    "version": 3
   },
   "file_extension": ".py",
   "mimetype": "text/x-python",
   "name": "python",
   "nbconvert_exporter": "python",
   "pygments_lexer": "ipython3",
   "version": "3.5.2"
  }
 },
 "nbformat": 4,
 "nbformat_minor": 2
}

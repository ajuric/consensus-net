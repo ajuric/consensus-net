{
 "cells": [
  {
   "cell_type": "code",
   "execution_count": 1,
   "metadata": {},
   "outputs": [
    {
     "name": "stdout",
     "output_type": "stream",
     "text": [
      "Adding dataset module.\n"
     ]
    }
   ],
   "source": [
    "import numpy as np\n",
    "\n",
    "import sys\n",
    "module_path = '/home/diplomski-rad/consensus-net/src/python/dataset/'\n",
    "if module_path not in sys.path:\n",
    "    print('Adding dataset module.')\n",
    "    sys.path.append(module_path)\n",
    "\n",
    "import dataset"
   ]
  },
  {
   "cell_type": "markdown",
   "metadata": {},
   "source": [
    "## Create dataset with neighbourhood"
   ]
  },
  {
   "cell_type": "code",
   "execution_count": 2,
   "metadata": {},
   "outputs": [
    {
     "name": "stdout",
     "output_type": "stream",
     "text": [
      "Parsing  /home/diplomski-rad/blade/ont/pileups/s-cerevisiae-r7-288c-indel-classes/pileups-X-0-indels.npy  and  /home/diplomski-rad/blade/ont/pileups/s-cerevisiae-r7-288c-indel-classes/pileups-y-0.npy\n"
     ]
    },
    {
     "name": "stderr",
     "output_type": "stream",
     "text": [
      "  0% (3707 of 12157105) |                | Elapsed Time: 0:00:00 ETA:   0:10:57"
     ]
    },
    {
     "name": "stdout",
     "output_type": "stream",
     "text": [
      "Creating dataset with neighbourhood ...\n"
     ]
    },
    {
     "name": "stderr",
     "output_type": "stream",
     "text": [
      "100% (12157105 of 12157105) |############| Elapsed Time: 0:09:52 Time:  0:09:52\n"
     ]
    },
    {
     "name": "stdout",
     "output_type": "stream",
     "text": [
      "Parsing  /home/diplomski-rad/blade/ont/pileups/s-cerevisiae-r9-288c-indel-classes/pileups-X-0-indels.npy  and  /home/diplomski-rad/blade/ont/pileups/s-cerevisiae-r9-288c-indel-classes/pileups-y-0.npy\n"
     ]
    },
    {
     "name": "stderr",
     "output_type": "stream",
     "text": [
      "  0% (4047 of 12157105) |                | Elapsed Time: 0:00:00 ETA:   0:10:01"
     ]
    },
    {
     "name": "stdout",
     "output_type": "stream",
     "text": [
      "Creating dataset with neighbourhood ...\n"
     ]
    },
    {
     "name": "stderr",
     "output_type": "stream",
     "text": [
      "100% (12157105 of 12157105) |############| Elapsed Time: 0:10:18 Time:  0:10:18\n"
     ]
    }
   ],
   "source": [
    "X_paths = ['/home/diplomski-rad/blade/ont/pileups/s-cerevisiae-r7-288c-indel-classes/pileups-X-0-indels.npy',\n",
    "           '/home/diplomski-rad/blade/ont/pileups/s-cerevisiae-r9-288c-indel-classes/pileups-X-0-indels.npy']\n",
    "y_paths = ['/home/diplomski-rad/blade/ont/pileups/s-cerevisiae-r7-288c-indel-classes/pileups-y-0.npy',\n",
    "           '/home/diplomski-rad/blade/ont/pileups/s-cerevisiae-r9-288c-indel-classes/pileups-y-0.npy']\n",
    "neighbourhood_size = 15\n",
    "save_directory_path = './'\n",
    "\n",
    "X, y, X_save_paths, y_save_paths = dataset.create_dataset_with_neighbourhood(\n",
    "    X_paths, y_paths, neighbourhood_size, mode='training', save_directory_path=save_directory_path)\n",
    "\n",
    "X, y = X[0], y[0]"
   ]
  },
  {
   "cell_type": "markdown",
   "metadata": {},
   "source": [
    "## Reshape for convolutional nets"
   ]
  },
  {
   "cell_type": "code",
   "execution_count": null,
   "metadata": {},
   "outputs": [
    {
     "name": "stderr",
     "output_type": "stream",
     "text": [
      "  0% (2221 of 24307887) |                | Elapsed Time: 0:00:00 ETA:   0:18:15"
     ]
    },
    {
     "name": "stdout",
     "output_type": "stream",
     "text": [
      "X shape before reshaping: (24307887, 31, 6)\n",
      "y shape before reshaping: (24307887, 6)\n"
     ]
    },
    {
     "name": "stderr",
     "output_type": "stream",
     "text": [
      " 48% (11905544 of 24307887) |#####       | Elapsed Time: 0:09:03 ETA:   0:09:16"
     ]
    }
   ],
   "source": [
    "X, y, X_train, X_validate, y_train, y_validate = dataset.read_dataset_and_reshape_for_conv(\n",
    "    X_save_paths, y_save_paths, 0.1)"
   ]
  },
  {
   "cell_type": "code",
   "execution_count": null,
   "metadata": {},
   "outputs": [],
   "source": [
    "np.save('./dataset-n15-X-reshaped', X)\n",
    "np.save('./dataset-n15-y-reshaped', y)\n",
    "np.save('./dataset-n15-X-reshaped-train', X_train)\n",
    "np.save('./dataset-n15-X-reshaped-validate', X_validate)\n",
    "np.save('./dataset-n15-y-reshaped-train', y_train)\n",
    "np.save('./dataset-n15-y-reshaped-validate', y_validate)"
   ]
  },
  {
   "cell_type": "code",
   "execution_count": null,
   "metadata": {},
   "outputs": [],
   "source": []
  }
 ],
 "metadata": {
  "kernelspec": {
   "display_name": "Python 3",
   "language": "python",
   "name": "python3"
  },
  "language_info": {
   "codemirror_mode": {
    "name": "ipython",
    "version": 3
   },
   "file_extension": ".py",
   "mimetype": "text/x-python",
   "name": "python",
   "nbconvert_exporter": "python",
   "pygments_lexer": "ipython3",
   "version": "3.5.2"
  }
 },
 "nbformat": 4,
 "nbformat_minor": 2
}

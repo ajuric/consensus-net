{
 "cells": [
  {
   "cell_type": "code",
   "execution_count": 5,
   "metadata": {},
   "outputs": [],
   "source": [
    "import sys\n",
    "\n",
    "module_path = '/home/diplomski-rad/consensus-net/src/python/training/'\n",
    "if module_path not in sys.path:\n",
    "    print('Adding training module.')\n",
    "    sys.path.append(module_path)\n",
    "from training import experiment_queue\n",
    "from training import X_TRAIN_PATH, X_VALIDATE_PATH, Y_TRAIN_PATH, Y_VALIDATE_PATH"
   ]
  },
  {
   "cell_type": "markdown",
   "metadata": {},
   "source": [
    "## Train n15"
   ]
  },
  {
   "cell_type": "code",
   "execution_count": null,
   "metadata": {},
   "outputs": [
    {
     "name": "stdout",
     "output_type": "stream",
     "text": [
      "----> Starting experiment ./model-n15-s-cerv-ont-8.py. <----\n"
     ]
    }
   ],
   "source": [
    "experiment_paths = ['./model-n15-s-cerv-ont-8.py']\n",
    "dataset_paths = {\n",
    "    X_TRAIN_PATH: '../dataset-n15-X-reshaped-train.npy',\n",
    "    Y_TRAIN_PATH: '../dataset-n15-y-reshaped-train.npy',\n",
    "    X_VALIDATE_PATH: '../dataset-n15-X-reshaped-validate.npy',\n",
    "    Y_VALIDATE_PATH: '../dataset-n15-y-reshaped-validate.npy'\n",
    "}\n",
    "model_save_paths = ['../model-8.h5']\n",
    "finished_experiments_dir_path = '../finished-experiments/'\n",
    "\n",
    "experiment_queue(experiment_paths, dataset_paths, model_save_paths, finished_experiments_dir_path)"
   ]
  },
  {
   "cell_type": "code",
   "execution_count": null,
   "metadata": {},
   "outputs": [],
   "source": []
  }
 ],
 "metadata": {
  "kernelspec": {
   "display_name": "Python 3",
   "language": "python",
   "name": "python3"
  },
  "language_info": {
   "codemirror_mode": {
    "name": "ipython",
    "version": 3
   },
   "file_extension": ".py",
   "mimetype": "text/x-python",
   "name": "python",
   "nbconvert_exporter": "python",
   "pygments_lexer": "ipython3",
   "version": "3.5.2"
  }
 },
 "nbformat": 4,
 "nbformat_minor": 2
}

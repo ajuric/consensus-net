{
 "cells": [
  {
   "cell_type": "code",
   "execution_count": 1,
   "metadata": {},
   "outputs": [
    {
     "name": "stderr",
     "output_type": "stream",
     "text": [
      "/home/ajuric/.local/lib/python3.5/site-packages/h5py/__init__.py:36: FutureWarning: Conversion of the second argument of issubdtype from `float` to `np.floating` is deprecated. In future, it will be treated as `np.float64 == np.dtype(float).type`.\n",
      "  from ._conv import register_converters as _register_converters\n",
      "Using TensorFlow backend.\n"
     ]
    }
   ],
   "source": [
    "import numpy as np\n",
    "import progressbar\n",
    "from keras.models import Model\n",
    "from keras.layers import Dense, Dropout, Activation, Flatten, BatchNormalization, Input\n",
    "from keras.layers import Conv1D, MaxPooling1D, Conv2D, MaxPool2D\n",
    "from keras.callbacks import LearningRateScheduler, EarlyStopping"
   ]
  },
  {
   "cell_type": "markdown",
   "metadata": {},
   "source": [
    "## Conv1D\n"
   ]
  },
  {
   "cell_type": "code",
   "execution_count": 2,
   "metadata": {},
   "outputs": [
    {
     "name": "stdout",
     "output_type": "stream",
     "text": [
      "input_shape: (10, 5)\n",
      "num_output_classes: 2\n",
      "WARNING:tensorflow:From /usr/local/lib/python3.5/dist-packages/tensorflow/python/util/deprecation.py:497: calling conv1d (from tensorflow.python.ops.nn_ops) with data_format=NHWC is deprecated and will be removed in a future version.\n",
      "Instructions for updating:\n",
      "`NHWC` for data_format is deprecated, use `NWC` instead\n"
     ]
    }
   ],
   "source": [
    "data = np.array([\n",
    "    [20, 0, 12, 6, 5],\n",
    "    [10, 0, 10, 4, 6],\n",
    "    [21, 2, 11, 4, 4],\n",
    "    [22, 0, 10, 3, 6],\n",
    "    [20, 1, 10, 4, 5],\n",
    "    [40, 0, 9, 4, 5],\n",
    "    [41, 0, 10, 4, 4],\n",
    "    [42, 4, 10, 6, 5],\n",
    "    [39, 0, 10, 4, 5],\n",
    "    [38, 9, 13, 3, 5],\n",
    "])\n",
    "\n",
    "labels = np.array([\n",
    "    [1, 0],\n",
    "    [1, 0],\n",
    "    [1, 0],\n",
    "    [1, 0],\n",
    "    [1, 0],\n",
    "    [0, 1],\n",
    "    [0, 1],\n",
    "    [0, 1],\n",
    "    [0, 1],\n",
    "    [0, 1],\n",
    "])\n",
    "\n",
    "input_shape = data.shape[0:]\n",
    "# input_shape = (None, 5)\n",
    "num_output_classes = labels.shape[1]\n",
    "\n",
    "print('input_shape:', input_shape)\n",
    "print('num_output_classes:', num_output_classes)\n",
    "\n",
    "input_layer = Input(shape=input_shape)\n",
    "conv_1 = Conv1D(filters=2, kernel_size=3, padding='same', activation='relu')(input_layer)\n",
    "# pool_1 = MaxPool2D(pool_size=(2, 1))(conv_1)\n",
    "# conv_2 = Conv2D(filters=40, kernel_size=3, padding='same', activation='relu')(pool_1)\n",
    "\n",
    "flatten = Flatten()(conv_1)\n",
    "predictions = Dense(num_output_classes, activation='softmax')(flatten)\n",
    "\n",
    "model = Model(input_layer, predictions)\n",
    "\n",
    "model.compile(loss='categorical_crossentropy',\n",
    "              optimizer='adam',\n",
    "              metrics=['accuracy'])\n"
   ]
  },
  {
   "cell_type": "code",
   "execution_count": 3,
   "metadata": {},
   "outputs": [],
   "source": [
    "X = np.load('/home/ajuric/faks/sem4/diplomski/consensus-net/experiments/blade/morganela-morgani-NCTC235/pysam-dataset-n3-X.npy')\n",
    "y = np.load('/home/ajuric/faks/sem4/diplomski/consensus-net/experiments/blade/morganela-morgani-NCTC235/pysam-dataset-n3-y.npy')"
   ]
  },
  {
   "cell_type": "code",
   "execution_count": 4,
   "metadata": {},
   "outputs": [
    {
     "name": "stdout",
     "output_type": "stream",
     "text": [
      "(3573946, 7, 4)\n",
      "(3573946, 4)\n"
     ]
    }
   ],
   "source": [
    "print(X.shape)\n",
    "print(y.shape)"
   ]
  },
  {
   "cell_type": "code",
   "execution_count": 5,
   "metadata": {},
   "outputs": [
    {
     "name": "stdout",
     "output_type": "stream",
     "text": [
      "input_shape: (7, 4)\n",
      "num_output_classes: 4\n",
      "_________________________________________________________________\n",
      "Layer (type)                 Output Shape              Param #   \n",
      "=================================================================\n",
      "input_2 (InputLayer)         (None, 7, 4)              0         \n",
      "_________________________________________________________________\n",
      "conv1d_2 (Conv1D)            (None, 7, 2)              18        \n",
      "_________________________________________________________________\n",
      "flatten_2 (Flatten)          (None, 14)                0         \n",
      "_________________________________________________________________\n",
      "dense_2 (Dense)              (None, 4)                 60        \n",
      "=================================================================\n",
      "Total params: 78\n",
      "Trainable params: 78\n",
      "Non-trainable params: 0\n",
      "_________________________________________________________________\n",
      "None\n"
     ]
    }
   ],
   "source": [
    "input_shape = X.shape[1:]\n",
    "# input_shape = (None, 5)\n",
    "num_output_classes = y.shape[1]\n",
    "\n",
    "print('input_shape:', input_shape)\n",
    "print('num_output_classes:', num_output_classes)\n",
    "\n",
    "input_layer = Input(shape=input_shape)\n",
    "conv_1 = Conv1D(filters=2, kernel_size=2, padding='same', activation='relu')(input_layer)\n",
    "# pool_1 = MaxPool2D(pool_size=(2, 1))(conv_1)\n",
    "# conv_2 = Conv2D(filters=40, kernel_size=3, padding='same', activation='relu')(pool_1)\n",
    "\n",
    "flatten = Flatten()(conv_1)\n",
    "predictions = Dense(num_output_classes, activation='softmax')(flatten)\n",
    "\n",
    "model = Model(input_layer, predictions)\n",
    "\n",
    "model.compile(loss='categorical_crossentropy',\n",
    "              optimizer='adam',\n",
    "              metrics=['accuracy'])\n",
    "print(model.summary())"
   ]
  },
  {
   "cell_type": "code",
   "execution_count": 6,
   "metadata": {},
   "outputs": [],
   "source": [
    "batch_size = 1000\n",
    "epochs = 5"
   ]
  },
  {
   "cell_type": "code",
   "execution_count": 7,
   "metadata": {},
   "outputs": [
    {
     "name": "stdout",
     "output_type": "stream",
     "text": [
      "Epoch 1/5\n",
      "3573946/3573946 [==============================] - 11s 3us/step - loss: 0.9149 - acc: 0.8289\n",
      "Epoch 2/5\n",
      "3573946/3573946 [==============================] - 10s 3us/step - loss: 0.0694 - acc: 0.9893\n",
      "Epoch 3/5\n",
      "3573946/3573946 [==============================] - 10s 3us/step - loss: 0.0658 - acc: 0.9895\n",
      "Epoch 4/5\n",
      "3573946/3573946 [==============================] - 10s 3us/step - loss: 0.0646 - acc: 0.9897\n",
      "Epoch 5/5\n",
      "3573946/3573946 [==============================] - 10s 3us/step - loss: 0.0630 - acc: 0.9898\n"
     ]
    },
    {
     "data": {
      "text/plain": [
       "<keras.callbacks.History at 0x7f4e2afc1b00>"
      ]
     },
     "execution_count": 7,
     "metadata": {},
     "output_type": "execute_result"
    }
   ],
   "source": [
    "model.fit(X, y, batch_size=batch_size, epochs=epochs)"
   ]
  },
  {
   "cell_type": "markdown",
   "metadata": {},
   "source": [
    "## Conv2D"
   ]
  },
  {
   "cell_type": "code",
   "execution_count": 8,
   "metadata": {},
   "outputs": [
    {
     "name": "stdout",
     "output_type": "stream",
     "text": [
      "input_shape: (7, 4)\n",
      "num_output_classes: 4\n"
     ]
    },
    {
     "ename": "ValueError",
     "evalue": "Input 0 is incompatible with layer conv2d_1: expected ndim=4, found ndim=3",
     "output_type": "error",
     "traceback": [
      "\u001b[0;31m---------------------------------------------------------------------------\u001b[0m",
      "\u001b[0;31mValueError\u001b[0m                                Traceback (most recent call last)",
      "\u001b[0;32m<ipython-input-8-609917599207>\u001b[0m in \u001b[0;36m<module>\u001b[0;34m()\u001b[0m\n\u001b[1;32m      7\u001b[0m \u001b[0;34m\u001b[0m\u001b[0m\n\u001b[1;32m      8\u001b[0m \u001b[0minput_layer\u001b[0m \u001b[0;34m=\u001b[0m \u001b[0mInput\u001b[0m\u001b[0;34m(\u001b[0m\u001b[0mshape\u001b[0m\u001b[0;34m=\u001b[0m\u001b[0minput_shape\u001b[0m\u001b[0;34m)\u001b[0m\u001b[0;34m\u001b[0m\u001b[0m\n\u001b[0;32m----> 9\u001b[0;31m \u001b[0mconv_1\u001b[0m \u001b[0;34m=\u001b[0m \u001b[0mConv2D\u001b[0m\u001b[0;34m(\u001b[0m\u001b[0mfilters\u001b[0m\u001b[0;34m=\u001b[0m\u001b[0;36m2\u001b[0m\u001b[0;34m,\u001b[0m \u001b[0mkernel_size\u001b[0m\u001b[0;34m=\u001b[0m\u001b[0;36m2\u001b[0m\u001b[0;34m,\u001b[0m \u001b[0mpadding\u001b[0m\u001b[0;34m=\u001b[0m\u001b[0;34m'same'\u001b[0m\u001b[0;34m,\u001b[0m \u001b[0mactivation\u001b[0m\u001b[0;34m=\u001b[0m\u001b[0;34m'relu'\u001b[0m\u001b[0;34m)\u001b[0m\u001b[0;34m(\u001b[0m\u001b[0minput_layer\u001b[0m\u001b[0;34m)\u001b[0m\u001b[0;34m\u001b[0m\u001b[0m\n\u001b[0m\u001b[1;32m     10\u001b[0m \u001b[0;31m# pool_1 = MaxPool2D(pool_size=(2, 1))(conv_1)\u001b[0m\u001b[0;34m\u001b[0m\u001b[0;34m\u001b[0m\u001b[0m\n\u001b[1;32m     11\u001b[0m \u001b[0;31m# conv_2 = Conv2D(filters=40, kernel_size=3, padding='same', activation='relu')(pool_1)\u001b[0m\u001b[0;34m\u001b[0m\u001b[0;34m\u001b[0m\u001b[0m\n",
      "\u001b[0;32m~/.local/lib/python3.5/site-packages/keras/engine/topology.py\u001b[0m in \u001b[0;36m__call__\u001b[0;34m(self, inputs, **kwargs)\u001b[0m\n\u001b[1;32m    573\u001b[0m                 \u001b[0;31m# Raise exceptions in case the input is not compatible\u001b[0m\u001b[0;34m\u001b[0m\u001b[0;34m\u001b[0m\u001b[0m\n\u001b[1;32m    574\u001b[0m                 \u001b[0;31m# with the input_spec specified in the layer constructor.\u001b[0m\u001b[0;34m\u001b[0m\u001b[0;34m\u001b[0m\u001b[0m\n\u001b[0;32m--> 575\u001b[0;31m                 \u001b[0mself\u001b[0m\u001b[0;34m.\u001b[0m\u001b[0massert_input_compatibility\u001b[0m\u001b[0;34m(\u001b[0m\u001b[0minputs\u001b[0m\u001b[0;34m)\u001b[0m\u001b[0;34m\u001b[0m\u001b[0m\n\u001b[0m\u001b[1;32m    576\u001b[0m \u001b[0;34m\u001b[0m\u001b[0m\n\u001b[1;32m    577\u001b[0m                 \u001b[0;31m# Collect input shapes to build layer.\u001b[0m\u001b[0;34m\u001b[0m\u001b[0;34m\u001b[0m\u001b[0m\n",
      "\u001b[0;32m~/.local/lib/python3.5/site-packages/keras/engine/topology.py\u001b[0m in \u001b[0;36massert_input_compatibility\u001b[0;34m(self, inputs)\u001b[0m\n\u001b[1;32m    472\u001b[0m                                      \u001b[0mself\u001b[0m\u001b[0;34m.\u001b[0m\u001b[0mname\u001b[0m \u001b[0;34m+\u001b[0m \u001b[0;34m': expected ndim='\u001b[0m \u001b[0;34m+\u001b[0m\u001b[0;34m\u001b[0m\u001b[0m\n\u001b[1;32m    473\u001b[0m                                      \u001b[0mstr\u001b[0m\u001b[0;34m(\u001b[0m\u001b[0mspec\u001b[0m\u001b[0;34m.\u001b[0m\u001b[0mndim\u001b[0m\u001b[0;34m)\u001b[0m \u001b[0;34m+\u001b[0m \u001b[0;34m', found ndim='\u001b[0m \u001b[0;34m+\u001b[0m\u001b[0;34m\u001b[0m\u001b[0m\n\u001b[0;32m--> 474\u001b[0;31m                                      str(K.ndim(x)))\n\u001b[0m\u001b[1;32m    475\u001b[0m             \u001b[0;32mif\u001b[0m \u001b[0mspec\u001b[0m\u001b[0;34m.\u001b[0m\u001b[0mmax_ndim\u001b[0m \u001b[0;32mis\u001b[0m \u001b[0;32mnot\u001b[0m \u001b[0;32mNone\u001b[0m\u001b[0;34m:\u001b[0m\u001b[0;34m\u001b[0m\u001b[0m\n\u001b[1;32m    476\u001b[0m                 \u001b[0mndim\u001b[0m \u001b[0;34m=\u001b[0m \u001b[0mK\u001b[0m\u001b[0;34m.\u001b[0m\u001b[0mndim\u001b[0m\u001b[0;34m(\u001b[0m\u001b[0mx\u001b[0m\u001b[0;34m)\u001b[0m\u001b[0;34m\u001b[0m\u001b[0m\n",
      "\u001b[0;31mValueError\u001b[0m: Input 0 is incompatible with layer conv2d_1: expected ndim=4, found ndim=3"
     ]
    }
   ],
   "source": [
    "input_shape = X.shape[1:]\n",
    "# input_shape = (None, 5)\n",
    "num_output_classes = y.shape[1]\n",
    "\n",
    "print('input_shape:', input_shape)\n",
    "print('num_output_classes:', num_output_classes)\n",
    "\n",
    "input_layer = Input(shape=input_shape)\n",
    "conv_1 = Conv2D(filters=2, kernel_size=2, padding='same', activation='relu')(input_layer)\n",
    "# pool_1 = MaxPool2D(pool_size=(2, 1))(conv_1)\n",
    "# conv_2 = Conv2D(filters=40, kernel_size=3, padding='same', activation='relu')(pool_1)\n",
    "\n",
    "flatten = Flatten()(conv_1)\n",
    "predictions = Dense(num_output_classes, activation='softmax')(flatten)\n",
    "\n",
    "model = Model(input_layer, predictions)\n",
    "\n",
    "model.compile(loss='categorical_crossentropy',\n",
    "              optimizer='adam',\n",
    "              metrics=['accuracy'])\n",
    "print(model.summary())"
   ]
  },
  {
   "cell_type": "code",
   "execution_count": 29,
   "metadata": {},
   "outputs": [],
   "source": [
    "batch_size = 1000\n",
    "epochs = 5"
   ]
  },
  {
   "cell_type": "code",
   "execution_count": 30,
   "metadata": {},
   "outputs": [
    {
     "name": "stdout",
     "output_type": "stream",
     "text": [
      "Epoch 1/5\n",
      "3573946/3573946 [==============================] - 10s 3us/step - loss: 1.1184 - acc: 0.7185\n",
      "Epoch 2/5\n",
      "3573946/3573946 [==============================] - 10s 3us/step - loss: 0.1915 - acc: 0.9288\n",
      "Epoch 3/5\n",
      "3573946/3573946 [==============================] - 10s 3us/step - loss: 0.0627 - acc: 0.9876\n",
      "Epoch 4/5\n",
      "3573946/3573946 [==============================] - 10s 3us/step - loss: 0.0570 - acc: 0.9881\n",
      "Epoch 5/5\n",
      "3573946/3573946 [==============================] - 10s 3us/step - loss: 0.0551 - acc: 0.9884\n"
     ]
    },
    {
     "data": {
      "text/plain": [
       "<keras.callbacks.History at 0x7fa10cb6fc50>"
      ]
     },
     "execution_count": 30,
     "metadata": {},
     "output_type": "execute_result"
    }
   ],
   "source": [
    "model.fit(X, y, batch_size=batch_size, epochs=epochs)"
   ]
  },
  {
   "cell_type": "markdown",
   "metadata": {},
   "source": [
    "## Reshaping input"
   ]
  },
  {
   "cell_type": "code",
   "execution_count": 9,
   "metadata": {},
   "outputs": [
    {
     "name": "stderr",
     "output_type": "stream",
     "text": [
      "  0% (13519 of 3573946) |                 | Elapsed Time: 0:00:00 ETA:  0:00:53"
     ]
    },
    {
     "name": "stdout",
     "output_type": "stream",
     "text": [
      "X shape before reshaping: (3573946, 7, 4)\n",
      "y shape before reshaping: (3573946, 4)\n"
     ]
    },
    {
     "name": "stderr",
     "output_type": "stream",
     "text": [
      "100% (3573946 of 3573946) |###############| Elapsed Time: 0:00:54 Time: 0:00:54\n"
     ]
    },
    {
     "name": "stdout",
     "output_type": "stream",
     "text": [
      "X shape after reshaping: (3573946, 7, 1, 4)\n",
      "y shape after reshaping: (3573946, 4)\n"
     ]
    }
   ],
   "source": [
    "X_list, y_list = [X], [y\n",
    "                      ]\n",
    "reshaped_X_list, reshaped_y_list = list(), list()\n",
    "for X, y in zip(X_list, y_list):\n",
    "    print('X shape before reshaping:', X.shape)\n",
    "    print('y shape before reshaping:', y.shape)\n",
    "\n",
    "    new_X = list()\n",
    "    neighbourhood_size = X[0].shape[0]\n",
    "    # Number of columns is equal to the number of letters in dataset (A, C,\n",
    "    # G, T, I, D, ...).\n",
    "    num_columns = X[0].shape[1]\n",
    "    num_data = X.shape[0]\n",
    "    with progressbar.ProgressBar(max_value=num_data) as progress_bar:\n",
    "        for i, xi in enumerate(X):\n",
    "            new_xi = np.dstack(\n",
    "                [xi[:, col_index].reshape(neighbourhood_size, 1)\n",
    "                 for col_index in range(num_columns)]\n",
    "            )\n",
    "            new_X.append(new_xi)\n",
    "            progress_bar.update(i)\n",
    "\n",
    "    new_X = np.array(new_X)\n",
    "    X = new_X\n",
    "    print('X shape after reshaping:', X.shape)\n",
    "    print('y shape after reshaping:', y.shape)\n",
    "\n",
    "    reshaped_X_list.append(X), reshaped_y_list.append(y)"
   ]
  },
  {
   "cell_type": "code",
   "execution_count": 11,
   "metadata": {},
   "outputs": [
    {
     "name": "stdout",
     "output_type": "stream",
     "text": [
      "input_shape: (7, 1, 4)\n",
      "num_output_classes: 4\n",
      "_________________________________________________________________\n",
      "Layer (type)                 Output Shape              Param #   \n",
      "=================================================================\n",
      "input_5 (InputLayer)         (None, 7, 1, 4)           0         \n",
      "_________________________________________________________________\n",
      "conv2d_3 (Conv2D)            (None, 7, 1, 2)           34        \n",
      "_________________________________________________________________\n",
      "flatten_4 (Flatten)          (None, 14)                0         \n",
      "_________________________________________________________________\n",
      "dense_4 (Dense)              (None, 4)                 60        \n",
      "=================================================================\n",
      "Total params: 94\n",
      "Trainable params: 94\n",
      "Non-trainable params: 0\n",
      "_________________________________________________________________\n",
      "None\n"
     ]
    }
   ],
   "source": [
    "reshaped_X = reshaped_X_list[0]\n",
    "reshaped_y = reshaped_y_list[0]\n",
    "\n",
    "input_shape = reshaped_X.shape[1:]\n",
    "# input_shape = (None, 5)\n",
    "num_output_classes = reshaped_y.shape[1]\n",
    "\n",
    "print('input_shape:', input_shape)\n",
    "print('num_output_classes:', num_output_classes)\n",
    "\n",
    "input_layer = Input(shape=input_shape)\n",
    "conv_1 = Conv2D(filters=2, kernel_size=2, padding='same', activation='relu')(input_layer)\n",
    "# pool_1 = MaxPool2D(pool_size=(2, 1))(conv_1)\n",
    "# conv_2 = Conv2D(filters=40, kernel_size=3, padding='same', activation='relu')(pool_1)\n",
    "\n",
    "flatten = Flatten()(conv_1)\n",
    "predictions = Dense(num_output_classes, activation='softmax')(flatten)\n",
    "\n",
    "model = Model(input_layer, predictions)\n",
    "\n",
    "model.compile(loss='categorical_crossentropy',\n",
    "              optimizer='adam',\n",
    "              metrics=['accuracy'])\n",
    "print(model.summary())"
   ]
  },
  {
   "cell_type": "code",
   "execution_count": 12,
   "metadata": {},
   "outputs": [],
   "source": [
    "batch_size = 1000\n",
    "epochs = 5"
   ]
  },
  {
   "cell_type": "code",
   "execution_count": 13,
   "metadata": {},
   "outputs": [
    {
     "name": "stdout",
     "output_type": "stream",
     "text": [
      "Epoch 1/5\n",
      "3573946/3573946 [==============================] - 11s 3us/step - loss: 0.7914 - acc: 0.8467\n",
      "Epoch 2/5\n",
      "3573946/3573946 [==============================] - 11s 3us/step - loss: 0.1198 - acc: 0.9867\n",
      "Epoch 3/5\n",
      "3573946/3573946 [==============================] - 10s 3us/step - loss: 0.1183 - acc: 0.9871\n",
      "Epoch 4/5\n",
      "3573946/3573946 [==============================] - 10s 3us/step - loss: 0.1094 - acc: 0.9879\n",
      "Epoch 5/5\n",
      "3573946/3573946 [==============================] - 11s 3us/step - loss: 0.0566 - acc: 0.9887\n"
     ]
    },
    {
     "data": {
      "text/plain": [
       "<keras.callbacks.History at 0x7f4dec16efd0>"
      ]
     },
     "execution_count": 13,
     "metadata": {},
     "output_type": "execute_result"
    }
   ],
   "source": [
    "model.fit(X, y, batch_size=batch_size, epochs=epochs)"
   ]
  },
  {
   "cell_type": "code",
   "execution_count": null,
   "metadata": {},
   "outputs": [],
   "source": [
    "input_shape = X_train.shape[1:]\n",
    "num_output_classes = y_train.shape[1]\n",
    "\n",
    "input_layer = Input(shape=input_shape)\n",
    "conv_1 = Conv2D(filters=40, kernel_size=3, padding='same', activation='relu')(input_layer)\n",
    "pool_1 = MaxPool2D(pool_size=(2, 1))(conv_1)\n",
    "conv_2 = Conv2D(filters=40, kernel_size=3, padding='same', activation='relu')(pool_1)\n",
    "\n",
    "flatten = Flatten()(conv_2)\n",
    "predictions = Dense(num_output_classes, activation='softmax')(flatten)\n",
    "\n",
    "model = Model(input_layer, predictions)\n",
    "\n",
    "model.compile(loss='categorical_crossentropy',\n",
    "              optimizer='adam',\n",
    "              metrics=['accuracy'])"
   ]
  }
 ],
 "metadata": {
  "kernelspec": {
   "display_name": "Python 3",
   "language": "python",
   "name": "python3"
  },
  "language_info": {
   "codemirror_mode": {
    "name": "ipython",
    "version": 3
   },
   "file_extension": ".py",
   "mimetype": "text/x-python",
   "name": "python",
   "nbconvert_exporter": "python",
   "pygments_lexer": "ipython3",
   "version": "3.5.2"
  }
 },
 "nbformat": 4,
 "nbformat_minor": 2
}
